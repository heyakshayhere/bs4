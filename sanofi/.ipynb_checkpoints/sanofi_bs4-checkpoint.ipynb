{
 "cells": [
  {
   "cell_type": "code",
   "execution_count": 1,
   "id": "4b23ac29",
   "metadata": {
    "ExecuteTime": {
     "end_time": "2022-05-16T15:57:20.490198Z",
     "start_time": "2022-05-16T15:57:19.730124Z"
    }
   },
   "outputs": [
    {
     "data": {
      "application/javascript": [
       "IPython.notebook.set_autosave_interval(1000)"
      ]
     },
     "metadata": {},
     "output_type": "display_data"
    },
    {
     "name": "stdout",
     "output_type": "stream",
     "text": [
      "Autosaving every 1 seconds\n"
     ]
    }
   ],
   "source": [
    "from selenium import webdriver\n",
    "from selenium.webdriver.common.by import By\n",
    "import sys,bs4,re,time,requests,pandas as pd\n",
    "from bs4 import BeautifulSoup\n",
    "\n",
    "import warnings\n",
    "warnings.filterwarnings(\"ignore\")\n",
    "\n",
    "%autosave 1"
   ]
  },
  {
   "cell_type": "code",
   "execution_count": 2,
   "id": "3a8ed464",
   "metadata": {
    "ExecuteTime": {
     "end_time": "2022-05-16T15:57:20.505616Z",
     "start_time": "2022-05-16T15:57:20.490893Z"
    }
   },
   "outputs": [],
   "source": [
    "def parse_webpage_bs(search_url):\n",
    "    headers = {\n",
    "        \"User-Agent\": \"Mozilla/5.0 (Windows NT 10.0; Win64; x64; rv:90.0) Gecko/20100101 Firefox/90.0\"}\n",
    "    try:\n",
    "        site_request = requests.get(search_url, headers=headers, timeout=10)\n",
    "    except requests.exceptions.RequestException as e:\n",
    "        print(e)\n",
    "        site_request = None\n",
    "    if site_request != None and site_request.status_code==200:\n",
    "        site_soup = bs4.BeautifulSoup(site_request.content, \"lxml\")\n",
    "    else:\n",
    "        site_soup = None\n",
    "    return site_soup"
   ]
  },
  {
   "cell_type": "code",
   "execution_count": 3,
   "id": "d0e5f707",
   "metadata": {
    "ExecuteTime": {
     "end_time": "2022-05-16T15:57:20.882560Z",
     "start_time": "2022-05-16T15:57:20.507578Z"
    },
    "scrolled": false
   },
   "outputs": [],
   "source": [
    "titles,hrefs,dates = [],[],[]\n",
    "start_year = 2022\n",
    "end_year = 2022\n",
    "\n",
    "for y in range(start_year,end_year+1):\n",
    "    url = f\"https://www.sanofi.com/en/media-room/press-releases/{y}#\"\n",
    "    soup = parse_webpage_bs(url)\n",
    "    \n",
    "    all_container = soup.findAll('div',{'class' :'osw-pagelist-element-col osw-pagelist-element-col-100'})\n",
    "\n",
    "    for d in all_container:\n",
    "        date = d.text\n",
    "        dates.append(date[:10])\n",
    "\n",
    "    for h in all_container:\n",
    "        href = \"https://www.sanofi.com\" + h.find(\"a\")['href']\n",
    "        hrefs.append(href)\n",
    "\n",
    "    for t in all_container:\n",
    "        title = t.find(\"a\")['title']\n",
    "        titles.append(title)   "
   ]
  },
  {
   "cell_type": "code",
   "execution_count": 4,
   "id": "73aa79f2",
   "metadata": {
    "ExecuteTime": {
     "end_time": "2022-05-16T15:58:29.912299Z",
     "start_time": "2022-05-16T15:57:20.884570Z"
    }
   },
   "outputs": [
    {
     "name": "stdout",
     "output_type": "stream",
     "text": [
      "0 url remaining...\r"
     ]
    }
   ],
   "source": [
    "articles = []\n",
    "\n",
    "for number,link in enumerate(hrefs):\n",
    "    soup = parse_webpage_bs(link)\n",
    "    article_container = soup.findAll('div',{'class' :'osw-page-content-inside osw-bg-white'})\n",
    "    for p in article_container:\n",
    "        articles.append(p.text)\n",
    "    \n",
    "    print(str(len(hrefs)-(number+1)) + \" url remaining..\",end=\"\\r\")"
   ]
  },
  {
   "cell_type": "code",
   "execution_count": 5,
   "id": "f72cc1e6",
   "metadata": {
    "ExecuteTime": {
     "end_time": "2022-05-16T15:58:29.928198Z",
     "start_time": "2022-05-16T15:58:29.913287Z"
    }
   },
   "outputs": [
    {
     "data": {
      "text/html": [
       "<div>\n",
       "<style scoped>\n",
       "    .dataframe tbody tr th:only-of-type {\n",
       "        vertical-align: middle;\n",
       "    }\n",
       "\n",
       "    .dataframe tbody tr th {\n",
       "        vertical-align: top;\n",
       "    }\n",
       "\n",
       "    .dataframe thead th {\n",
       "        text-align: right;\n",
       "    }\n",
       "</style>\n",
       "<table border=\"1\" class=\"dataframe\">\n",
       "  <thead>\n",
       "    <tr style=\"text-align: right;\">\n",
       "      <th></th>\n",
       "      <th>date</th>\n",
       "      <th>title</th>\n",
       "      <th>article</th>\n",
       "      <th>url</th>\n",
       "    </tr>\n",
       "  </thead>\n",
       "  <tbody>\n",
       "    <tr>\n",
       "      <th>0</th>\n",
       "      <td>2022-05-15</td>\n",
       "      <td>Press Release: Sarclisa® (isatuximab) combinat...</td>\n",
       "      <td>\\n\\n\\n\\n\\n\\n\\n\\n\\n\\nPress Release: Sarclisa® (...</td>\n",
       "      <td>https://www.sanofi.com/en/media-room/press-rel...</td>\n",
       "    </tr>\n",
       "    <tr>\n",
       "      <th>1</th>\n",
       "      <td>2022-05-11</td>\n",
       "      <td>Press Release: New nirsevimab data analyses re...</td>\n",
       "      <td>\\n\\n\\n\\n\\n\\n\\n\\n\\n\\nPress Release: New nirsevi...</td>\n",
       "      <td>https://www.sanofi.com/en/media-room/press-rel...</td>\n",
       "    </tr>\n",
       "    <tr>\n",
       "      <th>2</th>\n",
       "      <td>2022-05-04</td>\n",
       "      <td>Press Release: Foundation S: Sanofi’s new phil...</td>\n",
       "      <td>\\n\\n\\n\\n\\n\\n\\n\\n\\n\\nPress Release: Foundation ...</td>\n",
       "      <td>https://www.sanofi.com/en/media-room/press-rel...</td>\n",
       "    </tr>\n",
       "    <tr>\n",
       "      <th>3</th>\n",
       "      <td>2022-05-03</td>\n",
       "      <td>Press Release: Annual General Meeting of May 3...</td>\n",
       "      <td>\\n\\n\\n\\n\\n\\n\\n\\n\\n\\nPress Release: Annual Gene...</td>\n",
       "      <td>https://www.sanofi.com/en/media-room/press-rel...</td>\n",
       "    </tr>\n",
       "    <tr>\n",
       "      <th>4</th>\n",
       "      <td>2022-04-28</td>\n",
       "      <td>Press Release: Sanofi continues to deliver str...</td>\n",
       "      <td>\\n\\n\\n\\n\\n\\n\\n\\n\\n\\nPress Release: Sanofi cont...</td>\n",
       "      <td>https://www.sanofi.com/en/media-room/press-rel...</td>\n",
       "    </tr>\n",
       "  </tbody>\n",
       "</table>\n",
       "</div>"
      ],
      "text/plain": [
       "         date                                              title  \\\n",
       "0  2022-05-15  Press Release: Sarclisa® (isatuximab) combinat...   \n",
       "1  2022-05-11  Press Release: New nirsevimab data analyses re...   \n",
       "2  2022-05-04  Press Release: Foundation S: Sanofi’s new phil...   \n",
       "3  2022-05-03  Press Release: Annual General Meeting of May 3...   \n",
       "4  2022-04-28  Press Release: Sanofi continues to deliver str...   \n",
       "\n",
       "                                             article  \\\n",
       "0  \\n\\n\\n\\n\\n\\n\\n\\n\\n\\nPress Release: Sarclisa® (...   \n",
       "1  \\n\\n\\n\\n\\n\\n\\n\\n\\n\\nPress Release: New nirsevi...   \n",
       "2  \\n\\n\\n\\n\\n\\n\\n\\n\\n\\nPress Release: Foundation ...   \n",
       "3  \\n\\n\\n\\n\\n\\n\\n\\n\\n\\nPress Release: Annual Gene...   \n",
       "4  \\n\\n\\n\\n\\n\\n\\n\\n\\n\\nPress Release: Sanofi cont...   \n",
       "\n",
       "                                                 url  \n",
       "0  https://www.sanofi.com/en/media-room/press-rel...  \n",
       "1  https://www.sanofi.com/en/media-room/press-rel...  \n",
       "2  https://www.sanofi.com/en/media-room/press-rel...  \n",
       "3  https://www.sanofi.com/en/media-room/press-rel...  \n",
       "4  https://www.sanofi.com/en/media-room/press-rel...  "
      ]
     },
     "execution_count": 5,
     "metadata": {},
     "output_type": "execute_result"
    }
   ],
   "source": [
    "#zippling the list so that it'll form the tuple\n",
    "zipped = list(zip(dates,titles,articles,hrefs))\n",
    "#creating dataframe \n",
    "temp_df = pd.DataFrame(zipped,columns=['date','title','article','url'])\n",
    "temp_df.head()"
   ]
  },
  {
   "cell_type": "code",
   "execution_count": 6,
   "id": "7ebe091a",
   "metadata": {
    "ExecuteTime": {
     "end_time": "2022-05-16T15:58:29.974371Z",
     "start_time": "2022-05-16T15:58:29.930193Z"
    }
   },
   "outputs": [],
   "source": [
    "#to csv\n",
    "temp_df.to_csv('sanofi news.csv')\n",
    "\n",
    "#to json\n",
    "temp_df.to_json('sanofi news.json')"
   ]
  }
 ],
 "metadata": {
  "kernelspec": {
   "display_name": "Python 3 (ipykernel)",
   "language": "python",
   "name": "python3"
  },
  "language_info": {
   "codemirror_mode": {
    "name": "ipython",
    "version": 3
   },
   "file_extension": ".py",
   "mimetype": "text/x-python",
   "name": "python",
   "nbconvert_exporter": "python",
   "pygments_lexer": "ipython3",
   "version": "3.9.7"
  },
  "toc": {
   "base_numbering": 1,
   "nav_menu": {},
   "number_sections": true,
   "sideBar": true,
   "skip_h1_title": false,
   "title_cell": "Table of Contents",
   "title_sidebar": "Contents",
   "toc_cell": false,
   "toc_position": {},
   "toc_section_display": true,
   "toc_window_display": false
  }
 },
 "nbformat": 4,
 "nbformat_minor": 5
}
