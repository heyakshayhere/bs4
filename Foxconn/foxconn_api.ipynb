{
 "cells": [
  {
   "cell_type": "code",
   "execution_count": 1,
   "id": "dc49f070",
   "metadata": {
    "ExecuteTime": {
     "end_time": "2022-05-04T06:01:23.553243Z",
     "start_time": "2022-05-04T06:01:22.955800Z"
    }
   },
   "outputs": [
    {
     "data": {
      "application/javascript": [
       "IPython.notebook.set_autosave_interval(1000)"
      ]
     },
     "metadata": {},
     "output_type": "display_data"
    },
    {
     "name": "stdout",
     "output_type": "stream",
     "text": [
      "Autosaving every 1 seconds\n"
     ]
    }
   ],
   "source": [
    "import pandas as pd,requests\n",
    "\n",
    "import warnings\n",
    "warnings.filterwarnings(\"ignore\")\n",
    "\n",
    "%autosave 1"
   ]
  },
  {
   "cell_type": "code",
   "execution_count": 2,
   "id": "eec12c79",
   "metadata": {
    "ExecuteTime": {
     "end_time": "2022-05-04T06:01:33.484963Z",
     "start_time": "2022-05-04T06:01:23.556167Z"
    },
    "scrolled": false
   },
   "outputs": [
    {
     "name": "stdout",
     "output_type": "stream",
     "text": [
      "0 pages remaining...\r"
     ]
    }
   ],
   "source": [
    "titles,thumbnails,articles,dates = [],[],[],[]\n",
    "\n",
    "range_count = 30\n",
    "\n",
    "for x in range(range_count):\n",
    "    api = f\"https://www.foxconn.com/api/en-us/news?page={x}\"\n",
    "    req = requests.get(api)\n",
    "    json = req.json()\n",
    "    for i in range(25):\n",
    "        try:\n",
    "            data = json['data'][i]\n",
    "            title = data['title']\n",
    "            thumbnail = data['thumbnail']\n",
    "            content = data['content']\n",
    "            date = data['published_date']\n",
    "            titles.append(title)\n",
    "            thumbnails.append(thumbnail)\n",
    "            articles.append(content)\n",
    "            dates.append(date)\n",
    "        except:\n",
    "            pass\n",
    "    \n",
    "    print(str(range_count-(x+1)) + \" pages remaining..\",end=\"\\r\")"
   ]
  },
  {
   "cell_type": "code",
   "execution_count": 3,
   "id": "04ee1e22",
   "metadata": {
    "ExecuteTime": {
     "end_time": "2022-05-04T06:01:33.500922Z",
     "start_time": "2022-05-04T06:01:33.486003Z"
    },
    "scrolled": true
   },
   "outputs": [
    {
     "data": {
      "text/plain": [
       "[('2021/10/13', 'Hon Hai Tech Day Live streaming!', '\\xa0', ''),\n",
       " ('2021/10/13',\n",
       "  'Hon Hai’s Sustainable Actions Recognized by TSAA with Three Gold Awards',\n",
       "  'Hon Hai is the sole company in Taiwan’s manufacturing industry to be awarded the accolades for their ESG initiatives\\nHon Hai Technology Group (TWES:2317)(Foxconn), the world&#39;s largest technology manufacturer and service provider, has been again honored for the dedication towards building sustainable operations. Hon Hai won three gold awards at the Taiwan Sustainability Action Award (TSAA) and was also given high recognition for how the company implemented the United Nations Sustainable Development Goals (SDGs) into our ESG initiatives, while also integrating with the international community, and establishing a replicable successful business model.\\nTaiwan Academy of Corporate Sustainability (TACS) established the Taiwan Sustainability Action Award (TSAA) to recognize the outstanding achievements and contributions achieved in the implementation of the SDGs in the past year and announced the award list on 13 October. As part of the submission, Hon Hai shared the work of three projects—\"Climate Action 100+ Net Zero Emissions\", \"Technology Education\", and \"Global Lighthouse\". Each of these projects was awarded the gold award, affirmation of the company’s ESG efforts. \\nIn November 2020, Hon Hai announced their plans of achieving \"Climate Action 100+ Net Zero Emissions\" with the objective of fulfilling the goals of SDG7 Affordable and Clean Energy, and SDG12 Responsible Consumption and Production. According to the \"Paris Agreement\", Hon Hai set the goal of achieving the goal of net zero greenhouse gas emissions by 2050. In 2020, the total clean energy consumption has reached 1,048.56 million kWh, which is the equivalent of 62 times of Taipei 101’s annual electricity consumption. The CO2 emission per revenue has dropped by 4.44%, the actual energy saving rate was 5.18%, and the benefit of energy saving was nearly NT$1.339 billion. In addition, Hon Hai also announced and introduced the UL2799 zero waste landfill standard and Turbo Waste management system, and set corresponding \"zero waste goals\" for different manufacturing processes in January 2021.\\nIn response to the goals, SDG1 No Poverty and SDG4 Quality Education, Hon Hai and Foxconn Education Foundation have published Taiwan’s first high school textbook for AI, \" Introduction to Artificial Intelligence\", with their next project set for Taiwan’s first high school textbook on quantum. In parallel, Hon Hai organized high school student teacher training camps, student camps, quantum hackathons, AIGO series, and other activities in the AI and quantum technology areas, in partnership with the Taipei City Government and the Institute for Information Industry. To further build the technological competitiveness of Taiwan, Hon Hai endeavors to continue their efforts in the education of the next generation of talents in the science and technology field. With a forward-looking vision for on global technological development, Hon Hai\\xa0 will continue to spearhead efforts in supporting Taiwan’s bid to become known for their advanced technologies across the world. \\xa0\\nAs the leader of the global electronics manufacturing industry, Hon Hai’s territory spans 24 countries and regions with 137 factories all over the world. To establish a smart manufacturing model for the global manufacturing industry, Hon Hai has continued to improve the operations and manufacturing fields, with the digital transformation of “Foxconn 2.0”. While Hon Hai Te strives towards the goal of “Foxconn 2.0”, the company will continue to focus on “Intelligence” as the core, through Integration Innovation Design Manufacture (IIDM) services, dedicated to creating smart manufacturing and supply chain with integrated software and hardware options, which fulfils the goals of SDG9 Industry, Innovative and Infrastructure, and SDG 12 Responsible Consumption and Production.\\nAs the company made efforts towards digital transformation for smart manufacturing, its Shenzhen campus was first awarded the accolade of being a Lighthouse Factory by the World Economic Forum (WEF) in 2019, followed by the Chengdu campus in 2021. The accolade is awarded to manufacturing leaders who have been successful in applying Fourth Industrial Revolution technologies to achieve profitable growth without increasing their environmental footprint. Confronted with fast-growing demand and labour skill scarcity, Foxconn Chengdu adopted mixed reality, artificial intelligence (AI) and internet of things (IoT) technologies to increase labour efficiency by 200% and improve overall equipment effectiveness by 17%. \\xa0\\nIn September 2021, Zhengzhou and Wuhan were also awarded the accolade— Hon Hai now has 4 WEF lighthouse factory certifications.\\nAs the sole company in Taiwan’s manufacturing industry to win three gold awards in the first Taiwan Sustainability Action Award (TSAA), Hon Hai’s sustainable actions have been recognized in the three fields of ESG. The company will continue to strive towards the principle of, \"SUSTAINABLE MANAGEMENT = EPS + ESG\" by focusing on ESG initiatives while building a sustainable corporate environment.\\n圖說：鴻海拿下三項金獎 永續行動深獲TSAA肯定 董事長特助暨發言人巫俊毅代表領獎。',\n",
       "  'https://image.honhai.com/news/鴻海拿下三項金獎_永續行動深獲TSAA肯定_董事長特助暨發言人巫俊毅代表領獎_1635930563.jpg'),\n",
       " ('2021/10/01',\n",
       "  'Lordstown Motors and Hon Hai Technology Group Announce Agreement in Principle',\n",
       "  'Partnership to work jointly on scalable electric vehicle programs at Lordstown Motors’ assembly plant in Ohio \\nLordstown Motors Corp. (“Lordstown Motors”) (Nasdaq: RIDE), a provider of electric light duty trucks focused on the commercial fleet market, and global technology company Hon Hai Technology Group (“Foxconn”) (TWSE: 2317), today announced that it has reached an agreement in principle to work jointly on Lordstown Motors’ electric vehicle programs in Lordstown Motors’ 6.2 million square foot production and assembly plant in Lordstown, Ohio. Beyond certain customary provisions, the Agreement is non-binding and subject to the negotiation and execution of definitive agreements. The parties on the same date have entered into a subscription agreement, under which Foxconn will purchase approximately $50 million of Lordstown Motors’ common stock directly from Lordstown Motors at a price of $6.8983 per share, the average daily volume adjusted price over the past 15 trading days prior to the execution of the Agreement in Principle. Foxconn has agreed to retain these shares for a specified period.\\nThe agreement between both companies would allow Lordstown Motors to leverage the technology and manufacturing expertise of Foxconn, as Lordstown Motors pursues the production of electric vehicles at its Ohio facility.\\xa0 The goal of the partnership is to present both Lordstown Motors and Foxconn with increased market opportunities in scalable electric vehicle production in North America. \\nThe Agreement provides as follows:\\n●\\xa0Lordstown Motors and Foxconn will use commercially reasonable best efforts to negotiate a definitive agreement pursuant to which Foxconn would purchase the Lordstown facility, excluding Lordstown Motors’ hub motor assembly line, battery module and packing line assets, certain intellectual property rights and other excluded assets, for $230 million.\\n●\\xa0Both entities would also negotiate a contract manufacturing agreement, which would be a condition to closing of the facility purchase, whereby Foxconn would manufacture Lordstown Motors’ Endurance full-size pickup truck at its Lordstown facility.\\xa0 Lordstown Motors would also agree to provide Foxconn with certain rights with respect to future vehicle programs. \\n●\\xa0Concurrently with the closing under the definitive agreements, Lordstown Motors would issue warrants to Foxconn that are exercisable until the third anniversary of the closing for 1.7 million shares of common stock at an exercise price of $10.50 per share. \\n●\\xa0The parties have agreed to explore licensing arrangements for additional pickup truck programs. \\n●\\xa0Following the closing under the definitive agreements, Lordstown Motors would enter into a long-term lease for a portion of the existing facility for its Ohio-based employees, and Foxconn would offer employment to agreed upon Lordstown operational and manufacturing employees.\\xa0 \\nYoung Liu, Chairman of Hon Hai Technology Group, commented “We have high expectations through this partnership that we will be able to successfully integrate our resources with Lordstown Motors. In addition to achieving the goal of moving ahead our timeline to establish electric vehicle production capacity in North America, it also reflects Foxconn’s flexibility in providing design and production services for different EV customers. This mutually beneficial relationship is an important milestone for Foxconn’s EV business and our transformation strategy. I believe that the innovative design of the Endurance pickup truck, with its unique hub motors, delivers an advantageous user experience and has manufacturing efficiencies. It will undoubtedly thrive under our partnership and business model.”\\nIn addition, this facility would serve as a speed to market asset that would also support Foxconn&#39;s partner and customer, Fisker Inc.\\xa0 \\nDaniel Ninivaggi, Chief Executive Officer of Lordstown Motors Corp., stated “We are excited about the prospect of joining forces with a world-class smart manufacturer like Foxconn and believe the relationship would provide operational, technology and supply chain benefits to our company and accelerate overall scaled vehicle production and increase employment in the Lordstown facility.\\xa0 The partnership would allow Lordstown Motors to take advantage of Foxconn’s extensive manufacturing expertise and cost-efficient supply chain, while freeing up Lordstown Motors to focus on bringing the Endurance to market, developing service offerings for our fleet customers and designing and developing innovative new vehicle models.”\\nIn connection with the Foxconn announcement, today Lordstown Motors also provided an updated financial and production outlook.',\n",
       "  '')]"
      ]
     },
     "execution_count": 3,
     "metadata": {},
     "output_type": "execute_result"
    }
   ],
   "source": [
    "#zippling the list so that it'll form the tuple\n",
    "zipped = list(zip(dates,titles,articles,thumbnails))\n",
    "zipped[:3]"
   ]
  },
  {
   "cell_type": "code",
   "execution_count": 4,
   "id": "2190fb98",
   "metadata": {
    "ExecuteTime": {
     "end_time": "2022-05-04T06:01:33.531998Z",
     "start_time": "2022-05-04T06:01:33.502921Z"
    },
    "scrolled": false
   },
   "outputs": [
    {
     "data": {
      "text/html": [
       "<div>\n",
       "<style scoped>\n",
       "    .dataframe tbody tr th:only-of-type {\n",
       "        vertical-align: middle;\n",
       "    }\n",
       "\n",
       "    .dataframe tbody tr th {\n",
       "        vertical-align: top;\n",
       "    }\n",
       "\n",
       "    .dataframe thead th {\n",
       "        text-align: right;\n",
       "    }\n",
       "</style>\n",
       "<table border=\"1\" class=\"dataframe\">\n",
       "  <thead>\n",
       "    <tr style=\"text-align: right;\">\n",
       "      <th></th>\n",
       "      <th>date</th>\n",
       "      <th>title</th>\n",
       "      <th>article</th>\n",
       "      <th>thumbnail</th>\n",
       "    </tr>\n",
       "  </thead>\n",
       "  <tbody>\n",
       "    <tr>\n",
       "      <th>0</th>\n",
       "      <td>2021/10/13</td>\n",
       "      <td>Hon Hai Tech Day Live streaming!</td>\n",
       "      <td></td>\n",
       "      <td></td>\n",
       "    </tr>\n",
       "    <tr>\n",
       "      <th>1</th>\n",
       "      <td>2021/10/13</td>\n",
       "      <td>Hon Hai’s Sustainable Actions Recognized by TS...</td>\n",
       "      <td>Hon Hai is the sole company in Taiwan’s manufa...</td>\n",
       "      <td>https://image.honhai.com/news/鴻海拿下三項金獎_永續行動深獲T...</td>\n",
       "    </tr>\n",
       "    <tr>\n",
       "      <th>2</th>\n",
       "      <td>2021/10/01</td>\n",
       "      <td>Lordstown Motors and Hon Hai Technology Group ...</td>\n",
       "      <td>Partnership to work jointly on scalable electr...</td>\n",
       "      <td></td>\n",
       "    </tr>\n",
       "    <tr>\n",
       "      <th>3</th>\n",
       "      <td>2021/09/14</td>\n",
       "      <td>PTT and Hon Hai celebrate milestone with a joi...</td>\n",
       "      <td>The new automotive manufacturing plant will po...</td>\n",
       "      <td>https://image.honhai.com/news/JVA_PTT_-_Foxcon...</td>\n",
       "    </tr>\n",
       "    <tr>\n",
       "      <th>4</th>\n",
       "      <td>2021/08/24</td>\n",
       "      <td>FIH Mobile and Stellantis Establish Joint Vent...</td>\n",
       "      <td>● Mobile Drive will be equally owned by Stella...</td>\n",
       "      <td></td>\n",
       "    </tr>\n",
       "    <tr>\n",
       "      <th>...</th>\n",
       "      <td>...</td>\n",
       "      <td>...</td>\n",
       "      <td>...</td>\n",
       "      <td>...</td>\n",
       "    </tr>\n",
       "    <tr>\n",
       "      <th>194</th>\n",
       "      <td>2013/03/25</td>\n",
       "      <td>Board of Directors approved Financial Statemen...</td>\n",
       "      <td>\\nDate of occurrence of the event:2013/03/25\\n...</td>\n",
       "      <td></td>\n",
       "    </tr>\n",
       "    <tr>\n",
       "      <th>195</th>\n",
       "      <td>2013/03/13</td>\n",
       "      <td>To announce the corporate bond pricing on beha...</td>\n",
       "      <td>The Company’s subsidiary, Foxconn (Far East) L...</td>\n",
       "      <td></td>\n",
       "    </tr>\n",
       "    <tr>\n",
       "      <th>196</th>\n",
       "      <td>2013/03/08</td>\n",
       "      <td>Hon Hai Announces Un-Audited Monthly Sales End...</td>\n",
       "      <td>\\nStarting from 2013, the company began implem...</td>\n",
       "      <td></td>\n",
       "    </tr>\n",
       "    <tr>\n",
       "      <th>197</th>\n",
       "      <td>2013/02/07</td>\n",
       "      <td>Hon Hai Announces Un-Audited Monthly Sales End...</td>\n",
       "      <td>\\nStarting from 2013, the company began implem...</td>\n",
       "      <td></td>\n",
       "    </tr>\n",
       "    <tr>\n",
       "      <th>198</th>\n",
       "      <td>2013/02/07</td>\n",
       "      <td>Supplement to The Unsecured Corporate Bond Iss...</td>\n",
       "      <td>\\nDate of the board of directors resolution:NA...</td>\n",
       "      <td></td>\n",
       "    </tr>\n",
       "  </tbody>\n",
       "</table>\n",
       "<p>199 rows × 4 columns</p>\n",
       "</div>"
      ],
      "text/plain": [
       "           date                                              title  \\\n",
       "0    2021/10/13                   Hon Hai Tech Day Live streaming!   \n",
       "1    2021/10/13  Hon Hai’s Sustainable Actions Recognized by TS...   \n",
       "2    2021/10/01  Lordstown Motors and Hon Hai Technology Group ...   \n",
       "3    2021/09/14  PTT and Hon Hai celebrate milestone with a joi...   \n",
       "4    2021/08/24  FIH Mobile and Stellantis Establish Joint Vent...   \n",
       "..          ...                                                ...   \n",
       "194  2013/03/25  Board of Directors approved Financial Statemen...   \n",
       "195  2013/03/13  To announce the corporate bond pricing on beha...   \n",
       "196  2013/03/08  Hon Hai Announces Un-Audited Monthly Sales End...   \n",
       "197  2013/02/07  Hon Hai Announces Un-Audited Monthly Sales End...   \n",
       "198  2013/02/07  Supplement to The Unsecured Corporate Bond Iss...   \n",
       "\n",
       "                                               article  \\\n",
       "0                                                        \n",
       "1    Hon Hai is the sole company in Taiwan’s manufa...   \n",
       "2    Partnership to work jointly on scalable electr...   \n",
       "3    The new automotive manufacturing plant will po...   \n",
       "4    ● Mobile Drive will be equally owned by Stella...   \n",
       "..                                                 ...   \n",
       "194  \\nDate of occurrence of the event:2013/03/25\\n...   \n",
       "195  The Company’s subsidiary, Foxconn (Far East) L...   \n",
       "196  \\nStarting from 2013, the company began implem...   \n",
       "197  \\nStarting from 2013, the company began implem...   \n",
       "198  \\nDate of the board of directors resolution:NA...   \n",
       "\n",
       "                                             thumbnail  \n",
       "0                                                       \n",
       "1    https://image.honhai.com/news/鴻海拿下三項金獎_永續行動深獲T...  \n",
       "2                                                       \n",
       "3    https://image.honhai.com/news/JVA_PTT_-_Foxcon...  \n",
       "4                                                       \n",
       "..                                                 ...  \n",
       "194                                                     \n",
       "195                                                     \n",
       "196                                                     \n",
       "197                                                     \n",
       "198                                                     \n",
       "\n",
       "[199 rows x 4 columns]"
      ]
     },
     "execution_count": 4,
     "metadata": {},
     "output_type": "execute_result"
    }
   ],
   "source": [
    "#creating dataframe \n",
    "temp_df = pd.DataFrame(zipped,columns=['date','title','article','thumbnail'])\n",
    "temp_df"
   ]
  },
  {
   "cell_type": "code",
   "execution_count": 5,
   "id": "e7d9caf7",
   "metadata": {
    "ExecuteTime": {
     "end_time": "2022-05-04T06:01:33.595276Z",
     "start_time": "2022-05-04T06:01:33.533863Z"
    }
   },
   "outputs": [],
   "source": [
    "#to csv\n",
    "temp_df.to_csv('foxconn news.csv')\n",
    "\n",
    "#to json\n",
    "temp_df.to_json('foxconn news.json')"
   ]
  }
 ],
 "metadata": {
  "kernelspec": {
   "display_name": "Python 3 (ipykernel)",
   "language": "python",
   "name": "python3"
  },
  "language_info": {
   "codemirror_mode": {
    "name": "ipython",
    "version": 3
   },
   "file_extension": ".py",
   "mimetype": "text/x-python",
   "name": "python",
   "nbconvert_exporter": "python",
   "pygments_lexer": "ipython3",
   "version": "3.9.7"
  },
  "toc": {
   "base_numbering": 1,
   "nav_menu": {},
   "number_sections": true,
   "sideBar": true,
   "skip_h1_title": false,
   "title_cell": "Table of Contents",
   "title_sidebar": "Contents",
   "toc_cell": false,
   "toc_position": {},
   "toc_section_display": true,
   "toc_window_display": false
  }
 },
 "nbformat": 4,
 "nbformat_minor": 5
}
