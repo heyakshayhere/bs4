{
 "cells": [
  {
   "cell_type": "markdown",
   "id": "f0471110",
   "metadata": {},
   "source": [
    "https://www.motorola.com/blog/en-us/all-post-page"
   ]
  },
  {
   "cell_type": "code",
   "execution_count": 1,
   "id": "01cf3464",
   "metadata": {
    "ExecuteTime": {
     "end_time": "2022-05-02T07:19:11.039653Z",
     "start_time": "2022-05-02T07:19:09.194340Z"
    }
   },
   "outputs": [
    {
     "data": {
      "application/javascript": [
       "IPython.notebook.set_autosave_interval(1000)"
      ]
     },
     "metadata": {},
     "output_type": "display_data"
    },
    {
     "name": "stdout",
     "output_type": "stream",
     "text": [
      "Autosaving every 1 seconds\n"
     ]
    }
   ],
   "source": [
    "from selenium import webdriver\n",
    "from selenium.webdriver.common.by import By\n",
    "import sys,bs4,re,time,requests,pandas as pd\n",
    "from bs4 import BeautifulSoup\n",
    "\n",
    "import warnings\n",
    "warnings.filterwarnings(\"ignore\")\n",
    "\n",
    "%autosave 1"
   ]
  },
  {
   "cell_type": "code",
   "execution_count": 2,
   "id": "3a3ba80b",
   "metadata": {
    "ExecuteTime": {
     "end_time": "2022-05-02T07:19:19.462401Z",
     "start_time": "2022-05-02T07:19:11.041648Z"
    }
   },
   "outputs": [
    {
     "name": "stderr",
     "output_type": "stream",
     "text": [
      "\n",
      "\n",
      "====== WebDriver manager ======\n",
      "Current google-chrome version is 100.0.4896\n",
      "Get LATEST chromedriver version for 100.0.4896 google-chrome\n",
      "Trying to download new driver from https://chromedriver.storage.googleapis.com/100.0.4896.60/chromedriver_win32.zip\n",
      "Driver has been saved in cache [C:\\Users\\AKSHAY SATPUTE\\.wdm\\drivers\\chromedriver\\win32\\100.0.4896.60]\n"
     ]
    }
   ],
   "source": [
    "#driver for operation\n",
    "from webdriver_manager.chrome import ChromeDriverManager\n",
    "option = webdriver.ChromeOptions()\n",
    "option.add_argument('headless')\n",
    "driver = webdriver.Chrome(ChromeDriverManager().install()\n",
    "#                           ,options=option\n",
    "                         )"
   ]
  },
  {
   "cell_type": "code",
   "execution_count": 3,
   "id": "e64ae3a8",
   "metadata": {
    "ExecuteTime": {
     "end_time": "2022-05-02T07:19:19.478177Z",
     "start_time": "2022-05-02T07:19:19.462401Z"
    }
   },
   "outputs": [],
   "source": [
    "def parse_webpage_bs(search_url):\n",
    "    headers = {\n",
    "        \"User-Agent\": \"Mozilla/5.0 (Windows NT 10.0; Win64; x64; rv:90.0) Gecko/20100101 Firefox/90.0\"}\n",
    "    try:\n",
    "        site_request = requests.get(search_url, headers=headers, timeout=10)\n",
    "    except requests.exceptions.RequestException as e:\n",
    "        print(e)\n",
    "        site_request = None\n",
    "    if site_request != None and site_request.status_code==200:\n",
    "        site_soup = bs4.BeautifulSoup(site_request.content, \"lxml\")\n",
    "    else:\n",
    "        site_soup = None\n",
    "    return site_soup"
   ]
  },
  {
   "cell_type": "code",
   "execution_count": 4,
   "id": "020ba8ba",
   "metadata": {
    "ExecuteTime": {
     "end_time": "2022-05-02T07:19:49.546832Z",
     "start_time": "2022-05-02T07:19:19.480853Z"
    },
    "scrolled": true
   },
   "outputs": [
    {
     "name": "stdout",
     "output_type": "stream",
     "text": [
      "0 pages remaining..\r"
     ]
    }
   ],
   "source": [
    "\n",
    "\n",
    "driver.maximize_window()\n",
    "\n",
    "url = f'https://www.motorola.com/blog/en-us/all-post-page'\n",
    "\n",
    "driver.get(url)\n",
    "\n",
    "driver.find_element_by_xpath('''/html/body/div[3]/div/div/div/div[2]/div/div[1]''').click()\n",
    "\n",
    "driver.refresh()\n",
    "\n",
    "hrefs = []\n",
    "\n",
    "range_count = 3\n",
    "\n",
    "try:\n",
    "    for x in range(range_count):\n",
    "        time.sleep(3)\n",
    "        driver.find_element_by_xpath('''/html/body/div[2]/div/div[1]/div/div/div[2]/div/div/div/div[4]/div/a[2]''').click()\n",
    "\n",
    "        for y in range(11):\n",
    "            \n",
    "            links = driver.find_elements_by_xpath(f'''/html/body/div[2]/div/div[1]/div/div/div[2]/div/div/div/div[3]/div[{y}]/a''')\n",
    "            for l in links:\n",
    "                hrefs.append(l.get_attribute('href'))\n",
    "\n",
    "        print(str(range_count-(x+1)) + \" pages remaining..\",end=\"\\r\")\n",
    "except:\n",
    "    pass"
   ]
  },
  {
   "cell_type": "code",
   "execution_count": 5,
   "id": "cedcdc2b",
   "metadata": {
    "ExecuteTime": {
     "end_time": "2022-05-02T07:21:44.646351Z",
     "start_time": "2022-05-02T07:19:49.548663Z"
    },
    "scrolled": true
   },
   "outputs": [
    {
     "name": "stdout",
     "output_type": "stream",
     "text": [
      "0 url remaining...\n"
     ]
    }
   ],
   "source": [
    "\n",
    "\n",
    "articles  = []\n",
    "dates = []\n",
    "titles = []\n",
    "thumbnails = []\n",
    "\n",
    "try:\n",
    "    for number,link in enumerate(hrefs):\n",
    "\n",
    "        driver.get(link)\n",
    "        time.sleep(1)\n",
    "        driver.implicitly_wait(100)\n",
    "        title = driver.find_element_by_xpath('''/html/body/div[2]/div/div[1]/div/div/div[2]/div/div/div[1]/div[3]/div[2]/div/h1''').text\n",
    "        titles.append(title)\n",
    "        article = driver.find_element_by_xpath('''/html/body/div[2]/div/div[1]/div/div/div[2]/div/div/div[2]''').text\n",
    "        articles.append(article)\n",
    "        date = driver.find_element_by_xpath('''/html/body/div[2]/div/div[1]/div/div/div[2]/div/div/div[1]/div[3]/div[4]/div/span[2]''').text\n",
    "        dates.append(date)\n",
    "        thumbnail = driver.find_element_by_xpath('''/html/body/div[2]/div/div[1]/div/div/div[2]/div/div/div[1]/div[1]/img''').get_attribute('src')\n",
    "        thumbnails.append(thumbnail)\n",
    "        print(str(len(hrefs)-(number+1)) + \" url remaining..\",end=\"\\r\")\n",
    "\n",
    "\n",
    "    print()\n",
    "    \n",
    "except:\n",
    "    pass"
   ]
  },
  {
   "cell_type": "code",
   "execution_count": 6,
   "id": "40ea34bb",
   "metadata": {
    "ExecuteTime": {
     "end_time": "2022-05-02T07:21:44.676285Z",
     "start_time": "2022-05-02T07:21:44.650378Z"
    },
    "scrolled": true
   },
   "outputs": [
    {
     "data": {
      "text/plain": [
       "[('APRIL 29, 2022',\n",
       "  'Motorola’s most advanced camera system ever introduces instant all pixel-focus',\n",
       "  'With the motorola edge 30 pro we introduced our most advanced camera system ever. From the two 50 MP cameras, which deliver ultra-wide angle shots and extreme close-ups, to 8K video recording and the highest video resolution possible on a smartphone today, the motorola edge 30 pro captures every incredible detail. You’ll also be able to eliminate unwanted shakes with OIS, which automatically compensates against blurred images and videos due to unwanted camera movements, so even when an exposure takes longer in low light conditions — clarity and detail shine through. \\nBut perhaps most exciting is that the motorola edge 30 pro comes complete with Instant All Pixel Focus - Omni PDAF - our first ever on a Motorola device. And the ability to shoot breathtaking videos that meet strict HDR10+ standards for color accuracy, color range, brightness and contrast. See how you get 32x more focusing pixels with the instant all pixel focus:',\n",
       "  'https://www.motorola.com/blog/post?id=441',\n",
       "  'https://motorolablog.myvtex.com/arquivos/camera_sustainment.jpg'),\n",
       " ('APRIL 27, 2022',\n",
       "  'Say hello to the thinnest 5G smartphone around: motorola edge 30',\n",
       "  'Motorola is introducing today the newest addition to the edge family: the motorola edge 30. With a powerful 50MP camera system, an ultra-smooth 144Hz 6.5\" FHD+ OLED display, multidimensional Dolby Atmos® sound and the power-efficient Snapdragon® 778G+ 5G Mobile Platform, the new edge device has everything you could want packed into a sleek, modern design. \\nComing in at 6.79mm, the edge 30 is the thinnest 5G smartphone available so it takes up less room in your pocket, fits comfortably in your hand, and is still packed with amazing technology inside. We also gave it an eye-catching look, with subtle, jewel-like patterns that shift and change as you tilt the phone from side to side for complexity and depth. An in-display fingerprint reader lets you instantly wake up and unlock your phone with a touch of the screen.\\nThe edge 30 houses a 50 MP Ultra-wide camera sensor, 32 MP dedicated front-facing camera, and our most advanced 50 MP high-res camera using the new flagship standard for autofocus, Instant All-Pixel Focus, to shoot with 32x more focusing pixels. While traditional focus technologies use around 3% of pixels, Instant All Pixel Focus uses 100% of pixels in both vertical and horizontal patterns to get faster, more accurate performance in any light. This camera captures sharp details in the daytime, and then as night falls, lets in more light by combining every four pixels into one massive ultra pixel. Combined with Optical Image Stabilization (OIS), which eliminates unwanted shakes, you’re set to shoot the best photos in a whole new way. And the brilliance goes beyond photos—you can record HDR10 videos with over a billion shades of color for more lifelike storytelling than ever before.\\nThe motorola edge 30 is a content creator’s dream - its camera is more than just a set of sensors. Oftentimes camera quality suffers in 3rd party apps like TikTok, WhatsApp and Instagram, but with the edge 30, we paid special attention to performance in areas like facial rendering, front camera video recording or video chats, and significant noise reduction when capturing still images. All of this means you’ll always look your best on video calls, and the content you capture for social media and more will benefit from your camera’s full potential. \\nWatch your favorite movies and games come to life on the 6.5\" OLED display with 144Hz refresh rate and HDR10+ that meets DCI-P3 cinematic standards for color range, brightness, color accuracy, and contrast level, so you can view everything in over a billion shades of color. With Dolby Atmos, feel sound reimagined with more depth, clarity, and detail in your entertainment for a spatial sound experience through the edge 30’s two large stereo speakers.\\nPotent performance and power\\nYou will experience a huge performance boost in everything from the games you play to the videos you record thanks to the power of the Snapdragon 778G+. Download, stream, and video chat without lag, and connect to the fastest Wi-Fi 6E1 networks with an advanced modem for more than you ever thought possible. The newest edge has up to 8 GB of RAM and up to 256 GB of storage2, ensuring you never slow down on the go.\\nWith motorola edge 30 you can also unleash your device with Ready For3, that amplifies everything your phone is capable of. Simply connect wirelessly to a monitor or your TV and you’re ready to go. Whether you’re looking to enhance your gaming experience, take video calls from a bigger screen, or use your phone for a full desktop experience, Ready For has you covered. \\nPlus, you can experience 5G4 speed without worrying about battery life with a 4020 mAh battery. And if you need power fast, TurboPower™ 30 gives you hours of power in just minutes of charging.5 \\nExperience the newest member of the edge family with the motorola edge 30.\\navailability and pricing\\nmotorola edge 30 arrives across selected markets in Europe with a starting MSRP of €449.99 euros. The new device will also roll out to selected markets in Asia, Australia, India, Latin America and Middle East in the coming weeks. For local price information and availability, please contact your local PR team.\\nWith the exciting announcement of edge 30 in Europe, Motorola is reinforcing its commitment to bringing premium smartphone experiences to the hands of more consumers. Today, Motorola is also excited to share its commitment to deliver a new edge family device in North America this year.\\nlegal disclaimers\\nCertain features, functionality and product specifications may be network dependent and subject to additional terms, conditions, and charges. All are subject to change without notice. MOTOROLA, Stylized M Logo, MOTO and the MOTO family of marks are trademarks of Motorola Trademark Holdings, LLC. Snapdragon is a product of Qualcomm Technologies, Inc. and/or its subsidiaries. Snapdragon is a trademark or registered trademarks of Qualcomm Incorporated. Wi-Fi is a trademark of Wi-Fi Alliance. Dolby, Dolby Vision and Dolby Atmos are among the registered and unregistered trademarks of Dolby Laboratories, Inc. in the United States and/or other countries. Google and Android are trademarks of Google LLC. All other trademarks are the property of their respective owners. © 2022 Motorola Mobility LLC. All rights reserved.\\n1 Available only in certain countries due to regulatory limitations; see service provider for availability; requires separately purchased Wi-Fi 6e compatible router and plan that may vary by location.\\n2 Available user storage is less due to many factors, including operating system, software and functions utilizing part of this capacity; may change with software updates.\\n3 Ready For wireless connection is supported with TVs that support Android smartphone screen mirroring (Miracast) only. \\n4 5G service available with 5G plan. 5G network coverage required; available only in select areas; device not compatible with all 5G networks. Contact your service provider for details. \\n5 Battery must be substantially depleted; charging rate slows as charging progresses. All battery life claims are approximate and based on the median user tested across a mixed use profile (which includes both usage and standby time) under optimal network conditions. Actual battery performance will vary and depends on many factors including signal strength, network and device settings, temperature, battery condition, and usage patterns.',\n",
       "  'https://www.motorola.com/blog/post?id=435',\n",
       "  'https://motorolablog.myvtex.com/arquivos/edge%20lifestyle.jpg'),\n",
       " ('JANUARY 28, 2022',\n",
       "  'Motorola’s top tech predictions for 2022',\n",
       "  'As we welcome in another new year, the possibilities of how we will continue incorporating tech into our ever-changing world seem endless. While it’s exhilarating to hear about emerging technologies and trends ahead from industry experts, what about the everyday people using tech for good in their professions, hobbies and beyond?\\nTo help us paint a better picture of what is to come in 2022, innovators at Motorola shared a few notable predictions for the year ahead. From more solutions for hybrid work models to a focus on tech as a force for good, here are Motorola’s 2022 tech predictions.\\n#1: Work-from-anywhere as the new Work-from-Home\\n2022 will kickstart the evolution from work-from-home to work-from-anywhere. Tech companies all across the globe are allowing employees to work from home longer or even permanently, given the advantages of remote work, and we foresee this trend continuing well into the future.  \\nThat’s why, this year, we predict an increase in products, solutions and services designed to improve the remote employee experience. New office designs and audio/video technology will also pave the way for flexible meeting setups and new ways to build social connections. No longer will consumers have to adjust to adequate technology or products.  Instead, products will cater to emerging consumer needs allowing them to thrive wherever they choose to work.  For example, we predict Artificial intelligence (AI) and Augmented Reality (AR) solutions will create immersive workplaces for employees no matter where they are, with innovations such as Ready For1, which enable motorola devices like the moto g100 to tether to ThinkReality A3 Smart Glasses allowing for an extended mobile desktop, video, gaming and entertainment experiences in augmented reality.\\n#2: Tech for Good\\nTech access and inclusivity will - and should - be a major focus for the mobile industry in 2022 and beyond. We predict more mobile tech innovations being released that better help represent languages, disabilities, gender and racial groups. For example, we at Motorola launched our Indigenous Languages program earlier this year, where our devices now support two languages deemed “endangered.” This is just the first of many milestones we hope to achieve in our indigenous languages project - we can’t wait to unveil more on this in the near future. \\nWe think we’ll see more innovations released like this, especially those with languages, disabilities, and gender and racial groups being more represented.\\n#3: Monitors are having a moment\\nWe predict the monitor will soon have all the features necessary to enhance connectivity and add more value at the office and home in 2022. Monitors will also complement additional devices beyond PCs and extend functionality to smartphones and gaming consoles.\\nLike Motorola’s Ready For platform, we predict tech companies will concentrate their efforts on developing software experiences for different types of displays and devices to be used seamlessly together. We’ve seen the expansion of monitors become essential for at home or work, and we think this continuity of content from one device to another will continue to bring new value and ease of use to consumers.  \\n#4: The proliferation of form factors\\nWhile we predicted 2021 as the year of foldables, the pandemic’s effect on supply chain impacted the timeline, leading us to believe 2022 will be the year of new and improved form factors. With the need to work from anywhere, consumers are considering new types of devices to make this a seamless experience.\\nWe predict smartphones will continue to see new forms and improve with OLED technology, flexible hinges, and more, to help make work-from-anywhere a reality. We believe flexible displays will also come to other device concepts and form factors across smartphones, tablets, PCs and laptops.  Flexible displays will also bring rise to new applications on digital signage, public transport and smart home appliances in the year ahead. \\nTo read more about Motorola’s & Lenovo’s tech predictions for 2022 and beyond, please visit the Lenovo StoryHub. \\n\\nLegal Disclaimers\\n1 Ready For wired connection supported with TVs or monitors that have HDMI port or USB-C video-in port; video-enabled USB-C cable or USB-C-to-HDMI adaptor required. Ready For wireless connection is supported with TVs that support Android smartphone screen mirroring (Miracast) only.\\nMOTOROLA, the Stylized M Logo, MOTO and the MOTO family of marks are trademarks of Motorola Trademark Holdings, LLC. LENOVO and THINKREALITY are trademarks of Lenovo. USB Type-C® and USB-C® are registered trademarks of USB Implementers Forum. Android is a trademark of Google, LLC. All other trademarks are the property of their respective owners.  © Lenovo 2022. All rights reserved.',\n",
       "  'https://www.motorola.com/blog/post?id=389',\n",
       "  'https://motorolablog.myvtex.com/arquivos/Movement.jpg')]"
      ]
     },
     "execution_count": 6,
     "metadata": {},
     "output_type": "execute_result"
    }
   ],
   "source": [
    "#zippling the list so that it'll form the tuple\n",
    "zipped = list(zip(dates,titles,articles,hrefs,thumbnails))\n",
    "zipped[:3]"
   ]
  },
  {
   "cell_type": "code",
   "execution_count": 7,
   "id": "e60a6919",
   "metadata": {
    "ExecuteTime": {
     "end_time": "2022-05-02T07:21:44.721154Z",
     "start_time": "2022-05-02T07:21:44.682260Z"
    }
   },
   "outputs": [
    {
     "data": {
      "text/html": [
       "<div>\n",
       "<style scoped>\n",
       "    .dataframe tbody tr th:only-of-type {\n",
       "        vertical-align: middle;\n",
       "    }\n",
       "\n",
       "    .dataframe tbody tr th {\n",
       "        vertical-align: top;\n",
       "    }\n",
       "\n",
       "    .dataframe thead th {\n",
       "        text-align: right;\n",
       "    }\n",
       "</style>\n",
       "<table border=\"1\" class=\"dataframe\">\n",
       "  <thead>\n",
       "    <tr style=\"text-align: right;\">\n",
       "      <th></th>\n",
       "      <th>date</th>\n",
       "      <th>title</th>\n",
       "      <th>article</th>\n",
       "      <th>url</th>\n",
       "      <th>thumbnail</th>\n",
       "    </tr>\n",
       "  </thead>\n",
       "  <tbody>\n",
       "    <tr>\n",
       "      <th>0</th>\n",
       "      <td>APRIL 29, 2022</td>\n",
       "      <td>Motorola’s most advanced camera system ever in...</td>\n",
       "      <td>With the motorola edge 30 pro we introduced ou...</td>\n",
       "      <td>https://www.motorola.com/blog/post?id=441</td>\n",
       "      <td>https://motorolablog.myvtex.com/arquivos/camer...</td>\n",
       "    </tr>\n",
       "    <tr>\n",
       "      <th>1</th>\n",
       "      <td>APRIL 27, 2022</td>\n",
       "      <td>Say hello to the thinnest 5G smartphone around...</td>\n",
       "      <td>Motorola is introducing today the newest addit...</td>\n",
       "      <td>https://www.motorola.com/blog/post?id=435</td>\n",
       "      <td>https://motorolablog.myvtex.com/arquivos/edge%...</td>\n",
       "    </tr>\n",
       "    <tr>\n",
       "      <th>2</th>\n",
       "      <td>JANUARY 28, 2022</td>\n",
       "      <td>Motorola’s top tech predictions for 2022</td>\n",
       "      <td>As we welcome in another new year, the possibi...</td>\n",
       "      <td>https://www.motorola.com/blog/post?id=389</td>\n",
       "      <td>https://motorolablog.myvtex.com/arquivos/Movem...</td>\n",
       "    </tr>\n",
       "    <tr>\n",
       "      <th>3</th>\n",
       "      <td>DECEMBER 21, 2021</td>\n",
       "      <td>Android 12 + My UX: More personal and effortle...</td>\n",
       "      <td>At Motorola, we believe consumers deserve the ...</td>\n",
       "      <td>https://www.motorola.com/blog/post?id=387</td>\n",
       "      <td>https://motorolablog.myvtex.com/arquivos/Andro...</td>\n",
       "    </tr>\n",
       "    <tr>\n",
       "      <th>4</th>\n",
       "      <td>DECEMBER 16, 2021</td>\n",
       "      <td>The Power of Design, Meet Lewis Suaton</td>\n",
       "      <td>Lewis Suaton is a fashion designer based out o...</td>\n",
       "      <td>https://www.motorola.com/blog/post?id=386</td>\n",
       "      <td>https://motorolablog.myvtex.com/arquivos/lewis...</td>\n",
       "    </tr>\n",
       "  </tbody>\n",
       "</table>\n",
       "</div>"
      ],
      "text/plain": [
       "                date                                              title  \\\n",
       "0     APRIL 29, 2022  Motorola’s most advanced camera system ever in...   \n",
       "1     APRIL 27, 2022  Say hello to the thinnest 5G smartphone around...   \n",
       "2   JANUARY 28, 2022           Motorola’s top tech predictions for 2022   \n",
       "3  DECEMBER 21, 2021  Android 12 + My UX: More personal and effortle...   \n",
       "4  DECEMBER 16, 2021             The Power of Design, Meet Lewis Suaton   \n",
       "\n",
       "                                             article  \\\n",
       "0  With the motorola edge 30 pro we introduced ou...   \n",
       "1  Motorola is introducing today the newest addit...   \n",
       "2  As we welcome in another new year, the possibi...   \n",
       "3  At Motorola, we believe consumers deserve the ...   \n",
       "4  Lewis Suaton is a fashion designer based out o...   \n",
       "\n",
       "                                         url  \\\n",
       "0  https://www.motorola.com/blog/post?id=441   \n",
       "1  https://www.motorola.com/blog/post?id=435   \n",
       "2  https://www.motorola.com/blog/post?id=389   \n",
       "3  https://www.motorola.com/blog/post?id=387   \n",
       "4  https://www.motorola.com/blog/post?id=386   \n",
       "\n",
       "                                           thumbnail  \n",
       "0  https://motorolablog.myvtex.com/arquivos/camer...  \n",
       "1  https://motorolablog.myvtex.com/arquivos/edge%...  \n",
       "2  https://motorolablog.myvtex.com/arquivos/Movem...  \n",
       "3  https://motorolablog.myvtex.com/arquivos/Andro...  \n",
       "4  https://motorolablog.myvtex.com/arquivos/lewis...  "
      ]
     },
     "execution_count": 7,
     "metadata": {},
     "output_type": "execute_result"
    }
   ],
   "source": [
    "#creating dataframe \n",
    "temp_df = pd.DataFrame(zipped,columns=['date','title','article','url','thumbnail'])\n",
    "temp_df.head()"
   ]
  },
  {
   "cell_type": "code",
   "execution_count": 8,
   "id": "36d5cb9f",
   "metadata": {
    "ExecuteTime": {
     "end_time": "2022-05-02T07:21:44.798351Z",
     "start_time": "2022-05-02T07:21:44.724147Z"
    }
   },
   "outputs": [],
   "source": [
    "#to csv\n",
    "temp_df.to_csv('moto news.csv')\n",
    "\n",
    "#to json\n",
    "temp_df.to_json('moto news.json')"
   ]
  }
 ],
 "metadata": {
  "kernelspec": {
   "display_name": "Python 3 (ipykernel)",
   "language": "python",
   "name": "python3"
  },
  "language_info": {
   "codemirror_mode": {
    "name": "ipython",
    "version": 3
   },
   "file_extension": ".py",
   "mimetype": "text/x-python",
   "name": "python",
   "nbconvert_exporter": "python",
   "pygments_lexer": "ipython3",
   "version": "3.9.7"
  },
  "toc": {
   "base_numbering": 1,
   "nav_menu": {},
   "number_sections": true,
   "sideBar": true,
   "skip_h1_title": false,
   "title_cell": "Table of Contents",
   "title_sidebar": "Contents",
   "toc_cell": false,
   "toc_position": {},
   "toc_section_display": true,
   "toc_window_display": false
  }
 },
 "nbformat": 4,
 "nbformat_minor": 5
}
