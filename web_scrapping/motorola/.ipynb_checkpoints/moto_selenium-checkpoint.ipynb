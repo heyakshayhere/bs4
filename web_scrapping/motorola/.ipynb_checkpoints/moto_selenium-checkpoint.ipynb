{
 "cells": [
  {
   "cell_type": "markdown",
   "id": "f0471110",
   "metadata": {},
   "source": [
    "https://www.motorola.com/blog/en-us/all-post-page"
   ]
  },
  {
   "cell_type": "code",
   "execution_count": 1,
   "id": "01cf3464",
   "metadata": {
    "ExecuteTime": {
     "end_time": "2022-04-26T11:44:43.524695Z",
     "start_time": "2022-04-26T11:44:42.778597Z"
    }
   },
   "outputs": [
    {
     "data": {
      "application/javascript": [
       "IPython.notebook.set_autosave_interval(1000)"
      ]
     },
     "metadata": {},
     "output_type": "display_data"
    },
    {
     "name": "stdout",
     "output_type": "stream",
     "text": [
      "Autosaving every 1 seconds\n"
     ]
    }
   ],
   "source": [
    "from selenium import webdriver\n",
    "from selenium.webdriver.common.by import By\n",
    "import sys,bs4,re,time,requests,pandas as pd\n",
    "from bs4 import BeautifulSoup\n",
    "\n",
    "import warnings\n",
    "warnings.filterwarnings(\"ignore\")\n",
    "\n",
    "%autosave 1"
   ]
  },
  {
   "cell_type": "code",
   "execution_count": 2,
   "id": "3a3ba80b",
   "metadata": {
    "ExecuteTime": {
     "end_time": "2022-04-26T11:44:46.352014Z",
     "start_time": "2022-04-26T11:44:43.527659Z"
    }
   },
   "outputs": [
    {
     "name": "stderr",
     "output_type": "stream",
     "text": [
      "\n",
      "\n",
      "====== WebDriver manager ======\n",
      "Current google-chrome version is 100.0.4896\n",
      "Get LATEST chromedriver version for 100.0.4896 google-chrome\n",
      "Driver [C:\\Users\\AKSHAY SATPUTE\\.wdm\\drivers\\chromedriver\\win32\\100.0.4896.60\\chromedriver.exe] found in cache\n"
     ]
    }
   ],
   "source": [
    "#driver for operation\n",
    "from webdriver_manager.chrome import ChromeDriverManager\n",
    "option = webdriver.ChromeOptions()\n",
    "option.add_argument('headless')\n",
    "driver = webdriver.Chrome(ChromeDriverManager().install()\n",
    "#                           ,options=option\n",
    "                         )"
   ]
  },
  {
   "cell_type": "code",
   "execution_count": 3,
   "id": "e64ae3a8",
   "metadata": {
    "ExecuteTime": {
     "end_time": "2022-04-26T11:44:46.366975Z",
     "start_time": "2022-04-26T11:44:46.355006Z"
    }
   },
   "outputs": [],
   "source": [
    "def parse_webpage_bs(search_url):\n",
    "    headers = {\n",
    "        \"User-Agent\": \"Mozilla/5.0 (Windows NT 10.0; Win64; x64; rv:90.0) Gecko/20100101 Firefox/90.0\"}\n",
    "    try:\n",
    "        site_request = requests.get(search_url, headers=headers, timeout=10)\n",
    "    except requests.exceptions.RequestException as e:\n",
    "        print(e)\n",
    "        site_request = None\n",
    "    if site_request != None and site_request.status_code==200:\n",
    "        site_soup = bs4.BeautifulSoup(site_request.content, \"lxml\")\n",
    "    else:\n",
    "        site_soup = None\n",
    "    return site_soup"
   ]
  },
  {
   "cell_type": "code",
   "execution_count": 4,
   "id": "020ba8ba",
   "metadata": {
    "ExecuteTime": {
     "end_time": "2022-04-26T11:45:02.723645Z",
     "start_time": "2022-04-26T11:44:46.372973Z"
    },
    "scrolled": true
   },
   "outputs": [
    {
     "name": "stdout",
     "output_type": "stream",
     "text": [
      "CPU times: total: 203 ms\n",
      "Wall time: 16.3 s\n"
     ]
    }
   ],
   "source": [
    "\n",
    "\n",
    "driver.maximize_window()\n",
    "\n",
    "url = f'https://www.motorola.com/blog/en-us/all-post-page'\n",
    "\n",
    "driver.get(url)\n",
    "\n",
    "driver.find_element_by_xpath('''/html/body/div[3]/div/div/div/div[2]/div/div[1]''').click()\n",
    "\n",
    "driver.refresh()\n",
    "\n",
    "hrefs = []\n",
    "\n",
    "range_count = 3\n",
    "\n",
    "try:\n",
    "    for x in range(range_count):\n",
    "        time.sleep(3)\n",
    "        driver.find_element_by_xpath('''/html/body/div[2]/div/div[1]/div/div/div[2]/div/div/div/div[4]/div/a[2]''').click()\n",
    "\n",
    "        for y in range(11):\n",
    "            \n",
    "            links = driver.find_elements_by_xpath(f'''/html/body/div[2]/div/div[1]/div/div/div[2]/div/div/div/div[3]/div[{y}]/a''')\n",
    "            for l in links:\n",
    "                hrefs.append(l.get_attribute('href'))\n",
    "\n",
    "        print(str(range_count-(x+1)) + \" pages remaining..\",end=\"\\r\")\n",
    "except:\n",
    "    pass"
   ]
  },
  {
   "cell_type": "code",
   "execution_count": 5,
   "id": "cedcdc2b",
   "metadata": {
    "ExecuteTime": {
     "end_time": "2022-04-26T11:46:31.110527Z",
     "start_time": "2022-04-26T11:45:02.725608Z"
    },
    "scrolled": true
   },
   "outputs": [
    {
     "name": "stdout",
     "output_type": "stream",
     "text": [
      "0 url remaining...\n",
      "CPU times: total: 172 ms\n",
      "Wall time: 1min 28s\n"
     ]
    }
   ],
   "source": [
    "\n",
    "\n",
    "articles  = []\n",
    "dates = []\n",
    "titles = []\n",
    "thumbnails = []\n",
    "\n",
    "try:\n",
    "    for number,link in enumerate(hrefs):\n",
    "\n",
    "        driver.get(link)\n",
    "        time.sleep(1)\n",
    "        driver.implicitly_wait(100)\n",
    "        title = driver.find_element_by_xpath('''/html/body/div[2]/div/div[1]/div/div/div[2]/div/div/div[1]/div[3]/div[2]/div/h1''').text\n",
    "        titles.append(title)\n",
    "        article = driver.find_element_by_xpath('''/html/body/div[2]/div/div[1]/div/div/div[2]/div/div/div[2]''').text\n",
    "        articles.append(article)\n",
    "        date = driver.find_element_by_xpath('''/html/body/div[2]/div/div[1]/div/div/div[2]/div/div/div[1]/div[3]/div[4]/div/span[2]''').text\n",
    "        dates.append(date)\n",
    "        thumbnail = driver.find_element_by_xpath('''/html/body/div[2]/div/div[1]/div/div/div[2]/div/div/div[1]/div[1]/img''').get_attribute('src')\n",
    "        thumbnails.append(thumbnail)\n",
    "        print(str(len(hrefs)-(number+1)) + \" url remaining..\",end=\"\\r\")\n",
    "\n",
    "\n",
    "    print()\n",
    "    \n",
    "except:\n",
    "    pass"
   ]
  },
  {
   "cell_type": "code",
   "execution_count": 6,
   "id": "40ea34bb",
   "metadata": {
    "ExecuteTime": {
     "end_time": "2022-04-26T11:46:31.126486Z",
     "start_time": "2022-04-26T11:46:31.111524Z"
    },
    "scrolled": true
   },
   "outputs": [
    {
     "data": {
      "text/plain": [
       "[('JANUARY 28, 2022',\n",
       "  'Motorola’s top tech predictions for 2022',\n",
       "  'As we welcome in another new year, the possibilities of how we will continue incorporating tech into our ever-changing world seem endless. While it’s exhilarating to hear about emerging technologies and trends ahead from industry experts, what about the everyday people using tech for good in their professions, hobbies and beyond?\\nTo help us paint a better picture of what is to come in 2022, innovators at Motorola shared a few notable predictions for the year ahead. From more solutions for hybrid work models to a focus on tech as a force for good, here are Motorola’s 2022 tech predictions.\\n#1: Work-from-anywhere as the new Work-from-Home\\n2022 will kickstart the evolution from work-from-home to work-from-anywhere. Tech companies all across the globe are allowing employees to work from home longer or even permanently, given the advantages of remote work, and we foresee this trend continuing well into the future.  \\nThat’s why, this year, we predict an increase in products, solutions and services designed to improve the remote employee experience. New office designs and audio/video technology will also pave the way for flexible meeting setups and new ways to build social connections. No longer will consumers have to adjust to adequate technology or products.  Instead, products will cater to emerging consumer needs allowing them to thrive wherever they choose to work.  For example, we predict Artificial intelligence (AI) and Augmented Reality (AR) solutions will create immersive workplaces for employees no matter where they are, with innovations such as Ready For1, which enable motorola devices like the moto g100 to tether to ThinkReality A3 Smart Glasses allowing for an extended mobile desktop, video, gaming and entertainment experiences in augmented reality.\\n#2: Tech for Good\\nTech access and inclusivity will - and should - be a major focus for the mobile industry in 2022 and beyond. We predict more mobile tech innovations being released that better help represent languages, disabilities, gender and racial groups. For example, we at Motorola launched our Indigenous Languages program earlier this year, where our devices now support two languages deemed “endangered.” This is just the first of many milestones we hope to achieve in our indigenous languages project - we can’t wait to unveil more on this in the near future. \\nWe think we’ll see more innovations released like this, especially those with languages, disabilities, and gender and racial groups being more represented.\\n#3: Monitors are having a moment\\nWe predict the monitor will soon have all the features necessary to enhance connectivity and add more value at the office and home in 2022. Monitors will also complement additional devices beyond PCs and extend functionality to smartphones and gaming consoles.\\nLike Motorola’s Ready For platform, we predict tech companies will concentrate their efforts on developing software experiences for different types of displays and devices to be used seamlessly together. We’ve seen the expansion of monitors become essential for at home or work, and we think this continuity of content from one device to another will continue to bring new value and ease of use to consumers.  \\n#4: The proliferation of form factors\\nWhile we predicted 2021 as the year of foldables, the pandemic’s effect on supply chain impacted the timeline, leading us to believe 2022 will be the year of new and improved form factors. With the need to work from anywhere, consumers are considering new types of devices to make this a seamless experience.\\nWe predict smartphones will continue to see new forms and improve with OLED technology, flexible hinges, and more, to help make work-from-anywhere a reality. We believe flexible displays will also come to other device concepts and form factors across smartphones, tablets, PCs and laptops.  Flexible displays will also bring rise to new applications on digital signage, public transport and smart home appliances in the year ahead. \\nTo read more about Motorola’s & Lenovo’s tech predictions for 2022 and beyond, please visit the Lenovo StoryHub. \\n\\nLegal Disclaimers\\n1 Ready For wired connection supported with TVs or monitors that have HDMI port or USB-C video-in port; video-enabled USB-C cable or USB-C-to-HDMI adaptor required. Ready For wireless connection is supported with TVs that support Android smartphone screen mirroring (Miracast) only.\\nMOTOROLA, the Stylized M Logo, MOTO and the MOTO family of marks are trademarks of Motorola Trademark Holdings, LLC. LENOVO and THINKREALITY are trademarks of Lenovo. USB Type-C® and USB-C® are registered trademarks of USB Implementers Forum. Android is a trademark of Google, LLC. All other trademarks are the property of their respective owners.  © Lenovo 2022. All rights reserved.',\n",
       "  'https://www.motorola.com/blog/post?id=389',\n",
       "  'https://motorolablog.myvtex.com/arquivos/Movement.jpg'),\n",
       " ('DECEMBER 21, 2021',\n",
       "  'Android 12 + My UX: More personal and effortless than ever',\n",
       "  \"At Motorola, we believe consumers deserve the most pure Android OS possible, without clunky software skins or duplicate apps. Instead, we build on the great things Google does with Android with a comprehensive suite of experiences called My UX, putting you in control of your mobile experience.  My UX encompasses all the great moto experiences, moto specific apps and unique customizations to take music, videos, games, and your phone's style to the next level. Whether it’s turning on the flashlight with a simple chop gesture, launching the camera with the twist of a wrist, bringing creativity to life with moto note or changing your icon shapes, color schemes and display font to fit your style – it’s all a part of My UX. \\nAnd since My UX doesn’t get in the way of a pure Android experience, users get to make the most of new customizations and updates coming on Android 12. \\nWhat to expect with your Android 12 Update  \\nMaterial You on Motorola Smartphones\\nReflect your personal style across your whole device.\\nAndroidTM 12 rethinks the entire user interface, from shapes, light and motion, to customizable system colors that can be adapted to match you. Material You is Google’s material design language that elevates what we’ve already begun with My UX. It prioritizes simplicity while adding personal touches that let you control Android 12’s visual elements according to your preferences. Redesigned to be more spacious and comfortable, it’s the most expressive, dynamic and personal OS ever. \\n\\nNow, you can change the wallpaper on your device and your entire Android 12 experience changes to match. Using advanced color extraction algorithms, you can easily personalize the look and feel of your entire phone, including notifications, settings, widgets and even select apps. We’re combining the dynamic color, rounded shapes, and large open layouts from Material You with the rich, premium feel of the Motorola brand.  \\n\\nBest of all, these settings are now centralized in one convenient place. Just access Personalize from the home screen menu, then make individual changes to font style and size, colors, icon shapes and layouts, device sounds, display size, and your wallpapers. \\n\\nConversation Widgets\\nControl your connected devices from one place.\\nAn all-new conversation widget puts the messages with the people you care about front-and-center on your home screen so you never miss a chat from your loved ones. You can even see missed calls, birthdays and more at a glance.\\n\\nAccessibility Improvements\\nBuilt for accessibility.\\nAndroid 12 is designed to be even more accessible with new visibility features, including:\\nArea magnification: A new window magnifier lets you zoom in on a part of your screen without having to lose context on the rest of the screen content.\\nExtra dim: Make your display extra dim for night-time scrolling or situations when even the lowest brightness setting is too bright.\\nBold text: See text more clearly with the ability to switch the font to bold across the whole phone.\\nGrayscale: Adjust how colors display on your device to grayscale.\\nMic & Camera Indicators and Toggles\\nStronger mic and camera access controls.\\nWith Android 12, you can see when an app is using your microphone or camera thanks to a new indicator in your phone’s status bar. And if you don’t want any apps to access your microphone or camera, you can completely disable those sensors using two new toggles in quick settings. Simply flip the switch.\\nApproximate Location Permissions\\nKeep your precise location private.\\nWhile some apps need precise location information for tasks like turn-by-turn navigation, many other apps only need your approximate location to be helpful. With Android 12, you can choose between giving apps access to your precise location or an approximate location instead.\\n\\nPrivacy Dashboard\\nYour privacy permissions at a glance.\\nPrivacy dashboard gives you a clear and comprehensive view of when apps access your location, camera, or mic over the past 24 hours. If you see anything that you’re not comfortable with, you can manage permissions right from the dashboard.\\n\\nWe’re also continuing our commitment to exceptional security through Thinkshield® for Mobile, which offers enhanced protection via a secured chain of trust and additional security certifications.\\n\\nEnhanced Gaming\\nKick-start your gameplay.\\nSpend less time waiting and more time playing. Android 12 lets you play as you download, so you can jump straight into gameplay without needing to wait for the full download to finish.1 And Moto Gametime takes the whole experience to the next level, giving you advanced controls that allow you to block notifications, screen record, and control the audio while playing your favorite games.\\n\\nEasily Switch Phones\\nSwitching made easy.\\nIt’s never been easier to switch to Android and try out the best device for you. Starting on Android 12, you can transfer all your essentials by connecting your old phone to your new Android with a cable or shared WiFi connection. Your memories and data will transfer, stress free – even from iPhone® (welcome!) \\nThese are just a handful of updates you can expect in this Android 12 update. Users can expect even more software features like new My UX experiences, new camera features and new Ready For2 experiences to become available in 2022.  \\nAndroid™ 12 OS comes with big changes but we’re hard at work finalizing our Android 12 OS + My UX experience. Android 12 is currently undergoing beta testing with our Motorola Feedback Network, and our official Android 12 rollout will begin in February 2022. For future roll out updates, Motorola device owners can visit our software support page to learn more. \\nrazr 5G  \\nrazr 2020 \\nmotorola edge 20 pro \\nmotorola edge 20  \\nmotorola edge 20 lite  \\nmotorola edge 20 fusion\\nmotorola edge (2021) \\nmotorola edge 5G UW\\nmotorola edge plus\\nmotorola one 5G ace \\nmotorola one 5G UW ace\\nmoto g200 5G\\nmoto g71 5G\\nmoto g51 5G\\nmoto g41\\nmoto g31 \\nmoto g100 \\nmoto g60s\\nmoto g60\\nmoto g50 / moto g50 5G\\nmoto g40 fusion\\nmoto g30\\nmoto g power (2022)\\nmoto g pure  \\nmoto g stylus 5G  \\n\\nbusiness edition phones \\nmoto g pro  \\nmotorola edge (2021)\\nmotorola edge 20\\nmotorola edge 20 lite \\nmotorola edge 20 fusion  \\n\\nLegal disclaimers\\nCertain features, functionality and product specifications may be network dependent and subject to additional terms, conditions, and charges. All are subject to change without notice. MOTOROLA, Stylized M Logo, MOTO and the MOTO family of marks are trademarks of Motorola Trademark Holdings, LLC. ThinkShield is a trademark of Lenovo. Google and Android are trademarks of Google LLC. All other trademarks are the property of their respective owners. © 2021 Motorola Mobility LLC. All rights reserved.\\n1Not all games on Google Play will allow you to play as you download. More games will be available with this functionality later in 2021. \\n2 A version of ready for is available on moto g100, moto g200, motorola edge+, motorola edge 2021, motorola edge 5G UW, motorola edge 20 pro, motorola edge 20, motorola edge 20 lite, motorola edge 20 fusion.\\n\\nThe information contained herein is provided for information purposes only and is intended only to describe Motorola Mobility’s current plans regarding potential upgrades or updates to the operating systems on its Android-powered devices and is, therefore, subject to change. The information communicated is not a commitment or an obligation to deliver any product, product feature, software upgrade or functionality and Motorola Mobility reserves the right to change the content and timing of any product, product feature or software release. The software functionality and features provided by a specific version of the Android operating system may vary by device and manufacturer. \",\n",
       "  'https://www.motorola.com/blog/post?id=387',\n",
       "  'https://motorolablog.myvtex.com/arquivos/Android%2012%20Overview%20Grid.png'),\n",
       " ('DECEMBER 16, 2021',\n",
       "  'The Power of Design, Meet Lewis Suaton',\n",
       "  'Lewis Suaton is a fashion designer based out of Paris, France, studying psychology. While some people might think the fashion industry is manipulated by the market, Lewis believes it’s actually people and their daily routines that are influencing the trends coming to the fashion industry.  \\nIt’s always been his dream to unite his two passions of psychology and fashion design. With the help of his phone, Lewis scans for present references - everywhere,  even in people’s daily routines - to identify and predict what the next trend will be for the industry. “Technology has been helping me in my quest to ‘design the future’,” said Lewis. “It has given me the tools to capture so many images of what I later analyze and use for the concepts I am interested in regarding fashion and my creations.”\\nIn the future, Lewis’ goal is to collaborate with fashion brands to help them understand new trends and use more upcycling.  In turn, Lewis hopes to create a more sustainable industry. \\nLegal Disclaimers\\nMOTOROLA, the Stylized M Logo, MOTO and the MOTO family of marks are trademarks of Motorola Trademark Holdings, LLC. All other trademarks are the property of their respective owners. ©2021 Motorola Mobility LLC. All rights reserved.',\n",
       "  'https://www.motorola.com/blog/post?id=386',\n",
       "  'https://motorolablog.myvtex.com/arquivos/lewis%2002.jpg')]"
      ]
     },
     "execution_count": 6,
     "metadata": {},
     "output_type": "execute_result"
    }
   ],
   "source": [
    "#zippling the list so that it'll form the tuple\n",
    "zipped = list(zip(dates,titles,articles,hrefs,thumbnails))\n",
    "zipped[:3]"
   ]
  },
  {
   "cell_type": "code",
   "execution_count": 7,
   "id": "e60a6919",
   "metadata": {
    "ExecuteTime": {
     "end_time": "2022-04-26T11:46:31.156404Z",
     "start_time": "2022-04-26T11:46:31.130476Z"
    }
   },
   "outputs": [
    {
     "data": {
      "text/html": [
       "<div>\n",
       "<style scoped>\n",
       "    .dataframe tbody tr th:only-of-type {\n",
       "        vertical-align: middle;\n",
       "    }\n",
       "\n",
       "    .dataframe tbody tr th {\n",
       "        vertical-align: top;\n",
       "    }\n",
       "\n",
       "    .dataframe thead th {\n",
       "        text-align: right;\n",
       "    }\n",
       "</style>\n",
       "<table border=\"1\" class=\"dataframe\">\n",
       "  <thead>\n",
       "    <tr style=\"text-align: right;\">\n",
       "      <th></th>\n",
       "      <th>date</th>\n",
       "      <th>title</th>\n",
       "      <th>article</th>\n",
       "      <th>url</th>\n",
       "      <th>thumbnail</th>\n",
       "    </tr>\n",
       "  </thead>\n",
       "  <tbody>\n",
       "    <tr>\n",
       "      <th>0</th>\n",
       "      <td>JANUARY 28, 2022</td>\n",
       "      <td>Motorola’s top tech predictions for 2022</td>\n",
       "      <td>As we welcome in another new year, the possibi...</td>\n",
       "      <td>https://www.motorola.com/blog/post?id=389</td>\n",
       "      <td>https://motorolablog.myvtex.com/arquivos/Movem...</td>\n",
       "    </tr>\n",
       "    <tr>\n",
       "      <th>1</th>\n",
       "      <td>DECEMBER 21, 2021</td>\n",
       "      <td>Android 12 + My UX: More personal and effortle...</td>\n",
       "      <td>At Motorola, we believe consumers deserve the ...</td>\n",
       "      <td>https://www.motorola.com/blog/post?id=387</td>\n",
       "      <td>https://motorolablog.myvtex.com/arquivos/Andro...</td>\n",
       "    </tr>\n",
       "    <tr>\n",
       "      <th>2</th>\n",
       "      <td>DECEMBER 16, 2021</td>\n",
       "      <td>The Power of Design, Meet Lewis Suaton</td>\n",
       "      <td>Lewis Suaton is a fashion designer based out o...</td>\n",
       "      <td>https://www.motorola.com/blog/post?id=386</td>\n",
       "      <td>https://motorolablog.myvtex.com/arquivos/lewis...</td>\n",
       "    </tr>\n",
       "    <tr>\n",
       "      <th>3</th>\n",
       "      <td>DECEMBER 15, 2021</td>\n",
       "      <td>Understanding the advantages of refresh rates</td>\n",
       "      <td>When smartphones were first introduced, most o...</td>\n",
       "      <td>https://www.motorola.com/blog/post?id=385</td>\n",
       "      <td>https://motorolablog.myvtex.com/arquivos/2021_...</td>\n",
       "    </tr>\n",
       "    <tr>\n",
       "      <th>4</th>\n",
       "      <td>DECEMBER 8, 2021</td>\n",
       "      <td>The Power of Connection, Meet Daniel Juarez</td>\n",
       "      <td>Based out of Los Angeles, CA, Daniel Juarez lo...</td>\n",
       "      <td>https://www.motorola.com/blog/post?id=384</td>\n",
       "      <td>https://motorolablog.myvtex.com/arquivos/Danny...</td>\n",
       "    </tr>\n",
       "  </tbody>\n",
       "</table>\n",
       "</div>"
      ],
      "text/plain": [
       "                date                                              title  \\\n",
       "0   JANUARY 28, 2022           Motorola’s top tech predictions for 2022   \n",
       "1  DECEMBER 21, 2021  Android 12 + My UX: More personal and effortle...   \n",
       "2  DECEMBER 16, 2021             The Power of Design, Meet Lewis Suaton   \n",
       "3  DECEMBER 15, 2021      Understanding the advantages of refresh rates   \n",
       "4   DECEMBER 8, 2021        The Power of Connection, Meet Daniel Juarez   \n",
       "\n",
       "                                             article  \\\n",
       "0  As we welcome in another new year, the possibi...   \n",
       "1  At Motorola, we believe consumers deserve the ...   \n",
       "2  Lewis Suaton is a fashion designer based out o...   \n",
       "3  When smartphones were first introduced, most o...   \n",
       "4  Based out of Los Angeles, CA, Daniel Juarez lo...   \n",
       "\n",
       "                                         url  \\\n",
       "0  https://www.motorola.com/blog/post?id=389   \n",
       "1  https://www.motorola.com/blog/post?id=387   \n",
       "2  https://www.motorola.com/blog/post?id=386   \n",
       "3  https://www.motorola.com/blog/post?id=385   \n",
       "4  https://www.motorola.com/blog/post?id=384   \n",
       "\n",
       "                                           thumbnail  \n",
       "0  https://motorolablog.myvtex.com/arquivos/Movem...  \n",
       "1  https://motorolablog.myvtex.com/arquivos/Andro...  \n",
       "2  https://motorolablog.myvtex.com/arquivos/lewis...  \n",
       "3  https://motorolablog.myvtex.com/arquivos/2021_...  \n",
       "4  https://motorolablog.myvtex.com/arquivos/Danny...  "
      ]
     },
     "execution_count": 7,
     "metadata": {},
     "output_type": "execute_result"
    }
   ],
   "source": [
    "#creating dataframe \n",
    "temp_df = pd.DataFrame(zipped,columns=['date','title','article','url','thumbnail'])\n",
    "temp_df.head()"
   ]
  },
  {
   "cell_type": "code",
   "execution_count": 8,
   "id": "36d5cb9f",
   "metadata": {
    "ExecuteTime": {
     "end_time": "2022-04-26T11:46:31.219850Z",
     "start_time": "2022-04-26T11:46:31.157401Z"
    }
   },
   "outputs": [],
   "source": [
    "#to csv\n",
    "temp_df.to_csv('salesforce news.csv')\n",
    "\n",
    "#to json\n",
    "temp_df.to_json('salesforce news.json')"
   ]
  }
 ],
 "metadata": {
  "kernelspec": {
   "display_name": "Python 3 (ipykernel)",
   "language": "python",
   "name": "python3"
  },
  "language_info": {
   "codemirror_mode": {
    "name": "ipython",
    "version": 3
   },
   "file_extension": ".py",
   "mimetype": "text/x-python",
   "name": "python",
   "nbconvert_exporter": "python",
   "pygments_lexer": "ipython3",
   "version": "3.9.7"
  },
  "toc": {
   "base_numbering": 1,
   "nav_menu": {},
   "number_sections": true,
   "sideBar": true,
   "skip_h1_title": false,
   "title_cell": "Table of Contents",
   "title_sidebar": "Contents",
   "toc_cell": false,
   "toc_position": {},
   "toc_section_display": true,
   "toc_window_display": false
  }
 },
 "nbformat": 4,
 "nbformat_minor": 5
}
