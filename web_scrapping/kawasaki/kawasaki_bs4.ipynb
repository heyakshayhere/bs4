{
 "cells": [
  {
   "cell_type": "markdown",
   "id": "f71508f3",
   "metadata": {},
   "source": [
    "**URL:**\n",
    "\n",
    "https://global.kawasaki.com/en/corp/newsroom/news/index.html"
   ]
  },
  {
   "cell_type": "code",
   "execution_count": 1,
   "id": "21873ac4",
   "metadata": {
    "ExecuteTime": {
     "end_time": "2022-07-03T10:27:41.186388Z",
     "start_time": "2022-07-03T10:27:34.145768Z"
    },
    "code_folding": [
     0
    ]
   },
   "outputs": [
    {
     "data": {
      "application/javascript": [
       "IPython.notebook.set_autosave_interval(1000)"
      ]
     },
     "metadata": {},
     "output_type": "display_data"
    },
    {
     "name": "stdout",
     "output_type": "stream",
     "text": [
      "Autosaving every 1 seconds\n"
     ]
    }
   ],
   "source": [
    "#libraries\n",
    "import os \n",
    "os.environ['KMP_DUPLICATE_LIB_OK']='True'\n",
    "\n",
    "import pandas as pd,requests,bs4,re,time,io,pytesseract,easyocr,random,textstat,urllib.request\n",
    "from pdfminer.high_level import extract_text\n",
    "from PIL import Image\n",
    "from pathlib import Path\n",
    "from pdf2image import convert_from_path\n",
    "from goose3 import Goose\n",
    "from datetime import datetime\n",
    "from bs4 import BeautifulSoup\n",
    "from tqdm.auto import tqdm\n",
    "\n",
    "reader = easyocr.Reader(['en'])\n",
    "\n",
    "import warnings\n",
    "warnings.filterwarnings(\"ignore\")\n",
    "\n",
    "%autosave 1"
   ]
  },
  {
   "cell_type": "code",
   "execution_count": 2,
   "id": "120f4969",
   "metadata": {
    "ExecuteTime": {
     "end_time": "2022-07-03T10:27:41.202309Z",
     "start_time": "2022-07-03T10:27:41.188380Z"
    },
    "code_folding": [
     0
    ]
   },
   "outputs": [],
   "source": [
    "#site name , domain and site link\n",
    "SITE_NAME='Kawasaki'\n",
    "\n",
    "DOMAIN = \"https://global.kawasaki.com\"\n",
    "\n",
    "SITE_LINK = \"https://global.kawasaki.com/en/corp/newsroom/news/index.html\""
   ]
  },
  {
   "cell_type": "code",
   "execution_count": 3,
   "id": "78993204",
   "metadata": {
    "ExecuteTime": {
     "end_time": "2022-07-03T10:27:41.232228Z",
     "start_time": "2022-07-03T10:27:41.206304Z"
    },
    "code_folding": [
     0
    ]
   },
   "outputs": [],
   "source": [
    "#functions\n",
    "def parse_webpage_bs(search_url):\n",
    "    \n",
    "    headers = {\n",
    "        \"User-Agent\": \"Mozilla/5.0 (Windows NT 10.0; Win64; x64; rv:90.0) Gecko/20100101 Firefox/90.0\"}\n",
    "    try:\n",
    "        site_request = requests.get(search_url, headers=headers, timeout=10)\n",
    "    except requests.exceptions.RequestException as e:\n",
    "        print(e)\n",
    "        site_request = None\n",
    "    if site_request != None and site_request.status_code==200:\n",
    "        site_soup = bs4.BeautifulSoup(site_request.content, \"lxml\")\n",
    "    else:\n",
    "        site_soup = None\n",
    "    return site_soup\n",
    "\n",
    "def remove_esc_chars(string):\n",
    "    review = re.sub('''[^a-zA-Z0-9!\"#$%&'()*+,-./:;<=>?@[\\]^_`{|}~°]''', ' ',string)\n",
    "    review = review.split()\n",
    "    review = ' '.join(review)\n",
    "    return review\n",
    "\n",
    "def get_text_thumb(link): \n",
    "    try:\n",
    "        soup = parse_webpage_bs(link)\n",
    "        text_n_thumb = soup.find('div', {'class': 'row block'})\n",
    "        thumbnails = text_n_thumb.find_all('div', {'align': 'center'})\n",
    "        all_thumbnails = []\n",
    "        for th in thumbnails:\n",
    "            try:\n",
    "                all_thumbnails.append(DOMAIN + th.find(\"img\")[\"src\"])\n",
    "            except:\n",
    "                pass\n",
    "        thumb = all_thumbnails[0]\n",
    "        ps = text_n_thumb.text\n",
    "        text = remove_esc_chars(ps).strip()\n",
    "    except:\n",
    "        thumb = \"https://global.kawasaki.com/common/img/identity.png\"\n",
    "        g = Goose()\n",
    "        article_extract = g.extract(url=link)\n",
    "        article = remove_esc_chars(article_extract.cleaned_text)\n",
    "        meta_data = remove_esc_chars(article_extract.meta_description)\n",
    "        whole_data = meta_data+article\n",
    "        text = whole_data.strip()\n",
    "\n",
    "        if textstat.lexicon_count(text, removepunct=True) < 5:\n",
    "            try:\n",
    "                response = requests.get(link)\n",
    "                text = remove_esc_chars(extract_text(io.BytesIO(response.content)))\n",
    "\n",
    "                if textstat.lexicon_count(text, removepunct=True) < 5:\n",
    "                    texts = \"\"\n",
    "                    r = requests.get(link)\n",
    "                    filename = Path('temp.pdf')\n",
    "                    filename.write_bytes(r.content)\n",
    "\n",
    "                    pages = convert_from_path('temp.pdf', 500)\n",
    "                    for x in pages:\n",
    "                        x.save(\"temp.jpg\")\n",
    "                        output = reader.readtext(\"temp.jpg\")\n",
    "                        for o in output:\n",
    "                            texts += o[1]\n",
    "\n",
    "                    text = remove_esc_chars(texts)\n",
    "\n",
    "                    if textstat.lexicon_count(text, removepunct=True) < 5:\n",
    "                        texts = \"\"\n",
    "                        soup = parse_webpage_bs(link)\n",
    "                        if soup!= None:\n",
    "                            ps = soup.findAll('p')\n",
    "                            for p in ps:\n",
    "                                texts+= p.text\n",
    "\n",
    "                        text = remove_esc_chars(texts)\n",
    "            except:\n",
    "                text = \"\"\n",
    "    \n",
    "    return text , thumb"
   ]
  },
  {
   "cell_type": "code",
   "execution_count": 4,
   "id": "f2d2e401",
   "metadata": {
    "ExecuteTime": {
     "end_time": "2022-07-03T10:29:50.922254Z",
     "start_time": "2022-07-03T10:27:41.234259Z"
    },
    "code_folding": [
     0
    ]
   },
   "outputs": [
    {
     "data": {
      "application/vnd.jupyter.widget-view+json": {
       "model_id": "e13b12989efb48daa263ce49fddf2157",
       "version_major": 2,
       "version_minor": 0
      },
      "text/plain": [
       "Getting Data for year 2022:   0%|          | 0/10 [00:00<?, ?it/s]"
      ]
     },
     "metadata": {},
     "output_type": "display_data"
    },
    {
     "name": "stdout",
     "output_type": "stream",
     "text": [
      "Jun. 29, 2022 LPG-fueled LPG carrier CRYSTAL OASIS Delivered\n",
      "Jun. 24, 2022 RESOLUTIONS OF THE 199th ORDINARY GENERAL MEETING OF SHAREHOLDERS(2022)\n",
      "Jun. 23, 2022 Bulk Carrier PHILHOKUSAI Delivered\n",
      "Jun. 21, 2022 Kawasaki Receives an Order for an 86,700 m LPG-fueled LPG/ NH3 Carrier\n",
      "Jun. 17, 2022 Bulk Carrier AQUARUBY Delivered\n",
      "Jun. 16, 2022 WMATA 7000 Series Railcars to Resume Service Operation (PDF:47.4K )\n",
      "Jun. 07, 2022 Notice of Inappropriate Conduct by Kawasaki Thermal Engineering Co., Ltd.\n",
      "Jun. 06, 2022 Kawasaki decides to issue Green Bond Contribution to global carbon neutrality by building a clean h...\n",
      "May 31, 2022 Kawasaki Completes World s First Basic Engineering Works for Hydrogen Marine Main Boiler\n",
      "May 26, 2022 THE 199th ORDINARY GENERAL MEETING OF SHAREHOLDERS (2022)\n"
     ]
    },
    {
     "data": {
      "application/vnd.jupyter.widget-view+json": {
       "model_id": "80fcbc95520f43d58821e3b60dc0d59d",
       "version_major": 2,
       "version_minor": 0
      },
      "text/plain": [
       "Getting Data for year 2021:   0%|          | 0/10 [00:00<?, ?it/s]"
      ]
     },
     "metadata": {},
     "output_type": "display_data"
    },
    {
     "name": "stdout",
     "output_type": "stream",
     "text": [
      "Dec. 27, 2021 Kawasaki Receives First Order from Malaysia for Cogeneration System Using Fully Made-in-Japan M5A Ga...\n",
      "Dec. 21, 2021 Total Sales of PV Series Hydraulic Remote Control Valves for Construction Machinery Reach 10 Million...\n",
      "Dec. 16, 2021 Kawasaki-brand Green Products 2021 were selected\n",
      "Dec. 15, 2021 WMATA 7000 Series Railcars to Resume Service Operation (PDF:29.2K )\n",
      "Dec. 13, 2021 New addition to the Changing forward short video series, Group Vision 2030 New Values - H2 Edition ...\n",
      "Dec. 10, 2021 Kawasaki Environmental Report 2021 Issued\n",
      "Dec. 09, 2021 The Kawasaki Report 2021 Issued\n",
      "Dec. 09, 2021 ONE OF THE WORLD S FIRST 100% HYDROGEN-TO-POWER DEMONSTRATIONS ON INDUSTRIAL SCALE LAUNCHES IN LINGE... (PDF:341.2K )\n",
      "Dec. 09, 2021 Group Vision 2030 Progress Report Meeting\n",
      "Dec. 08, 2021 Kawasaki Links Up with TOMOHIROKAI to Expand PCR Test Center at Kansai International Airport-New Cli... (PDF:876.7K )\n"
     ]
    }
   ],
   "source": [
    "#get data\n",
    "article_list = []\n",
    "\n",
    "pagination = datetime.today().year\n",
    "last_page = 2001\n",
    "\n",
    "while pagination >= last_page:\n",
    "    try:\n",
    "        #getting soup fom url \n",
    "        url = f\"https://global.kawasaki.com/en/corp/newsroom/news/index.html?year={pagination}&category=\"\n",
    "        soup = parse_webpage_bs(url)\n",
    "\n",
    "        #container\n",
    "        container = soup.findAll('dl', {'class': 'line_1ofList'})\n",
    "\n",
    "        #creating empty lists to append data \n",
    "        published_dates,titles,texts,links,thumbnails,authors = [],[],[],[],[],[]\n",
    "\n",
    "        for element in tqdm(container[:10],desc=f\"Getting Data for year {pagination}\"):\n",
    "            published_date  = element.find('dt').text.strip()\n",
    "            published_dates.append(published_date)\n",
    "            title_n_link = element.find('dd')\n",
    "            title  = remove_esc_chars(title_n_link.text.strip())\n",
    "            titles.append(title)\n",
    "            link_fetched = title_n_link.find('a')['href']\n",
    "            if not re.findall(\"http\",link_fetched):\n",
    "                link =  DOMAIN +  title_n_link.find('a')['href']\n",
    "            else:\n",
    "                link = link_fetched\n",
    "            links.append(link)\n",
    "            author = SITE_NAME\n",
    "            authors.append(author)\n",
    "            text,thumbnail = get_text_thumb(link)\n",
    "            texts.append(text)\n",
    "            thumbnails.append(thumbnail)\n",
    "\n",
    "        #zippig all the data togather \n",
    "        zipped = list(zip(published_dates,titles,texts,links,thumbnails,authors))\n",
    "\n",
    "        #unwinding and appending to the main list\n",
    "        for published_date,title,text,link,thumbnail,author in zipped:\n",
    "            article = (published_date.strip(),title.strip(),text.strip(),link.strip(),thumbnail.strip(),author.strip())\n",
    "            article_list.append(article)\n",
    "            print(published_date,title)\n",
    "\n",
    "        #my condition to break\n",
    "        if pagination == 2021:\n",
    "            break\n",
    "            \n",
    "        pagination -=1 \n",
    "    except:\n",
    "        print(\"retrying...\")"
   ]
  },
  {
   "cell_type": "code",
   "execution_count": 5,
   "id": "1130771b",
   "metadata": {
    "ExecuteTime": {
     "end_time": "2022-07-03T10:29:50.968096Z",
     "start_time": "2022-07-03T10:29:50.929203Z"
    },
    "code_folding": [
     0
    ]
   },
   "outputs": [
    {
     "data": {
      "text/html": [
       "<div>\n",
       "<style scoped>\n",
       "    .dataframe tbody tr th:only-of-type {\n",
       "        vertical-align: middle;\n",
       "    }\n",
       "\n",
       "    .dataframe tbody tr th {\n",
       "        vertical-align: top;\n",
       "    }\n",
       "\n",
       "    .dataframe thead th {\n",
       "        text-align: right;\n",
       "    }\n",
       "</style>\n",
       "<table border=\"1\" class=\"dataframe\">\n",
       "  <thead>\n",
       "    <tr style=\"text-align: right;\">\n",
       "      <th></th>\n",
       "      <th>date</th>\n",
       "      <th>title</th>\n",
       "      <th>article</th>\n",
       "      <th>url</th>\n",
       "      <th>thumbnail</th>\n",
       "      <th>author</th>\n",
       "    </tr>\n",
       "  </thead>\n",
       "  <tbody>\n",
       "    <tr>\n",
       "      <th>0</th>\n",
       "      <td>Jun. 29, 2022</td>\n",
       "      <td>LPG-fueled LPG carrier CRYSTAL OASIS Delivered</td>\n",
       "      <td>Tokyo, June 29, 2022 Kawasaki Heavy Industries...</td>\n",
       "      <td>https://global.kawasaki.com/en/corp/newsroom/n...</td>\n",
       "      <td>https://global.kawasaki.com/en/corp/newsroom/n...</td>\n",
       "      <td>Kawasaki</td>\n",
       "    </tr>\n",
       "    <tr>\n",
       "      <th>1</th>\n",
       "      <td>Jun. 24, 2022</td>\n",
       "      <td>RESOLUTIONS OF THE 199th ORDINARY GENERAL MEET...</td>\n",
       "      <td>Learn about Shareholders' Meeting - Kawasaki H...</td>\n",
       "      <td>https://global.kawasaki.com/en/corp/ir/shareho...</td>\n",
       "      <td>https://global.kawasaki.com/common/img/identit...</td>\n",
       "      <td>Kawasaki</td>\n",
       "    </tr>\n",
       "    <tr>\n",
       "      <th>2</th>\n",
       "      <td>Jun. 23, 2022</td>\n",
       "      <td>Bulk Carrier PHILHOKUSAI Delivered</td>\n",
       "      <td>Tokyo, June 23, 2022 Kawasaki Heavy Industries...</td>\n",
       "      <td>https://global.kawasaki.com/en/corp/newsroom/n...</td>\n",
       "      <td>https://global.kawasaki.com/en/corp/newsroom/n...</td>\n",
       "      <td>Kawasaki</td>\n",
       "    </tr>\n",
       "    <tr>\n",
       "      <th>3</th>\n",
       "      <td>Jun. 21, 2022</td>\n",
       "      <td>Kawasaki Receives an Order for an 86,700 m LPG...</td>\n",
       "      <td>Kawasaki Receives an Order for an 86,700 m LPG...</td>\n",
       "      <td>https://global.kawasaki.com/en/corp/newsroom/n...</td>\n",
       "      <td>https://global.kawasaki.com/common/img/identit...</td>\n",
       "      <td>Kawasaki</td>\n",
       "    </tr>\n",
       "    <tr>\n",
       "      <th>4</th>\n",
       "      <td>Jun. 17, 2022</td>\n",
       "      <td>Bulk Carrier AQUARUBY Delivered</td>\n",
       "      <td>Tokyo, June 17, 2022 Kawasaki Heavy Industries...</td>\n",
       "      <td>https://global.kawasaki.com/en/corp/newsroom/n...</td>\n",
       "      <td>https://global.kawasaki.com/en/corp/newsroom/n...</td>\n",
       "      <td>Kawasaki</td>\n",
       "    </tr>\n",
       "  </tbody>\n",
       "</table>\n",
       "</div>"
      ],
      "text/plain": [
       "            date                                              title  \\\n",
       "0  Jun. 29, 2022     LPG-fueled LPG carrier CRYSTAL OASIS Delivered   \n",
       "1  Jun. 24, 2022  RESOLUTIONS OF THE 199th ORDINARY GENERAL MEET...   \n",
       "2  Jun. 23, 2022                 Bulk Carrier PHILHOKUSAI Delivered   \n",
       "3  Jun. 21, 2022  Kawasaki Receives an Order for an 86,700 m LPG...   \n",
       "4  Jun. 17, 2022                    Bulk Carrier AQUARUBY Delivered   \n",
       "\n",
       "                                             article  \\\n",
       "0  Tokyo, June 29, 2022 Kawasaki Heavy Industries...   \n",
       "1  Learn about Shareholders' Meeting - Kawasaki H...   \n",
       "2  Tokyo, June 23, 2022 Kawasaki Heavy Industries...   \n",
       "3  Kawasaki Receives an Order for an 86,700 m LPG...   \n",
       "4  Tokyo, June 17, 2022 Kawasaki Heavy Industries...   \n",
       "\n",
       "                                                 url  \\\n",
       "0  https://global.kawasaki.com/en/corp/newsroom/n...   \n",
       "1  https://global.kawasaki.com/en/corp/ir/shareho...   \n",
       "2  https://global.kawasaki.com/en/corp/newsroom/n...   \n",
       "3  https://global.kawasaki.com/en/corp/newsroom/n...   \n",
       "4  https://global.kawasaki.com/en/corp/newsroom/n...   \n",
       "\n",
       "                                           thumbnail    author  \n",
       "0  https://global.kawasaki.com/en/corp/newsroom/n...  Kawasaki  \n",
       "1  https://global.kawasaki.com/common/img/identit...  Kawasaki  \n",
       "2  https://global.kawasaki.com/en/corp/newsroom/n...  Kawasaki  \n",
       "3  https://global.kawasaki.com/common/img/identit...  Kawasaki  \n",
       "4  https://global.kawasaki.com/en/corp/newsroom/n...  Kawasaki  "
      ]
     },
     "execution_count": 5,
     "metadata": {},
     "output_type": "execute_result"
    }
   ],
   "source": [
    "#temp df\n",
    "temp_df = pd.DataFrame(article_list,columns=['date','title','article','url','thumbnail','author'])\n",
    "temp_df.head()"
   ]
  },
  {
   "cell_type": "code",
   "execution_count": 6,
   "id": "379bd385",
   "metadata": {
    "ExecuteTime": {
     "end_time": "2022-07-03T10:29:52.325904Z",
     "start_time": "2022-07-03T10:29:50.970091Z"
    },
    "code_folding": [
     0
    ],
    "scrolled": false
   },
   "outputs": [
    {
     "name": "stdout",
     "output_type": "stream",
     "text": [
      "Dec. 08, 2021 Kawasaki Links Up with TOMOHIROKAI to Expand PCR Test Center at Kansai International Airport-New Cli... (PDF:876.7K )\n",
      "\n",
      "Kawasaki https://global.kawasaki.com/news_211208-1.pdf\n"
     ]
    },
    {
     "data": {
      "image/png": "[encoded data removed]",
      "text/plain": [
       "<PIL.PngImagePlugin.PngImageFile image mode=RGBA size=259x61 at 0x2AC74B729D0>"
      ]
     },
     "metadata": {},
     "output_type": "display_data"
    },
    {
     "name": "stdout",
     "output_type": "stream",
     "text": [
      "\n",
      "December 8, 2021 Medical Corporation TOMOHIROKAI Kawasaki Heavy Industries, Ltd. Kawasaki Links Up with TOMOHIROKAI to Expand PCR Test Center at Kansai International Airport New Clinic to Be Launched to Provide COVID-19 Testing and Certificates of Negative Result December 8, 2021 Kawasaki Heavy Industries, Ltd. announced their partnership with Medical Corporation TOMOHIROKAI to expand the capability of the PCR Test Center launched in September 2021 at Kansai International Airport (KIX). Artist s rendition of the new clinic (conceptual drawing) Artist s rendition of the PCR Test Center s reception counter TOMOHIROKAI will open the Kansai International Airport PCR Test Clinic, Medical Corporation TOMOHIROKAI on the fourth floor of Terminal 1 (International Departure Floor), beginning December 13, 2021, to offer pre-departure COVID-19 testing for international travelers. In addition to PCR tests, the clinic will provide quantitative antigen tests and serum IgM antibody tests to accommodate various travel requirements. Kawasaki has been contracted by TOMOHIROKAI to conduct PCR tests using the automated robotic PCR testing system which Kawasaki previously installed at KIX. In order to improve services, Kawasaki will utilize this testing system along with the capabilities provided by its new partnership to issue certificates as early as three hours after a traveler s arrival at the Test Center s reception desk. It also aims to offer telemedicine in the future. By expanding COVID-19 testing services at KIX, TOMOHIROKAI and Kawasaki hope to support the recovery of international flights. 1 1. Roles of TOMOHIROKAI and Kawasaki: TOMOHIROKAI: Quantitative antigen testing, serum IgM antibody testing, medical consultation (walk-in or online), specimen collection, definitive diagnoses, and issuance of Covid-19 certificate for international travel. Kawasaki: PCR testing, contracted operation of the PCR Test Center, including taking reservations, running the reception desk, collecting testing fees, and notifying travelers of results. 2. Outline of the facility Name: Kansai International Airport PCR Test Clinic, Medical Corporation TOMOHIROKAI Testing 1. Real-time PCR test: 22,000 yen (tax included) service Time required: Reservation to result notification - As early as 3 hours to receive offerings results. Sample type: Nasal swab (taken by a nurse at the clinic) or self-sampled saliva 2. Quantitative antigen test: 11,000 yen (tax included) Time required: Reservation to result notification As early as 90 minutes to receive results. Sample type: Nasal swab (taken by a nurse at the clinic) 3. Serum IgM antibody test: 11,000 yen (tax included) Time required: Reservation to result notification As early as 90 minutes to receive result. Sample type: Blood (taken by a nurse at the clinic) Note: The clinic is currently preparing to be registered as a testing facility with the Embassy of the People s Republic of China in Japan and the Consulate-General of the People's Republic of China. Therefore, results certificates cannot be used for entry to China. Notes Service fee covers examination and certificate Payment method: Credit card only (no cash accepted) Not covered by health insurance 2 Opening Normal times of operation: Open every day hours: 12:00 21:00 (must register before 20:30) Holiday schedule: January 1 & 2, 2022 12:00 - 18:00 (must register before 17:30) Reservation 1. Access the TeCOT (Testing Center for Overseas Travelers) website: methods: https://www.tecot.go.jp/english/ Appointments available beginning Monday, December 13, 2021, 12:00 noon 2. Access the clinic s website: https://kanku.tomohirokai.or.jp/en/ Appointments available beginning Wednesday, December 8, 2021, 12:00 noon 3. By telephone: 072-456-6243 Appointments available beginning Monday, December 13, 2021, 12:00 noon Open every day 12:00 - 21:00 Holiday schedule: January 1 & 2, 2022 12:00 - 18:00 Notes To obtain a digital certificate, make your reservation via the TeCOT website (option 1) To make a reservation for serum IgM antibody testing, access the clinic s website (option 2) or call (option 3) For more details, access the TOMOHIROKAI website: https://kanku.tomohirokai.or.jp/en/ 3\n"
     ]
    }
   ],
   "source": [
    "#see data\n",
    "def see_data(iloc_no=random.randint(0,len(temp_df))-1):\n",
    "    print(temp_df.iloc[iloc_no]['date'],temp_df.iloc[iloc_no]['title'])\n",
    "    print(f\"\\n{temp_df.iloc[iloc_no]['author']} {temp_df.iloc[iloc_no]['url']}\")\n",
    "    urllib.request.urlretrieve(temp_df.iloc[iloc_no]['thumbnail'], \"temp.jpg\")\n",
    "    display(Image.open(\"temp.jpg\"))\n",
    "    print(f\"\\n{temp_df.iloc[iloc_no]['article']}\")\n",
    "\n",
    "see_data()"
   ]
  },
  {
   "cell_type": "code",
   "execution_count": 7,
   "id": "47e2398e",
   "metadata": {
    "ExecuteTime": {
     "end_time": "2022-07-03T10:29:52.371937Z",
     "start_time": "2022-07-03T10:29:52.326874Z"
    },
    "code_folding": [
     0
    ]
   },
   "outputs": [],
   "source": [
    "#to csv\n",
    "temp_df.to_csv(f'{SITE_NAME} news.csv',index = False)\n",
    "\n",
    "#to json\n",
    "temp_df.to_json(f'{SITE_NAME} news.json')"
   ]
  },
  {
   "cell_type": "code",
   "execution_count": 8,
   "id": "5e29ae75",
   "metadata": {
    "ExecuteTime": {
     "end_time": "2022-07-03T10:29:52.402883Z",
     "start_time": "2022-07-03T10:29:52.377927Z"
    },
    "code_folding": [
     0
    ]
   },
   "outputs": [
    {
     "name": "stdout",
     "output_type": "stream",
     "text": [
      "Trash removed successfully\n"
     ]
    }
   ],
   "source": [
    "#to get rid of unwanteed trash created by the model use \n",
    "def remove_trash():\n",
    "    try:\n",
    "        try:\n",
    "            os.remove(\"temp.pdf\")\n",
    "        except:\n",
    "            pass\n",
    "        os.remove(\"temp.jpg\")\n",
    "        print(\"Trash removed successfully\")\n",
    "    except:\n",
    "        print(\"No trash found\")\n",
    "\n",
    "remove_trash()"
   ]
  }
 ],
 "metadata": {
  "kernelspec": {
   "display_name": "Python 3 (ipykernel)",
   "language": "python",
   "name": "python3"
  },
  "language_info": {
   "codemirror_mode": {
    "name": "ipython",
    "version": 3
   },
   "file_extension": ".py",
   "mimetype": "text/x-python",
   "name": "python",
   "nbconvert_exporter": "python",
   "pygments_lexer": "ipython3",
   "version": "3.9.7"
  },
  "toc": {
   "base_numbering": 1,
   "nav_menu": {},
   "number_sections": true,
   "sideBar": true,
   "skip_h1_title": false,
   "title_cell": "Table of Contents",
   "title_sidebar": "Contents",
   "toc_cell": false,
   "toc_position": {},
   "toc_section_display": true,
   "toc_window_display": false
  }
 },
 "nbformat": 4,
 "nbformat_minor": 5
}
