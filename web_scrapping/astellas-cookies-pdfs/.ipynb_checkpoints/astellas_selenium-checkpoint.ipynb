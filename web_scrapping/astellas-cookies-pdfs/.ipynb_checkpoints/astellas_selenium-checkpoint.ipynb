{
 "cells": [
  {
   "cell_type": "code",
   "execution_count": 1,
   "id": "22a425b4",
   "metadata": {
    "ExecuteTime": {
     "end_time": "2022-06-06T17:48:12.603329Z",
     "start_time": "2022-06-06T17:48:07.900742Z"
    }
   },
   "outputs": [
    {
     "name": "stderr",
     "output_type": "stream",
     "text": [
      "D:\\Anaconda\\envs\\gpu_16march2022\\lib\\site-packages\\tqdm\\auto.py:22: TqdmWarning: IProgress not found. Please update jupyter and ipywidgets. See https://ipywidgets.readthedocs.io/en/stable/user_install.html\n",
      "  from .autonotebook import tqdm as notebook_tqdm\n",
      "CUDA not available - defaulting to CPU. Note: This module is much faster with a GPU.\n"
     ]
    },
    {
     "data": {
      "application/javascript": [
       "IPython.notebook.set_autosave_interval(1000)"
      ]
     },
     "metadata": {},
     "output_type": "display_data"
    },
    {
     "name": "stdout",
     "output_type": "stream",
     "text": [
      "Autosaving every 1 seconds\n"
     ]
    }
   ],
   "source": [
    "import os \n",
    "os.environ['KMP_DUPLICATE_LIB_OK']='True'\n",
    "\n",
    "import pandas as pd,requests,bs4,re,time,io,pytesseract,easyocr,random\n",
    "from pdfminer.high_level import extract_text\n",
    "from PIL import Image\n",
    "from pathlib import Path\n",
    "from pdf2image import convert_from_path\n",
    "from selenium.webdriver.common.by import By\n",
    "from goose3 import Goose\n",
    "from datetime import datetime\n",
    "from bs4 import BeautifulSoup\n",
    "from selenium import webdriver\n",
    "\n",
    "reader = easyocr.Reader(['en'])\n",
    "\n",
    "import warnings\n",
    "warnings.filterwarnings(\"ignore\")\n",
    "\n",
    "%autosave 1"
   ]
  },
  {
   "cell_type": "code",
   "execution_count": 2,
   "id": "4db8abd6",
   "metadata": {
    "ExecuteTime": {
     "end_time": "2022-06-06T17:48:15.966083Z",
     "start_time": "2022-06-06T17:48:12.605321Z"
    }
   },
   "outputs": [
    {
     "name": "stderr",
     "output_type": "stream",
     "text": [
      "\n",
      "\n",
      "====== WebDriver manager ======\n",
      "Current google-chrome version is 102.0.5005\n",
      "Get LATEST chromedriver version for 102.0.5005 google-chrome\n",
      "Driver [C:\\Users\\AKSHAY SATPUTE\\.wdm\\drivers\\chromedriver\\win32\\102.0.5005.61\\chromedriver.exe] found in cache\n"
     ]
    }
   ],
   "source": [
    "#driver for operation\n",
    "from webdriver_manager.chrome import ChromeDriverManager\n",
    "option = webdriver.ChromeOptions()\n",
    "# option.add_argument('headless')\n",
    "driver = webdriver.Chrome(ChromeDriverManager().install(),options=option)"
   ]
  },
  {
   "cell_type": "code",
   "execution_count": 3,
   "id": "a7ef40bd",
   "metadata": {
    "ExecuteTime": {
     "end_time": "2022-06-06T17:48:15.981754Z",
     "start_time": "2022-06-06T17:48:15.967764Z"
    }
   },
   "outputs": [],
   "source": [
    "SITE_NAME='Astellas'\n",
    "\n",
    "DOMAIN = \"https://www.astellas.com\"\n",
    "\n",
    "SITE_LINK=\"https://www.astellas.com/en/news\""
   ]
  },
  {
   "cell_type": "code",
   "execution_count": 4,
   "id": "aba882cc",
   "metadata": {
    "ExecuteTime": {
     "end_time": "2022-06-06T17:48:15.997779Z",
     "start_time": "2022-06-06T17:48:15.983724Z"
    }
   },
   "outputs": [],
   "source": [
    "def remove_esc_chars(text):\n",
    "    return text.replace(\"\\n\", \" \").replace(\"\\t\", \" \").replace(\"\\r\", \" \")\n",
    "\n",
    "def get_text(link):\n",
    "    g = Goose()\n",
    "    article_extract = g.extract(url=link)\n",
    "    article = remove_esc_chars(article_extract.cleaned_text)\n",
    "    meta_data = remove_esc_chars(article_extract.meta_description)\n",
    "    whole_data = meta_data+article\n",
    "    text = whole_data.strip()\n",
    "    \n",
    "    if len(text) < 10:\n",
    "        try:\n",
    "            response = requests.get(link)\n",
    "            text = remove_esc_chars(extract_text(io.BytesIO(response.content)))\n",
    "\n",
    "            if len(text) < 10:\n",
    "                texts = \"\"\n",
    "                r = requests.get(link)\n",
    "                filename = Path('temp.pdf')\n",
    "                filename.write_bytes(r.content)\n",
    "\n",
    "                pages = convert_from_path('temp.pdf', 500)\n",
    "                for x in pages:\n",
    "                    x.save(\"temp.jpg\")\n",
    "                    output = reader.readtext(\"temp.jpg\")\n",
    "                    for o in output:\n",
    "                        texts += o[1]\n",
    "\n",
    "                text = remove_esc_chars(texts)\n",
    "        except:\n",
    "            text = \"\"\n",
    "    \n",
    "    return text"
   ]
  },
  {
   "cell_type": "code",
   "execution_count": 5,
   "id": "c58a64a5",
   "metadata": {
    "ExecuteTime": {
     "end_time": "2022-06-06T17:48:16.013641Z",
     "start_time": "2022-06-06T17:48:16.000676Z"
    },
    "scrolled": true
   },
   "outputs": [],
   "source": [
    "def get_text_whn_cookies(link):\n",
    "    retry_count = 3\n",
    "    text = get_text(link)\n",
    "    \n",
    "    if re.findall(\"Why have I been blocked?\",text): \n",
    "       \n",
    "        while retry_count >0:\n",
    "            driver.get(link)\n",
    "            try:\n",
    "                if True:\n",
    "                    driver.find_element_by_xpath('''/html/body/div/div/div/section/div/div[1]/div/div[2]''').click()\n",
    "            except:\n",
    "                pass\n",
    "            ps = driver.find_elements_by_tag_name(\"p\")\n",
    "            texts = \"\"\n",
    "            for p in ps:\n",
    "                texts +=p.text\n",
    "            text = remove_esc_chars(texts).strip()\n",
    "            if len(text) < 10:\n",
    "                retry_count -= 1\n",
    "                time.sleep(10)\n",
    "            else:\n",
    "                break\n",
    "                \n",
    "    if retry_count == 0:\n",
    "        text = \"\"\n",
    "                \n",
    "    return text"
   ]
  },
  {
   "cell_type": "code",
   "execution_count": 6,
   "id": "5e2b4a11",
   "metadata": {
    "ExecuteTime": {
     "end_time": "2022-06-06T17:49:10.703376Z",
     "start_time": "2022-06-06T17:48:16.014666Z"
    },
    "code_folding": [],
    "scrolled": true
   },
   "outputs": [
    {
     "name": "stdout",
     "output_type": "stream",
     "text": [
      "Jun 01, 2022 Astellas and GO Therapeutics Enter into Strategic Research and License Agreement to Develop Novel Antibodies for Immuno-Oncology\n",
      "May 26, 2022 Posted Notice of Convocation of the 17th Term Annual Shareholders Meeting\n",
      "May 20, 2022 Astellas Confirms Unfavorable District Court Decision in LEXISCAN® 0.4mg/mL U.S. Patent Trial\n",
      "May 19, 2022 Astellas Analysis Shows No Evidence of Increased Risk of Cardiovascular Events or Mortality with Roxadustat Compared with Erythropoiesis-Stimulating Agents (ESAs) at 59th ERA Congress 2022\n",
      "May 16, 2022 Astellas to Present New Research Further Supporting Roxadustat Safety in the Treatment of Symptomatic Anemia of Chronic Kidney Disease at 59th ERA Congress 2022\n",
      "May 13, 2022 Astellas Highlights Data on Advanced and Rare Cancers during 2022 ASCO Annual Meeting and EHA 2022 Hybrid Congress\n",
      "May 12, 2022 Notice Regarding Continuation of the Performance-linked Stock Compensation Scheme and Performance-linked Stock Delivery Scheme for the Domestic and Global Astellas Group Executives\n",
      "May 12, 2022 Notice Regarding Continuation of the Performance-linked Stock Compensation Scheme\n",
      "May 09, 2022 We renovated our recruitment site.\n",
      "May 09, 2022 We published a story: “Astellas DX Strategy Series Vol.1: Utilizing DX to Create and Maximize VALUE for Patients.”\n",
      "May 06, 2022 Astellas to Present 12-Week Data from Pivotal Phase 3 SKYLIGHT 1™ Trial of Fezolinetant in Oral Session at the American College of Obstetricians and Gynecologists Annual Meeting\n",
      "Apr 27, 2022 Changes of Representative Director and Directors\n",
      "Apr 27, 2022 Posted Financial Results for FY2021\n",
      "Apr 25, 2022 University of Tokyo, Astellas Enter Second Phase of Strategic Partnership for Co-creation of Innovative New Medicines and Medical Solutions\n",
      "Apr 22, 2022 Notice Regarding Impairment Loss for Products under Development\n"
     ]
    }
   ],
   "source": [
    "article_list = []\n",
    "pagination = 0\n",
    "last_page = 2 #250\n",
    "\n",
    "while pagination <= last_page:\n",
    "    url = f\"https://www.astellas.com/en/news?tab=latest&page={pagination}\"\n",
    "    driver.get(url)\n",
    "    if pagination == 0:\n",
    "        driver.find_element_by_xpath('''/html/body/div/div/div/section/div/div[1]/div/div[2]''').click()\n",
    "    latest = driver.find_element(By.ID,\"latest\")\n",
    "    elements = latest.find_elements(By.CLASS_NAME,\"views-row\")\n",
    "    \n",
    "    titles,published_dates,links,thumbnails,authors,texts = [],[],[],[],[],[]\n",
    "    \n",
    "    for element in elements:\n",
    "        title = element.find_element_by_class_name(\"views-field-field-title\").text.strip()\n",
    "        titles.append(title)\n",
    "        \n",
    "        published_date = element.find_element_by_class_name(\"views-field-field-release-date\").text.strip()\n",
    "        published_dates.append(published_date)\n",
    "        \n",
    "        link = element.find_element_by_tag_name(\"a\").get_attribute('href')\n",
    "        links.append(link)\n",
    "        \n",
    "        thumbnail = \"https://www.astellas.com/system/files/2017-01/global.png\"\n",
    "        thumbnails.append(thumbnail)\n",
    "        \n",
    "        author = SITE_NAME\n",
    "        authors.append(author)\n",
    "    \n",
    "    for link in links :\n",
    "        texts.append(get_text_whn_cookies(link))\n",
    "        \n",
    "    zipped = list(zip(published_dates,titles,texts,links,thumbnails,authors))\n",
    "    \n",
    "    for published_date,title,text,link,thumbnail,author in zipped:\n",
    "        article = (published_date.strip(),title.strip(),text.strip(),link.strip(),thumbnail.strip(),author.strip())\n",
    "        article_list.append(article)\n",
    "        print(published_date,title)\n",
    "\n",
    "    pagination += 1\n",
    " "
   ]
  },
  {
   "cell_type": "code",
   "execution_count": 7,
   "id": "4b0bc8bb",
   "metadata": {
    "ExecuteTime": {
     "end_time": "2022-06-06T17:49:10.733334Z",
     "start_time": "2022-06-06T17:49:10.705371Z"
    }
   },
   "outputs": [
    {
     "data": {
      "text/html": [
       "<div>\n",
       "<style scoped>\n",
       "    .dataframe tbody tr th:only-of-type {\n",
       "        vertical-align: middle;\n",
       "    }\n",
       "\n",
       "    .dataframe tbody tr th {\n",
       "        vertical-align: top;\n",
       "    }\n",
       "\n",
       "    .dataframe thead th {\n",
       "        text-align: right;\n",
       "    }\n",
       "</style>\n",
       "<table border=\"1\" class=\"dataframe\">\n",
       "  <thead>\n",
       "    <tr style=\"text-align: right;\">\n",
       "      <th></th>\n",
       "      <th>date</th>\n",
       "      <th>title</th>\n",
       "      <th>article</th>\n",
       "      <th>url</th>\n",
       "      <th>thumbnail</th>\n",
       "      <th>author</th>\n",
       "    </tr>\n",
       "  </thead>\n",
       "  <tbody>\n",
       "    <tr>\n",
       "      <th>0</th>\n",
       "      <td>Jun 01, 2022</td>\n",
       "      <td>Astellas and GO Therapeutics Enter into Strate...</td>\n",
       "      <td>- Collaboration to Accelerate Next-Generation ...</td>\n",
       "      <td>https://www.astellas.com/en/news/25851</td>\n",
       "      <td>https://www.astellas.com/system/files/2017-01/...</td>\n",
       "      <td>Astellas</td>\n",
       "    </tr>\n",
       "    <tr>\n",
       "      <th>1</th>\n",
       "      <td>May 26, 2022</td>\n",
       "      <td>Posted Notice of Convocation of the 17th Term ...</td>\n",
       "      <td>Follow us on social media</td>\n",
       "      <td>https://www.astellas.com/en/news/25841</td>\n",
       "      <td>https://www.astellas.com/system/files/2017-01/...</td>\n",
       "      <td>Astellas</td>\n",
       "    </tr>\n",
       "    <tr>\n",
       "      <th>2</th>\n",
       "      <td>May 20, 2022</td>\n",
       "      <td>Astellas Confirms Unfavorable District Court D...</td>\n",
       "      <td>TOKYO, May 20, 2022 – Astellas Pharma Inc. (TS...</td>\n",
       "      <td>https://www.astellas.com/en/news/25706</td>\n",
       "      <td>https://www.astellas.com/system/files/2017-01/...</td>\n",
       "      <td>Astellas</td>\n",
       "    </tr>\n",
       "    <tr>\n",
       "      <th>3</th>\n",
       "      <td>May 19, 2022</td>\n",
       "      <td>Astellas Analysis Shows No Evidence of Increas...</td>\n",
       "      <td>Pooled Phase 3 data for anemia of CKD patients...</td>\n",
       "      <td>https://www.astellas.com/en/news/25831</td>\n",
       "      <td>https://www.astellas.com/system/files/2017-01/...</td>\n",
       "      <td>Astellas</td>\n",
       "    </tr>\n",
       "    <tr>\n",
       "      <th>4</th>\n",
       "      <td>May 16, 2022</td>\n",
       "      <td>Astellas to Present New Research Further Suppo...</td>\n",
       "      <td>Three abstracts provide additional insights in...</td>\n",
       "      <td>https://www.astellas.com/en/news/25821</td>\n",
       "      <td>https://www.astellas.com/system/files/2017-01/...</td>\n",
       "      <td>Astellas</td>\n",
       "    </tr>\n",
       "    <tr>\n",
       "      <th>5</th>\n",
       "      <td>May 13, 2022</td>\n",
       "      <td>Astellas Highlights Data on Advanced and Rare ...</td>\n",
       "      <td>Abstracts represent exciting research progress...</td>\n",
       "      <td>https://www.astellas.com/en/news/25816</td>\n",
       "      <td>https://www.astellas.com/system/files/2017-01/...</td>\n",
       "      <td>Astellas</td>\n",
       "    </tr>\n",
       "    <tr>\n",
       "      <th>6</th>\n",
       "      <td>May 12, 2022</td>\n",
       "      <td>Notice Regarding Continuation of the Performan...</td>\n",
       "      <td>Press Release   Notice Regarding Continuation ...</td>\n",
       "      <td>https://www.astellas.com/system/files/news/202...</td>\n",
       "      <td>https://www.astellas.com/system/files/2017-01/...</td>\n",
       "      <td>Astellas</td>\n",
       "    </tr>\n",
       "    <tr>\n",
       "      <th>7</th>\n",
       "      <td>May 12, 2022</td>\n",
       "      <td>Notice Regarding Continuation of the Performan...</td>\n",
       "      <td>Press Release   Notice Regarding Continuation ...</td>\n",
       "      <td>https://www.astellas.com/system/files/news/202...</td>\n",
       "      <td>https://www.astellas.com/system/files/2017-01/...</td>\n",
       "      <td>Astellas</td>\n",
       "    </tr>\n",
       "    <tr>\n",
       "      <th>8</th>\n",
       "      <td>May 09, 2022</td>\n",
       "      <td>We renovated our recruitment site.</td>\n",
       "      <td>This phrase reflects our sincere hope.We belie...</td>\n",
       "      <td>https://www.astellas.com/en/news/25801</td>\n",
       "      <td>https://www.astellas.com/system/files/2017-01/...</td>\n",
       "      <td>Astellas</td>\n",
       "    </tr>\n",
       "    <tr>\n",
       "      <th>9</th>\n",
       "      <td>May 09, 2022</td>\n",
       "      <td>We published a story: “Astellas DX Strategy Se...</td>\n",
       "      <td>The pharmaceutical industry handles vast amoun...</td>\n",
       "      <td>https://www.astellas.com/en/news/25796</td>\n",
       "      <td>https://www.astellas.com/system/files/2017-01/...</td>\n",
       "      <td>Astellas</td>\n",
       "    </tr>\n",
       "    <tr>\n",
       "      <th>10</th>\n",
       "      <td>May 06, 2022</td>\n",
       "      <td>Astellas to Present 12-Week Data from Pivotal ...</td>\n",
       "      <td>Astellas’ investigational nonhormonal treatmen...</td>\n",
       "      <td>https://www.astellas.com/en/news/25781</td>\n",
       "      <td>https://www.astellas.com/system/files/2017-01/...</td>\n",
       "      <td>Astellas</td>\n",
       "    </tr>\n",
       "    <tr>\n",
       "      <th>11</th>\n",
       "      <td>Apr 27, 2022</td>\n",
       "      <td>Changes of Representative Director and Directors</td>\n",
       "      <td>Press Release   Changes of Representative Dire...</td>\n",
       "      <td>https://www.astellas.com/system/files/news/202...</td>\n",
       "      <td>https://www.astellas.com/system/files/2017-01/...</td>\n",
       "      <td>Astellas</td>\n",
       "    </tr>\n",
       "    <tr>\n",
       "      <th>12</th>\n",
       "      <td>Apr 27, 2022</td>\n",
       "      <td>Posted Financial Results for FY2021</td>\n",
       "      <td>Follow us on social media</td>\n",
       "      <td>https://www.astellas.com/en/news/25736</td>\n",
       "      <td>https://www.astellas.com/system/files/2017-01/...</td>\n",
       "      <td>Astellas</td>\n",
       "    </tr>\n",
       "    <tr>\n",
       "      <th>13</th>\n",
       "      <td>Apr 25, 2022</td>\n",
       "      <td>University of Tokyo, Astellas Enter Second Pha...</td>\n",
       "      <td>TOKYO, April 25, 2022 – The University of Toky...</td>\n",
       "      <td>https://www.astellas.com/en/news/25746</td>\n",
       "      <td>https://www.astellas.com/system/files/2017-01/...</td>\n",
       "      <td>Astellas</td>\n",
       "    </tr>\n",
       "    <tr>\n",
       "      <th>14</th>\n",
       "      <td>Apr 22, 2022</td>\n",
       "      <td>Notice Regarding Impairment Loss for Products ...</td>\n",
       "      <td>TOKYO, April 22, 2022  - Astellas Pharma Inc. ...</td>\n",
       "      <td>https://www.astellas.com/en/news/25731</td>\n",
       "      <td>https://www.astellas.com/system/files/2017-01/...</td>\n",
       "      <td>Astellas</td>\n",
       "    </tr>\n",
       "  </tbody>\n",
       "</table>\n",
       "</div>"
      ],
      "text/plain": [
       "            date                                              title  \\\n",
       "0   Jun 01, 2022  Astellas and GO Therapeutics Enter into Strate...   \n",
       "1   May 26, 2022  Posted Notice of Convocation of the 17th Term ...   \n",
       "2   May 20, 2022  Astellas Confirms Unfavorable District Court D...   \n",
       "3   May 19, 2022  Astellas Analysis Shows No Evidence of Increas...   \n",
       "4   May 16, 2022  Astellas to Present New Research Further Suppo...   \n",
       "5   May 13, 2022  Astellas Highlights Data on Advanced and Rare ...   \n",
       "6   May 12, 2022  Notice Regarding Continuation of the Performan...   \n",
       "7   May 12, 2022  Notice Regarding Continuation of the Performan...   \n",
       "8   May 09, 2022                 We renovated our recruitment site.   \n",
       "9   May 09, 2022  We published a story: “Astellas DX Strategy Se...   \n",
       "10  May 06, 2022  Astellas to Present 12-Week Data from Pivotal ...   \n",
       "11  Apr 27, 2022   Changes of Representative Director and Directors   \n",
       "12  Apr 27, 2022                Posted Financial Results for FY2021   \n",
       "13  Apr 25, 2022  University of Tokyo, Astellas Enter Second Pha...   \n",
       "14  Apr 22, 2022  Notice Regarding Impairment Loss for Products ...   \n",
       "\n",
       "                                              article  \\\n",
       "0   - Collaboration to Accelerate Next-Generation ...   \n",
       "1                           Follow us on social media   \n",
       "2   TOKYO, May 20, 2022 – Astellas Pharma Inc. (TS...   \n",
       "3   Pooled Phase 3 data for anemia of CKD patients...   \n",
       "4   Three abstracts provide additional insights in...   \n",
       "5   Abstracts represent exciting research progress...   \n",
       "6   Press Release   Notice Regarding Continuation ...   \n",
       "7   Press Release   Notice Regarding Continuation ...   \n",
       "8   This phrase reflects our sincere hope.We belie...   \n",
       "9   The pharmaceutical industry handles vast amoun...   \n",
       "10  Astellas’ investigational nonhormonal treatmen...   \n",
       "11  Press Release   Changes of Representative Dire...   \n",
       "12                          Follow us on social media   \n",
       "13  TOKYO, April 25, 2022 – The University of Toky...   \n",
       "14  TOKYO, April 22, 2022  - Astellas Pharma Inc. ...   \n",
       "\n",
       "                                                  url  \\\n",
       "0              https://www.astellas.com/en/news/25851   \n",
       "1              https://www.astellas.com/en/news/25841   \n",
       "2              https://www.astellas.com/en/news/25706   \n",
       "3              https://www.astellas.com/en/news/25831   \n",
       "4              https://www.astellas.com/en/news/25821   \n",
       "5              https://www.astellas.com/en/news/25816   \n",
       "6   https://www.astellas.com/system/files/news/202...   \n",
       "7   https://www.astellas.com/system/files/news/202...   \n",
       "8              https://www.astellas.com/en/news/25801   \n",
       "9              https://www.astellas.com/en/news/25796   \n",
       "10             https://www.astellas.com/en/news/25781   \n",
       "11  https://www.astellas.com/system/files/news/202...   \n",
       "12             https://www.astellas.com/en/news/25736   \n",
       "13             https://www.astellas.com/en/news/25746   \n",
       "14             https://www.astellas.com/en/news/25731   \n",
       "\n",
       "                                            thumbnail    author  \n",
       "0   https://www.astellas.com/system/files/2017-01/...  Astellas  \n",
       "1   https://www.astellas.com/system/files/2017-01/...  Astellas  \n",
       "2   https://www.astellas.com/system/files/2017-01/...  Astellas  \n",
       "3   https://www.astellas.com/system/files/2017-01/...  Astellas  \n",
       "4   https://www.astellas.com/system/files/2017-01/...  Astellas  \n",
       "5   https://www.astellas.com/system/files/2017-01/...  Astellas  \n",
       "6   https://www.astellas.com/system/files/2017-01/...  Astellas  \n",
       "7   https://www.astellas.com/system/files/2017-01/...  Astellas  \n",
       "8   https://www.astellas.com/system/files/2017-01/...  Astellas  \n",
       "9   https://www.astellas.com/system/files/2017-01/...  Astellas  \n",
       "10  https://www.astellas.com/system/files/2017-01/...  Astellas  \n",
       "11  https://www.astellas.com/system/files/2017-01/...  Astellas  \n",
       "12  https://www.astellas.com/system/files/2017-01/...  Astellas  \n",
       "13  https://www.astellas.com/system/files/2017-01/...  Astellas  \n",
       "14  https://www.astellas.com/system/files/2017-01/...  Astellas  "
      ]
     },
     "execution_count": 7,
     "metadata": {},
     "output_type": "execute_result"
    }
   ],
   "source": [
    "#zippling the list so that it'll form the tuple\n",
    "temp_df = pd.DataFrame(article_list,columns=['date','title','article','url','thumbnail','author'])\n",
    "temp_df"
   ]
  },
  {
   "cell_type": "code",
   "execution_count": 8,
   "id": "797e8642",
   "metadata": {
    "ExecuteTime": {
     "end_time": "2022-06-06T17:49:10.870889Z",
     "start_time": "2022-06-06T17:49:10.735291Z"
    },
    "scrolled": false
   },
   "outputs": [
    {
     "name": "stdout",
     "output_type": "stream",
     "text": [
      "May 09, 2022 We published a story: “Astellas DX Strategy Series Vol.1: Utilizing DX to Create and Maximize VALUE for Patients.”\n",
      "\n",
      "Astellas https://www.astellas.com/en/news/25796\n"
     ]
    },
    {
     "data": {
      "image/png": "[encoded data removed]",
      "text/plain": [
       "<PIL.PngImagePlugin.PngImageFile image mode=RGBA size=60x60 at 0x1C0821C7BE0>"
      ]
     },
     "metadata": {},
     "output_type": "display_data"
    },
    {
     "name": "stdout",
     "output_type": "stream",
     "text": [
      "\n",
      "The pharmaceutical industry handles vast amounts of data throughout its entire value chain, from drug discovery (research), development, and manufacturing, to sales and the post-marketing maximization of our product value. Consulting firms have estimated that digital transformation (DX) will have a huge role to play in the information-intensive pharma industry. Conscious of the profound impact DX will have on the company's future, Astellas has selected DX as one of its critical enablers to create and deliver VALUE for patients and is driving forward initiatives on a global scale. Consultants analyzing the potential impact of DX on the pharmaceutical industry have highlighted huge benefits for drug R&D over the next 15 to20 years. These include the possibility of a 60% reduction in cost and a shortened timeframe of approximately 2.4 years*1 in drug research & development.*Source: “Paradigm of New Drug Discovery through Technology Advance” (Deloitte Tohmatsu Consulting LLC) “With advances in (digital) technology, (omitted) it will be possible, 15 to 20 years from now, to reduce the cost of pharmaceutical research and development by about 60% and shorten the development period by about 2.4 years.” https://www2.deloitte.com/jp/ja/pages/life-sciences-and-healthcare/articles/ls/brnp-v1.htmlIn today’s increasingly globalized marketplace, we currently conduct business in more than 70 countries worldwide. In this environment, we operate almost all aspects of our drug discovery (research), development, manufacturing, sales, and corporate operations as function-based organizations. Our DX initiatives are executed as global projects to achieve results that will significantly impact our entire group. Astellas' approach to DX is much more than just streamlining operations through digital technology. We have positioned DX as one of the critical enablers, accelerating our Corporate Strategic Plan 2021's execution, to realize our VISION: To be on the forefront of healthcare change to turn innovative science into VALUE for patients.While pharmaceutical prescriptions (Rx) will always remain a core element of our business, we are committed to providing further VALUE to patients throughout the entire patient journey. Our Rx+® business integrates innovative medical technologies with cutting-edge technologies in different fields to develop solutions across the whole spectrum of medical care—including diagnosis, prevention, therapeutic and prognostic care. DX plays a crucial role in this Rx+® business. Click here to learn more.By striving to implement DX across all areas of the value chain—including R&D, manufacturing, sales, and our Rx+® business—we are proactively developing solutions that maximize patient outcomes and reduce costs across the healthcare industry.Astellas’ definition of VALUE is detailed in the below graphic. Click here to learn more.  *Adapted from “What Is Value in HealthCare?” Porter, M.E. (2010). New England Journal of Medicine  Astellas' DX Vision is to \"become a world-class Intelligent Enterprise that accelerates digital transformation to turn innovative science to VALUE for patients.\" We have identified four levers (sources of value) centered around Digital x Data to realize our DX vision.Sense (Use sensory devices to collect various types of events as data) Analyze (Utilize and analyze all data to forecast the future and support bold and accurate decision-making early on) Automate (Use digital for high quality, fast operations) Engage (Use a combination of digital and analogue to connect people across time and space)By combining these four levers with our company's accumulated knowledge of science, we believe we will achieve superior pharmaceutical R&D and acquire competitive superiority.The type of DX we aspire to implement at Astellas is not one where technology replaces our people. Instead, it is one where digital technology works alongside our employees, complementing each other in areas of mutual strength. For example, digital technologies such as AI and robots will be responsible for collecting and analyzing necessary data and engaging in repetitive tasks. Experts in their respective fields would then take over, utilizing this data to spark ideas that only the human brain is capable of, and inspiring shifts and directional decisions based on strong volition. In other words, our goal is to create an environment in which every employee can play an active role to the fullest for the benefit of patients. Astellas' Information Systems division promotes business transform by introducing IT and digital technologies to existing operations in the prescription drug (Rx) business. It engages in the continuous renewal of our digital infrastructure, including communication and data utilization.Alongside our Information Systems division is AIA—the Advanced Informatics & Analytics division. This team of data analysis experts conducts and promotes sophisticated data analysis and utilization of AI, machine learning, and other advanced digital capabilities. These two divisions play a central role in advancing DX at the company-wide level in cooperation with other divisions.  \"For me, DX is about evolving the way we conduct business; it's about utilizing digital technology to dramatically increase VALUE for patients. Even if we introduce a small system, it is an excellent example of DX if it leads to increased patient VALUE. Conversely, if we decide to work with cutting-edge technology or use an extensive system, we can't call it DX if it does not evolve the way our business is done and lead to increased VALUE. In 2018, Astellas established a core team for driving forward DX in the three divisions of Corporate Strategy, AIA, and Information Systems. We have expanded the core team across divisions and are pushing forward DX projects across the value chain. We encourage all our employees, whatever project they are engaged with, to channel their passion for delivering as much patient VALUE as possible as quickly as possible by utilizing DX.\"  Employees in all Astellas’ business areas are working together to drive forward DX. Among our wide range of initiatives, we would like to highlight a series of efforts that represent our DX vision. Vol. 2 Drug Discovery (Research): Drug discovery platform enhanced by humans, AI and robots(to be published in early June 2022).  Creating innovative medicines through collaboration between AI and humansData, Informatics and AnalyticsRx+®  Follow us on social media\n"
     ]
    }
   ],
   "source": [
    "def see_data(iloc_no=random.randint(0,len(temp_df))-1):\n",
    "    print(temp_df.iloc[iloc_no]['date'],temp_df.iloc[iloc_no]['title'])\n",
    "    print(f\"\\n{temp_df.iloc[iloc_no]['author']} {temp_df.iloc[iloc_no]['url']}\")\n",
    "    display(Image.open(io.BytesIO(requests.get(temp_df.iloc[iloc_no]['thumbnail']).content)))\n",
    "    print(f\"\\n{temp_df.iloc[iloc_no]['article']}\")\n",
    "\n",
    "see_data()"
   ]
  },
  {
   "cell_type": "code",
   "execution_count": 9,
   "id": "a284afa7",
   "metadata": {
    "ExecuteTime": {
     "end_time": "2022-06-06T17:49:10.916827Z",
     "start_time": "2022-06-06T17:49:10.872887Z"
    }
   },
   "outputs": [],
   "source": [
    "#to csv\n",
    "temp_df.to_csv(f'{SITE_NAME} news.csv',index = False)\n",
    "\n",
    "#to json\n",
    "temp_df.to_json(f'{SITE_NAME} news.json')"
   ]
  },
  {
   "cell_type": "code",
   "execution_count": 10,
   "id": "96f92f1d",
   "metadata": {
    "ExecuteTime": {
     "end_time": "2022-06-06T17:49:10.932759Z",
     "start_time": "2022-06-06T17:49:10.917765Z"
    }
   },
   "outputs": [
    {
     "name": "stdout",
     "output_type": "stream",
     "text": [
      "No trash found\n"
     ]
    }
   ],
   "source": [
    "#to get rid of unwanteed trash created by the model use \n",
    "def remove_trash():\n",
    "    try:\n",
    "        os.remove(\"temp.jpg\")\n",
    "        os.remove(\"temp.pdf\")\n",
    "        print(\"Trash removed successfully\")\n",
    "    except:\n",
    "        print(\"No trash found\")\n",
    "\n",
    "remove_trash()"
   ]
  }
 ],
 "metadata": {
  "kernelspec": {
   "display_name": "Python 3 (ipykernel)",
   "language": "python",
   "name": "python3"
  },
  "language_info": {
   "codemirror_mode": {
    "name": "ipython",
    "version": 3
   },
   "file_extension": ".py",
   "mimetype": "text/x-python",
   "name": "python",
   "nbconvert_exporter": "python",
   "pygments_lexer": "ipython3",
   "version": "3.9.7"
  },
  "toc": {
   "base_numbering": 1,
   "nav_menu": {},
   "number_sections": true,
   "sideBar": true,
   "skip_h1_title": false,
   "title_cell": "Table of Contents",
   "title_sidebar": "Contents",
   "toc_cell": false,
   "toc_position": {},
   "toc_section_display": true,
   "toc_window_display": false
  }
 },
 "nbformat": 4,
 "nbformat_minor": 5
}
