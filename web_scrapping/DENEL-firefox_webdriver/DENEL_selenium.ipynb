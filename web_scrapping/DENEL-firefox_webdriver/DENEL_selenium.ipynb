{
 "cells": [
  {
   "cell_type": "markdown",
   "id": "4e3af982",
   "metadata": {},
   "source": [
    "**URL:**\n",
    "\n",
    "http://www.denel.co.za/press"
   ]
  },
  {
   "cell_type": "code",
   "execution_count": 1,
   "id": "3a5384d1",
   "metadata": {
    "ExecuteTime": {
     "end_time": "2022-07-07T05:49:33.161205Z",
     "start_time": "2022-07-07T05:48:04.814222Z"
    },
    "code_folding": [
     0
    ]
   },
   "outputs": [
    {
     "data": {
      "application/javascript": [
       "IPython.notebook.set_autosave_interval(1000)"
      ]
     },
     "metadata": {},
     "output_type": "display_data"
    },
    {
     "name": "stdout",
     "output_type": "stream",
     "text": [
      "Autosaving every 1 seconds\n"
     ]
    }
   ],
   "source": [
    "#libraries\n",
    "import os \n",
    "os.environ['KMP_DUPLICATE_LIB_OK']='True'\n",
    "\n",
    "import pandas as pd,requests,bs4,re,time,io,pytesseract,easyocr,random,textstat,urllib.request\n",
    "from pdfminer.high_level import extract_text\n",
    "from PIL import Image\n",
    "from pathlib import Path\n",
    "from pdf2image import convert_from_path\n",
    "from selenium.webdriver.common.by import By\n",
    "from selenium.webdriver.common.keys import Keys\n",
    "from goose3 import Goose\n",
    "from datetime import datetime\n",
    "from bs4 import BeautifulSoup\n",
    "from selenium import webdriver\n",
    "from tqdm.auto import tqdm\n",
    "\n",
    "reader = easyocr.Reader(['en'])\n",
    "\n",
    "import warnings\n",
    "warnings.filterwarnings(\"ignore\")\n",
    "\n",
    "%autosave 1"
   ]
  },
  {
   "cell_type": "code",
   "execution_count": 2,
   "id": "a38fac42",
   "metadata": {
    "ExecuteTime": {
     "end_time": "2022-07-07T05:50:13.944153Z",
     "start_time": "2022-07-07T05:49:46.058852Z"
    },
    "code_folding": [
     0
    ]
   },
   "outputs": [
    {
     "name": "stderr",
     "output_type": "stream",
     "text": [
      "\n",
      "\n",
      "====== WebDriver manager ======\n",
      "Current firefox version is 102.0\n",
      "Get LATEST geckodriver version for 102.0 firefox\n",
      "Getting latest mozilla release info for v0.31.0\n",
      "Trying to download new driver from https://github.com/mozilla/geckodriver/releases/download/v0.31.0/geckodriver-v0.31.0-win64.zip\n",
      "Driver has been saved in cache [C:\\Users\\AKSHAY SATPUTE\\.wdm\\drivers\\geckodriver\\win64\\v0.31.0]\n"
     ]
    }
   ],
   "source": [
    "#driver for operation\n",
    "from webdriver_manager.firefox import GeckoDriverManager\n",
    "driver = webdriver.Firefox(executable_path=GeckoDriverManager().install())"
   ]
  },
  {
   "cell_type": "code",
   "execution_count": 3,
   "id": "2ea164b1",
   "metadata": {
    "ExecuteTime": {
     "end_time": "2022-07-07T05:50:13.958868Z",
     "start_time": "2022-07-07T05:50:13.944153Z"
    },
    "code_folding": [
     0
    ]
   },
   "outputs": [],
   "source": [
    "#site name ,domain , site link\n",
    "SITE_NAME='Denel'\n",
    "\n",
    "DOMAIN = \"http://www.denel.co.za\"\n",
    "\n",
    "SITE_LINK = \"http://www.denel.co.za/press\""
   ]
  },
  {
   "cell_type": "code",
   "execution_count": 48,
   "id": "86f66394",
   "metadata": {
    "ExecuteTime": {
     "end_time": "2022-07-07T06:21:13.808046Z",
     "start_time": "2022-07-07T06:21:13.786421Z"
    },
    "code_folding": [
     1,
     7
    ]
   },
   "outputs": [],
   "source": [
    "#functions\n",
    "def remove_esc_chars(string):\n",
    "    review = re.sub('''[^a-zA-Z0-9!\"#$%&'()*+,-./:;<=>?@[\\]^_`{|}~°]''', ' ',string)\n",
    "    review = review.split()\n",
    "    review = ' '.join(review)\n",
    "    return review\n",
    "\n",
    "def get_text_thumb(link): \n",
    "    try:\n",
    "        driver.get(link)\n",
    "        thumb = \"http://www.denel.co.za/images/logo.png\"\n",
    "        ps = driver.find_element(By.XPATH,'''/html/body/div[3]/table/tbody/tr/td/table''').text.strip()\n",
    "        text = remove_esc_chars(ps).strip()\n",
    "    except:\n",
    "        thumb = \"http://www.denel.co.za/images/logo.png\"\n",
    "        g = Goose()\n",
    "        article_extract = g.extract(url=link)\n",
    "        article = remove_esc_chars(article_extract.cleaned_text)\n",
    "        meta_data = remove_esc_chars(article_extract.meta_description)\n",
    "        whole_data = meta_data+article\n",
    "        text = whole_data.strip()\n",
    "\n",
    "        if textstat.lexicon_count(text, removepunct=True) < 5:\n",
    "            try:\n",
    "                response = requests.get(link)\n",
    "                text = remove_esc_chars(extract_text(io.BytesIO(response.content)))\n",
    "\n",
    "                if textstat.lexicon_count(text, removepunct=True) < 5:\n",
    "                    texts = \"\"\n",
    "                    r = requests.get(link)\n",
    "                    filename = Path('temp.pdf')\n",
    "                    filename.write_bytes(r.content)\n",
    "\n",
    "                    pages = convert_from_path('temp.pdf', 500)\n",
    "                    for x in pages:\n",
    "                        x.save(\"temp.jpg\")\n",
    "                        output = reader.readtext(\"temp.jpg\")\n",
    "                        for o in output:\n",
    "                            texts += o[1]\n",
    "\n",
    "                    text = remove_esc_chars(texts)\n",
    "\n",
    "                    if textstat.lexicon_count(text, removepunct=True) < 5:\n",
    "                        texts = \"\"\n",
    "                        soup = parse_webpage_bs(link)\n",
    "                        if soup!= None:\n",
    "                            ps = soup.findAll('p')\n",
    "                            for p in ps:\n",
    "                                texts+= p.text\n",
    "\n",
    "                        text = remove_esc_chars(texts)\n",
    "            except:\n",
    "                text = \"\"\n",
    "    \n",
    "    return text , thumb"
   ]
  },
  {
   "cell_type": "code",
   "execution_count": 70,
   "id": "7b945e8f",
   "metadata": {
    "ExecuteTime": {
     "end_time": "2022-07-07T06:29:17.890732Z",
     "start_time": "2022-07-07T06:29:04.089613Z"
    },
    "code_folding": [
     0
    ]
   },
   "outputs": [
    {
     "data": {
      "application/vnd.jupyter.widget-view+json": {
       "model_id": "ae7b20c90d684c97b23a9652e559925b",
       "version_major": 2,
       "version_minor": 0
      },
      "text/plain": [
       "Getting primary data:   0%|          | 0/10 [00:00<?, ?it/s]"
      ]
     },
     "metadata": {},
     "output_type": "display_data"
    },
    {
     "data": {
      "application/vnd.jupyter.widget-view+json": {
       "model_id": "0c439e2d952c401497059d29be1eb229",
       "version_major": 2,
       "version_minor": 0
      },
      "text/plain": [
       "Getting articles:   0%|          | 0/10 [00:00<?, ?it/s]"
      ]
     },
     "metadata": {},
     "output_type": "display_data"
    },
    {
     "name": "stdout",
     "output_type": "stream",
     "text": [
      "28 June 2022 DENEL MEDICAL BENEFIT TRUST UPDATE\n",
      "3 March 2022 Denel Medical Aid Subsidy Alternative Offer: Announcement\n",
      "24 November 2021 Denel Medical Benefit Trust (DMBT) Update\n",
      "9 November 2021 Denel Medical Benefit Trust (DMBT) Announcement\n",
      "11 August 2021 Far-Reaching Steps To Ensure Denel's Sustainability\n",
      "22 February 2021 Denel Appoints Mr William Hlakoane As Interim Group Chief Executive\n",
      "17 August 2020 Denel Board Appoints Mr Talib Sadik as Interim Group Chief Executive\n",
      "27 May 2020 LOCAL VENTILATOR PROJECTS ARE REACHING CRITICAL STAGES\n",
      "25 April 2020 DENEL EMPLOYEES RETURN SAFELY FROM SPAIN\n",
      "9 April 2020 MESSAGE BY PRESIDENT CYRIL RAMAPHOSA ON COVID-19 PANDEMIC\n"
     ]
    }
   ],
   "source": [
    "#get data\n",
    "article_list = []\n",
    "\n",
    "# get url \n",
    "url = f\"http://www.denel.co.za/press\"\n",
    "driver.get(url)\n",
    "\n",
    "#elements\n",
    "elements = driver.find_elements(By.XPATH,'''/html/body/div[4]/div/table/tbody/tr[1]/td/table/tbody/tr/td/div''')\n",
    "\n",
    "#accept cookies\n",
    "try: \n",
    "    driver.find_element(By.XPATH,f'''/html/body/div[7]/div/div[2]/a''').click()\n",
    "except:\n",
    "    pass\n",
    "\n",
    "#creating empty lists to append data \n",
    "published_dates,titles,texts,links,thumbnails,authors = [],[],[],[],[],[]\n",
    "\n",
    "for e in tqdm(range(1,len(elements[:10])+1),desc = \"Getting primary data\"):\n",
    "    try:\n",
    "        published_date = driver.find_element(By.XPATH,f'''/html/body/div[4]/div/table/tbody/tr[1]/td/table/tbody/tr/td/div[{e}]/p[1]''').text.strip()\n",
    "        title = driver.find_element(By.XPATH,f'''/html/body/div[4]/div/table/tbody/tr[1]/td/table/tbody/tr/td/div[{e}]/p[2]''').text.strip()\n",
    "        link = driver.find_element(By.XPATH,f'''/html/body/div[4]/div/table/tbody/tr[1]/td/table/tbody/tr/td/div[{e}]/a''').get_attribute(\"href\")\n",
    "        author = SITE_NAME    \n",
    "        \n",
    "        published_dates.append(published_date)\n",
    "        titles.append(title)\n",
    "        links.append(link)\n",
    "        authors.append(author)        \n",
    "\n",
    "    except:\n",
    "        pass\n",
    "    \n",
    "for link in tqdm(links,desc=\"Getting articles\"):\n",
    "    text,thumbnail = get_text_thumb(link)\n",
    "    texts.append(text)\n",
    "    thumbnails.append(thumbnail)\n",
    "    \n",
    "#zippig all the data togather \n",
    "zipped = list(zip(published_dates,titles,texts,links,thumbnails,authors))\n",
    "\n",
    "#unwinding and appending to the main list\n",
    "for published_date,title,text,link,thumbnail,author in zipped:\n",
    "    article = (published_date.strip(),title.strip(),text.strip(),link.strip(),thumbnail.strip(),author.strip())\n",
    "    article_list.append(article)\n",
    "    print(published_date,title)"
   ]
  },
  {
   "cell_type": "code",
   "execution_count": 71,
   "id": "9757b5a3",
   "metadata": {
    "ExecuteTime": {
     "end_time": "2022-07-07T06:29:21.432414Z",
     "start_time": "2022-07-07T06:29:21.408633Z"
    }
   },
   "outputs": [
    {
     "data": {
      "text/html": [
       "<div>\n",
       "<style scoped>\n",
       "    .dataframe tbody tr th:only-of-type {\n",
       "        vertical-align: middle;\n",
       "    }\n",
       "\n",
       "    .dataframe tbody tr th {\n",
       "        vertical-align: top;\n",
       "    }\n",
       "\n",
       "    .dataframe thead th {\n",
       "        text-align: right;\n",
       "    }\n",
       "</style>\n",
       "<table border=\"1\" class=\"dataframe\">\n",
       "  <thead>\n",
       "    <tr style=\"text-align: right;\">\n",
       "      <th></th>\n",
       "      <th>date</th>\n",
       "      <th>title</th>\n",
       "      <th>article</th>\n",
       "      <th>url</th>\n",
       "      <th>thumbnail</th>\n",
       "      <th>author</th>\n",
       "    </tr>\n",
       "  </thead>\n",
       "  <tbody>\n",
       "    <tr>\n",
       "      <th>0</th>\n",
       "      <td>28 June 2022</td>\n",
       "      <td>DENEL MEDICAL BENEFIT TRUST UPDATE</td>\n",
       "      <td>Dear Beneficiary YOUR MEDICAL AID SUBSIDY As y...</td>\n",
       "      <td>http://www.denel.co.za/press-article/DENEL-MED...</td>\n",
       "      <td>http://www.denel.co.za/images/logo.png</td>\n",
       "      <td>Denel</td>\n",
       "    </tr>\n",
       "    <tr>\n",
       "      <th>1</th>\n",
       "      <td>3 March 2022</td>\n",
       "      <td>Denel Medical Aid Subsidy Alternative Offer: A...</td>\n",
       "      <td>Denel SOC Limited is pleased to announce that:...</td>\n",
       "      <td>http://www.denel.co.za/press-article/Denel-Med...</td>\n",
       "      <td>http://www.denel.co.za/images/logo.png</td>\n",
       "      <td>Denel</td>\n",
       "    </tr>\n",
       "    <tr>\n",
       "      <th>2</th>\n",
       "      <td>24 November 2021</td>\n",
       "      <td>Denel Medical Benefit Trust (DMBT) Update</td>\n",
       "      <td>Your medical aid subsidy offer letter from DEN...</td>\n",
       "      <td>http://www.denel.co.za/press-article/Denel-Med...</td>\n",
       "      <td>http://www.denel.co.za/images/logo.png</td>\n",
       "      <td>Denel</td>\n",
       "    </tr>\n",
       "    <tr>\n",
       "      <th>3</th>\n",
       "      <td>9 November 2021</td>\n",
       "      <td>Denel Medical Benefit Trust (DMBT) Announcement</td>\n",
       "      <td>Denel SOC Limited is pleased to announce that:...</td>\n",
       "      <td>http://www.denel.co.za/press-article/Denel-Med...</td>\n",
       "      <td>http://www.denel.co.za/images/logo.png</td>\n",
       "      <td>Denel</td>\n",
       "    </tr>\n",
       "    <tr>\n",
       "      <th>4</th>\n",
       "      <td>11 August 2021</td>\n",
       "      <td>Far-Reaching Steps To Ensure Denel's Sustainab...</td>\n",
       "      <td>A streamlined and refocused Denel will be able...</td>\n",
       "      <td>http://www.denel.co.za/press-article/Far-Reach...</td>\n",
       "      <td>http://www.denel.co.za/images/logo.png</td>\n",
       "      <td>Denel</td>\n",
       "    </tr>\n",
       "  </tbody>\n",
       "</table>\n",
       "</div>"
      ],
      "text/plain": [
       "               date                                              title  \\\n",
       "0      28 June 2022                 DENEL MEDICAL BENEFIT TRUST UPDATE   \n",
       "1      3 March 2022  Denel Medical Aid Subsidy Alternative Offer: A...   \n",
       "2  24 November 2021          Denel Medical Benefit Trust (DMBT) Update   \n",
       "3   9 November 2021    Denel Medical Benefit Trust (DMBT) Announcement   \n",
       "4    11 August 2021  Far-Reaching Steps To Ensure Denel's Sustainab...   \n",
       "\n",
       "                                             article  \\\n",
       "0  Dear Beneficiary YOUR MEDICAL AID SUBSIDY As y...   \n",
       "1  Denel SOC Limited is pleased to announce that:...   \n",
       "2  Your medical aid subsidy offer letter from DEN...   \n",
       "3  Denel SOC Limited is pleased to announce that:...   \n",
       "4  A streamlined and refocused Denel will be able...   \n",
       "\n",
       "                                                 url  \\\n",
       "0  http://www.denel.co.za/press-article/DENEL-MED...   \n",
       "1  http://www.denel.co.za/press-article/Denel-Med...   \n",
       "2  http://www.denel.co.za/press-article/Denel-Med...   \n",
       "3  http://www.denel.co.za/press-article/Denel-Med...   \n",
       "4  http://www.denel.co.za/press-article/Far-Reach...   \n",
       "\n",
       "                                thumbnail author  \n",
       "0  http://www.denel.co.za/images/logo.png  Denel  \n",
       "1  http://www.denel.co.za/images/logo.png  Denel  \n",
       "2  http://www.denel.co.za/images/logo.png  Denel  \n",
       "3  http://www.denel.co.za/images/logo.png  Denel  \n",
       "4  http://www.denel.co.za/images/logo.png  Denel  "
      ]
     },
     "execution_count": 71,
     "metadata": {},
     "output_type": "execute_result"
    }
   ],
   "source": [
    "#temp df\n",
    "temp_df = pd.DataFrame(article_list,columns=['date','title','article','url','thumbnail','author'])\n",
    "temp_df.head()"
   ]
  },
  {
   "cell_type": "code",
   "execution_count": 75,
   "id": "51f5b2b7",
   "metadata": {
    "ExecuteTime": {
     "end_time": "2022-07-07T06:29:35.639227Z",
     "start_time": "2022-07-07T06:29:34.425278Z"
    },
    "code_folding": [
     0,
     1
    ],
    "scrolled": false
   },
   "outputs": [
    {
     "name": "stdout",
     "output_type": "stream",
     "text": [
      "11 August 2021 Far-Reaching Steps To Ensure Denel's Sustainability\n",
      "\n",
      "Denel http://www.denel.co.za/press-article/Far-Reaching-Steps-To-Ensure-Denels-Sustainability/235\n"
     ]
    },
    {
     "data": {
      "image/png": "[encoded data removed]",
      "text/plain": [
       "<PIL.PngImagePlugin.PngImageFile image mode=RGBA size=377x73 at 0x1620562ED60>"
      ]
     },
     "metadata": {},
     "output_type": "display_data"
    },
    {
     "name": "stdout",
     "output_type": "stream",
     "text": [
      "\n",
      "A streamlined and refocused Denel will be able to be a sustainable business and return to profitability within the next five years. This will be done through a comprehensive restructuring of the defence technology company. We are determined to turn Denel around and repurpose it while retaining the core capabilities required to meet South Africa s strategic security requirements, says William Hlakoane, the company s interim Group Chief Executive. Furthermore, we are encouraged by the unwavering support that we have been receiving from our shareholder, the Department of Public Enterprises. This is underlined by its acknowledgement that there is a need to assist Denel with regards to its financial situation. Thus, I am positive that the discussions with other government departments that have keen interest in Denel s survival such as the Department of Defence and the National Treasury will soon bear positive results . For our part as executive management and the Board, we have put together a comprehensive five-year plan to revitalise Denel, which the shareholder is fully behind. Part of this plan includes reducing Denel s current operating divisions (plus one subsidiary) from six to two. One division will focus on engineering, while the other focuses on manufacturing and maintenance, of which the latter is our core business. The engineering division will merge all Denel s capabilities in artillery, infantry and vehicle systems, its missile and precision-guided munitions business as well as its management of complex integrated systems. Furthermore, it will drive the company s diversification of technology into existing and new markets in fields such as command and control, cyber security and communications, whilst researching and developing new technologies of the future. The maintenance and manufacturing division will build on Denel s market reputation in the fields of aeronautics, unmanned aerial vehicle systems and the production of small and medium calibre ammunition as well as the production of combat vehicles. Denel s campuses will be optimised to reduce their footprint and contain costs. This will be supplemented by further reductions in the executive cost structure, and the implementation of the shared services model in areas such as supply chain management, human capital, IT and finance. Hlakoane says conservative estimates indicate that the sale of non-core or non-profit making assets will realise value of about R1.5bn over the next five years. However, there is an immediate need for significant cash injections to support current operations and implement the new operating model. Although some of these activities are at an advance stage, we do acknowledge that it will take some time to sell these assets while the payment of legacy debt and the requirements for liquidity are immediate, says Hlakoane. It is imperative for Denel to continue executing programmes in order generate cash to pay salaries and other operational requirements whilst driving these strategic actions. Notwithstanding the much-needed critical skills that we have lost over the past year as we struggled with payment of employee s salaries, the priority will be to rebuild these skills sets over time while maintaining the current. Denel of the future will have to be globally competitive, therefore it is critical that we are able to attract the next generation of engineers, designers, scientists and technicians, he says. Denel s board and management are not oblivious to the plight of our colleagues who continue to face hardship as a result of our inability to pay full salaries and we continue to work tirelessly to address this issue. We apologise for the stress and anxieties caused to employees and again give the assurance that we will do everything in our power to meet our obligations in line with employee contracts. Ends For further information, contact: Pam Malinda Cell: +27 (0) 82 686 2198 Tel: +27 (0) 12 671 2662 email: pamm@denel.co.za Please share on:\n"
     ]
    }
   ],
   "source": [
    "#see data\n",
    "def see_data(iloc_no=random.randint(0,len(temp_df))-1):\n",
    "    print(temp_df.iloc[iloc_no]['date'],temp_df.iloc[iloc_no]['title'])\n",
    "    print(f\"\\n{temp_df.iloc[iloc_no]['author']} {temp_df.iloc[iloc_no]['url']}\")\n",
    "    urllib.request.urlretrieve(temp_df.iloc[iloc_no]['thumbnail'], \"temp.jpg\")\n",
    "    display(Image.open(\"temp.jpg\"))\n",
    "    print(f\"\\n{temp_df.iloc[iloc_no]['article']}\")\n",
    "\n",
    "see_data()"
   ]
  },
  {
   "cell_type": "code",
   "execution_count": 76,
   "id": "38dcd37d",
   "metadata": {
    "ExecuteTime": {
     "end_time": "2022-07-07T06:29:37.473549Z",
     "start_time": "2022-07-07T06:29:37.441608Z"
    },
    "code_folding": [
     0
    ]
   },
   "outputs": [],
   "source": [
    "#to csv\n",
    "temp_df.to_csv(f'{SITE_NAME} news.csv',index = False)\n",
    "\n",
    "#to json\n",
    "temp_df.to_json(f'{SITE_NAME} news.json')"
   ]
  },
  {
   "cell_type": "code",
   "execution_count": 77,
   "id": "a15f2896",
   "metadata": {
    "ExecuteTime": {
     "end_time": "2022-07-07T06:29:38.504513Z",
     "start_time": "2022-07-07T06:29:38.489690Z"
    },
    "code_folding": [
     0
    ]
   },
   "outputs": [
    {
     "name": "stdout",
     "output_type": "stream",
     "text": [
      "Trash removed successfully\n"
     ]
    }
   ],
   "source": [
    "#to get rid of unwanteed trash created by the model use \n",
    "def remove_trash():\n",
    "    try:\n",
    "        try:\n",
    "            os.remove(\"temp.pdf\")\n",
    "        except:\n",
    "            pass\n",
    "        os.remove(\"temp.jpg\")\n",
    "        print(\"Trash removed successfully\")\n",
    "    except:\n",
    "        print(\"No trash found\")\n",
    "\n",
    "remove_trash()"
   ]
  }
 ],
 "metadata": {
  "kernelspec": {
   "display_name": "Python 3 (ipykernel)",
   "language": "python",
   "name": "python3"
  },
  "language_info": {
   "codemirror_mode": {
    "name": "ipython",
    "version": 3
   },
   "file_extension": ".py",
   "mimetype": "text/x-python",
   "name": "python",
   "nbconvert_exporter": "python",
   "pygments_lexer": "ipython3",
   "version": "3.9.7"
  },
  "toc": {
   "base_numbering": 1,
   "nav_menu": {},
   "number_sections": true,
   "sideBar": true,
   "skip_h1_title": false,
   "title_cell": "Table of Contents",
   "title_sidebar": "Contents",
   "toc_cell": false,
   "toc_position": {},
   "toc_section_display": true,
   "toc_window_display": false
  }
 },
 "nbformat": 4,
 "nbformat_minor": 5
}
