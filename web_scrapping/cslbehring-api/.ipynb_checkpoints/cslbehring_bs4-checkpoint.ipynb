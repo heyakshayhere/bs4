{
 "cells": [
  {
   "cell_type": "markdown",
   "id": "8a4a8f15",
   "metadata": {},
   "source": [
    "**API**\n",
    "\n",
    "pagination by pageindex starts from 0\n",
    "\n",
    "https://www.cslbehring.com/news-api/mosaicloadmore?mosaicid={660D61CF-5C26-40F6-A76B-2823494ACB74}&stickyid=0&isUsingTile=false&resultsOnFirstPage=0&pageIndex=0&offsetIndex=0\n",
    "\n",
    "**Actual website url**\n",
    "\n",
    "https://www.cslbehring.com/newsroom"
   ]
  },
  {
   "cell_type": "code",
   "execution_count": 1,
   "id": "62d5dc9f",
   "metadata": {
    "ExecuteTime": {
     "end_time": "2022-05-24T07:58:20.705016Z",
     "start_time": "2022-05-24T07:58:20.002214Z"
    }
   },
   "outputs": [
    {
     "data": {
      "application/javascript": [
       "IPython.notebook.set_autosave_interval(1000)"
      ]
     },
     "metadata": {},
     "output_type": "display_data"
    },
    {
     "name": "stdout",
     "output_type": "stream",
     "text": [
      "Autosaving every 1 seconds\n"
     ]
    }
   ],
   "source": [
    "import pandas as pd,requests,bs4\n",
    "from datetime import datetime\n",
    "from bs4 import BeautifulSoup\n",
    "import warnings\n",
    "warnings.filterwarnings(\"ignore\")\n",
    "\n",
    "%autosave 1"
   ]
  },
  {
   "cell_type": "code",
   "execution_count": 2,
   "id": "f0c37cfb",
   "metadata": {
    "ExecuteTime": {
     "end_time": "2022-05-24T07:58:20.719972Z",
     "start_time": "2022-05-24T07:58:20.707008Z"
    }
   },
   "outputs": [],
   "source": [
    "def parse_webpage_api(search_url):\n",
    "    try:\n",
    "        req = requests.get(search_url)\n",
    "        data = req.json()\n",
    "        return data\n",
    "    except:\n",
    "        return []"
   ]
  },
  {
   "cell_type": "code",
   "execution_count": 3,
   "id": "0f11e643",
   "metadata": {
    "ExecuteTime": {
     "end_time": "2022-05-24T07:58:20.735133Z",
     "start_time": "2022-05-24T07:58:20.723965Z"
    }
   },
   "outputs": [],
   "source": [
    "def remove_esc_chars(text):\n",
    "    return text.replace(\"\\n\", \" \").replace(\"\\t\", \" \").replace(\"\\r\", \" \")"
   ]
  },
  {
   "cell_type": "code",
   "execution_count": 4,
   "id": "fa4d9c53",
   "metadata": {
    "ExecuteTime": {
     "end_time": "2022-05-24T07:58:20.751067Z",
     "start_time": "2022-05-24T07:58:20.737071Z"
    }
   },
   "outputs": [],
   "source": [
    "def get_article_body(url):\n",
    "    site_soup = parse_webpage_bs(url)\n",
    "    if site_soup!=None:  \n",
    "        try:\n",
    "            content = []\n",
    "            paragraphs = site_soup.findAll('div',{'class' :'article__body'})\n",
    "            for para in paragraphs:\n",
    "                text = remove_esc_chars(para.get_text().strip())\n",
    "                content.append(text)\n",
    "                text = \" \".join(content)\n",
    "        except:\n",
    "#             logger.info(e)\n",
    "            text = \"\"\n",
    "        return text\n",
    "    else:\n",
    "        return \"\""
   ]
  },
  {
   "cell_type": "code",
   "execution_count": 5,
   "id": "48e27cdb",
   "metadata": {
    "ExecuteTime": {
     "end_time": "2022-05-24T07:58:20.767020Z",
     "start_time": "2022-05-24T07:58:20.752029Z"
    }
   },
   "outputs": [],
   "source": [
    "def parse_webpage_bs(search_url):\n",
    "    \n",
    "    headers = {\n",
    "        \"User-Agent\": \"Mozilla/5.0 (Windows NT 10.0; Win64; x64; rv:90.0) Gecko/20100101 Firefox/90.0\"}\n",
    "    try:\n",
    "        site_request = requests.get(search_url, headers=headers, timeout=10)\n",
    "    except requests.exceptions.RequestException as e:\n",
    "        print(e)\n",
    "        site_request = None\n",
    "    if site_request != None and site_request.status_code==200:\n",
    "        site_soup = bs4.BeautifulSoup(site_request.content, \"lxml\")\n",
    "    else:\n",
    "        site_soup = None\n",
    "    return site_soup"
   ]
  },
  {
   "cell_type": "code",
   "execution_count": 6,
   "id": "7085ecec",
   "metadata": {
    "ExecuteTime": {
     "end_time": "2022-05-24T07:58:20.781949Z",
     "start_time": "2022-05-24T07:58:20.768985Z"
    }
   },
   "outputs": [],
   "source": [
    "SITE_NAME='Cslbehring'\n",
    "\n",
    "DOMAIN = \"https://www.cslbehring.com\"\n",
    "\n",
    "SITE_LINK=\"https://www.cslbehring.com/newsroom\""
   ]
  },
  {
   "cell_type": "markdown",
   "id": "4a7c9044",
   "metadata": {},
   "source": [
    "we have total 17 pages starts from 0"
   ]
  },
  {
   "cell_type": "code",
   "execution_count": 7,
   "id": "f940e7e7",
   "metadata": {
    "ExecuteTime": {
     "end_time": "2022-05-24T08:01:05.291743Z",
     "start_time": "2022-05-24T07:58:20.783944Z"
    },
    "scrolled": true
   },
   "outputs": [
    {
     "name": "stdout",
     "output_type": "stream",
     "text": [
      "10 May 2022 Ruling by DC Circuit Court of Appeals Provides CSL the Right to Challenge CBP’s Plasma Ban\n",
      "28 Apr 2022 CSL Behring Donates 500 Million International Units of  Coagulation Factor Replacement Therapy to  the World Federation of Hemophilia Humanitarian Aid Program to Help Those Living with Bleeding Disorders\n",
      "28 Mar 2022 European Medicines Agency Commences Review of Novel Gene Therapy Candidate Etranacogene Dezaparvovec for People with Hemophilia B\n",
      "02 Mar 2022 Forbes Magazine Ranks Global Biotech Leader CSL Among America’s Best Employers for 2022\n",
      "04 Feb 2022 Final Analysis of Pivotal HOPE-B Study Demonstrates Durable and Sustained Therapeutic Effect of Etranacogene Dezaparvovec Gene Therapy in Hemophilia B – Data Presented at EAHAD 2022\n",
      "26 Jan 2022 COVID-19 Update\n",
      "15 Dec 2021 CSL Behring Receives Accelerated CHMP Assessment for Etranacogene Dezaparvovec for European Patients Living with Hemophilia B\n",
      "09 Dec 2021 uniQure and CSL Behring Announce Primary Endpoint Achieved in HOPE-B Pivotal Trial of Etranacogene Dezaparvovec Gene Therapy in Patients with Hemophilia B\n",
      "18 Oct 2021 Clinical Trial Milestones, Investments in aQIVc and sa-mRNA Influenza Vaccines and New Strategic Collaborations Among the Highlights from CSL R&D Day  \n",
      "05 Oct 2021 CSL Launches Annual Scholarship Program with Seven Greater Chicago Area Students Receiving Awards\n",
      "17 Sep 2021 CSL’s Global Role in Battling COVID-19\n",
      "09 Sep 2021 Urban League of Philadelphia Names CSL’s Elizabeth Walker to Board of Directors\n",
      "09 Aug 2021 The European Academy of Neurology (EAN) and Peripheral Nerve Society (PNS) Task Force Has Strongly Recommended Subcutaneous Immunoglobulin (SCIg) for CIDP Maintenance Treatment \n",
      "03 Aug 2021 FDA Approves New BERINERT® (C1 Esterase Inhibitor, Human (Intravenous))  Administration Kit for Increased Patient Convenience\n",
      "08 Jun 2021 Hizentra® (Immune Globulin Subcutaneous [Human] 20% Liquid) To Be Covered Under Medicare Part B Effective July 18, Improving Access and Reducing Out-of-Pocket Costs for CIDP Patients  \n",
      "16 May 2021 New Meta-Analysis of Patients with Acute Coronary Syndrome Shows Nearly Half of Recurrent Major Adverse Cardiovascular Events at One Year Occur Within the First 90 Days\n",
      "13 May 2021 Lyfebulb and CSL Behring Announce the Winner of the 2021 Transplant Innovation Challenge\n",
      "06 May 2021 CSL Behring Announces Closing of Global Commercialization and License Agreement with uniQure for etranacogene dezaparvovec\n",
      "29 Apr 2021 Hizentra® (Immune Globulin Subcutaneous [Human] 20% Liquid) Label Update Provides New Dosing Guidelines for Physicians, Allowing for Greater Flexibility in Treating CIDP Patients \n",
      "02 Apr 2021 CoVIg-19 Plasma Alliance Announces Topline Results from NIH-Sponsored Clinical Trial of Investigational COVID-19 Hyperimmune Globulin Medicine\n",
      "\n",
      "25 Jan 2021 Lyfebulb and CSL Behring Launch TransplantLyfe, a First-of-its-Kind Community Engagement Platform for Transplant Patients\n",
      "19 Nov 2020 New Survey Finds Vast Majority of People Living with Hereditary Angioedema (HAE) Value Efficacy and Specific Correction of C1 INH Deficiency When Choosing an HAE Therapy\n",
      "16 Nov 2020 Urban League, CSL Behring Partner to Address Community Needs including Public Health, Workforce Diversity, Leadership Development\n",
      "10 Nov 2020 CSL Behring To Present New Real-World Data on Outcomes Following Acute Coronary Syndrome at American Heart Association Scientific Sessions 2020\n",
      "05 Nov 2020 CSL Behring Publishes Design for First-Ever Outcomes Study of ApoA-I to Reduce Risk of Cardiovascular Events in Heart Attack Patients\n",
      "02 Nov 2020 Orphan Drug Designation Granted for CSL Behring’s Investigational Plasma-Derived Hemopexin Therapy for Sickle Cell Disease\n",
      "29 Oct 2020 CSL Named as One of the World’s Best Employers \n",
      "20 Oct 2020 CSL’s Broad Response to COVID-19 and Advancements Across the Company’s Strategic Scientific Platforms are the Focus of Annual R&D Day\n",
      "08 Oct 2020 First Patient Enrolled in NIH Phase 3 Trial to Evaluate Potential COVID-19 Hyperimmune Medicine\n",
      "28 Sep 2020 U.S. Food and Drug Administration Approves HAEGARDA® (C1 Esterase Inhibitor Subcutaneous [Human]) for Prevention of Hereditary Angioedema (HAE) Attacks in Pediatric Patients\n",
      "04 Sep 2020 CSL Behring Continues to Support Alpha 1 Community, Presents Exciting, New Drug Development Projects at 30th Anniversary of the European Respiratory Society International Congress \n",
      "30 Jul 2020 At White House Roundtable, Plasma Industry Leader & CSL CEO Paul Perreault Urges People to Donate Plasma in the Fight Against COVID-19\n",
      "09 Jul 2020 CSL Behring Announces Professor Heimburger Awards in Advance of ISTH 2020 Virtual Congress \n",
      "06 Jul 2020 In Fight Against COVID-19, CSL Behring Begins Trial to Evaluate Monoclonal Antibody (CSL312) for Respiratory Distress \n",
      "24 Jun 2020 CSL Behring Agrees to Acquire Novel Late-Stage Gene Therapy  Candidate for Hemophilia B Patients from uniQure\n",
      "23 Jun 2020 Yi Deng and Bill Mezzanotte Elected to University City Science Center Board of Directors\n",
      "12 Jun 2020 CSL Behring to Attend and Sponsor World Federation of  Hemophilia First Ever Virtual Summit\n",
      "08 Jun 2020 CSL Behring to Acquire Biotech Company Vitaeris\n",
      "08 Jun 2020 CSL Behring Presents Results for Garadacimab as Preventive Treatment in Hereditary Angioedema \n",
      "02 Jun 2020 CSL Behring and Seattle Children’s Research Institute to Advance Gene Therapy Treatments for Primary Immunodeficiency Diseases\n",
      "\n",
      "27 May 2020 Thermo Fisher Scientific and CSL Enter Strategic Partnership\n",
      "26 May 2020 Racing Against Time, Medical Researchers, Life Science Companies and COVID-19 Survivors Launch National Campaign to Drive Blood Plasma Donation\n",
      "07 May 2020 CoVIg-19 Plasma Alliance Builds Strong Momentum Through Expanded Membership and Clinical Trial Collaboration\n",
      "21 Apr 2020 CSL Behring Announces Results from Three Analyses of Hizentra® (Immune Globulin Subcutaneous [Human] 20% Liquid) in Primary Immunodeficiency (PI) \n",
      "08 Apr 2020 CSL Behring and SAB Biotherapeutics Join Forces to Deliver New Potential COVID-19 Therapeutic\n",
      "06 Apr 2020 Global Plasma Leaders Collaborate to Accelerate Development of Potential COVID-19 Hyperimmune Therapy\n",
      "13 Feb 2020  University City Science Center partnership with CSL Behring accelerates the search for new biotherapies at the University of Pittsburgh and the University of Delaware\n",
      "11 Feb 2020 PRIVIGEN® (Immune Globulin Intravenous (Human), 10% Liquid) Granted Orphan-Drug Designation for the Investigational Treatment of Systemic Sclerosis (SSc)\n",
      "21 Jan 2020 Forbes Magazine Ranks CSL Behring Among Best Employers for Diversity\n",
      "10 Jan 2020 Researchers Decipher a New Way that Immune Cells Detect Infections and Cancers\n",
      "09 Jan 2020 Global Biotech Leader CSL to Present at 38th Annual J.P. Morgan Healthcare Conference \n",
      "09 Dec 2019 HIZENTRA® (Immune Globulin Subcutaneous [Human] 20% Liquid) Receives Orphan-Drug Exclusivity for the Treatment of Chronic Inflammatory Demyelinating Polyneuropathy (CIDP)\n",
      "04 Dec 2019 CSL Continues to Advance R&D Capabilities\n",
      "24 Oct 2019 Harvard Business Review Names Paul Perreault Among Best Performing CEOs in the World\n",
      "27 Sep 2019 CSL Behring Continues to Deliver on its Promise to Alpha1 Patients at the 29th Annual European Respiratory Society Congress \n",
      "01 Jul 2019 CSL Behring Delivers on its Promise to Advance Bleeding Disorder Treatment Research by Supporting 16 Data Presentations at ISTH 2019\n",
      "20 Jun 2019 CSL Behring to showcase clinical advances and insights in Chronic Inflammatory Demyelinating Polyneuropathy (CIDP) with Hizentra ® [human normal immunoglobulin, 20%, subcutaneous], at the 2019 Peripheral Nerve Society Annual Meeting\n",
      "16 May 2019 Top Coagulation Researchers Awarded Grants to Support Advancements in the Care of Patients with Bleeding Disorders\n",
      "15 May 2019 CSL Names Paul McKenzie as Chief Operating Officer\n",
      "25 Apr 2019 CSL Behring Delivers on its Continued Commitment to Alpha 1 Patients with FDA Approval of Convenient Single-Vial Dosing for ZEMAIRA®  [Alpha1-Proteinase Inhibitor (Human)]\n",
      "\n",
      "09 Apr 2019 Global Biotherapeutics Leader CSL Behring Opens Regional Headquarters at Dubai Science Park\n",
      "26 Mar 2019 Japan’s Ministry of Health, Labour and Welfare Approves CSL Behring Immunoglobulins to Treat Patients with Chronic Inflammatory Demyelinating Polyradiculoneuropathy (CIDP) \n"
     ]
    },
    {
     "name": "stdout",
     "output_type": "stream",
     "text": [
      "04 Feb 2019 CSL Behring Extends Support of World Federation of Hemophilia Programs \n",
      "16 Jan 2019 CSL Named One of the Best Employers in the US for Diversity\n",
      "07 Jan 2019 Global Biotech Leader CSL to Present at J.P. Morgan Healthcare Conference on Wednesday, January 9\n",
      "06 Dec 2018 CSL CEO Paul Perreault Earns 2018 Most Admired CEOs Recognition from the Philadelphia Business Journal \n",
      "08 Nov 2018 New Study Finds Significantly Greater Costs Associated with Multi-Vessel Disease in Medicare Patients Compared to those with Single Vessel Disease following an Acute Myocardial Infarction\n",
      "22 Oct 2018 CSL Behring to Feature Secondary Immunodeficiency Symposium at the 2018 Meeting of the European Society for Immunodeficiencies (ESID)\n",
      "22 Oct 2018 Science Center and Biotech Leader CSL Behring Partner to Accelerate Academic Research  in the Search for New Medicines and Possible Cures\n",
      "09 Oct 2018 CSL Donates to Indonesian Relief Operations\n",
      "18 Sep 2018 CSL Named One of the Top Companies in the World for Diversity and Inclusion\n",
      "13 Sep 2018 CSL Behring Delivers on its Promise to Support Alpha 1 Patients at the 28th Annual European Respiratory Society Congress\n",
      "23 Aug 2018 IDELVION® 3500 IU Vials Now Available to Provide Convenience to Patients\n",
      "20 Jul 2018 CSL Behring Hosts Symposium on Managing CIDP with Immunoglobulin, Supports 14 Scientific Posters and Two Oral Presentations at the 2018 Peripheral Nerve Society Annual Meeting\n",
      "05 Jul 2018 CSL Behring, Leader in Rare Diseases, Hosts a Symposium on CIDP, Presents 7 Poster Sessions Featuring PATH Study Data at the 15th International Congress on Neuromuscular Diseases \n",
      "22 Jun 2018 A New Generation of Coagulation Specialists is Advancing Research with Support From CSL Behring Global Grant \n",
      "15 Jun 2018 CSL Behring Presents New Data on Subcutaneous Immunoglobulin Treatment from the Largest CIDP Study, the PATH Trial, at the 4th Congress of the European Academy of Neurology \n",
      "31 May 2018 IDELVION® Newly Approved 3500 IU Vial to Provide Convenience to Patients Using Larger Volumes\n",
      "14 May 2018 Hemophilia Association of New Jersey Recognizes CSL CEO Paul Perreault as “Humanitarian Man of the Year”\n",
      "26 Apr 2018 Patient Advocacy Groups Focus on Key Issues Affecting  Patients\n",
      "\n",
      "14 pages remaining..\r"
     ]
    }
   ],
   "source": [
    "article_list = []\n",
    "pagination = 0\n",
    "last_page = 17\n",
    "while True:\n",
    "    code = '660D61CF-5C26-40F6-A76B-2823494ACB74'\n",
    "    url = f\"https://www.cslbehring.com/news-api/mosaicloadmore?mosaicid={code}&stickyid=0&isUsingTile=false&resultsOnFirstPage=0&pageIndex={pagination}&offsetIndex=0\"\n",
    "    data = parse_webpage_api(url)\n",
    "    elements = data['Articles']\n",
    "    if data != None:\n",
    "        for element in elements:\n",
    "            title = element['Headline']\n",
    "            link = DOMAIN + element[\"LinkUrl\"]\n",
    "            published_date = element['FormattedDate']\n",
    "            thumbnail = element[\"ImageUrl\"]\n",
    "            text = get_article_body(link)\n",
    "            author = SITE_NAME\n",
    "            article = (published_date,title,text,link,thumbnail,author)\n",
    "            article_list.append(article)\n",
    "            print(published_date,title)\n",
    "    print()            \n",
    "    print(str(last_page-(pagination)) + \" pages remaining..\",end=\"\\r\")\n",
    "    \n",
    "    if pagination > last_page:\n",
    "        break\n",
    "        \n",
    "    if pagination >= 3:\n",
    "        break\n",
    "        \n",
    "    pagination +=1"
   ]
  },
  {
   "cell_type": "code",
   "execution_count": 8,
   "id": "11756783",
   "metadata": {
    "ExecuteTime": {
     "end_time": "2022-05-24T08:01:05.323657Z",
     "start_time": "2022-05-24T08:01:05.294734Z"
    }
   },
   "outputs": [
    {
     "data": {
      "text/html": [
       "<div>\n",
       "<style scoped>\n",
       "    .dataframe tbody tr th:only-of-type {\n",
       "        vertical-align: middle;\n",
       "    }\n",
       "\n",
       "    .dataframe tbody tr th {\n",
       "        vertical-align: top;\n",
       "    }\n",
       "\n",
       "    .dataframe thead th {\n",
       "        text-align: right;\n",
       "    }\n",
       "</style>\n",
       "<table border=\"1\" class=\"dataframe\">\n",
       "  <thead>\n",
       "    <tr style=\"text-align: right;\">\n",
       "      <th></th>\n",
       "      <th>date</th>\n",
       "      <th>title</th>\n",
       "      <th>article</th>\n",
       "      <th>url</th>\n",
       "      <th>thumbnail</th>\n",
       "      <th>author</th>\n",
       "    </tr>\n",
       "  </thead>\n",
       "  <tbody>\n",
       "    <tr>\n",
       "      <th>0</th>\n",
       "      <td>10 May 2022</td>\n",
       "      <td>Ruling by DC Circuit Court of Appeals Provides...</td>\n",
       "      <td>We are encouraged by the United States Court o...</td>\n",
       "      <td>https://www.cslbehring.com/newsroom/2022/media...</td>\n",
       "      <td></td>\n",
       "      <td>Cslbehring</td>\n",
       "    </tr>\n",
       "    <tr>\n",
       "      <th>1</th>\n",
       "      <td>28 Apr 2022</td>\n",
       "      <td>CSL Behring Donates 500 Million International ...</td>\n",
       "      <td>KING OF PRUSSIA, PA –  As part of its ongoing ...</td>\n",
       "      <td>https://www.cslbehring.com/newsroom/2022/behri...</td>\n",
       "      <td></td>\n",
       "      <td>Cslbehring</td>\n",
       "    </tr>\n",
       "    <tr>\n",
       "      <th>2</th>\n",
       "      <td>28 Mar 2022</td>\n",
       "      <td>European Medicines Agency Commences Review of ...</td>\n",
       "      <td>MARBURG, GERMANY – March 28, 2022– Global biot...</td>\n",
       "      <td>https://www.cslbehring.com/newsroom/2022/ema-c...</td>\n",
       "      <td></td>\n",
       "      <td>Cslbehring</td>\n",
       "    </tr>\n",
       "    <tr>\n",
       "      <th>3</th>\n",
       "      <td>02 Mar 2022</td>\n",
       "      <td>Forbes Magazine Ranks Global Biotech Leader CS...</td>\n",
       "      <td>KING OF PRUSSIA, Pa., 2 March 2022 – Forbes Ma...</td>\n",
       "      <td>https://www.cslbehring.com/newsroom/2022/forbe...</td>\n",
       "      <td></td>\n",
       "      <td>Cslbehring</td>\n",
       "    </tr>\n",
       "    <tr>\n",
       "      <th>4</th>\n",
       "      <td>04 Feb 2022</td>\n",
       "      <td>Final Analysis of Pivotal HOPE-B Study Demonst...</td>\n",
       "      <td>KING OF PRUSSIA, PA – 4 February 2022 – Global...</td>\n",
       "      <td>https://www.cslbehring.com/newsroom/2022/hope-...</td>\n",
       "      <td></td>\n",
       "      <td>Cslbehring</td>\n",
       "    </tr>\n",
       "  </tbody>\n",
       "</table>\n",
       "</div>"
      ],
      "text/plain": [
       "          date                                              title  \\\n",
       "0  10 May 2022  Ruling by DC Circuit Court of Appeals Provides...   \n",
       "1  28 Apr 2022  CSL Behring Donates 500 Million International ...   \n",
       "2  28 Mar 2022  European Medicines Agency Commences Review of ...   \n",
       "3  02 Mar 2022  Forbes Magazine Ranks Global Biotech Leader CS...   \n",
       "4  04 Feb 2022  Final Analysis of Pivotal HOPE-B Study Demonst...   \n",
       "\n",
       "                                             article  \\\n",
       "0  We are encouraged by the United States Court o...   \n",
       "1  KING OF PRUSSIA, PA –  As part of its ongoing ...   \n",
       "2  MARBURG, GERMANY – March 28, 2022– Global biot...   \n",
       "3  KING OF PRUSSIA, Pa., 2 March 2022 – Forbes Ma...   \n",
       "4  KING OF PRUSSIA, PA – 4 February 2022 – Global...   \n",
       "\n",
       "                                                 url thumbnail      author  \n",
       "0  https://www.cslbehring.com/newsroom/2022/media...            Cslbehring  \n",
       "1  https://www.cslbehring.com/newsroom/2022/behri...            Cslbehring  \n",
       "2  https://www.cslbehring.com/newsroom/2022/ema-c...            Cslbehring  \n",
       "3  https://www.cslbehring.com/newsroom/2022/forbe...            Cslbehring  \n",
       "4  https://www.cslbehring.com/newsroom/2022/hope-...            Cslbehring  "
      ]
     },
     "execution_count": 8,
     "metadata": {},
     "output_type": "execute_result"
    }
   ],
   "source": [
    "temp_df = pd.DataFrame(article_list,columns=['date','title','article','url','thumbnail','author'])\n",
    "temp_df.head()"
   ]
  },
  {
   "cell_type": "code",
   "execution_count": 9,
   "id": "aef982f2",
   "metadata": {
    "ExecuteTime": {
     "end_time": "2022-05-24T08:01:05.400451Z",
     "start_time": "2022-05-24T08:01:05.329646Z"
    }
   },
   "outputs": [],
   "source": [
    "#to csv\n",
    "temp_df.to_csv('cslbehring news.csv')\n",
    "\n",
    "#to json\n",
    "temp_df.to_json('cslbehring news.json')"
   ]
  }
 ],
 "metadata": {
  "kernelspec": {
   "display_name": "Python 3 (ipykernel)",
   "language": "python",
   "name": "python3"
  },
  "language_info": {
   "codemirror_mode": {
    "name": "ipython",
    "version": 3
   },
   "file_extension": ".py",
   "mimetype": "text/x-python",
   "name": "python",
   "nbconvert_exporter": "python",
   "pygments_lexer": "ipython3",
   "version": "3.9.7"
  },
  "toc": {
   "base_numbering": 1,
   "nav_menu": {},
   "number_sections": true,
   "sideBar": true,
   "skip_h1_title": false,
   "title_cell": "Table of Contents",
   "title_sidebar": "Contents",
   "toc_cell": false,
   "toc_position": {},
   "toc_section_display": true,
   "toc_window_display": false
  }
 },
 "nbformat": 4,
 "nbformat_minor": 5
}
