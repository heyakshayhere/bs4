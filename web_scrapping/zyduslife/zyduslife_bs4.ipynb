{
 "cells": [
  {
   "cell_type": "markdown",
   "id": "59df5cc4",
   "metadata": {},
   "source": [
    "**url**\n",
    "\n",
    "https://www.zyduslife.com/news#pressrelease"
   ]
  },
  {
   "cell_type": "code",
   "execution_count": 1,
   "id": "4291af9f",
   "metadata": {
    "ExecuteTime": {
     "end_time": "2022-05-31T10:01:10.718225Z",
     "start_time": "2022-05-31T10:01:09.826576Z"
    }
   },
   "outputs": [
    {
     "data": {
      "application/javascript": [
       "IPython.notebook.set_autosave_interval(1000)"
      ]
     },
     "metadata": {},
     "output_type": "display_data"
    },
    {
     "name": "stdout",
     "output_type": "stream",
     "text": [
      "Autosaving every 1 seconds\n"
     ]
    }
   ],
   "source": [
    "import pandas as pd,requests,bs4,re,time,io,pdftotext\n",
    "from selenium.webdriver.common.by import By\n",
    "from goose3 import Goose\n",
    "from datetime import datetime\n",
    "from bs4 import BeautifulSoup\n",
    "from selenium import webdriver\n",
    "import warnings\n",
    "warnings.filterwarnings(\"ignore\")\n",
    "\n",
    "%autosave 1"
   ]
  },
  {
   "cell_type": "code",
   "execution_count": 2,
   "id": "3d6fc494",
   "metadata": {
    "ExecuteTime": {
     "end_time": "2022-05-31T10:01:10.733048Z",
     "start_time": "2022-05-31T10:01:10.720214Z"
    }
   },
   "outputs": [],
   "source": [
    "SITE_NAME='Zyduslife'\n",
    "\n",
    "DOMAIN = \"https://www.zyduslife.com\"\n",
    "\n",
    "SITE_LINK=\"https://www.zyduslife.com/news#pressrelease\""
   ]
  },
  {
   "cell_type": "code",
   "execution_count": 3,
   "id": "415ad9b1",
   "metadata": {
    "ExecuteTime": {
     "end_time": "2022-05-31T10:01:10.748561Z",
     "start_time": "2022-05-31T10:01:10.736567Z"
    }
   },
   "outputs": [],
   "source": [
    "def remove_esc_chars(text):\n",
    "    return text.replace(\"\\n\", \" \").replace(\"\\t\", \" \").replace(\"\\r\", \" \")"
   ]
  },
  {
   "cell_type": "code",
   "execution_count": 4,
   "id": "e0b46f22",
   "metadata": {
    "ExecuteTime": {
     "end_time": "2022-05-31T10:01:10.763371Z",
     "start_time": "2022-05-31T10:01:10.750557Z"
    }
   },
   "outputs": [],
   "source": [
    "def parse_webpage_bs(search_url):\n",
    "    \n",
    "    headers = {\n",
    "        \"User-Agent\": \"Mozilla/5.0 (Windows NT 10.0; Win64; x64; rv:90.0) Gecko/20100101 Firefox/90.0\"}\n",
    "    try:\n",
    "        site_request = requests.get(search_url, headers=headers, timeout=10)\n",
    "    except requests.exceptions.RequestException as e:\n",
    "        print(e)\n",
    "        site_request = None\n",
    "    if site_request != None and site_request.status_code==200:\n",
    "        site_soup = bs4.BeautifulSoup(site_request.content, \"lxml\")\n",
    "    else:\n",
    "        site_soup = None\n",
    "    return site_soup"
   ]
  },
  {
   "cell_type": "code",
   "execution_count": 5,
   "id": "8157fa15",
   "metadata": {
    "ExecuteTime": {
     "end_time": "2022-05-31T10:01:14.408345Z",
     "start_time": "2022-05-31T10:01:10.765156Z"
    }
   },
   "outputs": [
    {
     "name": "stderr",
     "output_type": "stream",
     "text": [
      "\n",
      "\n",
      "====== WebDriver manager ======\n",
      "Current google-chrome version is 102.0.5005\n",
      "Get LATEST chromedriver version for 102.0.5005 google-chrome\n",
      "Driver [C:\\Users\\AKSHAY SATPUTE\\.wdm\\drivers\\chromedriver\\win32\\102.0.5005.61\\chromedriver.exe] found in cache\n"
     ]
    }
   ],
   "source": [
    "#driver for operation\n",
    "from webdriver_manager.chrome import ChromeDriverManager\n",
    "driver = webdriver.Chrome(ChromeDriverManager().install())"
   ]
  },
  {
   "cell_type": "code",
   "execution_count": 6,
   "id": "ca926228",
   "metadata": {
    "ExecuteTime": {
     "end_time": "2022-05-31T10:01:14.424419Z",
     "start_time": "2022-05-31T10:01:14.410046Z"
    }
   },
   "outputs": [],
   "source": [
    "#addding timeout so that it won't force the work and scrape everything\n",
    "timeout = 100"
   ]
  },
  {
   "cell_type": "code",
   "execution_count": 7,
   "id": "5f4b0390",
   "metadata": {
    "ExecuteTime": {
     "end_time": "2022-05-31T10:01:24.026316Z",
     "start_time": "2022-05-31T10:01:14.426332Z"
    }
   },
   "outputs": [],
   "source": [
    "url = SITE_LINK\n",
    "#getting the url\n",
    "driver.get(url)\n",
    "\n",
    "#letting driver wait for a time\n",
    "driver.implicitly_wait(timeout)\n",
    "\n",
    "#accepting cookies\n",
    "driver.find_element_by_xpath('''//*[@id=\"qq\"]/div/div/div/div/button''').click()\n",
    "driver.implicitly_wait(timeout)\n",
    "\n",
    "#clicking on all\n",
    "all_options = driver.find_elements(By.XPATH, '//option[@value=\"0\"]')\n",
    "for i in all_options:\n",
    "    i.click()\n",
    "\n",
    "time.sleep(5)\n",
    "\n",
    "#get the titles ,urls and the dates\n",
    "elements = driver.find_elements(By.CLASS_NAME, \"col-sm-4\")"
   ]
  },
  {
   "cell_type": "code",
   "execution_count": 8,
   "id": "d7af7273",
   "metadata": {
    "ExecuteTime": {
     "end_time": "2022-05-31T10:02:15.686334Z",
     "start_time": "2022-05-31T10:01:24.027566Z"
    },
    "scrolled": true
   },
   "outputs": [
    {
     "name": "stdout",
     "output_type": "stream",
     "text": [
      "22 December 2021 Zydus Cadila receives tentative approval from USFDA for Pimavanserin Tablets\n",
      "16 December 2021 Zydus receives Orphan Drug Designation from US FDA for ZY-19489, a novel compound to treat malaria\n",
      "13 December 2021 Zydus to begin Phase II (a) clinical trial of ZYIL1, a novel oral NLRP3 inflammasome inhibitor in patients with Cryopyrin\u0002Associated Periodic Syndrome (CAPS) in Australia\n",
      "10 December 2021 Zydus Cadila receives tentative approval from USFDA for Cariprazine Capsules\n",
      "10 December 2021 Zydus announces EPICS-IIITM Phase 2(b)/3 adaptive pivotal clinical trial of Saroglitazar Mg in PBC\n",
      "06 December 2021 Together We Fly Quilt Press Note\n",
      "23 November 2021 Zydus develops new treatment for patients suffering from Chronic Kidney Disease (CKD), submits first New Drug Application (NDA) to DCGI\n",
      "18 November 2021 Zydus Cadila gets 180-day exclusivity for Nelarabine injection, announces final approval from USFDA\n",
      "10 November 2021 Zydus Cadila receives final approval from USFDA for Glycopyrrolate Injection\n",
      "08 November 2021 Cadila Healthcare Ltd., to supply 1 crore doses of ZyCoV-D, the world’s first Plasmid DNA vaccine to the Government of India\n",
      "29 October 2021 Zydus Cadila posts consolidated revenues of Rs. 3785 crores in Q2\n",
      "22 October 2021 zydus announces ‘first patient’ randomised in EVIDENCES-X TM Phase II(b) clinical trial of Saroglitazar Mg in NASH\n",
      "08 October 2021 Fortress Biotech and Cyprium Therapeutics Announce Positive Clinical Data for CUTX-101, Copper Histidinate\n",
      "08 October 2021 Zydus Cadila receives tentative approval from USFDA for Adapalene and Benzoyl Peroxide Gel\n",
      "24 September 2021 Zydus Cadila receives final approval from USFDA for Apremilast Tablets\n",
      "18 September 2021 Zydus Cadila receives final approval from USFDA for Vortioxetine Tablets\n",
      "09 September 2021 Zydus Cadila receives tentative approval from USFDA for Brexpiprazole Tablets\n",
      "06 September 2021 Zydus Cadila’s Sitagliptin Base Tablets Receives Tentative Approval from FDA\n",
      "23 August 2021 Zydus Cadila gets 180-day exclusivity for Tofacitinib extended\u0002release 22 mg tablets, announces final approval from USFDA\n",
      "20 August 2021 Zydus Receives EUA from DCGI for ZyCoV-D\n",
      "0 pages remaining..\r"
     ]
    }
   ],
   "source": [
    "article_list = []\n",
    "\n",
    "total_elements = len(elements[::-1][:20])\n",
    "for x in elements[::-1][:20]:\n",
    "    y = x.find_elements(By.TAG_NAME, 'a')\n",
    "    for z in y:\n",
    "        #title,published_date,link,author,thumbnail\n",
    "        title = z.find_element(By.TAG_NAME, 'p').text\n",
    "        published_date = z.find_element(By.TAG_NAME, 'span').text\n",
    "        link = z.get_attribute('href')\n",
    "        author = SITE_NAME\n",
    "        thumbnail = \"https://www.zyduslife.com/public/images/zydus-logo.png\"\n",
    "        \n",
    "        #text\n",
    "        r = requests.get(link)\n",
    "        f = io.BytesIO(r.content)\n",
    "        reader = pdftotext.PDF(f)\n",
    "        text = \"\"\n",
    "        for x in range(0,len(reader)):\n",
    "            text += remove_esc_chars(reader[x])\n",
    "            \n",
    "        article = (published_date.strip(),title.strip(),text.strip(),link.strip(),thumbnail.strip(),author.strip())\n",
    "        article_list.append(article)\n",
    "        print(published_date,title)\n",
    "        total_elements -= 1\n",
    "        print(f\"{total_elements} pages remaining..\",end =\"\\r\")"
   ]
  },
  {
   "cell_type": "code",
   "execution_count": 9,
   "id": "72220295",
   "metadata": {
    "ExecuteTime": {
     "end_time": "2022-05-31T10:02:15.701295Z",
     "start_time": "2022-05-31T10:02:15.687332Z"
    }
   },
   "outputs": [
    {
     "data": {
      "text/html": [
       "<div>\n",
       "<style scoped>\n",
       "    .dataframe tbody tr th:only-of-type {\n",
       "        vertical-align: middle;\n",
       "    }\n",
       "\n",
       "    .dataframe tbody tr th {\n",
       "        vertical-align: top;\n",
       "    }\n",
       "\n",
       "    .dataframe thead th {\n",
       "        text-align: right;\n",
       "    }\n",
       "</style>\n",
       "<table border=\"1\" class=\"dataframe\">\n",
       "  <thead>\n",
       "    <tr style=\"text-align: right;\">\n",
       "      <th></th>\n",
       "      <th>date</th>\n",
       "      <th>title</th>\n",
       "      <th>article</th>\n",
       "      <th>url</th>\n",
       "      <th>thumbnail</th>\n",
       "      <th>author</th>\n",
       "    </tr>\n",
       "  </thead>\n",
       "  <tbody>\n",
       "    <tr>\n",
       "      <th>0</th>\n",
       "      <td>22 December 2021</td>\n",
       "      <td>Zydus Cadila receives tentative approval from ...</td>\n",
       "      <td>Zydus Cadila receives tentative approval from ...</td>\n",
       "      <td>https://www.zyduslife.com/public/pdf/pressrele...</td>\n",
       "      <td>https://www.zyduslife.com/public/images/zydus-...</td>\n",
       "      <td>Zyduslife</td>\n",
       "    </tr>\n",
       "    <tr>\n",
       "      <th>1</th>\n",
       "      <td>16 December 2021</td>\n",
       "      <td>Zydus receives Orphan Drug Designation from US...</td>\n",
       "      <td>Zydus receives Orphan Drug Designation from US...</td>\n",
       "      <td>https://www.zyduslife.com/public/pdf/pressrele...</td>\n",
       "      <td>https://www.zyduslife.com/public/images/zydus-...</td>\n",
       "      <td>Zyduslife</td>\n",
       "    </tr>\n",
       "    <tr>\n",
       "      <th>2</th>\n",
       "      <td>13 December 2021</td>\n",
       "      <td>Zydus to begin Phase II (a) clinical trial of ...</td>\n",
       "      <td>Zydus to begin Phase II (a) clinical trial of ...</td>\n",
       "      <td>https://www.zyduslife.com/public/pdf/pressrele...</td>\n",
       "      <td>https://www.zyduslife.com/public/images/zydus-...</td>\n",
       "      <td>Zyduslife</td>\n",
       "    </tr>\n",
       "    <tr>\n",
       "      <th>3</th>\n",
       "      <td>10 December 2021</td>\n",
       "      <td>Zydus Cadila receives tentative approval from ...</td>\n",
       "      <td>Zydus Cadila receives tentative approval from ...</td>\n",
       "      <td>https://www.zyduslife.com/public/pdf/pressrele...</td>\n",
       "      <td>https://www.zyduslife.com/public/images/zydus-...</td>\n",
       "      <td>Zyduslife</td>\n",
       "    </tr>\n",
       "    <tr>\n",
       "      <th>4</th>\n",
       "      <td>10 December 2021</td>\n",
       "      <td>Zydus announces EPICS-IIITM Phase 2(b)/3 adapt...</td>\n",
       "      <td>Zydus announces EPICS-IIITM Phase 2(b)/3 adapt...</td>\n",
       "      <td>https://www.zyduslife.com/public/pdf/pressrele...</td>\n",
       "      <td>https://www.zyduslife.com/public/images/zydus-...</td>\n",
       "      <td>Zyduslife</td>\n",
       "    </tr>\n",
       "  </tbody>\n",
       "</table>\n",
       "</div>"
      ],
      "text/plain": [
       "               date                                              title  \\\n",
       "0  22 December 2021  Zydus Cadila receives tentative approval from ...   \n",
       "1  16 December 2021  Zydus receives Orphan Drug Designation from US...   \n",
       "2  13 December 2021  Zydus to begin Phase II (a) clinical trial of ...   \n",
       "3  10 December 2021  Zydus Cadila receives tentative approval from ...   \n",
       "4  10 December 2021  Zydus announces EPICS-IIITM Phase 2(b)/3 adapt...   \n",
       "\n",
       "                                             article  \\\n",
       "0  Zydus Cadila receives tentative approval from ...   \n",
       "1  Zydus receives Orphan Drug Designation from US...   \n",
       "2  Zydus to begin Phase II (a) clinical trial of ...   \n",
       "3  Zydus Cadila receives tentative approval from ...   \n",
       "4  Zydus announces EPICS-IIITM Phase 2(b)/3 adapt...   \n",
       "\n",
       "                                                 url  \\\n",
       "0  https://www.zyduslife.com/public/pdf/pressrele...   \n",
       "1  https://www.zyduslife.com/public/pdf/pressrele...   \n",
       "2  https://www.zyduslife.com/public/pdf/pressrele...   \n",
       "3  https://www.zyduslife.com/public/pdf/pressrele...   \n",
       "4  https://www.zyduslife.com/public/pdf/pressrele...   \n",
       "\n",
       "                                           thumbnail     author  \n",
       "0  https://www.zyduslife.com/public/images/zydus-...  Zyduslife  \n",
       "1  https://www.zyduslife.com/public/images/zydus-...  Zyduslife  \n",
       "2  https://www.zyduslife.com/public/images/zydus-...  Zyduslife  \n",
       "3  https://www.zyduslife.com/public/images/zydus-...  Zyduslife  \n",
       "4  https://www.zyduslife.com/public/images/zydus-...  Zyduslife  "
      ]
     },
     "execution_count": 9,
     "metadata": {},
     "output_type": "execute_result"
    }
   ],
   "source": [
    "temp_df = pd.DataFrame(article_list,columns=['date','title','article','url','thumbnail','author'])\n",
    "temp_df.head()"
   ]
  },
  {
   "cell_type": "code",
   "execution_count": 10,
   "id": "b4571902",
   "metadata": {
    "ExecuteTime": {
     "end_time": "2022-05-31T10:02:15.747478Z",
     "start_time": "2022-05-31T10:02:15.703292Z"
    }
   },
   "outputs": [],
   "source": [
    "#to csv\n",
    "temp_df.to_csv(f'{SITE_NAME} news.csv',index = False)\n",
    "\n",
    "#to json\n",
    "temp_df.to_json(f'{SITE_NAME} news.json')"
   ]
  }
 ],
 "metadata": {
  "kernelspec": {
   "display_name": "Python 3 (ipykernel)",
   "language": "python",
   "name": "python3"
  },
  "language_info": {
   "codemirror_mode": {
    "name": "ipython",
    "version": 3
   },
   "file_extension": ".py",
   "mimetype": "text/x-python",
   "name": "python",
   "nbconvert_exporter": "python",
   "pygments_lexer": "ipython3",
   "version": "3.9.7"
  },
  "toc": {
   "base_numbering": 1,
   "nav_menu": {},
   "number_sections": true,
   "sideBar": true,
   "skip_h1_title": false,
   "title_cell": "Table of Contents",
   "title_sidebar": "Contents",
   "toc_cell": false,
   "toc_position": {},
   "toc_section_display": true,
   "toc_window_display": false
  }
 },
 "nbformat": 4,
 "nbformat_minor": 5
}
