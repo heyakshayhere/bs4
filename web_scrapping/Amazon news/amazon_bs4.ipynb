{
 "cells": [
  {
   "cell_type": "code",
   "execution_count": 1,
   "id": "a498bf18",
   "metadata": {
    "ExecuteTime": {
     "end_time": "2022-04-28T13:50:49.900204Z",
     "start_time": "2022-04-28T13:50:49.165684Z"
    }
   },
   "outputs": [
    {
     "data": {
      "application/javascript": [
       "IPython.notebook.set_autosave_interval(1000)"
      ]
     },
     "metadata": {},
     "output_type": "display_data"
    },
    {
     "name": "stdout",
     "output_type": "stream",
     "text": [
      "Autosaving every 1 seconds\n"
     ]
    }
   ],
   "source": [
    "from bs4 import BeautifulSoup\n",
    "import requests\n",
    "import colorama\n",
    "from colorama import Fore\n",
    "from datetime import datetime\n",
    "import pandas as pd , numpy as np ,re\n",
    "\n",
    "import warnings\n",
    "warnings.filterwarnings(\"ignore\")\n",
    "\n",
    "%autosave 1"
   ]
  },
  {
   "cell_type": "code",
   "execution_count": 2,
   "id": "cc75db6a",
   "metadata": {
    "ExecuteTime": {
     "end_time": "2022-04-28T13:50:50.037361Z",
     "start_time": "2022-04-28T13:50:49.903140Z"
    }
   },
   "outputs": [],
   "source": [
    "#for formatting use this reference \n",
    "#https://www.geeksforgeeks.org/python-strftime-function/#:~:text=The%20strftime()%20function%20is,and%20returns%20the%20string%20representation.&text=Returns%20%3A%20It%20returns%20the%20string,the%20date%20or%20time%20object.\n",
    "# creating the list of dates \n",
    "list_of_dates = []\n",
    "\n",
    "try:\n",
    "    #taking input from user\n",
    "#     start_date = input(\"Enter start date (in YYYY MM DD) : \" )\n",
    "#     end_date = input(\"Enter end date (in YYYY MM DD) : \" )\n",
    "    start_date = '2022 1 1'\n",
    "    end_date = '2022 4 20'\n",
    "\n",
    "    #adding up condition \n",
    "    if start_date > end_date :\n",
    "        print(Fore.RED+ '\\nstart date must come before end date')\n",
    "\n",
    "    #appending to the list includes both dates\n",
    "    else:\n",
    "        for d in pd.date_range(start_date, end_date,inclusive=\"both\"):\n",
    "            list_of_dates.append(d.strftime(\"%B %#d, %Y\"))\n",
    "\n",
    "#dealing with error/s    \n",
    "except ValueError:\n",
    "    print(Fore.RED +\"\\nAdd the dates in correct format (in YYYY MM DD)\")"
   ]
  },
  {
   "cell_type": "code",
   "execution_count": 3,
   "id": "07fab075",
   "metadata": {
    "ExecuteTime": {
     "end_time": "2022-04-28T13:50:50.052649Z",
     "start_time": "2022-04-28T13:50:50.039060Z"
    }
   },
   "outputs": [],
   "source": [
    "def unix_to_datetime(unix_value:int):\n",
    "    a = datetime.utcfromtimestamp(1650513646)\n",
    "    return a.strftime(\"%B %#d, %Y\")"
   ]
  },
  {
   "cell_type": "code",
   "execution_count": 4,
   "id": "eccab840",
   "metadata": {
    "ExecuteTime": {
     "end_time": "2022-04-28T13:50:50.068082Z",
     "start_time": "2022-04-28T13:50:50.054515Z"
    }
   },
   "outputs": [],
   "source": [
    "#there are 127 pages in total"
   ]
  },
  {
   "cell_type": "code",
   "execution_count": 5,
   "id": "5d017e8d",
   "metadata": {
    "ExecuteTime": {
     "end_time": "2022-04-28T13:50:57.933592Z",
     "start_time": "2022-04-28T13:50:50.069766Z"
    },
    "scrolled": true
   },
   "outputs": [
    {
     "name": "stdout",
     "output_type": "stream",
     "text": [
      "scrapping done for page 1\n",
      "scrapping done for page 2\n",
      "scrapping done for page 3\n",
      "scrapping done for page 4\n",
      "scrapping done for page 5\n",
      "scrapping done for page 6\n",
      "scrapping done for page 7\n",
      "scrapping done for page 8\n",
      "scrapping done for page 9\n"
     ]
    }
   ],
   "source": [
    "titles = []\n",
    "hrefs = []\n",
    "dates = []\n",
    "\n",
    "for p in range(1,10):\n",
    "    \n",
    "        #getting the urls\n",
    "        url =  f'https://www.aboutamazon.com/news?p={p}'\n",
    "\n",
    "        #parsing\n",
    "        source = requests.get(url)\n",
    "        soup = BeautifulSoup(source.content,'lxml')\n",
    "        \n",
    "        all_containers = soup.findAll('li', {'class': 'SearchResultsModuleResults-items-item'})\n",
    "        \n",
    "        for container in all_containers:\n",
    "            title  = container.find('h2').text.strip()\n",
    "            titles.append(title)\n",
    "            href = container.find('a')['href']\n",
    "            hrefs.append(href)\n",
    "            published_date = container.find('bsp-timestamp')['data-timestamp']\n",
    "            published_date = int(str(published_date)[:-3])\n",
    "            published_date = unix_to_datetime(published_date)\n",
    "            dates.append(published_date)\n",
    "        \n",
    "        print(f\"scrapping done for page {p}\")"
   ]
  },
  {
   "cell_type": "code",
   "execution_count": 6,
   "id": "d01e0f60",
   "metadata": {
    "ExecuteTime": {
     "end_time": "2022-04-28T13:52:35.892457Z",
     "start_time": "2022-04-28T13:50:57.935742Z"
    },
    "scrolled": true
   },
   "outputs": [
    {
     "name": "stdout",
     "output_type": "stream",
     "text": [
      "scrapping done for url 0\n",
      "scrapping done for url 1\n",
      "scrapping done for url 2\n",
      "scrapping done for url 3\n",
      "scrapping done for url 4\n",
      "scrapping done for url 5\n",
      "scrapping done for url 6\n",
      "scrapping done for url 7\n",
      "scrapping done for url 8\n",
      "scrapping done for url 9\n",
      "scrapping done for url 10\n",
      "scrapping done for url 11\n",
      "scrapping done for url 12\n",
      "scrapping done for url 13\n",
      "scrapping done for url 14\n",
      "scrapping done for url 15\n",
      "scrapping done for url 16\n",
      "scrapping done for url 17\n",
      "scrapping done for url 18\n",
      "scrapping done for url 19\n",
      "scrapping done for url 20\n",
      "scrapping done for url 21\n",
      "scrapping done for url 22\n",
      "scrapping done for url 23\n",
      "scrapping done for url 24\n",
      "scrapping done for url 25\n",
      "scrapping done for url 26\n",
      "scrapping done for url 27\n",
      "scrapping done for url 28\n",
      "scrapping done for url 29\n",
      "scrapping done for url 30\n",
      "scrapping done for url 31\n",
      "scrapping done for url 32\n",
      "scrapping done for url 33\n",
      "scrapping done for url 34\n",
      "scrapping done for url 35\n",
      "scrapping done for url 36\n",
      "scrapping done for url 37\n",
      "scrapping done for url 38\n",
      "scrapping done for url 39\n",
      "scrapping done for url 40\n",
      "scrapping done for url 41\n",
      "scrapping done for url 42\n",
      "scrapping done for url 43\n",
      "scrapping done for url 44\n",
      "scrapping done for url 45\n",
      "scrapping done for url 46\n",
      "scrapping done for url 47\n",
      "scrapping done for url 48\n",
      "scrapping done for url 49\n",
      "scrapping done for url 50\n",
      "scrapping done for url 51\n",
      "scrapping done for url 52\n",
      "scrapping done for url 53\n",
      "scrapping done for url 54\n",
      "scrapping done for url 55\n",
      "scrapping done for url 56\n",
      "scrapping done for url 57\n",
      "scrapping done for url 58\n",
      "scrapping done for url 59\n",
      "scrapping done for url 60\n",
      "scrapping done for url 61\n",
      "scrapping done for url 62\n",
      "scrapping done for url 63\n",
      "scrapping done for url 64\n",
      "scrapping done for url 65\n",
      "scrapping done for url 66\n",
      "scrapping done for url 67\n",
      "scrapping done for url 68\n",
      "scrapping done for url 69\n",
      "scrapping done for url 70\n",
      "scrapping done for url 71\n",
      "scrapping done for url 72\n",
      "scrapping done for url 73\n",
      "scrapping done for url 74\n",
      "scrapping done for url 75\n",
      "scrapping done for url 76\n",
      "scrapping done for url 77\n",
      "scrapping done for url 78\n",
      "scrapping done for url 79\n",
      "scrapping done for url 80\n",
      "scrapping done for url 81\n",
      "scrapping done for url 82\n",
      "scrapping done for url 83\n",
      "scrapping done for url 84\n",
      "scrapping done for url 85\n",
      "scrapping done for url 86\n",
      "scrapping done for url 87\n",
      "scrapping done for url 88\n",
      "scrapping done for url 89\n",
      "scrapping done for url 90\n",
      "scrapping done for url 91\n",
      "scrapping done for url 92\n",
      "scrapping done for url 93\n",
      "scrapping done for url 94\n",
      "scrapping done for url 95\n",
      "scrapping done for url 96\n",
      "scrapping done for url 97\n",
      "scrapping done for url 98\n",
      "scrapping done for url 99\n",
      "scrapping done for url 100\n",
      "scrapping done for url 101\n",
      "scrapping done for url 102\n",
      "scrapping done for url 103\n",
      "scrapping done for url 104\n",
      "scrapping done for url 105\n",
      "scrapping done for url 106\n",
      "scrapping done for url 107\n"
     ]
    }
   ],
   "source": [
    "articles  = []\n",
    "thumbnails = []\n",
    "\n",
    "for number,link in enumerate (hrefs):\n",
    "        #getting the urls\n",
    "        url =  link\n",
    "\n",
    "        #parsing\n",
    "        source = requests.get(url)\n",
    "        soup = BeautifulSoup(source.content,'lxml')\n",
    "        \n",
    "        all_containers = soup.findAll('div', {'class' :'ArticlePage-wrapper'})\n",
    "        \n",
    "        for container in all_containers:\n",
    "            article = container.text\n",
    "            articles.append(article)\n",
    "            \n",
    "        img_container = soup.findAll('img', {'class' :'Image'})\n",
    "        \n",
    "        for thumb in img_container[:1]:\n",
    "            thumbnail = thumb['src']\n",
    "            thumbnails.append(thumbnail)\n",
    "        \n",
    "        print(f\"scrapping done for url {number}\")"
   ]
  },
  {
   "cell_type": "code",
   "execution_count": 7,
   "id": "f8719150",
   "metadata": {
    "ExecuteTime": {
     "end_time": "2022-04-28T13:52:35.908122Z",
     "start_time": "2022-04-28T13:52:35.894411Z"
    }
   },
   "outputs": [
    {
     "data": {
      "text/plain": [
       "[('April 21, 2022',\n",
       "  'Preview some of the best deals for the first-ever Amazon Pet Day',\n",
       "  \"\\n\\n\\nTo kick off National Pet Month, Amazon is offering deals for your pets across numerous categories, including pets, home, electronics, and even Prime Video. \\n\\nNational Pet Month is almost here. To celebrate, we are hosting Amazon Pet Day on May 2 for our most loyal friends and beloved family members: our pets. This 24-hour event will feature incredible deals and savings that are sure to make any pup sit. Whether you are looking for pet care, tasty treats, or pet-friendly electronics, our deals offer savings on items perfect for any and every type of pet and pet owner.Check out the list below for a preview of some of the savings that will be available May 2 on amazon.com/pets-dealsTreats and foodSave up to 15% on Purina Friskies cat treatsSave 20% on Milkbone productsSave 25% on select I and Love and You pet foodSave 30% on Stella and Chewy Wild Red dog foodSave up to 40% on Amazon Brand pet food and treatsPet careSave up to 30% on Greenies supplementsSave 30% on Frontline Plus for dogs and catsSave 25% on select Wellness Pet Company productsSave up to 33% on PetHonesty pet productsSave 20% on select API fish care productsSave 15% on Seresto collarsSave 30% on Dremel PawControl dog nail grinder and trimmer\\n\\n\\n\\n\\n\\n\\n\\n\\n\\n\\nAmazon Pet Day offers tail-wagging deals on May 2\\n\\nCelebrate your pet with 24 hours of incredible deals from top-rated and pet-approved brands in Amazon’s store, including Furbo, Frontline, and Bissell.\\n\\n\\n\\n\\nRead more\\n\\n\\n\\n\\n\\n\\n\\n\\n\\n\\n\\n\\n\\n\\n\\n\\nHomeSave 33% on Rocco & Roxie stain and odor productsSave 15% on Petsafe pet screen doorsSave 20% on Comfort Zone cat calming diffuser kitElectronicsSave on Shark air purifiers and robotic vacuumsSave up to 30% on Bissell productsSave 15% on PetKit automatic pet feederSave 15% on Pura X Self-cleaning cat litter box Save $100 on the Litter-Robot 3 bundle Save $50 on the Furbo dog cameraToysSave 15% on Jolly Pets dog toysSave 15% on NylaboneSave 15% to 30% on Pet Qwerks chew toy for aggressive chewersTravel Save 15% on Tomkas dog carriersSave 17% on Sportpet foldable cat carriersSave 15% on Asobu dog bowlsSave 15% on Voyager dog harnessesSmall business Save 15% on Bodhi dog pet cologneSave 15% on Aquapaw bath suppliesSave 20% on Finn calming chewsSave 20% to 30% on Pawstruck bully sticks and bonesSave 20% on 360 Pet Nutrition freeze dried dog foodHandmadeSave on Acatinthetree cat and dog ID tags, and Cades and Birch personalized elevated pet feeders and memory boxes.Prime Video Starting on April 29, Prime members can rent or buy popular pet movies for 50% off.Prime Rewards VisaAmazon Prime Rewards Visa Signature Card holders will receive 10% cash back on pet products.Amazon LiveOn May 2 from 11 a.m. to 1 p.m. EST, customers can tune-in to Amazon Live to shop the best Pet Day deals from Rocco & Roxie, Pet Honesty, and Shark. The Amazon Live hosts will be joined by their favorite product testers—Peaches and Brooklyn—who will be demoing the products in real time. Plus, viewers can chat live with the hosts and easily shop the products through a carousel located alongside the stream.\\xa0\\xa0\\n\\n        View this post on Instagram            A post shared by Devyn Simone (@devynsimone) \\n\\nAmazon is committed to improving the health and happiness of all furry friends and has teamed up with Bissel to donate $100,000 to local shelters in celebration of Amazon Pet Day on May 2. Shoppers can donate, too, by shopping AmazonSmile Charity Lists for animal shelters. Visit our Adopt A Shelter page to learn more.Customers can also simultaneously shop and support a pet charity through AmazonSmile. Customers visiting\\xa0smile.amazon.com find the exact same Amazon experience—amazing deals, wide selection, and fast and free delivery options to ensure toys and treats arrive quickly—with the added bonus that AmazonSmile will donate a portion of the eligible purchase price to a charity of the customer’s choice. Learn how to sign up.\\n\\n        View this post on Instagram            A post shared by Sophie Sumner (@sophiesumner8) \\n\\nLooking for more deals that extend beyond Amazon Pet Day? We've got you covered. Shoppers can sign up for Amazon Pet Profiles to receive personalized recommendations and coupons based on various factors such as your pet’s breed, size, and preferences. Amazon also offers Subscribe and Save, a convenient way to set up regularly scheduled deliveries and unlock extra savings for pet owners and pets alike. From cat food to dog treats, you can subscribe to thousands of everyday products to help make pet-parenting a breeze.Read this article in Spanish.\\n\\n\\n\\n\\n                            Related Tags\\n\\nAmazon Pet DayAmazon dealsRetailShopping\\n\\n\\n\\n\\n\\n\\n\\n\\n\\n\\n\\n\\n\\n\\n\\n\\n\\n3 min\\n        \\n\\n\\n\\n\\n                            Reading:\\n                        \\n\\n                            Preview some of the best deals for the first-ever Amazon Pet Day\\n                        \\n\\n\\n\\n\\n\\nFacebook Share\\n\\n\\n\\nTwitter Share\\n\\n\\n\\nLinkedIn Share\\n\\n\\nEmail Share\\n\\n\\n\\n\\n\\n\\n\\nStories we think you’ll like\\n\\n\\n\\n\\n\\n\\n\\n\\n\\n\\n\\n\\n SNAP benefits can be used by Amazon customers in nearly every U.S. state \\r\\n\\n\\n\\n\\n\\n\\n\\n\\n\\n\\n\\n\\n\\n\\nMeet two family-owned and female-led Amazon DSPs\\n\\n\\n\\n\\n\\n\\n\\n\\n\\n\\n\\n\\n\\nBuilding on progress at Amazon’s HQ2 in Arlington, Virginia\\n\\n\\n\\n\\n\\n\\n\\n\\n\",\n",
       "  'https://www.aboutamazon.com/news/retail/preview-some-of-the-best-deals-for-the-first-ever-amazon-pet-day',\n",
       "  'https://assets.aboutamazon.com/dims4/default/278cacf/2147483647/strip/true/crop/1547x871+0+0/resize/1320x743!/quality/90/?url=https%3A%2F%2Famazon-blogs-brightspot.s3.amazonaws.com%2F71%2Fc7%2F86393f05483eafd474a8a51a95a2%2Fbest-amazon-pet-day-deals.jpg'),\n",
       " ('April 21, 2022',\n",
       "  'SNAP benefits can be used by Amazon customers in nearly every U.S. state',\n",
       "  '\\n\\n\\nAmazon has been working closely with the U.S. Department of Agriculture (USDA) to rapidly expand access to online grocery shopping to Americans who rely on Supplemental Nutrition Assistance Program (SNAP) benefits across the country.\\n\\nAs families across the country were encouraged to stay home, Amazon worked closely with the U.S. Department of Agriculture (USDA) to rapidly expand access to online grocery shopping to Americans who rely on Supplemental Nutrition Assistance Program (SNAP) benefits. What launched in 2019 as a pilot for expansion into only 10 states has quickly fast-tracked to a nearly national program in order to meet the evolving needs of customers, both during and after the COVID-19 crisis. Amazon now reaches beneficiaries in 48 states plus the District of Columbia, providing more than 99% of SNAP households1 with the ability to use their SNAP benefits online. Amazon volunteered to participate as a retailer in the USDA’s SNAP Online Purchasing Pilot in 2016 because we believe in its goals and to ensure that all customers have the opportunity to order groceries online.SNAP recipients in Alabama, Arizona, California, Connecticut, Colorado, District of Columbia, Florida, Georgia, Idaho, Illinois, Indiana, Iowa, Kentucky, Louisiana, Maryland, Massachusetts, Michigan, Minnesota, Missouri, Montana, Nebraska, Nevada, New Jersey, New Mexico, New York, North Carolina, Ohio, Oklahoma, Oregon, Pennsylvania, Rhode Island, Tennessee, Texas, Vermont, Virginia, Washington, West Virginia, Wisconsin, and Wyoming can now use their benefits to shop for groceries on Amazon and other participating retailers—and we are working to expand access to additional states.With online acceptance of SNAP, Amazon’s selection, competitive pricing, and home delivery can improve the grocery shopping experience for SNAP participants. Customers can shop for groceries across two Amazon services: Amazon Grocery (shelf-stable food and household items in varying sizes), and Amazon Fresh (fresh produce, meat, and more; available in select metropolitan regions)—all with free shipping available. Amazon has waived the Prime membership requirement for SNAP customers to access Amazon Fresh, further reducing barriers to online grocery shopping.For further insight into the impact of online SNAP purchasing, we spoke with three leading hunger relief organizations fighting to end food insecurity\"SNAP, formerly known as food stamps, is our first line of defense against hunger by serving as a critical safety net for 1.6 million New Yorkers who struggle to make ends meet. By enabling SNAP EBT as a payment method online, low-income New Yorkers now have increased access to healthy food choices with the ability to purchase fresh produce and groceries for their families online.\" – Food Bank for New York City (FBNYC)\"The online SNAP purchasing pilot is one important piece of the puzzle for food access for low-income customers. It puts SNAP customers on an equal footing with other consumers and provides new options for them to get food into their hands. SNAP is one of our country’s most vital social safety nets and must continue to play a critical role in reducing hunger, malnutrition, and poverty. Online ordering is important in regular times but especially so when all Americans have been encouraged to practice social distancing and protect individual and public health. The pilot program helps vulnerable households gain greater access to healthy food while staying home.\" – Food Research and Action Center (FRAC)\"We are grateful the USDA has been so quick to approve states’ requests to make online SNAP purchases possible for their residents. Online SNAP is an incredibly powerful tool that makes it easier for SNAP recipients to purchase nutritious food, particularly for those who have challenges getting to a bricks-and-mortar store due to myriad barriers, including the unique challenges presented by the current COVID-19 public health crisis. We applaud USDA, the SNAP processors, and the many retailers who have responded to meet this demand in record time during unprecedented circumstances.\" – Alliance to End HungerAmazon is proud to continue to expand online SNAP acceptance to beneficiaries in more states and we remain committed to making food accessible through online grocery shopping, offering all customers convenience, time savings, and low prices delivered straight to their door. Get more information, the current list of participating states, or register for the program.1 [source]\\n\\n\\n\\n\\n                            Related Tags\\n\\nGroceriesAmazon Fresh\\n\\n\\n\\nAbout the Author\\n\\n\\n\\nKristina Herrmann \\nKristina Herrmann is a Director leading Amazon’s participation in the USDA’s Online Purchasing Pilot. She’s also a mom to three little kids and a dog, and an avid hiker.\\n\\n\\n\\n\\n\\n\\n\\n\\n\\n\\n\\n\\n\\n\\n\\n\\n\\n\\n3 min\\n        \\n\\n\\n\\n\\n                            Reading:\\n                        \\n\\n                            Nearly every SNAP household in the U.S. can pay with SNAP EBT on Amazon\\n                        \\n\\n\\n\\n\\n\\nFacebook Share\\n\\n\\n\\nTwitter Share\\n\\n\\n\\nLinkedIn Share\\n\\n\\nEmail Share\\n\\n\\n\\n\\n\\n\\n\\nStories we think you’ll like\\n\\n\\n\\n\\n\\n\\n\\n\\n\\n\\n\\n\\nPreview some of the best deals for the first-ever Amazon Pet Day\\n\\n\\n\\n\\n\\n\\n\\n\\n\\n\\n\\n\\n\\nMeet two family-owned and female-led Amazon DSPs\\n\\n\\n\\n\\n\\n\\n\\n\\n\\n\\n\\n\\n\\nBuilding on progress at Amazon’s HQ2 in Arlington, Virginia\\n\\n\\n\\n\\n\\n\\n\\n\\n',\n",
       "  'https://www.aboutamazon.com/news/retail/nearly-every-snap-household-in-the-u-s-can-pay-with-snap-ebt-on-amazon',\n",
       "  'https://assets.aboutamazon.com/dims4/default/ad21312/2147483647/strip/true/crop/7477x4209+0+389/resize/1320x743!/quality/90/?url=https%3A%2F%2Famazon-blogs-brightspot.s3.amazonaws.com%2Fb8%2F02%2F9e1767e1482680956e4fdfdde3df%2Fflat-lay-photography-of-variety-of-vegetables-1435904.jpg'),\n",
       " ('April 21, 2022',\n",
       "  'Meet two family-owned and female-led Amazon DSPs',\n",
       "  \"\\n\\n\\nAmazon Delivery Service Partners share their stories about getting into the business.\\n\\nFamily-owned and -operated small businesses are an important part of the U.S. economy. According to recent data from the U.S. Small Business Administration, nearly one-third of small employer businesses in the U.S. are family owned. As part of Amazon’s Delivery Service Partner (DSP) program, Amazon works with family-owned logistics and delivery businesses around the world to deliver packages to customers.Launched in 2018, the Amazon DSP program connects aspiring entrepreneurs with resources and coaching to help them build and scale their own businesses with Amazon. Today, Amazon partners with more than 3,000 DSPs globally that employ thousands of drivers and deliver for Amazon customers every day.Aimkhan Logistics and Total Package Logistics are two successful family-owned and women-led DSPs who have grown their businesses with Amazon. These DSP owners share their stories of how they got into business with their spouses, running their companies like family, and what their kids think of their parents’ entrepreneurial journeys.Maha Al-Absi and Aqeel Ahmed, owners of Aimkhan Logistics, Worcester, Massachusetts\\n\\n\\n\\n\\n\\n\\n\\nMaha Al-Absi and Aqeel Ahmed spent most of their 20-plus-year careers in the corporate world working as certified project managers at large aerospace and insurance companies. Highly accomplished in their fields, they enjoyed their work. But they frequently discussed their own entrepreneurial ideas at the dinner table and how they could go into business together as a team one day.“I had always talked about starting a logistics business, since 2011 in fact,” said Ahmed. “The world is moving more and more online, and it was always something I thought I could do, but I never took the initiative.”That’s where Al-Absi stepped in. “It was February 2020, and Aqeel and a friend were talking—again—about logistics businesses. I remember because it was my birthday,” Al-Absi said. “After all this talk and no action, I said ‘Fine, if you’re just going to talk about it, I’m going to do something about it!’”Al-Absi applied for Amazon’s DSP program and was accepted. “I told Aqeel he had to run the business with me.”Al-Absi and Ahmed launched their business in August 2020, during the height of the pandemic.\\n\\n\\n\\n\\n\\n\\n\\n\\n\\n\\nAmazon, Delivered: Meet four women leading in logistics\\n\\nInside Amazon delivery stations and out on the road, women are a driving force in the company’s middle and last mile logistics. \\n\\n\\n\\n\\nRead more\\n\\n\\n\\n\\n\\n\\n\\n\\n\\n\\n\\n\\n\\n\\n\\n\\n“We set up the home office in our living room right next to our children, who were doing remote learning. We say that they got their MBAs during that time.” Parents to three kids, the two joke that they now have upward of 60 kids, having expanded from five drivers when they started their business with Amazon to more than 65 drivers today.“Our drivers and employees are like our family. They know our kids; our kids know them. We support them and guide them like we would our own children,” Ahmed said. “We opened our business to help people. Not just to earn money, but to change people’s lives. We mentor our drivers and encourage them to move on to bigger things in their lives.”At the end of the day, they see their business as a stepping stone for their employees.“We can provide our employees access, guidance, and support so they can learn how to become managers themselves and move up in their careers,” Al-Absi said.For some, that means graduating college and paying off student loans. For others, it means becoming financially independent and moving into homes or apartments of their own.“At the end of the day, this is a family business, and we want our employees to achieve their goals and dreams, just like we desire for our children,” Al-Absi said.Alison and Greg Gatto, owners of Total Package Logistics, Boca Raton, Florida\\n\\n\\n\\n\\n\\n\\n\\nLike Al-Absi, Alison Gatto acted on her husband’s curiosity and became an entrepreneur and DSP owner somewhat by accident.Gatto was living her dream of owning a successful luxury salon in Florida in 2018. She’d opened the salon 10 years earlier and had grown a staff and clientele that she was immensely proud of. A decade into living her dream, a chance conversation with her husband changed her life.“He had heard about this program with Amazon to open a small delivery business, and I just thought it sounded like something I’d be good at. Even though I didn’t know anything about logistics, I knew a lot about managing people,” she said. “I didn’t realize how much it would positively change the course of my life.”\\n\\n\\n\\n\\n\\n\\n\\n\\n\\n\\nAmazon, Delivered: From survivor to inspirational entrepreneur\\n\\nA difficult past didn’t stop Amazon Delivery Service Partner Sophia Strother from realizing her potential, while inspiring others. Find out how Strother became a thriving business leader, entrepreneur, and community advocate.\\n\\n\\n\\n\\nRead more\\n\\n\\n\\n\\n\\n\\n\\n\\n\\n\\n\\n\\n\\n\\n\\n\\nGatto applied and was accepted into the DSP program and soon found herself launching a new business endeavor in an industry that she knew little about. Together, she and her husband Greg learned as much as they could about logistics and found that running a delivery business was not too dissimilar from running the many other businesses–including a burger restaurant–they’d owned over the course of their marriage.“The great thing about working with your spouse or partner is that you know their quirks, their strengths, and if you know how to communicate with each other, you can work well together,” she said. “I leave the manual labor and repairs to him; he leaves the operations to me!”“Both my husband and I are very entrepreneurial,” she said. “He’s always been self-employed and encouraged me to live out my dream of starting and owning businesses as well.”Gatto’s three daughters think what their mom is doing is pretty neat.“My middle daughter is 15 years old, and she’s taken an interest in the business. She’ll come into my office when I’m doing paperwork or planning and want to know more about it. To see that budding interest in entrepreneurship is an incredible thing to witness, and for her to see her parents helping each other succeed in business is an example I’m proud of.”Amazon is investing in the future, constantly finding new ways to empower employees and partners to succeed. Learn more about Amazon's Delivery Service Partner program and delivery driver opportunities.\\n\\n\\n\\n\\n                            Related Tags\\n\\nTransportationOperationsAmazon DeliveredDelivery \\n\\n\\n\\n\\n\\n\\n\\n\\n\\n\\n\\n\\n\\n\\n\\n\\n\\n4 min\\n        \\n\\n\\n\\n\\n                            Reading:\\n                        \\n\\n                            Meet two family-owned and female-led Amazon DSPs\\n                        \\n\\n\\n\\n\\n\\nFacebook Share\\n\\n\\n\\nTwitter Share\\n\\n\\n\\nLinkedIn Share\\n\\n\\nEmail Share\\n\\n\\n\\n\\n\\n\\n\\nStories we think you’ll like\\n\\n\\n\\n\\n\\n\\n\\n\\n\\n\\n\\n\\nPreview some of the best deals for the first-ever Amazon Pet Day\\n\\n\\n\\n\\n\\n\\n\\n\\n\\n\\n\\n\\n\\n SNAP benefits can be used by Amazon customers in nearly every U.S. state \\r\\n\\n\\n\\n\\n\\n\\n\\n\\n\\n\\n\\n\\n\\n\\nBuilding on progress at Amazon’s HQ2 in Arlington, Virginia\\n\\n\\n\\n\\n\\n\\n\\n\\n\",\n",
       "  'https://www.aboutamazon.com/news/transportation/meet-two-family-owned-and-female-led-amazon-dsps',\n",
       "  'https://assets.aboutamazon.com/dims4/default/885f626/2147483647/strip/true/crop/1219x686+1+0/resize/1320x743!/quality/90/?url=https%3A%2F%2Famazon-blogs-brightspot.s3.amazonaws.com%2Fb1%2Fb7%2F541c05024801a9f87fa4f9e9d805%2Famazon-dsp.jpg')]"
      ]
     },
     "execution_count": 7,
     "metadata": {},
     "output_type": "execute_result"
    }
   ],
   "source": [
    "#zippling the list so that it'll form the tuple\n",
    "zipped = list(zip(dates,titles,articles,hrefs,thumbnails))\n",
    "zipped[:3]"
   ]
  },
  {
   "cell_type": "code",
   "execution_count": 8,
   "id": "5bd25af8",
   "metadata": {
    "ExecuteTime": {
     "end_time": "2022-04-28T13:52:36.032667Z",
     "start_time": "2022-04-28T13:52:35.915113Z"
    }
   },
   "outputs": [
    {
     "data": {
      "text/html": [
       "<div>\n",
       "<style scoped>\n",
       "    .dataframe tbody tr th:only-of-type {\n",
       "        vertical-align: middle;\n",
       "    }\n",
       "\n",
       "    .dataframe tbody tr th {\n",
       "        vertical-align: top;\n",
       "    }\n",
       "\n",
       "    .dataframe thead th {\n",
       "        text-align: right;\n",
       "    }\n",
       "</style>\n",
       "<table border=\"1\" class=\"dataframe\">\n",
       "  <thead>\n",
       "    <tr style=\"text-align: right;\">\n",
       "      <th></th>\n",
       "      <th>date</th>\n",
       "      <th>title</th>\n",
       "      <th>article</th>\n",
       "      <th>url</th>\n",
       "      <th>thumbnail</th>\n",
       "    </tr>\n",
       "  </thead>\n",
       "  <tbody>\n",
       "    <tr>\n",
       "      <th>0</th>\n",
       "      <td>April 21, 2022</td>\n",
       "      <td>Preview some of the best deals for the first-e...</td>\n",
       "      <td>\\n\\n\\nTo kick off National Pet Month, Amazon i...</td>\n",
       "      <td>https://www.aboutamazon.com/news/retail/previe...</td>\n",
       "      <td>https://assets.aboutamazon.com/dims4/default/2...</td>\n",
       "    </tr>\n",
       "    <tr>\n",
       "      <th>1</th>\n",
       "      <td>April 21, 2022</td>\n",
       "      <td>SNAP benefits can be used by Amazon customers ...</td>\n",
       "      <td>\\n\\n\\nAmazon has been working closely with the...</td>\n",
       "      <td>https://www.aboutamazon.com/news/retail/nearly...</td>\n",
       "      <td>https://assets.aboutamazon.com/dims4/default/a...</td>\n",
       "    </tr>\n",
       "    <tr>\n",
       "      <th>2</th>\n",
       "      <td>April 21, 2022</td>\n",
       "      <td>Meet two family-owned and female-led Amazon DSPs</td>\n",
       "      <td>\\n\\n\\nAmazon Delivery Service Partners share t...</td>\n",
       "      <td>https://www.aboutamazon.com/news/transportatio...</td>\n",
       "      <td>https://assets.aboutamazon.com/dims4/default/8...</td>\n",
       "    </tr>\n",
       "    <tr>\n",
       "      <th>3</th>\n",
       "      <td>April 21, 2022</td>\n",
       "      <td>Building on progress at Amazon’s HQ2 in Arling...</td>\n",
       "      <td>\\n\\n\\nWith plans nearly complete for PenPlace,...</td>\n",
       "      <td>https://www.aboutamazon.com/news/job-creation-...</td>\n",
       "      <td>https://assets.aboutamazon.com/dims4/default/f...</td>\n",
       "    </tr>\n",
       "    <tr>\n",
       "      <th>4</th>\n",
       "      <td>April 21, 2022</td>\n",
       "      <td>AWS customers create sustainable solutions to ...</td>\n",
       "      <td>\\n\\n\\nCompanies use AWS services in creative w...</td>\n",
       "      <td>https://www.aboutamazon.com/news/aws/aws-custo...</td>\n",
       "      <td>https://assets.aboutamazon.com/dims4/default/4...</td>\n",
       "    </tr>\n",
       "    <tr>\n",
       "      <th>...</th>\n",
       "      <td>...</td>\n",
       "      <td>...</td>\n",
       "      <td>...</td>\n",
       "      <td>...</td>\n",
       "      <td>...</td>\n",
       "    </tr>\n",
       "    <tr>\n",
       "      <th>97</th>\n",
       "      <td>April 21, 2022</td>\n",
       "      <td>Apply now for this year’s Amazon Literary Part...</td>\n",
       "      <td>\\n\\n\\nAmazon recognizes Black History month by...</td>\n",
       "      <td>https://www.aboutamazon.com/news/books-and-aut...</td>\n",
       "      <td>https://assets.aboutamazon.com/dims4/default/a...</td>\n",
       "    </tr>\n",
       "    <tr>\n",
       "      <th>98</th>\n",
       "      <td>April 21, 2022</td>\n",
       "      <td>AWS podcast explores green infrastructure and ...</td>\n",
       "      <td>\\n\\n\\nSenior UX Designer Justin Nikolaus spent...</td>\n",
       "      <td>https://www.aboutamazon.com/news/aws/aws-podca...</td>\n",
       "      <td>https://assets.aboutamazon.com/dims4/default/d...</td>\n",
       "    </tr>\n",
       "    <tr>\n",
       "      <th>99</th>\n",
       "      <td>April 21, 2022</td>\n",
       "      <td>AWS hires 1,000th apprentice for technical tra...</td>\n",
       "      <td>\\n\\n\\nTo support Amazon employees and the Fili...</td>\n",
       "      <td>https://www.aboutamazon.com/news/aws/aws-hires...</td>\n",
       "      <td>https://assets.aboutamazon.com/dims4/default/b...</td>\n",
       "    </tr>\n",
       "    <tr>\n",
       "      <th>100</th>\n",
       "      <td>April 21, 2022</td>\n",
       "      <td>How Alexa helps couples care for one another</td>\n",
       "      <td>\\n\\n\\n\"Having Echo as my wingman, Danielle did...</td>\n",
       "      <td>https://www.aboutamazon.com/news/devices/how-a...</td>\n",
       "      <td>https://assets.aboutamazon.com/dims4/default/c...</td>\n",
       "    </tr>\n",
       "    <tr>\n",
       "      <th>101</th>\n",
       "      <td>April 21, 2022</td>\n",
       "      <td>'Lost Ark' shatters records at launch</td>\n",
       "      <td>\\n\\n\\nBrace yourselves, Tolkien fans. The firs...</td>\n",
       "      <td>https://www.aboutamazon.com/news/entertainment...</td>\n",
       "      <td>https://assets.aboutamazon.com/dims4/default/5...</td>\n",
       "    </tr>\n",
       "  </tbody>\n",
       "</table>\n",
       "<p>102 rows × 5 columns</p>\n",
       "</div>"
      ],
      "text/plain": [
       "               date                                              title  \\\n",
       "0    April 21, 2022  Preview some of the best deals for the first-e...   \n",
       "1    April 21, 2022  SNAP benefits can be used by Amazon customers ...   \n",
       "2    April 21, 2022   Meet two family-owned and female-led Amazon DSPs   \n",
       "3    April 21, 2022  Building on progress at Amazon’s HQ2 in Arling...   \n",
       "4    April 21, 2022  AWS customers create sustainable solutions to ...   \n",
       "..              ...                                                ...   \n",
       "97   April 21, 2022  Apply now for this year’s Amazon Literary Part...   \n",
       "98   April 21, 2022  AWS podcast explores green infrastructure and ...   \n",
       "99   April 21, 2022  AWS hires 1,000th apprentice for technical tra...   \n",
       "100  April 21, 2022       How Alexa helps couples care for one another   \n",
       "101  April 21, 2022              'Lost Ark' shatters records at launch   \n",
       "\n",
       "                                               article  \\\n",
       "0    \\n\\n\\nTo kick off National Pet Month, Amazon i...   \n",
       "1    \\n\\n\\nAmazon has been working closely with the...   \n",
       "2    \\n\\n\\nAmazon Delivery Service Partners share t...   \n",
       "3    \\n\\n\\nWith plans nearly complete for PenPlace,...   \n",
       "4    \\n\\n\\nCompanies use AWS services in creative w...   \n",
       "..                                                 ...   \n",
       "97   \\n\\n\\nAmazon recognizes Black History month by...   \n",
       "98   \\n\\n\\nSenior UX Designer Justin Nikolaus spent...   \n",
       "99   \\n\\n\\nTo support Amazon employees and the Fili...   \n",
       "100  \\n\\n\\n\"Having Echo as my wingman, Danielle did...   \n",
       "101  \\n\\n\\nBrace yourselves, Tolkien fans. The firs...   \n",
       "\n",
       "                                                   url  \\\n",
       "0    https://www.aboutamazon.com/news/retail/previe...   \n",
       "1    https://www.aboutamazon.com/news/retail/nearly...   \n",
       "2    https://www.aboutamazon.com/news/transportatio...   \n",
       "3    https://www.aboutamazon.com/news/job-creation-...   \n",
       "4    https://www.aboutamazon.com/news/aws/aws-custo...   \n",
       "..                                                 ...   \n",
       "97   https://www.aboutamazon.com/news/books-and-aut...   \n",
       "98   https://www.aboutamazon.com/news/aws/aws-podca...   \n",
       "99   https://www.aboutamazon.com/news/aws/aws-hires...   \n",
       "100  https://www.aboutamazon.com/news/devices/how-a...   \n",
       "101  https://www.aboutamazon.com/news/entertainment...   \n",
       "\n",
       "                                             thumbnail  \n",
       "0    https://assets.aboutamazon.com/dims4/default/2...  \n",
       "1    https://assets.aboutamazon.com/dims4/default/a...  \n",
       "2    https://assets.aboutamazon.com/dims4/default/8...  \n",
       "3    https://assets.aboutamazon.com/dims4/default/f...  \n",
       "4    https://assets.aboutamazon.com/dims4/default/4...  \n",
       "..                                                 ...  \n",
       "97   https://assets.aboutamazon.com/dims4/default/a...  \n",
       "98   https://assets.aboutamazon.com/dims4/default/d...  \n",
       "99   https://assets.aboutamazon.com/dims4/default/b...  \n",
       "100  https://assets.aboutamazon.com/dims4/default/c...  \n",
       "101  https://assets.aboutamazon.com/dims4/default/5...  \n",
       "\n",
       "[102 rows x 5 columns]"
      ]
     },
     "execution_count": 8,
     "metadata": {},
     "output_type": "execute_result"
    }
   ],
   "source": [
    "import pandas as pd\n",
    "\n",
    "\n",
    "#creating dataframe \n",
    "temp_df = pd.DataFrame(zipped,columns=['date','title','article','url','thumbnail'])\n",
    "temp_df"
   ]
  },
  {
   "cell_type": "code",
   "execution_count": 9,
   "id": "fe4373ff",
   "metadata": {
    "ExecuteTime": {
     "end_time": "2022-04-28T13:52:36.164582Z",
     "start_time": "2022-04-28T13:52:36.034147Z"
    }
   },
   "outputs": [],
   "source": [
    "#to csv\n",
    "temp_df.to_csv('amazon news.csv')\n",
    "\n",
    "#to json\n",
    "temp_df.to_json('amazon news.json')"
   ]
  }
 ],
 "metadata": {
  "kernelspec": {
   "display_name": "Python 3 (ipykernel)",
   "language": "python",
   "name": "python3"
  },
  "language_info": {
   "codemirror_mode": {
    "name": "ipython",
    "version": 3
   },
   "file_extension": ".py",
   "mimetype": "text/x-python",
   "name": "python",
   "nbconvert_exporter": "python",
   "pygments_lexer": "ipython3",
   "version": "3.9.7"
  },
  "toc": {
   "base_numbering": 1,
   "nav_menu": {},
   "number_sections": true,
   "sideBar": true,
   "skip_h1_title": false,
   "title_cell": "Table of Contents",
   "title_sidebar": "Contents",
   "toc_cell": false,
   "toc_position": {},
   "toc_section_display": true,
   "toc_window_display": false
  }
 },
 "nbformat": 4,
 "nbformat_minor": 5
}
