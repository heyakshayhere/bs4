{
 "cells": [
  {
   "cell_type": "code",
   "execution_count": 1,
   "id": "8589c675",
   "metadata": {
    "ExecuteTime": {
     "end_time": "2022-04-21T05:23:44.893765Z",
     "start_time": "2022-04-21T05:23:44.709208Z"
    }
   },
   "outputs": [
    {
     "data": {
      "application/javascript": [
       "IPython.notebook.set_autosave_interval(1000)"
      ]
     },
     "metadata": {},
     "output_type": "display_data"
    },
    {
     "name": "stdout",
     "output_type": "stream",
     "text": [
      "Autosaving every 1 seconds\n"
     ]
    }
   ],
   "source": [
    "from selenium import webdriver\n",
    "import warnings\n",
    "warnings.filterwarnings(\"ignore\")\n",
    "\n",
    "%autosave 1"
   ]
  },
  {
   "cell_type": "code",
   "execution_count": 2,
   "id": "e2f2113d",
   "metadata": {
    "ExecuteTime": {
     "end_time": "2022-04-21T05:23:47.729609Z",
     "start_time": "2022-04-21T05:23:44.897719Z"
    }
   },
   "outputs": [
    {
     "name": "stderr",
     "output_type": "stream",
     "text": [
      "\n",
      "\n",
      "====== WebDriver manager ======\n",
      "Current google-chrome version is 100.0.4896\n",
      "Get LATEST chromedriver version for 100.0.4896 google-chrome\n",
      "Driver [C:\\Users\\AKSHAY SATPUTE\\.wdm\\drivers\\chromedriver\\win32\\100.0.4896.60\\chromedriver.exe] found in cache\n"
     ]
    }
   ],
   "source": [
    "#driver for operation\n",
    "from webdriver_manager.chrome import ChromeDriverManager\n",
    "option = webdriver.ChromeOptions()\n",
    "option.add_argument('headless')\n",
    "driver = webdriver.Chrome(ChromeDriverManager().install(),options=option)"
   ]
  },
  {
   "cell_type": "code",
   "execution_count": 3,
   "id": "29950ecb",
   "metadata": {
    "ExecuteTime": {
     "end_time": "2022-04-21T05:23:54.103276Z",
     "start_time": "2022-04-21T05:23:47.731604Z"
    },
    "scrolled": true
   },
   "outputs": [
    {
     "name": "stdout",
     "output_type": "stream",
     "text": [
      "scrapping done for page 1\n",
      "\n"
     ]
    }
   ],
   "source": [
    "import time\n",
    "titles = []\n",
    "hrefs = []\n",
    "\n",
    "for p in range(1,2):\n",
    "    url = f'https://www.aboutamazon.com/news?p={p}'\n",
    "    \n",
    "    driver.get(url)\n",
    "    driver.refresh()\n",
    "    time.sleep(1)\n",
    "    \n",
    "    for x in range(1,13):\n",
    "        title = driver.find_element_by_xpath(f'''/html/body/div[1]/main/div/bsp-search-results-module/form/div/div/bsp-search-filters/div/main/div[2]/ul/li[{x}]/div/div[2]/div[2]/h2''').text\n",
    "        href = driver.find_element_by_xpath(f'''/html/body/div[1]/main/div/bsp-search-results-module/form/div/div/bsp-search-filters/div/main/div[2]/ul/li[{x}]/div/div[2]/div[2]/h2/a''').get_attribute('href')\n",
    "        titles.append(title)\n",
    "        hrefs.append(href)\n",
    "    print(f\"scrapping done for page {p}\\n\")\n",
    "    "
   ]
  },
  {
   "cell_type": "code",
   "execution_count": 4,
   "id": "8eef1c79",
   "metadata": {
    "ExecuteTime": {
     "end_time": "2022-04-21T05:24:42.262544Z",
     "start_time": "2022-04-21T05:23:54.111227Z"
    },
    "scrolled": true
   },
   "outputs": [
    {
     "name": "stdout",
     "output_type": "stream",
     "text": [
      "scrapping done for link 0\n",
      "\n",
      "scrapping done for link 1\n",
      "\n",
      "scrapping done for link 2\n",
      "\n",
      "scrapping done for link 3\n",
      "\n",
      "scrapping done for link 4\n",
      "\n",
      "scrapping done for link 5\n",
      "\n",
      "scrapping done for link 6\n",
      "\n",
      "scrapping done for link 7\n",
      "\n",
      "scrapping done for link 8\n",
      "\n",
      "scrapping done for link 9\n",
      "\n",
      "scrapping done for link 10\n",
      "\n",
      "scrapping done for link 11\n",
      "\n",
      "CPU times: total: 125 ms\n",
      "Wall time: 48.1 s\n"
     ]
    }
   ],
   "source": [
    "%%time\n",
    "\n",
    "dates = []\n",
    "articles = []\n",
    "\n",
    "for number,link in enumerate(hrefs):    \n",
    "    \n",
    "    url = link\n",
    "    driver.get(link)\n",
    "    driver.refresh()\n",
    "    time.sleep(1)\n",
    "\n",
    "    date = driver.find_element_by_xpath(f'''/html/body/div[1]/div[2]/div[2]/div[2]/div[2]/bsp-timestamp/span''').text\n",
    "    dates.append(date)\n",
    "    article = driver.find_element_by_xpath(f'''/html/body/div[1]/div[3]''').text\n",
    "    articles.append(article)\n",
    "    print(f\"scrapping done for link {number}\\n\")"
   ]
  },
  {
   "cell_type": "code",
   "execution_count": 5,
   "id": "6bb07c2c",
   "metadata": {
    "ExecuteTime": {
     "end_time": "2022-04-21T05:24:42.310415Z",
     "start_time": "2022-04-21T05:24:42.270516Z"
    }
   },
   "outputs": [
    {
     "data": {
      "text/plain": [
       "[('April 21, 2022',\n",
       "  'Prime shopping expands beyond Amazon.com',\n",
       "  \"Introducing ‘Buy with Prime’—a new way to enjoy the shopping benefits of Prime from online merchants whether they sell in Amazon’s store or beyond.\\nMillions of Prime members enjoy entertainment, savings, and shopping benefits—including fast, free delivery, hassle-free returns, and a seamless checkout experience—in our store every day. To give members the broadest possible selection, low prices, and a convenient shopping experience, Amazon has invested billions of dollars in infrastructure that helps small and medium-sized merchants offer Prime shopping benefits on Amazon.com, empowering them to reach new customers and grow their businesses.\\nBut why should Prime shopping benefits be limited to Amazon.com?\\nThey shouldn't. That’s why we created Buy with Prime—to bring these benefits to Prime members and merchants, wherever they choose to shop or sell.\\nDownload the high-res image.\\nWhat is Buy with Prime, and how does it work?\\nBuy with Prime is a new way to extend Prime shopping benefits—including fast, free shipping, a seamless checkout experience, and free returns—to merchants’ own online stores, ultimately increasing selection for Prime members. We’re always looking to exceed customers’ expectations for what Prime can offer, and with the introduction of Buy with Prime, we’re expanding where members can enjoy Prime’s shopping benefits—making membership even more valuable.\\nLearn more about Buy with Prime\\nBuy with Prime is a new way to extend Prime shopping benefits—including fast, free shipping, a seamless checkout experience, and free returns—to merchants’ own online stores.\\nLearn more\\nParticipating merchants will display the Prime logo and expected delivery date on eligible products in their own online store, offer a simple, convenient checkout experience using Amazon Pay, and leverage Amazon’s fulfillment network to deliver orders. Amazon will also manage free returns for eligible orders.\\nWhat do others have to say?\\nHow can merchants offer Buy with Prime?\\nBuy with Prime will initially be available by invitation only for merchants using Fulfillment by Amazon (FBA). These merchants can add Buy with Prime to their online store within minutes, because their inventory is already stored in Amazon fulfillment centers. Once live, merchants will receive shopper order information, including email addresses, which they can use to provide excellent customer service, and build direct relationships with shoppers.\\nBuy with Prime is easy to add to most existing direct-to-consumer online stores, and will be rolled out by invitation only through 2022 as merchants are invited to participate, including those not selling on Amazon or using FBA. Merchants can learn more here.\\nHow can customers use Buy with Prime?\\nPrime members can start shopping from participating merchants when Buy with Prime rolls out this year. Stay tuned for more updates on About Amazon. Prime members can learn more here.\\nRELATED TAGS\\nRetail\\nSmall business\\nShopping\",\n",
       "  'https://www.aboutamazon.com/news/retail/prime-shopping-expands-beyond-amazon-com'),\n",
       " ('April 20, 2022',\n",
       "  'Building on progress at Amazon’s HQ2 in Arlington, Virginia',\n",
       "  'With plans nearly complete for PenPlace, the next phase of Amazon’s HQ2, learn what the project will bring to the community.\\nWe announced in late 2018 that Arlington, Virginia, would be home to Amazon’s second headquarters (HQ2) and that we would bring more than 25,000 jobs to the region. Since then, we’ve made some significant progress in our commitment to be a trusted business and community partner. We’ve continued to engage with local organizations and now work with over 100 nonprofits, civic groups, and small businesses, providing in-kind support and charitable donations.\\nOur hard-working recruiting teams have crossed an important hiring milestone, with more than 5,000 employees now assigned to our second headquarters. Our construction partners have put in more than 2 million hours of work and recently celebrated finishing the top floor—the “topping out”—of Met Park, the first phase of HQ2. And finally, our architecture, design, sustainability, and transportation teams have engaged with the local community and partnered with Arlington County to continue improving the design of PenPlace, the next phase of our development.\\nAmazon’s HQ2 takes shape as construction reaches top floor\\nAmazon joins local community leaders and construction workers to celebrate completing the top floor of construction at HQ2.\\nWatch now\\nAs we prepare to take the next step in our more than $2.5 billion HQ2 investment, we want to provide a snapshot of what the project will bring to the Arlington community and the wider region. Here are some highlights:\\nMore sustainable, by design\\nWhen we announced the development of HQ2, we challenged ourselves to think big and design Amazon’s buildings in a way that helps lead the industry toward net-zero carbon. In pursuit of this goal, we have electrified the operations of HQ2, eliminating the use of fossil fuels for buildings systems and our food service. We’ve committed to powering 100% of HQ2’s operations with renewable energy through a combination of off-site and on-site solar projects, aligning with The Climate Pledge, Amazon’s commitment to be net-zero carbon across its operations by 2040.\\nPenPlace will provide more than 100,000 square feet of retail space for dining, shopping, and a childcare facility. Multimodal pathways will connect throughout the site to prioritize access by foot and bike.\\n\\nDownload the high-res image.\\nTo do this, we’ve contracted 82 megawatts (MW) of energy from a new 120 MW solar farm in Pittsylvania County, Virginia, which is expected to generate 172,500 megawatt hours (MWh) of renewable energy annually once operational later this year. The renewable energy generated at this site will be used in part for the operation of HQ2 and other Amazon-owned buildings across Virginia, including Whole Foods Market stores and Amazon fulfillment centers. The remaining portion of energy generated by the solar farm has been contracted by Arlington County and will provide clean energy for use in the region. At PenPlace, we will also have rooftop solar panels installed, totaling 1 MW of clean energy capacity to further support our sustainability efforts.\\nOur plans to focus on sustainability at PenPlace include:\\nCommitting to achieve LEED Platinum certification, the highest sustainability certification for a development issued by the U.S. Green Building Council.\\nIntegrating strategic climate-responsive design for our office buildings, including high-performance glazing and built-in solar shading that will reduce the need for building heating and cooling, targeting a savings of 30% over the American Society of Heating, Refrigerating, Air-Conditioning Engineers (ASHRAE) baseline.\\nProviding more than 125 electric vehicle charging stations, with the ability to double capacity as needed.\\nLeveraging low-flow fixtures and reclaimed water usage to reduce water consumption by 50% beyond national standards.\\nReducing the amount of embodied carbon in the concrete structure compared to typical construction practices by at least 10%, along with a commitment to offset 100% of the remaining embodied carbon from building materials.\\nUsing bird-safe glass where appropriate on all seven buildings at PenPlace to ensure that the development is safer for the region’s bird population.\\nConnecting the neighborhood\\nWe’ve designed PenPlace to be part of the local neighborhood because we want both employees and local residents to enjoy the space equally. This means considering how people will travel to get to PenPlace and how they will utilize the space each day. Our plans prioritize access by foot, bike, and public transportation, with a 15-foot-wide multimodal path that will be part of the Green Ribbon, a network of pedestrian and shared-use pathways throughout the neighborhood. When complete, PenPlace will provide more than 900 interior and exterior bike storage stalls, to encourage bike commuting over the use of single-occupancy vehicles. All vehicle movements on-site will occur underground, including loading docks, which allows for contiguous outdoor public space with gathering areas, public plazas, and ample green space for the community to enjoy.\\nAn open-air amphitheater will provide space for programming and events, including concerts, farmers markets, and evening movie screenings.\\n\\nDownload the high-res image.\\nProviding parks and public space\\nAfter engaging with the local community, we heard feedback from our neighbors and shifted our designs to integrate more planting areas and maximize publicly accessible green space at PenPlace. The project will create 2.75 acres of public park space, available for community use, including immersive forest rooms, shaded seating groves, water features, and many native and pollinator gardens. We will plant more than 100 native plant species and over 500 new trees throughout the site—all inspired by the natural ecosystems of the surrounding region. An open-air amphitheater will provide space for programming and events, including concerts, farmers markets, and evening movie screenings. We will also build a dog run for Arlington’s four-legged residents.\\nIn addition to the central green, PenPlace will include immersive forest rooms, shaded seating groves, water features, a dog run, and many native and pollinator gardens, all for the community to enjoy.\\n\\nDownload the high-res image.\\nAdding vibrancy to the neighborhood\\nOne of the main opportunities of designing a welcoming, inviting, and well-connected development will be the ability to support vibrant, local small businesses. PenPlace will provide more than 100,000 square feet of space for dining, shopping, a childcare facility, and other opportunities across the main buildings and three retail pavilions. We’re also dedicating over 26,500 square feet to establish a new home for Arlington County Community High School. This public school will provide an opportunity for approximately 300 students to pursue their academic goals while preparing for the future.\\nBuilding more than office space\\nThe Helix, a spiral-shaped building in the northeast corner of PenPlace, will become a landmark for Arlington and the National Landing area. This distinctive building will take our biophilic-led design principles to new heights, integrating nature and working to inspire innovation and invention. The interior of the Helix will provide formal and casual meeting spaces in an environment filled with more than 25,000 square feet of planting areas and living walls. The exterior of the structure will feature two paths for employees to engage with colleagues in meetings or to take in views of Arlington, the Potomac River, and Washington, D.C. The Helix will also be home to an artist-in-residence program and a meeting center, and it will be open to the public and community to enjoy two days per month. We can’t wait for everyone to see this unique and thoughtfully designed space come to life.\\nEngaging with the local community\\nWe know that success and scale bring broad responsibility, and we strive to be good neighbors in the communities in which we operate. When we chose National Landing as the site of HQ2, we made a commitment to be a trusted business and community partner in the region, and our work to become a part of the fabric of this community reflects that commitment daily.\\nFirst local retailers sign on to open shops at Amazon’s HQ2\\nDistrict Dogs and RĀKO Coffee are the first small businesses to sign leases at HQ2 as part of Amazon’s pledge to bring local, minority- and women-owned retailers to its second headquarters in Arlington, Virginia.\\nWatch now\\nSince we announced Arlington as the site of HQ2 in 2018, we have committed more than $35 million in total investments to local nonprofits, community groups, public schools, and businesses. This includes both monetary and in-kind donations—like school supplies to public schools across Northern Virginia and food donations to local food banks and pantries for families in need. We also know that housing affordability is front of mind for many in the community. Through the Housing Equity Fund, we’ve contributed more than $800 million to support affordable housing in the Arlington and metro-Washington, D.C., areas, with more to come. Since the launch of the Amazon Housing Equity Fund 15 months ago, our efforts are helping to create and preserve more than 4,400 affordable homes. Based on data provided by Arlington County, the Fund has helped to increase the affordable housing stock in Arlington by 22%.\\nWe will continue to engage with the Arlington community to understand how we can best support the issues that matter to local residents. Our goal is to build a second headquarters that integrates into the surrounding neighborhood and benefits the entire region. We appreciate Arlington County and the community’s partnership in this process, and we are excited to continue the conversation.\\nRELATED TAGS\\nHQ2\\nAmazon offices\\nJob creation and investment\\nArlington',\n",
       "  'https://www.aboutamazon.com/news/job-creation-and-investment/building-on-progress-at-amazons-hq2-in-arlington-virginia'),\n",
       " ('April 20, 2022',\n",
       "  'Amazon opens second humanitarian aid hub in Poland',\n",
       "  'Amazon has launched its second humanitarian aid hub in Eastern Europe to help Ukrainian refugees, this time in Poland.\\nWith more than 4 million Ukrainian refugees being forced to leave their country, the needs to support them are increasing every day. One week after the opening of the first humanitarian aid hub in Slovakia, we are adding a second humanitarian aid hub in Poland dedicated to getting much-needed supplies to Ukrainian refugees.\\nThe facility is near Sosnowiec, a city in southern Poland, and consists of 4,500 square meters (nearly 48,440 square feet) of warehouse space where our employees consolidate, pack, and ship millions of critical supplies. The supplies are being distributed to Ukrainian families in partnership with charities like Save The Children and the International Federation of Red Cross and Red Crescent Societies. The addition of this new facility nearly doubles the space we’ve dedicated to procuring first-need products for those impacted, and the effort continues to be Amazon’s largest humanitarian operation to date.\\nAmazon’s newest humanitarian hub expands on the ongoing relief efforts that we’ve supported in Poland since the beginning of the crisis in Ukraine. Amazon has donated close to $1 million to Polish organizations supporting refugees on the ground, in addition to $5 million in donations to global NGOs actively working in Poland like UNICEF, UNHCR, Red Cross, and Save the Children. We have also set up office space in our Development Center in Krakow to help 70 members of the World Food Program coordinate their efforts in the region.\\nAmazon employees across Poland, which borders Ukraine, are also volunteering to help those in need. They’ve donated more than 17,500 blankets and helped provide meals to Ukrainian refugees in the cities of Gdansk, Warsaw, and Krakow, as well as in the villages of Hrebenne and Dorohusk, through Polish Humanitarian Action. The teams in our print-on-demand facility in Wrocław printed 1,400 children’s books in Ukrainian and, in partnership with the Gdansk’s Foundation, delivered them to community centers and apartments where Ukrainian parents and children have been staying.\\nWe will continue to use Amazon’s infrastructure and technology to provide support to those impacted by this conflict.\\nRELATED TAGS\\nUkraine\\nDonations',\n",
       "  'https://www.aboutamazon.com/news/community/amazon-opens-second-humanitarian-aid-hub-in-poland'),\n",
       " ('April 20, 2022',\n",
       "  'AWS launches $30 million Impact Accelerator for underrepresented founders',\n",
       "  'New program provides $125,000 cash and up to $100,000 in AWS credits for early stage startups led by Black, women, Latino, and LGBTQIA+ founders, as well as training, mentoring, and technical guidance.\\nIn 2018, Claudius Mbemba (mem’buh), a Black man who grew up in Cameroon before moving to the United States, co-founded his first venture scale business—a managed marketplace app for vacation rental cleaning services called Neu (now Spritz). It gave him firsthand experience of the challenges of navigating the investing landscape. As someone from an underrepresented community, he’s seen how the pool of businesses that receive funding is often homogeneous.\\nClaudius Mbemba, CTO and co-founder of Spritz (formerly Neu)\\n“It\\'s all about the money flow. As soon as investors and those with access to opportunity start investing in a more diverse range of recipients, then we will start moving in the right direction,” said Mbemba. “It\\'s a self-fulfilling prophecy. You get access to the capital, which creates incentives for investors to open up their networks to you, which can help your business meet the next milestone, which creates success. When people don\\'t invest in founders from diverse backgrounds, they\\'re not creating that momentum and not helping fulfill that prophecy. It comes down to that.”\\nThis funding gap, as well as difficulties accessing training, networking, and mentoring opportunities, are just some of the issues faced by underrepresented founders—like Mbemba—that Amazon Web Services (AWS) is committed to addressing. It’s why AWS is launching a new AWS Impact Accelerator that commits more than $30 million over the next three years to early stage startups led by Black, women, Latino, and LGBTQIA+ founders.\\nEach qualifying startup receives up to $225,000 in combined cash and credits, training, mentoring, and technical guidance—as well as introductions to Amazon leaders and teams, networking opportunities with investors, and advisory support. Eligible startups can now apply to the first of these programs, the AWS Impact Accelerator for Black Founders.\\nHow it works\\nFind details on the AWS Impact Accelerator for Underrepresented Founders and learn how the program will support early-stage startups led by Black, women, Latino, and LGBTQIA+ founders.\\nLearn more\\n\"I\\'ve been in situations and cohorts where people tell me it\\'s so easy to raise money,\" said Mbemba. \"And I\\'m thinking, ‘That\\'s not the experience I\\'m having.’ Friends and family investing doesn\\'t work for me. I don\\'t have people who can just invest $100,000 to get my business off the ground.\"\\nTo put this into perspective, studies consistently show that Black, women, Latino, and LGBTQIA+ startup founders are underrepresented across the total number of founded and funded startups. In 2021, U.S. startups founded solely by women raised nearly $6.4 billion in venture funding, according to PitchBook data. But that number only accounts for 2% of overall investment dollars that year, which was $330 billion. For example, according to StartOut, an organization that supports LGBTQ+ entrepreneurs, if everyone had equal access to funding and resources, there would be 10 times more LGBTQ+ entrepreneurs in the U.S.\\nWe spoke to Mbemba, an AWS customer, and two other startup founders who work with AWS, about their experiences of building successful businesses as a part of an underrepresented demographic, how strong partnerships and accelerator programs changed the game for them, and why more initiatives like AWS Impact Accelerator are vital.\\nMarcus Bullock, CEO, Flikshop\\nIn 2012, Marcus Bullock launched Flikshop, a platform that sends photos delivered as postcards to any person in any prison instantly, with an often difficult topic on his resume—a felony conviction. At the age of 15, Bullock entered a maximum-security prison to begin an eight-year sentence for carjacking a man in a parking lot. During this time, he said he cycled through “anger, frustration, and complete disillusionment.” What kept him afloat was regular correspondence from his mother.\\n“She wanted me to understand that there was still life to be lived,” said Bullock. “And so, she made a commitment to send me photos and write me letters every day until I came home.”\\nMarcus Bullock, CEO, Flikshop\\nThat constant reminder of life on the other side continued to drive Bullock when he got out. He founded a painting business and used the profits to fund the development of Flikshop, an app built on AWS that lets anyone take a picture, write a message, and send it as a physical postcard to an incarcerated friend or loved one.\\nYet Bullock had no technical skills when he left prison. Inmates weren’t allowed to use computers, and when he began his sentence, the internet was still on the perimeter of mainstream culture. His only experience of it was through movies. “You think you understand what it does. But it didn’t really exist when I went in, and when I came home, there it was,” he said. “To go from nothing to suddenly being able to type anything into a search bar, and to have all this information pop up, was just the most mind-blowing experience ever. The whole world had changed.”\\nHis reaction? To dive right in. The more Bullock learned about developing applications for smartphones and the web, the more he learned what he needed to learn. Questions that tech insiders consider common parlance were alien to him at that point. “What does UX/UI mean? What are wireframes? How do we think about pricing? What is a server? What\\'s the difference between hosting servers and cloud computing? I had a massive knowledge gap in trying to figure out how to launch,” he said.\\nIt’s a gap that Bullock has been incredibly successful in bridging. Flikshop has now shipped over 700,000 postcards to inmates in jails, prisons, juvenile facilities, and ICE detention centers around the country, and continues to grow 20% month over month. The company has also developed enterprise partnerships with Fortune 100 companies such as Boeing, Bank of America, and AWS.\\nLooking back, when Bullock considers what advice he would have given himself when starting the business, one thing stands out—strengthen your network.\\n“I didn\\'t realize that having a felony would matter after I had proven I could generate revenue,” he said. “Or that not having access to social capital would differentiate me.”\\nThat\\'s where accelerator programs and competitions changed the game. In 2018, Flikshop entered two incubator programs and finally developed the traction it needed to grow. Having singer John Legend’s campaign FreeAmerica partner with Bank of America and New Profit to invest in the business also helped.\\nAWS helps diversify tech and entertainment\\nFrom haircuts to Master’s degrees—AWS provides tools and resources that facilitate diversity, equity, and inclusion (DEI) opportunities for customers and institutions.\\nRead more\\n“You can\\'t outwork relationships,” said Bullock. “No matter how incredible your product is, no matter how amazing the technology or the tool you’re able to introduce, no matter how incredible your marketing or strategy across platforms—relationships are what matter. It’s the people who become your advocates, supporters, and sponsors. It’s the people who kick down a door for you and say to someone, ‘Hey, you need to figure out a way to collaborate with Marcus.\\'\"\\nAdriana Vazquez, CEO, Lilu\\nWhen Adriana Vazquez started her smart garment company Lilu in 2017, she quickly found that the resources readily available to her Ivy League classmates were far harder for her—a woman and a Latina immigrant—to access. Recent Crunchbase data, for example, shows funding for early stage startups led by Latinx founders has almost completely stalled in the past few years. “Such a small percentage of venture capital funding goes to Black and Latina founders,” said Vazquez. “The odds are really stacked against us.”\\nAdriana Vazquez, CEO, Lilu\\nVazquez persisted. Leaning on technical degrees from both MIT and the University of Pennsylvania, she developed the first Lilu smart bra for breastfeeding mothers. Vazquez had seen so many of her women colleagues deal with the stress, even shame, of pumping—a critical task for any mother who needs to keep up her milk supply—while at work or on the go. Not only that, but most pumps were cumbersome and uncomfortable to use.\\n“Technology should make people\\'s lives better, easier, and bring joy into them,” she said. “I was surprised by how technology wasn\\'t supporting moms as well as I knew it could.”\\nVazquez needed to prototype and get her product into customers’ hands, all of which required a great deal of testing and iteration, not to mention time and capital. In the beginning, Lilu was aided by grants and prizes in pitch competitions, but the boost it received from larger accelerators, and funding from America’s Seed Fund, a National Science Foundation program, really put her company in gear.\\n“A good accelerator with a good program, really early on, can make such a big difference,\" she said. “So many founders don\\'t have necessary resources, connections, or access to capital. But these are the things that make the impossible possible. We have people innovating from all cultures and parts of the world, and they typically don\\'t have access.”\\nWomen founders: How to beat bias to get backing for your business\\nWhen it comes to raising capital for your startup, the gender gap remains painfully real. Amazon Web Services invited five women entrepreneurs to tell us how they prevailed.\\nRead more\\nVazquez noted too how AWS, even before the launch of the Impact Accelerator, kept the door open—helping her hone her pitch and connecting her to resources that could move Lilu closer to its goals.\\n“AWS has always given me a platform to talk about what I\\'m doing,” she said.\\nClaudius Mbemba, CTO and co-founder of Spritz (formerly Neu)\\nClaudius Mbemba, who grew up in Cameroon and immigrated to the U.S., saw from a young age how technology could improve lives in his country of birth. He showed an early talent for shaping technology as he saw fit, writing computer programming scripts and even hacking a gaming system his father bought.\\n“I was fascinated with technology and how it could enable me to access and create the things that I wanted to see in the world,” said Mbemba. That drive eventually led him to major in computer science at Ohio State University, before working as a software engineer. He later co-founded Neu, a business that helped connect vacation rental owners with housecleaners, the way Uber connects drivers and passengers.\\n“I\\'ve always had a knack for spotting things that could be better and solving that problem,” he said.\\nAWS empowers startups solving critical challenges in the cloud\\nAmazon Web Services is launching two AWS Global Accelerator programs to help startups address some of the world’s most pressing challenges while building successful, cloud-based businesses.\\nRead more\\nToday, Mbemba is engaged in a huge pivot, transforming Neu into a new business called Spritz—a software as a service (SaaS) platform that provides housecleaning professionals with the tools they need to grow and manage their operations, such as back-office functions, operations, logistics, and administrative tasks.\\nTo do this, the company needed advisors and a broader field of investors who share Mbemba’s experience and deeply understand the business. “It\\'s about having representation and investors and mentors understanding the technology and business model,” he said.\\nMbemba points out that immigrants and entrepreneurs share an important quality—making big, bold leaps. He has an adage when it comes to taking the plunge, as he’s done many times in his life.\\n“The sooner you start, the sooner you finish,” he said. “Often, prospective entrepreneurs and business leaders will delay because they don\\'t know how exactly to make a change. On the startup journey, you will encounter ‘unknown unknowns.’ Those unknowns are best solved by just doing the thing.”\\nAWS Impact Accelerator\\nThe AWS Impact Accelerator gives high-potential, pre-seed startups the tools and knowledge to reach key milestones such as raising funds or being accepted to a seed-stage accelerator program, while creating powerful solutions in the cloud. Participants accepted into the eight-week program will create a wide-ranging, personalized training curriculum from dozens of available sessions delivered by AWS startup experts and guest speakers, and will also learn how to use Amazon processes such as “two-way door decision making” and “working backwards” to drive day-to-day decisions and build nimble, innovative teams.\\nApplications are now open for the first AWS Impact Accelerator for Black Founders, with the program kicking off in June for U.S.-based startups. The first AWS Impact Accelerator for Women Founders will take place in the second half of the year for U.S.-based startups, and the AWS Impact Accelerators for LGBTQIA+ Founders and Latino Founders respectively will follow in 2023.\\nRead the press release for more information.\\nRELATED TAGS\\nDiversity, equity, and inclusion\\nAWS\\nInnovation',\n",
       "  'https://www.aboutamazon.com/news/aws/aws-launches-30-million-impact-accelerator-for-underrepresented-founders'),\n",
       " ('April 20, 2022',\n",
       "  'Amazon extends position as world’s largest corporate buyer of renewable energy',\n",
       "  \"The company announces 37 new renewable energy projects totaling 3.5 GW of clean energy capacity.\\nAmazon is continuing to scale its renewable energy investments with 37 new renewable energy projects around the world, marking significant progress on its path to power 100% of its operations with renewable energy by 2025—five years ahead of the original target of 2030. The new projects increase the capacity of Amazon’s renewable energy portfolio by nearly 30%, from 12.2 gigawatts (GW) to 15.7 GW, and bring the total number of renewable energy projects to 310 across 19 countries.\\nThe additional 3.5 GW of clean energy capacity from these new projects extends Amazon’s leadership position as the world’s largest corporate buyer of renewable energy, and advances its efforts to meet The Climate Pledge, a commitment to be net-zero carbon by 2040—10 years ahead of the Paris Agreement.\\nThese projects will generate enough carbon-free energy annually to avoid emissions equivalent to more than 3.7 million cars in the U.S. each year.\\n“Our commitment to protecting the planet and limiting Amazon’s impact on the environment has led us to become the largest corporate buyer of renewable energy in the world in both 2020 and 2021. Given the growth of our business, and our mission to run 100% of Amazon’s operations on renewable energy, we aren’t slowing our renewable investments down,” said Andy Jassy, CEO of Amazon. “We now have 310 wind and solar projects across 19 countries, and are working hard to reach our goal of powering 100% of our business on renewable energy by 2025—five years ahead of our original target of 2030.”\\nThe 37 new projects are located across the U.S., Spain, France, Australia, Canada, India, Japan, and the United Arab Emirates. They vary in project type and size, with three new wind farms, 26 new solar farms, and eight new rooftop solar installations at company buildings around the world. As a result of these projects, Amazon now has a total of 310 renewable energy projects, including 134 wind and solar farms and 176 rooftop solar projects.\\nData helps AWS customers cut their carbon emissions\\nAWS's new tool makes it easy for customers to monitor, analyze, and reduce their carbon footprint.\\nRead more\\nOnce operational, Amazon’s 310 projects are expected to produce 42,000 gigawatt hours (GWh) of renewable energy each year—enough electricity output to power 3.9 million U.S. homes annually. The carbon-free energy generated by these projects will also help avoid 17.3 million metric tons of carbon emissions annually, avoiding the equivalent of the annual emissions of more than 3.7 million cars in the U.S. each year.\\nAmazon also continues to invest in renewable energy projects paired with energy storage. The energy storage systems allow Amazon to store clean energy produced by its solar projects and deploy it when solar energy is not available, such as in the evening hours, or during periods of high demand. This strengthens the climate impact of Amazon’s clean energy portfolio by enabling carbon-free electricity throughout more parts of the day. The new projects include a 300-megawatt (MW) solar project paired with 150 MW of battery storage in Arizona and a 150 MW solar project paired with 75 MW of battery storage in California. Combined, the two projects double Amazon’s total announced solar paired with energy storage from 220 MW to 445 MW.\\n“Amazon continues to be a leader in rapidly scaling up renewable energy projects here in the U.S. This increasingly includes hybrid projects that pair energy storage with renewable energy generation, unlocking the ability to use clean reliable energy throughout all hours of the day,” said Heather Zichal, CEO of the American Clean Power Association.\\nSustainable buildings\\nAmazon is designing buildings that help lead the industry toward net-zero carbon, while improving the resource efficiency of our facilities and prioritizing the health and wellness of our building occupants.\\nRead more\\nBelow are more details about the latest series of renewable energy projects, which will supply clean energy for Amazon’s operations, including its corporate offices, fulfillment centers, and Amazon Web Services data centers that support millions of customers globally.\\n23 projects in the U.S., spread across 13 states\\nThe new projects bring Amazon’s total clean energy procurement in the U.S. from 7.2 GW to 10.4 GW. Notably, the new projects include Amazon’s largest renewable energy project (by capacity) announced to date, which is a 500 MW solar farm in Texas. The announcement also includes the company’s first renewable energy projects in Missouri. The remaining projects are in Arizona, Arkansas, California, Delaware, Georgia, Illinois, Indiana, Mississippi, Ohio, Oklahoma, and Virginia.\\nFive new projects in Spain\\nThe company added an additional 314 MW of renewable energy capacity in Spain, bringing its total investment to 1.4 GW in the country. The five new projects include three solar farms and two wind farms, bringing Amazon’s total renewable energy projects in Spain to 14.\\nA second renewable energy project in France\\nAmazon announced its second solar project in France, which brings the company’s total renewable energy capacity announced to date to 38 MW in the country.\\nEight additional rooftop solar projects\\nThe company added its first rooftop solar project in the United Arab Emirates, which is a 2.7 MW installation in Dubai. Amazon also announced seven rooftop solar projects in Australia, Canada, India, and Japan totaling over 5 MW of clean energy capacity.\\nLearn more about Amazon’s renewable energy projects around the world by visiting the company’s renewable energy project interactive map.\\nMiranda Ballentine, CEO of the Clean Energy Buyers Association (CEBA), said: “As number one on CEBA’s Deal Tracker Top 10 for the second year in a row, Amazon continues to demonstrate its commitment to advancing clean energy. Amazon’s recent announcement highlights the increasingly sophisticated strategies used by energy customers to deploy carbon-free energy projects across the nation and the world, and the critical role energy customers play in optimizing emissions reductions.”\\nThe Climate Pledge announces nearly 100 new signatories\\nMore than 300 businesses across 51 industries and 29 countries have now joined The Climate Pledge and committed to meet the Paris Agreement 10 years early.\\nWatch now\\nAmazon co-founded The Climate Pledge in 2019, committing to reach net-zero carbon by 2040—10 years ahead of the Paris Agreement. The Pledge now has more than 300 signatories, including Best Buy, IBM, Microsoft, PepsiCo, Siemens, Unilever, Verizon, and Visa.\\nTo reach its goal, Amazon will continue to reduce emissions across its operations by taking real business actions and establishing a path to power its operations with 100% renewable energy, five years ahead of the company’s original target of 2030. Amazon is also delivering on its Shipment Zero vision to make all Amazon shipments net-zero carbon, with 50% net-zero carbon by 2030, and purchasing 100,000 electric delivery vehicles, the largest order ever of electric delivery vehicles. The company is also investing $2 billion in the development of decarbonizing services and solutions through the Climate Pledge Fund.\\nLearn more about The Climate Pledge and Amazon’s sustainability efforts.\\nRELATED TAGS\\nSustainability\\nRenewable energy\\nSolar\\nThe Climate Pledge\\nWind farm\",\n",
       "  'https://www.aboutamazon.com/news/sustainability/amazon-extends-position-as-worlds-largest-corporate-buyer-of-renewable-energy')]"
      ]
     },
     "execution_count": 5,
     "metadata": {},
     "output_type": "execute_result"
    }
   ],
   "source": [
    "#zippling the list so that it'll form the tuple\n",
    "zipped = list(zip(dates,titles,articles,hrefs))\n",
    "zipped[:5]"
   ]
  },
  {
   "cell_type": "code",
   "execution_count": 6,
   "id": "9a4220e6",
   "metadata": {
    "ExecuteTime": {
     "end_time": "2022-04-21T05:24:44.010863Z",
     "start_time": "2022-04-21T05:24:42.329371Z"
    }
   },
   "outputs": [],
   "source": [
    "import pandas as pd"
   ]
  },
  {
   "cell_type": "code",
   "execution_count": 7,
   "id": "f18b1fb4",
   "metadata": {
    "ExecuteTime": {
     "end_time": "2022-04-21T05:24:44.101625Z",
     "start_time": "2022-04-21T05:24:44.012860Z"
    }
   },
   "outputs": [
    {
     "data": {
      "text/html": [
       "<div>\n",
       "<style scoped>\n",
       "    .dataframe tbody tr th:only-of-type {\n",
       "        vertical-align: middle;\n",
       "    }\n",
       "\n",
       "    .dataframe tbody tr th {\n",
       "        vertical-align: top;\n",
       "    }\n",
       "\n",
       "    .dataframe thead th {\n",
       "        text-align: right;\n",
       "    }\n",
       "</style>\n",
       "<table border=\"1\" class=\"dataframe\">\n",
       "  <thead>\n",
       "    <tr style=\"text-align: right;\">\n",
       "      <th></th>\n",
       "      <th>date</th>\n",
       "      <th>title</th>\n",
       "      <th>article</th>\n",
       "      <th>url</th>\n",
       "    </tr>\n",
       "  </thead>\n",
       "  <tbody>\n",
       "    <tr>\n",
       "      <th>0</th>\n",
       "      <td>April 21, 2022</td>\n",
       "      <td>Prime shopping expands beyond Amazon.com</td>\n",
       "      <td>Introducing ‘Buy with Prime’—a new way to enjo...</td>\n",
       "      <td>https://www.aboutamazon.com/news/retail/prime-...</td>\n",
       "    </tr>\n",
       "    <tr>\n",
       "      <th>1</th>\n",
       "      <td>April 20, 2022</td>\n",
       "      <td>Building on progress at Amazon’s HQ2 in Arling...</td>\n",
       "      <td>With plans nearly complete for PenPlace, the n...</td>\n",
       "      <td>https://www.aboutamazon.com/news/job-creation-...</td>\n",
       "    </tr>\n",
       "    <tr>\n",
       "      <th>2</th>\n",
       "      <td>April 20, 2022</td>\n",
       "      <td>Amazon opens second humanitarian aid hub in Po...</td>\n",
       "      <td>Amazon has launched its second humanitarian ai...</td>\n",
       "      <td>https://www.aboutamazon.com/news/community/ama...</td>\n",
       "    </tr>\n",
       "    <tr>\n",
       "      <th>3</th>\n",
       "      <td>April 20, 2022</td>\n",
       "      <td>AWS launches $30 million Impact Accelerator fo...</td>\n",
       "      <td>New program provides $125,000 cash and up to $...</td>\n",
       "      <td>https://www.aboutamazon.com/news/aws/aws-launc...</td>\n",
       "    </tr>\n",
       "    <tr>\n",
       "      <th>4</th>\n",
       "      <td>April 20, 2022</td>\n",
       "      <td>Amazon extends position as world’s largest cor...</td>\n",
       "      <td>The company announces 37 new renewable energy ...</td>\n",
       "      <td>https://www.aboutamazon.com/news/sustainabilit...</td>\n",
       "    </tr>\n",
       "    <tr>\n",
       "      <th>5</th>\n",
       "      <td>April 19, 2022</td>\n",
       "      <td>Amazon's assistance in Ukraine</td>\n",
       "      <td>April 18\\nAmazon joins Welcome.US CEO Council\\...</td>\n",
       "      <td>https://www.aboutamazon.com/news/community/ama...</td>\n",
       "    </tr>\n",
       "    <tr>\n",
       "      <th>6</th>\n",
       "      <td>April 18, 2022</td>\n",
       "      <td>Grocery delivery just got more sustainable wit...</td>\n",
       "      <td>Learn how Amazon’s new packaging for frozen an...</td>\n",
       "      <td>https://www.aboutamazon.com/news/retail/grocer...</td>\n",
       "    </tr>\n",
       "    <tr>\n",
       "      <th>7</th>\n",
       "      <td>April 18, 2022</td>\n",
       "      <td>After an autism diagnosis, a family turns to A...</td>\n",
       "      <td>When her son was diagnosed with autism during ...</td>\n",
       "      <td>https://www.aboutamazon.com/news/devices/after...</td>\n",
       "    </tr>\n",
       "    <tr>\n",
       "      <th>8</th>\n",
       "      <td>April 18, 2022</td>\n",
       "      <td>Amazon Pet Day offers tail-wagging deals on May 2</td>\n",
       "      <td>Celebrate your pet with 24 hours of incredible...</td>\n",
       "      <td>https://www.aboutamazon.com/news/retail/amazon...</td>\n",
       "    </tr>\n",
       "    <tr>\n",
       "      <th>9</th>\n",
       "      <td>April 14, 2022</td>\n",
       "      <td>Amazon launches its first Amazon Kids+ Origina...</td>\n",
       "      <td>Amazon Kids+ is now bringing the fun of mobile...</td>\n",
       "      <td>https://www.aboutamazon.com/news/devices/amazo...</td>\n",
       "    </tr>\n",
       "    <tr>\n",
       "      <th>10</th>\n",
       "      <td>April 14, 2022</td>\n",
       "      <td>Amazon donates more than 30,000 medical suppli...</td>\n",
       "      <td>The Amazon U.S. disaster relief hub in Atlanta...</td>\n",
       "      <td>https://www.aboutamazon.com/news/community/ama...</td>\n",
       "    </tr>\n",
       "    <tr>\n",
       "      <th>11</th>\n",
       "      <td>April 14, 2022</td>\n",
       "      <td>2021 Letter to Shareholders</td>\n",
       "      <td>Dear shareholders:\\nOver the past 25 years at ...</td>\n",
       "      <td>https://www.aboutamazon.com/news/company-news/...</td>\n",
       "    </tr>\n",
       "  </tbody>\n",
       "</table>\n",
       "</div>"
      ],
      "text/plain": [
       "              date                                              title  \\\n",
       "0   April 21, 2022           Prime shopping expands beyond Amazon.com   \n",
       "1   April 20, 2022  Building on progress at Amazon’s HQ2 in Arling...   \n",
       "2   April 20, 2022  Amazon opens second humanitarian aid hub in Po...   \n",
       "3   April 20, 2022  AWS launches $30 million Impact Accelerator fo...   \n",
       "4   April 20, 2022  Amazon extends position as world’s largest cor...   \n",
       "5   April 19, 2022                     Amazon's assistance in Ukraine   \n",
       "6   April 18, 2022  Grocery delivery just got more sustainable wit...   \n",
       "7   April 18, 2022  After an autism diagnosis, a family turns to A...   \n",
       "8   April 18, 2022  Amazon Pet Day offers tail-wagging deals on May 2   \n",
       "9   April 14, 2022  Amazon launches its first Amazon Kids+ Origina...   \n",
       "10  April 14, 2022  Amazon donates more than 30,000 medical suppli...   \n",
       "11  April 14, 2022                        2021 Letter to Shareholders   \n",
       "\n",
       "                                              article  \\\n",
       "0   Introducing ‘Buy with Prime’—a new way to enjo...   \n",
       "1   With plans nearly complete for PenPlace, the n...   \n",
       "2   Amazon has launched its second humanitarian ai...   \n",
       "3   New program provides $125,000 cash and up to $...   \n",
       "4   The company announces 37 new renewable energy ...   \n",
       "5   April 18\\nAmazon joins Welcome.US CEO Council\\...   \n",
       "6   Learn how Amazon’s new packaging for frozen an...   \n",
       "7   When her son was diagnosed with autism during ...   \n",
       "8   Celebrate your pet with 24 hours of incredible...   \n",
       "9   Amazon Kids+ is now bringing the fun of mobile...   \n",
       "10  The Amazon U.S. disaster relief hub in Atlanta...   \n",
       "11  Dear shareholders:\\nOver the past 25 years at ...   \n",
       "\n",
       "                                                  url  \n",
       "0   https://www.aboutamazon.com/news/retail/prime-...  \n",
       "1   https://www.aboutamazon.com/news/job-creation-...  \n",
       "2   https://www.aboutamazon.com/news/community/ama...  \n",
       "3   https://www.aboutamazon.com/news/aws/aws-launc...  \n",
       "4   https://www.aboutamazon.com/news/sustainabilit...  \n",
       "5   https://www.aboutamazon.com/news/community/ama...  \n",
       "6   https://www.aboutamazon.com/news/retail/grocer...  \n",
       "7   https://www.aboutamazon.com/news/devices/after...  \n",
       "8   https://www.aboutamazon.com/news/retail/amazon...  \n",
       "9   https://www.aboutamazon.com/news/devices/amazo...  \n",
       "10  https://www.aboutamazon.com/news/community/ama...  \n",
       "11  https://www.aboutamazon.com/news/company-news/...  "
      ]
     },
     "execution_count": 7,
     "metadata": {},
     "output_type": "execute_result"
    }
   ],
   "source": [
    "#creating dataframe \n",
    "temp_df = pd.DataFrame(zipped,columns=['date','title','article','url'])\n",
    "temp_df"
   ]
  },
  {
   "cell_type": "code",
   "execution_count": 9,
   "id": "80a4422e",
   "metadata": {
    "ExecuteTime": {
     "end_time": "2022-04-21T05:25:53.984767Z",
     "start_time": "2022-04-21T05:25:53.758922Z"
    }
   },
   "outputs": [],
   "source": [
    "#to csv\n",
    "temp_df.to_csv('amazon news.csv')\n",
    "\n",
    "#to json\n",
    "temp_df.to_json('amazon news.json')"
   ]
  }
 ],
 "metadata": {
  "kernelspec": {
   "display_name": "Python 3 (ipykernel)",
   "language": "python",
   "name": "python3"
  },
  "language_info": {
   "codemirror_mode": {
    "name": "ipython",
    "version": 3
   },
   "file_extension": ".py",
   "mimetype": "text/x-python",
   "name": "python",
   "nbconvert_exporter": "python",
   "pygments_lexer": "ipython3",
   "version": "3.9.7"
  },
  "toc": {
   "base_numbering": 1,
   "nav_menu": {},
   "number_sections": true,
   "sideBar": true,
   "skip_h1_title": false,
   "title_cell": "Table of Contents",
   "title_sidebar": "Contents",
   "toc_cell": false,
   "toc_position": {},
   "toc_section_display": true,
   "toc_window_display": false
  }
 },
 "nbformat": 4,
 "nbformat_minor": 5
}
