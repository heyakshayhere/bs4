{
 "cells": [
  {
   "cell_type": "markdown",
   "id": "8d7bc6a2",
   "metadata": {},
   "source": [
    "**url**\n",
    "\n",
    "https://news.abbvie.com/news/allergan-press-releases/"
   ]
  },
  {
   "cell_type": "code",
   "execution_count": 1,
   "id": "661f06e5",
   "metadata": {
    "ExecuteTime": {
     "end_time": "2022-06-06T10:51:01.273704Z",
     "start_time": "2022-06-06T10:51:00.422984Z"
    }
   },
   "outputs": [
    {
     "data": {
      "application/javascript": [
       "IPython.notebook.set_autosave_interval(1000)"
      ]
     },
     "metadata": {},
     "output_type": "display_data"
    },
    {
     "name": "stdout",
     "output_type": "stream",
     "text": [
      "Autosaving every 1 seconds\n"
     ]
    }
   ],
   "source": [
    "import pandas as pd,requests,bs4,re,time,io,pdftotext\n",
    "from selenium.webdriver.common.by import By\n",
    "from goose3 import Goose\n",
    "from datetime import datetime\n",
    "from bs4 import BeautifulSoup\n",
    "from selenium import webdriver\n",
    "import warnings\n",
    "warnings.filterwarnings(\"ignore\")\n",
    "\n",
    "%autosave 1"
   ]
  },
  {
   "cell_type": "code",
   "execution_count": 2,
   "id": "8a35f64e",
   "metadata": {
    "ExecuteTime": {
     "end_time": "2022-06-06T10:51:01.294872Z",
     "start_time": "2022-06-06T10:51:01.273704Z"
    }
   },
   "outputs": [],
   "source": [
    "SITE_NAME='Allergan'\n",
    "\n",
    "DOMAIN = \"https://news.abbvie.com\"\n",
    "\n",
    "SITE_LINK=\"https://news.abbvie.com/news/allergan-press-releases/\""
   ]
  },
  {
   "cell_type": "code",
   "execution_count": 3,
   "id": "76a1ec94",
   "metadata": {
    "ExecuteTime": {
     "end_time": "2022-06-06T10:51:01.310641Z",
     "start_time": "2022-06-06T10:51:01.294872Z"
    }
   },
   "outputs": [],
   "source": [
    "def remove_esc_chars(text):\n",
    "    return text.replace(\"\\n\", \" \").replace(\"\\t\", \" \").replace(\"\\r\", \" \")"
   ]
  },
  {
   "cell_type": "code",
   "execution_count": 4,
   "id": "fcec433f",
   "metadata": {
    "ExecuteTime": {
     "end_time": "2022-06-06T10:51:01.326171Z",
     "start_time": "2022-06-06T10:51:01.312332Z"
    }
   },
   "outputs": [],
   "source": [
    "def parse_webpage_bs(search_url):\n",
    "    \n",
    "    headers = {\n",
    "        \"User-Agent\": \"Mozilla/5.0 (Windows NT 10.0; Win64; x64; rv:90.0) Gecko/20100101 Firefox/90.0\"}\n",
    "    try:\n",
    "        site_request = requests.get(search_url, headers=headers, timeout=10)\n",
    "    except requests.exceptions.RequestException as e:\n",
    "        print(e)\n",
    "        site_request = None\n",
    "    if site_request != None and site_request.status_code==200:\n",
    "        site_soup = bs4.BeautifulSoup(site_request.content, \"lxml\")\n",
    "    else:\n",
    "        site_soup = None\n",
    "    return site_soup"
   ]
  },
  {
   "cell_type": "code",
   "execution_count": 5,
   "id": "5fe52e3e",
   "metadata": {
    "ExecuteTime": {
     "end_time": "2022-06-06T10:54:24.012253Z",
     "start_time": "2022-06-06T10:51:01.327134Z"
    },
    "scrolled": true
   },
   "outputs": [
    {
     "name": "stdout",
     "output_type": "stream",
     "text": [
      "May 08, 2020 AbbVie Inc. Completes Acquisition of Allergan plc\n",
      "May 07, 2020 The Allergan Foundation Doubles its COVID-19 Response Donations to $4.0 Million\n",
      "May 06, 2020 Announcement relating to the outcome of the Court Sanction Hearing\n",
      "Apr 28, 2020 Announcement relating to the voluntary delisting of Allergan Notes\n",
      "Apr 02, 2020 China Gives Greenlight to Allergan's XEN® Registration for the Surgical Management of Refractory Glaucoma\n",
      "Mar 31, 2020 Allergan Earns ENERGY STAR® Partner of the Year - Sustained Excellence Award for the Seventh Consecutive Year\n",
      "Mar 30, 2020 The Allergan Foundation Donates $2.0 Million to Community Organizations on Front-Line of COVID-19 Response\n",
      "Mar 18, 2020 Allergan Declares Second Quarter 2020 Cash Dividend of $0.74 Per Ordinary Share\n",
      "Mar 10, 2020 Announcement under the Irish Takeover Rules: Relevant Securities in Issue - March 10, 2020\n",
      "Mar 05, 2020 Allergan Receives FDA Approval for DURYSTA™ (bimatoprost implant) the First and Only Intracameral Biodegradable Sustained-Release Implant to lower Intraocular Pressure in Open-Angle Glaucoma or Ocular Hypertension Patients\n",
      "Mar 03, 2020 Announcement under the Irish Takeover Rules: Relevant Securities in Issue - March 3, 2020\n",
      "Feb 25, 2020 Allergan to Present New Data for Investigational Bimatoprost Sustained-Release at American Glaucoma Society Annual Meeting\n",
      "Feb 14, 2020 Announcement under the Irish Takeover Rules: Relevant Securities in Issue - February 14, 2020\n",
      "Feb 14, 2020 Announcement under Rule 8.1(a) of the Irish Takeover Rules: Dealings by Offerors, Offerees or Parties Acting in Concert With Them for Themselves or for Discretionary Clients\n",
      "Feb 10, 2020 Allergan Reports Fourth Quarter and Full-Year 2019 Financial Results\n",
      "Feb 03, 2020 BOTOX® Cosmetic (onabotulinumtoxinA) Launches Be The Difference Philanthropic Program\n",
      "Jan 31, 2020 Allergan to Report Fourth Quarter and Full Year 2019 Financial Results\n",
      "Jan 30, 2020 Announcement under the Irish Takeover Rules: Relevant Securities in Issue - January 30, 2020\n",
      "Jan 24, 2020 Allergan Declares First Quarter 2020 Cash Dividend of $0.74 Per Ordinary Share\n",
      "Jan 17, 2020 SkinMedica® Launches New Instant Bright Eye Cream For Immediate, Visible Results\n",
      "Jan 16, 2020 Allergan Teams Up With Super Bowl MVP Von Miller to Raise Awareness of Glaucoma's Impact on Daily Living\n",
      "Jan 06, 2020 Warner Chilcott and Watson Resolve Antitrust Class Action Litigation with Direct and Indirect Purchasers of Loestrin 24 Fe and Minastrin 24 Fe\n",
      "\n",
      "---------------- Reached at the end of the page ----------------\n",
      "\n",
      "Dec 23, 2019 Allergan Receives U.S. FDA Approval for UBRELVY™ for the Acute Treatment of Migraine with or without Aura in Adults\n",
      "Dec 19, 2019 Allergan Foundation Giving Reaches $95 Million Since Inception\n",
      "Dec 16, 2019 BOTOX® (onabotulinumtoxinA) Celebrates 30 Years of Endless Innovation\n",
      "Dec 04, 2019 Allergan Announces Positive Phase 3 ACHIEVE I Trial Results for Ubrogepant Published in The New England Journal of Medicine\n",
      "Nov 29, 2019 Announcement under the Irish Takeover Rules: Relevant Securities in Issue - November 29, 2019\n",
      "Nov 19, 2019 Allergan Announces Positive Phase 3 ACHIEVE II Trial Results for Ubrogepant Published in The Journal of the American Medical Association\n",
      "Nov 18, 2019 Allergan® Announces First Annual National BOTOX® Cosmetic (onabotulinumtoxinA) Day\n",
      "Nov 11, 2019 Allergan Receives FDA Qualified Infectious Disease Product (QIDP) Designation And Fast Track Designation For ATM-AVI (Aztreonam And Avibactam) For Antibiotic-Resistant Gram-Negative Infections\n",
      "Nov 05, 2019 Allergan Reports Third Quarter 2019 Financial Results\n",
      "Oct 28, 2019 Forest Resolves Antitrust Class Action Litigation with Direct Purchasers of Namenda\n",
      "Oct 25, 2019 Allergan Declares Fourth Quarter 2019 Cash Dividend of $0.74 Per Ordinary Share\n",
      "Oct 24, 2019 FDA Approves BOTOX® (onabotulinumtoxinA) for Pediatric Patients with Lower Limb Spasticity, Excluding Spasticity Caused by Cerebral Palsy\n",
      "Oct 23, 2019 Allergan Presents Data From Eleven Abstracts At The 2019 American Society for Dermatologic Surgery (ASDS) in Chicago\n",
      "Oct 17, 2019 Allergan to Report Third Quarter 2019 Financial Results\n",
      "Oct 14, 2019 Allergan Shareholders Approve Proposed Acquisition by AbbVie\n",
      "Oct 11, 2019 Allergan and Molecular Partners Present Late-Breaking Data from Phase 3 Studies of Investigational Abicipar pegol in Neovascular Wet Age-Related Macular Degeneration\n",
      "Oct 10, 2019 On World Sight Day, Allergan Launches National Campaign to Raise Awareness of the Toll Glaucoma Takes on Everyday Living\n",
      "Oct 07, 2019 Allergan Expands REFRESH® Portfolio With New REFRESH® RELIEVA™ Lubricant Eye Drop Product Line\n",
      "Oct 03, 2019 Allergan to Showcase Late-Stage Data in Age-Related Macular Degeneration and Glaucoma at American Academy of Ophthalmology Annual Meeting\n",
      "Sep 27, 2019 Allergan and AbbVie Receive Second Request from Federal Trade Commission on Pending Transaction\n",
      "Sep 17, 2019 Announcement under the Irish Takeover Rules: Relevant Securities in Issue - September 17, 2019\n",
      "Sep 17, 2019 Allergan Announces Commencement of Mailing of Proxy Statement\n",
      "Sep 10, 2019 Allergan Shareholder Meetings Scheduled for October 14, 2019\n",
      "Sep 09, 2019 Allergan and Molecular Partners Announce Acceptance of U.S. FDA Biologics License Application and Validation of EMA Marketing Authorisation for Abicipar pegol in Patients with Neovascular (Wet) Age-related Macular Degeneration\n",
      "Sep 03, 2019 Allergan Receives FDA Approval of Juvéderm VOLUMA® XC For Mid-Face Injection Via Cannula\n",
      "Aug 30, 2019 Allergan Announces Settlement with Two Ohio Plaintiffs in Federal Opioid Litigation\n",
      "Aug 06, 2019 Allergan Reports Second Quarter 2019 Financial Results\n",
      "Aug 02, 2019 Allergan to Report Second Quarter 2019 Financial Results\n",
      "Jul 29, 2019 Ashley Tisdale Joins The Allergan 'Women Who Know' Campaign\n",
      "Jul 24, 2019 Allergan Voluntarily Recalls BIOCELL® Textured Breast Implants and Tissue Expanders\n",
      "Jul 19, 2019 Allergan Declares Third Quarter 2019 Cash Dividend of $0.74 Per Ordinary Share\n",
      "Jul 17, 2019 U.S. FDA Accepts Allergan's New Drug Application for Bimatoprost Sustained-Release in Patients with Open-Angle Glaucoma or Ocular Hypertension\n",
      "Jul 09, 2019 Allergan Continues to Demonstrate Leadership in Migraine with 29 Presentations at the 2019 American Headache Society Annual Meeting\n",
      "Jun 24, 2019 Allergan Receives FDA Clearance For CoolTone™ Device\n",
      "Jun 21, 2019 FDA Approves BOTOX® (onabotulinumtoxinA) for Pediatric Patients with Upper Limb Spasticity\n",
      "May 28, 2019 Allergan and Gedeon Richter Receive U.S. FDA Approval For Expanded Use of VRAYLAR® (cariprazine) in the Treatment of Bipolar Depression\n",
      "May 24, 2019 Allergan Announces Updated Presentation Time at the Bernstein Strategic Decisions Conference\n",
      "May 23, 2019 Allergan to Present at the Jefferies 2019 Healthcare Conference\n",
      "May 17, 2019 Allergan Expands PLEDGE Clinical Research Program in Diabetic Gastroparesis\n",
      "May 16, 2019 Allergan to Present at the Bernstein Strategic Decisions Conference\n",
      "May 15, 2019 Allergan to Present VRAYLAR® (cariprazine) Data at the American Psychiatric Association (APA) 2019 Annual Meeting Highlighting Continued Commitment to Mental Health\n",
      "May 09, 2019 Allergan to Present at the Bank of America Merrill Lynch 2019 Health Care Conference\n",
      "May 07, 2019 Allergan Reports First Quarter 2019 Financial Results\n",
      "May 03, 2019 Allergan Declares Second Quarter 2019 Cash Dividend of $0.74 Per Ordinary Share\n",
      "May 03, 2019 Allergan to Present Two Podium Presentations on Bimatoprost Sustained-Release (SR) at The American Society of Cataract and Refractive Surgery (ASCRS) Annual Meeting\n",
      "May 02, 2019 Allergan Continues to Display Leadership in Neurosciences with 29 Presentations at 2019 American Academy of Neurology Annual Meeting\n",
      "May 01, 2019 Allergan Announces Results from the 2019 Annual General Meeting of Shareholders\n",
      "Apr 25, 2019 Allergan to Showcase Continued Eye Care Innovation with New Data at The Association for Research in Vision and Ophthalmology (ARVO) Annual Meeting\n",
      "Apr 15, 2019 New Study Showcases Economic and Community Impact of Allergan's Operations in Ohio\n",
      "Apr 15, 2019 Leading Proxy Advisory Firms ISS and Glass Lewis Support ALL of Allergan Board's Voting Recommendations\n",
      "Apr 10, 2019 Allergan Earns 2019 ENERGY STAR® Partner of the Year - Sustained Excellence Award for the Sixth Consecutive Year\n"
     ]
    },
    {
     "name": "stdout",
     "output_type": "stream",
     "text": [
      "Apr 09, 2019 Allergan to Report First Quarter 2019 Financial Results and Host Conference Call and Webcast\n",
      "Apr 08, 2019 Allergan 360° Aesthetics Report™ Reveals Evolving Beauty Perceptions And Diverse Priorities Around The World\n",
      "Apr 02, 2019 Allergan and Molecular Partners Announce Topline Safety Results from MAPLE study of Abicipar pegol\n",
      "Mar 26, 2019 Allergan Acquires Envy Medical, Inc., Adding Skin Resurfacing Dermalinfusion System to Best-in-Class Medical Aesthetics Portfolio\n",
      "Mar 21, 2019 CoolSculpting® and Sonja Morgan Talk Bikini Denial Just In Time For Summer\n",
      "Mar 20, 2019 CoolSculpting® and Sonja Morgan Partner to Talk Bikini Denial\n",
      "Mar 18, 2019 Allergan Announces FDA Approval of AVYCAZ® (ceftazidime and avibactam) for Pediatric Patients\n",
      "Mar 14, 2019 Allergan to Present New Data - \"Extended Duration of Intraocular Pressure (IOP) Control with Intracameral Bimatoprost Sustained-Release (SR) Implant\" -- Highlighting Clinical Advances at the American Glaucoma Society Annual Meeting\n",
      "Mar 11, 2019 Allergan Announces FDA Acceptance of New Drug Application for Ubrogepant for the Acute Treatment of Migraine\n",
      "Mar 07, 2019 FDA Accepts Supplemental Biologics License Applications (sBLAs) for BOTOX® (onabotulinumtoxinA) for Pediatric Patients with Upper and Lower Limb Spasticity\n",
      "Mar 06, 2019 Allergan Announces Phase 3 Results for Rapastinel as an Adjunctive Treatment of Major Depressive Disorder (MDD)\n",
      "Mar 04, 2019 Allergan to Present at The Cowen and Company 39th Annual Health Care Conference\n",
      "Mar 01, 2019 Allergan Presents Data From Seven Abstracts At The 2019 American Academy of Dermatology (AAD) in Washington D.C.\n",
      "Feb 19, 2019 Allergan Responds to Public Shareholder Letter\n",
      "Feb 19, 2019 Robert J. Hugin Appointed to Allergan Board of Directors\n",
      "Feb 15, 2019 Allergan to Present at The 8th Annual SVB Leerink Global Healthcare Conference\n",
      "Jan 29, 2019 Allergan Reports Fourth Quarter and Full-Year 2018 Financial Results\n",
      "Jan 28, 2019 New BOTOX® Cosmetic (onabotulinumtoxinA) \"Own Your Look\" Campaign Brings Fresh Face To Trusted Brand\n",
      "Jan 25, 2019 Allergan Announces Increased Quarterly Dividend and Annual General Meeting of Shareholders Date\n",
      "Jan 15, 2019 CoolSculpting® and Sonja Morgan Partner To Get Real About Self-Care\n",
      "Jan 07, 2019 Allergan Announces Positive 3-Month Topline Results from Second Phase 3 Study of Bimatoprost SR (Sustained-Release) Implant for Lowering Intraocular Pressure (IOP) in Patients with Open-Angle Glaucoma or Ocular Hypertension\n",
      "Jan 07, 2019 Allergan to Establish R&D Presence in Cambridge, Massachusetts\n",
      "Jan 03, 2019 New Data Published in the International Journal of Neuropsychopharmacology Support that Rapastinel May Produce Rapid and Sustained Antidepressant Effects Through a Potentially Novel Mechanism of Action\n",
      "Jan 03, 2019 Allergan to Report Fourth Quarter and Full Year 2018 Earnings and Host Conference Call and Webcast\n",
      "\n",
      "---------------- Reached at the end of the page ----------------\n",
      "\n"
     ]
    }
   ],
   "source": [
    "article_list = []\n",
    "pagination = 2020\n",
    "last_available_data = 2018\n",
    "last_available_data = 2019\n",
    "while True:\n",
    "    for i in range(1,131,10):\n",
    "        url = f\"https://news.abbvie.com/news/allergan-press-releases/?start_row={i}&archiveYear={pagination}\"\n",
    "        soup = parse_webpage_bs(url)\n",
    "        if soup != None:\n",
    "            elements = soup.findAll('div',{'class' :'col-sm-12 pad-bottom10'})\n",
    "            if len(elements) == 0:\n",
    "                print(\"\\n---------------- Reached at the end of the page ----------------\\n\")\n",
    "                break\n",
    "                \n",
    "            for element in elements:\n",
    "                #title,,link,thumbnail and author\n",
    "                title = element.find('h4',{'class' :'media-heading'}).text.strip()\n",
    "                link = DOMAIN + element.find('h4',{'class' :'media-heading'}).find('a')['href'].strip()\n",
    "                thumbnail = \"https://www.abbvie.com/content/experience-fragments/abbvie-com/us/en/header/master/_jcr_content/root/globalnavigation/logo.coreimg.svg/1648149043863/logo.svg\"\n",
    "                author = SITE_NAME\n",
    "\n",
    "                #published_date\n",
    "                published_date = element.find('div',{'class' :'rel-date'}).text.strip()\n",
    "                \n",
    "                #text\n",
    "                g = Goose()\n",
    "                article_extract = g.extract(url=link)\n",
    "                article = remove_esc_chars(article_extract.cleaned_text)\n",
    "                meta_data = remove_esc_chars(article_extract.meta_description)\n",
    "                whole_data = meta_data+article\n",
    "                text = whole_data.strip()\n",
    "                \n",
    "                article = (published_date.strip(),title.strip(),text.strip(),link.strip(),thumbnail.strip(),author.strip())\n",
    "                article_list.append(article)\n",
    "                print(published_date,title)\n",
    "\n",
    "    if pagination <= last_available_data :\n",
    "        break\n",
    "    else:\n",
    "        pagination -=1"
   ]
  },
  {
   "cell_type": "code",
   "execution_count": 6,
   "id": "205dbcd6",
   "metadata": {
    "ExecuteTime": {
     "end_time": "2022-06-06T10:54:24.042027Z",
     "start_time": "2022-06-06T10:54:24.012253Z"
    }
   },
   "outputs": [
    {
     "data": {
      "text/html": [
       "<div>\n",
       "<style scoped>\n",
       "    .dataframe tbody tr th:only-of-type {\n",
       "        vertical-align: middle;\n",
       "    }\n",
       "\n",
       "    .dataframe tbody tr th {\n",
       "        vertical-align: top;\n",
       "    }\n",
       "\n",
       "    .dataframe thead th {\n",
       "        text-align: right;\n",
       "    }\n",
       "</style>\n",
       "<table border=\"1\" class=\"dataframe\">\n",
       "  <thead>\n",
       "    <tr style=\"text-align: right;\">\n",
       "      <th></th>\n",
       "      <th>date</th>\n",
       "      <th>title</th>\n",
       "      <th>article</th>\n",
       "      <th>url</th>\n",
       "      <th>thumbnail</th>\n",
       "      <th>author</th>\n",
       "    </tr>\n",
       "  </thead>\n",
       "  <tbody>\n",
       "    <tr>\n",
       "      <th>0</th>\n",
       "      <td>May 08, 2020</td>\n",
       "      <td>AbbVie Inc. Completes Acquisition of Allergan plc</td>\n",
       "      <td>NOT FOR RELEASE, PUBLICATION OR DISTRIBUTION, ...</td>\n",
       "      <td>https://news.abbvie.com/news/press-releases/ne...</td>\n",
       "      <td>https://www.abbvie.com/content/experience-frag...</td>\n",
       "      <td>Allergan</td>\n",
       "    </tr>\n",
       "    <tr>\n",
       "      <th>1</th>\n",
       "      <td>May 07, 2020</td>\n",
       "      <td>The Allergan Foundation Doubles its COVID-19 R...</td>\n",
       "      <td>, /PRNewswire/ -- (NYSE: AGN) today announced ...</td>\n",
       "      <td>https://news.abbvie.com/news/press-releases/ne...</td>\n",
       "      <td>https://www.abbvie.com/content/experience-frag...</td>\n",
       "      <td>Allergan</td>\n",
       "    </tr>\n",
       "    <tr>\n",
       "      <th>2</th>\n",
       "      <td>May 06, 2020</td>\n",
       "      <td>Announcement relating to the outcome of the Co...</td>\n",
       "      <td>NOT FOR RELEASE, PUBLICATION OR DISTRIBUTION, ...</td>\n",
       "      <td>https://news.abbvie.com/news/press-releases/ne...</td>\n",
       "      <td>https://www.abbvie.com/content/experience-frag...</td>\n",
       "      <td>Allergan</td>\n",
       "    </tr>\n",
       "    <tr>\n",
       "      <th>3</th>\n",
       "      <td>Apr 28, 2020</td>\n",
       "      <td>Announcement relating to the voluntary delisti...</td>\n",
       "      <td>NOT FOR RELEASE, PUBLICATION OR DISTRIBUTION, ...</td>\n",
       "      <td>https://news.abbvie.com/news/press-releases/ne...</td>\n",
       "      <td>https://www.abbvie.com/content/experience-frag...</td>\n",
       "      <td>Allergan</td>\n",
       "    </tr>\n",
       "    <tr>\n",
       "      <th>4</th>\n",
       "      <td>Apr 02, 2020</td>\n",
       "      <td>China Gives Greenlight to Allergan's XEN® Regi...</td>\n",
       "      <td>-- XEN® Becomes the First Medical Product Appr...</td>\n",
       "      <td>https://news.abbvie.com/news/press-releases/ne...</td>\n",
       "      <td>https://www.abbvie.com/content/experience-frag...</td>\n",
       "      <td>Allergan</td>\n",
       "    </tr>\n",
       "  </tbody>\n",
       "</table>\n",
       "</div>"
      ],
      "text/plain": [
       "           date                                              title  \\\n",
       "0  May 08, 2020  AbbVie Inc. Completes Acquisition of Allergan plc   \n",
       "1  May 07, 2020  The Allergan Foundation Doubles its COVID-19 R...   \n",
       "2  May 06, 2020  Announcement relating to the outcome of the Co...   \n",
       "3  Apr 28, 2020  Announcement relating to the voluntary delisti...   \n",
       "4  Apr 02, 2020  China Gives Greenlight to Allergan's XEN® Regi...   \n",
       "\n",
       "                                             article  \\\n",
       "0  NOT FOR RELEASE, PUBLICATION OR DISTRIBUTION, ...   \n",
       "1  , /PRNewswire/ -- (NYSE: AGN) today announced ...   \n",
       "2  NOT FOR RELEASE, PUBLICATION OR DISTRIBUTION, ...   \n",
       "3  NOT FOR RELEASE, PUBLICATION OR DISTRIBUTION, ...   \n",
       "4  -- XEN® Becomes the First Medical Product Appr...   \n",
       "\n",
       "                                                 url  \\\n",
       "0  https://news.abbvie.com/news/press-releases/ne...   \n",
       "1  https://news.abbvie.com/news/press-releases/ne...   \n",
       "2  https://news.abbvie.com/news/press-releases/ne...   \n",
       "3  https://news.abbvie.com/news/press-releases/ne...   \n",
       "4  https://news.abbvie.com/news/press-releases/ne...   \n",
       "\n",
       "                                           thumbnail    author  \n",
       "0  https://www.abbvie.com/content/experience-frag...  Allergan  \n",
       "1  https://www.abbvie.com/content/experience-frag...  Allergan  \n",
       "2  https://www.abbvie.com/content/experience-frag...  Allergan  \n",
       "3  https://www.abbvie.com/content/experience-frag...  Allergan  \n",
       "4  https://www.abbvie.com/content/experience-frag...  Allergan  "
      ]
     },
     "execution_count": 6,
     "metadata": {},
     "output_type": "execute_result"
    }
   ],
   "source": [
    "temp_df = pd.DataFrame(article_list,columns=['date','title','article','url','thumbnail','author'])\n",
    "temp_df.head()"
   ]
  },
  {
   "cell_type": "code",
   "execution_count": 7,
   "id": "47a427c3",
   "metadata": {
    "ExecuteTime": {
     "end_time": "2022-06-06T10:54:24.128542Z",
     "start_time": "2022-06-06T10:54:24.044984Z"
    }
   },
   "outputs": [],
   "source": [
    "#to csv\n",
    "temp_df.to_csv(f'{SITE_NAME} news.csv',index = False)\n",
    "\n",
    "#to json\n",
    "temp_df.to_json(f'{SITE_NAME} news.json')"
   ]
  }
 ],
 "metadata": {
  "kernelspec": {
   "display_name": "Python 3 (ipykernel)",
   "language": "python",
   "name": "python3"
  },
  "language_info": {
   "codemirror_mode": {
    "name": "ipython",
    "version": 3
   },
   "file_extension": ".py",
   "mimetype": "text/x-python",
   "name": "python",
   "nbconvert_exporter": "python",
   "pygments_lexer": "ipython3",
   "version": "3.9.7"
  },
  "toc": {
   "base_numbering": 1,
   "nav_menu": {},
   "number_sections": true,
   "sideBar": true,
   "skip_h1_title": false,
   "title_cell": "Table of Contents",
   "title_sidebar": "Contents",
   "toc_cell": false,
   "toc_position": {},
   "toc_section_display": true,
   "toc_window_display": false
  }
 },
 "nbformat": 4,
 "nbformat_minor": 5
}
