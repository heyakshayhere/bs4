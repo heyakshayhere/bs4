{
 "cells": [
  {
   "cell_type": "markdown",
   "id": "8d7bc6a2",
   "metadata": {},
   "source": [
    "**url**\n",
    "\n",
    "https://news.abbvie.com/news/allergan-press-releases/"
   ]
  },
  {
   "cell_type": "code",
   "execution_count": 9,
   "id": "661f06e5",
   "metadata": {
    "ExecuteTime": {
     "end_time": "2022-06-03T09:28:23.569353Z",
     "start_time": "2022-06-03T09:28:23.547447Z"
    }
   },
   "outputs": [
    {
     "data": {
      "application/javascript": [
       "IPython.notebook.set_autosave_interval(1000)"
      ]
     },
     "metadata": {},
     "output_type": "display_data"
    },
    {
     "name": "stdout",
     "output_type": "stream",
     "text": [
      "Autosaving every 1 seconds\n"
     ]
    }
   ],
   "source": [
    "import pandas as pd,requests,bs4,re,time,io,pdftotext\n",
    "from selenium.webdriver.common.by import By\n",
    "from goose3 import Goose\n",
    "from datetime import datetime\n",
    "from bs4 import BeautifulSoup\n",
    "from selenium import webdriver\n",
    "import warnings\n",
    "warnings.filterwarnings(\"ignore\")\n",
    "\n",
    "%autosave 1"
   ]
  },
  {
   "cell_type": "code",
   "execution_count": 10,
   "id": "8a35f64e",
   "metadata": {
    "ExecuteTime": {
     "end_time": "2022-06-03T09:28:23.584633Z",
     "start_time": "2022-06-03T09:28:23.571357Z"
    }
   },
   "outputs": [],
   "source": [
    "SITE_NAME='Abbvie'\n",
    "\n",
    "DOMAIN = \"https://news.abbvie.com\"\n",
    "\n",
    "SITE_LINK=\"https://news.abbvie.com/news/allergan-press-releases/\""
   ]
  },
  {
   "cell_type": "code",
   "execution_count": 11,
   "id": "76a1ec94",
   "metadata": {
    "ExecuteTime": {
     "end_time": "2022-06-03T09:28:23.600618Z",
     "start_time": "2022-06-03T09:28:23.586308Z"
    }
   },
   "outputs": [],
   "source": [
    "def remove_esc_chars(text):\n",
    "    return text.replace(\"\\n\", \" \").replace(\"\\t\", \" \").replace(\"\\r\", \" \")"
   ]
  },
  {
   "cell_type": "code",
   "execution_count": 12,
   "id": "fcec433f",
   "metadata": {
    "ExecuteTime": {
     "end_time": "2022-06-03T09:28:23.616587Z",
     "start_time": "2022-06-03T09:28:23.603302Z"
    }
   },
   "outputs": [],
   "source": [
    "def parse_webpage_bs(search_url):\n",
    "    \n",
    "    headers = {\n",
    "        \"User-Agent\": \"Mozilla/5.0 (Windows NT 10.0; Win64; x64; rv:90.0) Gecko/20100101 Firefox/90.0\"}\n",
    "    try:\n",
    "        site_request = requests.get(search_url, headers=headers, timeout=10)\n",
    "    except requests.exceptions.RequestException as e:\n",
    "        print(e)\n",
    "        site_request = None\n",
    "    if site_request != None and site_request.status_code==200:\n",
    "        site_soup = bs4.BeautifulSoup(site_request.content, \"lxml\")\n",
    "    else:\n",
    "        site_soup = None\n",
    "    return site_soup"
   ]
  },
  {
   "cell_type": "code",
   "execution_count": 13,
   "id": "5fe52e3e",
   "metadata": {
    "ExecuteTime": {
     "end_time": "2022-06-03T09:29:18.925957Z",
     "start_time": "2022-06-03T09:28:23.618296Z"
    },
    "scrolled": true
   },
   "outputs": [
    {
     "name": "stdout",
     "output_type": "stream",
     "text": [
      "May 08, 2020 AbbVie Inc. Completes Acquisition of Allergan plc\n",
      "May 07, 2020 The Allergan Foundation Doubles its COVID-19 Response Donations to $4.0 Million\n",
      "May 06, 2020 Announcement relating to the outcome of the Court Sanction Hearing\n",
      "Apr 28, 2020 Announcement relating to the voluntary delisting of Allergan Notes\n",
      "Apr 02, 2020 China Gives Greenlight to Allergan's XEN® Registration for the Surgical Management of Refractory Glaucoma\n",
      "Mar 31, 2020 Allergan Earns ENERGY STAR® Partner of the Year - Sustained Excellence Award for the Seventh Consecutive Year\n",
      "Mar 30, 2020 The Allergan Foundation Donates $2.0 Million to Community Organizations on Front-Line of COVID-19 Response\n",
      "Mar 18, 2020 Allergan Declares Second Quarter 2020 Cash Dividend of $0.74 Per Ordinary Share\n",
      "Mar 10, 2020 Announcement under the Irish Takeover Rules: Relevant Securities in Issue - March 10, 2020\n",
      "Mar 05, 2020 Allergan Receives FDA Approval for DURYSTA™ (bimatoprost implant) the First and Only Intracameral Biodegradable Sustained-Release Implant to lower Intraocular Pressure in Open-Angle Glaucoma or Ocular Hypertension Patients\n",
      "Mar 03, 2020 Announcement under the Irish Takeover Rules: Relevant Securities in Issue - March 3, 2020\n",
      "Feb 25, 2020 Allergan to Present New Data for Investigational Bimatoprost Sustained-Release at American Glaucoma Society Annual Meeting\n",
      "Feb 14, 2020 Announcement under the Irish Takeover Rules: Relevant Securities in Issue - February 14, 2020\n",
      "Feb 14, 2020 Announcement under Rule 8.1(a) of the Irish Takeover Rules: Dealings by Offerors, Offerees or Parties Acting in Concert With Them for Themselves or for Discretionary Clients\n",
      "Feb 10, 2020 Allergan Reports Fourth Quarter and Full-Year 2019 Financial Results\n",
      "Feb 03, 2020 BOTOX® Cosmetic (onabotulinumtoxinA) Launches Be The Difference Philanthropic Program\n",
      "Jan 31, 2020 Allergan to Report Fourth Quarter and Full Year 2019 Financial Results\n",
      "Jan 30, 2020 Announcement under the Irish Takeover Rules: Relevant Securities in Issue - January 30, 2020\n",
      "Jan 24, 2020 Allergan Declares First Quarter 2020 Cash Dividend of $0.74 Per Ordinary Share\n",
      "Jan 17, 2020 SkinMedica® Launches New Instant Bright Eye Cream For Immediate, Visible Results\n",
      "Jan 16, 2020 Allergan Teams Up With Super Bowl MVP Von Miller to Raise Awareness of Glaucoma's Impact on Daily Living\n",
      "Jan 06, 2020 Warner Chilcott and Watson Resolve Antitrust Class Action Litigation with Direct and Indirect Purchasers of Loestrin 24 Fe and Minastrin 24 Fe\n",
      "\n",
      "---------------- Reached at the end of the page ----------------\n",
      "\n"
     ]
    }
   ],
   "source": [
    "article_list = []\n",
    "pagination = 2020\n",
    "last_available_data = 2018\n",
    "last_available_data = 2020\n",
    "while True:\n",
    "    for i in range(1,131,10):\n",
    "        url = f\"https://news.abbvie.com/news/allergan-press-releases/?start_row={i}&archiveYear={pagination}\"\n",
    "        soup = parse_webpage_bs(url)\n",
    "        if soup != None:\n",
    "            elements = soup.findAll('div',{'class' :'col-sm-12 pad-bottom10'})\n",
    "            if len(elements) == 0:\n",
    "                print(\"\\n---------------- Reached at the end of the page ----------------\\n\")\n",
    "                break\n",
    "                \n",
    "            for element in elements:\n",
    "                #title,,link,thumbnail and author\n",
    "                title = element.find('h4',{'class' :'media-heading'}).text.strip()\n",
    "                link = DOMAIN + element.find('h4',{'class' :'media-heading'}).find('a')['href'].strip()\n",
    "                thumbnail = \"https://www.abbvie.com/content/experience-fragments/abbvie-com/us/en/header/master/_jcr_content/root/globalnavigation/logo.coreimg.svg/1648149043863/logo.svg\"\n",
    "                author = SITE_NAME\n",
    "\n",
    "                #published_date\n",
    "                published_date = element.find('div',{'class' :'rel-date'}).text.strip()\n",
    "                \n",
    "                #text\n",
    "                g = Goose()\n",
    "                article_extract = g.extract(url=link)\n",
    "                article = remove_esc_chars(article_extract.cleaned_text)\n",
    "                meta_data = remove_esc_chars(article_extract.meta_description)\n",
    "                whole_data = meta_data+article\n",
    "                text = whole_data.strip()\n",
    "                \n",
    "                article = (published_date.strip(),title.strip(),text.strip(),link.strip(),thumbnail.strip(),author.strip())\n",
    "                article_list.append(article)\n",
    "                print(published_date,title)\n",
    "\n",
    "    if pagination <= last_available_data :\n",
    "        break\n",
    "    else:\n",
    "        pagination -=1"
   ]
  },
  {
   "cell_type": "code",
   "execution_count": 14,
   "id": "93a8bdd1",
   "metadata": {
    "ExecuteTime": {
     "end_time": "2022-06-03T09:29:18.941934Z",
     "start_time": "2022-06-03T09:29:18.926975Z"
    }
   },
   "outputs": [
    {
     "data": {
      "text/html": [
       "<div>\n",
       "<style scoped>\n",
       "    .dataframe tbody tr th:only-of-type {\n",
       "        vertical-align: middle;\n",
       "    }\n",
       "\n",
       "    .dataframe tbody tr th {\n",
       "        vertical-align: top;\n",
       "    }\n",
       "\n",
       "    .dataframe thead th {\n",
       "        text-align: right;\n",
       "    }\n",
       "</style>\n",
       "<table border=\"1\" class=\"dataframe\">\n",
       "  <thead>\n",
       "    <tr style=\"text-align: right;\">\n",
       "      <th></th>\n",
       "      <th>date</th>\n",
       "      <th>title</th>\n",
       "      <th>article</th>\n",
       "      <th>url</th>\n",
       "      <th>thumbnail</th>\n",
       "      <th>author</th>\n",
       "    </tr>\n",
       "  </thead>\n",
       "  <tbody>\n",
       "    <tr>\n",
       "      <th>0</th>\n",
       "      <td>May 08, 2020</td>\n",
       "      <td>AbbVie Inc. Completes Acquisition of Allergan plc</td>\n",
       "      <td>NOT FOR RELEASE, PUBLICATION OR DISTRIBUTION, ...</td>\n",
       "      <td>https://news.abbvie.com/news/press-releases/ne...</td>\n",
       "      <td>https://www.abbvie.com/content/experience-frag...</td>\n",
       "      <td>Abbvie</td>\n",
       "    </tr>\n",
       "    <tr>\n",
       "      <th>1</th>\n",
       "      <td>May 07, 2020</td>\n",
       "      <td>The Allergan Foundation Doubles its COVID-19 R...</td>\n",
       "      <td>, /PRNewswire/ -- (NYSE: AGN) today announced ...</td>\n",
       "      <td>https://news.abbvie.com/news/press-releases/ne...</td>\n",
       "      <td>https://www.abbvie.com/content/experience-frag...</td>\n",
       "      <td>Abbvie</td>\n",
       "    </tr>\n",
       "    <tr>\n",
       "      <th>2</th>\n",
       "      <td>May 06, 2020</td>\n",
       "      <td>Announcement relating to the outcome of the Co...</td>\n",
       "      <td>NOT FOR RELEASE, PUBLICATION OR DISTRIBUTION, ...</td>\n",
       "      <td>https://news.abbvie.com/news/press-releases/ne...</td>\n",
       "      <td>https://www.abbvie.com/content/experience-frag...</td>\n",
       "      <td>Abbvie</td>\n",
       "    </tr>\n",
       "    <tr>\n",
       "      <th>3</th>\n",
       "      <td>Apr 28, 2020</td>\n",
       "      <td>Announcement relating to the voluntary delisti...</td>\n",
       "      <td>NOT FOR RELEASE, PUBLICATION OR DISTRIBUTION, ...</td>\n",
       "      <td>https://news.abbvie.com/news/press-releases/ne...</td>\n",
       "      <td>https://www.abbvie.com/content/experience-frag...</td>\n",
       "      <td>Abbvie</td>\n",
       "    </tr>\n",
       "    <tr>\n",
       "      <th>4</th>\n",
       "      <td>Apr 02, 2020</td>\n",
       "      <td>China Gives Greenlight to Allergan's XEN® Regi...</td>\n",
       "      <td>-- XEN® Becomes the First Medical Product Appr...</td>\n",
       "      <td>https://news.abbvie.com/news/press-releases/ne...</td>\n",
       "      <td>https://www.abbvie.com/content/experience-frag...</td>\n",
       "      <td>Abbvie</td>\n",
       "    </tr>\n",
       "  </tbody>\n",
       "</table>\n",
       "</div>"
      ],
      "text/plain": [
       "           date                                              title  \\\n",
       "0  May 08, 2020  AbbVie Inc. Completes Acquisition of Allergan plc   \n",
       "1  May 07, 2020  The Allergan Foundation Doubles its COVID-19 R...   \n",
       "2  May 06, 2020  Announcement relating to the outcome of the Co...   \n",
       "3  Apr 28, 2020  Announcement relating to the voluntary delisti...   \n",
       "4  Apr 02, 2020  China Gives Greenlight to Allergan's XEN® Regi...   \n",
       "\n",
       "                                             article  \\\n",
       "0  NOT FOR RELEASE, PUBLICATION OR DISTRIBUTION, ...   \n",
       "1  , /PRNewswire/ -- (NYSE: AGN) today announced ...   \n",
       "2  NOT FOR RELEASE, PUBLICATION OR DISTRIBUTION, ...   \n",
       "3  NOT FOR RELEASE, PUBLICATION OR DISTRIBUTION, ...   \n",
       "4  -- XEN® Becomes the First Medical Product Appr...   \n",
       "\n",
       "                                                 url  \\\n",
       "0  https://news.abbvie.com/news/press-releases/ne...   \n",
       "1  https://news.abbvie.com/news/press-releases/ne...   \n",
       "2  https://news.abbvie.com/news/press-releases/ne...   \n",
       "3  https://news.abbvie.com/news/press-releases/ne...   \n",
       "4  https://news.abbvie.com/news/press-releases/ne...   \n",
       "\n",
       "                                           thumbnail  author  \n",
       "0  https://www.abbvie.com/content/experience-frag...  Abbvie  \n",
       "1  https://www.abbvie.com/content/experience-frag...  Abbvie  \n",
       "2  https://www.abbvie.com/content/experience-frag...  Abbvie  \n",
       "3  https://www.abbvie.com/content/experience-frag...  Abbvie  \n",
       "4  https://www.abbvie.com/content/experience-frag...  Abbvie  "
      ]
     },
     "execution_count": 14,
     "metadata": {},
     "output_type": "execute_result"
    }
   ],
   "source": [
    "temp_df = pd.DataFrame(article_list,columns=['date','title','article','url','thumbnail','author'])\n",
    "temp_df.head()"
   ]
  },
  {
   "cell_type": "code",
   "execution_count": 15,
   "id": "6e0f8bb0",
   "metadata": {
    "ExecuteTime": {
     "end_time": "2022-06-03T09:29:18.987979Z",
     "start_time": "2022-06-03T09:29:18.942933Z"
    }
   },
   "outputs": [],
   "source": [
    "#to csv\n",
    "temp_df.to_csv(f'{SITE_NAME} news.csv',index = False)\n",
    "\n",
    "#to json\n",
    "temp_df.to_json(f'{SITE_NAME} news.json')"
   ]
  }
 ],
 "metadata": {
  "kernelspec": {
   "display_name": "Python 3 (ipykernel)",
   "language": "python",
   "name": "python3"
  },
  "language_info": {
   "codemirror_mode": {
    "name": "ipython",
    "version": 3
   },
   "file_extension": ".py",
   "mimetype": "text/x-python",
   "name": "python",
   "nbconvert_exporter": "python",
   "pygments_lexer": "ipython3",
   "version": "3.9.7"
  },
  "toc": {
   "base_numbering": 1,
   "nav_menu": {},
   "number_sections": true,
   "sideBar": true,
   "skip_h1_title": false,
   "title_cell": "Table of Contents",
   "title_sidebar": "Contents",
   "toc_cell": false,
   "toc_position": {},
   "toc_section_display": true,
   "toc_window_display": false
  }
 },
 "nbformat": 4,
 "nbformat_minor": 5
}
