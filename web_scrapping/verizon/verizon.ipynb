{
 "cells": [
  {
   "cell_type": "markdown",
   "id": "2e57debc",
   "metadata": {},
   "source": [
    "https://www.verizon.com/about/news/news-releases"
   ]
  },
  {
   "cell_type": "code",
   "execution_count": 1,
   "id": "d37caadf",
   "metadata": {
    "ExecuteTime": {
     "end_time": "2022-04-27T15:35:08.775598Z",
     "start_time": "2022-04-27T15:35:07.461044Z"
    }
   },
   "outputs": [
    {
     "data": {
      "application/javascript": [
       "IPython.notebook.set_autosave_interval(1000)"
      ]
     },
     "metadata": {},
     "output_type": "display_data"
    },
    {
     "name": "stdout",
     "output_type": "stream",
     "text": [
      "Autosaving every 1 seconds\n"
     ]
    }
   ],
   "source": [
    "from selenium import webdriver\n",
    "from selenium.webdriver.common.by import By\n",
    "import sys,bs4,re,time,requests,pandas as pd\n",
    "from bs4 import BeautifulSoup\n",
    "\n",
    "import warnings\n",
    "warnings.filterwarnings(\"ignore\")\n",
    "\n",
    "%autosave 1"
   ]
  },
  {
   "cell_type": "code",
   "execution_count": 2,
   "id": "7ec7263a",
   "metadata": {
    "ExecuteTime": {
     "end_time": "2022-04-27T15:35:11.846315Z",
     "start_time": "2022-04-27T15:35:08.776596Z"
    }
   },
   "outputs": [
    {
     "name": "stderr",
     "output_type": "stream",
     "text": [
      "\n",
      "\n",
      "====== WebDriver manager ======\n",
      "Current google-chrome version is 100.0.4896\n",
      "Get LATEST chromedriver version for 100.0.4896 google-chrome\n",
      "Driver [C:\\Users\\AKSHAY SATPUTE\\.wdm\\drivers\\chromedriver\\win32\\100.0.4896.60\\chromedriver.exe] found in cache\n"
     ]
    }
   ],
   "source": [
    "#driver for operation\n",
    "from webdriver_manager.chrome import ChromeDriverManager\n",
    "option = webdriver.ChromeOptions()\n",
    "option.add_argument('headless')\n",
    "driver = webdriver.Chrome(ChromeDriverManager().install()\n",
    "#                           ,options=option\n",
    "                         )"
   ]
  },
  {
   "cell_type": "code",
   "execution_count": 3,
   "id": "22a8eae4",
   "metadata": {
    "ExecuteTime": {
     "end_time": "2022-04-27T15:35:11.861278Z",
     "start_time": "2022-04-27T15:35:11.852292Z"
    }
   },
   "outputs": [],
   "source": [
    "def parse_webpage_bs(search_url):\n",
    "    headers = {\n",
    "        \"User-Agent\": \"Mozilla/5.0 (Windows NT 10.0; Win64; x64; rv:90.0) Gecko/20100101 Firefox/90.0\"}\n",
    "    try:\n",
    "        site_request = requests.get(search_url, headers=headers, timeout=10)\n",
    "    except requests.exceptions.RequestException as e:\n",
    "        print(e)\n",
    "        site_request = None\n",
    "    if site_request != None and site_request.status_code==200:\n",
    "        site_soup = bs4.BeautifulSoup(site_request.content, \"lxml\")\n",
    "    else:\n",
    "        site_soup = None\n",
    "    return site_soup"
   ]
  },
  {
   "cell_type": "code",
   "execution_count": 4,
   "id": "6ae306b8",
   "metadata": {
    "ExecuteTime": {
     "end_time": "2022-04-27T15:35:26.978580Z",
     "start_time": "2022-04-27T15:35:11.864261Z"
    },
    "scrolled": true
   },
   "outputs": [
    {
     "name": "stdout",
     "output_type": "stream",
     "text": [
      "0 pages remaining..\r"
     ]
    }
   ],
   "source": [
    "url = f'https://www.verizon.com/about/news/news-releases'\n",
    "\n",
    "driver.maximize_window()\n",
    "\n",
    "driver.get(url)\n",
    "\n",
    "hrefs = []\n",
    "\n",
    "range_count = 3\n",
    "\n",
    "for x in range(range_count):\n",
    "    driver.implicitly_wait(100)\n",
    "    driver.find_element_by_class_name('''nav-right_arrow ''').click()                                  \n",
    "    for y in range(1,11):\n",
    "        link = driver.find_element_by_xpath(f'''/html/body/div[2]/main/div/div/div[2]/div[2]/div/div/div/div/div/div[2]/div[2]/div[{y}]/div[3]/h2/a''').get_attribute(\"href\")\n",
    "        hrefs.append(link)                               \n",
    "    print(str(range_count-(x+1)) + \" pages remaining..\",end=\"\\r\")"
   ]
  },
  {
   "cell_type": "code",
   "execution_count": 5,
   "id": "601a0e2d",
   "metadata": {
    "ExecuteTime": {
     "end_time": "2022-04-27T15:36:29.911087Z",
     "start_time": "2022-04-27T15:35:26.979848Z"
    },
    "scrolled": false
   },
   "outputs": [
    {
     "name": "stdout",
     "output_type": "stream",
     "text": [
      "0 url remaining...\n"
     ]
    }
   ],
   "source": [
    "articles = []\n",
    "dates = []\n",
    "titles = []\n",
    "thumbnails = []\n",
    "\n",
    "for number,link in enumerate(hrefs):\n",
    "    \n",
    "    soup = parse_webpage_bs(link)\n",
    "\n",
    "    t_containers = soup.findAll('div',{'class' :'news-fp-heading'})\n",
    "    \n",
    "    for t in t_containers:\n",
    "        title = t.text\n",
    "        titles.append(title)\n",
    "    \n",
    "    d_containers = soup.findAll('div',{'class' :'news-fp-date'})\n",
    "    \n",
    "    for d in d_containers:\n",
    "        date = d.find('span').text\n",
    "        dates.append(date)\n",
    "        \n",
    "    thumb_containers = soup.findAll('div',{'class' :'news-fp-image'})\n",
    "    \n",
    "    if len(thumb_containers) != 0:\n",
    "        for thumb in thumb_containers:\n",
    "            thumbnail = \"https://www.verizon.com\" + thumb.find('img')['src']\n",
    "            thumbnails.append(thumbnail)\n",
    "    else:\n",
    "        thumbnails.append(\"\")\n",
    "\n",
    "    art_containers = soup.findAll('div',{'class' :'card'})\n",
    "    \n",
    "    for art in art_containers:\n",
    "        article = art.text\n",
    "        articles.append(article)\n",
    "        \n",
    "    print(str(len(hrefs)-(number+1)) + \" url remaining..\",end=\"\\r\")\n",
    "\n",
    "    \n",
    "print()"
   ]
  },
  {
   "cell_type": "code",
   "execution_count": 6,
   "id": "c72ead29",
   "metadata": {
    "ExecuteTime": {
     "end_time": "2022-04-27T15:36:29.927043Z",
     "start_time": "2022-04-27T15:36:29.912087Z"
    },
    "scrolled": true
   },
   "outputs": [
    {
     "data": {
      "text/plain": [
       "[('04.25.2022',\n",
       "  'Verizon makes BOPIS bigger with BOPIL ',\n",
       "  \"04.25.2022|Products & Plans|Home & EntertainmentVerizon makes BOPIS bigger with BOPIL  Media contact(s)Heidi Flatoheidi.flato@verizon.com Express Pickup Lockers rolling out to stores nationwide to meet increased customer demand for convenienceFull Transparency No UpdatesLearn moreWe're committed to building trust.The Verizon Newsroom greatly values transparency. By integrating blockchain technology, we’re able to permanently log all changes made to official releases after publication. We believe people deserve the highest level of integrity. And we’re committed to setting the industry standard for corporate communications.Learn moreBASKING RIDGE, NJ - Today’s consumers want convenience and Verizon continues to look at new and innovative ways to meet them when, where and how they want to be met. After the past two years, people have become familiar with a hybrid retail model known as buy online pickup in store (BOPIS) but now Verizon is making it even easier to do business with by adding buy online pickup in locker (BOPIL) as an option with Express Pickup Lockers. Verizon has offered in-store pickup for years and more recently introduced curbside pickup along with same-day delivery. Now Express Pickup Lockers are being rolled out at locations across the country ensuring seamless, efficient transactions,with increased customer satisfaction, and in select locations 24 hour access to their purchases.“Time is precious, which is why we want to give our customers options that work for their busy lives,” said Kelley Kurtzman, Senior Vice President of Consumer Field Sales at Verizon. “Our lockers are a new and innovative way Verizon is bridging the gap between traditional retail and e-commerce, giving our customers more ways than ever to get what they need and get on with their day.”Verizon has installed secure lockers at 250 retail locations across the US, with more being added each month. In select locations lockers are installed in areas where customers can pick up their purchases outside of normal Verizon store hours - even overnight. Customers can select the Express Pickup Locker option (where available) when purchasing items online at www.verizon.com or through the MyVerizon App.Choices when it comes to the retail experience are here to stay. Verizon today released findings of a new survey of U.S. residents on their seasonal cleaning and shopping behaviors. The survey found that more than two in five (42%) Americans used curbside pickup at a retailer. One in three Americans used grocery delivery (33%) and virtual appointments (33%). And almost one in five (17%) used a locker site to pick up their purchase.\\xa0And interest in lockers is only continuing to grow.\\xa0In fact, the survey showed:Three in four (75%) Americans would pick up their purchase at a secure locker rather than having to go into a store or wait for an online shipment if retailers provided this optionMore than half (55%) would use this service to avoid lines and crowds, 48% would use it to do so on their own schedules after hours and 45% simply to save timeAbout two in five would use a locker to avoid having to wait for shipping times and get the merchandise they need quickly (40%) or to relieve concerns of packages being stolen from outside their home by “porch pirates” (38%).Of course, Verizon’s full-service stores have retail specialists ready to help customers with all of their needs. For customers who prefer to buy online, but don’t want to wait for products to ship, Verizon offers Express Pickup options including in-store, curbside, doorside and locker pickup at select retail locations across the country.\\xa0Available Express Pickup options are provided on the MyVerizon app and when completing online orders at www.verizon.com. Related Articles Unlocking another way we serve our customers.04.21.2022On today’s episode of Up To Speed, host Andy Choi introduces us to our newest retail express lockers, available at a growing number of Verizon stores.      HBO Max joins Verizon’s +play 04.20.2022HBO Max is the latest streaming provider to join as a partner in +play, Verizon’s innovative new platform that will allow users to discover, purchase and manage some of their favorite subscriptions.  \",\n",
       "  'https://www.verizon.com/about/news/verizon-makes-bopis-bigger-bopil',\n",
       "  ''),\n",
       " ('04.22.2022',\n",
       "  'Verizon reports 1Q earnings for 2022',\n",
       "  'BASKING RIDGE, NJ - Today’s consumers want convenience and Verizon continues to look at new and innovative ways to meet them when, where and how they want to be met. After the past two years, people have become familiar with a hybrid retail model known as buy online pickup in store (BOPIS) but now Verizon is making it even easier to do business with by adding buy online pickup in locker (BOPIL) as an option with Express Pickup Lockers. Verizon has offered in-store pickup for years and more recently introduced curbside pickup along with same-day delivery. Now Express Pickup Lockers are being rolled out at locations across the country ensuring seamless, efficient transactions,with increased customer satisfaction, and in select locations 24 hour access to their purchases.“Time is precious, which is why we want to give our customers options that work for their busy lives,” said Kelley Kurtzman, Senior Vice President of Consumer Field Sales at Verizon. “Our lockers are a new and innovative way Verizon is bridging the gap between traditional retail and e-commerce, giving our customers more ways than ever to get what they need and get on with their day.”Verizon has installed secure lockers at 250 retail locations across the US, with more being added each month. In select locations lockers are installed in areas where customers can pick up their purchases outside of normal Verizon store hours - even overnight. Customers can select the Express Pickup Locker option (where available) when purchasing items online at www.verizon.com or through the MyVerizon App.Choices when it comes to the retail experience are here to stay. Verizon today released findings of a new survey of U.S. residents on their seasonal cleaning and shopping behaviors. The survey found that more than two in five (42%) Americans used curbside pickup at a retailer. One in three Americans used grocery delivery (33%) and virtual appointments (33%). And almost one in five (17%) used a locker site to pick up their purchase.\\xa0And interest in lockers is only continuing to grow.\\xa0In fact, the survey showed:Three in four (75%) Americans would pick up their purchase at a secure locker rather than having to go into a store or wait for an online shipment if retailers provided this optionMore than half (55%) would use this service to avoid lines and crowds, 48% would use it to do so on their own schedules after hours and 45% simply to save timeAbout two in five would use a locker to avoid having to wait for shipping times and get the merchandise they need quickly (40%) or to relieve concerns of packages being stolen from outside their home by “porch pirates” (38%).Of course, Verizon’s full-service stores have retail specialists ready to help customers with all of their needs. For customers who prefer to buy online, but don’t want to wait for products to ship, Verizon offers Express Pickup options including in-store, curbside, doorside and locker pickup at select retail locations across the country.\\xa0Available Express Pickup options are provided on the MyVerizon app and when completing online orders at www.verizon.com.',\n",
       "  'https://www.verizon.com/about/news/verizon-reports-1q-earnings-2022',\n",
       "  'https://www.verizon.com/about/sites/default/files/2022-04/1q-2022-earnings-hero-1230x690.jpg'),\n",
       " ('04.21.2022',\n",
       "  'Verizon appoints Christina Schelling leader, Talent and Diversity',\n",
       "  '04.22.2022|Financial|EarningsVerizon reports 1Q earnings for 2022 Media contact(s)Kim Ancin908.801.0500Kimberly.Ancin@verizon.com     Company reports record demand for fixed wireless broadband, wireless service revenue growth and continued 5G Ultra Wideband network expansionFull Transparency No UpdatesLearn moreWe\\'re committed to building trust.The Verizon Newsroom greatly values transparency. By integrating blockchain technology, we’re able to permanently log all changes made to official releases after publication. We believe people deserve the highest level of integrity. And we’re committed to setting the industry standard for corporate communications.Learn moreDownload News Release PDFDownload Infographic PDFDownload 1Q Financials\\xa01Q 2022 highlightsVerizon Consumer Group delivered top line growth that was driven by the first full quarter of ownership of TracFone Wireless, Inc., (TracFone), higher equipment revenue, and strong wireless service revenue growth.Verizon Business Group experienced a solid start to the year, with momentum in business activity and demand for wireless products. These results were driven by wireless strength in Small and Medium Business, Enterprise, and Public Sector, each of which delivered double digit phone gross addition growth.The January launch of C-Band and expansion of our 5G Ultra Wideband network enabled more customers to enjoy the most reliable 5G network in the United States, while also accelerating and amplifying the company\\'s nationwide broadband strategy. Verizon delivered its highest broadband net additions in over a decade. The recent early clearing spectrum announcement, gives the company the ability to deploy more C-Band spectrum, a full year sooner than expected, which will unlock another 40 million of addressable population.Consolidated:$1.09 in earnings per share (EPS), compared with $1.27 in first-quarter 2021; adjusted EPS1, excluding special items, of $1.35 compared with $1.36 in first-quarter 20212.Total revenue of $33.6 billion, up 2.1 percent from first-quarter 2021.\\xa0Net income of $4.7 billion, a decrease of 12.4 percent from first-quarter 2021, and adjusted EBITDA1 of $12.0 billion, down 1.1 percent year over year.Total Broadband:229,000 total broadband net additions, the best quarter in over a decade, including 194,000 fixed wireless net additions, 2.5 times the fourth quarter 2021 level.35,000 wireline broadband net additions, driven by 60,000 Fios Internet net additions in first-quarter 2022.\\xa0Total Wireless:\\xa0Total wireless service revenue of $18.3 billion, a 9.5 percent increase year over year.Total retail postpaid churn of 1.04 percent, and retail postpaid phone churn of 0.83 percent.Industry leading 143.0 million total retail connections, including postpaid phone net loss of 36,000, an 80 percent improvement from a year ago and the best first-quarter performance since 2018.Total wireless activations up 11 percent year over year.NEW YORK - Verizon Communications Inc. (NYSE, Nasdaq: VZ) reported first-quarter results today, including the expansion of its 5G Ultra Wideband network to nearly 113 million people around the country and elevated demands for its 5G mobility and nationwide broadband services. The company\\'s performance produced its best broadband result in over a decade, a surge in upgrades and increased wireless service revenue growth. \\xa0\"Our operational performance in the first-quarter further positions Verizon for long-term growth and increases our competitive standing in mobility, nationwide broadband, the value market, and above the network business solutions and applications,” said Verizon Chairman and CEO Hans Vestberg. \"The January launch of C-Band and expansion of our 5G Ultra Wideband network helped to amplify our fixed wireless momentum in both Consumer and Business, with quarterly additions 2.5 times that of our fourth-quarter performance, and drove momentum in wireless upgrades. We continue to accelerate our C-Band network build with our goal of reaching at least 175 million people by the end of the year and, with the recent early clearing spectrum announcement, we now have the ability to deploy more of this spectrum a full year sooner.”For first-quarter 2022, Verizon reported EPS of $1.09, compared with $1.27 in first-quarter 2021. On an adjusted basis1, EPS, excluding special items, was $1.35 in first-quarter 2022, compared with adjusted EPS1 of $1.36 in first-quarter 20212.\\xa0Reported first-quarter earnings consisted of a pre-tax loss from special items of approximately $1.5 billion, including a pre-tax loss of approximately $1.2 billion from early debt redemption costs. Additionally, the impact to amortization of intangible assets related to TracFone and other acquisitions was $238 million.“At our Investor Day last month, we presented our strategy for investing in and growing the business to generate an incremental $14 billion of service and other revenue by 2025. The bottom-line performance of our results today shows the strength of our core business to deliver profitability, even during a period of significant investment,\" \\xa0said Verizon Chief Financial Officer Matt Ellis. \"We expect that over 75 percent of our growth over the next four years will come from 5G mobility and nationwide broadband. In the first-quarter, we saw growth in our wireless sales, customer loyalty, and rapid expansion of our fixed wireless product, fortifying our confidence in our growth prospects.”Consolidated resultsTotal consolidated operating revenues in first-quarter 2022 were $33.6 billion, up 2.1 percent from first-quarter 2021.\\xa0Total wireless service revenue growth was 9.5 percent, reflecting the first full quarter of TracFone ownership, as well as continued execution of our Network as a Service strategy and contributions from our five vectors of growth.Service and other revenue was down 2.5 percent, as the revenues lost from Verizon Media Group (Verizon Media) more than offset incremental revenue from TracFone. Excluding the impact of the sale of Verizon Media, service and other revenue was up 4.2 percent from first-quarter 2021.\\xa0Cash flow from operating activities for the quarter totaled $6.8 billion compared with $9.7 billion \\xa0in first-quarter 2021. The reduction was primarily due to working capital impacts as the increase in activation volumes to more normal levels impacted receivable levels, and inventory levels increased as part of supply chain management in the current environment.Capital spending for the first-quarter totaled $5.8 billion, an increase of $1.3 billion compared to first-quarter 2021 driven by C-Band spending of $1.5 billion. The continued build out of OneFiber and Verizon\\'s investment to support traffic growth on its 4G LTE network while expanding the reach and capacity of its 5G Ultra Wideband network enhances its opportunity to effectively compete in all of its businesses. The net result of cash flow from operations and capital spending is free cash flow1 for the first-quarter of the year of $1.0 billion.Verizon\\'s unsecured debt as of the end of first-quarter 2022 increased by $614 million sequentially to $137.3 billion. The company\\'s net unsecured debt1 balance increased sequentially by $1.9 billion to $135.6 billion, and its net unsecured debt to adjusted EBITDA ratio1 at quarter-end was approximately 2.8 times, as it issued its fourth Green Bond, with the net proceeds expected to be allocated to renewable energy. In addition, the company completed a number of other transactions during the quarter the proceeds of which were used as consideration in an over $5 billion tender offer to retire some higher cost, long-term debt.\\xa0Verizon Consumer resultsTotal Verizon Consumer revenue for the quarter grew 10.9 percent year over year, driven by the first full quarter of TracFone integration, higher equipment revenue, and strong core wireless service revenue growth. Total Verizon Consumer revenues were $25.3 billion.Wireless service revenue was up 11.2 percent year over year. In addition to the inclusion of TracFone, Postpaid ARPA increased 2.6 percent driven primarily by step-up momentum and growth within non-connectivity products and services. Verizon Consumer ended the quarter with 36 percent of its account base on a premium tier.\\xa0Verizon Consumer wireless retail postpaid churn was 0.95 percent in first-quarter 2022, and wireless retail postpaid phone churn was 0.77 percent.\\xa0While churn was steady, the competitive dynamics within the industry resulted in wireless retail postpaid phone net losses of 292,000, due to a decline in gross additions of 2 percent from prior year.\\xa0Verizon Consumer had fixed wireless net additions of 112,000 for the quarter, with sales boosted by Verizon\\'s launch of C-Band spectrum and \"5G Ultra\" campaign. Additionally, Fios internet net additions for the quarter were 55,000, driven by record-low churn levels with gross additions lower compared to first-quarter 2021. Verizon Consumer Fios revenues were $2.9 billion in first-quarter 2022, an increase of 1.8 percent year over year. Verizon Consumer reported 78,000 Fios Video net losses in first-quarter 2022.Prepaid ARPU in the quarter was $30.89 across all of Verizon Consumer\\'s prepaid brands. This decline over first-quarter 2021 results was driven, in part, by pressure in the TracFone brands, though prepaid ARPU is expected to stabilize and subsequently grow sequentially as we execute our strategy to bring additional value to our customers.In first-quarter 2022, Verizon Consumer operating income was $7.3 billion, a decrease of 2.7 percent year over year, and segment operating income margin was 28.9 percent, a decrease from 33 percent in first-quarter 2021. Segment EBITDA1 for the quarter grew 1.0 percent, driven by the inclusion of TracFone results, as well as ARPA and customer volume gains, partially offset by the elevated marketing expenses related to the 5G Ultra campaign, investments in TracFone, and higher bad debt, driven in part by the additional sales volumes in the quarter. Segment EBITDA margin1 of 41.4 percent was impacted by significantly higher equipment revenue and the inclusion of TracFone.Verizon Business resultsTotal Verizon Business revenues were $7.7 billion in first-quarter 2022, down 0.9 percent year over year. Ongoing legacy wireline declines continue to offset Wireless revenue growth. \\xa0Verizon Business wireless service revenues were $3.1 billion, an increase of 2.1 percent, driven by momentum in the SMB market, which continues to see strong post pandemic recovery.\\xa0Verizon Business reported 395,000 wireless retail postpaid net additions in first-quarter 2022, including 256,000 phone net additions. This was the best quarterly phone net addition performance for Business since Verizon 2.0 reporting began.Verizon Business wireless retail postpaid churn was 1.34 percent in first-quarter 2022, and wireless retail postpaid phone churn was 1.06 percent.Verizon Business reported 82,000 Fixed Wireless net additions for the quarter, up substantially from the prior quarter. The flexibility, reliability and value of the product have generated an elevated demand and competitive wins within this space. \\xa0In first-quarter 2022, Verizon Business operating income was $673 million, a decrease of 25.1 percent year over year, and segment operating income margin was 8.7 percent, a decrease from 11.6 percent in first-quarter 2021. Segment EBITDA1 was $1.7 billion for the quarter, a decrease of 9.3 percent, driven in part by the loss of high margin wireline revenue. Segment EBITDA margin1 was 22.5 percent, a decrease from 24.6 percent in first-quarter 2021.\\xa0Outlook and guidance\\xa0For 2022, Verizon is updating its prior guidance for service and other revenue which is now expected to be approximately flat compared to 2021.\\xa0Additionally, Verizon expects the following results for full-year 2022:Reported wireless service revenue growth at the lower end of the previously guided range of 9 percent to 10 percent.Adjusted EBITDA1 growth at the lower end of the previously guided range of 2 percent to 3 percent.Adjusted EPS1 at the lower end of the previously guided range of $5.40 to $5.55.\\xa0Adjusted effective income tax rate1 in the range of 23 percent to 25 percent.Capital spending, excluding C-Band, in the range of $16.5 billion to $17.5 billion. Additional expenditures related to the deployment of the company\\'s C-Band 5G network are expected to be in the range of $5 billion to $6 billion.In addition to announcing first-quarter results, today, the company published its 2021 ESG Report, outlining its approach to the company\\'s ESG strategy and integration, and detailing the company\\'s progress on important ESG issues, such as carbon emissions, energy efficiency, data protection and privacy, employee engagement and human rights.\\xa01Non-GAAP financial measure. See the accompanying schedules and www.verizon.com/about/investors for reconciliations of non-GAAP financial measures cited in this document to most directly comparable financial measures under generally accepted accounting principles (GAAP).2Adjusted EPS for the prior-year period has been reclassified to conform to current period presentation.Forward-looking statements\\nIn this communication we have made forward-looking statements. These statements are based on our estimates and assumptions and are subject to risks and uncertainties. Forward-looking statements include the information concerning our possible or assumed future results of operations. Forward-looking statements also include those preceded or followed by the words “anticipates,” “believes,” “estimates,” “expects,” “hopes,” “forecasts,” “plans” or similar expressions. For those statements, we claim the protection of the safe harbor for forward-looking statements contained in the Private Securities Litigation Reform Act of 1995. We undertake no obligation to revise or publicly release the results of any revision to these forward-looking statements, except as required by law. Given these risks and uncertainties, readers are cautioned not to place undue reliance on such forward-looking statements. The following important factors, along with those discussed in our filings with the Securities and Exchange Commission (the “SEC”), could affect future results and could cause those results to differ materially from those expressed in the forward-looking statements: cyber attacks impacting our networks or systems and any resulting financial or reputational impact; damage to our infrastructure or disruption of our operations from natural disasters, extreme weather conditions or terrorist attacks \\xa0and any resulting financial or reputational impact; the impact of public health crises, including the COVID-19 pandemic, on our operations, our employees and the ways in which our customers use our networks and other products and services; disruption of our key suppliers’ or vendors\\' provisioning of products or services, including as a result of geopolitical factors, the COVID-19 pandemic or the potential impacts of global climate change; material adverse changes in labor matters and any resulting financial or operational impact; the effects of competition in the markets in which we operate; failure to take advantage of developments in technology and address changes in consumer demand; performance issues or delays in the deployment of our 5G network resulting in significant costs or a reduction in the anticipated benefits of the enhancement to our networks; the inability to implement our business strategy; adverse conditions in the U.S. and international economies, including inflation in the markets in which we operate; changes in the regulatory environment in which we operate, including any increase in restrictions on our ability to operate our networks or businesses; our high level of indebtedness; significant litigation and any resulting material expenses incurred in defending against lawsuits or paying awards or settlements; an adverse change in the ratings afforded our debt securities by nationally accredited ratings organizations or adverse conditions in the credit markets affecting the cost, including interest rates, and/or availability of further financing; significant increases in benefit plan costs or lower investment returns on plan assets; changes in tax laws or treaties, or in their interpretation; and changes in accounting assumptions that regulatory agencies, including the SEC, may require or that result from changes in the accounting rules or their application, which could result in an impact on earnings.\\xa0 Related Articles 2/28/22: Verizon declares quarterly dividend02.28.2022The Board of Directors at Verizon Communications Inc. today declared a quarterly dividend of 64 cents per outstanding share, unchanged from the previous two quarters.  Verizon ends 2021 with strong wireless service revenue and EPS growth01.25.2022Company enters 2022 with significant 5G adoption and fixed wireless broadband momentum; Now covering more than 95 million people in the U.S. with 5G Ultra Wideband  ',\n",
       "  'https://www.verizon.com/about/news/verizon-appoints-christina-schelling-leader-talent-and-diversity',\n",
       "  'https://www.verizon.com/about/sites/default/files/2022-04/svp-talent-diverrsity-700x393.jpg')]"
      ]
     },
     "execution_count": 6,
     "metadata": {},
     "output_type": "execute_result"
    }
   ],
   "source": [
    "#zippling the list so that it'll form the tuple\n",
    "zipped = list(zip(dates,titles,articles,hrefs,thumbnails))\n",
    "zipped[:3]"
   ]
  },
  {
   "cell_type": "code",
   "execution_count": 7,
   "id": "f2a33bcc",
   "metadata": {
    "ExecuteTime": {
     "end_time": "2022-04-27T15:36:29.943001Z",
     "start_time": "2022-04-27T15:36:29.929040Z"
    }
   },
   "outputs": [
    {
     "data": {
      "text/html": [
       "<div>\n",
       "<style scoped>\n",
       "    .dataframe tbody tr th:only-of-type {\n",
       "        vertical-align: middle;\n",
       "    }\n",
       "\n",
       "    .dataframe tbody tr th {\n",
       "        vertical-align: top;\n",
       "    }\n",
       "\n",
       "    .dataframe thead th {\n",
       "        text-align: right;\n",
       "    }\n",
       "</style>\n",
       "<table border=\"1\" class=\"dataframe\">\n",
       "  <thead>\n",
       "    <tr style=\"text-align: right;\">\n",
       "      <th></th>\n",
       "      <th>date</th>\n",
       "      <th>title</th>\n",
       "      <th>article</th>\n",
       "      <th>url</th>\n",
       "      <th>thumbnail</th>\n",
       "    </tr>\n",
       "  </thead>\n",
       "  <tbody>\n",
       "    <tr>\n",
       "      <th>0</th>\n",
       "      <td>04.25.2022</td>\n",
       "      <td>Verizon makes BOPIS bigger with BOPIL</td>\n",
       "      <td>04.25.2022|Products &amp; Plans|Home &amp; Entertainme...</td>\n",
       "      <td>https://www.verizon.com/about/news/verizon-mak...</td>\n",
       "      <td></td>\n",
       "    </tr>\n",
       "    <tr>\n",
       "      <th>1</th>\n",
       "      <td>04.22.2022</td>\n",
       "      <td>Verizon reports 1Q earnings for 2022</td>\n",
       "      <td>BASKING RIDGE, NJ - Today’s consumers want con...</td>\n",
       "      <td>https://www.verizon.com/about/news/verizon-rep...</td>\n",
       "      <td>https://www.verizon.com/about/sites/default/fi...</td>\n",
       "    </tr>\n",
       "    <tr>\n",
       "      <th>2</th>\n",
       "      <td>04.21.2022</td>\n",
       "      <td>Verizon appoints Christina Schelling leader, T...</td>\n",
       "      <td>04.22.2022|Financial|EarningsVerizon reports 1...</td>\n",
       "      <td>https://www.verizon.com/about/news/verizon-app...</td>\n",
       "      <td>https://www.verizon.com/about/sites/default/fi...</td>\n",
       "    </tr>\n",
       "    <tr>\n",
       "      <th>3</th>\n",
       "      <td>04.21.2022</td>\n",
       "      <td>Verizon to report earnings April 22, 2022</td>\n",
       "      <td>Download News Release PDFDownload Infographic ...</td>\n",
       "      <td>https://www.verizon.com/about/news/verizon-rep...</td>\n",
       "      <td></td>\n",
       "    </tr>\n",
       "    <tr>\n",
       "      <th>4</th>\n",
       "      <td>04.20.2022</td>\n",
       "      <td>HBO Max joins Verizon’s +play</td>\n",
       "      <td>04.21.2022|Financial|CorporateVerizon appoints...</td>\n",
       "      <td>https://www.verizon.com/about/news/hbo-max-joi...</td>\n",
       "      <td></td>\n",
       "    </tr>\n",
       "  </tbody>\n",
       "</table>\n",
       "</div>"
      ],
      "text/plain": [
       "         date                                              title  \\\n",
       "0  04.25.2022             Verizon makes BOPIS bigger with BOPIL    \n",
       "1  04.22.2022               Verizon reports 1Q earnings for 2022   \n",
       "2  04.21.2022  Verizon appoints Christina Schelling leader, T...   \n",
       "3  04.21.2022          Verizon to report earnings April 22, 2022   \n",
       "4  04.20.2022                      HBO Max joins Verizon’s +play   \n",
       "\n",
       "                                             article  \\\n",
       "0  04.25.2022|Products & Plans|Home & Entertainme...   \n",
       "1  BASKING RIDGE, NJ - Today’s consumers want con...   \n",
       "2  04.22.2022|Financial|EarningsVerizon reports 1...   \n",
       "3  Download News Release PDFDownload Infographic ...   \n",
       "4  04.21.2022|Financial|CorporateVerizon appoints...   \n",
       "\n",
       "                                                 url  \\\n",
       "0  https://www.verizon.com/about/news/verizon-mak...   \n",
       "1  https://www.verizon.com/about/news/verizon-rep...   \n",
       "2  https://www.verizon.com/about/news/verizon-app...   \n",
       "3  https://www.verizon.com/about/news/verizon-rep...   \n",
       "4  https://www.verizon.com/about/news/hbo-max-joi...   \n",
       "\n",
       "                                           thumbnail  \n",
       "0                                                     \n",
       "1  https://www.verizon.com/about/sites/default/fi...  \n",
       "2  https://www.verizon.com/about/sites/default/fi...  \n",
       "3                                                     \n",
       "4                                                     "
      ]
     },
     "execution_count": 7,
     "metadata": {},
     "output_type": "execute_result"
    }
   ],
   "source": [
    "#creating dataframe \n",
    "temp_df = pd.DataFrame(zipped,columns=['date','title','article','url','thumbnail'])\n",
    "temp_df.head()"
   ]
  },
  {
   "cell_type": "code",
   "execution_count": 8,
   "id": "edb50b08",
   "metadata": {
    "ExecuteTime": {
     "end_time": "2022-04-27T15:36:30.175202Z",
     "start_time": "2022-04-27T15:36:29.944996Z"
    }
   },
   "outputs": [],
   "source": [
    "#to csv\n",
    "temp_df.to_csv('salesforce news.csv')\n",
    "\n",
    "#to json\n",
    "temp_df.to_json('salesforce news.json')"
   ]
  }
 ],
 "metadata": {
  "kernelspec": {
   "display_name": "Python 3 (ipykernel)",
   "language": "python",
   "name": "python3"
  },
  "language_info": {
   "codemirror_mode": {
    "name": "ipython",
    "version": 3
   },
   "file_extension": ".py",
   "mimetype": "text/x-python",
   "name": "python",
   "nbconvert_exporter": "python",
   "pygments_lexer": "ipython3",
   "version": "3.9.7"
  },
  "toc": {
   "base_numbering": 1,
   "nav_menu": {},
   "number_sections": true,
   "sideBar": true,
   "skip_h1_title": false,
   "title_cell": "Table of Contents",
   "title_sidebar": "Contents",
   "toc_cell": false,
   "toc_position": {},
   "toc_section_display": true,
   "toc_window_display": false
  }
 },
 "nbformat": 4,
 "nbformat_minor": 5
}
