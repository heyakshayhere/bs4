{
 "cells": [
  {
   "cell_type": "markdown",
   "id": "0248afeb",
   "metadata": {},
   "source": [
    "https://www.salesforce.com/news/all-news/"
   ]
  },
  {
   "cell_type": "code",
   "execution_count": 1,
   "id": "0c1ecc6c",
   "metadata": {
    "ExecuteTime": {
     "end_time": "2022-04-26T09:21:16.364122Z",
     "start_time": "2022-04-26T09:21:15.627921Z"
    }
   },
   "outputs": [
    {
     "data": {
      "application/javascript": [
       "IPython.notebook.set_autosave_interval(1000)"
      ]
     },
     "metadata": {},
     "output_type": "display_data"
    },
    {
     "name": "stdout",
     "output_type": "stream",
     "text": [
      "Autosaving every 1 seconds\n"
     ]
    }
   ],
   "source": [
    "from selenium import webdriver\n",
    "from selenium.webdriver.common.by import By\n",
    "import sys,bs4,re,time,requests,pandas as pd\n",
    "from bs4 import BeautifulSoup\n",
    "\n",
    "import warnings\n",
    "warnings.filterwarnings(\"ignore\")\n",
    "\n",
    "%autosave 1"
   ]
  },
  {
   "cell_type": "code",
   "execution_count": 2,
   "id": "09ba7cbb",
   "metadata": {
    "ExecuteTime": {
     "end_time": "2022-04-26T09:21:19.261736Z",
     "start_time": "2022-04-26T09:21:16.365120Z"
    }
   },
   "outputs": [
    {
     "name": "stderr",
     "output_type": "stream",
     "text": [
      "\n",
      "\n",
      "====== WebDriver manager ======\n",
      "Current google-chrome version is 100.0.4896\n",
      "Get LATEST chromedriver version for 100.0.4896 google-chrome\n",
      "Driver [C:\\Users\\AKSHAY SATPUTE\\.wdm\\drivers\\chromedriver\\win32\\100.0.4896.60\\chromedriver.exe] found in cache\n"
     ]
    }
   ],
   "source": [
    "#driver for operation\n",
    "from webdriver_manager.chrome import ChromeDriverManager\n",
    "option = webdriver.ChromeOptions()\n",
    "option.add_argument('headless')\n",
    "driver = webdriver.Chrome(ChromeDriverManager().install()\n",
    "                          ,options=option\n",
    "                         )"
   ]
  },
  {
   "cell_type": "code",
   "execution_count": 3,
   "id": "81fd1118",
   "metadata": {
    "ExecuteTime": {
     "end_time": "2022-04-26T09:21:19.276696Z",
     "start_time": "2022-04-26T09:21:19.265741Z"
    }
   },
   "outputs": [],
   "source": [
    "def parse_webpage_bs(search_url):\n",
    "    headers = {\n",
    "        \"User-Agent\": \"Mozilla/5.0 (Windows NT 10.0; Win64; x64; rv:90.0) Gecko/20100101 Firefox/90.0\"}\n",
    "    try:\n",
    "        site_request = requests.get(search_url, headers=headers, timeout=10)\n",
    "    except requests.exceptions.RequestException as e:\n",
    "        print(e)\n",
    "        site_request = None\n",
    "    if site_request != None and site_request.status_code==200:\n",
    "        site_soup = bs4.BeautifulSoup(site_request.content, \"lxml\")\n",
    "    else:\n",
    "        site_soup = None\n",
    "    return site_soup"
   ]
  },
  {
   "cell_type": "code",
   "execution_count": 4,
   "id": "e9cc4629",
   "metadata": {
    "ExecuteTime": {
     "end_time": "2022-04-26T09:21:36.730083Z",
     "start_time": "2022-04-26T09:21:19.279691Z"
    }
   },
   "outputs": [
    {
     "name": "stdout",
     "output_type": "stream",
     "text": [
      "CPU times: total: 109 ms\n",
      "Wall time: 17.4 s\n"
     ]
    }
   ],
   "source": [
    "\n",
    "\n",
    "url = f'https://www.salesforce.com/news/all-news/'\n",
    "\n",
    "driver.get(url)\n",
    "\n",
    "driver.refresh()\n",
    "\n",
    "hrefs = []\n",
    "\n",
    "range_count = 10\n",
    "\n",
    "for x in range(range_count):\n",
    "    driver.implicitly_wait(100)\n",
    "    driver.find_element_by_xpath('''/html/body/main/div/div/div/div/div/span''').click()\n",
    "    print(str(range_count-(x+1)) + \" pages remaining..\",end=\"\\r\")\n",
    "\n",
    "links = driver.find_elements_by_xpath('''/html/body/main/div/div/div/div/a''')\n",
    "\n",
    "for l in links:\n",
    "    hrefs.append(l.get_attribute(\"href\"))"
   ]
  },
  {
   "cell_type": "code",
   "execution_count": 5,
   "id": "ce544555",
   "metadata": {
    "ExecuteTime": {
     "end_time": "2022-04-26T09:22:46.034911Z",
     "start_time": "2022-04-26T09:21:36.732079Z"
    },
    "scrolled": true
   },
   "outputs": [
    {
     "name": "stdout",
     "output_type": "stream",
     "text": [
      "0 url remaining....\n",
      "CPU times: total: 6.92 s\n",
      "Wall time: 1min 9s\n"
     ]
    }
   ],
   "source": [
    "\n",
    "\n",
    "articles  = []\n",
    "dates=[]\n",
    "titles=[]\n",
    "thumbnails=[]\n",
    "\n",
    "for number,link in enumerate(hrefs):\n",
    "    \n",
    "    soup = parse_webpage_bs(link)\n",
    "\n",
    "    art_containers = soup.findAll('section',{'class' :'the-content'})\n",
    "\n",
    "    for art in art_containers:\n",
    "        article = art.text\n",
    "        articles.append(article)\n",
    "\n",
    "    t_containers = soup.findAll('h1',{'class' :'hero__title'})\n",
    "\n",
    "    for t in t_containers:\n",
    "        title = t.text\n",
    "        titles.append(title)\n",
    "\n",
    "    d_containers = soup.findAll('p',{'class' :'byline__date'})\n",
    "\n",
    "    for d in d_containers:\n",
    "        date = d.text\n",
    "        dates.append(date)\n",
    "        \n",
    "    thumb_containers = soup.findAll('figure',{'class' :'wp-block-image prevent-download'})\n",
    "\n",
    "    for thumb in thumb_containers:\n",
    "        thumbnail = thumb.find('img')['src']\n",
    "        thumbnails.append(thumbnail)\n",
    "\n",
    "    print(str(len(hrefs)-(number+1)) + \" url remaining..\",end=\"\\r\")\n",
    "\n",
    "    \n",
    "print()"
   ]
  },
  {
   "cell_type": "code",
   "execution_count": 6,
   "id": "14c07e82",
   "metadata": {
    "ExecuteTime": {
     "end_time": "2022-04-26T09:22:46.050281Z",
     "start_time": "2022-04-26T09:22:46.034911Z"
    }
   },
   "outputs": [
    {
     "data": {
      "text/plain": [
       "[('April 20, 2022',\n",
       "  'Salesforce Invites Future Tech Leaders to San Francisco for New Computer Science Pre-Internship',\n",
       "  '\\n\\nAt Salesforce, we love our Futureforce interns. Every summer, they share their energy, passion and innovation with us — questioning the old way of doing things, taking on projects that have a real impact on the business, and making our employees, company, and communities better for having worked with them.\\nOur Futureforce program has helped us attract, retain, and cultivate the next generation of leaders at Salesforce, some of the most diverse and global employees at the company. We continue to invest in our interns and each year we convert up to 80% of our eligible interns to full-time employees.\\nToday, we’re proud to expand the program with Futureforce Tech Launchpad, a new pre-internship program, powered by CodePath, that will provide underrepresented students in computer science access to hands-on technical training, capstone projects, and mentorship earlier in their career journeys.\\nDeveloping the next generation of tech leaders\\nStarting in June 2022, we’ll invite 25 rising college juniors to our headquarters at Salesforce Tower in San Francisco for a 10-week, in-person experience with technical curriculum and one-on-one mentorship with Salesforce employees.\\nStudents will be introduced to full-stack web development, and gain an understanding of database, back-end code, front-end code, testing, design and deployment, culminating in a capstone project of their choosing that will be presented to Salesforce employees and peers. In addition to technical skills, students will develop soft skills, such as networking, collaboration, communication, and presentation.\\nAll of our pre-interns will receive compensation, benefits, and a relocation stipend to help maximize the experience and be immersed in the Salesforce culture. They will have opportunities to connect and collaborate with our Futureforce interns, so they can hopefully return as interns and, ultimately, as employees after graduation. And just like all of our Futureforce interns, Launchpad participants will receive paid Volunteer Time Off (VTO) to devote to causes they believe in.\\nTo bring this program to life, Salesforce is partnering with CodePath, a nonprofit committed to increasing diversity in tech by transforming college computer science education for underrepresented minorities and underserved populations. CodePath will work in partnership with more than 70 universities, including HBCUs and HSIs, as well as its community of over 10,000 students to help identify computer science and engineering students to participate in the Futureforce Tech Launchpad. CodePath will also provide the curriculum and instructors for the program.\\n“Underrepresented minority and low-income students in computer science (CS) are more likely to drop out or switch majors before their junior year, and as a result, miss out on the work experience needed to launch successful tech careers,” said Michael Ellison, CEO at CodePath. “Salesforce’s decision to launch the Futureforce Tech Launchpad demonstrates inspiring corporate leadership and represents a bold commitment to eliminate systemic inequities in both computer science education and technical recruiting for communities of color.”\\nWe look forward to welcoming, and learning from, the next generation of tech leaders this summer. We are committed to building a diverse pipeline of engineers and technical talent, and making meaningful careers in software engineering accessible to all.\\nLearn more about Futureforce Tech Launchpad and apply to be part of the program here.Read more about Salesforce’s commitment to equality here.\\n\\nShare\\n\\n\\nShare on Email\\n\\n\\n\\n\\n\\nShare on Twitter\\n\\n\\n\\n\\n\\nShare on Facebook\\n\\n\\n\\n\\n\\nShare on LinkedIn\\n\\n\\n\\n\\n\\nTags\\n\\n\\t\\t\\t\\tEquality\\t\\t\\t\\n\\n\\t\\t\\t\\tFuture of Work\\t\\t\\t\\n\\n\\t\\t\\t\\tNews Announcements: Corporate\\t\\t\\t\\n\\n',\n",
       "  'https://www.salesforce.com/news/stories/salesforce-invites-future-tech-leaders-to-san-francisco/',\n",
       "  'https://www.salesforce.com/news/wp-content/uploads/sites/3/2022/04/FutureForce-1.jpg?w=1024'),\n",
       " ('April 20, 2022',\n",
       "  'Salesforce Announces New Customer 360 for Education Capabilities to Power the Future of Learning',\n",
       "  '\\n\\nAccording to the Salesforce Connected Student Report, 58% of higher education staff say their institutions are increasing investment in supporting learners from anywhere with more flexible, personalized experiences.\\xa0The report also notes that while many students and a high percentage of staff prefer a high level of face-to face engagement, one in four students said that having more flexible courses and part-time offerings would help them succeed.With Customer 360 for Education, institutions can create their Student 360 to drive digital transformation across recruitment, admissions, the student experience, alumni relations, and marketing to deliver connected experiences from anywhere.\\n\\nAt the 10th annual Education Summit, Salesforce announced expanded offerings to help higher education institutions provide digital-first, flexible learning options; real-time and asynchronous collaboration; and personalized experiences for students, faculty, and staff. Customers such as Arizona State University (ASU) and INSEAD are already tapping into these new capabilities to meet growing student needs.\\xa0\\xa0\\n“Institutions recognize the importance of having a strong digital foundation to support the experiences that today’s students and alumni demand,” said Susan Morrow, GM for Education Cloud at Salesforce. “Customer 360 for Education enables colleges and universities of all sizes to build their Student 360 and rapidly build new programs, such as executive education and flexible learning programs.”\\nEvery Institution Can Create Their Student 360 with New Customer 360 for Education Capabilities\\nEnable digital-first, flexible experiences for the next generation of students\\xa0\\nAs reported by Salesforce’s Digital Skills Index, 76% of the workforce feels unprepared for the future of work. Additionally, according to Salesforce’s Connected Student Report, 45% of higher education staff say their institutions are implementing new business models, such as credentialing or executive education courses, to provide flexible learning options and drive new revenue streams as undergraduate enrollment rates decrease.\\xa0With Lifelong Learning, institutions can implement next-generation, digital-first experiences that make it easy for students to find tailored programs and courses. These “storefront”-style digital experiences surface programs such as elective and non-credit courses or certificates relevant to students’ interests and career growth, similar to how they experience an ecommerce site. Using Lifelong Learning, students can also access a self-service center that helps them easily add relevant courses to their purchase carts, complete registration, and manage payment all in one place.\\xa0\\n\\n\\n\\xa0Lifelong Learning powers executive, continuing, and online education programs to help institutions accelerate growth with streamlined student journeys.\\n72% of higher education staff globally said adjusting to virtual work has been a top challenge. With Digital Campus, institutions can become more connected to students, staff, and faculty with communication, collaboration, and insights tools in a single, easy-to-use, customized workspace whether they are on campus, in their living room, or traveling. With a student-centric One Stop as part of the Digital Campus, students, staff, and faculty can access on-demand support and services with easy-to-use search functions, chatbots, and live agent support.\\xa0\\n\\n\\nSupport, engage, and retain your constituents from anywhere with the Digital Campus solution built for hybrid institutions of all sizes.\\nWith Admissions Connect, institutions can streamline the admissions experience for both applicants and staff. With the Application Form Builder, admissions teams can now easily build customized, branded applications with clicks, not code. Because the forms are built using the power of the Salesforce platform, institutions can automate importing existing applicant data, such as education history, directly into the application.\\xa0\\xa0\\xa0\\nReal-time and asynchronous collaboration to support students from anywhere\\xa0\\xa0Institutions around the globe are already using Slack to improve engagement and collaboration in real time or asynchronously. Now, with Student Success Alerts powered by Slack, faculty and staff can more efficiently support students and streamline communication between faculty and student-support staff in today’s education-from-anywhere world. For example, faculty can quickly raise alerts about at-risk students from an easy-to-use Slack app that feeds directly into Student Success Hub, streamlining communication between frontline faculty and instructors.\\n\\nOpen Image ModalWith Student Success Alerts, faculty and staff can use Slack to deliver student support fast with an app that feeds directly into Student Success Hub.\\nImage Modal\\nWith Student Success Alerts, faculty and staff can use Slack to deliver student support fast with an app that feeds directly into Student Success Hub.\\n\\nPersonalize student and alumni relationships\\nDigital Marketing and Engagement helps institutions deliver personalized content, such as targeted onboarding journeys for new students, that foster a greater feeling of belonging in an online environment. For example, institutions can create tailored messaging and reminders — such as tips for moving into a specific dorm or ways to connect with students in the same major, virtually — as part of onboarding journeys.Relationship-Driven Fundraising makes it easy for institutions to identify alumni for targeted fundraising campaigns and create more personalized and engaging online giving experiences.\\nCustomers like ASU and INSEAD are innovating for the future\\xa0\\nWith Customer 360 for Education, ASU is creating lifelong student relationships from prospective students to engaged alumni. The university is putting their customers at the center of the ASU experience with flexible learning options across campus, online, or via a hybrid approach.\\xa0“A big part of what makes ASU innovative is its commitment to, and energy for, scale and growth. Among a suite of tools, a platform like Salesforce supports that ambition,” said Lev Gonick, Chief Information Officer at ASU. “We contextualize innovation and apply it to purpose — a lot of the work we’ve done with Salesforce is informed by joining technology, innovation and student success.”\\xa0\\nRecognizing that many prospective students are balancing careers in addition to returning to school, INSEAD needed to deliver a hyper-personalized recruitment experience for its more than 20,000 executives globally. INSEAD also uses Customer 360 for Education to manage its entire recruitment experience from one unified platform.“As hybrid learning becomes the norm, personal connections are as crucial in executive education as they are in the workplace,” said Séverine Guilloux, Executive Director of Open Programmes and Online Learning Innovation at INSEAD. “With Customer 360 for Education, we can deliver connected learning journeys with a personal touch and create long-lasting relationships with our participants and community of students.”\\nMore information\\xa0\\nExplore the Future Ready Playbook to learn how institutions can evolve with new business models and student experiences.\\xa0Find out more about Digital Campus and Lifelong Learning.\\xa0Watch a demo featuring our Student Success product innovations.Read the Second Edition Connected Student Report to uncover the latest insights and global higher education trends from over 2,000 students and staff.\\n\\n\\nShare\\n\\n\\nShare on Email\\n\\n\\n\\n\\n\\nShare on Twitter\\n\\n\\n\\n\\n\\nShare on Facebook\\n\\n\\n\\n\\n\\nShare on LinkedIn\\n\\n\\n\\n\\n\\nTags\\n\\n\\t\\t\\t\\tDigital Transformation\\t\\t\\t\\n\\n\\t\\t\\t\\tIndustry Solutions\\t\\t\\t\\n\\n\\t\\t\\t\\tNews Announcements: Product\\t\\t\\t\\n\\n',\n",
       "  'https://www.salesforce.com/news/stories/salesforce-announces-new-customer-360-for-education-capabilities/',\n",
       "  'https://www.salesforce.com/news/wp-content/uploads/sites/3/2022/04/EducationSummit.jpg?w=1024'),\n",
       " ('April 19, 2022',\n",
       "  'Salesforce Hits Half a Billion Dollars in All-Time Giving',\n",
       "  '\\n\\nSalesforce has reached over half a billion dollars in all-time philanthropic giving — a total of $532 million in grants since its founding. Salesforce also surpassed $100 million in annual giving in the 2022 fiscal year — a first for the company.\\xa0\\n“This is an incredible milestone for our team, and a testament to how our 1-1-1 model has evolved and increased in impact as our company has grown,” said Rebecca Ferguson, SVP of Philanthropy, Salesforce. “As we look ahead, we will continue to iterate on how we give and work with our partners on the ground who are finding solutions to key issues in our communities.”\\n\\nOpen Image Modal\\nImage Modal\\n\\n\\nSalesforce’s growth helps drive giving efforts\\nBy giving 1% of equity, product, and employee time back to its communities, Salesforce’s ability to give is directly tied to company growth. With overall revenue up 26% year-over-year, the ways in which Salesforce is able to give continues to expand.\\xa0\\nIn addition to monetary giving, more than 54,000 nonprofits and education organizations have received free or discounted product from Salesforce.org, and Salesforce employees have given over 6.7 million volunteer hours to their communities.\\nSalesforce’s giving goes further as company acquisitions boost giving\\nAs the company grows through acquisitions, philanthropic reach grows even wider:\\nSince its founding in 2014, Tableau Foundation has contributed nearly $100 million in software services and financial support to nearly 11,000 organizations working in more than 125 countries.\\xa0In 2021, Slack donated $54 million to the Salesforce Foundation to support community investments.\\xa0MuleSoft employees have donated $988,000 in all-time giving.\\nMore information\\nLearn about Salesforce’s approach to philanthropy.\\xa0Hear from Salesforce SVP of Philanthropy Naomi Morenzoni.\\xa0Join Salesforce’s efforts by learning about Pledge 1%.Learn more about Salesforce volunteer and giving programs here.\\n\\nShare\\n\\n\\nShare on Email\\n\\n\\n\\n\\n\\nShare on Twitter\\n\\n\\n\\n\\n\\nShare on Facebook\\n\\n\\n\\n\\n\\nShare on LinkedIn\\n\\n\\n\\n\\n\\nTags\\n\\n\\t\\t\\t\\tBusiness as a Platform for Change\\t\\t\\t\\n\\n\\t\\t\\t\\tNews Announcements: Corporate\\t\\t\\t\\n\\n\\t\\t\\t\\tPhilanthropy\\t\\t\\t\\n\\n',\n",
       "  'https://www.salesforce.com/news/stories/salesforce-hits-half-a-billion-dollars-in-all-time-giving/',\n",
       "  'https://www.salesforce.com/news/wp-content/uploads/sites/3/2022/04/Philanthropy.jpg?w=1024')]"
      ]
     },
     "execution_count": 6,
     "metadata": {},
     "output_type": "execute_result"
    }
   ],
   "source": [
    "#zippling the list so that it'll form the tuple\n",
    "zipped = list(zip(dates,titles,articles,hrefs,thumbnails))\n",
    "zipped[:3]"
   ]
  },
  {
   "cell_type": "code",
   "execution_count": 7,
   "id": "5eae020a",
   "metadata": {
    "ExecuteTime": {
     "end_time": "2022-04-26T09:22:46.082166Z",
     "start_time": "2022-04-26T09:22:46.053245Z"
    }
   },
   "outputs": [
    {
     "data": {
      "text/html": [
       "<div>\n",
       "<style scoped>\n",
       "    .dataframe tbody tr th:only-of-type {\n",
       "        vertical-align: middle;\n",
       "    }\n",
       "\n",
       "    .dataframe tbody tr th {\n",
       "        vertical-align: top;\n",
       "    }\n",
       "\n",
       "    .dataframe thead th {\n",
       "        text-align: right;\n",
       "    }\n",
       "</style>\n",
       "<table border=\"1\" class=\"dataframe\">\n",
       "  <thead>\n",
       "    <tr style=\"text-align: right;\">\n",
       "      <th></th>\n",
       "      <th>date</th>\n",
       "      <th>title</th>\n",
       "      <th>article</th>\n",
       "      <th>url</th>\n",
       "      <th>thumbnail</th>\n",
       "    </tr>\n",
       "  </thead>\n",
       "  <tbody>\n",
       "    <tr>\n",
       "      <th>0</th>\n",
       "      <td>April 20, 2022</td>\n",
       "      <td>Salesforce Invites Future Tech Leaders to San ...</td>\n",
       "      <td>\\n\\nAt Salesforce, we love our Futureforce int...</td>\n",
       "      <td>https://www.salesforce.com/news/stories/salesf...</td>\n",
       "      <td>https://www.salesforce.com/news/wp-content/upl...</td>\n",
       "    </tr>\n",
       "    <tr>\n",
       "      <th>1</th>\n",
       "      <td>April 20, 2022</td>\n",
       "      <td>Salesforce Announces New Customer 360 for Educ...</td>\n",
       "      <td>\\n\\nAccording to the Salesforce Connected Stud...</td>\n",
       "      <td>https://www.salesforce.com/news/stories/salesf...</td>\n",
       "      <td>https://www.salesforce.com/news/wp-content/upl...</td>\n",
       "    </tr>\n",
       "    <tr>\n",
       "      <th>2</th>\n",
       "      <td>April 19, 2022</td>\n",
       "      <td>Salesforce Hits Half a Billion Dollars in All-...</td>\n",
       "      <td>\\n\\nSalesforce has reached over half a billion...</td>\n",
       "      <td>https://www.salesforce.com/news/stories/salesf...</td>\n",
       "      <td>https://www.salesforce.com/news/wp-content/upl...</td>\n",
       "    </tr>\n",
       "    <tr>\n",
       "      <th>3</th>\n",
       "      <td>April 13, 2022</td>\n",
       "      <td>Salesforce Launches New Initiatives to Grow Su...</td>\n",
       "      <td>\\n\\nSalesforce and global environmental NGOs w...</td>\n",
       "      <td>https://www.salesforce.com/news/stories/salesf...</td>\n",
       "      <td>https://www.salesforce.com/news/wp-content/upl...</td>\n",
       "    </tr>\n",
       "    <tr>\n",
       "      <th>4</th>\n",
       "      <td>April 12, 2022</td>\n",
       "      <td>Eurotunnel and Salesforce Team up to Power Dig...</td>\n",
       "      <td>\\n\\nEurotunnel today announced a partnership w...</td>\n",
       "      <td>https://www.salesforce.com/news/stories/eurotu...</td>\n",
       "      <td>https://www.salesforce.com/news/wp-content/upl...</td>\n",
       "    </tr>\n",
       "    <tr>\n",
       "      <th>...</th>\n",
       "      <td>...</td>\n",
       "      <td>...</td>\n",
       "      <td>...</td>\n",
       "      <td>...</td>\n",
       "      <td>...</td>\n",
       "    </tr>\n",
       "    <tr>\n",
       "      <th>91</th>\n",
       "      <td>September 20, 2021</td>\n",
       "      <td>Salesforce Announces 2021 Partner Innovation A...</td>\n",
       "      <td>\\n\\nWe describe the Salesforce partner ecosyst...</td>\n",
       "      <td>https://www.salesforce.com/news/stories/salesf...</td>\n",
       "      <td>https://www.salesforce.com/news/wp-content/upl...</td>\n",
       "    </tr>\n",
       "    <tr>\n",
       "      <th>92</th>\n",
       "      <td>September 20, 2021</td>\n",
       "      <td>Salesforce Gives $19M to Schools</td>\n",
       "      <td>\\n\\nGrants support five school districts acros...</td>\n",
       "      <td>https://www.salesforce.com/news/stories/salesf...</td>\n",
       "      <td>https://www.salesforce.com/news/wp-content/upl...</td>\n",
       "    </tr>\n",
       "    <tr>\n",
       "      <th>93</th>\n",
       "      <td>September 20, 2021</td>\n",
       "      <td>New Study Finds Salesforce Economy Will Create...</td>\n",
       "      <td>\\n\\nSalesforce partner ecosystem on track to g...</td>\n",
       "      <td>https://www.salesforce.com/news/press-releases...</td>\n",
       "      <td>https://www.salesforce.com/news/wp-content/upl...</td>\n",
       "    </tr>\n",
       "    <tr>\n",
       "      <th>94</th>\n",
       "      <td>September 17, 2021</td>\n",
       "      <td>New IDC Report Examines Salesforce’s ‘Gold Sta...</td>\n",
       "      <td>\\n\\nAccording to a new IDC report, “Salesforce...</td>\n",
       "      <td>https://www.salesforce.com/news/stories/salesf...</td>\n",
       "      <td>https://www.salesforce.com/news/wp-content/upl...</td>\n",
       "    </tr>\n",
       "    <tr>\n",
       "      <th>95</th>\n",
       "      <td>September 17, 2021</td>\n",
       "      <td>Salesforce Supports Climate Investments Outlin...</td>\n",
       "      <td>\\n\\nSalesforce believes that the United States...</td>\n",
       "      <td>https://www.salesforce.com/news/stories/salesf...</td>\n",
       "      <td>https://www.salesforce.com/news/wp-content/upl...</td>\n",
       "    </tr>\n",
       "  </tbody>\n",
       "</table>\n",
       "<p>96 rows × 5 columns</p>\n",
       "</div>"
      ],
      "text/plain": [
       "                  date                                              title  \\\n",
       "0       April 20, 2022  Salesforce Invites Future Tech Leaders to San ...   \n",
       "1       April 20, 2022  Salesforce Announces New Customer 360 for Educ...   \n",
       "2       April 19, 2022  Salesforce Hits Half a Billion Dollars in All-...   \n",
       "3       April 13, 2022  Salesforce Launches New Initiatives to Grow Su...   \n",
       "4       April 12, 2022  Eurotunnel and Salesforce Team up to Power Dig...   \n",
       "..                 ...                                                ...   \n",
       "91  September 20, 2021  Salesforce Announces 2021 Partner Innovation A...   \n",
       "92  September 20, 2021                   Salesforce Gives $19M to Schools   \n",
       "93  September 20, 2021  New Study Finds Salesforce Economy Will Create...   \n",
       "94  September 17, 2021  New IDC Report Examines Salesforce’s ‘Gold Sta...   \n",
       "95  September 17, 2021  Salesforce Supports Climate Investments Outlin...   \n",
       "\n",
       "                                              article  \\\n",
       "0   \\n\\nAt Salesforce, we love our Futureforce int...   \n",
       "1   \\n\\nAccording to the Salesforce Connected Stud...   \n",
       "2   \\n\\nSalesforce has reached over half a billion...   \n",
       "3   \\n\\nSalesforce and global environmental NGOs w...   \n",
       "4   \\n\\nEurotunnel today announced a partnership w...   \n",
       "..                                                ...   \n",
       "91  \\n\\nWe describe the Salesforce partner ecosyst...   \n",
       "92  \\n\\nGrants support five school districts acros...   \n",
       "93  \\n\\nSalesforce partner ecosystem on track to g...   \n",
       "94  \\n\\nAccording to a new IDC report, “Salesforce...   \n",
       "95  \\n\\nSalesforce believes that the United States...   \n",
       "\n",
       "                                                  url  \\\n",
       "0   https://www.salesforce.com/news/stories/salesf...   \n",
       "1   https://www.salesforce.com/news/stories/salesf...   \n",
       "2   https://www.salesforce.com/news/stories/salesf...   \n",
       "3   https://www.salesforce.com/news/stories/salesf...   \n",
       "4   https://www.salesforce.com/news/stories/eurotu...   \n",
       "..                                                ...   \n",
       "91  https://www.salesforce.com/news/stories/salesf...   \n",
       "92  https://www.salesforce.com/news/stories/salesf...   \n",
       "93  https://www.salesforce.com/news/press-releases...   \n",
       "94  https://www.salesforce.com/news/stories/salesf...   \n",
       "95  https://www.salesforce.com/news/stories/salesf...   \n",
       "\n",
       "                                            thumbnail  \n",
       "0   https://www.salesforce.com/news/wp-content/upl...  \n",
       "1   https://www.salesforce.com/news/wp-content/upl...  \n",
       "2   https://www.salesforce.com/news/wp-content/upl...  \n",
       "3   https://www.salesforce.com/news/wp-content/upl...  \n",
       "4   https://www.salesforce.com/news/wp-content/upl...  \n",
       "..                                                ...  \n",
       "91  https://www.salesforce.com/news/wp-content/upl...  \n",
       "92  https://www.salesforce.com/news/wp-content/upl...  \n",
       "93  https://www.salesforce.com/news/wp-content/upl...  \n",
       "94  https://www.salesforce.com/news/wp-content/upl...  \n",
       "95  https://www.salesforce.com/news/wp-content/upl...  \n",
       "\n",
       "[96 rows x 5 columns]"
      ]
     },
     "execution_count": 7,
     "metadata": {},
     "output_type": "execute_result"
    }
   ],
   "source": [
    "#creating dataframe \n",
    "temp_df = pd.DataFrame(zipped,columns=['date','title','article','url','thumbnail'])\n",
    "temp_df"
   ]
  },
  {
   "cell_type": "code",
   "execution_count": 8,
   "id": "5805db3b",
   "metadata": {
    "ExecuteTime": {
     "end_time": "2022-04-26T09:22:46.167299Z",
     "start_time": "2022-04-26T09:22:46.083166Z"
    }
   },
   "outputs": [],
   "source": [
    "#to csv\n",
    "temp_df.to_csv('salesforce news.csv')\n",
    "\n",
    "#to json\n",
    "temp_df.to_json('salesforce news.json')"
   ]
  }
 ],
 "metadata": {
  "kernelspec": {
   "display_name": "Python 3 (ipykernel)",
   "language": "python",
   "name": "python3"
  },
  "language_info": {
   "codemirror_mode": {
    "name": "ipython",
    "version": 3
   },
   "file_extension": ".py",
   "mimetype": "text/x-python",
   "name": "python",
   "nbconvert_exporter": "python",
   "pygments_lexer": "ipython3",
   "version": "3.9.7"
  },
  "toc": {
   "base_numbering": 1,
   "nav_menu": {},
   "number_sections": true,
   "sideBar": true,
   "skip_h1_title": false,
   "title_cell": "Table of Contents",
   "title_sidebar": "Contents",
   "toc_cell": false,
   "toc_position": {},
   "toc_section_display": true,
   "toc_window_display": false
  }
 },
 "nbformat": 4,
 "nbformat_minor": 5
}
