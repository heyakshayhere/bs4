{
 "cells": [
  {
   "cell_type": "code",
   "execution_count": 1,
   "id": "dc49f070",
   "metadata": {
    "ExecuteTime": {
     "end_time": "2022-05-18T14:14:01.124314Z",
     "start_time": "2022-05-18T14:14:00.560274Z"
    }
   },
   "outputs": [],
   "source": [
    "import pandas as pd,requests\n",
    "\n",
    "import warnings\n",
    "warnings.filterwarnings(\"ignore\")"
   ]
  },
  {
   "cell_type": "code",
   "execution_count": 2,
   "id": "13e43dd4",
   "metadata": {
    "ExecuteTime": {
     "end_time": "2022-05-18T14:14:01.139398Z",
     "start_time": "2022-05-18T14:14:01.125292Z"
    }
   },
   "outputs": [],
   "source": [
    "def parse_webpage_api(search_url):\n",
    "    try:\n",
    "        req = requests.get(search_url)\n",
    "        data = req.json()\n",
    "        return data\n",
    "    except:\n",
    "        return []"
   ]
  },
  {
   "cell_type": "code",
   "execution_count": 3,
   "id": "bfed2469",
   "metadata": {
    "ExecuteTime": {
     "end_time": "2022-05-18T14:14:01.155302Z",
     "start_time": "2022-05-18T14:14:01.142329Z"
    }
   },
   "outputs": [],
   "source": [
    "def remove_esc_chars(text):\n",
    "    return text.replace(\"\\n\", \" \").replace(\"\\t\", \" \").replace(\"\\r\", \" \")"
   ]
  },
  {
   "cell_type": "code",
   "execution_count": 4,
   "id": "63c298cf",
   "metadata": {
    "ExecuteTime": {
     "end_time": "2022-05-18T14:14:06.602720Z",
     "start_time": "2022-05-18T14:14:01.157296Z"
    }
   },
   "outputs": [
    {
     "name": "stdout",
     "output_type": "stream",
     "text": [
      "0 pages remaining...\r"
     ]
    }
   ],
   "source": [
    "article_list = []\n",
    "\n",
    "pagination = 0 \n",
    "while True:\n",
    "    url = f\"https://www.foxconn.com/api/en-us/news?page={pagination}\"\n",
    "    data = parse_webpage_api(url)\n",
    "    last_page = data['last_page']\n",
    "    if data != None:\n",
    "        elements = data['data']\n",
    "        for element in elements:\n",
    "            title = element['title'].strip()\n",
    "            thumbnail = element['thumbnail'].strip()\n",
    "            content = element['content'].strip()\n",
    "            text = remove_esc_chars(content)\n",
    "            published_date = element['published_date'].strip()\n",
    "            link = (\"https://www.foxconn.com/en-us/press-center/press-releases/latest-news/\" + str(element ['id'])).strip()\n",
    "            article = (published_date,title,text,link,thumbnail)\n",
    "            article_list.append(article)\n",
    "    print(str(last_page-(pagination+1)) + \" pages remaining..\",end=\"\\r\")\n",
    "    \n",
    "    pagination +=1\n",
    "    if pagination >= last_page:\n",
    "        break"
   ]
  },
  {
   "cell_type": "code",
   "execution_count": 5,
   "id": "4031c4bd",
   "metadata": {
    "ExecuteTime": {
     "end_time": "2022-05-18T14:14:06.634674Z",
     "start_time": "2022-05-18T14:14:06.605713Z"
    }
   },
   "outputs": [
    {
     "data": {
      "text/html": [
       "<div>\n",
       "<style scoped>\n",
       "    .dataframe tbody tr th:only-of-type {\n",
       "        vertical-align: middle;\n",
       "    }\n",
       "\n",
       "    .dataframe tbody tr th {\n",
       "        vertical-align: top;\n",
       "    }\n",
       "\n",
       "    .dataframe thead th {\n",
       "        text-align: right;\n",
       "    }\n",
       "</style>\n",
       "<table border=\"1\" class=\"dataframe\">\n",
       "  <thead>\n",
       "    <tr style=\"text-align: right;\">\n",
       "      <th></th>\n",
       "      <th>date</th>\n",
       "      <th>title</th>\n",
       "      <th>article</th>\n",
       "      <th>url</th>\n",
       "      <th>thumbnail</th>\n",
       "    </tr>\n",
       "  </thead>\n",
       "  <tbody>\n",
       "    <tr>\n",
       "      <th>0</th>\n",
       "      <td>2021/11/11</td>\n",
       "      <td>Foxconn and Lordstown Motors Enter Into a Tran...</td>\n",
       "      <td>Lordstown Motors Corp. (“Lordstown Motors” or ...</td>\n",
       "      <td>https://www.foxconn.com/en-us/press-center/pre...</td>\n",
       "      <td>https://image.honhai.com/news/DSC05912.jpg</td>\n",
       "    </tr>\n",
       "    <tr>\n",
       "      <th>1</th>\n",
       "      <td>2021/11/09</td>\n",
       "      <td>Hon Hai Tech Day (HHTD) 3D Virtual Showroom pl...</td>\n",
       "      <td>Hon Hai Tech Day (HHTD) will be showcasing on ...</td>\n",
       "      <td>https://www.foxconn.com/en-us/press-center/pre...</td>\n",
       "      <td>https://image.honhai.com/news/XR_2_1636426154.png</td>\n",
       "    </tr>\n",
       "    <tr>\n",
       "      <th>2</th>\n",
       "      <td>2021/10/18</td>\n",
       "      <td>Hon Hai Sets Sights on Driving Software Applic...</td>\n",
       "      <td>Announces the establishment of Software R&amp;D Ce...</td>\n",
       "      <td>https://www.foxconn.com/en-us/press-center/pre...</td>\n",
       "      <td>https://image.honhai.com/news/1T2A5818_1634549...</td>\n",
       "    </tr>\n",
       "    <tr>\n",
       "      <th>3</th>\n",
       "      <td>2021/10/18</td>\n",
       "      <td>Hon Hai Debuts Three Self-Developed Electric V...</td>\n",
       "      <td>Officially Unveils Global Flagship Models with...</td>\n",
       "      <td>https://www.foxconn.com/en-us/press-center/pre...</td>\n",
       "      <td>https://image.honhai.com/news/Model_E是鴻海科技集團與義...</td>\n",
       "    </tr>\n",
       "    <tr>\n",
       "      <th>4</th>\n",
       "      <td>2021/10/13</td>\n",
       "      <td>Hon Hai Tech Day Live streaming!</td>\n",
       "      <td></td>\n",
       "      <td>https://www.foxconn.com/en-us/press-center/pre...</td>\n",
       "      <td></td>\n",
       "    </tr>\n",
       "    <tr>\n",
       "      <th>...</th>\n",
       "      <td>...</td>\n",
       "      <td>...</td>\n",
       "      <td>...</td>\n",
       "      <td>...</td>\n",
       "      <td>...</td>\n",
       "    </tr>\n",
       "    <tr>\n",
       "      <th>190</th>\n",
       "      <td>2013/08/13</td>\n",
       "      <td>Board of Directors approved Financial Statemen...</td>\n",
       "      <td>Date of occurrence of the event:2013/08/13 Com...</td>\n",
       "      <td>https://www.foxconn.com/en-us/press-center/pre...</td>\n",
       "      <td></td>\n",
       "    </tr>\n",
       "    <tr>\n",
       "      <th>191</th>\n",
       "      <td>2013/08/09</td>\n",
       "      <td>Hon Hai Announces Un-Audited Monthly Sales End...</td>\n",
       "      <td>Starting from 2013, the company began implemen...</td>\n",
       "      <td>https://www.foxconn.com/en-us/press-center/pre...</td>\n",
       "      <td></td>\n",
       "    </tr>\n",
       "    <tr>\n",
       "      <th>192</th>\n",
       "      <td>2013/07/10</td>\n",
       "      <td>Hon Hai Announces Un-Audited Monthly Sales End...</td>\n",
       "      <td>Starting from 2013, the company began implemen...</td>\n",
       "      <td>https://www.foxconn.com/en-us/press-center/pre...</td>\n",
       "      <td></td>\n",
       "    </tr>\n",
       "    <tr>\n",
       "      <th>193</th>\n",
       "      <td>2013/06/10</td>\n",
       "      <td>Hon Hai Announces Un-Audited Monthly Sales End...</td>\n",
       "      <td>Starting from 2013, the company began implemen...</td>\n",
       "      <td>https://www.foxconn.com/en-us/press-center/pre...</td>\n",
       "      <td></td>\n",
       "    </tr>\n",
       "    <tr>\n",
       "      <th>194</th>\n",
       "      <td>2013/05/14</td>\n",
       "      <td>Board of Directors approved Financial Statemen...</td>\n",
       "      <td>Date of occurrence of the event:2013/05/14 Com...</td>\n",
       "      <td>https://www.foxconn.com/en-us/press-center/pre...</td>\n",
       "      <td></td>\n",
       "    </tr>\n",
       "  </tbody>\n",
       "</table>\n",
       "<p>195 rows × 5 columns</p>\n",
       "</div>"
      ],
      "text/plain": [
       "           date                                              title  \\\n",
       "0    2021/11/11  Foxconn and Lordstown Motors Enter Into a Tran...   \n",
       "1    2021/11/09  Hon Hai Tech Day (HHTD) 3D Virtual Showroom pl...   \n",
       "2    2021/10/18  Hon Hai Sets Sights on Driving Software Applic...   \n",
       "3    2021/10/18  Hon Hai Debuts Three Self-Developed Electric V...   \n",
       "4    2021/10/13                   Hon Hai Tech Day Live streaming!   \n",
       "..          ...                                                ...   \n",
       "190  2013/08/13  Board of Directors approved Financial Statemen...   \n",
       "191  2013/08/09  Hon Hai Announces Un-Audited Monthly Sales End...   \n",
       "192  2013/07/10  Hon Hai Announces Un-Audited Monthly Sales End...   \n",
       "193  2013/06/10  Hon Hai Announces Un-Audited Monthly Sales End...   \n",
       "194  2013/05/14  Board of Directors approved Financial Statemen...   \n",
       "\n",
       "                                               article  \\\n",
       "0    Lordstown Motors Corp. (“Lordstown Motors” or ...   \n",
       "1    Hon Hai Tech Day (HHTD) will be showcasing on ...   \n",
       "2    Announces the establishment of Software R&D Ce...   \n",
       "3    Officially Unveils Global Flagship Models with...   \n",
       "4                                                        \n",
       "..                                                 ...   \n",
       "190  Date of occurrence of the event:2013/08/13 Com...   \n",
       "191  Starting from 2013, the company began implemen...   \n",
       "192  Starting from 2013, the company began implemen...   \n",
       "193  Starting from 2013, the company began implemen...   \n",
       "194  Date of occurrence of the event:2013/05/14 Com...   \n",
       "\n",
       "                                                   url  \\\n",
       "0    https://www.foxconn.com/en-us/press-center/pre...   \n",
       "1    https://www.foxconn.com/en-us/press-center/pre...   \n",
       "2    https://www.foxconn.com/en-us/press-center/pre...   \n",
       "3    https://www.foxconn.com/en-us/press-center/pre...   \n",
       "4    https://www.foxconn.com/en-us/press-center/pre...   \n",
       "..                                                 ...   \n",
       "190  https://www.foxconn.com/en-us/press-center/pre...   \n",
       "191  https://www.foxconn.com/en-us/press-center/pre...   \n",
       "192  https://www.foxconn.com/en-us/press-center/pre...   \n",
       "193  https://www.foxconn.com/en-us/press-center/pre...   \n",
       "194  https://www.foxconn.com/en-us/press-center/pre...   \n",
       "\n",
       "                                             thumbnail  \n",
       "0           https://image.honhai.com/news/DSC05912.jpg  \n",
       "1    https://image.honhai.com/news/XR_2_1636426154.png  \n",
       "2    https://image.honhai.com/news/1T2A5818_1634549...  \n",
       "3    https://image.honhai.com/news/Model_E是鴻海科技集團與義...  \n",
       "4                                                       \n",
       "..                                                 ...  \n",
       "190                                                     \n",
       "191                                                     \n",
       "192                                                     \n",
       "193                                                     \n",
       "194                                                     \n",
       "\n",
       "[195 rows x 5 columns]"
      ]
     },
     "execution_count": 5,
     "metadata": {},
     "output_type": "execute_result"
    }
   ],
   "source": [
    "temp_df = pd.DataFrame(article_list,columns=['date','title','article','url','thumbnail'])\n",
    "temp_df"
   ]
  },
  {
   "cell_type": "code",
   "execution_count": 6,
   "id": "e7d9caf7",
   "metadata": {
    "ExecuteTime": {
     "end_time": "2022-05-18T14:14:06.695500Z",
     "start_time": "2022-05-18T14:14:06.636633Z"
    }
   },
   "outputs": [],
   "source": [
    "#to csv\n",
    "temp_df.to_csv('foxconn news.csv')\n",
    "\n",
    "#to json\n",
    "temp_df.to_json('foxconn news.json')"
   ]
  }
 ],
 "metadata": {
  "kernelspec": {
   "display_name": "Python 3 (ipykernel)",
   "language": "python",
   "name": "python3"
  },
  "language_info": {
   "codemirror_mode": {
    "name": "ipython",
    "version": 3
   },
   "file_extension": ".py",
   "mimetype": "text/x-python",
   "name": "python",
   "nbconvert_exporter": "python",
   "pygments_lexer": "ipython3",
   "version": "3.9.7"
  },
  "toc": {
   "base_numbering": 1,
   "nav_menu": {},
   "number_sections": true,
   "sideBar": true,
   "skip_h1_title": false,
   "title_cell": "Table of Contents",
   "title_sidebar": "Contents",
   "toc_cell": false,
   "toc_position": {},
   "toc_section_display": true,
   "toc_window_display": false
  }
 },
 "nbformat": 4,
 "nbformat_minor": 5
}
