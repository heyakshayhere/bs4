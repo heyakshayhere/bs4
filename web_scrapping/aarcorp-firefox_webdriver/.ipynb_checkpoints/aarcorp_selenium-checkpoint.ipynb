{
 "cells": [
  {
   "cell_type": "markdown",
   "id": "36b3b26d",
   "metadata": {},
   "source": [
    "**URL :**\n",
    "\n",
    "https://www.aarcorp.com/news/?F_All=y"
   ]
  },
  {
   "cell_type": "code",
   "execution_count": 1,
   "id": "952cdf92",
   "metadata": {
    "ExecuteTime": {
     "end_time": "2022-07-07T17:36:46.791945Z",
     "start_time": "2022-07-07T17:36:40.226862Z"
    },
    "code_folding": [
     0
    ]
   },
   "outputs": [
    {
     "data": {
      "application/javascript": [
       "IPython.notebook.set_autosave_interval(1000)"
      ]
     },
     "metadata": {},
     "output_type": "display_data"
    },
    {
     "name": "stdout",
     "output_type": "stream",
     "text": [
      "Autosaving every 1 seconds\n"
     ]
    }
   ],
   "source": [
    "#libraries\n",
    "import os \n",
    "os.environ['KMP_DUPLICATE_LIB_OK']='True'\n",
    "\n",
    "import pandas as pd,requests,bs4,re,time,io,pytesseract,easyocr,random,textstat,urllib.request\n",
    "from pdfminer.high_level import extract_text\n",
    "from PIL import Image\n",
    "from pathlib import Path\n",
    "from pdf2image import convert_from_path\n",
    "from selenium.webdriver.common.by import By\n",
    "from selenium.webdriver.common.keys import Keys\n",
    "from goose3 import Goose\n",
    "from datetime import datetime\n",
    "from bs4 import BeautifulSoup\n",
    "from selenium import webdriver\n",
    "from tqdm.auto import tqdm\n",
    "\n",
    "reader = easyocr.Reader(['en'])\n",
    "\n",
    "import warnings\n",
    "warnings.filterwarnings(\"ignore\")\n",
    "\n",
    "%autosave 1"
   ]
  },
  {
   "cell_type": "code",
   "execution_count": 2,
   "id": "a45000f5",
   "metadata": {
    "ExecuteTime": {
     "end_time": "2022-07-07T17:36:53.199169Z",
     "start_time": "2022-07-07T17:36:46.791945Z"
    },
    "code_folding": [
     0
    ],
    "scrolled": true
   },
   "outputs": [
    {
     "name": "stderr",
     "output_type": "stream",
     "text": [
      "\n",
      "\n",
      "====== WebDriver manager ======\n",
      "Current firefox version is 102.0\n",
      "Get LATEST geckodriver version for 102.0 firefox\n",
      "Driver [C:\\Users\\AKSHAY SATPUTE\\.wdm\\drivers\\geckodriver\\win64\\v0.31.0\\geckodriver.exe] found in cache\n"
     ]
    }
   ],
   "source": [
    "#driver for operation\n",
    "from webdriver_manager.firefox import GeckoDriverManager\n",
    "driver = webdriver.Firefox(executable_path=GeckoDriverManager().install())"
   ]
  },
  {
   "cell_type": "code",
   "execution_count": 3,
   "id": "81a484ed",
   "metadata": {
    "ExecuteTime": {
     "end_time": "2022-07-07T17:36:53.215846Z",
     "start_time": "2022-07-07T17:36:53.201163Z"
    },
    "code_folding": [
     0
    ]
   },
   "outputs": [],
   "source": [
    "#site name ,domain , site link\n",
    "SITE_NAME='aarcorp'\n",
    "\n",
    "DOMAIN = \"https://www.aarcorp.com/\"\n",
    "\n",
    "SITE_LINK = \"https://www.aarcorp.com/news/?F_All=y\""
   ]
  },
  {
   "cell_type": "code",
   "execution_count": 4,
   "id": "3ea089cc",
   "metadata": {
    "ExecuteTime": {
     "end_time": "2022-07-07T17:36:53.246096Z",
     "start_time": "2022-07-07T17:36:53.218837Z"
    },
    "code_folding": [
     0,
     1,
     7
    ]
   },
   "outputs": [],
   "source": [
    "#functions\n",
    "def remove_esc_chars(string):\n",
    "    review = re.sub('''[^a-zA-Z0-9!\"#$%&'()*+,-./:;<=>?@[\\]^_`{|}~°]''', ' ',string)\n",
    "    review = review.split()\n",
    "    review = ' '.join(review)\n",
    "    return review\n",
    "\n",
    "def get_text_thumb(link): \n",
    "    try:\n",
    "        driver.get(link)\n",
    "        thumb = \"https://www.aarcorp.com/cms/images/layout/printlogo.png\"\n",
    "        ps = driver.find_element(By.XPATH,'''//*[@id=\"main\"]/main/section''').text.strip()\n",
    "        text = remove_esc_chars(ps).strip()\n",
    "    except:\n",
    "        thumb = \"https://www.aarcorp.com/cms/images/layout/printlogo.png\"\n",
    "        g = Goose()\n",
    "        article_extract = g.extract(url=link)\n",
    "        article = remove_esc_chars(article_extract.cleaned_text)\n",
    "        meta_data = remove_esc_chars(article_extract.meta_description)\n",
    "        whole_data = meta_data+article\n",
    "        text = whole_data.strip()\n",
    "\n",
    "        if textstat.lexicon_count(text, removepunct=True) < 5:\n",
    "            try:\n",
    "                response = requests.get(link)\n",
    "                text = remove_esc_chars(extract_text(io.BytesIO(response.content)))\n",
    "\n",
    "                if textstat.lexicon_count(text, removepunct=True) < 5:\n",
    "                    texts = \"\"\n",
    "                    r = requests.get(link)\n",
    "                    filename = Path('temp.pdf')\n",
    "                    filename.write_bytes(r.content)\n",
    "\n",
    "                    pages = convert_from_path('temp.pdf', 500)\n",
    "                    for x in pages:\n",
    "                        x.save(\"temp.jpg\")\n",
    "                        output = reader.readtext(\"temp.jpg\")\n",
    "                        for o in output:\n",
    "                            texts += o[1]\n",
    "\n",
    "                    text = remove_esc_chars(texts)\n",
    "\n",
    "                    if textstat.lexicon_count(text, removepunct=True) < 5:\n",
    "                        texts = \"\"\n",
    "                        soup = parse_webpage_bs(link)\n",
    "                        if soup!= None:\n",
    "                            ps = soup.findAll('p')\n",
    "                            for p in ps:\n",
    "                                texts+= p.text\n",
    "\n",
    "                        text = remove_esc_chars(texts)\n",
    "            except:\n",
    "                text = \"\"\n",
    "    \n",
    "    return text , thumb"
   ]
  },
  {
   "cell_type": "code",
   "execution_count": 5,
   "id": "05ce214d",
   "metadata": {
    "ExecuteTime": {
     "end_time": "2022-07-07T17:37:59.381686Z",
     "start_time": "2022-07-07T17:36:53.248093Z"
    },
    "code_folding": [
     0
    ],
    "scrolled": true
   },
   "outputs": [
    {
     "data": {
      "application/vnd.jupyter.widget-view+json": {
       "model_id": "6484a202b53d49f997f6cc6fe524baac",
       "version_major": 2,
       "version_minor": 0
      },
      "text/plain": [
       "Gathering primary data:   0%|          | 0/302 [00:00<?, ?it/s]"
      ]
     },
     "metadata": {},
     "output_type": "display_data"
    },
    {
     "data": {
      "application/vnd.jupyter.widget-view+json": {
       "model_id": "ec996292b4014fe581ac6a925112a895",
       "version_major": 2,
       "version_minor": 0
      },
      "text/plain": [
       "Getting articles:   0%|          | 0/10 [00:00<?, ?it/s]"
      ]
     },
     "metadata": {},
     "output_type": "display_data"
    },
    {
     "name": "stdout",
     "output_type": "stream",
     "text": [
      "Jul 05, 2022 AAR’S COMPONENT REPAIR FACILITY IN AMSTERDAM RANKED NO. 1 OUTSTANDING SOURCE OF REPAIR BY NATO SUPPORT AND PROCUREMENT AGENCY FOR FIFTH TIME\n",
      "Apr 27, 2022 AAR’S LANDING GEAR PBL PROGRAM WINS 2021 SECRETARY OF DEFENSE PBL AWARD\n",
      "Apr 26, 2022 AAR ANNOUNCES MARKETING PARTNERSHIP AGREEMENT WITH PROVENAIR TECHNOLOGIES, LLC\n",
      "Mar 22, 2022 AAR REPORTS THIRD QUARTER FISCAL YEAR 2022 RESULTS\n",
      "Mar 14, 2022 AAR SIGNS EXCLUSIVE DISTRIBUTION AGREEMENT WITH COLLINS AEROSPACE’S GOODRICH DE-ICING & SPECIALTY HEATING SYSTEMS BUSINESS\n",
      "Mar 08, 2022 AAR TO ANNOUNCE THIRD QUARTER FISCAL YEAR 2022 RESULTS ON MARCH 22, 2022\n",
      "Feb 15, 2022 AAR NAMED AMONG AMERICA’S BEST MIDSIZE EMPLOYERS FOR 2022 BY FORBES\n",
      "Feb 10, 2022 AAR TO PARTICIPATE IN CITI'S 2022 GLOBAL INDUSTRIAL TECH AND MOBILITY CONFERENCE ON FEBRUARY 23, 2022\n",
      "Feb 09, 2022 RVC AVIATION MAINTENANCE STUDENTS LAUNCH THEIR CAREER WITH AAR\n",
      "Feb 07, 2022 AAR ANNOUNCES A 10-YEAR EXTENSION OF ITS COMPONENT MRO AGREEMENT WITH IAMCO FOR SUPPORT OF THE NATO E-3A AIRBORNE WARNING AND CONTROL (AWACS) FLEET\n"
     ]
    }
   ],
   "source": [
    "#get data\n",
    "article_list = []\n",
    "\n",
    "# get url \n",
    "url = SITE_LINK\n",
    "driver.get(url)\n",
    "driver.maximize_window()\n",
    "time.sleep(3)\n",
    "\n",
    "#accept cookies\n",
    "try: \n",
    "    driver.find_element(By.XPATH,f'''/html/body/div[1]/div[1]/div/a''').click()\n",
    "except:\n",
    "    pass\n",
    "\n",
    "#elements\n",
    "elements = driver.find_elements(By.XPATH,'''//*[@id=\"CT_Main_0_pnPage\"]/div[2]/div/div''')\n",
    "\n",
    "#creating empty lists to append data \n",
    "published_dates,titles,texts,links,thumbnails,authors = [],[],[],[],[],[]\n",
    "\n",
    "#published_dates,titles,links,authors\n",
    "for e in tqdm(range(1,len(elements[:])+1),desc = \"Gathering primary data\"):\n",
    "    try:\n",
    "        published_date = driver.find_element(By.XPATH,f'''/html/body/form/main/section/div/div/div[2]/div/div[{e}]/div[2]/span''').text.strip()\n",
    "        title = driver.find_element(By.XPATH,f'''/html/body/form/main/section/div/div/div[2]/div/div[{e}]/div[2]/h2/a''').text.strip()\n",
    "        link = driver.find_element(By.XPATH,f'''/html/body/form/main/section/div/div/div[2]/div/div[{e}]/div[2]/h2/a''').get_attribute(\"href\")\n",
    "        author = SITE_NAME    \n",
    "\n",
    "        published_dates.append(published_date)\n",
    "        titles.append(title)\n",
    "        links.append(link)\n",
    "        authors.append(author)   \n",
    "    except:\n",
    "        pass\n",
    "\n",
    "#texts,thumbnails\n",
    "for link in tqdm(links[-10:],desc=\"Getting articles\"):\n",
    "    text,thumbnail = get_text_thumb(link)\n",
    "    texts.append(text)\n",
    "    thumbnails.append(thumbnail)\n",
    "    \n",
    "\n",
    "#zippig all the data togather \n",
    "zipped = list(zip(published_dates,titles,texts,links,thumbnails,authors))\n",
    "\n",
    "#unwinding and appending to the main list\n",
    "for published_date,title,text,link,thumbnail,author in zipped:\n",
    "    article = (published_date.strip(),title.strip(),text.strip(),link.strip(),thumbnail.strip(),author.strip())\n",
    "    article_list.append(article)\n",
    "    print(published_date,title)\n",
    "    "
   ]
  },
  {
   "cell_type": "code",
   "execution_count": 6,
   "id": "92b4ad3a",
   "metadata": {
    "ExecuteTime": {
     "end_time": "2022-07-07T17:37:59.424047Z",
     "start_time": "2022-07-07T17:37:59.381686Z"
    },
    "code_folding": [
     0
    ]
   },
   "outputs": [
    {
     "data": {
      "text/html": [
       "<div>\n",
       "<style scoped>\n",
       "    .dataframe tbody tr th:only-of-type {\n",
       "        vertical-align: middle;\n",
       "    }\n",
       "\n",
       "    .dataframe tbody tr th {\n",
       "        vertical-align: top;\n",
       "    }\n",
       "\n",
       "    .dataframe thead th {\n",
       "        text-align: right;\n",
       "    }\n",
       "</style>\n",
       "<table border=\"1\" class=\"dataframe\">\n",
       "  <thead>\n",
       "    <tr style=\"text-align: right;\">\n",
       "      <th></th>\n",
       "      <th>date</th>\n",
       "      <th>title</th>\n",
       "      <th>article</th>\n",
       "      <th>url</th>\n",
       "      <th>thumbnail</th>\n",
       "      <th>author</th>\n",
       "    </tr>\n",
       "  </thead>\n",
       "  <tbody>\n",
       "    <tr>\n",
       "      <th>0</th>\n",
       "      <td>Jul 05, 2022</td>\n",
       "      <td>AAR’S COMPONENT REPAIR FACILITY IN AMSTERDAM R...</td>\n",
       "      <td>AAR Reports Fourth Quarter and Fiscal Year 201...</td>\n",
       "      <td>https://www.aarcorp.com/aarscomponentrepairfac...</td>\n",
       "      <td>https://www.aarcorp.com/cms/images/layout/prin...</td>\n",
       "      <td>aarcorp</td>\n",
       "    </tr>\n",
       "    <tr>\n",
       "      <th>1</th>\n",
       "      <td>Apr 27, 2022</td>\n",
       "      <td>AAR’S LANDING GEAR PBL PROGRAM WINS 2021 SECRE...</td>\n",
       "      <td>AAR s Nordisk Aviation Products Selected by Ch...</td>\n",
       "      <td>https://www.aarcorp.com/aar-landing-gear-pbl-p...</td>\n",
       "      <td>https://www.aarcorp.com/cms/images/layout/prin...</td>\n",
       "      <td>aarcorp</td>\n",
       "    </tr>\n",
       "    <tr>\n",
       "      <th>2</th>\n",
       "      <td>Apr 26, 2022</td>\n",
       "      <td>AAR ANNOUNCES MARKETING PARTNERSHIP AGREEMENT ...</td>\n",
       "      <td>AAR Earns Nadcap Accreditation for Composites ...</td>\n",
       "      <td>https://www.aarcorp.com/aar-announces-marketin...</td>\n",
       "      <td>https://www.aarcorp.com/cms/images/layout/prin...</td>\n",
       "      <td>aarcorp</td>\n",
       "    </tr>\n",
       "    <tr>\n",
       "      <th>3</th>\n",
       "      <td>Mar 22, 2022</td>\n",
       "      <td>AAR REPORTS THIRD QUARTER FISCAL YEAR 2022 RES...</td>\n",
       "      <td>AAR to Announce Fourth Quarter and Fiscal Year...</td>\n",
       "      <td>https://www.aarcorp.com/aar-reports-third-quar...</td>\n",
       "      <td>https://www.aarcorp.com/cms/images/layout/prin...</td>\n",
       "      <td>aarcorp</td>\n",
       "    </tr>\n",
       "    <tr>\n",
       "      <th>4</th>\n",
       "      <td>Mar 14, 2022</td>\n",
       "      <td>AAR SIGNS EXCLUSIVE DISTRIBUTION AGREEMENT WIT...</td>\n",
       "      <td>AAR Operations Commence in Central Africa July...</td>\n",
       "      <td>https://www.aarcorp.com/aarsignsexclusivedistr...</td>\n",
       "      <td>https://www.aarcorp.com/cms/images/layout/prin...</td>\n",
       "      <td>aarcorp</td>\n",
       "    </tr>\n",
       "  </tbody>\n",
       "</table>\n",
       "</div>"
      ],
      "text/plain": [
       "           date                                              title  \\\n",
       "0  Jul 05, 2022  AAR’S COMPONENT REPAIR FACILITY IN AMSTERDAM R...   \n",
       "1  Apr 27, 2022  AAR’S LANDING GEAR PBL PROGRAM WINS 2021 SECRE...   \n",
       "2  Apr 26, 2022  AAR ANNOUNCES MARKETING PARTNERSHIP AGREEMENT ...   \n",
       "3  Mar 22, 2022  AAR REPORTS THIRD QUARTER FISCAL YEAR 2022 RES...   \n",
       "4  Mar 14, 2022  AAR SIGNS EXCLUSIVE DISTRIBUTION AGREEMENT WIT...   \n",
       "\n",
       "                                             article  \\\n",
       "0  AAR Reports Fourth Quarter and Fiscal Year 201...   \n",
       "1  AAR s Nordisk Aviation Products Selected by Ch...   \n",
       "2  AAR Earns Nadcap Accreditation for Composites ...   \n",
       "3  AAR to Announce Fourth Quarter and Fiscal Year...   \n",
       "4  AAR Operations Commence in Central Africa July...   \n",
       "\n",
       "                                                 url  \\\n",
       "0  https://www.aarcorp.com/aarscomponentrepairfac...   \n",
       "1  https://www.aarcorp.com/aar-landing-gear-pbl-p...   \n",
       "2  https://www.aarcorp.com/aar-announces-marketin...   \n",
       "3  https://www.aarcorp.com/aar-reports-third-quar...   \n",
       "4  https://www.aarcorp.com/aarsignsexclusivedistr...   \n",
       "\n",
       "                                           thumbnail   author  \n",
       "0  https://www.aarcorp.com/cms/images/layout/prin...  aarcorp  \n",
       "1  https://www.aarcorp.com/cms/images/layout/prin...  aarcorp  \n",
       "2  https://www.aarcorp.com/cms/images/layout/prin...  aarcorp  \n",
       "3  https://www.aarcorp.com/cms/images/layout/prin...  aarcorp  \n",
       "4  https://www.aarcorp.com/cms/images/layout/prin...  aarcorp  "
      ]
     },
     "execution_count": 6,
     "metadata": {},
     "output_type": "execute_result"
    }
   ],
   "source": [
    "#temp df\n",
    "temp_df = pd.DataFrame(article_list,columns=['date','title','article','url','thumbnail','author'])\n",
    "temp_df.head()"
   ]
  },
  {
   "cell_type": "code",
   "execution_count": 7,
   "id": "a0175938",
   "metadata": {
    "ExecuteTime": {
     "end_time": "2022-07-07T17:37:59.791841Z",
     "start_time": "2022-07-07T17:37:59.424047Z"
    },
    "code_folding": [
     0
    ],
    "scrolled": true
   },
   "outputs": [
    {
     "name": "stdout",
     "output_type": "stream",
     "text": [
      "Feb 07, 2022 AAR ANNOUNCES A 10-YEAR EXTENSION OF ITS COMPONENT MRO AGREEMENT WITH IAMCO FOR SUPPORT OF THE NATO E-3A AIRBORNE WARNING AND CONTROL (AWACS) FLEET\n",
      "\n",
      "aarcorp https://www.aarcorp.com/aar-announces-a-10-year-extension-of-its-component-mro-agreement-with-iamco-for-support-of-the-nato-e-3a-airborne-warning-and-control-awacs-fleet/?F_All=y\n"
     ]
    },
    {
     "data": {
      "image/png": "[encoded data removed]",
      "text/plain": [
       "<PIL.PngImagePlugin.PngImageFile image mode=RGBA size=277x78 at 0x265B5868100>"
      ]
     },
     "metadata": {},
     "output_type": "display_data"
    },
    {
     "name": "stdout",
     "output_type": "stream",
     "text": [
      "\n",
      "AAR Becomes the First MRO Operator to Sign Data-Sharing Pact with FAA June 6, 2014 Leader in aircraft maintenance takes steps to ensure aviation safety, identify risks WOOD DALE, Illinois, June 6, 2014 -- AAR (NYSE: AIR), a recognized leader in aircraft maintenance, repair and overhaul (MRO), has become the first MRO operator to agree to voluntarily share safety information with the Federal Aviation Administration. AAR recently signed an agreement to take part in the FAA s Aviation Safety Information Analysis and Sharing program (ASIAS), which is designed to help MRO operators avoid serious and potentially costly safety issues and the FAA to identify high-risk areas. The FAA is very pleased to have AAR launch the ASIAS program among MROs, said Steven Douglas, Manager, Aircraft Maintenance Division, for the FAA. We believe that sharing and analyzing safety data are important for the aviation industry as a whole. Safety and performance are the cornerstones of AAR s 1MRO Network, comprised of six aircraft maintenance facilities in Indianapolis; Oklahoma City; Miami; and Duluth, Minn. We understand that voluntary reporting is critical to overall safety in the aviation industry and are excited to partner with the FAA s efforts, said Art Smith, AAR Vice President and Chief Quality Officer. Although we are now officially signed on to the ASIAS program, our customers and other partners know AAR has long had a culture and practice of sharing safety information. AAR has received frequent industry recognition, including earning the Diamond Award of Excellence, the FAA s highest honor for maintenance training, for the fifth-consecutive year. AAR also was recently voted Best Airframe Provider in the Americas by industry professionals. Back About AAR AAR is a global aftermarket solutions company that employs more than 6,000 people in over 20 countries. Based in Wood Dale, Illinois, AAR supports commercial aviation and government customers through two operating segments: Aviation Services and Expeditionary Services. AAR s Aviation Services include inventory management; parts supply; OEM parts distribution; aircraft maintenance, repair and overhaul; engineering services and component repair. AAR s Expeditionary Services include airlift operations; mobility systems; and command and control centers in support of military and humanitarian missions. More information can be found at www.aarcorp.com. Media contact: Daniela Pietsch, Vice President Corporate Marketing & Communications, at editor@aarcorp.com or +1 630-227-5100. This press release contains certain statements relating to future results, which are forward-looking statements as that term is defined in the Private Securities Litigation Reform Act of 1995. These forward-looking statements are based on beliefs of Company management, as well as assumptions and estimates based on information currently available to the Company, and are subject to certain risks and uncertainties that could cause actual results to differ materially from historical results or those anticipated, including those factors discussed under Item 1A, entitled Risk Factors , included in the Company s Form 10-K for the fiscal year ended May 31, 2018. Should one or more of these risks or uncertainties materialize adversely, or should underlying assumptions or estimates prove incorrect, actual results may vary materially from those described. These events and uncertainties are difficult or impossible to predict accurately and many are beyond the Company s control. The Company assumes no obligation to update any forward-looking statements to reflect events or circumstances after the date of such statements or to reflect the occurrence of anticipated or unanticipated events. For additional information, see the comments included in AAR s filings with the Securities and Exchange Commission.\n"
     ]
    }
   ],
   "source": [
    "#see data\n",
    "def see_data(iloc_no=random.randint(0,len(temp_df))-1):\n",
    "    print(temp_df.iloc[iloc_no]['date'],temp_df.iloc[iloc_no]['title'])\n",
    "    print(f\"\\n{temp_df.iloc[iloc_no]['author']} {temp_df.iloc[iloc_no]['url']}\")\n",
    "    urllib.request.urlretrieve(temp_df.iloc[iloc_no]['thumbnail'], \"temp.jpg\")\n",
    "    display(Image.open(\"temp.jpg\"))\n",
    "    print(f\"\\n{temp_df.iloc[iloc_no]['article']}\")\n",
    "\n",
    "see_data()"
   ]
  },
  {
   "cell_type": "code",
   "execution_count": 8,
   "id": "2458dae4",
   "metadata": {
    "ExecuteTime": {
     "end_time": "2022-07-07T17:37:59.822960Z",
     "start_time": "2022-07-07T17:37:59.791841Z"
    },
    "code_folding": [
     0
    ]
   },
   "outputs": [],
   "source": [
    "#to csv\n",
    "temp_df.to_csv(f'{SITE_NAME} news.csv',index = False)\n",
    "\n",
    "#to json\n",
    "temp_df.to_json(f'{SITE_NAME} news.json')"
   ]
  },
  {
   "cell_type": "code",
   "execution_count": 9,
   "id": "9195dc37",
   "metadata": {
    "ExecuteTime": {
     "end_time": "2022-07-07T17:37:59.838917Z",
     "start_time": "2022-07-07T17:37:59.824954Z"
    },
    "code_folding": [
     0
    ]
   },
   "outputs": [
    {
     "name": "stdout",
     "output_type": "stream",
     "text": [
      "Trash removed successfully\n"
     ]
    }
   ],
   "source": [
    "#to get rid of unwanteed trash created by the model use \n",
    "def remove_trash():\n",
    "    try:\n",
    "        try:\n",
    "            os.remove(\"temp.pdf\")\n",
    "        except:\n",
    "            pass\n",
    "        os.remove(\"temp.jpg\")\n",
    "        print(\"Trash removed successfully\")\n",
    "    except:\n",
    "        print(\"No trash found\")\n",
    "\n",
    "remove_trash()"
   ]
  }
 ],
 "metadata": {
  "kernelspec": {
   "display_name": "Python 3 (ipykernel)",
   "language": "python",
   "name": "python3"
  },
  "language_info": {
   "codemirror_mode": {
    "name": "ipython",
    "version": 3
   },
   "file_extension": ".py",
   "mimetype": "text/x-python",
   "name": "python",
   "nbconvert_exporter": "python",
   "pygments_lexer": "ipython3",
   "version": "3.9.7"
  },
  "toc": {
   "base_numbering": 1,
   "nav_menu": {},
   "number_sections": true,
   "sideBar": true,
   "skip_h1_title": false,
   "title_cell": "Table of Contents",
   "title_sidebar": "Contents",
   "toc_cell": false,
   "toc_position": {},
   "toc_section_display": true,
   "toc_window_display": false
  }
 },
 "nbformat": 4,
 "nbformat_minor": 5
}
