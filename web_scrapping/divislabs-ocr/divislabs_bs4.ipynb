{
 "cells": [
  {
   "cell_type": "markdown",
   "id": "02b78cf4",
   "metadata": {},
   "source": [
    "**url**\n",
    "\n",
    "https://www.divislabs.com/investor-relations/press-release/#2021-22"
   ]
  },
  {
   "cell_type": "code",
   "execution_count": 1,
   "id": "c7918270",
   "metadata": {
    "ExecuteTime": {
     "end_time": "2022-06-05T12:47:59.060820Z",
     "start_time": "2022-06-05T12:47:58.905287Z"
    }
   },
   "outputs": [
    {
     "name": "stdout",
     "output_type": "stream",
     "text": [
      "Sun Jun  5 18:17:58 2022       \n",
      "+-----------------------------------------------------------------------------+\n",
      "| NVIDIA-SMI 512.95       Driver Version: 512.95       CUDA Version: 11.6     |\n",
      "|-------------------------------+----------------------+----------------------+\n",
      "| GPU  Name            TCC/WDDM | Bus-Id        Disp.A | Volatile Uncorr. ECC |\n",
      "| Fan  Temp  Perf  Pwr:Usage/Cap|         Memory-Usage | GPU-Util  Compute M. |\n",
      "|                               |                      |               MIG M. |\n",
      "|===============================+======================+======================|\n",
      "|   0  NVIDIA GeForce ... WDDM  | 00000000:01:00.0 Off |                  N/A |\n",
      "| N/A   52C    P8    N/A /  N/A |     70MiB /  4096MiB |     16%      Default |\n",
      "|                               |                      |                  N/A |\n",
      "+-------------------------------+----------------------+----------------------+\n",
      "                                                                               \n",
      "+-----------------------------------------------------------------------------+\n",
      "| Processes:                                                                  |\n",
      "|  GPU   GI   CI        PID   Type   Process name                  GPU Memory |\n",
      "|        ID   ID                                                   Usage      |\n",
      "|=============================================================================|\n",
      "|    0   N/A  N/A     19820    C+G   ...ser\\Application\\brave.exe    N/A      |\n",
      "|    0   N/A  N/A     26872    C+G   ...4__8j3eq9eme6ctt\\IGCC.exe    N/A      |\n",
      "+-----------------------------------------------------------------------------+\n"
     ]
    }
   ],
   "source": [
    "!nvidia-smi"
   ]
  },
  {
   "cell_type": "code",
   "execution_count": 2,
   "id": "1d7bc374",
   "metadata": {
    "ExecuteTime": {
     "end_time": "2022-06-05T12:48:03.782625Z",
     "start_time": "2022-06-05T12:47:59.061685Z"
    }
   },
   "outputs": [
    {
     "name": "stderr",
     "output_type": "stream",
     "text": [
      "D:\\Anaconda\\envs\\gpu_16march2022\\lib\\site-packages\\tqdm\\auto.py:22: TqdmWarning: IProgress not found. Please update jupyter and ipywidgets. See https://ipywidgets.readthedocs.io/en/stable/user_install.html\n",
      "  from .autonotebook import tqdm as notebook_tqdm\n",
      "CUDA not available - defaulting to CPU. Note: This module is much faster with a GPU.\n"
     ]
    },
    {
     "data": {
      "application/javascript": [
       "IPython.notebook.set_autosave_interval(1000)"
      ]
     },
     "metadata": {},
     "output_type": "display_data"
    },
    {
     "name": "stdout",
     "output_type": "stream",
     "text": [
      "Autosaving every 1 seconds\n"
     ]
    }
   ],
   "source": [
    "import os \n",
    "os.environ['KMP_DUPLICATE_LIB_OK']='True'\n",
    "\n",
    "import pandas as pd,requests,bs4,re,time,io,pdftotext,easyocr,random\n",
    "from pdfminer.high_level import extract_text\n",
    "from pathlib import Path\n",
    "import pytesseract, PIL \n",
    "from pdf2image import convert_from_path\n",
    "from selenium.webdriver.common.by import By\n",
    "from goose3 import Goose\n",
    "from datetime import datetime\n",
    "from bs4 import BeautifulSoup\n",
    "from selenium import webdriver\n",
    "\n",
    "reader = easyocr.Reader(['en'])\n",
    "\n",
    "import warnings\n",
    "warnings.filterwarnings(\"ignore\")\n",
    "\n",
    "%autosave 1"
   ]
  },
  {
   "cell_type": "code",
   "execution_count": 3,
   "id": "50ec4e52",
   "metadata": {
    "ExecuteTime": {
     "end_time": "2022-06-05T12:48:03.798549Z",
     "start_time": "2022-06-05T12:48:03.785583Z"
    }
   },
   "outputs": [],
   "source": [
    "SITE_NAME='Divislabs'\n",
    "\n",
    "DOMAIN = \"https://www.divislabs.com\"\n",
    "\n",
    "SITE_LINK=\"https://www.divislabs.com/investor-relations/press-release/\""
   ]
  },
  {
   "cell_type": "code",
   "execution_count": 4,
   "id": "668fb91b",
   "metadata": {
    "ExecuteTime": {
     "end_time": "2022-06-05T12:48:03.830467Z",
     "start_time": "2022-06-05T12:48:03.802538Z"
    }
   },
   "outputs": [],
   "source": [
    "def parse_webpage_bs(search_url):\n",
    "    \n",
    "    headers = {\n",
    "        \"User-Agent\": \"Mozilla/5.0 (Windows NT 10.0; Win64; x64; rv:90.0) Gecko/20100101 Firefox/90.0\"}\n",
    "    try:\n",
    "        site_request = requests.get(search_url, headers=headers, timeout=10)\n",
    "    except requests.exceptions.RequestException as e:\n",
    "        print(e)\n",
    "        site_request = None\n",
    "    if site_request != None and site_request.status_code==200:\n",
    "        site_soup = bs4.BeautifulSoup(site_request.content, \"lxml\")\n",
    "    else:\n",
    "        site_soup = None\n",
    "    return site_soup\n",
    "\n",
    "def remove_esc_chars(text):\n",
    "    return text.replace(\"\\n\", \" \").replace(\"\\t\", \" \").replace(\"\\r\", \" \")\n",
    "\n",
    "def get_text(link):\n",
    "    g = Goose()\n",
    "    article_extract = g.extract(url=link)\n",
    "    article = remove_esc_chars(article_extract.cleaned_text)\n",
    "    meta_data = remove_esc_chars(article_extract.meta_description)\n",
    "    whole_data = meta_data+article\n",
    "    text = whole_data.strip()\n",
    "    \n",
    "    if len(text) < 10:\n",
    "        try:\n",
    "            response = requests.get(link)\n",
    "            text = remove_esc_chars(extract_text(io.BytesIO(response.content)))\n",
    "\n",
    "            if len(text) < 10:\n",
    "                texts = \"\"\n",
    "                r = requests.get(link)\n",
    "                filename = Path('temp.pdf')\n",
    "                filename.write_bytes(r.content)\n",
    "\n",
    "                pages = convert_from_path('temp.pdf', 500)\n",
    "                for x in pages:\n",
    "                    x.save(\"temp.jpg\")\n",
    "                    output = reader.readtext(\"temp.jpg\")\n",
    "                    for o in output:\n",
    "                        texts += o[1]\n",
    "\n",
    "                text = remove_esc_chars(texts)\n",
    "        except:\n",
    "            text = \"\"\n",
    "    \n",
    "    return text"
   ]
  },
  {
   "cell_type": "code",
   "execution_count": 5,
   "id": "160fb91a",
   "metadata": {
    "ExecuteTime": {
     "end_time": "2022-06-05T12:49:32.834878Z",
     "start_time": "2022-06-05T12:48:03.832457Z"
    },
    "scrolled": true
   },
   "outputs": [
    {
     "name": "stdout",
     "output_type": "stream",
     "text": [
      "01/01/2022 Press Release Qtr4 2021-22\n",
      "01/01/2022 Press Release Qtr3 2021-22\n",
      "01/01/2022 Press Release Qtr2 2021-22\n"
     ]
    }
   ],
   "source": [
    "article_list = []\n",
    "pagination = str(datetime.today().year-1) +\"-\" + str(datetime.today().year)\n",
    "url = f\"https://www.divislabs.com/investor-relations/press-release/#{pagination}\"\n",
    "soup = parse_webpage_bs(url)\n",
    "if soup != None:\n",
    "    published_date = \"01/01/2022\"\n",
    "    elements = soup.findAll('div',{'class' :'boc_list_item_text small'})\n",
    "    for element in elements[:3]:\n",
    "        #title,link,published_date\n",
    "        title = element.text.strip()\n",
    "        link = DOMAIN + element.find('a')['href']\n",
    "        \n",
    "        try:\n",
    "            date = \"01/01/\"+ str(int(title[-7:-3])+1)\n",
    "            published_date = date\n",
    "        except:\n",
    "            pass\n",
    "            \n",
    "        #text\n",
    "        text = get_text(link)\n",
    "            \n",
    "        #thumbnail and author\n",
    "        thumbnail = \"https://www.divislabs.com/wp-content/uploads/2016/05/divis-logo.png\"\n",
    "        author = SITE_NAME\n",
    "        \n",
    "        article = (published_date,title,text,link,thumbnail,author)\n",
    "        article_list.append(article)\n",
    "        print(published_date,title)"
   ]
  },
  {
   "cell_type": "code",
   "execution_count": 6,
   "id": "c443343f",
   "metadata": {
    "ExecuteTime": {
     "end_time": "2022-06-05T12:49:32.864799Z",
     "start_time": "2022-06-05T12:49:32.837870Z"
    }
   },
   "outputs": [
    {
     "data": {
      "text/html": [
       "<div>\n",
       "<style scoped>\n",
       "    .dataframe tbody tr th:only-of-type {\n",
       "        vertical-align: middle;\n",
       "    }\n",
       "\n",
       "    .dataframe tbody tr th {\n",
       "        vertical-align: top;\n",
       "    }\n",
       "\n",
       "    .dataframe thead th {\n",
       "        text-align: right;\n",
       "    }\n",
       "</style>\n",
       "<table border=\"1\" class=\"dataframe\">\n",
       "  <thead>\n",
       "    <tr style=\"text-align: right;\">\n",
       "      <th></th>\n",
       "      <th>date</th>\n",
       "      <th>title</th>\n",
       "      <th>article</th>\n",
       "      <th>url</th>\n",
       "      <th>thumbnail</th>\n",
       "      <th>author</th>\n",
       "    </tr>\n",
       "  </thead>\n",
       "  <tbody>\n",
       "    <tr>\n",
       "      <th>0</th>\n",
       "      <td>01/01/2022</td>\n",
       "      <td>Press Release Qtr4 2021-22</td>\n",
       "      <td>@)   DIVl'S LABORATORIES LIMITED  1-72/23(P)/D...</td>\n",
       "      <td>https://www.divislabs.com/wp-content/uploads/2...</td>\n",
       "      <td>https://www.divislabs.com/wp-content/uploads/2...</td>\n",
       "      <td>Divislabs</td>\n",
       "    </tr>\n",
       "    <tr>\n",
       "      <th>1</th>\n",
       "      <td>01/01/2022</td>\n",
       "      <td>Press Release Qtr3 2021-22</td>\n",
       "      <td>DIVI'S LABORATORIES LIMITECIN No.L2411OTG199OP...</td>\n",
       "      <td>https://www.divislabs.com/wp-content/uploads/2...</td>\n",
       "      <td>https://www.divislabs.com/wp-content/uploads/2...</td>\n",
       "      <td>Divislabs</td>\n",
       "    </tr>\n",
       "    <tr>\n",
       "      <th>2</th>\n",
       "      <td>01/01/2022</td>\n",
       "      <td>Press Release Qtr2 2021-22</td>\n",
       "      <td>DIVIS LABQRATQRIES LIMITEDCIN No.L24110TG199OP...</td>\n",
       "      <td>https://www.divislabs.com/wp-content/uploads/2...</td>\n",
       "      <td>https://www.divislabs.com/wp-content/uploads/2...</td>\n",
       "      <td>Divislabs</td>\n",
       "    </tr>\n",
       "  </tbody>\n",
       "</table>\n",
       "</div>"
      ],
      "text/plain": [
       "         date                       title  \\\n",
       "0  01/01/2022  Press Release Qtr4 2021-22   \n",
       "1  01/01/2022  Press Release Qtr3 2021-22   \n",
       "2  01/01/2022  Press Release Qtr2 2021-22   \n",
       "\n",
       "                                             article  \\\n",
       "0  @)   DIVl'S LABORATORIES LIMITED  1-72/23(P)/D...   \n",
       "1  DIVI'S LABORATORIES LIMITECIN No.L2411OTG199OP...   \n",
       "2  DIVIS LABQRATQRIES LIMITEDCIN No.L24110TG199OP...   \n",
       "\n",
       "                                                 url  \\\n",
       "0  https://www.divislabs.com/wp-content/uploads/2...   \n",
       "1  https://www.divislabs.com/wp-content/uploads/2...   \n",
       "2  https://www.divislabs.com/wp-content/uploads/2...   \n",
       "\n",
       "                                           thumbnail     author  \n",
       "0  https://www.divislabs.com/wp-content/uploads/2...  Divislabs  \n",
       "1  https://www.divislabs.com/wp-content/uploads/2...  Divislabs  \n",
       "2  https://www.divislabs.com/wp-content/uploads/2...  Divislabs  "
      ]
     },
     "execution_count": 6,
     "metadata": {},
     "output_type": "execute_result"
    }
   ],
   "source": [
    "temp_df = pd.DataFrame(article_list,columns=['date','title','article','url','thumbnail','author'])\n",
    "temp_df"
   ]
  },
  {
   "cell_type": "code",
   "execution_count": 7,
   "id": "bfa9a87e",
   "metadata": {
    "ExecuteTime": {
     "end_time": "2022-06-05T12:49:32.880767Z",
     "start_time": "2022-06-05T12:49:32.868789Z"
    },
    "scrolled": false
   },
   "outputs": [
    {
     "name": "stdout",
     "output_type": "stream",
     "text": [
      "01/01/2022 Press Release Qtr2 2021-22\n",
      "\n",
      "Divislabs https://www.divislabs.com/wp-content/uploads/2021/11/Press-Release-Q2FY22_Divis-Lab.pdf\n",
      "\n",
      "DIVIS LABQRATQRIES LIMITEDCIN No.L24110TG199OPLCO118541-72/23(P)/ DIVIS 303, Cyber Hills, GachibowliHyderabad\"500 032 Telangana, IndiaPhone: 91-40-23786300 email: cs@divislabs comPress Release dated 6th November 2021Divi'sLabsearnsaPATof}606croresforQ2ofFY22onConsolidated BasisConsolidated ResultsDivi'sLaboratorieshasearnedaconsolidatedtotalincomeOf32007crores for quarter ended 30th September 2021asagainst a consolidatedtotal income of < 1763 crores in the corresponding quarter of the previousyear;Profit  beforeTax (PBT)for the quarter amountedtor760croresasagainst aPBT of < 693crores for the corresponding quarter of the lastyear.Profit after Tax (PAT) for the quarter grew by17% tor606croresasagainst aPAT of?520crores for the corresponding quarter of the lastyear;For thecurrent quarter, we havea forex loss of <7crores as against aloss of ? 16 crores during the corresponding quarter of last year.For thehalf-year ended 30th September 2021, the companyearnedaconsolidated total income of ? 3996 crores as against a consolidated totalincome of < 3506 crores during the previous half-year: PAT for the currenthalf-year came to & 1164 crores as against & 1012 crores for the previoushalf-year. For the current half-year, we hada forex gain of < 13 crores asagainst a loss of < 11 crores during the corresponding period last year.SooRAOAMdcrmeal- J2CcHiBowStandalone ResultsOn a standalone basis, the company's earnings are as given below:< in croresParticularsFor the Quarter endedFor the half year ended30-09-2130-09-2030-09-2130-09-20Total Income1987172739663450PBT76068515741346PAT60651311581006Forex Gain L(loss)Particulars of forex gain/(loss) for the period are given below:in croresParticularsFor the Quarter endedFor the period ended30-09-2130-09-2030-09-2130-09-20Forex(7)(12)12(7)gain/(loss)Thecompanycontinuestohavenearnormaloperations   duringthequarter complying to all Covid-19 protocols:Yoriqa3Xdef PAd i9'GAcHigow,\n",
      "\n",
      "https://www.divislabs.com/wp-content/uploads/2016/05/divis-logo.png\n"
     ]
    }
   ],
   "source": [
    "def see_data(iloc_no=random.randint(0,len(temp_df))-1):\n",
    "    print(temp_df.iloc[iloc_no]['date'],temp_df.iloc[iloc_no]['title'])\n",
    "    print(f\"\\n{temp_df.iloc[iloc_no]['author']} {temp_df.iloc[iloc_no]['url']}\")\n",
    "    print(f\"\\n{temp_df.iloc[iloc_no]['article']}\")\n",
    "    print(f\"\\n{temp_df.iloc[iloc_no]['thumbnail']}\")\n",
    "\n",
    "see_data()"
   ]
  },
  {
   "cell_type": "code",
   "execution_count": 8,
   "id": "1436bc16",
   "metadata": {
    "ExecuteTime": {
     "end_time": "2022-06-05T12:49:32.943599Z",
     "start_time": "2022-06-05T12:49:32.883748Z"
    }
   },
   "outputs": [],
   "source": [
    "#to csv\n",
    "temp_df.to_csv(f'{SITE_NAME} news.csv',index = False)\n",
    "\n",
    "#to json\n",
    "temp_df.to_json(f'{SITE_NAME} news.json')"
   ]
  },
  {
   "cell_type": "code",
   "execution_count": 9,
   "id": "65771436",
   "metadata": {
    "ExecuteTime": {
     "end_time": "2022-06-05T12:49:32.959551Z",
     "start_time": "2022-06-05T12:49:32.949572Z"
    }
   },
   "outputs": [
    {
     "name": "stdout",
     "output_type": "stream",
     "text": [
      "Trash removed successfully\n"
     ]
    }
   ],
   "source": [
    "#to get rid of unwanteed trash created by the model use \n",
    "def remove_trash():\n",
    "    try:\n",
    "        os.remove(\"temp.jpg\")\n",
    "        os.remove(\"temp.pdf\")\n",
    "        print(\"Trash removed successfully\")\n",
    "    except:\n",
    "        print(\"No trash found\")\n",
    "\n",
    "remove_trash()"
   ]
  }
 ],
 "metadata": {
  "kernelspec": {
   "display_name": "Python 3 (ipykernel)",
   "language": "python",
   "name": "python3"
  },
  "language_info": {
   "codemirror_mode": {
    "name": "ipython",
    "version": 3
   },
   "file_extension": ".py",
   "mimetype": "text/x-python",
   "name": "python",
   "nbconvert_exporter": "python",
   "pygments_lexer": "ipython3",
   "version": "3.9.7"
  },
  "toc": {
   "base_numbering": 1,
   "nav_menu": {},
   "number_sections": true,
   "sideBar": true,
   "skip_h1_title": false,
   "title_cell": "Table of Contents",
   "title_sidebar": "Contents",
   "toc_cell": false,
   "toc_position": {},
   "toc_section_display": true,
   "toc_window_display": false
  }
 },
 "nbformat": 4,
 "nbformat_minor": 5
}
