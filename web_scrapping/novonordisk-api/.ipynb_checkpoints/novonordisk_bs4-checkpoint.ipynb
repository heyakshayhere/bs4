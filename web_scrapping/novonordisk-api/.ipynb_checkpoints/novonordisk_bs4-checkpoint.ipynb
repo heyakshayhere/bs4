{
 "cells": [
  {
   "cell_type": "markdown",
   "id": "cd587aa8",
   "metadata": {},
   "source": [
    "**Wesite link**\n",
    "\n",
    "https://www.novonordisk.com/news-and-media/news-and-ir-materials.html\n",
    "\n",
    "**API**\n",
    "\n",
    "https://www.novonordisk.com/bin/nncorp/news-search?searchtext=null&start=2000-01-01&end=2022-05-24&newspath=/content/dam/nncorp/global/en/investors/content-fragments/ir-materials&limit=10&currentresults=10&function=search&language=all&type=Annual%20reports,Investor%20presentations,5355,5356"
   ]
  },
  {
   "cell_type": "raw",
   "id": "d95da545",
   "metadata": {
    "ExecuteTime": {
     "end_time": "2022-05-24T09:06:10.315631Z",
     "start_time": "2022-05-24T09:06:10.297680Z"
    }
   },
   "source": [
    "https://www.novonordisk.com/bin/nncorp/news-search?searchtext=null&start=2000-01-01&end=2022-05-24&newspath=/content/dam/nncorp/global/en/investors/content-fragments/ir-materials&limit=960&currentresults=10&function=search&language=all&type=Annual%20reports,Investor%20presentations,5355,5356"
   ]
  },
  {
   "cell_type": "code",
   "execution_count": 12,
   "id": "210a803a",
   "metadata": {
    "ExecuteTime": {
     "end_time": "2022-05-24T09:11:42.038756Z",
     "start_time": "2022-05-24T09:11:42.025790Z"
    }
   },
   "outputs": [
    {
     "data": {
      "application/javascript": [
       "IPython.notebook.set_autosave_interval(1000)"
      ]
     },
     "metadata": {},
     "output_type": "display_data"
    },
    {
     "name": "stdout",
     "output_type": "stream",
     "text": [
      "Autosaving every 1 seconds\n"
     ]
    }
   ],
   "source": [
    "import pandas as pd,requests,bs4,time\n",
    "from datetime import datetime\n",
    "from bs4 import BeautifulSoup\n",
    "import warnings\n",
    "warnings.filterwarnings(\"ignore\")\n",
    "\n",
    "%autosave 1"
   ]
  },
  {
   "cell_type": "code",
   "execution_count": 2,
   "id": "04db1c2e",
   "metadata": {
    "ExecuteTime": {
     "end_time": "2022-05-24T09:08:29.506735Z",
     "start_time": "2022-05-24T09:08:29.492276Z"
    }
   },
   "outputs": [],
   "source": [
    "def parse_webpage_api(search_url):\n",
    "    try:\n",
    "        req = requests.get(search_url)\n",
    "        data = req.json()\n",
    "        return data\n",
    "    except:\n",
    "        return []"
   ]
  },
  {
   "cell_type": "code",
   "execution_count": 21,
   "id": "98d54869",
   "metadata": {
    "ExecuteTime": {
     "end_time": "2022-05-24T09:20:23.000560Z",
     "start_time": "2022-05-24T09:20:22.241234Z"
    },
    "collapsed": true
   },
   "outputs": [
    {
     "ename": "JSONDecodeError",
     "evalue": "[Errno Expecting value] <html>\r\n<head><title>403 Forbidden</title></head>\r\n<body>\r\n<center><h1>403 Forbidden</h1></center>\r\n<hr><center>Microsoft-Azure-Application-Gateway/v2</center>\r\n</body>\r\n</html>\r\n: 0",
     "output_type": "error",
     "traceback": [
      "\u001b[1;31m---------------------------------------------------------------------------\u001b[0m",
      "\u001b[1;31mJSONDecodeError\u001b[0m                           Traceback (most recent call last)",
      "File \u001b[1;32mD:\\Anaconda\\envs\\gpu_16march2022\\lib\\site-packages\\requests\\models.py:910\u001b[0m, in \u001b[0;36mResponse.json\u001b[1;34m(self, **kwargs)\u001b[0m\n\u001b[0;32m    909\u001b[0m \u001b[38;5;28;01mtry\u001b[39;00m:\n\u001b[1;32m--> 910\u001b[0m     \u001b[38;5;28;01mreturn\u001b[39;00m complexjson\u001b[38;5;241m.\u001b[39mloads(\u001b[38;5;28mself\u001b[39m\u001b[38;5;241m.\u001b[39mtext, \u001b[38;5;241m*\u001b[39m\u001b[38;5;241m*\u001b[39mkwargs)\n\u001b[0;32m    911\u001b[0m \u001b[38;5;28;01mexcept\u001b[39;00m JSONDecodeError \u001b[38;5;28;01mas\u001b[39;00m e:\n\u001b[0;32m    912\u001b[0m     \u001b[38;5;66;03m# Catch JSON-related errors and raise as requests.JSONDecodeError\u001b[39;00m\n\u001b[0;32m    913\u001b[0m     \u001b[38;5;66;03m# This aliases json.JSONDecodeError and simplejson.JSONDecodeError\u001b[39;00m\n",
      "File \u001b[1;32mD:\\Anaconda\\envs\\gpu_16march2022\\lib\\json\\__init__.py:346\u001b[0m, in \u001b[0;36mloads\u001b[1;34m(s, cls, object_hook, parse_float, parse_int, parse_constant, object_pairs_hook, **kw)\u001b[0m\n\u001b[0;32m    343\u001b[0m \u001b[38;5;28;01mif\u001b[39;00m (\u001b[38;5;28mcls\u001b[39m \u001b[38;5;129;01mis\u001b[39;00m \u001b[38;5;28;01mNone\u001b[39;00m \u001b[38;5;129;01mand\u001b[39;00m object_hook \u001b[38;5;129;01mis\u001b[39;00m \u001b[38;5;28;01mNone\u001b[39;00m \u001b[38;5;129;01mand\u001b[39;00m\n\u001b[0;32m    344\u001b[0m         parse_int \u001b[38;5;129;01mis\u001b[39;00m \u001b[38;5;28;01mNone\u001b[39;00m \u001b[38;5;129;01mand\u001b[39;00m parse_float \u001b[38;5;129;01mis\u001b[39;00m \u001b[38;5;28;01mNone\u001b[39;00m \u001b[38;5;129;01mand\u001b[39;00m\n\u001b[0;32m    345\u001b[0m         parse_constant \u001b[38;5;129;01mis\u001b[39;00m \u001b[38;5;28;01mNone\u001b[39;00m \u001b[38;5;129;01mand\u001b[39;00m object_pairs_hook \u001b[38;5;129;01mis\u001b[39;00m \u001b[38;5;28;01mNone\u001b[39;00m \u001b[38;5;129;01mand\u001b[39;00m \u001b[38;5;129;01mnot\u001b[39;00m kw):\n\u001b[1;32m--> 346\u001b[0m     \u001b[38;5;28;01mreturn\u001b[39;00m \u001b[43m_default_decoder\u001b[49m\u001b[38;5;241;43m.\u001b[39;49m\u001b[43mdecode\u001b[49m\u001b[43m(\u001b[49m\u001b[43ms\u001b[49m\u001b[43m)\u001b[49m\n\u001b[0;32m    347\u001b[0m \u001b[38;5;28;01mif\u001b[39;00m \u001b[38;5;28mcls\u001b[39m \u001b[38;5;129;01mis\u001b[39;00m \u001b[38;5;28;01mNone\u001b[39;00m:\n",
      "File \u001b[1;32mD:\\Anaconda\\envs\\gpu_16march2022\\lib\\json\\decoder.py:337\u001b[0m, in \u001b[0;36mJSONDecoder.decode\u001b[1;34m(self, s, _w)\u001b[0m\n\u001b[0;32m    333\u001b[0m \u001b[38;5;124;03m\"\"\"Return the Python representation of ``s`` (a ``str`` instance\u001b[39;00m\n\u001b[0;32m    334\u001b[0m \u001b[38;5;124;03mcontaining a JSON document).\u001b[39;00m\n\u001b[0;32m    335\u001b[0m \n\u001b[0;32m    336\u001b[0m \u001b[38;5;124;03m\"\"\"\u001b[39;00m\n\u001b[1;32m--> 337\u001b[0m obj, end \u001b[38;5;241m=\u001b[39m \u001b[38;5;28;43mself\u001b[39;49m\u001b[38;5;241;43m.\u001b[39;49m\u001b[43mraw_decode\u001b[49m\u001b[43m(\u001b[49m\u001b[43ms\u001b[49m\u001b[43m,\u001b[49m\u001b[43m \u001b[49m\u001b[43midx\u001b[49m\u001b[38;5;241;43m=\u001b[39;49m\u001b[43m_w\u001b[49m\u001b[43m(\u001b[49m\u001b[43ms\u001b[49m\u001b[43m,\u001b[49m\u001b[43m \u001b[49m\u001b[38;5;241;43m0\u001b[39;49m\u001b[43m)\u001b[49m\u001b[38;5;241;43m.\u001b[39;49m\u001b[43mend\u001b[49m\u001b[43m(\u001b[49m\u001b[43m)\u001b[49m\u001b[43m)\u001b[49m\n\u001b[0;32m    338\u001b[0m end \u001b[38;5;241m=\u001b[39m _w(s, end)\u001b[38;5;241m.\u001b[39mend()\n",
      "File \u001b[1;32mD:\\Anaconda\\envs\\gpu_16march2022\\lib\\json\\decoder.py:355\u001b[0m, in \u001b[0;36mJSONDecoder.raw_decode\u001b[1;34m(self, s, idx)\u001b[0m\n\u001b[0;32m    354\u001b[0m \u001b[38;5;28;01mexcept\u001b[39;00m \u001b[38;5;167;01mStopIteration\u001b[39;00m \u001b[38;5;28;01mas\u001b[39;00m err:\n\u001b[1;32m--> 355\u001b[0m     \u001b[38;5;28;01mraise\u001b[39;00m JSONDecodeError(\u001b[38;5;124m\"\u001b[39m\u001b[38;5;124mExpecting value\u001b[39m\u001b[38;5;124m\"\u001b[39m, s, err\u001b[38;5;241m.\u001b[39mvalue) \u001b[38;5;28;01mfrom\u001b[39;00m \u001b[38;5;28mNone\u001b[39m\n\u001b[0;32m    356\u001b[0m \u001b[38;5;28;01mreturn\u001b[39;00m obj, end\n",
      "\u001b[1;31mJSONDecodeError\u001b[0m: Expecting value: line 1 column 1 (char 0)",
      "\nDuring handling of the above exception, another exception occurred:\n",
      "\u001b[1;31mJSONDecodeError\u001b[0m                           Traceback (most recent call last)",
      "Input \u001b[1;32mIn [21]\u001b[0m, in \u001b[0;36m<cell line: 3>\u001b[1;34m()\u001b[0m\n\u001b[0;32m      1\u001b[0m dummy_url \u001b[38;5;241m=\u001b[39m \u001b[38;5;124mf\u001b[39m\u001b[38;5;124m\"\u001b[39m\u001b[38;5;124mhttps://www.novonordisk.com/bin/nncorp/news-search?searchtext=null&start=2000-01-01&end=2022-05-24&newspath=/content/dam/nncorp/global/en/investors/content-fragments/ir-materials&limit=10&currentresults=10&function=search&language=all&type=Annual%20reports,Investor%20presentations,5355,5356\u001b[39m\u001b[38;5;124m\"\u001b[39m\n\u001b[0;32m      2\u001b[0m req \u001b[38;5;241m=\u001b[39m requests\u001b[38;5;241m.\u001b[39mget(dummy_url)\n\u001b[1;32m----> 3\u001b[0m data \u001b[38;5;241m=\u001b[39m \u001b[43mreq\u001b[49m\u001b[38;5;241;43m.\u001b[39;49m\u001b[43mjson\u001b[49m\u001b[43m(\u001b[49m\u001b[43m)\u001b[49m\n\u001b[0;32m      4\u001b[0m data\n",
      "File \u001b[1;32mD:\\Anaconda\\envs\\gpu_16march2022\\lib\\site-packages\\requests\\models.py:917\u001b[0m, in \u001b[0;36mResponse.json\u001b[1;34m(self, **kwargs)\u001b[0m\n\u001b[0;32m    915\u001b[0m     \u001b[38;5;28;01mraise\u001b[39;00m RequestsJSONDecodeError(e\u001b[38;5;241m.\u001b[39mmessage)\n\u001b[0;32m    916\u001b[0m \u001b[38;5;28;01melse\u001b[39;00m:\n\u001b[1;32m--> 917\u001b[0m     \u001b[38;5;28;01mraise\u001b[39;00m RequestsJSONDecodeError(e\u001b[38;5;241m.\u001b[39mmsg, e\u001b[38;5;241m.\u001b[39mdoc, e\u001b[38;5;241m.\u001b[39mpos)\n",
      "\u001b[1;31mJSONDecodeError\u001b[0m: [Errno Expecting value] <html>\r\n<head><title>403 Forbidden</title></head>\r\n<body>\r\n<center><h1>403 Forbidden</h1></center>\r\n<hr><center>Microsoft-Azure-Application-Gateway/v2</center>\r\n</body>\r\n</html>\r\n: 0"
     ]
    }
   ],
   "source": [
    "dummy_url = f\"https://www.novonordisk.com/bin/nncorp/news-search?searchtext=null&start=2000-01-01&end=2022-05-24&newspath=/content/dam/nncorp/global/en/investors/content-fragments/ir-materials&limit=10&currentresults=10&function=search&language=all&type=Annual%20reports,Investor%20presentations,5355,5356\"\n",
    "req = requests.get(dummy_url)\n",
    "data = req.json()\n",
    "data"
   ]
  },
  {
   "cell_type": "code",
   "execution_count": 22,
   "id": "2535ca02",
   "metadata": {
    "ExecuteTime": {
     "end_time": "2022-05-24T09:25:11.540226Z",
     "start_time": "2022-05-24T09:25:09.511487Z"
    }
   },
   "outputs": [
    {
     "name": "stdout",
     "output_type": "stream",
     "text": [
      "940\n"
     ]
    }
   ],
   "source": [
    "url = \"https://www.novonordisk.com/bin/nncorp/news-search?searchtext=null&start=2000-01-01&end=2022-05-24&newspath=/content/dam/nncorp/global/en/investors/content-fragments/ir-materials&limit=960&currentresults=10&function=search&language=all&type=Annual%20reports,Investor%20presentations,5355,5356\"\n",
    "headers = {\n",
    "    \"User-Agent\": \"Mozilla/5.0 (Windows NT 10.0; Win64; x64; rv:90.0) Gecko/20100101 Firefox/90.0\"}\n",
    "api_request = requests.get(url, headers=headers, timeout=20)\n",
    "if api_request.status_code==200:\n",
    "  data = api_request.json()\n",
    "  all_news = data['data']['resultBeanList']\n",
    "  print(len(all_news))\n",
    "else:\n",
    "  print(\"Access Denied\")"
   ]
  },
  {
   "cell_type": "code",
   "execution_count": 3,
   "id": "d9bd2123",
   "metadata": {
    "ExecuteTime": {
     "end_time": "2022-05-24T09:08:29.522710Z",
     "start_time": "2022-05-24T09:08:29.509727Z"
    }
   },
   "outputs": [],
   "source": [
    "def remove_esc_chars(text):\n",
    "    return text.replace(\"\\n\", \" \").replace(\"\\t\", \" \").replace(\"\\r\", \" \")"
   ]
  },
  {
   "cell_type": "code",
   "execution_count": 4,
   "id": "6a7ebe7a",
   "metadata": {
    "ExecuteTime": {
     "end_time": "2022-05-24T09:08:29.538026Z",
     "start_time": "2022-05-24T09:08:29.523710Z"
    }
   },
   "outputs": [],
   "source": [
    "def get_article_body(url):\n",
    "    site_soup = parse_webpage_bs(url)\n",
    "    if site_soup!=None:  \n",
    "        try:\n",
    "            content = []\n",
    "            paragraphs = site_soup.findAll('div',{'class' :'article__body'})\n",
    "            for para in paragraphs:\n",
    "                text = remove_esc_chars(para.get_text().strip())\n",
    "                content.append(text)\n",
    "                text = \" \".join(content)\n",
    "        except:\n",
    "#             logger.info(e)\n",
    "            text = \"\"\n",
    "        return text\n",
    "    else:\n",
    "        return \"\""
   ]
  },
  {
   "cell_type": "code",
   "execution_count": 5,
   "id": "d8b533ac",
   "metadata": {
    "ExecuteTime": {
     "end_time": "2022-05-24T09:08:29.554047Z",
     "start_time": "2022-05-24T09:08:29.540001Z"
    }
   },
   "outputs": [],
   "source": [
    "def parse_webpage_bs(search_url):\n",
    "    \n",
    "    headers = {\n",
    "        \"User-Agent\": \"Mozilla/5.0 (Windows NT 10.0; Win64; x64; rv:90.0) Gecko/20100101 Firefox/90.0\"}\n",
    "    try:\n",
    "        site_request = requests.get(search_url, headers=headers, timeout=10)\n",
    "    except requests.exceptions.RequestException as e:\n",
    "        print(e)\n",
    "        site_request = None\n",
    "    if site_request != None and site_request.status_code==200:\n",
    "        site_soup = bs4.BeautifulSoup(site_request.content, \"lxml\")\n",
    "    else:\n",
    "        site_soup = None\n",
    "    return site_soup"
   ]
  },
  {
   "cell_type": "code",
   "execution_count": 6,
   "id": "813c2899",
   "metadata": {
    "ExecuteTime": {
     "end_time": "2022-05-24T09:08:29.569380Z",
     "start_time": "2022-05-24T09:08:29.556081Z"
    }
   },
   "outputs": [],
   "source": [
    "SITE_NAME='Novonordisk'\n",
    "\n",
    "DOMAIN = \"https://www.novonordisk.com\"\n",
    "\n",
    "SITE_LINK=\"https://www.novonordisk.com/news-and-media/news-and-ir-materials.html\""
   ]
  },
  {
   "cell_type": "markdown",
   "id": "2ba7cd9a",
   "metadata": {},
   "source": [
    "for pagination we can change the limit value  "
   ]
  },
  {
   "cell_type": "code",
   "execution_count": 7,
   "id": "3b278221",
   "metadata": {
    "ExecuteTime": {
     "end_time": "2022-05-24T09:08:29.770588Z",
     "start_time": "2022-05-24T09:08:29.571170Z"
    },
    "scrolled": true
   },
   "outputs": [
    {
     "name": "stdout",
     "output_type": "stream",
     "text": [
      "[]\n"
     ]
    }
   ],
   "source": [
    "article_list = []\n",
    "pagination = 0\n",
    "while True:\n",
    "    dummy_url = f\"https://www.novonordisk.com/bin/nncorp/news-search?searchtext=null&start=2000-01-01&end=2022-05-24&newspath=/content/dam/nncorp/global/en/investors/content-fragments/ir-materials&limit=10&currentresults=10&function=search&language=all&type=Annual%20reports,Investor%20presentations,5355,5356\"\n",
    "    temp_data = parse_webpage_api(dummy_url)\n",
    "    print(temp_data)\n",
    "    break\n",
    "#     count_of_elements = temp_data['data']['numberOfResults']\n",
    "#     print(count_of_elements)\n",
    "#     url = f\"https://www.cslbehring.com/news-api/mosaicloadmore?mosaicid={code}&stickyid=0&isUsingTile=false&resultsOnFirstPage=0&pageIndex={pagination}&offsetIndex=0\"\n",
    "    \n",
    "#     elements = data['Articles']\n",
    "#     if data != None:\n",
    "#         for element in elements:\n",
    "#             title = element['Headline']\n",
    "#             link = DOMAIN + element[\"LinkUrl\"]\n",
    "#             published_date = element['FormattedDate']\n",
    "#             thumbnail = element[\"ImageUrl\"]\n",
    "#             text = get_article_body(link)\n",
    "#             author = SITE_NAME\n",
    "#             article = (published_date,title,text,link,thumbnail,author)\n",
    "#             article_list.append(article)\n",
    "#             print(published_date,title)\n",
    "#     print()            \n",
    "#     print(str(last_page-(pagination)) + \" pages remaining..\",end=\"\\r\")\n",
    "    \n",
    "#     if pagination > last_page:\n",
    "#         break\n",
    "        \n",
    "#     if pagination >= 3:\n",
    "#         break\n",
    "        \n",
    "#     pagination +=1"
   ]
  }
 ],
 "metadata": {
  "kernelspec": {
   "display_name": "Python 3 (ipykernel)",
   "language": "python",
   "name": "python3"
  },
  "language_info": {
   "codemirror_mode": {
    "name": "ipython",
    "version": 3
   },
   "file_extension": ".py",
   "mimetype": "text/x-python",
   "name": "python",
   "nbconvert_exporter": "python",
   "pygments_lexer": "ipython3",
   "version": "3.9.7"
  },
  "toc": {
   "base_numbering": 1,
   "nav_menu": {},
   "number_sections": true,
   "sideBar": true,
   "skip_h1_title": false,
   "title_cell": "Table of Contents",
   "title_sidebar": "Contents",
   "toc_cell": false,
   "toc_position": {},
   "toc_section_display": true,
   "toc_window_display": false
  }
 },
 "nbformat": 4,
 "nbformat_minor": 5
}
