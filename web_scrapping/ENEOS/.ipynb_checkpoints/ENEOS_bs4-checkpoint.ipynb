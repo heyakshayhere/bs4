{
 "cells": [
  {
   "cell_type": "markdown",
   "id": "fd194840",
   "metadata": {},
   "source": [
    "**URL:**\n",
    "\n",
    "https://www.eneos.co.jp/english/newsrelease/"
   ]
  },
  {
   "cell_type": "code",
   "execution_count": 1,
   "id": "0e909ca6",
   "metadata": {
    "ExecuteTime": {
     "end_time": "2022-07-05T12:46:56.269647Z",
     "start_time": "2022-07-05T12:45:27.030351Z"
    },
    "code_folding": [
     0
    ]
   },
   "outputs": [
    {
     "data": {
      "application/javascript": [
       "IPython.notebook.set_autosave_interval(1000)"
      ]
     },
     "metadata": {},
     "output_type": "display_data"
    },
    {
     "name": "stdout",
     "output_type": "stream",
     "text": [
      "Autosaving every 1 seconds\n"
     ]
    }
   ],
   "source": [
    "#libraries\n",
    "import os \n",
    "os.environ['KMP_DUPLICATE_LIB_OK']='True'\n",
    "\n",
    "import pandas as pd,requests,bs4,re,time,io,pytesseract,easyocr,random,textstat,urllib.request\n",
    "from pdfminer.high_level import extract_text\n",
    "from PIL import Image\n",
    "from pathlib import Path\n",
    "from pdf2image import convert_from_path\n",
    "from goose3 import Goose\n",
    "from datetime import datetime\n",
    "from bs4 import BeautifulSoup\n",
    "from tqdm.auto import tqdm\n",
    "\n",
    "reader = easyocr.Reader(['en'])\n",
    "\n",
    "import warnings\n",
    "warnings.filterwarnings(\"ignore\")\n",
    "\n",
    "%autosave 1"
   ]
  },
  {
   "cell_type": "code",
   "execution_count": 2,
   "id": "5d17b93a",
   "metadata": {
    "ExecuteTime": {
     "end_time": "2022-07-05T12:47:03.853229Z",
     "start_time": "2022-07-05T12:47:03.843258Z"
    },
    "code_folding": [
     0
    ]
   },
   "outputs": [],
   "source": [
    "#site name , domain and site link\n",
    "SITE_NAME='Eneos'\n",
    "\n",
    "DOMAIN = \"https://www.eneos.co.jp/english\"\n",
    "\n",
    "SITE_LINK = \"https://www.eneos.co.jp/english/newsrelease\""
   ]
  },
  {
   "cell_type": "code",
   "execution_count": 42,
   "id": "0cff8097",
   "metadata": {
    "ExecuteTime": {
     "end_time": "2022-07-05T13:06:15.774187Z",
     "start_time": "2022-07-05T13:06:15.742966Z"
    },
    "code_folding": [
     0
    ]
   },
   "outputs": [],
   "source": [
    "#functions\n",
    "def parse_webpage_bs(search_url):\n",
    "    \n",
    "    headers = {\n",
    "        \"User-Agent\": \"Mozilla/5.0 (Windows NT 10.0; Win64; x64; rv:90.0) Gecko/20100101 Firefox/90.0\"}\n",
    "    try:\n",
    "        site_request = requests.get(search_url, headers=headers, timeout=10)\n",
    "    except requests.exceptions.RequestException as e:\n",
    "        print(e)\n",
    "        site_request = None\n",
    "    if site_request != None and site_request.status_code==200:\n",
    "        site_soup = bs4.BeautifulSoup(site_request.content, \"lxml\")\n",
    "    else:\n",
    "        site_soup = None\n",
    "    return site_soup\n",
    "\n",
    "def remove_esc_chars(string):\n",
    "    review = re.sub('''[^a-zA-Z0-9!\"#$%&'()*+,-./:;<=>?@[\\]^_`{|}~°]''', ' ',string)\n",
    "    review = review.split()\n",
    "    review = ' '.join(review)\n",
    "    return review\n",
    "\n",
    "def get_text(link): \n",
    "    g = Goose()\n",
    "    article_extract = g.extract(url=link)\n",
    "    article = remove_esc_chars(article_extract.cleaned_text)\n",
    "    meta_data = remove_esc_chars(article_extract.meta_description)\n",
    "    whole_data = meta_data+article\n",
    "    text = whole_data.strip()\n",
    "\n",
    "    if textstat.lexicon_count(text, removepunct=True) < 5:\n",
    "        try:\n",
    "            response = requests.get(link)\n",
    "            text = remove_esc_chars(extract_text(io.BytesIO(response.content)))\n",
    "\n",
    "            if textstat.lexicon_count(text, removepunct=True) < 5:\n",
    "                texts = \"\"\n",
    "                r = requests.get(link)\n",
    "                filename = Path('temp.pdf')\n",
    "                filename.write_bytes(r.content)\n",
    "\n",
    "                pages = convert_from_path('temp.pdf', 500)\n",
    "                for x in pages:\n",
    "                    x.save(\"temp.jpg\")\n",
    "                    output = reader.readtext(\"temp.jpg\")\n",
    "                    for o in output:\n",
    "                        texts += o[1]\n",
    "\n",
    "                text = remove_esc_chars(texts)\n",
    "\n",
    "                if textstat.lexicon_count(text, removepunct=True) < 5:\n",
    "                    texts = \"\"\n",
    "                    soup = parse_webpage_bs(link)\n",
    "                    if soup!= None:\n",
    "                        ps = soup.findAll('p')\n",
    "                        for p in ps:\n",
    "                            texts+= p.text\n",
    "\n",
    "                    text = remove_esc_chars(texts)\n",
    "        except:\n",
    "            text = \"\"\n",
    "    \n",
    "    return text"
   ]
  },
  {
   "cell_type": "code",
   "execution_count": 76,
   "id": "63db9768",
   "metadata": {
    "ExecuteTime": {
     "end_time": "2022-07-05T13:26:54.028073Z",
     "start_time": "2022-07-05T13:26:05.087872Z"
    },
    "code_folding": [
     4
    ],
    "scrolled": true
   },
   "outputs": [
    {
     "name": "stdout",
     "output_type": "stream",
     "text": [
      "\n",
      "https://www.eneos.co.jp/english/newsrelease/2022/\n"
     ]
    },
    {
     "data": {
      "application/vnd.jupyter.widget-view+json": {
       "model_id": "1af4ef0761204ea2b3fc93416bbbeb09",
       "version_major": 2,
       "version_minor": 0
      },
      "text/plain": [
       "Getting Data for year 2022:   0%|          | 0/2 [00:00<?, ?it/s]"
      ]
     },
     "metadata": {},
     "output_type": "display_data"
    },
    {
     "name": "stdout",
     "output_type": "stream",
     "text": [
      "Jun. 7, 2022 Joint Study Agreement formed to evaluate development of clean hydrogen supply chain between UAE and Japan\n",
      "May 25, 2022 Partnership Agreement Signed to Expand CO2-free Hydrogen Use to Decarbonize Railways\n",
      "\n",
      "https://www.eneos.co.jp/english/newsrelease/2021/\n"
     ]
    },
    {
     "data": {
      "application/vnd.jupyter.widget-view+json": {
       "model_id": "0955486ea62e44dcb7270c4095895260",
       "version_major": 2,
       "version_minor": 0
      },
      "text/plain": [
       "Getting Data for year 2021:   0%|          | 0/2 [00:00<?, ?it/s]"
      ]
     },
     "metadata": {},
     "output_type": "display_data"
    },
    {
     "name": "stdout",
     "output_type": "stream",
     "text": [
      "Mar. 23, 2022 ENEOS, Toyota, and Woven Planet Collaborate to Facilitate CO2-free Hydrogen Production and Usage for Woven City and Beyond\n",
      "Feb. 18, 2022 Bridgestone and ENEOS Launch Joint Project Focused on Producing Tire Raw Materials from Used Tires\n",
      "\n",
      "https://www.eneos.co.jp/english/newsrelease/2020/\n"
     ]
    },
    {
     "data": {
      "application/vnd.jupyter.widget-view+json": {
       "model_id": "f6928daccc004940803e07698c56a65b",
       "version_major": 2,
       "version_minor": 0
      },
      "text/plain": [
       "Getting Data for year 2020:   0%|          | 0/2 [00:00<?, ?it/s]"
      ]
     },
     "metadata": {},
     "output_type": "display_data"
    },
    {
     "name": "stdout",
     "output_type": "stream",
     "text": [
      "Mar. 25, 2021 ENEOS signs MoU with Aramco for blue hydrogen and blue ammonia collaboration\n",
      "Feb. 25, 2021 Enhancement of Business Promotion in Vietnam\n",
      "\n",
      "https://www.eneos.co.jp/english/newsrelease/2019/\n"
     ]
    },
    {
     "data": {
      "application/vnd.jupyter.widget-view+json": {
       "model_id": "c8cd65a3e69d4f3c903fe537c0f59217",
       "version_major": 2,
       "version_minor": 0
      },
      "text/plain": [
       "Getting Data for year 2019:   0%|          | 0/2 [00:00<?, ?it/s]"
      ]
     },
     "metadata": {},
     "output_type": "display_data"
    },
    {
     "name": "stdout",
     "output_type": "stream",
     "text": [
      "Feb. 25, 2020 Feasibility Study on Production and Sales of Sustainable Aviation Fuel Made from Plastic and Other Waste Materials\n",
      "Jan. 9, 2020 Business Operations of New Lubricants Sales Entity to Start in the Republic of the Philippines\n",
      "\n",
      "https://www.eneos.co.jp/english/newsrelease/2018/\n"
     ]
    },
    {
     "data": {
      "application/vnd.jupyter.widget-view+json": {
       "model_id": "ac59de0483b44a0e864d192a4b4d75ec",
       "version_major": 2,
       "version_minor": 0
      },
      "text/plain": [
       "Getting Data for year 2018:   0%|          | 0/2 [00:00<?, ?it/s]"
      ]
     },
     "metadata": {},
     "output_type": "display_data"
    },
    {
     "name": "stdout",
     "output_type": "stream",
     "text": [
      "Mar. 15, 2019 Succeeded in the world's first technical verification to produce \"CO2-free hydrogen\" at low cost\n",
      "Sep. 6, 2018 Memorandum of Understanding Regarding Replacement Plan for the Goi Thermal Power Station\n",
      "\n",
      "https://www.eneos.co.jp/english/newsrelease/2017/\n"
     ]
    },
    {
     "data": {
      "application/vnd.jupyter.widget-view+json": {
       "model_id": "3af7d91c1fa642f2b0f3950d32bffd79",
       "version_major": 2,
       "version_minor": 0
      },
      "text/plain": [
       "Getting Data for year 2017:   0%|          | 0/2 [00:00<?, ?it/s]"
      ]
     },
     "metadata": {},
     "output_type": "display_data"
    },
    {
     "name": "stdout",
     "output_type": "stream",
     "text": [
      "Mar. 29, 2018 Sale of part of High Performance Materials business\n",
      "Sep. 20, 2017 Donation to Hurricane Harvey Relief in the US\n",
      "\n",
      "https://www.eneos.co.jp/english/newsrelease/jx/2016/\n"
     ]
    },
    {
     "data": {
      "application/vnd.jupyter.widget-view+json": {
       "model_id": "799381dfdd7a45abb79751d2e8e0183b",
       "version_major": 2,
       "version_minor": 0
      },
      "text/plain": [
       "Getting Data for year 2016:   0%|          | 0/2 [00:00<?, ?it/s]"
      ]
     },
     "metadata": {},
     "output_type": "display_data"
    },
    {
     "name": "stdout",
     "output_type": "stream",
     "text": [
      "Jan. 23, 2017 PETRONAS LNG 9 Sdn Bhd (PL9SB) commences commercial operations\n",
      "Jun. 27, 2016 The expansion of PIB plant\n",
      "\n",
      "https://www.eneos.co.jp/english/newsrelease/jx/2015/\n"
     ]
    },
    {
     "data": {
      "application/vnd.jupyter.widget-view+json": {
       "model_id": "b27bae65b652422f98ff3d69d1a1bdff",
       "version_major": 2,
       "version_minor": 0
      },
      "text/plain": [
       "Getting Data for year 2015:   0%|          | 0/2 [00:00<?, ?it/s]"
      ]
     },
     "metadata": {},
     "output_type": "display_data"
    },
    {
     "name": "stdout",
     "output_type": "stream",
     "text": [
      "March 30, 2016 Individual Sponsorship for the MotoGP Rider Mr. Valentino Rossi\n",
      "January 8, 2016 Irvine Scientific acquires BioCare Europe S.r.l.\n",
      "\n",
      "https://www.eneos.co.jp/english/newsrelease/jx/2014/\n"
     ]
    },
    {
     "data": {
      "application/vnd.jupyter.widget-view+json": {
       "model_id": "ef586aa368e349d39e8325d34c28e4e5",
       "version_major": 2,
       "version_minor": 0
      },
      "text/plain": [
       "Getting Data for year 2014:   0%|          | 0/2 [00:00<?, ?it/s]"
      ]
     },
     "metadata": {},
     "output_type": "display_data"
    },
    {
     "name": "stdout",
     "output_type": "stream",
     "text": [
      "March 18, 2015 JX Nippon Oil & Energy Becomes Tokyo 2020 Gold Partner\n",
      "February 19, 2015 SPONSORSHIP OF BOSTON RED SOX\n",
      "\n",
      "https://www.eneos.co.jp/english/newsrelease/jx/2013/\n"
     ]
    },
    {
     "data": {
      "application/vnd.jupyter.widget-view+json": {
       "model_id": "21341333836845a4a59b56828b114fe0",
       "version_major": 2,
       "version_minor": 0
      },
      "text/plain": [
       "Getting Data for year 2013:   0%|          | 0/2 [00:00<?, ?it/s]"
      ]
     },
     "metadata": {},
     "output_type": "display_data"
    },
    {
     "name": "stdout",
     "output_type": "stream",
     "text": [
      "March 20, 2014 Signing of SPA with Malaysia LNG Sdn. Bhd.\n",
      "December 16, 2013 Donation for the Construction of a New Elementary School Building in Vietnam\n",
      "\n",
      "https://www.eneos.co.jp/english/newsrelease/jx/2012/\n"
     ]
    },
    {
     "data": {
      "application/vnd.jupyter.widget-view+json": {
       "model_id": "c6ecd1e67fe94c95b6cc9867953ab257",
       "version_major": 2,
       "version_minor": 0
      },
      "text/plain": [
       "Getting Data for year 2012:   0%|          | 0/2 [00:00<?, ?it/s]"
      ]
     },
     "metadata": {},
     "output_type": "display_data"
    },
    {
     "name": "stdout",
     "output_type": "stream",
     "text": [
      "December 20, 2012 JAPAN-GTL Process wonThe Japan Institute of Energy Award 2012 in Technical Division\n",
      "October 18, 2012 The new project of ENB plant in Thailand\n",
      "\n",
      "https://www.eneos.co.jp/english/newsrelease/jx/2011/\n"
     ]
    },
    {
     "data": {
      "application/vnd.jupyter.widget-view+json": {
       "model_id": "a04a6cd3b4cf4b949946bcecf16632b8",
       "version_major": 2,
       "version_minor": 0
      },
      "text/plain": [
       "Getting Data for year 2011:   0%|          | 0/2 [00:00<?, ?it/s]"
      ]
     },
     "metadata": {},
     "output_type": "display_data"
    },
    {
     "name": "stdout",
     "output_type": "stream",
     "text": [
      "March 14, 2012 Xstrata Coal and JX Nippon Oil & Energy Announce Creation of a Canadian Metallurgical Coal Joint Venture\n",
      "February 16, 2012 Signing of SPA with Shell Eastern Trading Pte Ltd\n",
      "\n",
      "https://www.eneos.co.jp/english/newsrelease/jx/2010/\n"
     ]
    },
    {
     "data": {
      "application/vnd.jupyter.widget-view+json": {
       "model_id": "fa8ed77f38e740efa143134d2dcfd1d1",
       "version_major": 2,
       "version_minor": 0
      },
      "text/plain": [
       "Getting Data for year 2010:   0%|          | 0/2 [00:00<?, ?it/s]"
      ]
     },
     "metadata": {},
     "output_type": "display_data"
    },
    {
     "name": "stdout",
     "output_type": "stream",
     "text": [
      "January 13, 2011 13 Japanese Companies Eye Smooth Domestic Launch of FCVs\n",
      "January 7, 2011 JI Project with Gazprom Realizes 290K Tons (CO2 Equivalent) in Emissions Credits\n",
      "\n",
      "https://www.eneos.co.jp/english/newsrelease/noc/2009/\n"
     ]
    },
    {
     "data": {
      "application/vnd.jupyter.widget-view+json": {
       "model_id": "0878ee9945a44cbfa8b21f082c99ac4a",
       "version_major": 2,
       "version_minor": 0
      },
      "text/plain": [
       "Getting Data for year 2009:   0%|          | 0/2 [00:00<?, ?it/s]"
      ]
     },
     "metadata": {},
     "output_type": "display_data"
    },
    {
     "name": "stdout",
     "output_type": "stream",
     "text": [
      "2010.02.26 Notice Concerning Assignment of Fixed Assets\n",
      "2010.02.22 Production to be Launched in Europe of Astaxanthin for use in Fish Feed\n",
      "\n",
      "https://www.eneos.co.jp/english/newsrelease/noc/2008/\n"
     ]
    },
    {
     "data": {
      "application/vnd.jupyter.widget-view+json": {
       "model_id": "1fe8b727b74e434497d8e1e0ee7ab1a9",
       "version_major": 2,
       "version_minor": 0
      },
      "text/plain": [
       "Getting Data for year 2008:   0%|          | 0/2 [00:00<?, ?it/s]"
      ]
     },
     "metadata": {},
     "output_type": "display_data"
    },
    {
     "name": "stdout",
     "output_type": "stream",
     "text": [
      "2009.03.13 Personnel Changes\n",
      "2009.02.27 Notice of Changes in Schedule of Management Integration\n",
      "\n",
      "https://www.eneos.co.jp/english/newsrelease/noc/2007/\n"
     ]
    },
    {
     "data": {
      "application/vnd.jupyter.widget-view+json": {
       "model_id": "2e30211b72294bca9e55523e9fea08b9",
       "version_major": 2,
       "version_minor": 0
      },
      "text/plain": [
       "Getting Data for year 2007:   0%|          | 0/2 [00:00<?, ?it/s]"
      ]
     },
     "metadata": {},
     "output_type": "display_data"
    },
    {
     "name": "stdout",
     "output_type": "stream",
     "text": [
      "2008.03.18 memorandum for a business integration\n",
      "2008.02.29 Rang Dong Project in Vietnam Receives CER Issuance Approval Under the Kyoto Protocol\n",
      "\n",
      "https://www.eneos.co.jp/english/newsrelease/noc/2006/\n"
     ]
    },
    {
     "data": {
      "application/vnd.jupyter.widget-view+json": {
       "model_id": "e90cd9f4e9434f748cefc4098b8b45a3",
       "version_major": 2,
       "version_minor": 0
      },
      "text/plain": [
       "Getting Data for year 2006:   0%|          | 0/2 [00:00<?, ?it/s]"
      ]
     },
     "metadata": {},
     "output_type": "display_data"
    },
    {
     "name": "stdout",
     "output_type": "stream",
     "text": [
      "2007.02.22 Nippon Oil and SK of Korea to Develop Strategic Business and Capital Alliances\n",
      "2006.08.29 CSR Report 2006\n",
      "\n",
      "https://www.eneos.co.jp/english/newsrelease/noc/2005/\n"
     ]
    },
    {
     "data": {
      "application/vnd.jupyter.widget-view+json": {
       "model_id": "bb58a62b80d14feab8dbd72f3f278eb1",
       "version_major": 2,
       "version_minor": 0
      },
      "text/plain": [
       "Getting Data for year 2005:   0%|          | 0/2 [00:00<?, ?it/s]"
      ]
     },
     "metadata": {},
     "output_type": "display_data"
    },
    {
     "name": "stdout",
     "output_type": "stream",
     "text": [
      "2006.02.07 Rang Dong Oil Field associated gas recovery and utilization project approved as a Clean Development Mechanism Project under the Kyoto Protocol.\n",
      "2005.12.19 Notice Regarding Three-Party Agreement\n",
      "\n",
      "https://www.eneos.co.jp/english/newsrelease/noc/2004/\n"
     ]
    },
    {
     "data": {
      "application/vnd.jupyter.widget-view+json": {
       "model_id": "c795facd2acc4e04804eb95a6259ce47",
       "version_major": 2,
       "version_minor": 0
      },
      "text/plain": [
       "Getting Data for year 2004:   0%|          | 0/2 [00:00<?, ?it/s]"
      ]
     },
     "metadata": {},
     "output_type": "display_data"
    },
    {
     "name": "stdout",
     "output_type": "stream",
     "text": [
      "2005.03.30 Commencement of Commercial Oil Production from the Mutineer-Exeter Oil Fields, Offshore North-Western Australia\n",
      "2005.02.24 Lubricants Partner Contract Signed with the B•A•R Honda F1 Team\n",
      "\n",
      "https://www.eneos.co.jp/english/newsrelease/noc/2003/\n"
     ]
    },
    {
     "data": {
      "application/vnd.jupyter.widget-view+json": {
       "model_id": "a5d15fe2abc642a89429fa6abe13ae05",
       "version_major": 2,
       "version_minor": 0
      },
      "text/plain": [
       "Getting Data for year 2003:   0%|          | 0/2 [00:00<?, ?it/s]"
      ]
     },
     "metadata": {},
     "output_type": "display_data"
    },
    {
     "name": "stdout",
     "output_type": "stream",
     "text": [
      "2004.03.26 Announcement of Early Application of Fixed Asset Impairment Accounting and Revisions in Forecast for Nippon Oil\n",
      "2003.11.25 Commencement of Production from Helang Gas Field\n"
     ]
    }
   ],
   "source": [
    "article_list = []\n",
    "pagination = datetime.today().year\n",
    "last_page = 2003\n",
    "\n",
    "while pagination >= last_page:\n",
    "    #deciding the url\n",
    "    if pagination <= 2009:\n",
    "        url = f\"https://www.eneos.co.jp/english/newsrelease/noc/{pagination}/\"\n",
    "    elif pagination <= 2016 :\n",
    "        url = f\"https://www.eneos.co.jp/english/newsrelease/jx/{pagination}/\"\n",
    "    else:\n",
    "        url = f\"https://www.eneos.co.jp/english/newsrelease/{pagination}/\"\n",
    "\n",
    "    #getting the soup\n",
    "    soup = parse_webpage_bs(url)\n",
    "    print()\n",
    "    print(url)\n",
    "    \n",
    "    #container of elements\n",
    "    elements = soup.findAll('article', {'class': 'news_article'})\n",
    "\n",
    "    #creating empty lists to append data \n",
    "    published_dates,titles,texts,links,thumbnails,authors = [],[],[],[],[],[]\n",
    "\n",
    "    for element in tqdm(elements[:2],desc=f\"Getting Data for year {pagination}\"):\n",
    "        published_date_n_title = element.find('div', {'class': 'news_detail'})\n",
    "        published_date  = published_date_n_title.find('div', {'class': 'news_property'}).text.strip()\n",
    "        title = published_date_n_title.find('h3', {'class': 'news_title'}).text.strip()\n",
    "        link_fetched = element.find('a')['href']\n",
    "        if not re.findall(\"http\",link_fetched):\n",
    "            link =  \"https://www.eneos.co.jp\" +  link_fetched\n",
    "        else:\n",
    "            link = link_fetched\n",
    "\n",
    "        thumbnail = \"https://upload.wikimedia.org/wikipedia/commons/thumb/5/54/ENEOS_logo.svg/330px-ENEOS_logo.svg.png\"\n",
    "        author = SITE_NAME\n",
    "        text = get_text(link)\n",
    "\n",
    "        published_dates.append(published_date)\n",
    "        titles.append(title)\n",
    "        links.append(link)\n",
    "        thumbnails.append(thumbnail)\n",
    "        authors.append(author)\n",
    "        texts.append(text)\n",
    "\n",
    "    #zippig all the data togather \n",
    "    zipped = list(zip(published_dates,titles,texts,links,thumbnails,authors))\n",
    "\n",
    "    #unwinding and appending to the main list\n",
    "    for published_date,title,text,link,thumbnail,author in zipped:\n",
    "        article = (published_date.strip(),title.strip(),text.strip(),link.strip(),thumbnail.strip(),author.strip())\n",
    "        article_list.append(article)\n",
    "        print(published_date,title)\n",
    "        \n",
    "#     #my condition to break\n",
    "#     if pagination == 2018:\n",
    "#         break\n",
    "\n",
    "    pagination -=1 "
   ]
  },
  {
   "cell_type": "code",
   "execution_count": 77,
   "id": "85903eed",
   "metadata": {
    "ExecuteTime": {
     "end_time": "2022-07-05T13:26:54.043721Z",
     "start_time": "2022-07-05T13:26:54.029747Z"
    },
    "code_folding": [
     0
    ]
   },
   "outputs": [
    {
     "data": {
      "text/html": [
       "<div>\n",
       "<style scoped>\n",
       "    .dataframe tbody tr th:only-of-type {\n",
       "        vertical-align: middle;\n",
       "    }\n",
       "\n",
       "    .dataframe tbody tr th {\n",
       "        vertical-align: top;\n",
       "    }\n",
       "\n",
       "    .dataframe thead th {\n",
       "        text-align: right;\n",
       "    }\n",
       "</style>\n",
       "<table border=\"1\" class=\"dataframe\">\n",
       "  <thead>\n",
       "    <tr style=\"text-align: right;\">\n",
       "      <th></th>\n",
       "      <th>date</th>\n",
       "      <th>title</th>\n",
       "      <th>article</th>\n",
       "      <th>url</th>\n",
       "      <th>thumbnail</th>\n",
       "      <th>author</th>\n",
       "    </tr>\n",
       "  </thead>\n",
       "  <tbody>\n",
       "    <tr>\n",
       "      <th>0</th>\n",
       "      <td>Jun. 7, 2022</td>\n",
       "      <td>Joint Study Agreement formed to evaluate devel...</td>\n",
       "      <td>June 7th, 2022 Abu Dhabi National Oil Company ...</td>\n",
       "      <td>https://www.eneos.co.jp/english/newsrelease/20...</td>\n",
       "      <td>https://upload.wikimedia.org/wikipedia/commons...</td>\n",
       "      <td>Eneos</td>\n",
       "    </tr>\n",
       "    <tr>\n",
       "      <th>1</th>\n",
       "      <td>May 25, 2022</td>\n",
       "      <td>Partnership Agreement Signed to Expand CO2-fre...</td>\n",
       "      <td>May 25, 2022 East Japan Railway Company ENEOS ...</td>\n",
       "      <td>https://www.eneos.co.jp/english/newsrelease/20...</td>\n",
       "      <td>https://upload.wikimedia.org/wikipedia/commons...</td>\n",
       "      <td>Eneos</td>\n",
       "    </tr>\n",
       "    <tr>\n",
       "      <th>2</th>\n",
       "      <td>Mar. 23, 2022</td>\n",
       "      <td>ENEOS, Toyota, and Woven Planet Collaborate to...</td>\n",
       "      <td>March 23, 2022 ENEOS Corporation Toyota Motor ...</td>\n",
       "      <td>https://www.eneos.co.jp/english/newsrelease/20...</td>\n",
       "      <td>https://upload.wikimedia.org/wikipedia/commons...</td>\n",
       "      <td>Eneos</td>\n",
       "    </tr>\n",
       "    <tr>\n",
       "      <th>3</th>\n",
       "      <td>Feb. 18, 2022</td>\n",
       "      <td>Bridgestone and ENEOS Launch Joint Project Foc...</td>\n",
       "      <td>For Immediate Release Bridgestone Corporation ...</td>\n",
       "      <td>https://www.eneos.co.jp/english/newsrelease/20...</td>\n",
       "      <td>https://upload.wikimedia.org/wikipedia/commons...</td>\n",
       "      <td>Eneos</td>\n",
       "    </tr>\n",
       "    <tr>\n",
       "      <th>4</th>\n",
       "      <td>Mar. 25, 2021</td>\n",
       "      <td>ENEOS signs MoU with Aramco for blue hydrogen ...</td>\n",
       "      <td>March 25, 2021 ENEOS Corporation ENEOS signs M...</td>\n",
       "      <td>https://www.eneos.co.jp/english/newsrelease/20...</td>\n",
       "      <td>https://upload.wikimedia.org/wikipedia/commons...</td>\n",
       "      <td>Eneos</td>\n",
       "    </tr>\n",
       "  </tbody>\n",
       "</table>\n",
       "</div>"
      ],
      "text/plain": [
       "            date                                              title  \\\n",
       "0   Jun. 7, 2022  Joint Study Agreement formed to evaluate devel...   \n",
       "1   May 25, 2022  Partnership Agreement Signed to Expand CO2-fre...   \n",
       "2  Mar. 23, 2022  ENEOS, Toyota, and Woven Planet Collaborate to...   \n",
       "3  Feb. 18, 2022  Bridgestone and ENEOS Launch Joint Project Foc...   \n",
       "4  Mar. 25, 2021  ENEOS signs MoU with Aramco for blue hydrogen ...   \n",
       "\n",
       "                                             article  \\\n",
       "0  June 7th, 2022 Abu Dhabi National Oil Company ...   \n",
       "1  May 25, 2022 East Japan Railway Company ENEOS ...   \n",
       "2  March 23, 2022 ENEOS Corporation Toyota Motor ...   \n",
       "3  For Immediate Release Bridgestone Corporation ...   \n",
       "4  March 25, 2021 ENEOS Corporation ENEOS signs M...   \n",
       "\n",
       "                                                 url  \\\n",
       "0  https://www.eneos.co.jp/english/newsrelease/20...   \n",
       "1  https://www.eneos.co.jp/english/newsrelease/20...   \n",
       "2  https://www.eneos.co.jp/english/newsrelease/20...   \n",
       "3  https://www.eneos.co.jp/english/newsrelease/20...   \n",
       "4  https://www.eneos.co.jp/english/newsrelease/20...   \n",
       "\n",
       "                                           thumbnail author  \n",
       "0  https://upload.wikimedia.org/wikipedia/commons...  Eneos  \n",
       "1  https://upload.wikimedia.org/wikipedia/commons...  Eneos  \n",
       "2  https://upload.wikimedia.org/wikipedia/commons...  Eneos  \n",
       "3  https://upload.wikimedia.org/wikipedia/commons...  Eneos  \n",
       "4  https://upload.wikimedia.org/wikipedia/commons...  Eneos  "
      ]
     },
     "execution_count": 77,
     "metadata": {},
     "output_type": "execute_result"
    }
   ],
   "source": [
    "#temp df\n",
    "temp_df = pd.DataFrame(article_list,columns=['date','title','article','url','thumbnail','author'])\n",
    "temp_df.head()"
   ]
  },
  {
   "cell_type": "code",
   "execution_count": 78,
   "id": "7fa66a65",
   "metadata": {
    "ExecuteTime": {
     "end_time": "2022-07-05T13:26:54.262551Z",
     "start_time": "2022-07-05T13:26:54.047699Z"
    },
    "code_folding": [
     0
    ]
   },
   "outputs": [
    {
     "name": "stdout",
     "output_type": "stream",
     "text": [
      "Jan. 23, 2017 PETRONAS LNG 9 Sdn Bhd (PL9SB) commences commercial operations\n",
      "\n",
      "Eneos https://www.eneos.co.jp/english/newsrelease/jx/2016/pdf/20170123_01.pdf\n"
     ]
    },
    {
     "data": {
      "image/png": "[encoded data removed]",
      "text/plain": [
       "<PIL.PngImagePlugin.PngImageFile image mode=RGBA size=330x57 at 0x21634A98670>"
      ]
     },
     "metadata": {},
     "output_type": "display_data"
    },
    {
     "name": "stdout",
     "output_type": "stream",
     "text": [
      "\n",
      "Jan 23, 2017 PETRONAS LNG 9 Sdn Bhd (PL9SB) commences commercial operations Tokyo, 23rd January 2017 - JX Nippon Oil & Energy (JX NOE) is pleased to announce that PETRONAS LNG 9 Sdn Bhd (PL9SB) commenced commercial operations on 1st January. Last June, JX NOE purchased a 10 per cent stake in PL9SB, which owns the ninth LNG liquefaction train within the PETRONAS LNG Complex in Bintulu, Sarawak, Malaysia. The train has a production capacity of 3.6 million tonnes per annum. JX NOE s entry into PL9SB marked its second participation in PETRONAS LNG projects, in addition to its existing 10 per cent equity interest in MLNG Tiga Sdn Bhd. With the addition of the state-of-the-art liquefaction plant owned by PL9SB, the PETRONAS LNG Complex now has the capacity to produce approximately 30 million tonnes per annum. The strategic partnership of JX NOE and PETRONAS will strive towards expanding the LNG business and ensuring a reliable supply of energy for the customers. Aerial view of PETRONAS LNG Complex (Red Line shows Petronas LNG Train 9) About JX NOE JX Nippon Oil & Energy is one of three core business companies of JX Holdings, Inc., which is a Global Fortune 500 company, covering energy business. Its principal business is refining and marketing, the largest in Japan, but also an integrated energy conversion company involved in electricity, gas (LNG), coal, solar power generation, fuel cells and hydrogen industries. About PETRONAS PETRONAS, short for Petroliam Nasional Berhad, was incorporated on 17 August 1974 and is vested with the ownership and control of the petroleum resources in Malaysia. Fully-owned by the Malaysian government, PETRONAS operates like a multinational petroleum corporation with sound business management practices and principles guided by a complementary set of mission, vision and values. Engaged in a wide spectrum of oil and gas operations domestically and internationally; its activities include exploration and production (E&P) to downstream oil refining; marketing and distribution of petroleum products; gas processing and liquefaction; gas transmission pipeline network operations; marketing of liquefied natural gas (LNG); petrochemical manufacturing and marketing; trading; shipping; and property investment. Over the years, PETRONAS has grown to become a fully-integrated oil and gas corporation with expanding business in Malaysia and overseas. Ranked among FORTUNE Global 500 largest corporations in the world, PETRONAS has presence in more than 60 countries worldwide in its aspiration to be a leading oil and gas multinational of choice. Media contacts JX Nippon Oil & Energy Corporation Public Relations Dept. Public Relations Group Phone: + (813) 6257 7150\n"
     ]
    }
   ],
   "source": [
    "#see data\n",
    "def see_data(iloc_no=random.randint(0,len(temp_df))-1):\n",
    "    print(temp_df.iloc[iloc_no]['date'],temp_df.iloc[iloc_no]['title'])\n",
    "    print(f\"\\n{temp_df.iloc[iloc_no]['author']} {temp_df.iloc[iloc_no]['url']}\")\n",
    "    urllib.request.urlretrieve(temp_df.iloc[iloc_no]['thumbnail'], \"temp.jpg\")\n",
    "    display(Image.open(\"temp.jpg\"))\n",
    "    print(f\"\\n{temp_df.iloc[iloc_no]['article']}\")\n",
    "\n",
    "see_data()"
   ]
  },
  {
   "cell_type": "code",
   "execution_count": 79,
   "id": "1680bda7",
   "metadata": {
    "ExecuteTime": {
     "end_time": "2022-07-05T13:26:54.310707Z",
     "start_time": "2022-07-05T13:26:54.264584Z"
    },
    "code_folding": [
     0
    ]
   },
   "outputs": [],
   "source": [
    "#to csv\n",
    "temp_df.to_csv(f'{SITE_NAME} news.csv',index = False)\n",
    "\n",
    "#to json\n",
    "temp_df.to_json(f'{SITE_NAME} news.json')"
   ]
  },
  {
   "cell_type": "code",
   "execution_count": 80,
   "id": "28b58848",
   "metadata": {
    "ExecuteTime": {
     "end_time": "2022-07-05T13:26:54.325836Z",
     "start_time": "2022-07-05T13:26:54.311726Z"
    },
    "code_folding": [
     0
    ]
   },
   "outputs": [
    {
     "name": "stdout",
     "output_type": "stream",
     "text": [
      "Trash removed successfully\n"
     ]
    }
   ],
   "source": [
    "#to get rid of unwanteed trash created by the model use \n",
    "def remove_trash():\n",
    "    try:\n",
    "        try:\n",
    "            os.remove(\"temp.pdf\")\n",
    "        except:\n",
    "            pass\n",
    "        os.remove(\"temp.jpg\")\n",
    "        print(\"Trash removed successfully\")\n",
    "    except:\n",
    "        print(\"No trash found\")\n",
    "\n",
    "remove_trash()"
   ]
  }
 ],
 "metadata": {
  "kernelspec": {
   "display_name": "Python 3 (ipykernel)",
   "language": "python",
   "name": "python3"
  },
  "language_info": {
   "codemirror_mode": {
    "name": "ipython",
    "version": 3
   },
   "file_extension": ".py",
   "mimetype": "text/x-python",
   "name": "python",
   "nbconvert_exporter": "python",
   "pygments_lexer": "ipython3",
   "version": "3.9.7"
  },
  "toc": {
   "base_numbering": 1,
   "nav_menu": {},
   "number_sections": true,
   "sideBar": true,
   "skip_h1_title": false,
   "title_cell": "Table of Contents",
   "title_sidebar": "Contents",
   "toc_cell": false,
   "toc_position": {},
   "toc_section_display": true,
   "toc_window_display": false
  }
 },
 "nbformat": 4,
 "nbformat_minor": 5
}
