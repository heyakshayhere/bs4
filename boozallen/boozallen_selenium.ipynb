{
 "cells": [
  {
   "cell_type": "markdown",
   "id": "1121c896",
   "metadata": {},
   "source": [
    "**url**\n",
    "\n",
    "https://www.boozallen.com/search-results/news.html#?i=1;page=1;q10=news;q11=Press+Release;q9=news;sort=publishDate;sp_k=Boozallen;x10=category;x11=contentType;x9=category"
   ]
  },
  {
   "cell_type": "code",
   "execution_count": 1,
   "id": "e5e8faf7",
   "metadata": {
    "ExecuteTime": {
     "end_time": "2022-06-09T14:36:01.810778Z",
     "start_time": "2022-06-09T14:35:49.696312Z"
    }
   },
   "outputs": [
    {
     "data": {
      "application/javascript": [
       "IPython.notebook.set_autosave_interval(1000)"
      ]
     },
     "metadata": {},
     "output_type": "display_data"
    },
    {
     "name": "stdout",
     "output_type": "stream",
     "text": [
      "Autosaving every 1 seconds\n"
     ]
    }
   ],
   "source": [
    "import os \n",
    "os.environ['KMP_DUPLICATE_LIB_OK']='True'\n",
    "\n",
    "import pandas as pd,requests,bs4,re,time,io,pytesseract,easyocr,random,textstat\n",
    "from pdfminer.high_level import extract_text\n",
    "from PIL import Image\n",
    "from pathlib import Path\n",
    "from pdf2image import convert_from_path\n",
    "from selenium.webdriver.common.by import By\n",
    "from goose3 import Goose\n",
    "from datetime import datetime\n",
    "from bs4 import BeautifulSoup\n",
    "from selenium import webdriver\n",
    "\n",
    "reader = easyocr.Reader(['en'])\n",
    "\n",
    "import warnings\n",
    "warnings.filterwarnings(\"ignore\")\n",
    "\n",
    "%autosave 1"
   ]
  },
  {
   "cell_type": "code",
   "execution_count": 2,
   "id": "a05a67bd",
   "metadata": {
    "ExecuteTime": {
     "end_time": "2022-06-09T14:36:06.088749Z",
     "start_time": "2022-06-09T14:36:01.816759Z"
    }
   },
   "outputs": [
    {
     "name": "stderr",
     "output_type": "stream",
     "text": [
      "\n",
      "\n",
      "====== WebDriver manager ======\n",
      "Current google-chrome version is 102.0.5005\n",
      "Get LATEST chromedriver version for 102.0.5005 google-chrome\n",
      "Driver [C:\\Users\\AKSHAY SATPUTE\\.wdm\\drivers\\chromedriver\\win32\\102.0.5005.61\\chromedriver.exe] found in cache\n"
     ]
    }
   ],
   "source": [
    "#driver for operation\n",
    "from webdriver_manager.chrome import ChromeDriverManager\n",
    "option = webdriver.ChromeOptions()\n",
    "option.add_argument('headless')\n",
    "driver = webdriver.Chrome(ChromeDriverManager().install(),options=option)"
   ]
  },
  {
   "cell_type": "code",
   "execution_count": 3,
   "id": "33357062",
   "metadata": {
    "ExecuteTime": {
     "end_time": "2022-06-09T14:36:06.104237Z",
     "start_time": "2022-06-09T14:36:06.088749Z"
    }
   },
   "outputs": [],
   "source": [
    "SITE_NAME='Boozallen'\n",
    "\n",
    "DOMAIN = \"https://www.boozallen.com\"\n",
    "\n",
    "SITE_LINK=\"https://www.boozallen.com/search-results/news.html#?i=1;page=1;q10=news;q11=Press+Release;q9=news;sort=publishDate;sp_k=Boozallen;x10=category;x11=contentType;x9=category&sp_k=Boozallen&x9=category&q9=news&sort=publishDate\""
   ]
  },
  {
   "cell_type": "code",
   "execution_count": 4,
   "id": "67a2df58",
   "metadata": {
    "ExecuteTime": {
     "end_time": "2022-06-09T14:36:06.172739Z",
     "start_time": "2022-06-09T14:36:06.111317Z"
    }
   },
   "outputs": [],
   "source": [
    "def parse_webpage_bs(search_url):\n",
    "    \n",
    "    headers = {\n",
    "        \"User-Agent\": \"Mozilla/5.0 (Windows NT 10.0; Win64; x64; rv:90.0) Gecko/20100101 Firefox/90.0\"}\n",
    "    try:\n",
    "        site_request = requests.get(search_url, headers=headers, timeout=10)\n",
    "    except requests.exceptions.RequestException as e:\n",
    "        print(e)\n",
    "        site_request = None\n",
    "    if site_request != None and site_request.status_code==200:\n",
    "        site_soup = bs4.BeautifulSoup(site_request.content, \"lxml\")\n",
    "    else:\n",
    "        site_soup = None\n",
    "    return site_soup\n",
    "\n",
    "def remove_esc_chars(text):\n",
    "    return text.replace(\"\\n\", \" \").replace(\"\\t\", \" \").replace(\"\\r\", \" \")\n",
    "\n",
    "def get_text(link): \n",
    "    g = Goose()\n",
    "    article_extract = g.extract(url=link)\n",
    "    article = remove_esc_chars(article_extract.cleaned_text)\n",
    "    meta_data = remove_esc_chars(article_extract.meta_description)\n",
    "    whole_data = meta_data+article\n",
    "    text = whole_data.strip()\n",
    "    \n",
    "    if textstat.lexicon_count(text, removepunct=True) < 5:\n",
    "        try:\n",
    "            response = requests.get(link)\n",
    "            text = remove_esc_chars(extract_text(io.BytesIO(response.content)))\n",
    "\n",
    "            if textstat.lexicon_count(text, removepunct=True) < 5:\n",
    "                texts = \"\"\n",
    "                r = requests.get(link)\n",
    "                filename = Path('temp.pdf')\n",
    "                filename.write_bytes(r.content)\n",
    "\n",
    "                pages = convert_from_path('temp.pdf', 500)\n",
    "                for x in pages:\n",
    "                    x.save(\"temp.jpg\")\n",
    "                    output = reader.readtext(\"temp.jpg\")\n",
    "                    for o in output:\n",
    "                        texts += o[1]\n",
    "\n",
    "                text = remove_esc_chars(texts)\n",
    "                \n",
    "                if textstat.lexicon_count(text, removepunct=True) < 5:\n",
    "                    texts = \"\"\n",
    "                    soup = parse_webpage_bs(link)\n",
    "                    if soup!= None:\n",
    "                        ps = soup.findAll('p')\n",
    "                        for p in ps:\n",
    "                            texts+= p.text\n",
    "\n",
    "                    text = remove_esc_chars(texts)\n",
    "        except:\n",
    "            text = \"\"\n",
    "    \n",
    "    return text\n"
   ]
  },
  {
   "cell_type": "code",
   "execution_count": 5,
   "id": "639557f6",
   "metadata": {
    "ExecuteTime": {
     "end_time": "2022-06-09T14:36:45.767037Z",
     "start_time": "2022-06-09T14:36:06.182705Z"
    },
    "scrolled": true
   },
   "outputs": [
    {
     "name": "stdout",
     "output_type": "stream",
     "text": [
      "JUNE 07, 2022 Booz Allen Awarded $622.5M NASA Cybersecurity Contract - Booz Allen Hamilton\n",
      "MAY 20, 2022 Booz Allen Names Kristine Martin Anderson COO - Booz Allen Hamilton\n",
      "MAY 04, 2022 Booz Allen Maintains CMMI Maturity Level 5 Ratings - Booz Allen Hamilton\n",
      "MAY 02, 2022 Former FBI Cybersecurity Expert Joins Booz Allen - Booz Allen Hamilton\n",
      "APRIL 19, 2022 Booz Allen Invests in Reveal Technology, Inc. - Booz Allen Hamilton\n",
      "APRIL 05, 2022 Oliver Wyman to Acquire Booz Allen's MENA-Based Management Consulting ...\n",
      "MARCH 22, 2022 Booz Allen Invests in End-to-End AI Company Synthetaic - Booz Allen Hamilton\n",
      "MARCH 16, 2022 Booz Allen to Acquire EverWatch - Booz Allen Hamilton\n",
      "FEBRUARY 07, 2022 Strategic Cyber Operations Expert Rejoins Booz Allen - Booz Allen Hamilton\n",
      "DECEMBER 20, 2021 Engineering Leader Relocates to Huntsville, Alabama - Booz Allen Hamilton\n",
      "JUNE 07, 2022 Booz Allen Awarded $622.5M NASA Cybersecurity Contract - Booz Allen Hamilton\n",
      "DECEMBER 09, 2021 Booz Allen Announces Modzy Spinout - Booz Allen Hamilton\n",
      "DECEMBER 01, 2021 Booz Allen Opens New 5G Lab in Central Maryland - Booz Allen Hamilton\n",
      "NOVEMBER 18, 2021 Booz Allen Selected to Commercialize Platform One - Booz Allen Hamilton\n",
      "NOVEMBER 17, 2021 Booz Allen Releases 2021 ESG Impact Report - Booz Allen Hamilton\n",
      "OCTOBER 26, 2021 Tracepoint Named Cyber Startup of the Year - Booz Allen Hamilton\n",
      "OCTOBER 19, 2021 Booz Allen Hires Retired Astronaut and USGS Director - Booz Allen Hamilton\n",
      "SEPTEMBER 28, 2021 Booz Allen Hamilton to Webcast Investor Day 2021 Presentations - Booz Allen ...\n",
      "SEPTEMBER 21, 2021 NIH Awards Booz Allen Position on $350M Contract - Booz Allen Hamilton\n",
      "SEPTEMBER 13, 2021 Cyber Market Leader Booz Allen Acquires Tracepoint - Booz Allen Hamilton\n",
      "DECEMBER 13, 2021 Booz Allen Opens New Office in Honolulu, Hawaii - Booz Allen Hamilton\n",
      "DECEMBER 09, 2021 Booz Allen Announces Modzy Spinout - Booz Allen Hamilton\n",
      "JULY 12, 2021 Booz Allen Invests in Adaptive AI Company Latent AI - Booz Allen Hamilton\n",
      "JULY 07, 2021 Booz Allen Recognized with 2021 Cogswell Award - Booz Allen Hamilton\n",
      "JUNE 14, 2021 Booz Allen Completes Acquisition of Liberty IT Solutions, LLC - Booz Allen ...\n",
      "JUNE 09, 2021 NIWC Pacific Awards Booz Allen IT Engineering Contract - Booz Allen Hamilton\n",
      "JUNE 07, 2021 Booz Allen Hamilton Announces Launch of Senior Notes Offering - Booz Allen ...\n",
      "JUNE 07, 2021 Booz Allen Hamilton Announces Pricing of Senior Notes Offering - Booz Allen ...\n",
      "MAY 27, 2021 Booz Allen Partners with Databricks to Drive Value for Federal Agencies with ...\n",
      "MAY 18, 2021 Jon G. Muñoz Joins Booz Allen - Booz Allen Hamilton\n"
     ]
    }
   ],
   "source": [
    "article_list = []\n",
    "\n",
    "pagination = 1\n",
    "last_page = 1\n",
    "\n",
    "while pagination <= last_page:\n",
    "    url = f\"https://www.boozallen.com/search-results/news.html#?i=1;page={pagination};q10=news;q11=Press+Release;q9=news;sort=publishDate;sp_k=Boozallen;x10=category;x11=contentType;x9=category&sp_k=Boozallen&x9=category&q9=news&sort=publishDate\"\n",
    "    driver.get(url)\n",
    "    \n",
    "    #getting last page count\n",
    "    if last_page <= 1:\n",
    "        lp = driver.find_element(By.XPATH,'''/html/body/div[1]/div/div/div[2]/div[1]/div/span[3]''').text\n",
    "        last_page_count = round(int(lp.strip())/10)\n",
    "        last_page = last_page_count\n",
    "    \n",
    "    elements = driver.find_elements(By.XPATH,'''//div[@class=\"result-data\"]''')\n",
    "    \n",
    "    #published_dates,titles,texts,links,thumbnails,authors\n",
    "    for e in range(1,len(elements)+1):\n",
    "        title = driver.find_element(By.XPATH,f'''/html/body/div[1]/div/div/div[2]/div[3]/div[{e}]/div/a[1]''').text.strip()\n",
    "        published_date = driver.find_element(By.XPATH,f'''/html/body/div[1]/div/div/div[2]/div[3]/div[{e}]/div/span[2]''').text.strip()\n",
    "        link = driver.find_element(By.XPATH,f'''/html/body/div[1]/div/div/div[2]/div[3]/div[{e}]/a''').get_attribute('href')\n",
    "        thumbnail = driver.find_element(By.XPATH,f'''/html/body/div[1]/div/div/div[2]/div[3]/div[{e}]/a/img''').get_attribute('src')\n",
    "        author = SITE_NAME \n",
    "        text = get_text(link)\n",
    "        \n",
    "        article = (published_date.strip(),title.strip(),text.strip(),link.strip(),thumbnail.strip(),author.strip())\n",
    "        article_list.append(article)\n",
    "        print(published_date,title)\n",
    "        \n",
    "    #my condition to break the loop \n",
    "    if pagination == 3:\n",
    "        break\n",
    "        \n",
    "    pagination +=1"
   ]
  },
  {
   "cell_type": "code",
   "execution_count": 6,
   "id": "78bbf71a",
   "metadata": {
    "ExecuteTime": {
     "end_time": "2022-06-09T14:36:45.804543Z",
     "start_time": "2022-06-09T14:36:45.767037Z"
    }
   },
   "outputs": [
    {
     "data": {
      "text/html": [
       "<div>\n",
       "<style scoped>\n",
       "    .dataframe tbody tr th:only-of-type {\n",
       "        vertical-align: middle;\n",
       "    }\n",
       "\n",
       "    .dataframe tbody tr th {\n",
       "        vertical-align: top;\n",
       "    }\n",
       "\n",
       "    .dataframe thead th {\n",
       "        text-align: right;\n",
       "    }\n",
       "</style>\n",
       "<table border=\"1\" class=\"dataframe\">\n",
       "  <thead>\n",
       "    <tr style=\"text-align: right;\">\n",
       "      <th></th>\n",
       "      <th>date</th>\n",
       "      <th>title</th>\n",
       "      <th>article</th>\n",
       "      <th>url</th>\n",
       "      <th>thumbnail</th>\n",
       "      <th>author</th>\n",
       "    </tr>\n",
       "  </thead>\n",
       "  <tbody>\n",
       "    <tr>\n",
       "      <th>0</th>\n",
       "      <td>JUNE 07, 2022</td>\n",
       "      <td>Booz Allen Awarded $622.5M NASA Cybersecurity ...</td>\n",
       "      <td>Booz Allen was awarded the NASA Cybersecurity ...</td>\n",
       "      <td>https://www.boozallen.com/menu/media-center/q1...</td>\n",
       "      <td>https://www.boozallen.com/content/dam/boozalle...</td>\n",
       "      <td>Boozallen</td>\n",
       "    </tr>\n",
       "    <tr>\n",
       "      <th>1</th>\n",
       "      <td>MAY 20, 2022</td>\n",
       "      <td>Booz Allen Names Kristine Martin Anderson COO ...</td>\n",
       "      <td>Booz Allen Hamilton (NYSE: BAH) announced toda...</td>\n",
       "      <td>https://www.boozallen.com/menu/media-center/q1...</td>\n",
       "      <td>https://www.boozallen.com/content/dam/boozalle...</td>\n",
       "      <td>Boozallen</td>\n",
       "    </tr>\n",
       "    <tr>\n",
       "      <th>2</th>\n",
       "      <td>MAY 04, 2022</td>\n",
       "      <td>Booz Allen Maintains CMMI Maturity Level 5 Rat...</td>\n",
       "      <td>Booz Allen’s Digital Solutions maintained its ...</td>\n",
       "      <td>https://www.boozallen.com/menu/media-center/q1...</td>\n",
       "      <td>https://www.boozallen.com/content/dam/boozalle...</td>\n",
       "      <td>Boozallen</td>\n",
       "    </tr>\n",
       "    <tr>\n",
       "      <th>3</th>\n",
       "      <td>MAY 02, 2022</td>\n",
       "      <td>Former FBI Cybersecurity Expert Joins Booz All...</td>\n",
       "      <td>Jason Fickett has joined the firm as a leader ...</td>\n",
       "      <td>https://www.boozallen.com/menu/media-center/q1...</td>\n",
       "      <td>https://www.boozallen.com/content/dam/boozalle...</td>\n",
       "      <td>Boozallen</td>\n",
       "    </tr>\n",
       "    <tr>\n",
       "      <th>4</th>\n",
       "      <td>APRIL 19, 2022</td>\n",
       "      <td>Booz Allen Invests in Reveal Technology, Inc. ...</td>\n",
       "      <td>Booz Allen announced that it has made a strate...</td>\n",
       "      <td>https://www.boozallen.com/menu/media-center/q1...</td>\n",
       "      <td>https://www.boozallen.com/content/dam/boozalle...</td>\n",
       "      <td>Boozallen</td>\n",
       "    </tr>\n",
       "  </tbody>\n",
       "</table>\n",
       "</div>"
      ],
      "text/plain": [
       "             date                                              title  \\\n",
       "0   JUNE 07, 2022  Booz Allen Awarded $622.5M NASA Cybersecurity ...   \n",
       "1    MAY 20, 2022  Booz Allen Names Kristine Martin Anderson COO ...   \n",
       "2    MAY 04, 2022  Booz Allen Maintains CMMI Maturity Level 5 Rat...   \n",
       "3    MAY 02, 2022  Former FBI Cybersecurity Expert Joins Booz All...   \n",
       "4  APRIL 19, 2022  Booz Allen Invests in Reveal Technology, Inc. ...   \n",
       "\n",
       "                                             article  \\\n",
       "0  Booz Allen was awarded the NASA Cybersecurity ...   \n",
       "1  Booz Allen Hamilton (NYSE: BAH) announced toda...   \n",
       "2  Booz Allen’s Digital Solutions maintained its ...   \n",
       "3  Jason Fickett has joined the firm as a leader ...   \n",
       "4  Booz Allen announced that it has made a strate...   \n",
       "\n",
       "                                                 url  \\\n",
       "0  https://www.boozallen.com/menu/media-center/q1...   \n",
       "1  https://www.boozallen.com/menu/media-center/q1...   \n",
       "2  https://www.boozallen.com/menu/media-center/q1...   \n",
       "3  https://www.boozallen.com/menu/media-center/q1...   \n",
       "4  https://www.boozallen.com/menu/media-center/q1...   \n",
       "\n",
       "                                           thumbnail     author  \n",
       "0  https://www.boozallen.com/content/dam/boozalle...  Boozallen  \n",
       "1  https://www.boozallen.com/content/dam/boozalle...  Boozallen  \n",
       "2  https://www.boozallen.com/content/dam/boozalle...  Boozallen  \n",
       "3  https://www.boozallen.com/content/dam/boozalle...  Boozallen  \n",
       "4  https://www.boozallen.com/content/dam/boozalle...  Boozallen  "
      ]
     },
     "execution_count": 6,
     "metadata": {},
     "output_type": "execute_result"
    }
   ],
   "source": [
    "temp_df = pd.DataFrame(article_list,columns=['date','title','article','url','thumbnail','author'])\n",
    "temp_df.head()"
   ]
  },
  {
   "cell_type": "code",
   "execution_count": 7,
   "id": "6d7198f4",
   "metadata": {
    "ExecuteTime": {
     "end_time": "2022-06-09T14:36:46.138805Z",
     "start_time": "2022-06-09T14:36:45.804543Z"
    }
   },
   "outputs": [
    {
     "name": "stdout",
     "output_type": "stream",
     "text": [
      "MARCH 16, 2022 Booz Allen to Acquire EverWatch - Booz Allen Hamilton\n",
      "\n",
      "Boozallen https://www.boozallen.com/menu/media-center/q4-2022/booz-allen-to-acquire-everwatch.html\n"
     ]
    },
    {
     "data": {
      "image/png": "[encoded data removed]",
      "text/plain": [
       "<PIL.PngImagePlugin.PngImageFile image mode=RGBA size=160x90 at 0x2550719ED60>"
      ]
     },
     "metadata": {},
     "output_type": "display_data"
    },
    {
     "name": "stdout",
     "output_type": "stream",
     "text": [
      "\n",
      "Booz Allen announced a definitive agreement to acquire EverWatch, a leading provider of advanced solutions to the defense and intelligence communities.McLean, VA – Booz Allen Hamilton (NYSE: BAH) today announced that it has entered into a definitive agreement to acquire EverWatch, a leading provider of advanced solutions to the defense and intelligence communities.  Leveraging a highly skilled, cleared workforce, EverWatch builds and operates mission-critical classified platforms to defend against increasingly sophisticated national cyber threats. Its specialized capabilities complement Booz Allen’s deep artificial intelligence (AI) and cyber portfolio, and will help Booz Allen to leapfrog technology development cycles and meaningfully accelerate the delivery of classified software development and analytics capabilities for national security clients.  EverWatch, a portfolio company of Enlightenment Capital, was founded in 2017 and is headquartered in Reston, Virginia. Following the closing of the transaction, EverWatch will operate as a wholly owned subsidiary of Booz Allen, working closely with the firm’s National Security Sector led by Sector President Judi Dotson.  “U.S. national and economic security depends on secure, trusted, and resilient technology, and in the most dynamic threat landscape of our time, delivering advanced solutions with speed and agility is essential for mission success,” said Dotson. “Combining Booz Allen’s mission experience and advanced technologies with EverWatch’s classified software development and analytics capabilities will help implement faster and more comprehensive solution delivery to help defense and intelligence agencies transform and stay ahead of threats.”  “EverWatch is an excellent strategic and cultural fit and this acquisition is a strategic accelerator well aligned with Booz Allen’s VoLT strategy, our investment thesis, and our expanding National Cyber platform capabilities,” said Booz Allen's Chief Strategy Officer Matt Calderone. “Our combined capabilities will deliver exceptional value for our clients, employees, and shareholders.”    “Booz Allen and EverWatch share a deep commitment to protecting our national interests with advanced technology, mission intimacy, and digital transformation. We look forward to the combined strength of our organizations to deliver exceptional support to clients in the intelligence community and beyond,” said John Hillen, Chief Executive Officer at EverWatch.  EverWatch brings a legacy of service to national security agencies and core capabilities in software development and architecture, cloud, analytics, AI and machine learning, and TechSIGINT that strategically align with Booz Allen’s deep mission insights and robust portfolio of full-spectrum cyber operations, mission analytics, AI, and 5G offerings.  \"EverWatch has invested heavily in developing innovative solutions and has become a market leader solving some of the most complex problems facing the national security sector. The combination with Booz Allen will further deepen innovation capabilities, accelerate our collective support of critical national security efforts, and enhance opportunities for EverWatch’s growing, skilled employee base,” said Devin Talbott, Founder and Managing Partner of Enlightenment Capital.     The transaction is expected to close in the first quarter of Booz Allen’s fiscal year 2023 and is subject to customary closing conditions. Terms of the transaction were not disclosed.  Booz Allen retained Jefferies LLC as financial advisor for the transaction and King & Spalding LLP as legal advisor, and Avascent for strategic industry advisory services. EverWatch retained Baird as financial advisor and Moore & Van Allen PLLC as legal advisor. EverWatch is backed by Enlightenment Capital, a private investment firm providing flexible capital and strategic support to middle market businesses in the Aerospace, Defense, Government & Technology (ADG&T) sector.\n"
     ]
    }
   ],
   "source": [
    "def see_data(iloc_no=random.randint(0,len(temp_df))-1):\n",
    "    print(temp_df.iloc[iloc_no]['date'],temp_df.iloc[iloc_no]['title'])\n",
    "    print(f\"\\n{temp_df.iloc[iloc_no]['author']} {temp_df.iloc[iloc_no]['url']}\")\n",
    "    display(Image.open(io.BytesIO(requests.get(temp_df.iloc[iloc_no]['thumbnail']).content)))\n",
    "    print(f\"\\n{temp_df.iloc[iloc_no]['article']}\")\n",
    "\n",
    "see_data()"
   ]
  },
  {
   "cell_type": "code",
   "execution_count": 8,
   "id": "65a6f3b6",
   "metadata": {
    "ExecuteTime": {
     "end_time": "2022-06-09T14:36:46.283869Z",
     "start_time": "2022-06-09T14:36:46.138805Z"
    }
   },
   "outputs": [],
   "source": [
    "#to csv\n",
    "temp_df.to_csv(f'{SITE_NAME} news.csv',index = False)\n",
    "\n",
    "#to json\n",
    "temp_df.to_json(f'{SITE_NAME} news.json')"
   ]
  },
  {
   "cell_type": "code",
   "execution_count": 9,
   "id": "2f8857a8",
   "metadata": {
    "ExecuteTime": {
     "end_time": "2022-06-09T14:36:46.298755Z",
     "start_time": "2022-06-09T14:36:46.284862Z"
    }
   },
   "outputs": [
    {
     "name": "stdout",
     "output_type": "stream",
     "text": [
      "No trash found\n"
     ]
    }
   ],
   "source": [
    "#to get rid of unwanteed trash created by the model use \n",
    "def remove_trash():\n",
    "    try:\n",
    "        os.remove(\"temp.jpg\")\n",
    "        os.remove(\"temp.pdf\")\n",
    "        print(\"Trash removed successfully\")\n",
    "    except:\n",
    "        print(\"No trash found\")\n",
    "\n",
    "remove_trash()"
   ]
  }
 ],
 "metadata": {
  "kernelspec": {
   "display_name": "Python 3 (ipykernel)",
   "language": "python",
   "name": "python3"
  },
  "language_info": {
   "codemirror_mode": {
    "name": "ipython",
    "version": 3
   },
   "file_extension": ".py",
   "mimetype": "text/x-python",
   "name": "python",
   "nbconvert_exporter": "python",
   "pygments_lexer": "ipython3",
   "version": "3.9.7"
  },
  "toc": {
   "base_numbering": 1,
   "nav_menu": {},
   "number_sections": true,
   "sideBar": true,
   "skip_h1_title": false,
   "title_cell": "Table of Contents",
   "title_sidebar": "Contents",
   "toc_cell": false,
   "toc_position": {},
   "toc_section_display": true,
   "toc_window_display": false
  }
 },
 "nbformat": 4,
 "nbformat_minor": 5
}
