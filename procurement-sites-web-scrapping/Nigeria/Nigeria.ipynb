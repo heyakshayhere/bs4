{
 "cells": [
  {
   "cell_type": "markdown",
   "id": "9ced3c65",
   "metadata": {},
   "source": [
    "**URL :** https://lagosppaocds.azurewebsites.net/Home/Procurements"
   ]
  },
  {
   "cell_type": "code",
   "execution_count": 1,
   "id": "3723db87",
   "metadata": {
    "ExecuteTime": {
     "end_time": "2022-07-14T06:46:22.774820Z",
     "start_time": "2022-07-14T06:46:22.110046Z"
    },
    "code_folding": [
     0
    ]
   },
   "outputs": [
    {
     "data": {
      "application/javascript": [
       "IPython.notebook.set_autosave_interval(1000)"
      ]
     },
     "metadata": {},
     "output_type": "display_data"
    },
    {
     "name": "stdout",
     "output_type": "stream",
     "text": [
      "Autosaving every 1 seconds\n"
     ]
    }
   ],
   "source": [
    "#libraries\n",
    "\n",
    "import pandas as pd,requests,re,time,random,os\n",
    "from dateutil import parser\n",
    "from selenium.webdriver.common.by import By\n",
    "from selenium.webdriver.common.keys import Keys\n",
    "from datetime import datetime\n",
    "from selenium import webdriver\n",
    "\n",
    "import warnings\n",
    "warnings.filterwarnings(\"ignore\")\n",
    "\n",
    "%autosave 1"
   ]
  },
  {
   "cell_type": "code",
   "execution_count": 2,
   "id": "09b668c1",
   "metadata": {
    "ExecuteTime": {
     "end_time": "2022-07-14T06:46:25.642378Z",
     "start_time": "2022-07-14T06:46:22.776814Z"
    },
    "code_folding": [
     0
    ]
   },
   "outputs": [
    {
     "name": "stderr",
     "output_type": "stream",
     "text": [
      "\n",
      "\n",
      "====== WebDriver manager ======\n",
      "Current google-chrome version is 103.0.5060\n",
      "Get LATEST chromedriver version for 103.0.5060 google-chrome\n",
      "Driver [C:\\Users\\AKSHAY SATPUTE\\.wdm\\drivers\\chromedriver\\win32\\103.0.5060.53\\chromedriver.exe] found in cache\n"
     ]
    }
   ],
   "source": [
    "#driver for operation\n",
    "from webdriver_manager.chrome import ChromeDriverManager\n",
    "option = webdriver.ChromeOptions()\n",
    "# option.add_argument('headless')\n",
    "driver = webdriver.Chrome(ChromeDriverManager().install(),options=option)\n",
    "driver.maximize_window()"
   ]
  },
  {
   "cell_type": "code",
   "execution_count": 3,
   "id": "2228be02",
   "metadata": {
    "ExecuteTime": {
     "end_time": "2022-07-14T06:46:25.657919Z",
     "start_time": "2022-07-14T06:46:25.645953Z"
    },
    "code_folding": [
     0
    ]
   },
   "outputs": [],
   "source": [
    "#site name ,link and domain\n",
    "SITE_NAME='NGA'\n",
    "\n",
    "DOMAIN = \"https://lagosppaocds.azurewebsites.net\"\n",
    "\n",
    "SITE_LINK = \"https://lagosppaocds.azurewebsites.net/Home/Procurements\""
   ]
  },
  {
   "cell_type": "code",
   "execution_count": 4,
   "id": "c708fd39",
   "metadata": {
    "ExecuteTime": {
     "end_time": "2022-07-14T06:46:25.673879Z",
     "start_time": "2022-07-14T06:46:25.659915Z"
    },
    "scrolled": true
   },
   "outputs": [],
   "source": [
    "since_date = parser.parse(\"6 june 2022\")"
   ]
  },
  {
   "cell_type": "code",
   "execution_count": 5,
   "id": "3ee06a27",
   "metadata": {
    "ExecuteTime": {
     "end_time": "2022-07-14T06:46:46.022545Z",
     "start_time": "2022-07-14T06:46:25.674882Z"
    }
   },
   "outputs": [],
   "source": [
    "driver.get(SITE_LINK)"
   ]
  },
  {
   "cell_type": "code",
   "execution_count": 6,
   "id": "e5ad5ebb",
   "metadata": {
    "ExecuteTime": {
     "end_time": "2022-07-14T06:46:49.907097Z",
     "start_time": "2022-07-14T06:46:46.022545Z"
    },
    "code_folding": [],
    "scrolled": true
   },
   "outputs": [],
   "source": [
    "#downloading \n",
    "time.sleep(3)\n",
    "driver.find_element(By.XPATH,'''//*[@id=\"datable_3_wrapper\"]/div[1]/button[3]/span''').click()"
   ]
  },
  {
   "cell_type": "code",
   "execution_count": 7,
   "id": "71516010",
   "metadata": {
    "ExecuteTime": {
     "end_time": "2022-07-14T06:46:49.922103Z",
     "start_time": "2022-07-14T06:46:49.909090Z"
    }
   },
   "outputs": [],
   "source": [
    "path = \"D:\\Downloads\\Home Page - Lagos State Public Procurement Agency (LSPPA).xlsx\""
   ]
  },
  {
   "cell_type": "code",
   "execution_count": 8,
   "id": "1fc7ec4d",
   "metadata": {
    "ExecuteTime": {
     "end_time": "2022-07-14T06:46:49.938013Z",
     "start_time": "2022-07-14T06:46:49.926048Z"
    }
   },
   "outputs": [],
   "source": [
    "columns = ['Project Name', 'Procuring Entity', 'OCID',\n",
    "       'Project Cost', 'Contractor', 'Class', 'Asset Range', 'No of Employee',\n",
    "       'Year', 'Status', 'Remark', 'Award Date', 'Publication Date',\n",
    "       'Project Location']"
   ]
  },
  {
   "cell_type": "code",
   "execution_count": 9,
   "id": "dd5c22a2",
   "metadata": {
    "ExecuteTime": {
     "end_time": "2022-07-14T06:46:51.599692Z",
     "start_time": "2022-07-14T06:46:49.943020Z"
    },
    "scrolled": false
   },
   "outputs": [
    {
     "data": {
      "text/html": [
       "<div>\n",
       "<style scoped>\n",
       "    .dataframe tbody tr th:only-of-type {\n",
       "        vertical-align: middle;\n",
       "    }\n",
       "\n",
       "    .dataframe tbody tr th {\n",
       "        vertical-align: top;\n",
       "    }\n",
       "\n",
       "    .dataframe thead th {\n",
       "        text-align: right;\n",
       "    }\n",
       "</style>\n",
       "<table border=\"1\" class=\"dataframe\">\n",
       "  <thead>\n",
       "    <tr style=\"text-align: right;\">\n",
       "      <th></th>\n",
       "      <th>Project Name</th>\n",
       "      <th>Procuring Entity</th>\n",
       "      <th>OCID</th>\n",
       "      <th>Project Cost</th>\n",
       "      <th>Contractor</th>\n",
       "      <th>Class</th>\n",
       "      <th>Asset Range</th>\n",
       "      <th>No of Employee</th>\n",
       "      <th>Year</th>\n",
       "      <th>Status</th>\n",
       "      <th>Remark</th>\n",
       "      <th>Award Date</th>\n",
       "      <th>Publication Date</th>\n",
       "      <th>Project Location</th>\n",
       "    </tr>\n",
       "  </thead>\n",
       "  <tbody>\n",
       "    <tr>\n",
       "      <th>0</th>\n",
       "      <td>Construction of Drain at Isheri North Resident...</td>\n",
       "      <td>OFFICE OF DRAINAGE SERVICES &amp; WATER  RESOURCES</td>\n",
       "      <td>ocds-5q8fsw-6202227527413</td>\n",
       "      <td>₦82,162,781.28</td>\n",
       "      <td>F. O ENGINNERING LIMITED</td>\n",
       "      <td>Private Organization</td>\n",
       "      <td>₦25,000,001 to ₦50,000,000</td>\n",
       "      <td>35</td>\n",
       "      <td>2022</td>\n",
       "      <td>ONGOING</td>\n",
       "      <td>NaN</td>\n",
       "      <td>Tuesday, June 28, 2022</td>\n",
       "      <td>Thursday, June 30, 2022</td>\n",
       "      <td>ISHERI, LAGOS</td>\n",
       "    </tr>\n",
       "    <tr>\n",
       "      <th>1</th>\n",
       "      <td>Construction of a Block of 18 Classroom &amp; Admi...</td>\n",
       "      <td>SPECIAL COMMITTEE ON REHABILITATION OF PUBLIC ...</td>\n",
       "      <td>ocds-5q8fsw-6202261436234</td>\n",
       "      <td>₦290,496,822.78</td>\n",
       "      <td>INVESTRITE LIMITED</td>\n",
       "      <td>Private Organization</td>\n",
       "      <td>₦250,000,001 and above</td>\n",
       "      <td>36</td>\n",
       "      <td>2021</td>\n",
       "      <td>ONGOING</td>\n",
       "      <td>NaN</td>\n",
       "      <td>Tuesday, November 2, 2021</td>\n",
       "      <td>Thursday, June 30, 2022</td>\n",
       "      <td>ALIMOSHO</td>\n",
       "    </tr>\n",
       "    <tr>\n",
       "      <th>2</th>\n",
       "      <td>Emergency Renovation of (i) New Raft Fence (ii...</td>\n",
       "      <td>SPECIAL COMMITTEE ON REHABILITATION OF PUBLIC ...</td>\n",
       "      <td>ocds-5q8fsw-6202207437525</td>\n",
       "      <td>₦17,222,975.33</td>\n",
       "      <td>DASILVABELL NIGERIA LIMITED</td>\n",
       "      <td>Private Organization</td>\n",
       "      <td>₦25,000,001 to ₦50,000,000</td>\n",
       "      <td>35</td>\n",
       "      <td>2021</td>\n",
       "      <td>ONGOING</td>\n",
       "      <td>NaN</td>\n",
       "      <td>Wednesday, October 20, 2021</td>\n",
       "      <td>Thursday, June 30, 2022</td>\n",
       "      <td>IKORODU</td>\n",
       "    </tr>\n",
       "    <tr>\n",
       "      <th>3</th>\n",
       "      <td>EMERGENCY RENOVATION OF 18 CUBICLE TOILET AT O...</td>\n",
       "      <td>SPECIAL COMMITTEE ON REHABILITATION OF PUBLIC ...</td>\n",
       "      <td>ocds-5q8fsw-6202242366585</td>\n",
       "      <td>₦16,909,708.61</td>\n",
       "      <td>DE-DJONG CONCEPT LIMITED</td>\n",
       "      <td>Private Organization</td>\n",
       "      <td>₦25,000,001 to ₦50,000,000</td>\n",
       "      <td>32</td>\n",
       "      <td>2021</td>\n",
       "      <td>ONGOING</td>\n",
       "      <td>NaN</td>\n",
       "      <td>Wednesday, October 20, 2021</td>\n",
       "      <td>Thursday, June 30, 2022</td>\n",
       "      <td>AJEGUNLE</td>\n",
       "    </tr>\n",
       "    <tr>\n",
       "      <th>4</th>\n",
       "      <td>construction of a block of 18 classroom &amp; admi...</td>\n",
       "      <td>SPECIAL COMMITTEE ON REHABILITATION OF PUBLIC ...</td>\n",
       "      <td>ocds-5q8fsw-6202204711017</td>\n",
       "      <td>₦300,709,940.46</td>\n",
       "      <td>CALMAR LIMITED</td>\n",
       "      <td>Private Organization</td>\n",
       "      <td>₦250,000,001 and above</td>\n",
       "      <td>43</td>\n",
       "      <td>2021</td>\n",
       "      <td>ONGOING</td>\n",
       "      <td>NaN</td>\n",
       "      <td>Friday, October 8, 2021</td>\n",
       "      <td>Thursday, June 30, 2022</td>\n",
       "      <td>Agboju, Ojo</td>\n",
       "    </tr>\n",
       "  </tbody>\n",
       "</table>\n",
       "</div>"
      ],
      "text/plain": [
       "                                        Project Name  \\\n",
       "0  Construction of Drain at Isheri North Resident...   \n",
       "1  Construction of a Block of 18 Classroom & Admi...   \n",
       "2  Emergency Renovation of (i) New Raft Fence (ii...   \n",
       "3  EMERGENCY RENOVATION OF 18 CUBICLE TOILET AT O...   \n",
       "4  construction of a block of 18 classroom & admi...   \n",
       "\n",
       "                                    Procuring Entity  \\\n",
       "0     OFFICE OF DRAINAGE SERVICES & WATER  RESOURCES   \n",
       "1  SPECIAL COMMITTEE ON REHABILITATION OF PUBLIC ...   \n",
       "2  SPECIAL COMMITTEE ON REHABILITATION OF PUBLIC ...   \n",
       "3  SPECIAL COMMITTEE ON REHABILITATION OF PUBLIC ...   \n",
       "4  SPECIAL COMMITTEE ON REHABILITATION OF PUBLIC ...   \n",
       "\n",
       "                        OCID     Project Cost                   Contractor  \\\n",
       "0  ocds-5q8fsw-6202227527413   ₦82,162,781.28     F. O ENGINNERING LIMITED   \n",
       "1  ocds-5q8fsw-6202261436234  ₦290,496,822.78           INVESTRITE LIMITED   \n",
       "2  ocds-5q8fsw-6202207437525   ₦17,222,975.33  DASILVABELL NIGERIA LIMITED   \n",
       "3  ocds-5q8fsw-6202242366585   ₦16,909,708.61     DE-DJONG CONCEPT LIMITED   \n",
       "4  ocds-5q8fsw-6202204711017  ₦300,709,940.46               CALMAR LIMITED   \n",
       "\n",
       "                  Class                 Asset Range  No of Employee  Year  \\\n",
       "0  Private Organization  ₦25,000,001 to ₦50,000,000              35  2022   \n",
       "1  Private Organization      ₦250,000,001 and above              36  2021   \n",
       "2  Private Organization  ₦25,000,001 to ₦50,000,000              35  2021   \n",
       "3  Private Organization  ₦25,000,001 to ₦50,000,000              32  2021   \n",
       "4  Private Organization      ₦250,000,001 and above              43  2021   \n",
       "\n",
       "    Status Remark                   Award Date         Publication Date  \\\n",
       "0  ONGOING    NaN       Tuesday, June 28, 2022  Thursday, June 30, 2022   \n",
       "1  ONGOING    NaN    Tuesday, November 2, 2021  Thursday, June 30, 2022   \n",
       "2  ONGOING    NaN  Wednesday, October 20, 2021  Thursday, June 30, 2022   \n",
       "3  ONGOING    NaN  Wednesday, October 20, 2021  Thursday, June 30, 2022   \n",
       "4  ONGOING    NaN      Friday, October 8, 2021  Thursday, June 30, 2022   \n",
       "\n",
       "  Project Location  \n",
       "0    ISHERI, LAGOS  \n",
       "1         ALIMOSHO  \n",
       "2          IKORODU  \n",
       "3         AJEGUNLE  \n",
       "4      Agboju, Ojo  "
      ]
     },
     "execution_count": 9,
     "metadata": {},
     "output_type": "execute_result"
    }
   ],
   "source": [
    "while True: \n",
    "    try:\n",
    "        temp_df  =  pd.read_excel(path,header=1)\n",
    "        break\n",
    "    except:\n",
    "        pass\n",
    "    \n",
    "temp_df = temp_df[columns]\n",
    "temp_df.head()"
   ]
  },
  {
   "cell_type": "code",
   "execution_count": 10,
   "id": "2fdda46e",
   "metadata": {
    "ExecuteTime": {
     "end_time": "2022-07-14T06:46:51.631609Z",
     "start_time": "2022-07-14T06:46:51.601687Z"
    }
   },
   "outputs": [],
   "source": [
    "temp_df[\"Publication Date\"] = pd.to_datetime(temp_df[\"Publication Date\"])"
   ]
  },
  {
   "cell_type": "code",
   "execution_count": 11,
   "id": "b68bb19a",
   "metadata": {
    "ExecuteTime": {
     "end_time": "2022-07-14T06:46:51.662534Z",
     "start_time": "2022-07-14T06:46:51.633602Z"
    }
   },
   "outputs": [
    {
     "data": {
      "text/html": [
       "<div>\n",
       "<style scoped>\n",
       "    .dataframe tbody tr th:only-of-type {\n",
       "        vertical-align: middle;\n",
       "    }\n",
       "\n",
       "    .dataframe tbody tr th {\n",
       "        vertical-align: top;\n",
       "    }\n",
       "\n",
       "    .dataframe thead th {\n",
       "        text-align: right;\n",
       "    }\n",
       "</style>\n",
       "<table border=\"1\" class=\"dataframe\">\n",
       "  <thead>\n",
       "    <tr style=\"text-align: right;\">\n",
       "      <th></th>\n",
       "      <th>Project Name</th>\n",
       "      <th>Procuring Entity</th>\n",
       "      <th>OCID</th>\n",
       "      <th>Project Cost</th>\n",
       "      <th>Contractor</th>\n",
       "      <th>Class</th>\n",
       "      <th>Asset Range</th>\n",
       "      <th>No of Employee</th>\n",
       "      <th>Year</th>\n",
       "      <th>Status</th>\n",
       "      <th>Remark</th>\n",
       "      <th>Award Date</th>\n",
       "      <th>Publication Date</th>\n",
       "      <th>Project Location</th>\n",
       "    </tr>\n",
       "  </thead>\n",
       "  <tbody>\n",
       "    <tr>\n",
       "      <th>0</th>\n",
       "      <td>Construction of Drain at Isheri North Resident...</td>\n",
       "      <td>OFFICE OF DRAINAGE SERVICES &amp; WATER  RESOURCES</td>\n",
       "      <td>ocds-5q8fsw-6202227527413</td>\n",
       "      <td>₦82,162,781.28</td>\n",
       "      <td>F. O ENGINNERING LIMITED</td>\n",
       "      <td>Private Organization</td>\n",
       "      <td>₦25,000,001 to ₦50,000,000</td>\n",
       "      <td>35</td>\n",
       "      <td>2022</td>\n",
       "      <td>ONGOING</td>\n",
       "      <td>NaN</td>\n",
       "      <td>Tuesday, June 28, 2022</td>\n",
       "      <td>2022-06-30</td>\n",
       "      <td>ISHERI, LAGOS</td>\n",
       "    </tr>\n",
       "    <tr>\n",
       "      <th>1</th>\n",
       "      <td>Construction of a Block of 18 Classroom &amp; Admi...</td>\n",
       "      <td>SPECIAL COMMITTEE ON REHABILITATION OF PUBLIC ...</td>\n",
       "      <td>ocds-5q8fsw-6202261436234</td>\n",
       "      <td>₦290,496,822.78</td>\n",
       "      <td>INVESTRITE LIMITED</td>\n",
       "      <td>Private Organization</td>\n",
       "      <td>₦250,000,001 and above</td>\n",
       "      <td>36</td>\n",
       "      <td>2021</td>\n",
       "      <td>ONGOING</td>\n",
       "      <td>NaN</td>\n",
       "      <td>Tuesday, November 2, 2021</td>\n",
       "      <td>2022-06-30</td>\n",
       "      <td>ALIMOSHO</td>\n",
       "    </tr>\n",
       "    <tr>\n",
       "      <th>2</th>\n",
       "      <td>Emergency Renovation of (i) New Raft Fence (ii...</td>\n",
       "      <td>SPECIAL COMMITTEE ON REHABILITATION OF PUBLIC ...</td>\n",
       "      <td>ocds-5q8fsw-6202207437525</td>\n",
       "      <td>₦17,222,975.33</td>\n",
       "      <td>DASILVABELL NIGERIA LIMITED</td>\n",
       "      <td>Private Organization</td>\n",
       "      <td>₦25,000,001 to ₦50,000,000</td>\n",
       "      <td>35</td>\n",
       "      <td>2021</td>\n",
       "      <td>ONGOING</td>\n",
       "      <td>NaN</td>\n",
       "      <td>Wednesday, October 20, 2021</td>\n",
       "      <td>2022-06-30</td>\n",
       "      <td>IKORODU</td>\n",
       "    </tr>\n",
       "    <tr>\n",
       "      <th>3</th>\n",
       "      <td>EMERGENCY RENOVATION OF 18 CUBICLE TOILET AT O...</td>\n",
       "      <td>SPECIAL COMMITTEE ON REHABILITATION OF PUBLIC ...</td>\n",
       "      <td>ocds-5q8fsw-6202242366585</td>\n",
       "      <td>₦16,909,708.61</td>\n",
       "      <td>DE-DJONG CONCEPT LIMITED</td>\n",
       "      <td>Private Organization</td>\n",
       "      <td>₦25,000,001 to ₦50,000,000</td>\n",
       "      <td>32</td>\n",
       "      <td>2021</td>\n",
       "      <td>ONGOING</td>\n",
       "      <td>NaN</td>\n",
       "      <td>Wednesday, October 20, 2021</td>\n",
       "      <td>2022-06-30</td>\n",
       "      <td>AJEGUNLE</td>\n",
       "    </tr>\n",
       "    <tr>\n",
       "      <th>4</th>\n",
       "      <td>construction of a block of 18 classroom &amp; admi...</td>\n",
       "      <td>SPECIAL COMMITTEE ON REHABILITATION OF PUBLIC ...</td>\n",
       "      <td>ocds-5q8fsw-6202204711017</td>\n",
       "      <td>₦300,709,940.46</td>\n",
       "      <td>CALMAR LIMITED</td>\n",
       "      <td>Private Organization</td>\n",
       "      <td>₦250,000,001 and above</td>\n",
       "      <td>43</td>\n",
       "      <td>2021</td>\n",
       "      <td>ONGOING</td>\n",
       "      <td>NaN</td>\n",
       "      <td>Friday, October 8, 2021</td>\n",
       "      <td>2022-06-30</td>\n",
       "      <td>Agboju, Ojo</td>\n",
       "    </tr>\n",
       "  </tbody>\n",
       "</table>\n",
       "</div>"
      ],
      "text/plain": [
       "                                        Project Name  \\\n",
       "0  Construction of Drain at Isheri North Resident...   \n",
       "1  Construction of a Block of 18 Classroom & Admi...   \n",
       "2  Emergency Renovation of (i) New Raft Fence (ii...   \n",
       "3  EMERGENCY RENOVATION OF 18 CUBICLE TOILET AT O...   \n",
       "4  construction of a block of 18 classroom & admi...   \n",
       "\n",
       "                                    Procuring Entity  \\\n",
       "0     OFFICE OF DRAINAGE SERVICES & WATER  RESOURCES   \n",
       "1  SPECIAL COMMITTEE ON REHABILITATION OF PUBLIC ...   \n",
       "2  SPECIAL COMMITTEE ON REHABILITATION OF PUBLIC ...   \n",
       "3  SPECIAL COMMITTEE ON REHABILITATION OF PUBLIC ...   \n",
       "4  SPECIAL COMMITTEE ON REHABILITATION OF PUBLIC ...   \n",
       "\n",
       "                        OCID     Project Cost                   Contractor  \\\n",
       "0  ocds-5q8fsw-6202227527413   ₦82,162,781.28     F. O ENGINNERING LIMITED   \n",
       "1  ocds-5q8fsw-6202261436234  ₦290,496,822.78           INVESTRITE LIMITED   \n",
       "2  ocds-5q8fsw-6202207437525   ₦17,222,975.33  DASILVABELL NIGERIA LIMITED   \n",
       "3  ocds-5q8fsw-6202242366585   ₦16,909,708.61     DE-DJONG CONCEPT LIMITED   \n",
       "4  ocds-5q8fsw-6202204711017  ₦300,709,940.46               CALMAR LIMITED   \n",
       "\n",
       "                  Class                 Asset Range  No of Employee  Year  \\\n",
       "0  Private Organization  ₦25,000,001 to ₦50,000,000              35  2022   \n",
       "1  Private Organization      ₦250,000,001 and above              36  2021   \n",
       "2  Private Organization  ₦25,000,001 to ₦50,000,000              35  2021   \n",
       "3  Private Organization  ₦25,000,001 to ₦50,000,000              32  2021   \n",
       "4  Private Organization      ₦250,000,001 and above              43  2021   \n",
       "\n",
       "    Status Remark                   Award Date Publication Date  \\\n",
       "0  ONGOING    NaN       Tuesday, June 28, 2022       2022-06-30   \n",
       "1  ONGOING    NaN    Tuesday, November 2, 2021       2022-06-30   \n",
       "2  ONGOING    NaN  Wednesday, October 20, 2021       2022-06-30   \n",
       "3  ONGOING    NaN  Wednesday, October 20, 2021       2022-06-30   \n",
       "4  ONGOING    NaN      Friday, October 8, 2021       2022-06-30   \n",
       "\n",
       "  Project Location  \n",
       "0    ISHERI, LAGOS  \n",
       "1         ALIMOSHO  \n",
       "2          IKORODU  \n",
       "3         AJEGUNLE  \n",
       "4      Agboju, Ojo  "
      ]
     },
     "execution_count": 11,
     "metadata": {},
     "output_type": "execute_result"
    }
   ],
   "source": [
    "split_date = pd.datetime(since_date.year,since_date.month,since_date.day)\n",
    "\n",
    "df = temp_df.loc[temp_df['Publication Date'] >= split_date]\n",
    "df.head()"
   ]
  },
  {
   "cell_type": "code",
   "execution_count": 12,
   "id": "e0e67bc0",
   "metadata": {
    "ExecuteTime": {
     "end_time": "2022-07-14T06:46:51.723362Z",
     "start_time": "2022-07-14T06:46:51.665518Z"
    }
   },
   "outputs": [
    {
     "data": {
      "text/plain": [
       "((1907, 14), '= >', (739, 14))"
      ]
     },
     "execution_count": 12,
     "metadata": {},
     "output_type": "execute_result"
    }
   ],
   "source": [
    "temp_df.shape,\"= >\",df.shape"
   ]
  },
  {
   "cell_type": "code",
   "execution_count": 13,
   "id": "3dffa697",
   "metadata": {
    "ExecuteTime": {
     "end_time": "2022-07-14T06:46:51.784258Z",
     "start_time": "2022-07-14T06:46:51.727353Z"
    }
   },
   "outputs": [],
   "source": [
    "#to csv\n",
    "df.to_csv(f'{SITE_NAME} news.csv',index = False)\n",
    "\n",
    "#to json\n",
    "df.to_json(f'{SITE_NAME} news.json')"
   ]
  },
  {
   "cell_type": "code",
   "execution_count": 14,
   "id": "54c14be7",
   "metadata": {
    "ExecuteTime": {
     "end_time": "2022-07-14T06:46:51.815149Z",
     "start_time": "2022-07-14T06:46:51.785236Z"
    }
   },
   "outputs": [],
   "source": [
    "#remove the temp file \n",
    "os.remove(path)"
   ]
  },
  {
   "cell_type": "code",
   "execution_count": 15,
   "id": "caedb002",
   "metadata": {
    "ExecuteTime": {
     "end_time": "2022-07-14T06:46:51.924865Z",
     "start_time": "2022-07-14T06:46:51.816115Z"
    }
   },
   "outputs": [],
   "source": [
    "#close the driver\n",
    "driver.close()"
   ]
  }
 ],
 "metadata": {
  "kernelspec": {
   "display_name": "Python 3 (ipykernel)",
   "language": "python",
   "name": "python3"
  },
  "language_info": {
   "codemirror_mode": {
    "name": "ipython",
    "version": 3
   },
   "file_extension": ".py",
   "mimetype": "text/x-python",
   "name": "python",
   "nbconvert_exporter": "python",
   "pygments_lexer": "ipython3",
   "version": "3.9.7"
  },
  "toc": {
   "base_numbering": 1,
   "nav_menu": {},
   "number_sections": true,
   "sideBar": true,
   "skip_h1_title": false,
   "title_cell": "Table of Contents",
   "title_sidebar": "Contents",
   "toc_cell": false,
   "toc_position": {},
   "toc_section_display": true,
   "toc_window_display": false
  }
 },
 "nbformat": 4,
 "nbformat_minor": 5
}
