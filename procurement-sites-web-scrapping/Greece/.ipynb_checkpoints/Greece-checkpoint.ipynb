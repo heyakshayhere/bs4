{
 "cells": [
  {
   "cell_type": "markdown",
   "id": "083e1bb3",
   "metadata": {},
   "source": [
    "**URL**:\n",
    "\n",
    "http://pwgopendata.eprocurement.gov.gr/actSearchErgwn/faces/active_search_main.jspx"
   ]
  },
  {
   "cell_type": "code",
   "execution_count": 16,
   "id": "977debb5",
   "metadata": {
    "ExecuteTime": {
     "end_time": "2022-07-12T15:54:47.416490Z",
     "start_time": "2022-07-12T15:54:47.396418Z"
    },
    "code_folding": [
     0
    ]
   },
   "outputs": [
    {
     "data": {
      "application/javascript": [
       "IPython.notebook.set_autosave_interval(1000)"
      ]
     },
     "metadata": {},
     "output_type": "display_data"
    },
    {
     "name": "stdout",
     "output_type": "stream",
     "text": [
      "Autosaving every 1 seconds\n"
     ]
    }
   ],
   "source": [
    "#libraries\n",
    "\n",
    "import pandas as pd,requests,re,time,random,os\n",
    "from dateutil import parser\n",
    "from selenium.webdriver.common.by import By\n",
    "from selenium.webdriver.common.keys import Keys\n",
    "from datetime import datetime\n",
    "from selenium import webdriver\n",
    "\n",
    "import warnings\n",
    "warnings.filterwarnings(\"ignore\")\n",
    "\n",
    "%autosave 1"
   ]
  },
  {
   "cell_type": "code",
   "execution_count": 17,
   "id": "304efdf9",
   "metadata": {
    "ExecuteTime": {
     "end_time": "2022-07-12T15:54:50.753259Z",
     "start_time": "2022-07-12T15:54:48.172869Z"
    },
    "code_folding": [
     0
    ]
   },
   "outputs": [
    {
     "name": "stderr",
     "output_type": "stream",
     "text": [
      "\n",
      "\n",
      "====== WebDriver manager ======\n",
      "Current google-chrome version is 103.0.5060\n",
      "Get LATEST chromedriver version for 103.0.5060 google-chrome\n",
      "Driver [C:\\Users\\AKSHAY SATPUTE\\.wdm\\drivers\\chromedriver\\win32\\103.0.5060.53\\chromedriver.exe] found in cache\n"
     ]
    }
   ],
   "source": [
    "#driver for operation\n",
    "from webdriver_manager.chrome import ChromeDriverManager\n",
    "option = webdriver.ChromeOptions()\n",
    "# option.add_argument('headless')\n",
    "driver = webdriver.Chrome(ChromeDriverManager().install(),options=option)\n",
    "driver.maximize_window()"
   ]
  },
  {
   "cell_type": "code",
   "execution_count": 18,
   "id": "6cf12bd5",
   "metadata": {
    "ExecuteTime": {
     "end_time": "2022-07-12T15:54:53.732705Z",
     "start_time": "2022-07-12T15:54:53.715714Z"
    },
    "code_folding": [
     0
    ]
   },
   "outputs": [],
   "source": [
    "#site name ,link and domain\n",
    "SITE_NAME='GRC_MOD'\n",
    "\n",
    "DOMAIN = \"http://pwgopendata.eprocurement.gov.gr\"\n",
    "\n",
    "SITE_LINK = \"http://pwgopendata.eprocurement.gov.gr/actSearchErgwn/faces/active_search_main.jspx\""
   ]
  },
  {
   "cell_type": "code",
   "execution_count": 19,
   "id": "92e0cd43",
   "metadata": {
    "ExecuteTime": {
     "end_time": "2022-07-12T15:54:54.296578Z",
     "start_time": "2022-07-12T15:54:54.291569Z"
    }
   },
   "outputs": [],
   "source": [
    "since_date = parser.parse(\"2022-07-01\")"
   ]
  },
  {
   "cell_type": "code",
   "execution_count": 20,
   "id": "b2a52456",
   "metadata": {
    "ExecuteTime": {
     "end_time": "2022-07-12T15:55:40.747447Z",
     "start_time": "2022-07-12T15:54:55.691053Z"
    }
   },
   "outputs": [],
   "source": [
    "driver.get(SITE_LINK)"
   ]
  },
  {
   "cell_type": "code",
   "execution_count": 21,
   "id": "08c85147",
   "metadata": {
    "ExecuteTime": {
     "end_time": "2022-07-12T15:55:41.042748Z",
     "start_time": "2022-07-12T15:55:40.749447Z"
    },
    "code_folding": [
     0
    ],
    "scrolled": true
   },
   "outputs": [],
   "source": [
    "#searching the param\n",
    "search_param =  \"Υπουργείο Εθνικής Άμυνας\" #meaning Ministry of Defense\n",
    "input_s = driver.find_element_by_xpath('''//*[@id=\"qryId1:val70::content\"]''')\n",
    "input_s.clear()\n",
    "input_s.send_keys(search_param)\n",
    "input_s.send_keys(Keys.ENTER)\n",
    "driver.implicitly_wait(10)\n",
    "driver.find_element_by_xpath('''//*[@id=\"pc1:ctb1\"]/a/span''').click()"
   ]
  },
  {
   "cell_type": "code",
   "execution_count": 22,
   "id": "ea94a648",
   "metadata": {
    "ExecuteTime": {
     "end_time": "2022-07-12T15:55:41.058073Z",
     "start_time": "2022-07-12T15:55:41.045750Z"
    }
   },
   "outputs": [],
   "source": [
    "path = \"D:\\Downloads\\PonErgwn.xls\""
   ]
  },
  {
   "cell_type": "code",
   "execution_count": 23,
   "id": "3c98e6b6",
   "metadata": {
    "ExecuteTime": {
     "end_time": "2022-07-12T15:55:41.073021Z",
     "start_time": "2022-07-12T15:55:41.061075Z"
    },
    "code_folding": [
     0
    ]
   },
   "outputs": [],
   "source": [
    "columns = (\"AA System\",\"Short Title/No. and Declaration\",\"Title of Project/Study\",\"Funding\",\"Total Budget (with VAT)\",\"Publication Date\",\n",
    "           \"Bid Submission Commencement Date\",\"Closing date for submission of tenders\",\"CPV code\",\"CPV description\",\"Contracting authority\",\n",
    "          \"Project Locations\",\"Condition\",\"Vesting Amount\",\"Electronic Process Type\")"
   ]
  },
  {
   "cell_type": "code",
   "execution_count": 25,
   "id": "db7cf97f",
   "metadata": {
    "ExecuteTime": {
     "end_time": "2022-07-12T15:56:04.108338Z",
     "start_time": "2022-07-12T15:56:04.076093Z"
    },
    "scrolled": true
   },
   "outputs": [
    {
     "data": {
      "text/html": [
       "<div>\n",
       "<style scoped>\n",
       "    .dataframe tbody tr th:only-of-type {\n",
       "        vertical-align: middle;\n",
       "    }\n",
       "\n",
       "    .dataframe tbody tr th {\n",
       "        vertical-align: top;\n",
       "    }\n",
       "\n",
       "    .dataframe thead th {\n",
       "        text-align: right;\n",
       "    }\n",
       "</style>\n",
       "<table border=\"1\" class=\"dataframe\">\n",
       "  <thead>\n",
       "    <tr style=\"text-align: right;\">\n",
       "      <th></th>\n",
       "      <th>AA System</th>\n",
       "      <th>Short Title/No. and Declaration</th>\n",
       "      <th>Title of Project/Study</th>\n",
       "      <th>Funding</th>\n",
       "      <th>Total Budget (with VAT)</th>\n",
       "      <th>Publication Date</th>\n",
       "      <th>Bid Submission Commencement Date</th>\n",
       "      <th>Closing date for submission of tenders</th>\n",
       "      <th>CPV code</th>\n",
       "      <th>CPV description</th>\n",
       "      <th>Contracting authority</th>\n",
       "      <th>Project Locations</th>\n",
       "      <th>Condition</th>\n",
       "      <th>Vesting Amount</th>\n",
       "      <th>Electronic Process Type</th>\n",
       "    </tr>\n",
       "  </thead>\n",
       "  <tbody>\n",
       "    <tr>\n",
       "      <th>0</th>\n",
       "      <td>190459</td>\n",
       "      <td>Δ.07/22</td>\n",
       "      <td>Κατασκευή Νέου Συστήματος Αγκυροβόλησης της 13...</td>\n",
       "      <td>Τακτικός Προϋπολογισμός/Ε.Φ.1011204</td>\n",
       "      <td>339.589,25</td>\n",
       "      <td>07-07-2022 12:33:55</td>\n",
       "      <td>07-07-2022 12:33:55</td>\n",
       "      <td>14-07-2022 09:00:00</td>\n",
       "      <td>45216200-6</td>\n",
       "      <td>Κατασκευαστικές εργασίες για στρατιωτικά κτίρι...</td>\n",
       "      <td>ΥΠΟΥΡΓΕΙΟ ΕΘΝΙΚΗΣ ΑΜΥΝΑΣ, ΓΕΝΙΚΟ ΕΠΙΤΕΛΕΙΟ ΑΕΡ...</td>\n",
       "      <td>EL642 - Εύβοια (Evvoia)</td>\n",
       "      <td>ΥΠΟΒΟΛΗ ΠΡΟΣΦΟΡΩΝ</td>\n",
       "      <td>NaN</td>\n",
       "      <td>ΗΔΣΣ-RFQ</td>\n",
       "    </tr>\n",
       "    <tr>\n",
       "      <th>1</th>\n",
       "      <td>190242</td>\n",
       "      <td>Επισκευή Κυματοθραύστη ΠΝΒΚ (242201)</td>\n",
       "      <td>Επισκευή Κυματοθραύστη Προκεχωρημένης Ναυτικής...</td>\n",
       "      <td>Τακτικός Προϋπολογισμός/3130101002</td>\n",
       "      <td>2.478.205,67</td>\n",
       "      <td>01-07-2022 08:39:15</td>\n",
       "      <td>01-07-2022 08:39:15</td>\n",
       "      <td>20-07-2022 11:00:00</td>\n",
       "      <td>45243200-4</td>\n",
       "      <td>Κατασκευαστικές εργασίες για κυματοθραύστες</td>\n",
       "      <td>ΥΠΟΥΡΓΕΙΟ ΕΘΝΙΚΗΣ ΑΜΥΝΑΣ, ΓΕΝ, Γ4-Ι</td>\n",
       "      <td>EL432 - Λασίθι (Lasithi)</td>\n",
       "      <td>ΥΠΟΒΟΛΗ ΠΡΟΣΦΟΡΩΝ</td>\n",
       "      <td>NaN</td>\n",
       "      <td>ΗΔΣΣ-RFQ</td>\n",
       "    </tr>\n",
       "    <tr>\n",
       "      <th>2</th>\n",
       "      <td>190048</td>\n",
       "      <td>ΚΑΤΑΣΚΕΥΗ 3 ΥΠΟΣΤΕΓΩΝ ΣΤΑΘΜΕΥΣΗΣ Ε/Π ΝΗ-90 ΣΤΟ...</td>\n",
       "      <td>ΚΑΤΑΣΚΕΥΗ 3 ΥΠΟΣΤΕΓΩΝ ΣΤΑΘΜΕΥΣΗΣ Ε/Π ΝΗ-90 ΣΤΟ...</td>\n",
       "      <td>Τακτικός Προϋπολογισμός/3170101001</td>\n",
       "      <td>1.200.000,00</td>\n",
       "      <td>27-06-2022 09:59:32</td>\n",
       "      <td>27-06-2022 09:59:32</td>\n",
       "      <td>26-07-2022 10:00:00</td>\n",
       "      <td>45216200-6</td>\n",
       "      <td>Κατασκευαστικές εργασίες για στρατιωτικά κτίρι...</td>\n",
       "      <td>ΥΠΟΥΡΓΕΙΟ ΕΘΝΙΚΗΣ ΑΜΥΝΑΣ, ΥΠΕΘΑ/ΓΕΕΘΑ/ΓΕΣ/ΑΣΔΥ...</td>\n",
       "      <td>EL306 - Δυτική Αττική (Dytiki Attiki)</td>\n",
       "      <td>ΥΠΟΒΟΛΗ ΠΡΟΣΦΟΡΩΝ</td>\n",
       "      <td>NaN</td>\n",
       "      <td>ΗΔΣΣ-RFQ</td>\n",
       "    </tr>\n",
       "    <tr>\n",
       "      <th>3</th>\n",
       "      <td>189940</td>\n",
       "      <td>ΤΝΓ-248Ε</td>\n",
       "      <td>Ανακαίνιση - Διαμόρφωση Κτιρίων Συνεργείων Κιν...</td>\n",
       "      <td>Τακτικός Προϋπολογισμός/ΑΛΕ 3110403001</td>\n",
       "      <td>2.999.999,69</td>\n",
       "      <td>24-06-2022 12:30:32</td>\n",
       "      <td>24-06-2022 12:30:32</td>\n",
       "      <td>26-07-2022 10:00:00</td>\n",
       "      <td>45216200-6,45222200-1</td>\n",
       "      <td>Κατασκευαστικές εργασίες για στρατιωτικά κτίρι...</td>\n",
       "      <td>ΥΠΟΥΡΓΕΙΟ ΕΘΝΙΚΗΣ ΑΜΥΝΑΣ, ΓΕΝΙΚΟ ΕΠΙΤΕΛΕΙΟ ΑΕΡ...</td>\n",
       "      <td>EL641 - Βοιωτία (Voiotia)</td>\n",
       "      <td>ΥΠΟΒΟΛΗ ΠΡΟΣΦΟΡΩΝ</td>\n",
       "      <td>NaN</td>\n",
       "      <td>ΗΔΣΣ-RFQ</td>\n",
       "    </tr>\n",
       "    <tr>\n",
       "      <th>4</th>\n",
       "      <td>190063</td>\n",
       "      <td>Ενεργειακή Αναβάθμιση Σχολής Αξιωματικών Νοσηλ...</td>\n",
       "      <td>Ενεργειακή Αναβάθμιση Σχολής Αξιωματικών Νοσηλ...</td>\n",
       "      <td>ΠΔΕ - Συγχρηματοδοτούμενο Σκέλος (ΕΣΠΑ)/ΣΑ: Ε2...</td>\n",
       "      <td>3.500.000,00</td>\n",
       "      <td>23-06-2022 13:24:34</td>\n",
       "      <td>23-06-2022 13:24:34</td>\n",
       "      <td>14-07-2022 10:00:00</td>\n",
       "      <td>45259900-6,45331000-6</td>\n",
       "      <td>Εργασίες αναβάθμισης εγκαταστάσεων, Εργασίες ε...</td>\n",
       "      <td>ΥΠΟΥΡΓΕΙΟ ΕΘΝΙΚΗΣ ΑΜΥΝΑΣ, ΥΕΘΑ/ΓΕΣ/ΑΣΔΕΝ</td>\n",
       "      <td>EL303 - Κεντρικός Τομέας Αθηνών (Kentrikos Tom...</td>\n",
       "      <td>ΥΠΟΒΟΛΗ ΠΡΟΣΦΟΡΩΝ</td>\n",
       "      <td>NaN</td>\n",
       "      <td>ΗΔΣΣ-RFQ</td>\n",
       "    </tr>\n",
       "    <tr>\n",
       "      <th>5</th>\n",
       "      <td>189150</td>\n",
       "      <td>Κατασκευή Υπόστεγου Όρχου Οχημάτων 20 Θέσεων γ...</td>\n",
       "      <td>Κατασκευή Στρατιωτικών Έργων (Κατασκευή Νέου Υ...</td>\n",
       "      <td>Ιδία μέσα/ΑΛΕ 3130101002</td>\n",
       "      <td>75.000,00</td>\n",
       "      <td>18-05-2022 12:00:47</td>\n",
       "      <td>18-05-2022 12:00:47</td>\n",
       "      <td>20-07-2022 10:00:00</td>\n",
       "      <td>45216200-6</td>\n",
       "      <td>Κατασκευαστικές εργασίες για στρατιωτικά κτίρι...</td>\n",
       "      <td>ΥΠΟΥΡΓΕΙΟ ΕΘΝΙΚΗΣ ΑΜΥΝΑΣ, ΥΕΘΑ/ΓΕΣ/ΑΣΔΕΝ</td>\n",
       "      <td>EL431 - Ηράκλειο (Irakleio)</td>\n",
       "      <td>ΥΠΟΒΟΛΗ ΠΡΟΣΦΟΡΩΝ</td>\n",
       "      <td>NaN</td>\n",
       "      <td>ΗΔΣΣ-RFQ</td>\n",
       "    </tr>\n",
       "  </tbody>\n",
       "</table>\n",
       "</div>"
      ],
      "text/plain": [
       "   AA System                    Short Title/No. and Declaration  \\\n",
       "0     190459                                            Δ.07/22   \n",
       "1     190242               Επισκευή Κυματοθραύστη ΠΝΒΚ (242201)   \n",
       "2     190048  ΚΑΤΑΣΚΕΥΗ 3 ΥΠΟΣΤΕΓΩΝ ΣΤΑΘΜΕΥΣΗΣ Ε/Π ΝΗ-90 ΣΤΟ...   \n",
       "3     189940                                           ΤΝΓ-248Ε   \n",
       "4     190063  Ενεργειακή Αναβάθμιση Σχολής Αξιωματικών Νοσηλ...   \n",
       "5     189150  Κατασκευή Υπόστεγου Όρχου Οχημάτων 20 Θέσεων γ...   \n",
       "\n",
       "                              Title of Project/Study  \\\n",
       "0  Κατασκευή Νέου Συστήματος Αγκυροβόλησης της 13...   \n",
       "1  Επισκευή Κυματοθραύστη Προκεχωρημένης Ναυτικής...   \n",
       "2  ΚΑΤΑΣΚΕΥΗ 3 ΥΠΟΣΤΕΓΩΝ ΣΤΑΘΜΕΥΣΗΣ Ε/Π ΝΗ-90 ΣΤΟ...   \n",
       "3  Ανακαίνιση - Διαμόρφωση Κτιρίων Συνεργείων Κιν...   \n",
       "4  Ενεργειακή Αναβάθμιση Σχολής Αξιωματικών Νοσηλ...   \n",
       "5  Κατασκευή Στρατιωτικών Έργων (Κατασκευή Νέου Υ...   \n",
       "\n",
       "                                             Funding Total Budget (with VAT)  \\\n",
       "0                Τακτικός Προϋπολογισμός/Ε.Φ.1011204              339.589,25   \n",
       "1                 Τακτικός Προϋπολογισμός/3130101002            2.478.205,67   \n",
       "2                 Τακτικός Προϋπολογισμός/3170101001            1.200.000,00   \n",
       "3             Τακτικός Προϋπολογισμός/ΑΛΕ 3110403001            2.999.999,69   \n",
       "4  ΠΔΕ - Συγχρηματοδοτούμενο Σκέλος (ΕΣΠΑ)/ΣΑ: Ε2...            3.500.000,00   \n",
       "5                           Ιδία μέσα/ΑΛΕ 3130101002               75.000,00   \n",
       "\n",
       "      Publication Date Bid Submission Commencement Date  \\\n",
       "0  07-07-2022 12:33:55              07-07-2022 12:33:55   \n",
       "1  01-07-2022 08:39:15              01-07-2022 08:39:15   \n",
       "2  27-06-2022 09:59:32              27-06-2022 09:59:32   \n",
       "3  24-06-2022 12:30:32              24-06-2022 12:30:32   \n",
       "4  23-06-2022 13:24:34              23-06-2022 13:24:34   \n",
       "5  18-05-2022 12:00:47              18-05-2022 12:00:47   \n",
       "\n",
       "  Closing date for submission of tenders               CPV code  \\\n",
       "0                    14-07-2022 09:00:00             45216200-6   \n",
       "1                    20-07-2022 11:00:00             45243200-4   \n",
       "2                    26-07-2022 10:00:00             45216200-6   \n",
       "3                    26-07-2022 10:00:00  45216200-6,45222200-1   \n",
       "4                    14-07-2022 10:00:00  45259900-6,45331000-6   \n",
       "5                    20-07-2022 10:00:00             45216200-6   \n",
       "\n",
       "                                     CPV description  \\\n",
       "0  Κατασκευαστικές εργασίες για στρατιωτικά κτίρι...   \n",
       "1        Κατασκευαστικές εργασίες για κυματοθραύστες   \n",
       "2  Κατασκευαστικές εργασίες για στρατιωτικά κτίρι...   \n",
       "3  Κατασκευαστικές εργασίες για στρατιωτικά κτίρι...   \n",
       "4  Εργασίες αναβάθμισης εγκαταστάσεων, Εργασίες ε...   \n",
       "5  Κατασκευαστικές εργασίες για στρατιωτικά κτίρι...   \n",
       "\n",
       "                               Contracting authority  \\\n",
       "0  ΥΠΟΥΡΓΕΙΟ ΕΘΝΙΚΗΣ ΑΜΥΝΑΣ, ΓΕΝΙΚΟ ΕΠΙΤΕΛΕΙΟ ΑΕΡ...   \n",
       "1                ΥΠΟΥΡΓΕΙΟ ΕΘΝΙΚΗΣ ΑΜΥΝΑΣ, ΓΕΝ, Γ4-Ι   \n",
       "2  ΥΠΟΥΡΓΕΙΟ ΕΘΝΙΚΗΣ ΑΜΥΝΑΣ, ΥΠΕΘΑ/ΓΕΕΘΑ/ΓΕΣ/ΑΣΔΥ...   \n",
       "3  ΥΠΟΥΡΓΕΙΟ ΕΘΝΙΚΗΣ ΑΜΥΝΑΣ, ΓΕΝΙΚΟ ΕΠΙΤΕΛΕΙΟ ΑΕΡ...   \n",
       "4           ΥΠΟΥΡΓΕΙΟ ΕΘΝΙΚΗΣ ΑΜΥΝΑΣ, ΥΕΘΑ/ΓΕΣ/ΑΣΔΕΝ   \n",
       "5           ΥΠΟΥΡΓΕΙΟ ΕΘΝΙΚΗΣ ΑΜΥΝΑΣ, ΥΕΘΑ/ΓΕΣ/ΑΣΔΕΝ   \n",
       "\n",
       "                                   Project Locations          Condition  \\\n",
       "0                            EL642 - Εύβοια (Evvoia)  ΥΠΟΒΟΛΗ ΠΡΟΣΦΟΡΩΝ   \n",
       "1                           EL432 - Λασίθι (Lasithi)  ΥΠΟΒΟΛΗ ΠΡΟΣΦΟΡΩΝ   \n",
       "2              EL306 - Δυτική Αττική (Dytiki Attiki)  ΥΠΟΒΟΛΗ ΠΡΟΣΦΟΡΩΝ   \n",
       "3                          EL641 - Βοιωτία (Voiotia)  ΥΠΟΒΟΛΗ ΠΡΟΣΦΟΡΩΝ   \n",
       "4  EL303 - Κεντρικός Τομέας Αθηνών (Kentrikos Tom...  ΥΠΟΒΟΛΗ ΠΡΟΣΦΟΡΩΝ   \n",
       "5                        EL431 - Ηράκλειο (Irakleio)  ΥΠΟΒΟΛΗ ΠΡΟΣΦΟΡΩΝ   \n",
       "\n",
       "   Vesting Amount Electronic Process Type  \n",
       "0             NaN                ΗΔΣΣ-RFQ  \n",
       "1             NaN                ΗΔΣΣ-RFQ  \n",
       "2             NaN                ΗΔΣΣ-RFQ  \n",
       "3             NaN                ΗΔΣΣ-RFQ  \n",
       "4             NaN                ΗΔΣΣ-RFQ  \n",
       "5             NaN                ΗΔΣΣ-RFQ  "
      ]
     },
     "execution_count": 25,
     "metadata": {},
     "output_type": "execute_result"
    }
   ],
   "source": [
    "while True: \n",
    "    try:\n",
    "        temp_df  =  pd.read_html(path)\n",
    "        break\n",
    "    except:\n",
    "        pass\n",
    "    \n",
    "temp_df[0].columns  = columns\n",
    "temp_df = temp_df[0]\n",
    "temp_df"
   ]
  },
  {
   "cell_type": "code",
   "execution_count": 26,
   "id": "5cf97c99",
   "metadata": {
    "ExecuteTime": {
     "end_time": "2022-07-12T15:56:11.574001Z",
     "start_time": "2022-07-12T15:56:11.556229Z"
    },
    "scrolled": true
   },
   "outputs": [],
   "source": [
    "temp_df[\"Publication Date\"] = pd.to_datetime(temp_df[\"Publication Date\"])"
   ]
  },
  {
   "cell_type": "code",
   "execution_count": 27,
   "id": "4f9baf1d",
   "metadata": {
    "ExecuteTime": {
     "end_time": "2022-07-12T15:56:12.077361Z",
     "start_time": "2022-07-12T15:56:12.052235Z"
    },
    "scrolled": false
   },
   "outputs": [
    {
     "data": {
      "text/html": [
       "<div>\n",
       "<style scoped>\n",
       "    .dataframe tbody tr th:only-of-type {\n",
       "        vertical-align: middle;\n",
       "    }\n",
       "\n",
       "    .dataframe tbody tr th {\n",
       "        vertical-align: top;\n",
       "    }\n",
       "\n",
       "    .dataframe thead th {\n",
       "        text-align: right;\n",
       "    }\n",
       "</style>\n",
       "<table border=\"1\" class=\"dataframe\">\n",
       "  <thead>\n",
       "    <tr style=\"text-align: right;\">\n",
       "      <th></th>\n",
       "      <th>AA System</th>\n",
       "      <th>Short Title/No. and Declaration</th>\n",
       "      <th>Title of Project/Study</th>\n",
       "      <th>Funding</th>\n",
       "      <th>Total Budget (with VAT)</th>\n",
       "      <th>Publication Date</th>\n",
       "      <th>Bid Submission Commencement Date</th>\n",
       "      <th>Closing date for submission of tenders</th>\n",
       "      <th>CPV code</th>\n",
       "      <th>CPV description</th>\n",
       "      <th>Contracting authority</th>\n",
       "      <th>Project Locations</th>\n",
       "      <th>Condition</th>\n",
       "      <th>Vesting Amount</th>\n",
       "      <th>Electronic Process Type</th>\n",
       "    </tr>\n",
       "  </thead>\n",
       "  <tbody>\n",
       "    <tr>\n",
       "      <th>0</th>\n",
       "      <td>190459</td>\n",
       "      <td>Δ.07/22</td>\n",
       "      <td>Κατασκευή Νέου Συστήματος Αγκυροβόλησης της 13...</td>\n",
       "      <td>Τακτικός Προϋπολογισμός/Ε.Φ.1011204</td>\n",
       "      <td>339.589,25</td>\n",
       "      <td>2022-07-07 12:33:55</td>\n",
       "      <td>07-07-2022 12:33:55</td>\n",
       "      <td>14-07-2022 09:00:00</td>\n",
       "      <td>45216200-6</td>\n",
       "      <td>Κατασκευαστικές εργασίες για στρατιωτικά κτίρι...</td>\n",
       "      <td>ΥΠΟΥΡΓΕΙΟ ΕΘΝΙΚΗΣ ΑΜΥΝΑΣ, ΓΕΝΙΚΟ ΕΠΙΤΕΛΕΙΟ ΑΕΡ...</td>\n",
       "      <td>EL642 - Εύβοια (Evvoia)</td>\n",
       "      <td>ΥΠΟΒΟΛΗ ΠΡΟΣΦΟΡΩΝ</td>\n",
       "      <td>NaN</td>\n",
       "      <td>ΗΔΣΣ-RFQ</td>\n",
       "    </tr>\n",
       "  </tbody>\n",
       "</table>\n",
       "</div>"
      ],
      "text/plain": [
       "   AA System Short Title/No. and Declaration  \\\n",
       "0     190459                         Δ.07/22   \n",
       "\n",
       "                              Title of Project/Study  \\\n",
       "0  Κατασκευή Νέου Συστήματος Αγκυροβόλησης της 13...   \n",
       "\n",
       "                               Funding Total Budget (with VAT)  \\\n",
       "0  Τακτικός Προϋπολογισμός/Ε.Φ.1011204              339.589,25   \n",
       "\n",
       "     Publication Date Bid Submission Commencement Date  \\\n",
       "0 2022-07-07 12:33:55              07-07-2022 12:33:55   \n",
       "\n",
       "  Closing date for submission of tenders    CPV code  \\\n",
       "0                    14-07-2022 09:00:00  45216200-6   \n",
       "\n",
       "                                     CPV description  \\\n",
       "0  Κατασκευαστικές εργασίες για στρατιωτικά κτίρι...   \n",
       "\n",
       "                               Contracting authority        Project Locations  \\\n",
       "0  ΥΠΟΥΡΓΕΙΟ ΕΘΝΙΚΗΣ ΑΜΥΝΑΣ, ΓΕΝΙΚΟ ΕΠΙΤΕΛΕΙΟ ΑΕΡ...  EL642 - Εύβοια (Evvoia)   \n",
       "\n",
       "           Condition  Vesting Amount Electronic Process Type  \n",
       "0  ΥΠΟΒΟΛΗ ΠΡΟΣΦΟΡΩΝ             NaN                ΗΔΣΣ-RFQ  "
      ]
     },
     "execution_count": 27,
     "metadata": {},
     "output_type": "execute_result"
    }
   ],
   "source": [
    "split_date = pd.datetime(since_date.year,since_date.month,since_date.day)\n",
    "\n",
    "df = temp_df.loc[temp_df['Publication Date'] >= split_date]\n",
    "df.head()"
   ]
  },
  {
   "cell_type": "code",
   "execution_count": 28,
   "id": "ff72c2ca",
   "metadata": {
    "ExecuteTime": {
     "end_time": "2022-07-12T15:56:14.294987Z",
     "start_time": "2022-07-12T15:56:14.276009Z"
    }
   },
   "outputs": [
    {
     "data": {
      "text/plain": [
       "((6, 15), '= >', (1, 15))"
      ]
     },
     "execution_count": 28,
     "metadata": {},
     "output_type": "execute_result"
    }
   ],
   "source": [
    "temp_df.shape,\"= >\",df.shape"
   ]
  },
  {
   "cell_type": "code",
   "execution_count": 29,
   "id": "0de57d09",
   "metadata": {
    "ExecuteTime": {
     "end_time": "2022-07-12T15:56:15.973495Z",
     "start_time": "2022-07-12T15:56:15.955503Z"
    },
    "code_folding": [
     0
    ]
   },
   "outputs": [],
   "source": [
    "#to csv\n",
    "df.to_csv(f'{SITE_NAME} news.csv',index = False)\n",
    "\n",
    "#to json\n",
    "df.to_json(f'{SITE_NAME} news.json')"
   ]
  },
  {
   "cell_type": "code",
   "execution_count": 30,
   "id": "80c5b053",
   "metadata": {
    "ExecuteTime": {
     "end_time": "2022-07-12T15:56:27.708988Z",
     "start_time": "2022-07-12T15:56:27.693811Z"
    },
    "code_folding": [
     0
    ]
   },
   "outputs": [],
   "source": [
    "#remove the temp file \n",
    "os.remove(path)"
   ]
  }
 ],
 "metadata": {
  "kernelspec": {
   "display_name": "Python 3 (ipykernel)",
   "language": "python",
   "name": "python3"
  },
  "language_info": {
   "codemirror_mode": {
    "name": "ipython",
    "version": 3
   },
   "file_extension": ".py",
   "mimetype": "text/x-python",
   "name": "python",
   "nbconvert_exporter": "python",
   "pygments_lexer": "ipython3",
   "version": "3.9.7"
  },
  "toc": {
   "base_numbering": 1,
   "nav_menu": {},
   "number_sections": true,
   "sideBar": true,
   "skip_h1_title": false,
   "title_cell": "Table of Contents",
   "title_sidebar": "Contents",
   "toc_cell": false,
   "toc_position": {},
   "toc_section_display": true,
   "toc_window_display": false
  }
 },
 "nbformat": 4,
 "nbformat_minor": 5
}
