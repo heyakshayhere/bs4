{
 "cells": [
  {
   "cell_type": "markdown",
   "id": "03198d01",
   "metadata": {},
   "source": [
    "URL: https://tenders.go.ke/Tenderdetails"
   ]
  },
  {
   "cell_type": "code",
   "execution_count": 1,
   "id": "77e97396",
   "metadata": {
    "ExecuteTime": {
     "end_time": "2022-07-09T11:17:43.706860Z",
     "start_time": "2022-07-09T11:17:42.924982Z"
    },
    "code_folding": [
     0
    ]
   },
   "outputs": [
    {
     "data": {
      "application/javascript": [
       "IPython.notebook.set_autosave_interval(1000)"
      ]
     },
     "metadata": {},
     "output_type": "display_data"
    },
    {
     "name": "stdout",
     "output_type": "stream",
     "text": [
      "Autosaving every 1 seconds\n"
     ]
    }
   ],
   "source": [
    "#libraries\n",
    "\n",
    "import pandas as pd,requests,re,time,random\n",
    "from dateutil import parser\n",
    "from selenium.webdriver.common.by import By\n",
    "from selenium.webdriver.common.keys import Keys\n",
    "from datetime import datetime\n",
    "from selenium import webdriver\n",
    "from tqdm.auto import tqdm\n",
    "\n",
    "import warnings\n",
    "warnings.filterwarnings(\"ignore\")\n",
    "\n",
    "%autosave 1"
   ]
  },
  {
   "cell_type": "code",
   "execution_count": 2,
   "id": "f888a7ad",
   "metadata": {
    "ExecuteTime": {
     "end_time": "2022-07-09T11:17:47.161771Z",
     "start_time": "2022-07-09T11:17:43.708855Z"
    },
    "code_folding": [
     0
    ]
   },
   "outputs": [
    {
     "name": "stderr",
     "output_type": "stream",
     "text": [
      "\n",
      "\n",
      "====== WebDriver manager ======\n",
      "Current google-chrome version is 103.0.5060\n",
      "Get LATEST chromedriver version for 103.0.5060 google-chrome\n",
      "Driver [C:\\Users\\AKSHAY SATPUTE\\.wdm\\drivers\\chromedriver\\win32\\103.0.5060.53\\chromedriver.exe] found in cache\n"
     ]
    }
   ],
   "source": [
    "#driver for operation\n",
    "from webdriver_manager.chrome import ChromeDriverManager\n",
    "option = webdriver.ChromeOptions()\n",
    "# option.add_argument('headless')\n",
    "driver = webdriver.Chrome(ChromeDriverManager().install(),options=option)\n",
    "driver.maximize_window()"
   ]
  },
  {
   "cell_type": "code",
   "execution_count": 3,
   "id": "090a0e65",
   "metadata": {
    "ExecuteTime": {
     "end_time": "2022-07-09T11:17:47.176982Z",
     "start_time": "2022-07-09T11:17:47.163013Z"
    },
    "code_folding": [
     0
    ]
   },
   "outputs": [],
   "source": [
    "#site name ,link and domain\n",
    "SITE_NAME='Tenders_go_ke'\n",
    "\n",
    "DOMAIN = \"https://tenders.go.ke\"\n",
    "\n",
    "SITE_LINK = \"https://tenders.go.ke/Tenderdetails\""
   ]
  },
  {
   "cell_type": "code",
   "execution_count": 4,
   "id": "fd23ebc5",
   "metadata": {
    "ExecuteTime": {
     "end_time": "2022-07-09T11:17:47.192937Z",
     "start_time": "2022-07-09T11:17:47.184009Z"
    }
   },
   "outputs": [],
   "source": [
    "since_date = parser.parse(\"2022-06-28\")"
   ]
  },
  {
   "cell_type": "code",
   "execution_count": 5,
   "id": "cb3bde85",
   "metadata": {
    "ExecuteTime": {
     "end_time": "2022-07-09T11:17:47.208067Z",
     "start_time": "2022-07-09T11:17:47.197922Z"
    }
   },
   "outputs": [],
   "source": [
    "# current_date = parser.parse(published_date)\n",
    "\n",
    "# if since_date > current_date:\n",
    "#         raise Exception"
   ]
  },
  {
   "cell_type": "code",
   "execution_count": 6,
   "id": "332ca2f5",
   "metadata": {
    "ExecuteTime": {
     "end_time": "2022-07-09T11:17:47.239774Z",
     "start_time": "2022-07-09T11:17:47.209874Z"
    },
    "code_folding": [
     0
    ]
   },
   "outputs": [],
   "source": [
    "def get_text(): \n",
    "    driver.implicitly_wait(10)\n",
    "    time.sleep(3)\n",
    "    procuring_entity = driver.find_element(By.XPATH, f'''/html/body/div[2]/div/div/div/div[2]/div/div/div/h4/div/h4''').text.split(':', 1)[1].lstrip(' ')\n",
    "    tender = driver.find_element(By.XPATH, f'''/html/body/div[2]/div/div/div/div[2]/div/div/div/h4/span''').text.split(':', 1)[1].lstrip(' ')\n",
    "    ocid = driver.find_element(By.XPATH, f'''/html/body/div[2]/div/div/div/div[2]/div/div/div/div/div[1]/div/form/div[1]/div[2]/table/tbody/tr[1]/td[2]''').text\n",
    "    tender_no = driver.find_element(By.XPATH, f'''/html/body/div[2]/div/div/div/div[2]/div/div/div/div/div[1]/div/form/div[1]/div[2]/table/tbody/tr[1]/td[4]''').text\n",
    "    financial_year = driver.find_element(By.XPATH, f'''/html/body/div[2]/div/div/div/div[2]/div/div/div/div/div[1]/div/form/div[1]/div[2]/table/tbody/tr[2]/td[2]''').text\n",
    "    procurement_method = driver.find_element(By.XPATH, f'''/html/body/div[2]/div/div/div/div[2]/div/div/div/div/div[1]/div/form/div[1]/div[2]/table/tbody/tr[3]/td[2]''').text\n",
    "    category = driver.find_element(By.XPATH, f'''/html/body/div[2]/div/div/div/div[2]/div/div/div/div/div[1]/div/form/div[1]/div[2]/table/tbody/tr[3]/td[4]''').text\n",
    "    sbmission_method = driver.find_element(By.XPATH, f'''/html/body/div[2]/div/div/div/div[2]/div/div/div/div/div[1]/div/form/div[1]/div[2]/table/tbody/tr[4]/td[2]''').text\n",
    "    opening_venue = driver.find_element(By.XPATH, f'''/html/body/div[2]/div/div/div/div[2]/div/div/div/div/div[1]/div/form/div[1]/div[2]/table/tbody/tr[4]/td[4]''').text\n",
    "    published_date = driver.find_element(By.XPATH,f'''/html/body/div[2]/div/div/div/div[2]/div/div/div/div/div[1]/div/form/div[1]/div[2]/table/tbody/tr[5]/td[2]''').text\n",
    "    closed_date = driver.find_element(By.XPATH, f'''/html/body/div[2]/div/div/div/div[2]/div/div/div/div/div[1]/div/form/div[1]/div[2]/table/tbody/tr[5]/td[4]''').text\n",
    "    tender_fee = driver.find_element(By.XPATH, f'''/html/body/div[2]/div/div/div/div[2]/div/div/div/div/div[1]/div/form/div[1]/div[2]/table/tbody/tr[6]/td[2]''').text\n",
    "    closing_time = driver.find_element(By.XPATH, f'''/html/body/div[2]/div/div/div/div[2]/div/div/div/div/div[1]/div/form/div[1]/div[2]/table/tbody/tr[7]/td[4]''').text\n",
    "    link = driver.find_element(By.XPATH, f'''/html/body/div[2]/div/div/div/div[2]/div/div/div/div/div[1]/div/form/div[1]/div[2]/table/tbody/tr[8]/td[2]/a''').get_attribute('href')\n",
    "    \n",
    "    data = (procuring_entity,tender,ocid,tender_no,financial_year,procurement_method,category,sbmission_method,opening_venue,published_date,closed_date,tender_fee,closing_time,link)\n",
    "\n",
    "    article_list.append(data)\n",
    "    \n",
    "    print(published_date,procuring_entity)\n",
    "    print(tender)\n",
    "    print()"
   ]
  },
  {
   "cell_type": "code",
   "execution_count": 7,
   "id": "f6e6a837",
   "metadata": {
    "ExecuteTime": {
     "end_time": "2022-07-09T11:17:47.255736Z",
     "start_time": "2022-07-09T11:17:47.241775Z"
    },
    "code_folding": [
     0
    ]
   },
   "outputs": [],
   "source": [
    "def get_driver():\n",
    "    while True:\n",
    "        try:\n",
    "            driver.get(SITE_LINK)\n",
    "            time.sleep(3)\n",
    "            break\n",
    "        except:\n",
    "            pass\n",
    "    return driver"
   ]
  },
  {
   "cell_type": "code",
   "execution_count": 26,
   "id": "b5118205",
   "metadata": {
    "ExecuteTime": {
     "end_time": "2022-07-09T11:25:37.179576Z",
     "start_time": "2022-07-09T11:25:37.163285Z"
    },
    "code_folding": [
     0
    ]
   },
   "outputs": [],
   "source": [
    "def goto_last_page(last_page =  1):\n",
    "    print(f\"we are on page number {last_page}\")\n",
    "    while last_page  != \"end_of_pages\":\n",
    "        try:\n",
    "            page_number =  driver.find_element(By.XPATH,f'''/html/body/div[2]/div/div/div/div[2]/div/div/div/div[1]/div/div/div[6]/div[4]/span[1]''').text.split(\" \")\n",
    "\n",
    "            if int(page_number[0]) == last_page:\n",
    "                last_page = int(page_number[0])+1\n",
    "                print(f\"page number changed to {last_page}\")\n",
    "                return last_page \n",
    "                break\n",
    "\n",
    "            if not page_number[0] == page_number[2]:\n",
    "                driver.find_element(By.XPATH,f'''/html/body/div[2]/div/div/div/div[2]/div/div/div/div[1]/div/div/div[6]/div[3]/div[6]''').click()\n",
    "            else:\n",
    "                print(\"Reached to the last page\")\n",
    "                return \"end_of_pages\"\n",
    "        except:\n",
    "            driver = get_driver()"
   ]
  },
  {
   "cell_type": "markdown",
   "id": "a9f5349f",
   "metadata": {},
   "source": [
    "//div[@class=\"classname\"]"
   ]
  },
  {
   "cell_type": "code",
   "execution_count": 27,
   "id": "af260f6b",
   "metadata": {
    "ExecuteTime": {
     "end_time": "2022-07-09T11:35:27.683759Z",
     "start_time": "2022-07-09T11:25:37.947687Z"
    },
    "code_folding": [
     2
    ],
    "scrolled": true
   },
   "outputs": [
    {
     "name": "stdout",
     "output_type": "stream",
     "text": [
      "we are on page number 1\n",
      "page number changed to 2\n"
     ]
    },
    {
     "data": {
      "application/vnd.jupyter.widget-view+json": {
       "model_id": "",
       "version_major": 2,
       "version_minor": 0
      },
      "text/plain": [
       "  0%|          | 0/10 [00:00<?, ?it/s]"
      ]
     },
     "metadata": {},
     "output_type": "display_data"
    },
    {
     "name": "stdout",
     "output_type": "stream",
     "text": [
      "Jul 8, 2022 Kenya School Of Law\n",
      "Provision for Security Guarding Services 2022-2023\n",
      "\n",
      "Jul 8, 2022 Nairobi City Water & Sewerage Company LTD\n",
      "NCWSC/03/2022-SUPPLY AND DELIVERY OF PERSONAL PROTECTIVE EQUIPMENT (PPE) IN LOTS\n",
      "\n",
      "Jul 8, 2022 Nairobi City Water & Sewerage Company LTD\n",
      "NCWSC/02/2022-PROVISION OF AIR-TICKETING SERVICES FOR BOTH LOCAL AND EXTERNAL TRAVEL FOR TWO YEARS (RESERVED FOR WOMEN)\n",
      "\n",
      "Jul 8, 2022 Nairobi City Water & Sewerage Company LTD\n",
      "NCWSC/01/2022 - PROVISION OF FUEL, OILS LUBRICANTS AND OTHER RELATED PRODUCTS USING ELECTRONIC FUEL CARDS FOR A PERIOD OF TWO YEARS THROUGH THE BIDDERS’ RETAIL DISTRIBUTION NETWORK\n",
      "\n",
      "Jul 11, 2022 Egerton University\n",
      "Request for Proposal for the Provision Of Custodial Services For Egerton University Retirement Benefits Scheme.\n",
      "\n",
      "Jul 11, 2022 Egerton University\n",
      "Request for Proposal for the Provision of Fund Management Services for Egerton University Retirement Benefits Scheme.\n",
      "\n",
      "Jul 11, 2022 Egerton University\n",
      "Request for Proposal for the Provision of Fund Management Services for Egerton University Retirement Benefits Scheme.\n",
      "\n",
      "Jul 11, 2022 Egerton University\n",
      "Request for Proposal for the Provision of Fund Management Services for Egerton University Retirement Benefits Scheme.\n",
      "\n",
      "Jul 11, 2022 Egerton University\n",
      "Request for Proposal for the Provision of Fund Management Services for Egerton University Retirement Benefits Scheme.\n",
      "\n",
      "Jul 11, 2022 Egerton University\n",
      "Request for Proposal for the Provision of Fund Management Services for Egerton University Retirement Benefits Scheme.\n",
      "\n",
      "we are on page number 2\n",
      "page number changed to 3\n"
     ]
    },
    {
     "data": {
      "application/vnd.jupyter.widget-view+json": {
       "model_id": "",
       "version_major": 2,
       "version_minor": 0
      },
      "text/plain": [
       "  0%|          | 0/10 [00:00<?, ?it/s]"
      ]
     },
     "metadata": {},
     "output_type": "display_data"
    },
    {
     "name": "stdout",
     "output_type": "stream",
     "text": [
      "Jul 7, 2022 KILIFI SOUTH NG-CDF\n",
      "Proposed Construction of 2no.Single Rooms House at Chonyi Police Station\n",
      "\n",
      "Jul 8, 2022 Nairobi City Water & Sewerage Company LTD\n",
      "NCWSC/03/2022-SUPPLY AND DELIVERY OF PERSONAL PROTECTIVE EQUIPMENT (PPE) IN LOTS\n",
      "\n",
      "Jul 8, 2022 Nairobi City Water & Sewerage Company LTD\n",
      "NCWSC/02/2022-PROVISION OF AIR-TICKETING SERVICES FOR BOTH LOCAL AND EXTERNAL TRAVEL FOR TWO YEARS (RESERVED FOR WOMEN)\n",
      "\n",
      "Jul 8, 2022 Nairobi City Water & Sewerage Company LTD\n",
      "NCWSC/01/2022 - PROVISION OF FUEL, OILS LUBRICANTS AND OTHER RELATED PRODUCTS USING ELECTRONIC FUEL CARDS FOR A PERIOD OF TWO YEARS THROUGH THE BIDDERS’ RETAIL DISTRIBUTION NETWORK\n",
      "\n",
      "Jul 11, 2022 Egerton University\n",
      "Request for Proposal for the Provision Of Custodial Services For Egerton University Retirement Benefits Scheme.\n",
      "\n",
      "Jul 11, 2022 Egerton University\n",
      "Request for Proposal for the Provision of Fund Management Services for Egerton University Retirement Benefits Scheme.\n",
      "\n",
      "Jul 11, 2022 Egerton University\n",
      "Request for Proposal for the Provision of Fund Management Services for Egerton University Retirement Benefits Scheme.\n",
      "\n",
      "Jul 11, 2022 Egerton University\n",
      "Request for Proposal for the Provision of Fund Management Services for Egerton University Retirement Benefits Scheme.\n",
      "\n",
      "Jul 11, 2022 Egerton University\n",
      "Request for Proposal for the Provision of Fund Management Services for Egerton University Retirement Benefits Scheme.\n",
      "\n",
      "Jul 11, 2022 Egerton University\n",
      "Request for Proposal for the Provision of Fund Management Services for Egerton University Retirement Benefits Scheme.\n",
      "\n",
      "we are on page number 3\n",
      "page number changed to 4\n"
     ]
    },
    {
     "data": {
      "application/vnd.jupyter.widget-view+json": {
       "model_id": "",
       "version_major": 2,
       "version_minor": 0
      },
      "text/plain": [
       "  0%|          | 0/10 [00:00<?, ?it/s]"
      ]
     },
     "metadata": {},
     "output_type": "display_data"
    },
    {
     "name": "stdout",
     "output_type": "stream",
     "text": [
      "Jul 6, 2022 COUNTY COMMISSIONER.NAROK COUNTY\n",
      "ANNUAL TENDERS ADVERTISEMENTS FINANCIAL YEAR 2022-2024\n",
      "\n",
      "Jul 8, 2022 Nairobi City Water & Sewerage Company LTD\n",
      "NCWSC/03/2022-SUPPLY AND DELIVERY OF PERSONAL PROTECTIVE EQUIPMENT (PPE) IN LOTS\n",
      "\n",
      "Jul 8, 2022 Nairobi City Water & Sewerage Company LTD\n",
      "NCWSC/02/2022-PROVISION OF AIR-TICKETING SERVICES FOR BOTH LOCAL AND EXTERNAL TRAVEL FOR TWO YEARS (RESERVED FOR WOMEN)\n",
      "\n",
      "Jul 8, 2022 Nairobi City Water & Sewerage Company LTD\n",
      "NCWSC/01/2022 - PROVISION OF FUEL, OILS LUBRICANTS AND OTHER RELATED PRODUCTS USING ELECTRONIC FUEL CARDS FOR A PERIOD OF TWO YEARS THROUGH THE BIDDERS’ RETAIL DISTRIBUTION NETWORK\n",
      "\n",
      "Jul 11, 2022 Egerton University\n",
      "Request for Proposal for the Provision Of Custodial Services For Egerton University Retirement Benefits Scheme.\n",
      "\n",
      "Jul 11, 2022 Egerton University\n",
      "Request for Proposal for the Provision of Fund Management Services for Egerton University Retirement Benefits Scheme.\n",
      "\n",
      "Jul 11, 2022 Egerton University\n",
      "Request for Proposal for the Provision of Fund Management Services for Egerton University Retirement Benefits Scheme.\n",
      "\n",
      "Jul 11, 2022 Egerton University\n",
      "Request for Proposal for the Provision of Fund Management Services for Egerton University Retirement Benefits Scheme.\n",
      "\n",
      "Jul 11, 2022 Egerton University\n",
      "Request for Proposal for the Provision of Fund Management Services for Egerton University Retirement Benefits Scheme.\n",
      "\n",
      "Jul 11, 2022 Egerton University\n",
      "Request for Proposal for the Provision of Fund Management Services for Egerton University Retirement Benefits Scheme.\n",
      "\n",
      "we are on page number 4\n",
      "page number changed to 5\n"
     ]
    },
    {
     "data": {
      "application/vnd.jupyter.widget-view+json": {
       "model_id": "",
       "version_major": 2,
       "version_minor": 0
      },
      "text/plain": [
       "  0%|          | 0/10 [00:00<?, ?it/s]"
      ]
     },
     "metadata": {},
     "output_type": "display_data"
    },
    {
     "name": "stdout",
     "output_type": "stream",
     "text": [
      "Jul 5, 2022 Athi Water Service Board\n",
      "Supply and Delivery of Non-Revenue Water Management Equipment in 3 Lots\n",
      "\n",
      "Jul 8, 2022 Nairobi City Water & Sewerage Company LTD\n",
      "NCWSC/03/2022-SUPPLY AND DELIVERY OF PERSONAL PROTECTIVE EQUIPMENT (PPE) IN LOTS\n",
      "\n",
      "Jul 8, 2022 Nairobi City Water & Sewerage Company LTD\n",
      "NCWSC/02/2022-PROVISION OF AIR-TICKETING SERVICES FOR BOTH LOCAL AND EXTERNAL TRAVEL FOR TWO YEARS (RESERVED FOR WOMEN)\n",
      "\n",
      "Jul 8, 2022 Nairobi City Water & Sewerage Company LTD\n",
      "NCWSC/01/2022 - PROVISION OF FUEL, OILS LUBRICANTS AND OTHER RELATED PRODUCTS USING ELECTRONIC FUEL CARDS FOR A PERIOD OF TWO YEARS THROUGH THE BIDDERS’ RETAIL DISTRIBUTION NETWORK\n",
      "\n",
      "Jul 11, 2022 Egerton University\n",
      "Request for Proposal for the Provision Of Custodial Services For Egerton University Retirement Benefits Scheme.\n",
      "\n",
      "Jul 11, 2022 Egerton University\n",
      "Request for Proposal for the Provision of Fund Management Services for Egerton University Retirement Benefits Scheme.\n",
      "\n",
      "Jul 11, 2022 Egerton University\n",
      "Request for Proposal for the Provision of Fund Management Services for Egerton University Retirement Benefits Scheme.\n",
      "\n",
      "Jul 11, 2022 Egerton University\n",
      "Request for Proposal for the Provision of Fund Management Services for Egerton University Retirement Benefits Scheme.\n",
      "\n",
      "Jul 11, 2022 Egerton University\n",
      "Request for Proposal for the Provision of Fund Management Services for Egerton University Retirement Benefits Scheme.\n",
      "\n",
      "Jul 11, 2022 Egerton University\n",
      "Request for Proposal for the Provision of Fund Management Services for Egerton University Retirement Benefits Scheme.\n",
      "\n",
      "we are on page number 5\n",
      "page number changed to 6\n"
     ]
    },
    {
     "data": {
      "application/vnd.jupyter.widget-view+json": {
       "model_id": "",
       "version_major": 2,
       "version_minor": 0
      },
      "text/plain": [
       "  0%|          | 0/10 [00:00<?, ?it/s]"
      ]
     },
     "metadata": {},
     "output_type": "display_data"
    },
    {
     "name": "stdout",
     "output_type": "stream",
     "text": [
      "Jun 21, 2022 Kenya National Highway Authority\n",
      "PERFORMANCE BASED CONTRACT FOR MAINTENANCE AND SAFETY ENHANCEMENT OF MAMBOLEO – KIBOSWA (A1) ROA\n",
      "\n",
      "Jul 8, 2022 Nairobi City Water & Sewerage Company LTD\n",
      "NCWSC/03/2022-SUPPLY AND DELIVERY OF PERSONAL PROTECTIVE EQUIPMENT (PPE) IN LOTS\n",
      "\n",
      "Jul 8, 2022 Nairobi City Water & Sewerage Company LTD\n",
      "NCWSC/02/2022-PROVISION OF AIR-TICKETING SERVICES FOR BOTH LOCAL AND EXTERNAL TRAVEL FOR TWO YEARS (RESERVED FOR WOMEN)\n",
      "\n",
      "Jul 8, 2022 Nairobi City Water & Sewerage Company LTD\n",
      "NCWSC/01/2022 - PROVISION OF FUEL, OILS LUBRICANTS AND OTHER RELATED PRODUCTS USING ELECTRONIC FUEL CARDS FOR A PERIOD OF TWO YEARS THROUGH THE BIDDERS’ RETAIL DISTRIBUTION NETWORK\n",
      "\n",
      "Jul 11, 2022 Egerton University\n",
      "Request for Proposal for the Provision Of Custodial Services For Egerton University Retirement Benefits Scheme.\n",
      "\n",
      "Jul 11, 2022 Egerton University\n",
      "Request for Proposal for the Provision of Fund Management Services for Egerton University Retirement Benefits Scheme.\n",
      "\n",
      "Jul 11, 2022 Egerton University\n",
      "Request for Proposal for the Provision of Fund Management Services for Egerton University Retirement Benefits Scheme.\n",
      "\n",
      "Jul 11, 2022 Egerton University\n",
      "Request for Proposal for the Provision of Fund Management Services for Egerton University Retirement Benefits Scheme.\n",
      "\n",
      "Jul 11, 2022 Egerton University\n",
      "Request for Proposal for the Provision of Fund Management Services for Egerton University Retirement Benefits Scheme.\n",
      "\n",
      "Jul 11, 2022 Egerton University\n",
      "Request for Proposal for the Provision of Fund Management Services for Egerton University Retirement Benefits Scheme.\n",
      "\n",
      "we are on page number 6\n",
      "page number changed to 7\n"
     ]
    },
    {
     "data": {
      "application/vnd.jupyter.widget-view+json": {
       "model_id": "",
       "version_major": 2,
       "version_minor": 0
      },
      "text/plain": [
       "  0%|          | 0/10 [00:00<?, ?it/s]"
      ]
     },
     "metadata": {},
     "output_type": "display_data"
    },
    {
     "name": "stdout",
     "output_type": "stream",
     "text": [
      "Jul 5, 2022 Multimedia University of Kenya\n",
      "PROVISION OF SANITARY COLLECTION & DISPOSAL SERVICES\n",
      "\n",
      "Jul 8, 2022 Nairobi City Water & Sewerage Company LTD\n",
      "NCWSC/03/2022-SUPPLY AND DELIVERY OF PERSONAL PROTECTIVE EQUIPMENT (PPE) IN LOTS\n",
      "\n",
      "Jul 8, 2022 Nairobi City Water & Sewerage Company LTD\n",
      "NCWSC/02/2022-PROVISION OF AIR-TICKETING SERVICES FOR BOTH LOCAL AND EXTERNAL TRAVEL FOR TWO YEARS (RESERVED FOR WOMEN)\n",
      "\n",
      "Jul 8, 2022 Nairobi City Water & Sewerage Company LTD\n",
      "NCWSC/01/2022 - PROVISION OF FUEL, OILS LUBRICANTS AND OTHER RELATED PRODUCTS USING ELECTRONIC FUEL CARDS FOR A PERIOD OF TWO YEARS THROUGH THE BIDDERS’ RETAIL DISTRIBUTION NETWORK\n",
      "\n",
      "Jul 11, 2022 Egerton University\n",
      "Request for Proposal for the Provision Of Custodial Services For Egerton University Retirement Benefits Scheme.\n",
      "\n",
      "Jul 11, 2022 Egerton University\n",
      "Request for Proposal for the Provision of Fund Management Services for Egerton University Retirement Benefits Scheme.\n",
      "\n",
      "Jul 11, 2022 Egerton University\n",
      "Request for Proposal for the Provision of Fund Management Services for Egerton University Retirement Benefits Scheme.\n",
      "\n",
      "Jul 11, 2022 Egerton University\n",
      "Request for Proposal for the Provision of Fund Management Services for Egerton University Retirement Benefits Scheme.\n",
      "\n",
      "Jul 11, 2022 Egerton University\n",
      "Request for Proposal for the Provision of Fund Management Services for Egerton University Retirement Benefits Scheme.\n",
      "\n",
      "Jul 11, 2022 Egerton University\n",
      "Request for Proposal for the Provision of Fund Management Services for Egerton University Retirement Benefits Scheme.\n",
      "\n",
      "we are on page number 7\n",
      "page number changed to 8\n"
     ]
    },
    {
     "data": {
      "application/vnd.jupyter.widget-view+json": {
       "model_id": "",
       "version_major": 2,
       "version_minor": 0
      },
      "text/plain": [
       "  0%|          | 0/10 [00:00<?, ?it/s]"
      ]
     },
     "metadata": {},
     "output_type": "display_data"
    },
    {
     "name": "stdout",
     "output_type": "stream",
     "text": [
      "Jun 21, 2022 Kenya National Highway Authority\n",
      "ROUTINE MAINTENANCE & SPOT IMPROVEMENT OF MARALAL-NORTH HORRJN BULUK-ILLERET-POLICE BORDER POST (GAS- NORTH HORR) (A4) ROAD\n",
      "\n",
      "Jul 8, 2022 Nairobi City Water & Sewerage Company LTD\n",
      "NCWSC/03/2022-SUPPLY AND DELIVERY OF PERSONAL PROTECTIVE EQUIPMENT (PPE) IN LOTS\n",
      "\n",
      "Jul 8, 2022 Nairobi City Water & Sewerage Company LTD\n",
      "NCWSC/02/2022-PROVISION OF AIR-TICKETING SERVICES FOR BOTH LOCAL AND EXTERNAL TRAVEL FOR TWO YEARS (RESERVED FOR WOMEN)\n",
      "\n",
      "Jul 8, 2022 Nairobi City Water & Sewerage Company LTD\n",
      "NCWSC/01/2022 - PROVISION OF FUEL, OILS LUBRICANTS AND OTHER RELATED PRODUCTS USING ELECTRONIC FUEL CARDS FOR A PERIOD OF TWO YEARS THROUGH THE BIDDERS’ RETAIL DISTRIBUTION NETWORK\n",
      "\n",
      "Jul 11, 2022 Egerton University\n",
      "Request for Proposal for the Provision Of Custodial Services For Egerton University Retirement Benefits Scheme.\n",
      "\n",
      "Jul 11, 2022 Egerton University\n",
      "Request for Proposal for the Provision of Fund Management Services for Egerton University Retirement Benefits Scheme.\n",
      "\n",
      "Jul 11, 2022 Egerton University\n",
      "Request for Proposal for the Provision of Fund Management Services for Egerton University Retirement Benefits Scheme.\n",
      "\n",
      "Jul 11, 2022 Egerton University\n",
      "Request for Proposal for the Provision of Fund Management Services for Egerton University Retirement Benefits Scheme.\n",
      "\n",
      "Jul 11, 2022 Egerton University\n",
      "Request for Proposal for the Provision of Fund Management Services for Egerton University Retirement Benefits Scheme.\n",
      "\n",
      "Jul 11, 2022 Egerton University\n",
      "Request for Proposal for the Provision of Fund Management Services for Egerton University Retirement Benefits Scheme.\n",
      "\n",
      "we are on page number 8\n",
      "page number changed to 9\n"
     ]
    },
    {
     "data": {
      "application/vnd.jupyter.widget-view+json": {
       "model_id": "",
       "version_major": 2,
       "version_minor": 0
      },
      "text/plain": [
       "  0%|          | 0/10 [00:00<?, ?it/s]"
      ]
     },
     "metadata": {},
     "output_type": "display_data"
    },
    {
     "name": "stdout",
     "output_type": "stream",
     "text": [
      "Jun 21, 2022 Kenya National Highway Authority\n",
      "ROUTINE MAINTENANCE & SPOT IMPROVEMENT OF KM 80 – DARATHE AP CAMP – JN A4/B76 BULUK (A4) ROAD\n",
      "\n",
      "Jul 8, 2022 Nairobi City Water & Sewerage Company LTD\n",
      "NCWSC/03/2022-SUPPLY AND DELIVERY OF PERSONAL PROTECTIVE EQUIPMENT (PPE) IN LOTS\n",
      "\n",
      "Jul 8, 2022 Nairobi City Water & Sewerage Company LTD\n",
      "NCWSC/02/2022-PROVISION OF AIR-TICKETING SERVICES FOR BOTH LOCAL AND EXTERNAL TRAVEL FOR TWO YEARS (RESERVED FOR WOMEN)\n",
      "\n",
      "Jul 8, 2022 Nairobi City Water & Sewerage Company LTD\n",
      "NCWSC/01/2022 - PROVISION OF FUEL, OILS LUBRICANTS AND OTHER RELATED PRODUCTS USING ELECTRONIC FUEL CARDS FOR A PERIOD OF TWO YEARS THROUGH THE BIDDERS’ RETAIL DISTRIBUTION NETWORK\n",
      "\n",
      "Jul 11, 2022 Egerton University\n",
      "Request for Proposal for the Provision Of Custodial Services For Egerton University Retirement Benefits Scheme.\n",
      "\n",
      "Jul 11, 2022 Egerton University\n",
      "Request for Proposal for the Provision of Fund Management Services for Egerton University Retirement Benefits Scheme.\n",
      "\n",
      "Jul 11, 2022 Egerton University\n",
      "Request for Proposal for the Provision of Fund Management Services for Egerton University Retirement Benefits Scheme.\n",
      "\n",
      "Jul 11, 2022 Egerton University\n",
      "Request for Proposal for the Provision of Fund Management Services for Egerton University Retirement Benefits Scheme.\n",
      "\n",
      "Jul 11, 2022 Egerton University\n",
      "Request for Proposal for the Provision of Fund Management Services for Egerton University Retirement Benefits Scheme.\n",
      "\n",
      "Jul 11, 2022 Egerton University\n",
      "Request for Proposal for the Provision of Fund Management Services for Egerton University Retirement Benefits Scheme.\n",
      "\n",
      "we are on page number 9\n",
      "page number changed to 10\n"
     ]
    }
   ],
   "source": [
    "article_list = []\n",
    "last_page = 1\n",
    "while True:\n",
    "    last_page = goto_last_page(last_page)\n",
    "    if last_page == \"end_of_pages\":\n",
    "        break\n",
    "        \n",
    "    driver.find_element_by_tag_name('body').send_keys(Keys.CONTROL + Keys.HOME)\n",
    "    \n",
    "    time.sleep(1)\n",
    "\n",
    "    container = driver.find_element(By.XPATH,f'''/html/body/div[2]/div/div/div/div[2]/div/div/div/div[1]/div/div/div[4]/div/table/tbody''')\n",
    "    elements = container.find_elements(By.XPATH,f'''/html/body/div[2]/div/div/div/div[2]/div/div/div/div[1]/div/div/div[4]/div/table/tbody/tr''')\n",
    "\n",
    "    for e in tqdm(range(1,len(elements[:])+1),leave = False):\n",
    "        #enter the tender \n",
    "        driver.find_element(By.XPATH,f'''/html/body/div[2]/div/div/div/div[2]/div/div/div/div[1]/div/div/div[4]/div/table/tbody/tr[{e}]/td[9]/div''').click()\n",
    "\n",
    "        get_text()\n",
    "        \n",
    "        driver.execute_script(\"window.scrollTo(0,document.body.scrollHeight)\")\n",
    "        time.sleep(1)\n",
    "        #close the tender window\n",
    "        driver.find_element(By.XPATH,f'''//*[@id=\"nav-home\"]/div/form/div/div[3]/div/button''').click()\n",
    "        \n",
    "    #my condition to break\n",
    "    if last_page == 10:\n",
    "        break"
   ]
  },
  {
   "cell_type": "code",
   "execution_count": 28,
   "id": "53a40f24",
   "metadata": {
    "ExecuteTime": {
     "end_time": "2022-07-09T11:36:26.372732Z",
     "start_time": "2022-07-09T11:36:26.355750Z"
    }
   },
   "outputs": [],
   "source": [
    "columns_list = ['procuring_entity','tender','ocid','tender_no','financial_year','procurement_method','category','sbmission_method','opening_venue','published_date','closed_date','tender_fee','closing_time','link']"
   ]
  },
  {
   "cell_type": "code",
   "execution_count": 29,
   "id": "1bd9501f",
   "metadata": {
    "ExecuteTime": {
     "end_time": "2022-07-09T11:36:27.300408Z",
     "start_time": "2022-07-09T11:36:27.284469Z"
    }
   },
   "outputs": [
    {
     "data": {
      "text/html": [
       "<div>\n",
       "<style scoped>\n",
       "    .dataframe tbody tr th:only-of-type {\n",
       "        vertical-align: middle;\n",
       "    }\n",
       "\n",
       "    .dataframe tbody tr th {\n",
       "        vertical-align: top;\n",
       "    }\n",
       "\n",
       "    .dataframe thead th {\n",
       "        text-align: right;\n",
       "    }\n",
       "</style>\n",
       "<table border=\"1\" class=\"dataframe\">\n",
       "  <thead>\n",
       "    <tr style=\"text-align: right;\">\n",
       "      <th></th>\n",
       "      <th>procuring_entity</th>\n",
       "      <th>tender</th>\n",
       "      <th>ocid</th>\n",
       "      <th>tender_no</th>\n",
       "      <th>financial_year</th>\n",
       "      <th>procurement_method</th>\n",
       "      <th>category</th>\n",
       "      <th>sbmission_method</th>\n",
       "      <th>opening_venue</th>\n",
       "      <th>published_date</th>\n",
       "      <th>closed_date</th>\n",
       "      <th>tender_fee</th>\n",
       "      <th>closing_time</th>\n",
       "      <th>link</th>\n",
       "    </tr>\n",
       "  </thead>\n",
       "  <tbody>\n",
       "    <tr>\n",
       "      <th>0</th>\n",
       "      <td>Kenya School Of Law</td>\n",
       "      <td>Provision for Security Guarding Services 2022-...</td>\n",
       "      <td>ocds-5whusi-KSL/OT/2022-2023</td>\n",
       "      <td>KSL/OT/2022-2023</td>\n",
       "      <td>2022-2023</td>\n",
       "      <td>Open Tender</td>\n",
       "      <td>Non Consultancy Services</td>\n",
       "      <td>Written (Physical/Hard Copy)</td>\n",
       "      <td>KSL,Boardroom</td>\n",
       "      <td>Jul 8, 2022</td>\n",
       "      <td>Jul 22, 2022</td>\n",
       "      <td>1000</td>\n",
       "      <td>12:00</td>\n",
       "      <td>https://tenders.go.ke/OneTender/86276</td>\n",
       "    </tr>\n",
       "    <tr>\n",
       "      <th>1</th>\n",
       "      <td>Nairobi City Water &amp; Sewerage Company LTD</td>\n",
       "      <td>NCWSC/03/2022-SUPPLY AND DELIVERY OF PERSONAL ...</td>\n",
       "      <td>ocds-5whusi-NCWSC/03/2022</td>\n",
       "      <td>NCWSC/03/2022</td>\n",
       "      <td>2022-2023</td>\n",
       "      <td>Open Tender</td>\n",
       "      <td>Goods</td>\n",
       "      <td>Written (Physical/Hard Copy)</td>\n",
       "      <td>HQ-KAMPALA RD</td>\n",
       "      <td>Jul 8, 2022</td>\n",
       "      <td>Jul 22, 2022</td>\n",
       "      <td>0</td>\n",
       "      <td>12:00</td>\n",
       "      <td>https://tenders.go.ke/OneTender/86268</td>\n",
       "    </tr>\n",
       "    <tr>\n",
       "      <th>2</th>\n",
       "      <td>Nairobi City Water &amp; Sewerage Company LTD</td>\n",
       "      <td>NCWSC/02/2022-PROVISION OF AIR-TICKETING SERVI...</td>\n",
       "      <td>ocds-5whusi-NCWSC/02/2022</td>\n",
       "      <td>NCWSC/02/2022</td>\n",
       "      <td>2022-2023</td>\n",
       "      <td>Open Tender</td>\n",
       "      <td>Works</td>\n",
       "      <td>Written (Physical/Hard Copy)</td>\n",
       "      <td>HQ-KAMPALA ROAD</td>\n",
       "      <td>Jul 8, 2022</td>\n",
       "      <td>Jul 22, 2022</td>\n",
       "      <td>0</td>\n",
       "      <td>12:00</td>\n",
       "      <td>https://tenders.go.ke/OneTender/86266</td>\n",
       "    </tr>\n",
       "    <tr>\n",
       "      <th>3</th>\n",
       "      <td>Nairobi City Water &amp; Sewerage Company LTD</td>\n",
       "      <td>NCWSC/01/2022 - PROVISION OF FUEL, OILS LUBRIC...</td>\n",
       "      <td>ocds-5whusi-NCWSC/01/2022</td>\n",
       "      <td>NCWSC/01/2022</td>\n",
       "      <td>2022-2023</td>\n",
       "      <td>Open Tender</td>\n",
       "      <td>Works</td>\n",
       "      <td>Written (Physical/Hard Copy)</td>\n",
       "      <td>HQ KAMPALA RD</td>\n",
       "      <td>Jul 8, 2022</td>\n",
       "      <td>Jul 22, 2022</td>\n",
       "      <td>0</td>\n",
       "      <td>12:00</td>\n",
       "      <td>https://tenders.go.ke/OneTender/86264</td>\n",
       "    </tr>\n",
       "    <tr>\n",
       "      <th>4</th>\n",
       "      <td>Egerton University</td>\n",
       "      <td>Request for Proposal for the Provision Of Cust...</td>\n",
       "      <td>ocds-5whusi-EURBS-04/2022/23</td>\n",
       "      <td>EURBS-04/2022/23</td>\n",
       "      <td>2022-2023</td>\n",
       "      <td>Restricted Tendering</td>\n",
       "      <td>Consultancy Services</td>\n",
       "      <td>Written (Physical/Hard Copy)</td>\n",
       "      <td>Pension office, located at Egerton University,...</td>\n",
       "      <td>Jul 11, 2022</td>\n",
       "      <td>Jul 19, 2022</td>\n",
       "      <td>0</td>\n",
       "      <td>12:00</td>\n",
       "      <td>https://tenders.go.ke/OneTender/86254</td>\n",
       "    </tr>\n",
       "  </tbody>\n",
       "</table>\n",
       "</div>"
      ],
      "text/plain": [
       "                            procuring_entity  \\\n",
       "0                        Kenya School Of Law   \n",
       "1  Nairobi City Water & Sewerage Company LTD   \n",
       "2  Nairobi City Water & Sewerage Company LTD   \n",
       "3  Nairobi City Water & Sewerage Company LTD   \n",
       "4                         Egerton University   \n",
       "\n",
       "                                              tender  \\\n",
       "0  Provision for Security Guarding Services 2022-...   \n",
       "1  NCWSC/03/2022-SUPPLY AND DELIVERY OF PERSONAL ...   \n",
       "2  NCWSC/02/2022-PROVISION OF AIR-TICKETING SERVI...   \n",
       "3  NCWSC/01/2022 - PROVISION OF FUEL, OILS LUBRIC...   \n",
       "4  Request for Proposal for the Provision Of Cust...   \n",
       "\n",
       "                           ocid         tender_no financial_year  \\\n",
       "0  ocds-5whusi-KSL/OT/2022-2023  KSL/OT/2022-2023      2022-2023   \n",
       "1     ocds-5whusi-NCWSC/03/2022     NCWSC/03/2022      2022-2023   \n",
       "2     ocds-5whusi-NCWSC/02/2022     NCWSC/02/2022      2022-2023   \n",
       "3     ocds-5whusi-NCWSC/01/2022     NCWSC/01/2022      2022-2023   \n",
       "4  ocds-5whusi-EURBS-04/2022/23  EURBS-04/2022/23      2022-2023   \n",
       "\n",
       "     procurement_method                  category  \\\n",
       "0           Open Tender  Non Consultancy Services   \n",
       "1           Open Tender                     Goods   \n",
       "2           Open Tender                     Works   \n",
       "3           Open Tender                     Works   \n",
       "4  Restricted Tendering      Consultancy Services   \n",
       "\n",
       "               sbmission_method  \\\n",
       "0  Written (Physical/Hard Copy)   \n",
       "1  Written (Physical/Hard Copy)   \n",
       "2  Written (Physical/Hard Copy)   \n",
       "3  Written (Physical/Hard Copy)   \n",
       "4  Written (Physical/Hard Copy)   \n",
       "\n",
       "                                       opening_venue published_date  \\\n",
       "0                                      KSL,Boardroom    Jul 8, 2022   \n",
       "1                                      HQ-KAMPALA RD    Jul 8, 2022   \n",
       "2                                    HQ-KAMPALA ROAD    Jul 8, 2022   \n",
       "3                                      HQ KAMPALA RD    Jul 8, 2022   \n",
       "4  Pension office, located at Egerton University,...   Jul 11, 2022   \n",
       "\n",
       "    closed_date tender_fee closing_time                                   link  \n",
       "0  Jul 22, 2022       1000        12:00  https://tenders.go.ke/OneTender/86276  \n",
       "1  Jul 22, 2022          0        12:00  https://tenders.go.ke/OneTender/86268  \n",
       "2  Jul 22, 2022          0        12:00  https://tenders.go.ke/OneTender/86266  \n",
       "3  Jul 22, 2022          0        12:00  https://tenders.go.ke/OneTender/86264  \n",
       "4  Jul 19, 2022          0        12:00  https://tenders.go.ke/OneTender/86254  "
      ]
     },
     "execution_count": 29,
     "metadata": {},
     "output_type": "execute_result"
    }
   ],
   "source": [
    "#temp df\n",
    "temp_df = pd.DataFrame(article_list,columns= columns_list)\n",
    "temp_df.head()"
   ]
  },
  {
   "cell_type": "code",
   "execution_count": 30,
   "id": "7d8dbc58",
   "metadata": {
    "ExecuteTime": {
     "end_time": "2022-07-09T11:36:30.028351Z",
     "start_time": "2022-07-09T11:36:30.019374Z"
    }
   },
   "outputs": [],
   "source": [
    "temp_df[\"published_date\"] = pd.to_datetime(temp_df[\"published_date\"])"
   ]
  },
  {
   "cell_type": "code",
   "execution_count": 31,
   "id": "cc541d0f",
   "metadata": {
    "ExecuteTime": {
     "end_time": "2022-07-09T11:36:31.348576Z",
     "start_time": "2022-07-09T11:36:31.331612Z"
    },
    "scrolled": false
   },
   "outputs": [
    {
     "data": {
      "text/html": [
       "<div>\n",
       "<style scoped>\n",
       "    .dataframe tbody tr th:only-of-type {\n",
       "        vertical-align: middle;\n",
       "    }\n",
       "\n",
       "    .dataframe tbody tr th {\n",
       "        vertical-align: top;\n",
       "    }\n",
       "\n",
       "    .dataframe thead th {\n",
       "        text-align: right;\n",
       "    }\n",
       "</style>\n",
       "<table border=\"1\" class=\"dataframe\">\n",
       "  <thead>\n",
       "    <tr style=\"text-align: right;\">\n",
       "      <th></th>\n",
       "      <th>procuring_entity</th>\n",
       "      <th>tender</th>\n",
       "      <th>ocid</th>\n",
       "      <th>tender_no</th>\n",
       "      <th>financial_year</th>\n",
       "      <th>procurement_method</th>\n",
       "      <th>category</th>\n",
       "      <th>sbmission_method</th>\n",
       "      <th>opening_venue</th>\n",
       "      <th>published_date</th>\n",
       "      <th>closed_date</th>\n",
       "      <th>tender_fee</th>\n",
       "      <th>closing_time</th>\n",
       "      <th>link</th>\n",
       "    </tr>\n",
       "  </thead>\n",
       "  <tbody>\n",
       "    <tr>\n",
       "      <th>0</th>\n",
       "      <td>Kenya School Of Law</td>\n",
       "      <td>Provision for Security Guarding Services 2022-...</td>\n",
       "      <td>ocds-5whusi-KSL/OT/2022-2023</td>\n",
       "      <td>KSL/OT/2022-2023</td>\n",
       "      <td>2022-2023</td>\n",
       "      <td>Open Tender</td>\n",
       "      <td>Non Consultancy Services</td>\n",
       "      <td>Written (Physical/Hard Copy)</td>\n",
       "      <td>KSL,Boardroom</td>\n",
       "      <td>2022-07-08</td>\n",
       "      <td>Jul 22, 2022</td>\n",
       "      <td>1000</td>\n",
       "      <td>12:00</td>\n",
       "      <td>https://tenders.go.ke/OneTender/86276</td>\n",
       "    </tr>\n",
       "    <tr>\n",
       "      <th>1</th>\n",
       "      <td>Nairobi City Water &amp; Sewerage Company LTD</td>\n",
       "      <td>NCWSC/03/2022-SUPPLY AND DELIVERY OF PERSONAL ...</td>\n",
       "      <td>ocds-5whusi-NCWSC/03/2022</td>\n",
       "      <td>NCWSC/03/2022</td>\n",
       "      <td>2022-2023</td>\n",
       "      <td>Open Tender</td>\n",
       "      <td>Goods</td>\n",
       "      <td>Written (Physical/Hard Copy)</td>\n",
       "      <td>HQ-KAMPALA RD</td>\n",
       "      <td>2022-07-08</td>\n",
       "      <td>Jul 22, 2022</td>\n",
       "      <td>0</td>\n",
       "      <td>12:00</td>\n",
       "      <td>https://tenders.go.ke/OneTender/86268</td>\n",
       "    </tr>\n",
       "    <tr>\n",
       "      <th>2</th>\n",
       "      <td>Nairobi City Water &amp; Sewerage Company LTD</td>\n",
       "      <td>NCWSC/02/2022-PROVISION OF AIR-TICKETING SERVI...</td>\n",
       "      <td>ocds-5whusi-NCWSC/02/2022</td>\n",
       "      <td>NCWSC/02/2022</td>\n",
       "      <td>2022-2023</td>\n",
       "      <td>Open Tender</td>\n",
       "      <td>Works</td>\n",
       "      <td>Written (Physical/Hard Copy)</td>\n",
       "      <td>HQ-KAMPALA ROAD</td>\n",
       "      <td>2022-07-08</td>\n",
       "      <td>Jul 22, 2022</td>\n",
       "      <td>0</td>\n",
       "      <td>12:00</td>\n",
       "      <td>https://tenders.go.ke/OneTender/86266</td>\n",
       "    </tr>\n",
       "    <tr>\n",
       "      <th>3</th>\n",
       "      <td>Nairobi City Water &amp; Sewerage Company LTD</td>\n",
       "      <td>NCWSC/01/2022 - PROVISION OF FUEL, OILS LUBRIC...</td>\n",
       "      <td>ocds-5whusi-NCWSC/01/2022</td>\n",
       "      <td>NCWSC/01/2022</td>\n",
       "      <td>2022-2023</td>\n",
       "      <td>Open Tender</td>\n",
       "      <td>Works</td>\n",
       "      <td>Written (Physical/Hard Copy)</td>\n",
       "      <td>HQ KAMPALA RD</td>\n",
       "      <td>2022-07-08</td>\n",
       "      <td>Jul 22, 2022</td>\n",
       "      <td>0</td>\n",
       "      <td>12:00</td>\n",
       "      <td>https://tenders.go.ke/OneTender/86264</td>\n",
       "    </tr>\n",
       "    <tr>\n",
       "      <th>4</th>\n",
       "      <td>Egerton University</td>\n",
       "      <td>Request for Proposal for the Provision Of Cust...</td>\n",
       "      <td>ocds-5whusi-EURBS-04/2022/23</td>\n",
       "      <td>EURBS-04/2022/23</td>\n",
       "      <td>2022-2023</td>\n",
       "      <td>Restricted Tendering</td>\n",
       "      <td>Consultancy Services</td>\n",
       "      <td>Written (Physical/Hard Copy)</td>\n",
       "      <td>Pension office, located at Egerton University,...</td>\n",
       "      <td>2022-07-11</td>\n",
       "      <td>Jul 19, 2022</td>\n",
       "      <td>0</td>\n",
       "      <td>12:00</td>\n",
       "      <td>https://tenders.go.ke/OneTender/86254</td>\n",
       "    </tr>\n",
       "  </tbody>\n",
       "</table>\n",
       "</div>"
      ],
      "text/plain": [
       "                            procuring_entity  \\\n",
       "0                        Kenya School Of Law   \n",
       "1  Nairobi City Water & Sewerage Company LTD   \n",
       "2  Nairobi City Water & Sewerage Company LTD   \n",
       "3  Nairobi City Water & Sewerage Company LTD   \n",
       "4                         Egerton University   \n",
       "\n",
       "                                              tender  \\\n",
       "0  Provision for Security Guarding Services 2022-...   \n",
       "1  NCWSC/03/2022-SUPPLY AND DELIVERY OF PERSONAL ...   \n",
       "2  NCWSC/02/2022-PROVISION OF AIR-TICKETING SERVI...   \n",
       "3  NCWSC/01/2022 - PROVISION OF FUEL, OILS LUBRIC...   \n",
       "4  Request for Proposal for the Provision Of Cust...   \n",
       "\n",
       "                           ocid         tender_no financial_year  \\\n",
       "0  ocds-5whusi-KSL/OT/2022-2023  KSL/OT/2022-2023      2022-2023   \n",
       "1     ocds-5whusi-NCWSC/03/2022     NCWSC/03/2022      2022-2023   \n",
       "2     ocds-5whusi-NCWSC/02/2022     NCWSC/02/2022      2022-2023   \n",
       "3     ocds-5whusi-NCWSC/01/2022     NCWSC/01/2022      2022-2023   \n",
       "4  ocds-5whusi-EURBS-04/2022/23  EURBS-04/2022/23      2022-2023   \n",
       "\n",
       "     procurement_method                  category  \\\n",
       "0           Open Tender  Non Consultancy Services   \n",
       "1           Open Tender                     Goods   \n",
       "2           Open Tender                     Works   \n",
       "3           Open Tender                     Works   \n",
       "4  Restricted Tendering      Consultancy Services   \n",
       "\n",
       "               sbmission_method  \\\n",
       "0  Written (Physical/Hard Copy)   \n",
       "1  Written (Physical/Hard Copy)   \n",
       "2  Written (Physical/Hard Copy)   \n",
       "3  Written (Physical/Hard Copy)   \n",
       "4  Written (Physical/Hard Copy)   \n",
       "\n",
       "                                       opening_venue published_date  \\\n",
       "0                                      KSL,Boardroom     2022-07-08   \n",
       "1                                      HQ-KAMPALA RD     2022-07-08   \n",
       "2                                    HQ-KAMPALA ROAD     2022-07-08   \n",
       "3                                      HQ KAMPALA RD     2022-07-08   \n",
       "4  Pension office, located at Egerton University,...     2022-07-11   \n",
       "\n",
       "    closed_date tender_fee closing_time                                   link  \n",
       "0  Jul 22, 2022       1000        12:00  https://tenders.go.ke/OneTender/86276  \n",
       "1  Jul 22, 2022          0        12:00  https://tenders.go.ke/OneTender/86268  \n",
       "2  Jul 22, 2022          0        12:00  https://tenders.go.ke/OneTender/86266  \n",
       "3  Jul 22, 2022          0        12:00  https://tenders.go.ke/OneTender/86264  \n",
       "4  Jul 19, 2022          0        12:00  https://tenders.go.ke/OneTender/86254  "
      ]
     },
     "execution_count": 31,
     "metadata": {},
     "output_type": "execute_result"
    }
   ],
   "source": [
    "split_date = pd.datetime(since_date.year,since_date.month,since_date.day)\n",
    "\n",
    "df = temp_df.loc[temp_df['published_date'] >= split_date]\n",
    "df.head()"
   ]
  },
  {
   "cell_type": "code",
   "execution_count": 32,
   "id": "969bef4f",
   "metadata": {
    "ExecuteTime": {
     "end_time": "2022-07-09T11:36:34.083191Z",
     "start_time": "2022-07-09T11:36:34.067269Z"
    }
   },
   "outputs": [
    {
     "data": {
      "text/plain": [
       "((80, 14), '= >', (77, 14))"
      ]
     },
     "execution_count": 32,
     "metadata": {},
     "output_type": "execute_result"
    }
   ],
   "source": [
    "temp_df.shape,\"= >\",df.shape"
   ]
  },
  {
   "cell_type": "code",
   "execution_count": 33,
   "id": "1e8b3807",
   "metadata": {
    "ExecuteTime": {
     "end_time": "2022-07-09T11:36:38.294706Z",
     "start_time": "2022-07-09T11:36:38.266779Z"
    },
    "code_folding": []
   },
   "outputs": [],
   "source": [
    "#to csv\n",
    "df.to_csv(f'{SITE_NAME} news.csv',index = False)\n",
    "\n",
    "#to json\n",
    "df.to_json(f'{SITE_NAME} news.json')"
   ]
  }
 ],
 "metadata": {
  "kernelspec": {
   "display_name": "Python 3 (ipykernel)",
   "language": "python",
   "name": "python3"
  },
  "language_info": {
   "codemirror_mode": {
    "name": "ipython",
    "version": 3
   },
   "file_extension": ".py",
   "mimetype": "text/x-python",
   "name": "python",
   "nbconvert_exporter": "python",
   "pygments_lexer": "ipython3",
   "version": "3.9.7"
  },
  "toc": {
   "base_numbering": 1,
   "nav_menu": {},
   "number_sections": true,
   "sideBar": true,
   "skip_h1_title": false,
   "title_cell": "Table of Contents",
   "title_sidebar": "Contents",
   "toc_cell": false,
   "toc_position": {},
   "toc_section_display": true,
   "toc_window_display": false
  }
 },
 "nbformat": 4,
 "nbformat_minor": 5
}
