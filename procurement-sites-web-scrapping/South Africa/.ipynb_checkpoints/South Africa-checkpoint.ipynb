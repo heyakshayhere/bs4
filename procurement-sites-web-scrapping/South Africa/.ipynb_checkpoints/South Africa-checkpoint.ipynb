{
 "cells": [
  {
   "cell_type": "markdown",
   "id": "0b810d50",
   "metadata": {},
   "source": [
    "**URL:**\n",
    "https://www.etenders.gov.za/Home/opportunities?id=1"
   ]
  },
  {
   "cell_type": "code",
   "execution_count": 1,
   "id": "89519240",
   "metadata": {
    "ExecuteTime": {
     "end_time": "2022-07-15T14:28:22.252413Z",
     "start_time": "2022-07-15T14:28:21.528149Z"
    },
    "code_folding": [
     0
    ]
   },
   "outputs": [
    {
     "data": {
      "application/javascript": [
       "IPython.notebook.set_autosave_interval(1000)"
      ]
     },
     "metadata": {},
     "output_type": "display_data"
    },
    {
     "name": "stdout",
     "output_type": "stream",
     "text": [
      "Autosaving every 1 seconds\n"
     ]
    }
   ],
   "source": [
    "#libraries\n",
    "\n",
    "import pandas as pd,requests,re,time,random\n",
    "from dateutil import parser\n",
    "from selenium.webdriver.common.by import By\n",
    "from selenium.webdriver.common.keys import Keys\n",
    "from datetime import datetime\n",
    "from selenium import webdriver\n",
    "from tqdm.auto import tqdm\n",
    "\n",
    "import warnings\n",
    "warnings.filterwarnings(\"ignore\")\n",
    "\n",
    "%autosave 1"
   ]
  },
  {
   "cell_type": "code",
   "execution_count": 2,
   "id": "4ff7fb41",
   "metadata": {
    "ExecuteTime": {
     "end_time": "2022-07-15T14:28:25.430760Z",
     "start_time": "2022-07-15T14:28:22.254408Z"
    },
    "code_folding": [
     0
    ]
   },
   "outputs": [
    {
     "name": "stderr",
     "output_type": "stream",
     "text": [
      "\n",
      "\n",
      "====== WebDriver manager ======\n",
      "Current google-chrome version is 103.0.5060\n",
      "Get LATEST chromedriver version for 103.0.5060 google-chrome\n",
      "Driver [C:\\Users\\AKSHAY SATPUTE\\.wdm\\drivers\\chromedriver\\win32\\103.0.5060.53\\chromedriver.exe] found in cache\n"
     ]
    }
   ],
   "source": [
    "#driver for operation\n",
    "from webdriver_manager.chrome import ChromeDriverManager\n",
    "option = webdriver.ChromeOptions()\n",
    "# option.add_argument('headless')\n",
    "driver = webdriver.Chrome(ChromeDriverManager().install(),options=option)\n",
    "driver.maximize_window()"
   ]
  },
  {
   "cell_type": "code",
   "execution_count": 3,
   "id": "b23a06ef",
   "metadata": {
    "ExecuteTime": {
     "end_time": "2022-07-15T14:28:25.446693Z",
     "start_time": "2022-07-15T14:28:25.430760Z"
    },
    "code_folding": []
   },
   "outputs": [],
   "source": [
    "#site name ,link and domain\n",
    "SITE_NAME='ZAF_MOD'\n",
    "\n",
    "DOMAIN = \"https://www.etenders.gov.za\"\n",
    "\n",
    "SITE_LINK = \"https://www.etenders.gov.za/Home/opportunities?id=1\""
   ]
  },
  {
   "cell_type": "code",
   "execution_count": 4,
   "id": "13003408",
   "metadata": {
    "ExecuteTime": {
     "end_time": "2022-07-15T14:28:25.927249Z",
     "start_time": "2022-07-15T14:28:25.911253Z"
    }
   },
   "outputs": [],
   "source": [
    "since_date = parser.parse(\"15-7-2022\")"
   ]
  },
  {
   "cell_type": "code",
   "execution_count": 5,
   "id": "a3944866",
   "metadata": {
    "ExecuteTime": {
     "end_time": "2022-07-15T14:28:46.453504Z",
     "start_time": "2022-07-15T14:28:26.632295Z"
    }
   },
   "outputs": [],
   "source": [
    "driver.get(SITE_LINK)\n",
    "time.sleep(15)"
   ]
  },
  {
   "cell_type": "code",
   "execution_count": 6,
   "id": "c2a32dd0",
   "metadata": {
    "ExecuteTime": {
     "end_time": "2022-07-15T14:28:46.483942Z",
     "start_time": "2022-07-15T14:28:46.454601Z"
    }
   },
   "outputs": [
    {
     "data": {
      "text/plain": [
       "10"
      ]
     },
     "execution_count": 6,
     "metadata": {},
     "output_type": "execute_result"
    }
   ],
   "source": [
    "elements = driver.find_elements(By.XPATH,'''//*[@id=\"tendeList\"]/tbody/tr''')\n",
    "len(elements)"
   ]
  },
  {
   "cell_type": "code",
   "execution_count": 7,
   "id": "67def7f3",
   "metadata": {
    "ExecuteTime": {
     "end_time": "2022-07-15T14:28:46.498899Z",
     "start_time": "2022-07-15T14:28:46.487960Z"
    },
    "code_folding": []
   },
   "outputs": [],
   "source": [
    "def get_text():\n",
    "    time.sleep(1)\n",
    "    \n",
    "    #basic details\n",
    "    Tender_Number = driver.find_element(By.XPATH,f'''//*[@id=\"tendeList\"]/tbody/tr[{e+1}]/td/table/tbody/tr[1]/td[2]''').text\n",
    "    Department = driver.find_element(By.XPATH,f'''//*[@id=\"tendeList\"]/tbody/tr[{e+1}]/td/table/tbody/tr[2]/td[2]''').text\n",
    "    Tender_Type =driver.find_element(By.XPATH,f'''//*[@id=\"tendeList\"]/tbody/tr[{e+1}]/td/table/tbody/tr[3]/td[2]''').text\n",
    "    Province = driver.find_element(By.XPATH,f'''//*[@id=\"tendeList\"]/tbody/tr[{e+1}]/td/table/tbody/tr[4]/td[2]''').text\n",
    "    Date_Published = driver.find_element(By.XPATH,f'''//*[@id=\"tendeList\"]/tbody/tr[{e+1}]/td/table/tbody/tr[6]/td[2]''').text\n",
    "    Closing_Date = driver.find_element(By.XPATH,f'''//*[@id=\"tendeList\"]/tbody/tr[{e+1}]/td/table/tbody/tr[7]/td[2]''').text\n",
    "    Place_where_goods_works_or_services_are_required = driver.find_element(By.XPATH,f'''//*[@id=\"tendeList\"]/tbody/tr[{e+1}]/td/table/tbody/tr[8]/td[2]''').text\n",
    "    Special_Conditions = driver.find_element(By.XPATH,f'''//*[@id=\"tendeList\"]/tbody/tr[{e+1}]/td/table/tbody/tr[9]/td[2]''').text\n",
    "    \n",
    "    #ENQUIRIES\n",
    "    Contact_Person = driver.find_element(By.XPATH,f'''//*[@id=\"tendeList\"]/tbody/tr[{e+1}]/td/table/tbody/tr[11]/td[2]''').text\n",
    "    Email = driver.find_element(By.XPATH,f'''//*[@id=\"tendeList\"]/tbody/tr[{e+1}]/td/table/tbody/tr[12]/td[2]''').text\n",
    "    Telephone_number = driver.find_element(By.XPATH,f'''//*[@id=\"tendeList\"]/tbody/tr[{e+1}]/td/table/tbody/tr[13]/td[2]''').text\n",
    "    FAX_Number = driver.find_element(By.XPATH,f'''//*[@id=\"tendeList\"]/tbody/tr[{e+1}]/td/table/tbody/tr[14]/td[2]''').text\n",
    "    \n",
    "    #BRIEFING SESSION:\n",
    "    Is_there_a_briefing_session = driver.find_element(By.XPATH,f'''//*[@id=\"tendeList\"]/tbody/tr[{e+1}]/td/table/tbody/tr[16]/td[1]''').text.split(\"?\")[1].replace(\":\",\"\")\n",
    "    Is_it_compulsory = driver.find_element(By.XPATH,f'''//*[@id=\"tendeList\"]/tbody/tr[{e+1}]/td/table/tbody/tr[16]/td[2]''').text.split(\"?\")[1].replace(\":\",\"\")\n",
    "    Briefing_Date_and_Time = driver.find_element(By.XPATH,f'''//*[@id=\"tendeList\"]/tbody/tr[{e+1}]/td/table/tbody/tr[17]/td[2]''').text\n",
    "    Briefing_Venue = driver.find_element(By.XPATH,f'''//*[@id=\"tendeList\"]/tbody/tr[{e+1}]/td/table/tbody/tr[18]/td[2]''').text\n",
    "    \n",
    "    current_date = parser.parse(Date_Published)\n",
    "    if since_date > current_date:\n",
    "        raise Exception\n",
    "    \n",
    "    data = (Tender_Number,Department,Tender_Type,Province,Date_Published,Closing_Date,Place_where_goods_works_or_services_are_required,Special_Conditions,Contact_Person,Email,Telephone_number,FAX_Number,Is_there_a_briefing_session,Is_it_compulsory,Briefing_Date_and_Time,Briefing_Venue)\n",
    "    article_list.append(data)\n",
    "    print(Date_Published,Tender_Number)"
   ]
  },
  {
   "cell_type": "code",
   "execution_count": 8,
   "id": "2474ae5b",
   "metadata": {
    "ExecuteTime": {
     "end_time": "2022-07-15T14:29:08.916015Z",
     "start_time": "2022-07-15T14:28:46.500892Z"
    },
    "code_folding": [],
    "scrolled": true
   },
   "outputs": [
    {
     "data": {
      "application/vnd.jupyter.widget-view+json": {
       "model_id": "3a057770d4dd44ef9aad91e319df638b",
       "version_major": 2,
       "version_minor": 0
      },
      "text/plain": [
       "  0%|          | 0/1 [00:00<?, ?it/s]"
      ]
     },
     "metadata": {},
     "output_type": "display_data"
    },
    {
     "name": "stdout",
     "output_type": "stream",
     "text": [
      "Friday, 15 July 2022 GT/GDCS/062/2022\n"
     ]
    },
    {
     "data": {
      "application/vnd.jupyter.widget-view+json": {
       "model_id": "3cca2b34c684420691009a7ec562a904",
       "version_major": 2,
       "version_minor": 0
      },
      "text/plain": [
       "  0%|          | 0/1 [00:00<?, ?it/s]"
      ]
     },
     "metadata": {},
     "output_type": "display_data"
    },
    {
     "name": "stdout",
     "output_type": "stream",
     "text": [
      "Friday, 15 July 2022 22G/2022/23\n"
     ]
    },
    {
     "data": {
      "application/vnd.jupyter.widget-view+json": {
       "model_id": "3925de9cb71e4bd8887c762e828b0170",
       "version_major": 2,
       "version_minor": 0
      },
      "text/plain": [
       "  0%|          | 0/1 [00:00<?, ?it/s]"
      ]
     },
     "metadata": {},
     "output_type": "display_data"
    },
    {
     "name": "stdout",
     "output_type": "stream",
     "text": [
      "Friday, 15 July 2022 MATAT/2022/2023-43\n"
     ]
    },
    {
     "data": {
      "application/vnd.jupyter.widget-view+json": {
       "model_id": "0201bfd6e79c4865a7b20e199dafaa05",
       "version_major": 2,
       "version_minor": 0
      },
      "text/plain": [
       "  0%|          | 0/1 [00:00<?, ?it/s]"
      ]
     },
     "metadata": {},
     "output_type": "display_data"
    },
    {
     "name": "stdout",
     "output_type": "stream",
     "text": [
      "Friday, 15 July 2022 SANBI: NZG420/2022\n"
     ]
    },
    {
     "data": {
      "application/vnd.jupyter.widget-view+json": {
       "model_id": "b945e59f2de7425f989d6800ee625427",
       "version_major": 2,
       "version_minor": 0
      },
      "text/plain": [
       "  0%|          | 0/1 [00:00<?, ?it/s]"
      ]
     },
     "metadata": {},
     "output_type": "display_data"
    },
    {
     "name": "stdout",
     "output_type": "stream",
     "text": [
      "Friday, 15 July 2022 RFP 22/2022\n"
     ]
    },
    {
     "data": {
      "application/vnd.jupyter.widget-view+json": {
       "model_id": "8307dc6af3614e4c85ec3053322c88ea",
       "version_major": 2,
       "version_minor": 0
      },
      "text/plain": [
       "  0%|          | 0/1 [00:00<?, ?it/s]"
      ]
     },
     "metadata": {},
     "output_type": "display_data"
    },
    {
     "name": "stdout",
     "output_type": "stream",
     "text": [
      "Friday, 15 July 2022 Provision of Security Services\n"
     ]
    },
    {
     "data": {
      "application/vnd.jupyter.widget-view+json": {
       "model_id": "ec08c10509184e89bf4beed4fc3298c1",
       "version_major": 2,
       "version_minor": 0
      },
      "text/plain": [
       "  0%|          | 0/1 [00:00<?, ?it/s]"
      ]
     },
     "metadata": {},
     "output_type": "display_data"
    },
    {
     "name": "stdout",
     "output_type": "stream",
     "text": [
      "Friday, 15 July 2022 UGU-06-1614-2022\n"
     ]
    },
    {
     "data": {
      "application/vnd.jupyter.widget-view+json": {
       "model_id": "364e6db5d969426eb7652b2a531ea945",
       "version_major": 2,
       "version_minor": 0
      },
      "text/plain": [
       "  0%|          | 0/1 [00:00<?, ?it/s]"
      ]
     },
     "metadata": {},
     "output_type": "display_data"
    },
    {
     "name": "stdout",
     "output_type": "stream",
     "text": [
      "Friday, 15 July 2022 IDTECRFQ/10/2022/23\n"
     ]
    },
    {
     "data": {
      "application/vnd.jupyter.widget-view+json": {
       "model_id": "71ed65cde2b64107be5fb00414727f4f",
       "version_major": 2,
       "version_minor": 0
      },
      "text/plain": [
       "  0%|          | 0/1 [00:00<?, ?it/s]"
      ]
     },
     "metadata": {},
     "output_type": "display_data"
    },
    {
     "name": "stdout",
     "output_type": "stream",
     "text": [
      "Friday, 15 July 2022 ART02/2022\n"
     ]
    },
    {
     "data": {
      "application/vnd.jupyter.widget-view+json": {
       "model_id": "45d4746dd5df4053b5aa5af36668da56",
       "version_major": 2,
       "version_minor": 0
      },
      "text/plain": [
       "  0%|          | 0/1 [00:00<?, ?it/s]"
      ]
     },
     "metadata": {},
     "output_type": "display_data"
    },
    {
     "name": "stdout",
     "output_type": "stream",
     "text": [
      "Friday, 15 July 2022 NT004-1-2022\n"
     ]
    },
    {
     "data": {
      "application/vnd.jupyter.widget-view+json": {
       "model_id": "ecac6ba0030243ff99518935c491f278",
       "version_major": 2,
       "version_minor": 0
      },
      "text/plain": [
       "  0%|          | 0/1 [00:00<?, ?it/s]"
      ]
     },
     "metadata": {},
     "output_type": "display_data"
    },
    {
     "name": "stdout",
     "output_type": "stream",
     "text": [
      "Friday, 15 July 2022 RFQ-13422\n"
     ]
    },
    {
     "data": {
      "application/vnd.jupyter.widget-view+json": {
       "model_id": "84f9e7e29d0948059aa6fb35593a335f",
       "version_major": 2,
       "version_minor": 0
      },
      "text/plain": [
       "  0%|          | 0/1 [00:00<?, ?it/s]"
      ]
     },
     "metadata": {},
     "output_type": "display_data"
    },
    {
     "name": "stdout",
     "output_type": "stream",
     "text": [
      "Friday, 15 July 2022 10331061-1\n"
     ]
    },
    {
     "data": {
      "application/vnd.jupyter.widget-view+json": {
       "model_id": "42a04191df374367a479e879db454403",
       "version_major": 2,
       "version_minor": 0
      },
      "text/plain": [
       "  0%|          | 0/1 [00:00<?, ?it/s]"
      ]
     },
     "metadata": {},
     "output_type": "display_data"
    },
    {
     "name": "stdout",
     "output_type": "stream",
     "text": [
      "Friday, 15 July 2022 RFQ-13618\n"
     ]
    },
    {
     "data": {
      "application/vnd.jupyter.widget-view+json": {
       "model_id": "b1ebe0e2ba7543028a254c253bf54d6b",
       "version_major": 2,
       "version_minor": 0
      },
      "text/plain": [
       "  0%|          | 0/1 [00:00<?, ?it/s]"
      ]
     },
     "metadata": {},
     "output_type": "display_data"
    },
    {
     "name": "stdout",
     "output_type": "stream",
     "text": [
      "Friday, 15 July 2022 MWP1480DX\n"
     ]
    },
    {
     "data": {
      "application/vnd.jupyter.widget-view+json": {
       "model_id": "df377913b2f4489987fa9fe50aded8d3",
       "version_major": 2,
       "version_minor": 0
      },
      "text/plain": [
       "  0%|          | 0/1 [00:00<?, ?it/s]"
      ]
     },
     "metadata": {},
     "output_type": "display_data"
    },
    {
     "name": "stdout",
     "output_type": "stream",
     "text": [
      "Friday, 15 July 2022 DALRRD-MP0001 (2022/2023)\n"
     ]
    },
    {
     "data": {
      "application/vnd.jupyter.widget-view+json": {
       "model_id": "09185ba05b494077bf500bdd740d85a7",
       "version_major": 2,
       "version_minor": 0
      },
      "text/plain": [
       "  0%|          | 0/1 [00:00<?, ?it/s]"
      ]
     },
     "metadata": {},
     "output_type": "display_data"
    }
   ],
   "source": [
    "#clicking one by one \n",
    "article_list = []\n",
    "\n",
    "while True:\n",
    "    try:\n",
    "        driver.execute_script(\"window.scrollTo(0, 1000);\")\n",
    "\n",
    "        for e in tqdm(range(1,len(elements[:1])+1)):\n",
    "            driver.find_element(By.XPATH,f'''//*[@id=\"tendeList\"]/tbody/tr[{e}]/td[1]''').click()\n",
    "\n",
    "            get_text()\n",
    "\n",
    "            driver.find_element(By.XPATH,f'''//*[@id=\"tendeList\"]/tbody/tr[{e}]/td[1]''').click()\n",
    "\n",
    "\n",
    "        page_number =  driver.find_element(By.XPATH,f'''//*[@id=\"tendeList_info\"]''').text.split(\" \")\n",
    "\n",
    "        if int(page_number[3].replace(\",\",\"\")) != int(page_number[5].replace(\",\",\"\")):\n",
    "            driver.find_element(By.XPATH,f'''//*[@id=\"tendeList_next\"]''').click()\n",
    "        else:\n",
    "            break\n",
    "    except:\n",
    "        break"
   ]
  },
  {
   "cell_type": "code",
   "execution_count": 9,
   "id": "18083d1b",
   "metadata": {
    "ExecuteTime": {
     "end_time": "2022-07-15T14:29:08.931777Z",
     "start_time": "2022-07-15T14:29:08.916811Z"
    }
   },
   "outputs": [],
   "source": [
    "columns_list = ['Tender_Number','Department','Tender_Type','Province','Date_Published',\n",
    "                'Closing_Date','Place_where_goods_works_or_services_are_required','Special_Conditions',\n",
    "                'Contact_Person','Email','Telephone_number','FAX_Number','Is_there_a_briefing_session','Is_it_compulsory',\n",
    "                'Briefing_Date_and_Time','Briefing_Venue']"
   ]
  },
  {
   "cell_type": "code",
   "execution_count": 10,
   "id": "a6aa16d4",
   "metadata": {
    "ExecuteTime": {
     "end_time": "2022-07-15T14:29:08.961723Z",
     "start_time": "2022-07-15T14:29:08.934770Z"
    }
   },
   "outputs": [
    {
     "data": {
      "text/html": [
       "<div>\n",
       "<style scoped>\n",
       "    .dataframe tbody tr th:only-of-type {\n",
       "        vertical-align: middle;\n",
       "    }\n",
       "\n",
       "    .dataframe tbody tr th {\n",
       "        vertical-align: top;\n",
       "    }\n",
       "\n",
       "    .dataframe thead th {\n",
       "        text-align: right;\n",
       "    }\n",
       "</style>\n",
       "<table border=\"1\" class=\"dataframe\">\n",
       "  <thead>\n",
       "    <tr style=\"text-align: right;\">\n",
       "      <th></th>\n",
       "      <th>Tender_Number</th>\n",
       "      <th>Department</th>\n",
       "      <th>Tender_Type</th>\n",
       "      <th>Province</th>\n",
       "      <th>Date_Published</th>\n",
       "      <th>Closing_Date</th>\n",
       "      <th>Place_where_goods_works_or_services_are_required</th>\n",
       "      <th>Special_Conditions</th>\n",
       "      <th>Contact_Person</th>\n",
       "      <th>Email</th>\n",
       "      <th>Telephone_number</th>\n",
       "      <th>FAX_Number</th>\n",
       "      <th>Is_there_a_briefing_session</th>\n",
       "      <th>Is_it_compulsory</th>\n",
       "      <th>Briefing_Date_and_Time</th>\n",
       "      <th>Briefing_Venue</th>\n",
       "    </tr>\n",
       "  </thead>\n",
       "  <tbody>\n",
       "    <tr>\n",
       "      <th>0</th>\n",
       "      <td>GT/GDCS/062/2022</td>\n",
       "      <td>Gauteng - Community Safety</td>\n",
       "      <td>Request for Bid(Open-Tender)</td>\n",
       "      <td>Gauteng</td>\n",
       "      <td>Friday, 15 July 2022</td>\n",
       "      <td>Friday, 05 August 2022 - 11:00</td>\n",
       "      <td>25 Pixley Seme - Marshaltown - Johannesburg - ...</td>\n",
       "      <td>Only bidders accredited under SITA Contract RF...</td>\n",
       "      <td>Thebe Mereotlhe</td>\n",
       "      <td>Thebe.Mereotlhe@gauteng.gov.za</td>\n",
       "      <td>083-776-5817</td>\n",
       "      <td>083-776-5817</td>\n",
       "      <td>NO</td>\n",
       "      <td>NO</td>\n",
       "      <td></td>\n",
       "      <td>N/A</td>\n",
       "    </tr>\n",
       "    <tr>\n",
       "      <th>1</th>\n",
       "      <td>22G/2022/23</td>\n",
       "      <td>City of Cape Town</td>\n",
       "      <td>Request for Proposal</td>\n",
       "      <td>Western Cape</td>\n",
       "      <td>Friday, 15 July 2022</td>\n",
       "      <td>Thursday, 18 August 2022 - 10:00</td>\n",
       "      <td>12 Hertzog Boulevard - Cape Town - Cape Town -...</td>\n",
       "      <td>The tender document is available on the City o...</td>\n",
       "      <td>AYANDA MILI</td>\n",
       "      <td>ayandawalter.mili@capetown.gov.za</td>\n",
       "      <td>000-000-0000</td>\n",
       "      <td>000-000-0000</td>\n",
       "      <td>Yes</td>\n",
       "      <td>NO</td>\n",
       "      <td>Thursday, 28 July 2022 - 10:00</td>\n",
       "      <td>https://meet.capetown.gov.za/sesethu.komanisi/...</td>\n",
       "    </tr>\n",
       "    <tr>\n",
       "      <th>2</th>\n",
       "      <td>MATAT/2022/2023-43</td>\n",
       "      <td>Matatiele Local Municipality</td>\n",
       "      <td>Request for Bid(Open-Tender)</td>\n",
       "      <td>Eastern Cape</td>\n",
       "      <td>Friday, 15 July 2022</td>\n",
       "      <td>Monday, 15 August 2022 - 10:00</td>\n",
       "      <td>102 MAIN STREET - MATATIELE - MATATIELE - 4730</td>\n",
       "      <td>N/A</td>\n",
       "      <td>MR Z.C MATOLO</td>\n",
       "      <td>ZMatolo@matatiele.gov.za</td>\n",
       "      <td>039-737-8263</td>\n",
       "      <td>N/A</td>\n",
       "      <td>NO</td>\n",
       "      <td>NO</td>\n",
       "      <td></td>\n",
       "      <td>N/A</td>\n",
       "    </tr>\n",
       "    <tr>\n",
       "      <th>3</th>\n",
       "      <td>SANBI: NZG420/2022</td>\n",
       "      <td>South African National Biodiversity Institute</td>\n",
       "      <td>Request for Bid(Open-Tender)</td>\n",
       "      <td>Gauteng</td>\n",
       "      <td>Friday, 15 July 2022</td>\n",
       "      <td>Monday, 15 August 2022 - 11:00</td>\n",
       "      <td>232 Boom Street - Pretoria Central - Pretoria ...</td>\n",
       "      <td>Please note that for this Tender, the followin...</td>\n",
       "      <td>Mr. S Hlengwa</td>\n",
       "      <td>s.hlengwa@sanbi.org.za</td>\n",
       "      <td>012-339-2700</td>\n",
       "      <td>N/A</td>\n",
       "      <td>Yes</td>\n",
       "      <td>Yes</td>\n",
       "      <td>Thursday, 28 July 2022 - 11:00</td>\n",
       "      <td>Pretoria National Zoological Garden</td>\n",
       "    </tr>\n",
       "    <tr>\n",
       "      <th>4</th>\n",
       "      <td>RFP 22/2022</td>\n",
       "      <td>City Of Joburg Property Company (SOC) Ltd</td>\n",
       "      <td>Request for Bid(Open-Tender)</td>\n",
       "      <td>Gauteng</td>\n",
       "      <td>Friday, 15 July 2022</td>\n",
       "      <td>Friday, 19 August 2022 - 10:30</td>\n",
       "      <td>33 Hoofd Street - Braamfontein - Johannesburg ...</td>\n",
       "      <td>N/A</td>\n",
       "      <td>Supply Chain</td>\n",
       "      <td>tenders@jhbproperty.co.za</td>\n",
       "      <td>010-219-9000</td>\n",
       "      <td>N/A</td>\n",
       "      <td>NO</td>\n",
       "      <td>NO</td>\n",
       "      <td></td>\n",
       "      <td>N/A</td>\n",
       "    </tr>\n",
       "  </tbody>\n",
       "</table>\n",
       "</div>"
      ],
      "text/plain": [
       "        Tender_Number                                     Department  \\\n",
       "0    GT/GDCS/062/2022                     Gauteng - Community Safety   \n",
       "1         22G/2022/23                              City of Cape Town   \n",
       "2  MATAT/2022/2023-43                   Matatiele Local Municipality   \n",
       "3  SANBI: NZG420/2022  South African National Biodiversity Institute   \n",
       "4         RFP 22/2022      City Of Joburg Property Company (SOC) Ltd   \n",
       "\n",
       "                    Tender_Type      Province        Date_Published  \\\n",
       "0  Request for Bid(Open-Tender)       Gauteng  Friday, 15 July 2022   \n",
       "1          Request for Proposal  Western Cape  Friday, 15 July 2022   \n",
       "2  Request for Bid(Open-Tender)  Eastern Cape  Friday, 15 July 2022   \n",
       "3  Request for Bid(Open-Tender)       Gauteng  Friday, 15 July 2022   \n",
       "4  Request for Bid(Open-Tender)       Gauteng  Friday, 15 July 2022   \n",
       "\n",
       "                       Closing_Date  \\\n",
       "0    Friday, 05 August 2022 - 11:00   \n",
       "1  Thursday, 18 August 2022 - 10:00   \n",
       "2    Monday, 15 August 2022 - 10:00   \n",
       "3    Monday, 15 August 2022 - 11:00   \n",
       "4    Friday, 19 August 2022 - 10:30   \n",
       "\n",
       "    Place_where_goods_works_or_services_are_required  \\\n",
       "0  25 Pixley Seme - Marshaltown - Johannesburg - ...   \n",
       "1  12 Hertzog Boulevard - Cape Town - Cape Town -...   \n",
       "2     102 MAIN STREET - MATATIELE - MATATIELE - 4730   \n",
       "3  232 Boom Street - Pretoria Central - Pretoria ...   \n",
       "4  33 Hoofd Street - Braamfontein - Johannesburg ...   \n",
       "\n",
       "                                  Special_Conditions   Contact_Person  \\\n",
       "0  Only bidders accredited under SITA Contract RF...  Thebe Mereotlhe   \n",
       "1  The tender document is available on the City o...      AYANDA MILI   \n",
       "2                                                N/A    MR Z.C MATOLO   \n",
       "3  Please note that for this Tender, the followin...    Mr. S Hlengwa   \n",
       "4                                                N/A     Supply Chain   \n",
       "\n",
       "                               Email Telephone_number    FAX_Number  \\\n",
       "0     Thebe.Mereotlhe@gauteng.gov.za     083-776-5817  083-776-5817   \n",
       "1  ayandawalter.mili@capetown.gov.za     000-000-0000  000-000-0000   \n",
       "2           ZMatolo@matatiele.gov.za     039-737-8263           N/A   \n",
       "3             s.hlengwa@sanbi.org.za     012-339-2700           N/A   \n",
       "4          tenders@jhbproperty.co.za     010-219-9000           N/A   \n",
       "\n",
       "  Is_there_a_briefing_session Is_it_compulsory  \\\n",
       "0                          NO               NO   \n",
       "1                         Yes               NO   \n",
       "2                          NO               NO   \n",
       "3                         Yes              Yes   \n",
       "4                          NO               NO   \n",
       "\n",
       "           Briefing_Date_and_Time  \\\n",
       "0                                   \n",
       "1  Thursday, 28 July 2022 - 10:00   \n",
       "2                                   \n",
       "3  Thursday, 28 July 2022 - 11:00   \n",
       "4                                   \n",
       "\n",
       "                                      Briefing_Venue  \n",
       "0                                                N/A  \n",
       "1  https://meet.capetown.gov.za/sesethu.komanisi/...  \n",
       "2                                                N/A  \n",
       "3                Pretoria National Zoological Garden  \n",
       "4                                                N/A  "
      ]
     },
     "execution_count": 10,
     "metadata": {},
     "output_type": "execute_result"
    }
   ],
   "source": [
    "#temp df\n",
    "temp_df = pd.DataFrame(article_list,columns= columns_list)\n",
    "temp_df.head()"
   ]
  },
  {
   "cell_type": "code",
   "execution_count": 11,
   "id": "3e76a6ef",
   "metadata": {
    "ExecuteTime": {
     "end_time": "2022-07-15T14:29:08.977651Z",
     "start_time": "2022-07-15T14:29:08.962691Z"
    }
   },
   "outputs": [],
   "source": [
    "#to csv\n",
    "temp_df.to_csv(f'{SITE_NAME} news.csv',index = False)\n",
    "\n",
    "#to json\n",
    "temp_df.to_json(f'{SITE_NAME} news.json')"
   ]
  }
 ],
 "metadata": {
  "kernelspec": {
   "display_name": "Python 3 (ipykernel)",
   "language": "python",
   "name": "python3"
  },
  "language_info": {
   "codemirror_mode": {
    "name": "ipython",
    "version": 3
   },
   "file_extension": ".py",
   "mimetype": "text/x-python",
   "name": "python",
   "nbconvert_exporter": "python",
   "pygments_lexer": "ipython3",
   "version": "3.9.7"
  },
  "toc": {
   "base_numbering": 1,
   "nav_menu": {},
   "number_sections": true,
   "sideBar": true,
   "skip_h1_title": false,
   "title_cell": "Table of Contents",
   "title_sidebar": "Contents",
   "toc_cell": false,
   "toc_position": {},
   "toc_section_display": true,
   "toc_window_display": false
  }
 },
 "nbformat": 4,
 "nbformat_minor": 5
}
