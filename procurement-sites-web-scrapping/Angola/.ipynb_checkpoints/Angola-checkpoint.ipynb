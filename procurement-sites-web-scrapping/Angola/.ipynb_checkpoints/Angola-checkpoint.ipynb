{
 "cells": [
  {
   "cell_type": "markdown",
   "id": "d1dcbd17",
   "metadata": {},
   "source": [
    "**URL :**\n",
    "https://compraspublicas.minfin.gov.ao/ComprasPublicas/#!/anuncios"
   ]
  },
  {
   "cell_type": "code",
   "execution_count": 17,
   "id": "a634bf96",
   "metadata": {
    "ExecuteTime": {
     "end_time": "2022-07-17T14:23:00.204165Z",
     "start_time": "2022-07-17T14:23:00.194157Z"
    },
    "code_folding": [
     0
    ]
   },
   "outputs": [
    {
     "data": {
      "application/javascript": [
       "IPython.notebook.set_autosave_interval(1000)"
      ]
     },
     "metadata": {},
     "output_type": "display_data"
    },
    {
     "name": "stdout",
     "output_type": "stream",
     "text": [
      "Autosaving every 1 seconds\n"
     ]
    }
   ],
   "source": [
    "#libraries\n",
    "\n",
    "import pandas as pd,requests,re,time,random\n",
    "from dateutil import parser\n",
    "from selenium.webdriver.common.by import By\n",
    "from selenium.webdriver.common.keys import Keys\n",
    "from datetime import datetime\n",
    "from selenium import webdriver\n",
    "from tqdm.auto import tqdm\n",
    "\n",
    "import warnings\n",
    "warnings.filterwarnings(\"ignore\")\n",
    "\n",
    "%autosave 1"
   ]
  },
  {
   "cell_type": "code",
   "execution_count": 18,
   "id": "e7e1230f",
   "metadata": {
    "ExecuteTime": {
     "end_time": "2022-07-17T14:23:02.680213Z",
     "start_time": "2022-07-17T14:23:00.206125Z"
    },
    "code_folding": [
     0
    ]
   },
   "outputs": [
    {
     "name": "stderr",
     "output_type": "stream",
     "text": [
      "\n",
      "\n",
      "====== WebDriver manager ======\n",
      "Current google-chrome version is 103.0.5060\n",
      "Get LATEST chromedriver version for 103.0.5060 google-chrome\n",
      "Driver [C:\\Users\\AKSHAY SATPUTE\\.wdm\\drivers\\chromedriver\\win32\\103.0.5060.53\\chromedriver.exe] found in cache\n"
     ]
    }
   ],
   "source": [
    "#driver for operation\n",
    "from webdriver_manager.chrome import ChromeDriverManager\n",
    "option = webdriver.ChromeOptions()\n",
    "# option.add_argument('headless')\n",
    "driver = webdriver.Chrome(ChromeDriverManager().install(),options=option)\n",
    "driver.maximize_window()"
   ]
  },
  {
   "cell_type": "code",
   "execution_count": 19,
   "id": "efb1083a",
   "metadata": {
    "ExecuteTime": {
     "end_time": "2022-07-17T14:23:02.696081Z",
     "start_time": "2022-07-17T14:23:02.682569Z"
    },
    "code_folding": [
     0
    ]
   },
   "outputs": [],
   "source": [
    "#site name ,link and domain\n",
    "SITE_NAME='AGO_MOD'\n",
    "\n",
    "DOMAIN = \"https://compraspublicas.minfin.gov.ao\"\n",
    "\n",
    "SITE_LINK = \"https://compraspublicas.minfin.gov.ao/ComprasPublicas/#!/anuncios\""
   ]
  },
  {
   "cell_type": "code",
   "execution_count": 103,
   "id": "9305261f",
   "metadata": {
    "ExecuteTime": {
     "end_time": "2022-07-17T15:06:52.652667Z",
     "start_time": "2022-07-17T15:06:52.643692Z"
    }
   },
   "outputs": [],
   "source": [
    "since_date = parser.parse(\"1 june 2022\")"
   ]
  },
  {
   "cell_type": "code",
   "execution_count": 100,
   "id": "23866690",
   "metadata": {
    "ExecuteTime": {
     "end_time": "2022-07-17T15:05:40.971318Z",
     "start_time": "2022-07-17T15:05:34.397467Z"
    }
   },
   "outputs": [],
   "source": [
    "driver.get(SITE_LINK)\n",
    "time.sleep(5)"
   ]
  },
  {
   "cell_type": "code",
   "execution_count": 104,
   "id": "349e04f0",
   "metadata": {
    "ExecuteTime": {
     "end_time": "2022-07-17T15:07:19.837763Z",
     "start_time": "2022-07-17T15:06:53.924778Z"
    },
    "code_folding": [
     1
    ],
    "scrolled": true
   },
   "outputs": [
    {
     "data": {
      "application/vnd.jupyter.widget-view+json": {
       "model_id": "",
       "version_major": 2,
       "version_minor": 0
      },
      "text/plain": [
       "Gathering data :   0%|          | 0/6 [00:00<?, ?it/s]"
      ]
     },
     "metadata": {},
     "output_type": "display_data"
    },
    {
     "data": {
      "application/vnd.jupyter.widget-view+json": {
       "model_id": "",
       "version_major": 2,
       "version_minor": 0
      },
      "text/plain": [
       "Gathering components :   0%|          | 0/7 [00:00<?, ?it/s]"
      ]
     },
     "metadata": {},
     "output_type": "display_data"
    },
    {
     "name": "stdout",
     "output_type": "stream",
     "text": [
      "15/07/2022 PDE N.º 001/MINDCOM/2022\n"
     ]
    },
    {
     "data": {
      "application/vnd.jupyter.widget-view+json": {
       "model_id": "",
       "version_major": 2,
       "version_minor": 0
      },
      "text/plain": [
       "Gathering components :   0%|          | 0/7 [00:00<?, ?it/s]"
      ]
     },
     "metadata": {},
     "output_type": "display_data"
    },
    {
     "name": "stdout",
     "output_type": "stream",
     "text": [
      "15/07/2022 PDE N.º 002/MINDCOM/2022\n"
     ]
    },
    {
     "data": {
      "application/vnd.jupyter.widget-view+json": {
       "model_id": "",
       "version_major": 2,
       "version_minor": 0
      },
      "text/plain": [
       "Gathering components :   0%|          | 0/7 [00:00<?, ?it/s]"
      ]
     },
     "metadata": {},
     "output_type": "display_data"
    },
    {
     "name": "stdout",
     "output_type": "stream",
     "text": [
      "15/07/2022 002PDE/MASFAMU/2022\n"
     ]
    },
    {
     "data": {
      "application/vnd.jupyter.widget-view+json": {
       "model_id": "",
       "version_major": 2,
       "version_minor": 0
      },
      "text/plain": [
       "Gathering components :   0%|          | 0/7 [00:00<?, ?it/s]"
      ]
     },
     "metadata": {},
     "output_type": "display_data"
    },
    {
     "name": "stdout",
     "output_type": "stream",
     "text": [
      "12/07/2022 20223597\n"
     ]
    },
    {
     "data": {
      "application/vnd.jupyter.widget-view+json": {
       "model_id": "",
       "version_major": 2,
       "version_minor": 0
      },
      "text/plain": [
       "Gathering components :   0%|          | 0/7 [00:00<?, ?it/s]"
      ]
     },
     "metadata": {},
     "output_type": "display_data"
    },
    {
     "name": "stdout",
     "output_type": "stream",
     "text": [
      "11/07/2022 01/PDE/MEP/2022\n"
     ]
    },
    {
     "data": {
      "application/vnd.jupyter.widget-view+json": {
       "model_id": "",
       "version_major": 2,
       "version_minor": 0
      },
      "text/plain": [
       "Gathering components :   0%|          | 0/7 [00:00<?, ?it/s]"
      ]
     },
     "metadata": {},
     "output_type": "display_data"
    },
    {
     "name": "stdout",
     "output_type": "stream",
     "text": [
      "11/07/2022 PDE/001\n"
     ]
    },
    {
     "data": {
      "application/vnd.jupyter.widget-view+json": {
       "model_id": "",
       "version_major": 2,
       "version_minor": 0
      },
      "text/plain": [
       "Gathering data :   0%|          | 0/6 [00:00<?, ?it/s]"
      ]
     },
     "metadata": {},
     "output_type": "display_data"
    },
    {
     "data": {
      "application/vnd.jupyter.widget-view+json": {
       "model_id": "",
       "version_major": 2,
       "version_minor": 0
      },
      "text/plain": [
       "Gathering components :   0%|          | 0/7 [00:00<?, ?it/s]"
      ]
     },
     "metadata": {},
     "output_type": "display_data"
    },
    {
     "name": "stdout",
     "output_type": "stream",
     "text": [
      "08/07/2022 20223598\n"
     ]
    },
    {
     "data": {
      "application/vnd.jupyter.widget-view+json": {
       "model_id": "",
       "version_major": 2,
       "version_minor": 0
      },
      "text/plain": [
       "Gathering components :   0%|          | 0/7 [00:00<?, ?it/s]"
      ]
     },
     "metadata": {},
     "output_type": "display_data"
    },
    {
     "name": "stdout",
     "output_type": "stream",
     "text": [
      "08/07/2022 01/PDE/2022\n"
     ]
    },
    {
     "data": {
      "application/vnd.jupyter.widget-view+json": {
       "model_id": "",
       "version_major": 2,
       "version_minor": 0
      },
      "text/plain": [
       "Gathering components :   0%|          | 0/7 [00:00<?, ?it/s]"
      ]
     },
     "metadata": {},
     "output_type": "display_data"
    },
    {
     "name": "stdout",
     "output_type": "stream",
     "text": [
      "07/07/2022 20223596\n"
     ]
    },
    {
     "data": {
      "application/vnd.jupyter.widget-view+json": {
       "model_id": "",
       "version_major": 2,
       "version_minor": 0
      },
      "text/plain": [
       "Gathering components :   0%|          | 0/7 [00:00<?, ?it/s]"
      ]
     },
     "metadata": {},
     "output_type": "display_data"
    },
    {
     "name": "stdout",
     "output_type": "stream",
     "text": [
      "06/07/2022 20223592\n"
     ]
    },
    {
     "data": {
      "application/vnd.jupyter.widget-view+json": {
       "model_id": "",
       "version_major": 2,
       "version_minor": 0
      },
      "text/plain": [
       "Gathering components :   0%|          | 0/7 [00:00<?, ?it/s]"
      ]
     },
     "metadata": {},
     "output_type": "display_data"
    },
    {
     "name": "stdout",
     "output_type": "stream",
     "text": [
      "05/07/2022 PDE Nº 02-FERT-FADA/2022\n"
     ]
    },
    {
     "data": {
      "application/vnd.jupyter.widget-view+json": {
       "model_id": "",
       "version_major": 2,
       "version_minor": 0
      },
      "text/plain": [
       "Gathering components :   0%|          | 0/7 [00:00<?, ?it/s]"
      ]
     },
     "metadata": {},
     "output_type": "display_data"
    },
    {
     "name": "stdout",
     "output_type": "stream",
     "text": [
      "27/06/2022 20223557\n"
     ]
    },
    {
     "data": {
      "application/vnd.jupyter.widget-view+json": {
       "model_id": "",
       "version_major": 2,
       "version_minor": 0
      },
      "text/plain": [
       "Gathering data :   0%|          | 0/6 [00:00<?, ?it/s]"
      ]
     },
     "metadata": {},
     "output_type": "display_data"
    },
    {
     "data": {
      "application/vnd.jupyter.widget-view+json": {
       "model_id": "",
       "version_major": 2,
       "version_minor": 0
      },
      "text/plain": [
       "Gathering components :   0%|          | 0/7 [00:00<?, ?it/s]"
      ]
     },
     "metadata": {},
     "output_type": "display_data"
    },
    {
     "name": "stdout",
     "output_type": "stream",
     "text": [
      "27/06/2022 20223558\n"
     ]
    },
    {
     "data": {
      "application/vnd.jupyter.widget-view+json": {
       "model_id": "",
       "version_major": 2,
       "version_minor": 0
      },
      "text/plain": [
       "Gathering components :   0%|          | 0/7 [00:00<?, ?it/s]"
      ]
     },
     "metadata": {},
     "output_type": "display_data"
    },
    {
     "name": "stdout",
     "output_type": "stream",
     "text": [
      "27/06/2022 02/DCP/MINFIN/2022\n"
     ]
    },
    {
     "data": {
      "application/vnd.jupyter.widget-view+json": {
       "model_id": "",
       "version_major": 2,
       "version_minor": 0
      },
      "text/plain": [
       "Gathering components :   0%|          | 0/7 [00:00<?, ?it/s]"
      ]
     },
     "metadata": {},
     "output_type": "display_data"
    },
    {
     "name": "stdout",
     "output_type": "stream",
     "text": [
      "27/06/2022 20223556\n"
     ]
    },
    {
     "data": {
      "application/vnd.jupyter.widget-view+json": {
       "model_id": "",
       "version_major": 2,
       "version_minor": 0
      },
      "text/plain": [
       "Gathering components :   0%|          | 0/7 [00:00<?, ?it/s]"
      ]
     },
     "metadata": {},
     "output_type": "display_data"
    },
    {
     "name": "stdout",
     "output_type": "stream",
     "text": [
      "27/06/2022 20223565\n"
     ]
    },
    {
     "data": {
      "application/vnd.jupyter.widget-view+json": {
       "model_id": "",
       "version_major": 2,
       "version_minor": 0
      },
      "text/plain": [
       "Gathering components :   0%|          | 0/7 [00:00<?, ?it/s]"
      ]
     },
     "metadata": {},
     "output_type": "display_data"
    },
    {
     "name": "stdout",
     "output_type": "stream",
     "text": [
      "23/06/2022 20223564\n"
     ]
    },
    {
     "data": {
      "application/vnd.jupyter.widget-view+json": {
       "model_id": "",
       "version_major": 2,
       "version_minor": 0
      },
      "text/plain": [
       "Gathering components :   0%|          | 0/7 [00:00<?, ?it/s]"
      ]
     },
     "metadata": {},
     "output_type": "display_data"
    },
    {
     "name": "stdout",
     "output_type": "stream",
     "text": [
      "22/06/2022 20223552\n"
     ]
    },
    {
     "data": {
      "application/vnd.jupyter.widget-view+json": {
       "model_id": "",
       "version_major": 2,
       "version_minor": 0
      },
      "text/plain": [
       "Gathering data :   0%|          | 0/6 [00:00<?, ?it/s]"
      ]
     },
     "metadata": {},
     "output_type": "display_data"
    },
    {
     "data": {
      "application/vnd.jupyter.widget-view+json": {
       "model_id": "",
       "version_major": 2,
       "version_minor": 0
      },
      "text/plain": [
       "Gathering components :   0%|          | 0/7 [00:00<?, ?it/s]"
      ]
     },
     "metadata": {},
     "output_type": "display_data"
    },
    {
     "name": "stdout",
     "output_type": "stream",
     "text": [
      "21/06/2022 20223566\n"
     ]
    },
    {
     "data": {
      "application/vnd.jupyter.widget-view+json": {
       "model_id": "",
       "version_major": 2,
       "version_minor": 0
      },
      "text/plain": [
       "Gathering components :   0%|          | 0/7 [00:00<?, ?it/s]"
      ]
     },
     "metadata": {},
     "output_type": "display_data"
    },
    {
     "name": "stdout",
     "output_type": "stream",
     "text": [
      "21/06/2022 20223593\n"
     ]
    },
    {
     "data": {
      "application/vnd.jupyter.widget-view+json": {
       "model_id": "",
       "version_major": 2,
       "version_minor": 0
      },
      "text/plain": [
       "Gathering components :   0%|          | 0/7 [00:00<?, ?it/s]"
      ]
     },
     "metadata": {},
     "output_type": "display_data"
    },
    {
     "name": "stdout",
     "output_type": "stream",
     "text": [
      "21/06/2022 20223554\n"
     ]
    },
    {
     "data": {
      "application/vnd.jupyter.widget-view+json": {
       "model_id": "",
       "version_major": 2,
       "version_minor": 0
      },
      "text/plain": [
       "Gathering components :   0%|          | 0/7 [00:00<?, ?it/s]"
      ]
     },
     "metadata": {},
     "output_type": "display_data"
    },
    {
     "name": "stdout",
     "output_type": "stream",
     "text": [
      "20/06/2022 20223551\n"
     ]
    },
    {
     "data": {
      "application/vnd.jupyter.widget-view+json": {
       "model_id": "",
       "version_major": 2,
       "version_minor": 0
      },
      "text/plain": [
       "Gathering components :   0%|          | 0/7 [00:00<?, ?it/s]"
      ]
     },
     "metadata": {},
     "output_type": "display_data"
    },
    {
     "name": "stdout",
     "output_type": "stream",
     "text": [
      "17/06/2022 20223591\n"
     ]
    },
    {
     "data": {
      "application/vnd.jupyter.widget-view+json": {
       "model_id": "",
       "version_major": 2,
       "version_minor": 0
      },
      "text/plain": [
       "Gathering components :   0%|          | 0/7 [00:00<?, ?it/s]"
      ]
     },
     "metadata": {},
     "output_type": "display_data"
    },
    {
     "name": "stdout",
     "output_type": "stream",
     "text": [
      "17/06/2022 20223594\n"
     ]
    },
    {
     "data": {
      "application/vnd.jupyter.widget-view+json": {
       "model_id": "",
       "version_major": 2,
       "version_minor": 0
      },
      "text/plain": [
       "Gathering data :   0%|          | 0/6 [00:00<?, ?it/s]"
      ]
     },
     "metadata": {},
     "output_type": "display_data"
    },
    {
     "data": {
      "application/vnd.jupyter.widget-view+json": {
       "model_id": "",
       "version_major": 2,
       "version_minor": 0
      },
      "text/plain": [
       "Gathering components :   0%|          | 0/7 [00:00<?, ?it/s]"
      ]
     },
     "metadata": {},
     "output_type": "display_data"
    },
    {
     "name": "stdout",
     "output_type": "stream",
     "text": [
      "17/06/2022 20223548\n"
     ]
    },
    {
     "data": {
      "application/vnd.jupyter.widget-view+json": {
       "model_id": "",
       "version_major": 2,
       "version_minor": 0
      },
      "text/plain": [
       "Gathering components :   0%|          | 0/7 [00:00<?, ?it/s]"
      ]
     },
     "metadata": {},
     "output_type": "display_data"
    },
    {
     "name": "stdout",
     "output_type": "stream",
     "text": [
      "17/06/2022 20223595\n"
     ]
    },
    {
     "data": {
      "application/vnd.jupyter.widget-view+json": {
       "model_id": "",
       "version_major": 2,
       "version_minor": 0
      },
      "text/plain": [
       "Gathering components :   0%|          | 0/7 [00:00<?, ?it/s]"
      ]
     },
     "metadata": {},
     "output_type": "display_data"
    },
    {
     "name": "stdout",
     "output_type": "stream",
     "text": [
      "16/06/2022 20223549\n"
     ]
    },
    {
     "data": {
      "application/vnd.jupyter.widget-view+json": {
       "model_id": "",
       "version_major": 2,
       "version_minor": 0
      },
      "text/plain": [
       "Gathering components :   0%|          | 0/7 [00:00<?, ?it/s]"
      ]
     },
     "metadata": {},
     "output_type": "display_data"
    },
    {
     "name": "stdout",
     "output_type": "stream",
     "text": [
      "15/06/2022 20223550\n"
     ]
    },
    {
     "data": {
      "application/vnd.jupyter.widget-view+json": {
       "model_id": "",
       "version_major": 2,
       "version_minor": 0
      },
      "text/plain": [
       "Gathering components :   0%|          | 0/7 [00:00<?, ?it/s]"
      ]
     },
     "metadata": {},
     "output_type": "display_data"
    },
    {
     "name": "stdout",
     "output_type": "stream",
     "text": [
      "15/06/2022 20223547\n"
     ]
    },
    {
     "data": {
      "application/vnd.jupyter.widget-view+json": {
       "model_id": "",
       "version_major": 2,
       "version_minor": 0
      },
      "text/plain": [
       "Gathering components :   0%|          | 0/7 [00:00<?, ?it/s]"
      ]
     },
     "metadata": {},
     "output_type": "display_data"
    },
    {
     "name": "stdout",
     "output_type": "stream",
     "text": [
      "12/06/2022 20223553\n"
     ]
    },
    {
     "data": {
      "application/vnd.jupyter.widget-view+json": {
       "model_id": "",
       "version_major": 2,
       "version_minor": 0
      },
      "text/plain": [
       "Gathering data :   0%|          | 0/6 [00:00<?, ?it/s]"
      ]
     },
     "metadata": {},
     "output_type": "display_data"
    },
    {
     "data": {
      "application/vnd.jupyter.widget-view+json": {
       "model_id": "",
       "version_major": 2,
       "version_minor": 0
      },
      "text/plain": [
       "Gathering components :   0%|          | 0/7 [00:00<?, ?it/s]"
      ]
     },
     "metadata": {},
     "output_type": "display_data"
    },
    {
     "name": "stdout",
     "output_type": "stream",
     "text": [
      "12/06/2022 20223555\n"
     ]
    },
    {
     "data": {
      "application/vnd.jupyter.widget-view+json": {
       "model_id": "",
       "version_major": 2,
       "version_minor": 0
      },
      "text/plain": [
       "Gathering components :   0%|          | 0/7 [00:00<?, ?it/s]"
      ]
     },
     "metadata": {},
     "output_type": "display_data"
    },
    {
     "name": "stdout",
     "output_type": "stream",
     "text": [
      "10/06/2022 20223544\n"
     ]
    },
    {
     "data": {
      "application/vnd.jupyter.widget-view+json": {
       "model_id": "",
       "version_major": 2,
       "version_minor": 0
      },
      "text/plain": [
       "Gathering components :   0%|          | 0/7 [00:00<?, ?it/s]"
      ]
     },
     "metadata": {},
     "output_type": "display_data"
    },
    {
     "name": "stdout",
     "output_type": "stream",
     "text": [
      "10/06/2022 20223542\n"
     ]
    },
    {
     "data": {
      "application/vnd.jupyter.widget-view+json": {
       "model_id": "",
       "version_major": 2,
       "version_minor": 0
      },
      "text/plain": [
       "Gathering components :   0%|          | 0/7 [00:00<?, ?it/s]"
      ]
     },
     "metadata": {},
     "output_type": "display_data"
    },
    {
     "name": "stdout",
     "output_type": "stream",
     "text": [
      "09/06/2022 20223541\n"
     ]
    },
    {
     "data": {
      "application/vnd.jupyter.widget-view+json": {
       "model_id": "",
       "version_major": 2,
       "version_minor": 0
      },
      "text/plain": [
       "Gathering components :   0%|          | 0/7 [00:00<?, ?it/s]"
      ]
     },
     "metadata": {},
     "output_type": "display_data"
    },
    {
     "name": "stdout",
     "output_type": "stream",
     "text": [
      "09/06/2022 20223543\n"
     ]
    },
    {
     "data": {
      "application/vnd.jupyter.widget-view+json": {
       "model_id": "",
       "version_major": 2,
       "version_minor": 0
      },
      "text/plain": [
       "Gathering components :   0%|          | 0/7 [00:00<?, ?it/s]"
      ]
     },
     "metadata": {},
     "output_type": "display_data"
    },
    {
     "name": "stdout",
     "output_type": "stream",
     "text": [
      "09/06/2022 20223540\n"
     ]
    },
    {
     "data": {
      "application/vnd.jupyter.widget-view+json": {
       "model_id": "c4d84ed6a7f0408e9d274d9e07a2c79c",
       "version_major": 2,
       "version_minor": 0
      },
      "text/plain": [
       "Gathering data :   0%|          | 0/6 [00:00<?, ?it/s]"
      ]
     },
     "metadata": {},
     "output_type": "display_data"
    },
    {
     "data": {
      "application/vnd.jupyter.widget-view+json": {
       "model_id": "",
       "version_major": 2,
       "version_minor": 0
      },
      "text/plain": [
       "Gathering components :   0%|          | 0/7 [00:00<?, ?it/s]"
      ]
     },
     "metadata": {},
     "output_type": "display_data"
    },
    {
     "name": "stdout",
     "output_type": "stream",
     "text": [
      "08/06/2022 PDE 01/DAF-ANPG/2022\n"
     ]
    },
    {
     "data": {
      "application/vnd.jupyter.widget-view+json": {
       "model_id": "",
       "version_major": 2,
       "version_minor": 0
      },
      "text/plain": [
       "Gathering components :   0%|          | 0/7 [00:00<?, ?it/s]"
      ]
     },
     "metadata": {},
     "output_type": "display_data"
    },
    {
     "name": "stdout",
     "output_type": "stream",
     "text": [
      "08/06/2022 20223539\n"
     ]
    },
    {
     "data": {
      "application/vnd.jupyter.widget-view+json": {
       "model_id": "",
       "version_major": 2,
       "version_minor": 0
      },
      "text/plain": [
       "Gathering components :   0%|          | 0/7 [00:00<?, ?it/s]"
      ]
     },
     "metadata": {},
     "output_type": "display_data"
    },
    {
     "name": "stdout",
     "output_type": "stream",
     "text": [
      "07/06/2022 20223537\n"
     ]
    },
    {
     "data": {
      "application/vnd.jupyter.widget-view+json": {
       "model_id": "",
       "version_major": 2,
       "version_minor": 0
      },
      "text/plain": [
       "Gathering components :   0%|          | 0/7 [00:00<?, ?it/s]"
      ]
     },
     "metadata": {},
     "output_type": "display_data"
    },
    {
     "name": "stdout",
     "output_type": "stream",
     "text": [
      "06/06/2022 PDE N.º 02/2022\n"
     ]
    },
    {
     "data": {
      "application/vnd.jupyter.widget-view+json": {
       "model_id": "",
       "version_major": 2,
       "version_minor": 0
      },
      "text/plain": [
       "Gathering components :   0%|          | 0/7 [00:00<?, ?it/s]"
      ]
     },
     "metadata": {},
     "output_type": "display_data"
    },
    {
     "name": "stdout",
     "output_type": "stream",
     "text": [
      "06/06/2022 PDE N.º 01/2022\n"
     ]
    },
    {
     "data": {
      "application/vnd.jupyter.widget-view+json": {
       "model_id": "",
       "version_major": 2,
       "version_minor": 0
      },
      "text/plain": [
       "Gathering components :   0%|          | 0/7 [00:00<?, ?it/s]"
      ]
     },
     "metadata": {},
     "output_type": "display_data"
    },
    {
     "name": "stdout",
     "output_type": "stream",
     "text": [
      "\n",
      "Data Gathering done\n"
     ]
    }
   ],
   "source": [
    "article_list = []\n",
    "while True :\n",
    "    try:\n",
    "        #getting elements \n",
    "        elements = driver.find_elements(By.XPATH,'''//*[@id=\"interna\"]/div[2]/div[2]/div/div[2]/div/table/tbody/tr''')\n",
    "        for e in tqdm(range(1,len(elements)+1),desc=\"Gathering data : \",leave=False):\n",
    "            gathered_data = []\n",
    "            for ee in tqdm(range(1,8),desc=\"Gathering components : \",leave=False):\n",
    "                data =  driver.find_element(By.XPATH,f'''//*[@id=\"interna\"]/div[2]/div[2]/div/div[2]/div/table/tbody/tr[{e}]/td[{ee}]''').text.strip()\n",
    "                gathered_data.append(data)\n",
    "                \n",
    "            date = gathered_data[2].split(\"\\n\")[1]\n",
    "            \n",
    "            current_date = parser.parse(date,dayfirst=True)\n",
    "            if since_date > current_date:\n",
    "                raise Exception\n",
    "            \n",
    "            article_list.append(tuple(gathered_data))\n",
    "            print(date,gathered_data[0])\n",
    "\n",
    "        #click on the next page \n",
    "        driver.find_element(By.XPATH,f'''//*[@id=\"interna\"]/div[2]/div[2]/div/div[3]/div/paginacao/div/ul/li[7]''').click()\n",
    "        time.sleep(3)\n",
    "        \n",
    "    except:\n",
    "        print(\"\\nData Gathering done\")\n",
    "        break"
   ]
  },
  {
   "cell_type": "code",
   "execution_count": 105,
   "id": "513b52aa",
   "metadata": {
    "ExecuteTime": {
     "end_time": "2022-07-17T15:07:29.554959Z",
     "start_time": "2022-07-17T15:07:29.548946Z"
    }
   },
   "outputs": [],
   "source": [
    "columns_list = ['Ref. PCP','Estimated Value (Kz)','dates','EPC','Procedure','Object','state']"
   ]
  },
  {
   "cell_type": "code",
   "execution_count": 106,
   "id": "7077ebca",
   "metadata": {
    "ExecuteTime": {
     "end_time": "2022-07-17T15:07:30.496310Z",
     "start_time": "2022-07-17T15:07:30.478372Z"
    }
   },
   "outputs": [
    {
     "data": {
      "text/html": [
       "<div>\n",
       "<style scoped>\n",
       "    .dataframe tbody tr th:only-of-type {\n",
       "        vertical-align: middle;\n",
       "    }\n",
       "\n",
       "    .dataframe tbody tr th {\n",
       "        vertical-align: top;\n",
       "    }\n",
       "\n",
       "    .dataframe thead th {\n",
       "        text-align: right;\n",
       "    }\n",
       "</style>\n",
       "<table border=\"1\" class=\"dataframe\">\n",
       "  <thead>\n",
       "    <tr style=\"text-align: right;\">\n",
       "      <th></th>\n",
       "      <th>Ref. PCP</th>\n",
       "      <th>Estimated Value (Kz)</th>\n",
       "      <th>dates</th>\n",
       "      <th>EPC</th>\n",
       "      <th>Procedure</th>\n",
       "      <th>Object</th>\n",
       "      <th>state</th>\n",
       "      <th>Url</th>\n",
       "    </tr>\n",
       "  </thead>\n",
       "  <tbody>\n",
       "    <tr>\n",
       "      <th>0</th>\n",
       "      <td>PDE N.º 001/MINDCOM/2022</td>\n",
       "      <td>1.950.000.000,00</td>\n",
       "      <td>DATA INICIO\\n15/07/2022\\nDATA LIMITE\\n25/07/2022</td>\n",
       "      <td>MINISTÉRIO DA INDÚSTRIA E COMÉRCIO</td>\n",
       "      <td>DINÂMICO ELECTRÓNICO</td>\n",
       "      <td>AQUISIÇÃO DE BENS MÓVEIS</td>\n",
       "      <td>PUBLICADO</td>\n",
       "      <td>https://compraspublicas.minfin.gov.ao/ComprasP...</td>\n",
       "    </tr>\n",
       "    <tr>\n",
       "      <th>1</th>\n",
       "      <td>PDE N.º 002/MINDCOM/2022</td>\n",
       "      <td>897.000.000,00</td>\n",
       "      <td>DATA INICIO\\n15/07/2022\\nDATA LIMITE\\n26/07/2022</td>\n",
       "      <td>MINISTÉRIO DA INDÚSTRIA E COMÉRCIO</td>\n",
       "      <td>DINÂMICO ELECTRÓNICO</td>\n",
       "      <td>AQUISIÇÃO DE BENS MÓVEIS</td>\n",
       "      <td>PUBLICADO</td>\n",
       "      <td>https://compraspublicas.minfin.gov.ao/ComprasP...</td>\n",
       "    </tr>\n",
       "    <tr>\n",
       "      <th>2</th>\n",
       "      <td>002PDE/MASFAMU/2022</td>\n",
       "      <td>274.000.000,00</td>\n",
       "      <td>DATA INICIO\\n15/07/2022\\nDATA LIMITE\\n25/07/2022</td>\n",
       "      <td>MINISTÉRIO DA ACÇÃO SOCIAL, FAMÍLIA E PROM. DA...</td>\n",
       "      <td>DINÂMICO ELECTRÓNICO</td>\n",
       "      <td>AQUISIÇÃO DE BENS MÓVEIS</td>\n",
       "      <td>PUBLICADO</td>\n",
       "      <td>https://compraspublicas.minfin.gov.ao/ComprasP...</td>\n",
       "    </tr>\n",
       "    <tr>\n",
       "      <th>3</th>\n",
       "      <td>20223597</td>\n",
       "      <td>1.100.000,00</td>\n",
       "      <td>DATA INICIO\\n12/07/2022\\nDATA LIMITE\\n13/07/2022</td>\n",
       "      <td>DELEGAÇÃO PROVINCIAL DE FINANÇAS DO BIÉ</td>\n",
       "      <td>CONTRATAÇÃO SIMPLIFICADA</td>\n",
       "      <td>AQUISIÇÃO DE SERVIÇOS</td>\n",
       "      <td>PUBLICADO</td>\n",
       "      <td>https://compraspublicas.minfin.gov.ao/ComprasP...</td>\n",
       "    </tr>\n",
       "    <tr>\n",
       "      <th>4</th>\n",
       "      <td>01/PDE/MEP/2022</td>\n",
       "      <td>549.000.000,00</td>\n",
       "      <td>DATA INICIO\\n11/07/2022\\nDATA LIMITE\\n22/07/2022</td>\n",
       "      <td>MINISTÉRIO DA ECONOMIA E PLANEAMENTO</td>\n",
       "      <td>DINÂMICO ELECTRÓNICO</td>\n",
       "      <td>AQUISIÇÃO DE BENS MÓVEIS</td>\n",
       "      <td>RECTIFICADO</td>\n",
       "      <td>https://compraspublicas.minfin.gov.ao/ComprasP...</td>\n",
       "    </tr>\n",
       "  </tbody>\n",
       "</table>\n",
       "</div>"
      ],
      "text/plain": [
       "                   Ref. PCP Estimated Value (Kz)  \\\n",
       "0  PDE N.º 001/MINDCOM/2022     1.950.000.000,00   \n",
       "1  PDE N.º 002/MINDCOM/2022       897.000.000,00   \n",
       "2       002PDE/MASFAMU/2022       274.000.000,00   \n",
       "3                  20223597         1.100.000,00   \n",
       "4           01/PDE/MEP/2022       549.000.000,00   \n",
       "\n",
       "                                              dates  \\\n",
       "0  DATA INICIO\\n15/07/2022\\nDATA LIMITE\\n25/07/2022   \n",
       "1  DATA INICIO\\n15/07/2022\\nDATA LIMITE\\n26/07/2022   \n",
       "2  DATA INICIO\\n15/07/2022\\nDATA LIMITE\\n25/07/2022   \n",
       "3  DATA INICIO\\n12/07/2022\\nDATA LIMITE\\n13/07/2022   \n",
       "4  DATA INICIO\\n11/07/2022\\nDATA LIMITE\\n22/07/2022   \n",
       "\n",
       "                                                 EPC  \\\n",
       "0                 MINISTÉRIO DA INDÚSTRIA E COMÉRCIO   \n",
       "1                 MINISTÉRIO DA INDÚSTRIA E COMÉRCIO   \n",
       "2  MINISTÉRIO DA ACÇÃO SOCIAL, FAMÍLIA E PROM. DA...   \n",
       "3            DELEGAÇÃO PROVINCIAL DE FINANÇAS DO BIÉ   \n",
       "4               MINISTÉRIO DA ECONOMIA E PLANEAMENTO   \n",
       "\n",
       "                  Procedure                    Object        state  \\\n",
       "0      DINÂMICO ELECTRÓNICO  AQUISIÇÃO DE BENS MÓVEIS    PUBLICADO   \n",
       "1      DINÂMICO ELECTRÓNICO  AQUISIÇÃO DE BENS MÓVEIS    PUBLICADO   \n",
       "2      DINÂMICO ELECTRÓNICO  AQUISIÇÃO DE BENS MÓVEIS    PUBLICADO   \n",
       "3  CONTRATAÇÃO SIMPLIFICADA     AQUISIÇÃO DE SERVIÇOS    PUBLICADO   \n",
       "4      DINÂMICO ELECTRÓNICO  AQUISIÇÃO DE BENS MÓVEIS  RECTIFICADO   \n",
       "\n",
       "                                                 Url  \n",
       "0  https://compraspublicas.minfin.gov.ao/ComprasP...  \n",
       "1  https://compraspublicas.minfin.gov.ao/ComprasP...  \n",
       "2  https://compraspublicas.minfin.gov.ao/ComprasP...  \n",
       "3  https://compraspublicas.minfin.gov.ao/ComprasP...  \n",
       "4  https://compraspublicas.minfin.gov.ao/ComprasP...  "
      ]
     },
     "execution_count": 106,
     "metadata": {},
     "output_type": "execute_result"
    }
   ],
   "source": [
    "#temp df\n",
    "temp_df = pd.DataFrame(article_list,columns= columns_list)\n",
    "temp_df[\"Url\"] = SITE_LINK\n",
    "temp_df.head()"
   ]
  },
  {
   "cell_type": "code",
   "execution_count": 107,
   "id": "869e97ba",
   "metadata": {
    "ExecuteTime": {
     "end_time": "2022-07-17T15:07:33.358904Z",
     "start_time": "2022-07-17T15:07:33.347933Z"
    },
    "code_folding": [
     0
    ]
   },
   "outputs": [],
   "source": [
    "#to csv\n",
    "temp_df.to_csv(f'{SITE_NAME} news.csv',index = False)\n",
    "\n",
    "#to json\n",
    "temp_df.to_json(f'{SITE_NAME} news.json')"
   ]
  },
  {
   "cell_type": "code",
   "execution_count": 108,
   "id": "122700fb",
   "metadata": {
    "ExecuteTime": {
     "end_time": "2022-07-17T15:07:37.237633Z",
     "start_time": "2022-07-17T15:07:34.788706Z"
    }
   },
   "outputs": [],
   "source": [
    "driver.quit()"
   ]
  }
 ],
 "metadata": {
  "kernelspec": {
   "display_name": "Python 3 (ipykernel)",
   "language": "python",
   "name": "python3"
  },
  "language_info": {
   "codemirror_mode": {
    "name": "ipython",
    "version": 3
   },
   "file_extension": ".py",
   "mimetype": "text/x-python",
   "name": "python",
   "nbconvert_exporter": "python",
   "pygments_lexer": "ipython3",
   "version": "3.9.7"
  },
  "toc": {
   "base_numbering": 1,
   "nav_menu": {},
   "number_sections": true,
   "sideBar": true,
   "skip_h1_title": false,
   "title_cell": "Table of Contents",
   "title_sidebar": "Contents",
   "toc_cell": false,
   "toc_position": {},
   "toc_section_display": true,
   "toc_window_display": false
  }
 },
 "nbformat": 4,
 "nbformat_minor": 5
}
