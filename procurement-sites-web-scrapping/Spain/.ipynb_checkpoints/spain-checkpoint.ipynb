{
 "cells": [
  {
   "cell_type": "markdown",
   "id": "ff984ad9",
   "metadata": {},
   "source": [
    "URL : https://contrataciondelestado.es/wps/portal/!ut/p/b1/jY7LDoIwFES_xS-4lxYKLHmVQlBQHtpuSBfGYHhsjN9vNW5FZjfJOZkBBdJijFBkrodwATXr53DTj2GZ9fjuivV2UkYRFwS9msZIirhtmTA1dQwg1wCyzXdoZHd5V7E6SxEzweOitRyjs20-_kiA__wzqHWEfIG1ix9g5cNBLNMVpMHcPuiSY5D5FMvwZIbyat9UKbEQbWhAhjCpkXM_u9s62L0AOCO6Ow!!/dl4/d5/L2dJQSEvUUt3QS80SmtFL1o2X0JTODhBQjFBMEdTTTEwQTZFMzY1MjAxR1My/"
   ]
  },
  {
   "cell_type": "code",
   "execution_count": 1,
   "id": "7f0751c0",
   "metadata": {
    "ExecuteTime": {
     "end_time": "2022-08-15T10:31:08.336142Z",
     "start_time": "2022-08-15T10:31:07.355087Z"
    },
    "code_folding": [
     0
    ]
   },
   "outputs": [
    {
     "data": {
      "application/javascript": [
       "IPython.notebook.set_autosave_interval(1000)"
      ]
     },
     "metadata": {},
     "output_type": "display_data"
    },
    {
     "name": "stdout",
     "output_type": "stream",
     "text": [
      "Autosaving every 1 seconds\n"
     ]
    }
   ],
   "source": [
    "#libraries\n",
    "\n",
    "import pandas as pd,requests,re,time,random\n",
    "from dateutil import parser\n",
    "from selenium.webdriver.common.by import By\n",
    "from selenium.webdriver.common.keys import Keys\n",
    "from datetime import datetime\n",
    "from selenium import webdriver\n",
    "from tqdm.auto import tqdm\n",
    "\n",
    "import warnings\n",
    "warnings.filterwarnings(\"ignore\")\n",
    "\n",
    "%autosave 1"
   ]
  },
  {
   "cell_type": "code",
   "execution_count": 2,
   "id": "b86c75d1",
   "metadata": {
    "ExecuteTime": {
     "end_time": "2022-08-15T10:31:19.031072Z",
     "start_time": "2022-08-15T10:31:08.338109Z"
    },
    "code_folding": []
   },
   "outputs": [
    {
     "name": "stderr",
     "output_type": "stream",
     "text": [
      "[WDM] - Downloading: 16.2kB [00:00, ?B/s]                       \n"
     ]
    }
   ],
   "source": [
    "#driver for operation\n",
    "from webdriver_manager.firefox import GeckoDriverManager\n",
    "driver = webdriver.Firefox(executable_path=GeckoDriverManager().install())\n",
    "driver.maximize_window()"
   ]
  },
  {
   "cell_type": "code",
   "execution_count": 3,
   "id": "b250720f",
   "metadata": {
    "ExecuteTime": {
     "end_time": "2022-08-15T10:31:19.046030Z",
     "start_time": "2022-08-15T10:31:19.036057Z"
    },
    "code_folding": [
     0
    ]
   },
   "outputs": [],
   "source": [
    "#site name ,link and domain\n",
    "SITE_NAME='ESP_MOD'\n",
    "\n",
    "DOMAIN = \"https://contrataciondelestado.es/wps/portal/\"\n",
    "\n",
    "SITE_LINK = \"https://contrataciondelestado.es/wps/portal/!ut/p/b1/jY7LDoIwFES_xS-4lxYKLHmVQlBQHtpuSBfGYHhsjN9vNW5FZjfJOZkBBdJijFBkrodwATXr53DTj2GZ9fjuivV2UkYRFwS9msZIirhtmTA1dQwg1wCyzXdoZHd5V7E6SxEzweOitRyjs20-_kiA__wzqHWEfIG1ix9g5cNBLNMVpMHcPuiSY5D5FMvwZIbyat9UKbEQbWhAhjCpkXM_u9s62L0AOCO6Ow!!/dl4/d5/L2dJQSEvUUt3QS80SmtFL1o2X0JTODhBQjFBMEdTTTEwQTZFMzY1MjAxR1My/\""
   ]
  },
  {
   "cell_type": "code",
   "execution_count": 4,
   "id": "c1c5b375",
   "metadata": {
    "ExecuteTime": {
     "end_time": "2022-08-15T10:31:49.487173Z",
     "start_time": "2022-08-15T10:31:19.051016Z"
    }
   },
   "outputs": [],
   "source": [
    "driver.get(SITE_LINK)"
   ]
  },
  {
   "cell_type": "code",
   "execution_count": 5,
   "id": "bdd3db4b",
   "metadata": {
    "ExecuteTime": {
     "end_time": "2022-08-15T10:31:49.518737Z",
     "start_time": "2022-08-15T10:31:49.487173Z"
    }
   },
   "outputs": [
    {
     "data": {
      "text/plain": [
       "6"
      ]
     },
     "execution_count": 5,
     "metadata": {},
     "output_type": "execute_result"
    }
   ],
   "source": [
    "elements = driver.find_elements(By.XPATH,'''//*[@id=\"tabla_liciRecientes\"]/tbody/tr/td[1]/span[2]/a''')\n",
    "len(elements)"
   ]
  },
  {
   "cell_type": "code",
   "execution_count": 6,
   "id": "2a2040d0",
   "metadata": {
    "ExecuteTime": {
     "end_time": "2022-08-15T10:32:34.339567Z",
     "start_time": "2022-08-15T10:31:49.518737Z"
    },
    "code_folding": [],
    "scrolled": true
   },
   "outputs": [],
   "source": [
    "links,F_last_updated_dates = [],[]\n",
    "\n",
    "while True:\n",
    "    try:\n",
    "        elements = driver.find_elements(By.XPATH,'''//*[@id=\"tabla_liciRecientes\"]/tbody/tr/td[1]/span[2]/a''')\n",
    "        \n",
    "        F = driver.find_elements(By.XPATH,'''//span[text()=\"F.Última Actualización:\"]//ancestor::td//span[2]''')\n",
    "        for f in F:\n",
    "            F_last_updated_date = f.text.strip()\n",
    "            F_last_updated_dates.append(F_last_updated_date)\n",
    "\n",
    "        \n",
    "        for e in elements:\n",
    "            \n",
    "            links.append(e.get_attribute(\"href\"))\n",
    "\n",
    "        driver.find_element(By.XPATH,'''//*[@id=\"viewns_Z7_BS88AB1A0GSM10A6E365201G25_:liciRecientes:siguienteLink\"]''').click()\n",
    "    except:\n",
    "        break"
   ]
  },
  {
   "cell_type": "code",
   "execution_count": 7,
   "id": "245ba60f",
   "metadata": {
    "ExecuteTime": {
     "end_time": "2022-08-15T10:32:34.355190Z",
     "start_time": "2022-08-15T10:32:34.339567Z"
    },
    "scrolled": true
   },
   "outputs": [
    {
     "name": "stdout",
     "output_type": "stream",
     "text": [
      "https://contrataciondelestado.es/wps/portal/!ut/p/b1/jY_JCsIwGISfpQ8g-bOaHtMlSaUuEFptLtKDSKXLRXx-a-nV6NwGvo9hkEfNBgPEWyoxBnRBfmxf3b19dtPY9p_uxTVxUqoEKzBuj0GJnApOABtHZqCZAU5TVu_qk3CFASiszsoKczBE_OfDlyhYfJYf01RbAtLRDEiZVZWwczV89QPAj_0z8uEJsgKhiwsQ-HCw03BDg--1josHU1H0BmoSrs8!/dl4/d5/L2dBISEvZ0FBIS9nQSEh/pw/Z7_BS88AB1A0GSM10A6E365201G25/act/id=0/p=ACTION_NAME_PARAM=SourceAction/p=idLicitacion=713251445/521811084815/-/\n",
      "\n",
      "https://contrataciondelestado.es/wps/portal/!ut/p/b1/jY_JCsIwGISfpQ8g-bOaHtMlSaUuEFptLtKDSKXLRXx-a-nV6NwGvo9hkEfNBgPEWyoxBnRBfmxf3b19dtPY9p_uxTVxUqoEKzBuj0GJnApOABtHZqCZAU5TVu_qk3CFASiszsoKczBE_OfDlyhYfJYf01RbAtLRDEiZVZWwczV89QPAj_0z8uEJsgKhiwsQ-HCw03BDg--1josHU1H0BmoSrs8!/dl4/d5/L2dBISEvZ0FBIS9nQSEh/pw/Z7_BS88AB1A0GSM10A6E365201G25/act/id=0/p=ACTION_NAME_PARAM=SourceAction/p=idLicitacion=793783001/521811084815/-/\n",
      "\n",
      "https://contrataciondelestado.es/wps/portal/!ut/p/b1/jY_JCsIwGISfpQ8g-bOaHtMlSaUuEFptLtKDSKXLRXx-a-nV6NwGvo9hkEfNBgPEWyoxBnRBfmxf3b19dtPY9p_uxTVxUqoEKzBuj0GJnApOABtHZqCZAU5TVu_qk3CFASiszsoKczBE_OfDlyhYfJYf01RbAtLRDEiZVZWwczV89QPAj_0z8uEJsgKhiwsQ-HCw03BDg--1josHU1H0BmoSrs8!/dl4/d5/L2dBISEvZ0FBIS9nQSEh/pw/Z7_BS88AB1A0GSM10A6E365201G25/act/id=0/p=ACTION_NAME_PARAM=SourceAction/p=idLicitacion=778995299/521811084815/-/\n",
      "\n",
      "https://contrataciondelestado.es/wps/portal/!ut/p/b1/jY_JCsIwGISfpQ8g-bOaHtMlSaUuEFptLtKDSKXLRXx-a-nV6NwGvo9hkEfNBgPEWyoxBnRBfmxf3b19dtPY9p_uxTVxUqoEKzBuj0GJnApOABtHZqCZAU5TVu_qk3CFASiszsoKczBE_OfDlyhYfJYf01RbAtLRDEiZVZWwczV89QPAj_0z8uEJsgKhiwsQ-HCw03BDg--1josHU1H0BmoSrs8!/dl4/d5/L2dBISEvZ0FBIS9nQSEh/pw/Z7_BS88AB1A0GSM10A6E365201G25/act/id=0/p=ACTION_NAME_PARAM=SourceAction/p=idLicitacion=820413618/521811084815/-/\n",
      "\n",
      "https://contrataciondelestado.es/wps/portal/!ut/p/b1/jY_JCsIwGISfpQ8g-bOaHtMlSaUuEFptLtKDSKXLRXx-a-nV6NwGvo9hkEfNBgPEWyoxBnRBfmxf3b19dtPY9p_uxTVxUqoEKzBuj0GJnApOABtHZqCZAU5TVu_qk3CFASiszsoKczBE_OfDlyhYfJYf01RbAtLRDEiZVZWwczV89QPAj_0z8uEJsgKhiwsQ-HCw03BDg--1josHU1H0BmoSrs8!/dl4/d5/L2dBISEvZ0FBIS9nQSEh/pw/Z7_BS88AB1A0GSM10A6E365201G25/act/id=0/p=ACTION_NAME_PARAM=SourceAction/p=idLicitacion=822639674/521811084816/-/\n",
      "\n",
      "https://contrataciondelestado.es/wps/portal/!ut/p/b1/jY_JCsIwGISfpQ8g-bOaHtMlSaUuEFptLtKDSKXLRXx-a-nV6NwGvo9hkEfNBgPEWyoxBnRBfmxf3b19dtPY9p_uxTVxUqoEKzBuj0GJnApOABtHZqCZAU5TVu_qk3CFASiszsoKczBE_OfDlyhYfJYf01RbAtLRDEiZVZWwczV89QPAj_0z8uEJsgKhiwsQ-HCw03BDg--1josHU1H0BmoSrs8!/dl4/d5/L2dBISEvZ0FBIS9nQSEh/pw/Z7_BS88AB1A0GSM10A6E365201G25/act/id=0/p=ACTION_NAME_PARAM=SourceAction/p=idLicitacion=832393779/521811084816/-/\n",
      "\n",
      "https://contrataciondelestado.es/wps/portal/!ut/p/b1/jY_LDoIwEEW_xQ8wMy20wLI82mLwkVRQujFdGIPhsTF-v0jYgs7uJufkzgUL9ZYgRoEXEoJwBdu7d_Nwr2boXfvNlt9iE4YiJgKV2RMUPPM4o0iUoSNQjwDzEr_aVSducoWYa5kWJWGoKP_Px4UTOPl-dkwSqSmGxkuRFmlZcj1GxWZ_BfjRfwG7XkFnYG3iBKxsOOihu0M9YsHiL5TBGeoYOttKGeVP34nNBxPaC6s!/dl4/d5/L2dBISEvZ0FBIS9nQSEh/pw/Z7_BS88AB1A0GSM10A6E365201G25/act/id=0/p=ACTION_NAME_PARAM=SourceAction/p=idLicitacion=821466096/521811109473/-/\n",
      "\n",
      "https://contrataciondelestado.es/wps/portal/!ut/p/b1/jY_LDoIwEEW_xQ8wMy20wLI82mLwkVRQujFdGIPhsTF-v0jYgs7uJufkzgUL9ZYgRoEXEoJwBdu7d_Nwr2boXfvNlt9iE4YiJgKV2RMUPPM4o0iUoSNQjwDzEr_aVSducoWYa5kWJWGoKP_Px4UTOPl-dkwSqSmGxkuRFmlZcj1GxWZ_BfjRfwG7XkFnYG3iBKxsOOihu0M9YsHiL5TBGeoYOttKGeVP34nNBxPaC6s!/dl4/d5/L2dBISEvZ0FBIS9nQSEh/pw/Z7_BS88AB1A0GSM10A6E365201G25/act/id=0/p=ACTION_NAME_PARAM=SourceAction/p=idLicitacion=829937353/521811109473/-/\n",
      "\n",
      "https://contrataciondelestado.es/wps/portal/!ut/p/b1/jY_LDoIwEEW_xQ8wMy20wLI82mLwkVRQujFdGIPhsTF-v0jYgs7uJufkzgUL9ZYgRoEXEoJwBdu7d_Nwr2boXfvNlt9iE4YiJgKV2RMUPPM4o0iUoSNQjwDzEr_aVSducoWYa5kWJWGoKP_Px4UTOPl-dkwSqSmGxkuRFmlZcj1GxWZ_BfjRfwG7XkFnYG3iBKxsOOihu0M9YsHiL5TBGeoYOttKGeVP34nNBxPaC6s!/dl4/d5/L2dBISEvZ0FBIS9nQSEh/pw/Z7_BS88AB1A0GSM10A6E365201G25/act/id=0/p=ACTION_NAME_PARAM=SourceAction/p=idLicitacion=817267718/521811109473/-/\n",
      "\n",
      "https://contrataciondelestado.es/wps/portal/!ut/p/b1/jY_LDoIwEEW_xQ8wMy20wLI82mLwkVRQujFdGIPhsTF-v0jYgs7uJufkzgUL9ZYgRoEXEoJwBdu7d_Nwr2boXfvNlt9iE4YiJgKV2RMUPPM4o0iUoSNQjwDzEr_aVSducoWYa5kWJWGoKP_Px4UTOPl-dkwSqSmGxkuRFmlZcj1GxWZ_BfjRfwG7XkFnYG3iBKxsOOihu0M9YsHiL5TBGeoYOttKGeVP34nNBxPaC6s!/dl4/d5/L2dBISEvZ0FBIS9nQSEh/pw/Z7_BS88AB1A0GSM10A6E365201G25/act/id=0/p=ACTION_NAME_PARAM=SourceAction/p=idLicitacion=830731821/521811109473/-/\n",
      "\n",
      "https://contrataciondelestado.es/wps/portal/!ut/p/b1/jY_LDoIwEEW_xQ8wMy20wLI82mLwkVRQujFdGIPhsTF-v0jYgs7uJufkzgUL9ZYgRoEXEoJwBdu7d_Nwr2boXfvNlt9iE4YiJgKV2RMUPPM4o0iUoSNQjwDzEr_aVSducoWYa5kWJWGoKP_Px4UTOPl-dkwSqSmGxkuRFmlZcj1GxWZ_BfjRfwG7XkFnYG3iBKxsOOihu0M9YsHiL5TBGeoYOttKGeVP34nNBxPaC6s!/dl4/d5/L2dBISEvZ0FBIS9nQSEh/pw/Z7_BS88AB1A0GSM10A6E365201G25/act/id=0/p=ACTION_NAME_PARAM=SourceAction/p=idLicitacion=759558665/521811109474/-/\n",
      "\n",
      "https://contrataciondelestado.es/wps/portal/!ut/p/b1/jY_LDoIwEEW_xQ8wMy20wLI82mLwkVRQujFdGIPhsTF-v0jYgs7uJufkzgUL9ZYgRoEXEoJwBdu7d_Nwr2boXfvNlt9iE4YiJgKV2RMUPPM4o0iUoSNQjwDzEr_aVSducoWYa5kWJWGoKP_Px4UTOPl-dkwSqSmGxkuRFmlZcj1GxWZ_BfjRfwG7XkFnYG3iBKxsOOihu0M9YsHiL5TBGeoYOttKGeVP34nNBxPaC6s!/dl4/d5/L2dBISEvZ0FBIS9nQSEh/pw/Z7_BS88AB1A0GSM10A6E365201G25/act/id=0/p=ACTION_NAME_PARAM=SourceAction/p=idLicitacion=650127812/521811109474/-/\n",
      "\n",
      "https://contrataciondelestado.es/wps/portal/!ut/p/b1/jY_LDoIwEEW_xQ8wMy20wLIUWjD4SCoo3ZgujMHw2Bi_XyRsQWd3k3Ny54KFeksQo8ALCUG4gu3du3m4VzP0rv1my2-xCUMRE4Ha7AkKnnqcUSTa0BGoR4B50q921YmbXCPmmUqKkjDUlP_n48IJnHw_PUqpMoqh8RKkRVKWPBujZrO_Avzov4Bdr6AzsDZxAlY2HLKhu0M9YsHiL5TBGWoJnW2VivKn78TmA2U7BDY!/dl4/d5/L2dBISEvZ0FBIS9nQSEh/pw/Z7_BS88AB1A0GSM10A6E365201G25/act/id=0/p=ACTION_NAME_PARAM=SourceAction/p=idLicitacion=832011998/521811110607/-/\n",
      "\n",
      "https://contrataciondelestado.es/wps/portal/!ut/p/b1/jY_LDoIwEEW_xQ8wMy20wLIUWjD4SCoo3ZgujMHw2Bi_XyRsQWd3k3Ny54KFeksQo8ALCUG4gu3du3m4VzP0rv1my2-xCUMRE4Ha7AkKnnqcUSTa0BGoR4B50q921YmbXCPmmUqKkjDUlP_n48IJnHw_PUqpMoqh8RKkRVKWPBujZrO_Avzov4Bdr6AzsDZxAlY2HLKhu0M9YsHiL5TBGWoJnW2VivKn78TmA2U7BDY!/dl4/d5/L2dBISEvZ0FBIS9nQSEh/pw/Z7_BS88AB1A0GSM10A6E365201G25/act/id=0/p=ACTION_NAME_PARAM=SourceAction/p=idLicitacion=831976070/521811110607/-/\n",
      "\n",
      "https://contrataciondelestado.es/wps/portal/!ut/p/b1/jY_LDoIwEEW_xQ8wMy20wLIUWjD4SCoo3ZgujMHw2Bi_XyRsQWd3k3Ny54KFeksQo8ALCUG4gu3du3m4VzP0rv1my2-xCUMRE4Ha7AkKnnqcUSTa0BGoR4B50q921YmbXCPmmUqKkjDUlP_n48IJnHw_PUqpMoqh8RKkRVKWPBujZrO_Avzov4Bdr6AzsDZxAlY2HLKhu0M9YsHiL5TBGWoJnW2VivKn78TmA2U7BDY!/dl4/d5/L2dBISEvZ0FBIS9nQSEh/pw/Z7_BS88AB1A0GSM10A6E365201G25/act/id=0/p=ACTION_NAME_PARAM=SourceAction/p=idLicitacion=831152805/521811110607/-/\n",
      "\n",
      "https://contrataciondelestado.es/wps/portal/!ut/p/b1/jY_LDoIwEEW_xQ8wMy20wLIUWjD4SCoo3ZgujMHw2Bi_XyRsQWd3k3Ny54KFeksQo8ALCUG4gu3du3m4VzP0rv1my2-xCUMRE4Ha7AkKnnqcUSTa0BGoR4B50q921YmbXCPmmUqKkjDUlP_n48IJnHw_PUqpMoqh8RKkRVKWPBujZrO_Avzov4Bdr6AzsDZxAlY2HLKhu0M9YsHiL5TBGWoJnW2VivKn78TmA2U7BDY!/dl4/d5/L2dBISEvZ0FBIS9nQSEh/pw/Z7_BS88AB1A0GSM10A6E365201G25/act/id=0/p=ACTION_NAME_PARAM=SourceAction/p=idLicitacion=832391393/521811110607/-/\n",
      "\n",
      "https://contrataciondelestado.es/wps/portal/!ut/p/b1/jY_LDoIwEEW_xQ8wMy20wLIUWjD4SCoo3ZgujMHw2Bi_XyRsQWd3k3Ny54KFeksQo8ALCUG4gu3du3m4VzP0rv1my2-xCUMRE4Ha7AkKnnqcUSTa0BGoR4B50q921YmbXCPmmUqKkjDUlP_n48IJnHw_PUqpMoqh8RKkRVKWPBujZrO_Avzov4Bdr6AzsDZxAlY2HLKhu0M9YsHiL5TBGWoJnW2VivKn78TmA2U7BDY!/dl4/d5/L2dBISEvZ0FBIS9nQSEh/pw/Z7_BS88AB1A0GSM10A6E365201G25/act/id=0/p=ACTION_NAME_PARAM=SourceAction/p=idLicitacion=832391392/521811110607/-/\n",
      "\n",
      "https://contrataciondelestado.es/wps/portal/!ut/p/b1/jY_LDoIwEEW_xQ8wMy20wLIUWjD4SCoo3ZgujMHw2Bi_XyRsQWd3k3Ny54KFeksQo8ALCUG4gu3du3m4VzP0rv1my2-xCUMRE4Ha7AkKnnqcUSTa0BGoR4B50q921YmbXCPmmUqKkjDUlP_n48IJnHw_PUqpMoqh8RKkRVKWPBujZrO_Avzov4Bdr6AzsDZxAlY2HLKhu0M9YsHiL5TBGWoJnW2VivKn78TmA2U7BDY!/dl4/d5/L2dBISEvZ0FBIS9nQSEh/pw/Z7_BS88AB1A0GSM10A6E365201G25/act/id=0/p=ACTION_NAME_PARAM=SourceAction/p=idLicitacion=771560960/521811110607/-/\n",
      "\n",
      "https://contrataciondelestado.es/wps/portal/!ut/p/b1/jY_LDoIwEEW_xQ8wMy20lGV5tMXgI6mgdGNYGIPhsTF-v0jYgs7uJufkzgUH1ZYghoEnCEG4guvrd_OoX83Q1-03O36LrBAyIhK13ROUPPU4o0i0pSNQjQDzYr_clSduM42YGZXkBWGoKf_Px4WTOPl-eoxjZSgK6yVI86QouBmjZrO_Avzov4Bbr6AzsDZxAlY2HMzQ3aEasWDxF8rgDFUCnWuVCrOnX8vNB6WRyVM!/dl4/d5/L2dBISEvZ0FBIS9nQSEh/pw/Z7_BS88AB1A0GSM10A6E365201G25/act/id=0/p=ACTION_NAME_PARAM=SourceAction/p=idLicitacion=764869251/521811111475/-/\n",
      "\n",
      "https://contrataciondelestado.es/wps/portal/!ut/p/b1/jY_LDoIwEEW_xQ8wMy20lGV5tMXgI6mgdGNYGIPhsTF-v0jYgs7uJufkzgUH1ZYghoEnCEG4guvrd_OoX83Q1-03O36LrBAyIhK13ROUPPU4o0i0pSNQjQDzYr_clSduM42YGZXkBWGoKf_Px4WTOPl-eoxjZSgK6yVI86QouBmjZrO_Avzov4Bbr6AzsDZxAlY2HMzQ3aEasWDxF8rgDFUCnWuVCrOnX8vNB6WRyVM!/dl4/d5/L2dBISEvZ0FBIS9nQSEh/pw/Z7_BS88AB1A0GSM10A6E365201G25/act/id=0/p=ACTION_NAME_PARAM=SourceAction/p=idLicitacion=819394404/521811111475/-/\n",
      "\n",
      "https://contrataciondelestado.es/wps/portal/!ut/p/b1/jY_LDoIwEEW_xQ8wMy20lGV5tMXgI6mgdGNYGIPhsTF-v0jYgs7uJufkzgUH1ZYghoEnCEG4guvrd_OoX83Q1-03O36LrBAyIhK13ROUPPU4o0i0pSNQjQDzYr_clSduM42YGZXkBWGoKf_Px4WTOPl-eoxjZSgK6yVI86QouBmjZrO_Avzov4Bbr6AzsDZxAlY2HMzQ3aEasWDxF8rgDFUCnWuVCrOnX8vNB6WRyVM!/dl4/d5/L2dBISEvZ0FBIS9nQSEh/pw/Z7_BS88AB1A0GSM10A6E365201G25/act/id=0/p=ACTION_NAME_PARAM=SourceAction/p=idLicitacion=819384610/521811111476/-/\n",
      "\n",
      "https://contrataciondelestado.es/wps/portal/!ut/p/b1/jY_LDoIwEEW_xQ8wMy20lGV5tMXgI6mgdGNYGIPhsTF-v0jYgs7uJufkzgUH1ZYghoEnCEG4guvrd_OoX83Q1-03O36LrBAyIhK13ROUPPU4o0i0pSNQjQDzYr_clSduM42YGZXkBWGoKf_Px4WTOPl-eoxjZSgK6yVI86QouBmjZrO_Avzov4Bbr6AzsDZxAlY2HMzQ3aEasWDxF8rgDFUCnWuVCrOnX8vNB6WRyVM!/dl4/d5/L2dBISEvZ0FBIS9nQSEh/pw/Z7_BS88AB1A0GSM10A6E365201G25/act/id=0/p=ACTION_NAME_PARAM=SourceAction/p=idLicitacion=816172376/521811111476/-/\n",
      "\n",
      "https://contrataciondelestado.es/wps/portal/!ut/p/b1/jY_LDoIwEEW_xQ8wMy20lGV5tMXgI6mgdGNYGIPhsTF-v0jYgs7uJufkzgUH1ZYghoEnCEG4guvrd_OoX83Q1-03O36LrBAyIhK13ROUPPU4o0i0pSNQjQDzYr_clSduM42YGZXkBWGoKf_Px4WTOPl-eoxjZSgK6yVI86QouBmjZrO_Avzov4Bbr6AzsDZxAlY2HMzQ3aEasWDxF8rgDFUCnWuVCrOnX8vNB6WRyVM!/dl4/d5/L2dBISEvZ0FBIS9nQSEh/pw/Z7_BS88AB1A0GSM10A6E365201G25/act/id=0/p=ACTION_NAME_PARAM=SourceAction/p=idLicitacion=760753287/521811111476/-/\n",
      "\n",
      "https://contrataciondelestado.es/wps/portal/!ut/p/b1/jY_LDoIwEEW_xQ8wMy20lGV5tMXgI6mgdGNYGIPhsTF-v0jYgs7uJufkzgUH1ZYghoEnCEG4guvrd_OoX83Q1-03O36LrBAyIhK13ROUPPU4o0i0pSNQjQDzYr_clSduM42YGZXkBWGoKf_Px4WTOPl-eoxjZSgK6yVI86QouBmjZrO_Avzov4Bbr6AzsDZxAlY2HMzQ3aEasWDxF8rgDFUCnWuVCrOnX8vNB6WRyVM!/dl4/d5/L2dBISEvZ0FBIS9nQSEh/pw/Z7_BS88AB1A0GSM10A6E365201G25/act/id=0/p=ACTION_NAME_PARAM=SourceAction/p=idLicitacion=829363503/521811111476/-/\n",
      "\n",
      "https://contrataciondelestado.es/wps/portal/!ut/p/b1/jY_LDoIwEEW_xQ8wMy20lGV5tGDwkVRQujFdGIPhsTF-v0jYgs7uJufkzgUL9ZYghoEnCEG4gu3du3m4VzP0rv1my2-REUJGRKI2e4KSpx5nFIk2dATqEWBe7Fe76sRNrhHzTCVFSRhqyv_zceEkTr6fHuNYZRSF8RKkRVKWPBujZrO_Avzov4Bdr6AzsDZxAlY2HLKhu0M9YsHiL5TBGeoUOtsqFeZP38nNB9Nwxs4!/dl4/d5/L2dBISEvZ0FBIS9nQSEh/pw/Z7_BS88AB1A0GSM10A6E365201G25/act/id=0/p=ACTION_NAME_PARAM=SourceAction/p=idLicitacion=829335433/521811113558/-/\n",
      "\n",
      "https://contrataciondelestado.es/wps/portal/!ut/p/b1/jY_LDoIwEEW_xQ8wMy20lGV5tGDwkVRQujFdGIPhsTF-v0jYgs7uJufkzgUL9ZYghoEnCEG4gu3du3m4VzP0rv1my2-REUJGRKI2e4KSpx5nFIk2dATqEWBe7Fe76sRNrhHzTCVFSRhqyv_zceEkTr6fHuNYZRSF8RKkRVKWPBujZrO_Avzov4Bdr6AzsDZxAlY2HLKhu0M9YsHiL5TBGeoUOtsqFeZP38nNB9Nwxs4!/dl4/d5/L2dBISEvZ0FBIS9nQSEh/pw/Z7_BS88AB1A0GSM10A6E365201G25/act/id=0/p=ACTION_NAME_PARAM=SourceAction/p=idLicitacion=803042009/521811113558/-/\n",
      "\n",
      "https://contrataciondelestado.es/wps/portal/!ut/p/b1/jY_LDoIwEEW_xQ8wMy20lGV5tGDwkVRQujFdGIPhsTF-v0jYgs7uJufkzgUL9ZYghoEnCEG4gu3du3m4VzP0rv1my2-REUJGRKI2e4KSpx5nFIk2dATqEWBe7Fe76sRNrhHzTCVFSRhqyv_zceEkTr6fHuNYZRSF8RKkRVKWPBujZrO_Avzov4Bdr6AzsDZxAlY2HLKhu0M9YsHiL5TBGeoUOtsqFeZP38nNB9Nwxs4!/dl4/d5/L2dBISEvZ0FBIS9nQSEh/pw/Z7_BS88AB1A0GSM10A6E365201G25/act/id=0/p=ACTION_NAME_PARAM=SourceAction/p=idLicitacion=802216252/521811113558/-/\n",
      "\n",
      "https://contrataciondelestado.es/wps/portal/!ut/p/b1/jY_LDoIwEEW_xQ8wMy20lGV5tGDwkVRQujFdGIPhsTF-v0jYgs7uJufkzgUL9ZYghoEnCEG4gu3du3m4VzP0rv1my2-REUJGRKI2e4KSpx5nFIk2dATqEWBe7Fe76sRNrhHzTCVFSRhqyv_zceEkTr6fHuNYZRSF8RKkRVKWPBujZrO_Avzov4Bdr6AzsDZxAlY2HLKhu0M9YsHiL5TBGeoUOtsqFeZP38nNB9Nwxs4!/dl4/d5/L2dBISEvZ0FBIS9nQSEh/pw/Z7_BS88AB1A0GSM10A6E365201G25/act/id=0/p=ACTION_NAME_PARAM=SourceAction/p=idLicitacion=832383209/521811113558/-/\n",
      "\n",
      "https://contrataciondelestado.es/wps/portal/!ut/p/b1/jY_LDoIwEEW_xQ8wMy20lGV5tGDwkVRQujFdGIPhsTF-v0jYgs7uJufkzgUL9ZYghoEnCEG4gu3du3m4VzP0rv1my2-REUJGRKI2e4KSpx5nFIk2dATqEWBe7Fe76sRNrhHzTCVFSRhqyv_zceEkTr6fHuNYZRSF8RKkRVKWPBujZrO_Avzov4Bdr6AzsDZxAlY2HLKhu0M9YsHiL5TBGeoUOtsqFeZP38nNB9Nwxs4!/dl4/d5/L2dBISEvZ0FBIS9nQSEh/pw/Z7_BS88AB1A0GSM10A6E365201G25/act/id=0/p=ACTION_NAME_PARAM=SourceAction/p=idLicitacion=700135907/521811113558/-/\n",
      "\n",
      "https://contrataciondelestado.es/wps/portal/!ut/p/b1/jY_LDoIwEEW_xQ8wMy20lGV5tGDwkVRQujFdGIPhsTF-v0jYgs7uJufkzgUL9ZYghoEnCEG4gu3du3m4VzP0rv1my2-REUJGRKI2e4KSpx5nFIk2dATqEWBe7Fe76sRNrhHzTCVFSRhqyv_zceEkTr6fHuNYZRSF8RKkRVKWPBujZrO_Avzov4Bdr6AzsDZxAlY2HLKhu0M9YsHiL5TBGeoUOtsqFeZP38nNB9Nwxs4!/dl4/d5/L2dBISEvZ0FBIS9nQSEh/pw/Z7_BS88AB1A0GSM10A6E365201G25/act/id=0/p=ACTION_NAME_PARAM=SourceAction/p=idLicitacion=828204642/521811113558/-/\n",
      "\n",
      "https://contrataciondelestado.es/wps/portal/!ut/p/b1/jY_LDoIwEEW_xQ8wMy20lGV5tGDwkVRQujEsjMHw2Bi_XyRsqc7uJufkzgUL9ZYghoEnCEG4gh2ad_toXu04NN03W36LjBAyIhK12ROUPPU4o0i0oRNQTwDzYr_aVSduco2YZyopSsJQU_6fjysncfb99BjHKqMojJcgLZKy5NkUNVt8B_Cj_wLWXUEXwDVxBhwbDtnY36GesGD1F8rgDLWC3nZKhfnTb-TmAwhVp7I!/dl4/d5/L2dBISEvZ0FBIS9nQSEh/pw/Z7_BS88AB1A0GSM10A6E365201G25/act/id=0/p=ACTION_NAME_PARAM=SourceAction/p=idLicitacion=819924482/521811115145/-/\n",
      "\n",
      "https://contrataciondelestado.es/wps/portal/!ut/p/b1/jY_LDoIwEEW_xQ8wMy20lGV5tGDwkVRQujEsjMHw2Bi_XyRsqc7uJufkzgUL9ZYghoEnCEG4gh2ad_toXu04NN03W36LjBAyIhK12ROUPPU4o0i0oRNQTwDzYr_aVSduco2YZyopSsJQU_6fjysncfb99BjHKqMojJcgLZKy5NkUNVt8B_Cj_wLWXUEXwDVxBhwbDtnY36GesGD1F8rgDLWC3nZKhfnTb-TmAwhVp7I!/dl4/d5/L2dBISEvZ0FBIS9nQSEh/pw/Z7_BS88AB1A0GSM10A6E365201G25/act/id=0/p=ACTION_NAME_PARAM=SourceAction/p=idLicitacion=777672809/521811115145/-/\n",
      "\n",
      "https://contrataciondelestado.es/wps/portal/!ut/p/b1/jY_LDoIwEEW_xQ8wMy20lGV5tGDwkVRQujEsjMHw2Bi_XyRsqc7uJufkzgUL9ZYghoEnCEG4gh2ad_toXu04NN03W36LjBAyIhK12ROUPPU4o0i0oRNQTwDzYr_aVSduco2YZyopSsJQU_6fjysncfb99BjHKqMojJcgLZKy5NkUNVt8B_Cj_wLWXUEXwDVxBhwbDtnY36GesGD1F8rgDLWC3nZKhfnTb-TmAwhVp7I!/dl4/d5/L2dBISEvZ0FBIS9nQSEh/pw/Z7_BS88AB1A0GSM10A6E365201G25/act/id=0/p=ACTION_NAME_PARAM=SourceAction/p=idLicitacion=737520644/521811115145/-/\n",
      "\n",
      "https://contrataciondelestado.es/wps/portal/!ut/p/b1/jY_LDoIwEEW_xQ8wMy20lGV5tGDwkVRQujEsjMHw2Bi_XyRsqc7uJufkzgUL9ZYghoEnCEG4gh2ad_toXu04NN03W36LjBAyIhK12ROUPPU4o0i0oRNQTwDzYr_aVSduco2YZyopSsJQU_6fjysncfb99BjHKqMojJcgLZKy5NkUNVt8B_Cj_wLWXUEXwDVxBhwbDtnY36GesGD1F8rgDLWC3nZKhfnTb-TmAwhVp7I!/dl4/d5/L2dBISEvZ0FBIS9nQSEh/pw/Z7_BS88AB1A0GSM10A6E365201G25/act/id=0/p=ACTION_NAME_PARAM=SourceAction/p=idLicitacion=712990447/521811115145/-/\n",
      "\n",
      "https://contrataciondelestado.es/wps/portal/!ut/p/b1/jY_LDoIwEEW_xQ8wMy20lGV5tGDwkVRQujEsjMHw2Bi_XyRsqc7uJufkzgUL9ZYghoEnCEG4gh2ad_toXu04NN03W36LjBAyIhK12ROUPPU4o0i0oRNQTwDzYr_aVSduco2YZyopSsJQU_6fjysncfb99BjHKqMojJcgLZKy5NkUNVt8B_Cj_wLWXUEXwDVxBhwbDtnY36GesGD1F8rgDLWC3nZKhfnTb-TmAwhVp7I!/dl4/d5/L2dBISEvZ0FBIS9nQSEh/pw/Z7_BS88AB1A0GSM10A6E365201G25/act/id=0/p=ACTION_NAME_PARAM=SourceAction/p=idLicitacion=829838283/521811115145/-/\n",
      "\n",
      "https://contrataciondelestado.es/wps/portal/!ut/p/b1/jY_LDoIwEEW_xQ8wMy20lGV5tGDwkVRQujEsjMHw2Bi_XyRsqc7uJufkzgUL9ZYghoEnCEG4gh2ad_toXu04NN03W36LjBAyIhK12ROUPPU4o0i0oRNQTwDzYr_aVSduco2YZyopSsJQU_6fjysncfb99BjHKqMojJcgLZKy5NkUNVt8B_Cj_wLWXUEXwDVxBhwbDtnY36GesGD1F8rgDLWC3nZKhfnTb-TmAwhVp7I!/dl4/d5/L2dBISEvZ0FBIS9nQSEh/pw/Z7_BS88AB1A0GSM10A6E365201G25/act/id=0/p=ACTION_NAME_PARAM=SourceAction/p=idLicitacion=809402758/521811115145/-/\n",
      "\n",
      "https://contrataciondelestado.es/wps/portal/!ut/p/b1/jY_LDoIwEEW_xQ8wMy20wLI82mLwkVRQujFdGIPhsTF-v0jYgs7uJufkzgUL9ZYgRoEXEoJwBdu7d_Nwr2boXfvNlt9iE4YiJgKV2RMUPPM4o0iUoSNQjwDzEr_aVSducoWYa5kWJWGoKP_Px4UTOPl-dkwSqSmGxkuRFmlZcj1GxWZ_BfjRfwG7XkFnYG3iBKxsOOihu0M9YsHiL5TBGWoFnW2ljPKn78TmA360qC8!/dl4/d5/L2dBISEvZ0FBIS9nQSEh/pw/Z7_BS88AB1A0GSM10A6E365201G25/act/id=0/p=ACTION_NAME_PARAM=SourceAction/p=idLicitacion=809659221/521811117226/-/\n",
      "\n",
      "https://contrataciondelestado.es/wps/portal/!ut/p/b1/jY_LDoIwEEW_xQ8wMy20wLI82mLwkVRQujFdGIPhsTF-v0jYgs7uJufkzgUL9ZYgRoEXEoJwBdu7d_Nwr2boXfvNlt9iE4YiJgKV2RMUPPM4o0iUoSNQjwDzEr_aVSducoWYa5kWJWGoKP_Px4UTOPl-dkwSqSmGxkuRFmlZcj1GxWZ_BfjRfwG7XkFnYG3iBKxsOOihu0M9YsHiL5TBGWoFnW2ljPKn78TmA360qC8!/dl4/d5/L2dBISEvZ0FBIS9nQSEh/pw/Z7_BS88AB1A0GSM10A6E365201G25/act/id=0/p=ACTION_NAME_PARAM=SourceAction/p=idLicitacion=809903883/521811117226/-/\n",
      "\n",
      "https://contrataciondelestado.es/wps/portal/!ut/p/b1/jY_LDoIwEEW_xQ8wMy20wLI82mLwkVRQujFdGIPhsTF-v0jYgs7uJufkzgUL9ZYgRoEXEoJwBdu7d_Nwr2boXfvNlt9iE4YiJgKV2RMUPPM4o0iUoSNQjwDzEr_aVSducoWYa5kWJWGoKP_Px4UTOPl-dkwSqSmGxkuRFmlZcj1GxWZ_BfjRfwG7XkFnYG3iBKxsOOihu0M9YsHiL5TBGWoFnW2ljPKn78TmA360qC8!/dl4/d5/L2dBISEvZ0FBIS9nQSEh/pw/Z7_BS88AB1A0GSM10A6E365201G25/act/id=0/p=ACTION_NAME_PARAM=SourceAction/p=idLicitacion=809989085/521811117226/-/\n",
      "\n",
      "https://contrataciondelestado.es/wps/portal/!ut/p/b1/jY_LDoIwEEW_xQ8wMy20wLI82mLwkVRQujFdGIPhsTF-v0jYgs7uJufkzgUL9ZYgRoEXEoJwBdu7d_Nwr2boXfvNlt9iE4YiJgKV2RMUPPM4o0iUoSNQjwDzEr_aVSducoWYa5kWJWGoKP_Px4UTOPl-dkwSqSmGxkuRFmlZcj1GxWZ_BfjRfwG7XkFnYG3iBKxsOOihu0M9YsHiL5TBGWoFnW2ljPKn78TmA360qC8!/dl4/d5/L2dBISEvZ0FBIS9nQSEh/pw/Z7_BS88AB1A0GSM10A6E365201G25/act/id=0/p=ACTION_NAME_PARAM=SourceAction/p=idLicitacion=825467236/521811117226/-/\n",
      "\n",
      "https://contrataciondelestado.es/wps/portal/!ut/p/b1/jY_LDoIwEEW_xQ8wMy20wLI82mLwkVRQujFdGIPhsTF-v0jYgs7uJufkzgUL9ZYgRoEXEoJwBdu7d_Nwr2boXfvNlt9iE4YiJgKV2RMUPPM4o0iUoSNQjwDzEr_aVSducoWYa5kWJWGoKP_Px4UTOPl-dkwSqSmGxkuRFmlZcj1GxWZ_BfjRfwG7XkFnYG3iBKxsOOihu0M9YsHiL5TBGWoFnW2ljPKn78TmA360qC8!/dl4/d5/L2dBISEvZ0FBIS9nQSEh/pw/Z7_BS88AB1A0GSM10A6E365201G25/act/id=0/p=ACTION_NAME_PARAM=SourceAction/p=idLicitacion=832233988/521811117226/-/\n",
      "\n",
      "https://contrataciondelestado.es/wps/portal/!ut/p/b1/jY_LDoIwEEW_xQ8wMy20wLI82mLwkVRQujFdGIPhsTF-v0jYgs7uJufkzgUL9ZYgRoEXEoJwBdu7d_Nwr2boXfvNlt9iE4YiJgKV2RMUPPM4o0iUoSNQjwDzEr_aVSducoWYa5kWJWGoKP_Px4UTOPl-dkwSqSmGxkuRFmlZcj1GxWZ_BfjRfwG7XkFnYG3iBKxsOOihu0M9YsHiL5TBGWoFnW2ljPKn78TmA360qC8!/dl4/d5/L2dBISEvZ0FBIS9nQSEh/pw/Z7_BS88AB1A0GSM10A6E365201G25/act/id=0/p=ACTION_NAME_PARAM=SourceAction/p=idLicitacion=832158449/521811117226/-/\n",
      "\n",
      "https://contrataciondelestado.es/wps/portal/!ut/p/b1/jY_LDoIwEEW_xQ8wMy20wLI82mLwkVRQujFdGIPhsTF-v0jYgs7uJufkzgUL9ZYgRoEXEoJwBdu7d_Nwr2boXfvNlt9iE4YiJgKV2RMUPPM4o0iUoSNQjwDzEr_aVSducoWYa5kWJWGoKP_Px4UTOPl-dkwSqSmGxkuRFmlZcj1GxWZ_BfjRfwG7XkFnYG3iBKxsOOihu0M9YsHiL5TBGWoNnW2ljPKn78TmA4gAPHk!/dl4/d5/L2dBISEvZ0FBIS9nQSEh/pw/Z7_BS88AB1A0GSM10A6E365201G25/act/id=0/p=ACTION_NAME_PARAM=SourceAction/p=idLicitacion=768582342/521811118245/-/\n",
      "\n",
      "https://contrataciondelestado.es/wps/portal/!ut/p/b1/jY_LDoIwEEW_xQ8wMy20wLI82mLwkVRQujFdGIPhsTF-v0jYgs7uJufkzgUL9ZYgRoEXEoJwBdu7d_Nwr2boXfvNlt9iE4YiJgKV2RMUPPM4o0iUoSNQjwDzEr_aVSducoWYa5kWJWGoKP_Px4UTOPl-dkwSqSmGxkuRFmlZcj1GxWZ_BfjRfwG7XkFnYG3iBKxsOOihu0M9YsHiL5TBGWoNnW2ljPKn78TmA4gAPHk!/dl4/d5/L2dBISEvZ0FBIS9nQSEh/pw/Z7_BS88AB1A0GSM10A6E365201G25/act/id=0/p=ACTION_NAME_PARAM=SourceAction/p=idLicitacion=832236093/521811118246/-/\n",
      "\n",
      "https://contrataciondelestado.es/wps/portal/!ut/p/b1/jY_LDoIwEEW_xQ8wMy20wLI82mLwkVRQujFdGIPhsTF-v0jYgs7uJufkzgUL9ZYgRoEXEoJwBdu7d_Nwr2boXfvNlt9iE4YiJgKV2RMUPPM4o0iUoSNQjwDzEr_aVSducoWYa5kWJWGoKP_Px4UTOPl-dkwSqSmGxkuRFmlZcj1GxWZ_BfjRfwG7XkFnYG3iBKxsOOihu0M9YsHiL5TBGWoNnW2ljPKn78TmA4gAPHk!/dl4/d5/L2dBISEvZ0FBIS9nQSEh/pw/Z7_BS88AB1A0GSM10A6E365201G25/act/id=0/p=ACTION_NAME_PARAM=SourceAction/p=idLicitacion=821736869/521811118246/-/\n",
      "\n",
      "https://contrataciondelestado.es/wps/portal/!ut/p/b1/jY_LDoIwEEW_xQ8wMy20wLI82mLwkVRQujFdGIPhsTF-v0jYgs7uJufkzgUL9ZYgRoEXEoJwBdu7d_Nwr2boXfvNlt9iE4YiJgKV2RMUPPM4o0iUoSNQjwDzEr_aVSducoWYa5kWJWGoKP_Px4UTOPl-dkwSqSmGxkuRFmlZcj1GxWZ_BfjRfwG7XkFnYG3iBKxsOOihu0M9YsHiL5TBGWoNnW2ljPKn78TmA4gAPHk!/dl4/d5/L2dBISEvZ0FBIS9nQSEh/pw/Z7_BS88AB1A0GSM10A6E365201G25/act/id=0/p=ACTION_NAME_PARAM=SourceAction/p=idLicitacion=832106648/521811118246/-/\n",
      "\n",
      "https://contrataciondelestado.es/wps/portal/!ut/p/b1/jY_LDoIwEEW_xQ8wMy20wLI82mLwkVRQujFdGIPhsTF-v0jYgs7uJufkzgUL9ZYgRoEXEoJwBdu7d_Nwr2boXfvNlt9iE4YiJgKV2RMUPPM4o0iUoSNQjwDzEr_aVSducoWYa5kWJWGoKP_Px4UTOPl-dkwSqSmGxkuRFmlZcj1GxWZ_BfjRfwG7XkFnYG3iBKxsOOihu0M9YsHiL5TBGWoNnW2ljPKn78TmA4gAPHk!/dl4/d5/L2dBISEvZ0FBIS9nQSEh/pw/Z7_BS88AB1A0GSM10A6E365201G25/act/id=0/p=ACTION_NAME_PARAM=SourceAction/p=idLicitacion=696739353/521811118246/-/\n",
      "\n",
      "https://contrataciondelestado.es/wps/portal/!ut/p/b1/jY_LDoIwEEW_xQ8wMy20wLI82mLwkVRQujFdGIPhsTF-v0jYgs7uJufkzgUL9ZYgRoEXEoJwBdu7d_Nwr2boXfvNlt9iE4YiJgKV2RMUPPM4o0iUoSNQjwDzEr_aVSducoWYa5kWJWGoKP_Px4UTOPl-dkwSqSmGxkuRFmlZcj1GxWZ_BfjRfwG7XkFnYG3iBKxsOOihu0M9YsHiL5TBGWoNnW2ljPKn78TmA4gAPHk!/dl4/d5/L2dBISEvZ0FBIS9nQSEh/pw/Z7_BS88AB1A0GSM10A6E365201G25/act/id=0/p=ACTION_NAME_PARAM=SourceAction/p=idLicitacion=831829830/521811118246/-/\n",
      "\n",
      "https://contrataciondelestado.es/wps/portal/!ut/p/b1/jY_LDoIwEEW_xQ8wMy20wLI82mLwkVRQujFdGIPhsTF-v0jYgs7uJufkzgUL9ZYgRoEXEoJwBdu7d_Nwr2boXfvNlt9iE4YiJgKV2RMUPPM4o0iUoSNQjwDzEr_aVSducoWYa5kWJWGoKP_Px4UTOPl-dkwSqSmGxkuRFmlZcj1GxWZ_BfjRfwG7XkFnYG3iBKxsOOihu0M9YsHiL5TBGeocOttKGeVP34nNB_7hM-Q!/dl4/d5/L2dBISEvZ0FBIS9nQSEh/pw/Z7_BS88AB1A0GSM10A6E365201G25/act/id=0/p=ACTION_NAME_PARAM=SourceAction/p=idLicitacion=826104768/521811119476/-/\n",
      "\n",
      "https://contrataciondelestado.es/wps/portal/!ut/p/b1/jY_LDoIwEEW_xQ8wMy20wLI82mLwkVRQujFdGIPhsTF-v0jYgs7uJufkzgUL9ZYgRoEXEoJwBdu7d_Nwr2boXfvNlt9iE4YiJgKV2RMUPPM4o0iUoSNQjwDzEr_aVSducoWYa5kWJWGoKP_Px4UTOPl-dkwSqSmGxkuRFmlZcj1GxWZ_BfjRfwG7XkFnYG3iBKxsOOihu0M9YsHiL5TBGeocOttKGeVP34nNB_7hM-Q!/dl4/d5/L2dBISEvZ0FBIS9nQSEh/pw/Z7_BS88AB1A0GSM10A6E365201G25/act/id=0/p=ACTION_NAME_PARAM=SourceAction/p=idLicitacion=831086517/521811119476/-/\n",
      "\n",
      "https://contrataciondelestado.es/wps/portal/!ut/p/b1/jY_LDoIwEEW_xQ8wMy20wLI82mLwkVRQujFdGIPhsTF-v0jYgs7uJufkzgUL9ZYgRoEXEoJwBdu7d_Nwr2boXfvNlt9iE4YiJgKV2RMUPPM4o0iUoSNQjwDzEr_aVSducoWYa5kWJWGoKP_Px4UTOPl-dkwSqSmGxkuRFmlZcj1GxWZ_BfjRfwG7XkFnYG3iBKxsOOihu0M9YsHiL5TBGeocOttKGeVP34nNB_7hM-Q!/dl4/d5/L2dBISEvZ0FBIS9nQSEh/pw/Z7_BS88AB1A0GSM10A6E365201G25/act/id=0/p=ACTION_NAME_PARAM=SourceAction/p=idLicitacion=826097899/521811119476/-/\n",
      "\n",
      "https://contrataciondelestado.es/wps/portal/!ut/p/b1/jY_LDoIwEEW_xQ8wMy20wLI82mLwkVRQujFdGIPhsTF-v0jYgs7uJufkzgUL9ZYgRoEXEoJwBdu7d_Nwr2boXfvNlt9iE4YiJgKV2RMUPPM4o0iUoSNQjwDzEr_aVSducoWYa5kWJWGoKP_Px4UTOPl-dkwSqSmGxkuRFmlZcj1GxWZ_BfjRfwG7XkFnYG3iBKxsOOihu0M9YsHiL5TBGeocOttKGeVP34nNB_7hM-Q!/dl4/d5/L2dBISEvZ0FBIS9nQSEh/pw/Z7_BS88AB1A0GSM10A6E365201G25/act/id=0/p=ACTION_NAME_PARAM=SourceAction/p=idLicitacion=832084153/521811119476/-/\n",
      "\n",
      "https://contrataciondelestado.es/wps/portal/!ut/p/b1/jY_LDoIwEEW_xQ8wMy20wLI82mLwkVRQujFdGIPhsTF-v0jYgs7uJufkzgUL9ZYgRoEXEoJwBdu7d_Nwr2boXfvNlt9iE4YiJgKV2RMUPPM4o0iUoSNQjwDzEr_aVSducoWYa5kWJWGoKP_Px4UTOPl-dkwSqSmGxkuRFmlZcj1GxWZ_BfjRfwG7XkFnYG3iBKxsOOihu0M9YsHiL5TBGeocOttKGeVP34nNB_7hM-Q!/dl4/d5/L2dBISEvZ0FBIS9nQSEh/pw/Z7_BS88AB1A0GSM10A6E365201G25/act/id=0/p=ACTION_NAME_PARAM=SourceAction/p=idLicitacion=571577110/521811119476/-/\n",
      "\n",
      "https://contrataciondelestado.es/wps/portal/!ut/p/b1/jY_LDoIwEEW_xQ8wMy20wLI82mLwkVRQujFdGIPhsTF-v0jYgs7uJufkzgUL9ZYgRoEXEoJwBdu7d_Nwr2boXfvNlt9iE4YiJgKV2RMUPPM4o0iUoSNQjwDzEr_aVSducoWYa5kWJWGoKP_Px4UTOPl-dkwSqSmGxkuRFmlZcj1GxWZ_BfjRfwG7XkFnYG3iBKxsOOihu0M9YsHiL5TBGeocOttKGeVP34nNB_7hM-Q!/dl4/d5/L2dBISEvZ0FBIS9nQSEh/pw/Z7_BS88AB1A0GSM10A6E365201G25/act/id=0/p=ACTION_NAME_PARAM=SourceAction/p=idLicitacion=830686695/521811119477/-/\n",
      "\n",
      "https://contrataciondelestado.es/wps/portal/!ut/p/b1/jY_LDoIwEEW_xQ8wMy20wLLyaCH4SCoo3ZgujMHw2Bi_30rYgs7uJufkzgUDzZYgRoEXEoJwBTPYd_uwr3YcbPfNht92OgzFjgiUek9Q8NTjjCKRmjqgcQDzYr8u6hPXuUTMVZaUFWEoKf_Px4UTOPl-eozjTFEMtZcgLZOq4spFyWZ_BfjRfwGzXkFnYG3iBKxsOKixv0PjsGDxF8rgDE0BvemyLMqfvhWbDyXEUpg!/dl4/d5/L2dBISEvZ0FBIS9nQSEh/pw/Z7_BS88AB1A0GSM10A6E365201G25/act/id=0/p=ACTION_NAME_PARAM=SourceAction/p=idLicitacion=832050089/521811120358/-/\n",
      "\n",
      "https://contrataciondelestado.es/wps/portal/!ut/p/b1/jY_LDoIwEEW_xQ8wMy20wLLyaCH4SCoo3ZgujMHw2Bi_30rYgs7uJufkzgUDzZYgRoEXEoJwBTPYd_uwr3YcbPfNht92OgzFjgiUek9Q8NTjjCKRmjqgcQDzYr8u6hPXuUTMVZaUFWEoKf_Px4UTOPl-eozjTFEMtZcgLZOq4spFyWZ_BfjRfwGzXkFnYG3iBKxsOKixv0PjsGDxF8rgDE0BvemyLMqfvhWbDyXEUpg!/dl4/d5/L2dBISEvZ0FBIS9nQSEh/pw/Z7_BS88AB1A0GSM10A6E365201G25/act/id=0/p=ACTION_NAME_PARAM=SourceAction/p=idLicitacion=685758825/521811120359/-/\n",
      "\n",
      "https://contrataciondelestado.es/wps/portal/!ut/p/b1/jY_LDoIwEEW_xQ8wMy20wLLyaCH4SCoo3ZgujMHw2Bi_30rYgs7uJufkzgUDzZYgRoEXEoJwBTPYd_uwr3YcbPfNht92OgzFjgiUek9Q8NTjjCKRmjqgcQDzYr8u6hPXuUTMVZaUFWEoKf_Px4UTOPl-eozjTFEMtZcgLZOq4spFyWZ_BfjRfwGzXkFnYG3iBKxsOKixv0PjsGDxF8rgDE0BvemyLMqfvhWbDyXEUpg!/dl4/d5/L2dBISEvZ0FBIS9nQSEh/pw/Z7_BS88AB1A0GSM10A6E365201G25/act/id=0/p=ACTION_NAME_PARAM=SourceAction/p=idLicitacion=768930778/521811120359/-/\n",
      "\n",
      "https://contrataciondelestado.es/wps/portal/!ut/p/b1/jY_LDoIwEEW_xQ8wMy20wLLyaCH4SCoo3ZgujMHw2Bi_30rYgs7uJufkzgUDzZYgRoEXEoJwBTPYd_uwr3YcbPfNht92OgzFjgiUek9Q8NTjjCKRmjqgcQDzYr8u6hPXuUTMVZaUFWEoKf_Px4UTOPl-eozjTFEMtZcgLZOq4spFyWZ_BfjRfwGzXkFnYG3iBKxsOKixv0PjsGDxF8rgDE0BvemyLMqfvhWbDyXEUpg!/dl4/d5/L2dBISEvZ0FBIS9nQSEh/pw/Z7_BS88AB1A0GSM10A6E365201G25/act/id=0/p=ACTION_NAME_PARAM=SourceAction/p=idLicitacion=694494161/521811120359/-/\n",
      "\n",
      "https://contrataciondelestado.es/wps/portal/!ut/p/b1/jY_LDoIwEEW_xQ8wMy20wLLyaCH4SCoo3ZgujMHw2Bi_30rYgs7uJufkzgUDzZYgRoEXEoJwBTPYd_uwr3YcbPfNht92OgzFjgiUek9Q8NTjjCKRmjqgcQDzYr8u6hPXuUTMVZaUFWEoKf_Px4UTOPl-eozjTFEMtZcgLZOq4spFyWZ_BfjRfwGzXkFnYG3iBKxsOKixv0PjsGDxF8rgDE0BvemyLMqfvhWbDyXEUpg!/dl4/d5/L2dBISEvZ0FBIS9nQSEh/pw/Z7_BS88AB1A0GSM10A6E365201G25/act/id=0/p=ACTION_NAME_PARAM=SourceAction/p=idLicitacion=817470162/521811120360/-/\n",
      "\n",
      "https://contrataciondelestado.es/wps/portal/!ut/p/b1/jY_LDoIwEEW_xQ8wMy20wLLyaCH4SCoo3ZgujMHw2Bi_30rYgs7uJufkzgUDzZYgRoEXEoJwBTPYd_uwr3YcbPfNht92OgzFjgiUek9Q8NTjjCKRmjqgcQDzYr8u6hPXuUTMVZaUFWEoKf_Px4UTOPl-eozjTFEMtZcgLZOq4spFyWZ_BfjRfwGzXkFnYG3iBKxsOKixv0PjsGDxF8rgDE0BvemyLMqfvhWbDyXEUpg!/dl4/d5/L2dBISEvZ0FBIS9nQSEh/pw/Z7_BS88AB1A0GSM10A6E365201G25/act/id=0/p=ACTION_NAME_PARAM=SourceAction/p=idLicitacion=737514984/521811120360/-/\n",
      "\n",
      "https://contrataciondelestado.es/wps/portal/!ut/p/b1/jY_LDoIwEEW_xQ8wMy20lGXlUVB8JBWUbkwXxmB4bIzfbyVsQWd3k3Ny54KBek0Qw8AThCBcwfT23Tzsqxl6236z4beNFkJuiESl9wQlTzzOKBKlqQNqBzAv8qttdeI6V4h5lsZFSRgqyv_zceYkjr6fHKMozSgK7cVIi7gseeaiYpO_APzov4BZrqATsDRxBBY2HLKhu0PtsGD2F8rgDPUOOtOmaZg_fStXH1MlXQU!/dl4/d5/L2dBISEvZ0FBIS9nQSEh/pw/Z7_BS88AB1A0GSM10A6E365201G25/act/id=0/p=ACTION_NAME_PARAM=SourceAction/p=idLicitacion=831801734/521811121877/-/\n",
      "\n",
      "https://contrataciondelestado.es/wps/portal/!ut/p/b1/jY_LDoIwEEW_xQ8wMy20lGXlUVB8JBWUbkwXxmB4bIzfbyVsQWd3k3Ny54KBek0Qw8AThCBcwfT23Tzsqxl6236z4beNFkJuiESl9wQlTzzOKBKlqQNqBzAv8qttdeI6V4h5lsZFSRgqyv_zceYkjr6fHKMozSgK7cVIi7gseeaiYpO_APzov4BZrqATsDRxBBY2HLKhu0PtsGD2F8rgDPUOOtOmaZg_fStXH1MlXQU!/dl4/d5/L2dBISEvZ0FBIS9nQSEh/pw/Z7_BS88AB1A0GSM10A6E365201G25/act/id=0/p=ACTION_NAME_PARAM=SourceAction/p=idLicitacion=829637076/521811121878/-/\n",
      "\n",
      "https://contrataciondelestado.es/wps/portal/!ut/p/b1/jY_LDoIwEEW_xQ8wMy20lGXlUVB8JBWUbkwXxmB4bIzfbyVsQWd3k3Ny54KBek0Qw8AThCBcwfT23Tzsqxl6236z4beNFkJuiESl9wQlTzzOKBKlqQNqBzAv8qttdeI6V4h5lsZFSRgqyv_zceYkjr6fHKMozSgK7cVIi7gseeaiYpO_APzov4BZrqATsDRxBBY2HLKhu0PtsGD2F8rgDPUOOtOmaZg_fStXH1MlXQU!/dl4/d5/L2dBISEvZ0FBIS9nQSEh/pw/Z7_BS88AB1A0GSM10A6E365201G25/act/id=0/p=ACTION_NAME_PARAM=SourceAction/p=idLicitacion=830420853/521811121878/-/\n",
      "\n",
      "https://contrataciondelestado.es/wps/portal/!ut/p/b1/jY_LDoIwEEW_xQ8wMy20lGXlUVB8JBWUbkwXxmB4bIzfbyVsQWd3k3Ny54KBek0Qw8AThCBcwfT23Tzsqxl6236z4beNFkJuiESl9wQlTzzOKBKlqQNqBzAv8qttdeI6V4h5lsZFSRgqyv_zceYkjr6fHKMozSgK7cVIi7gseeaiYpO_APzov4BZrqATsDRxBBY2HLKhu0PtsGD2F8rgDPUOOtOmaZg_fStXH1MlXQU!/dl4/d5/L2dBISEvZ0FBIS9nQSEh/pw/Z7_BS88AB1A0GSM10A6E365201G25/act/id=0/p=ACTION_NAME_PARAM=SourceAction/p=idLicitacion=753940358/521811121878/-/\n",
      "\n",
      "https://contrataciondelestado.es/wps/portal/!ut/p/b1/jY_LDoIwEEW_xQ8wMy20lGXlUVB8JBWUbkwXxmB4bIzfbyVsQWd3k3Ny54KBek0Qw8AThCBcwfT23Tzsqxl6236z4beNFkJuiESl9wQlTzzOKBKlqQNqBzAv8qttdeI6V4h5lsZFSRgqyv_zceYkjr6fHKMozSgK7cVIi7gseeaiYpO_APzov4BZrqATsDRxBBY2HLKhu0PtsGD2F8rgDPUOOtOmaZg_fStXH1MlXQU!/dl4/d5/L2dBISEvZ0FBIS9nQSEh/pw/Z7_BS88AB1A0GSM10A6E365201G25/act/id=0/p=ACTION_NAME_PARAM=SourceAction/p=idLicitacion=831847807/521811121878/-/\n",
      "\n",
      "https://contrataciondelestado.es/wps/portal/!ut/p/b1/jY_LDoIwEEW_xQ8wMy20lGXlUVB8JBWUbkwXxmB4bIzfbyVsQWd3k3Ny54KBek0Qw8AThCBcwfT23Tzsqxl6236z4beNFkJuiESl9wQlTzzOKBKlqQNqBzAv8qttdeI6V4h5lsZFSRgqyv_zceYkjr6fHKMozSgK7cVIi7gseeaiYpO_APzov4BZrqATsDRxBBY2HLKhu0PtsGD2F8rgDPUOOtOmaZg_fStXH1MlXQU!/dl4/d5/L2dBISEvZ0FBIS9nQSEh/pw/Z7_BS88AB1A0GSM10A6E365201G25/act/id=0/p=ACTION_NAME_PARAM=SourceAction/p=idLicitacion=830407702/521811121878/-/\n",
      "\n",
      "https://contrataciondelestado.es/wps/portal/!ut/p/b1/jY_LDoIwEEW_xQ8wMy20lGV5tRh8JBW03RgWxmB4bIzfLxK2oLO7yTm5c8GB3RLEMPAEIQhXcH39bh71qxn6uv1mx2-REUJGRKIye4KSpx5nFIkydATsCDAv9qtddeImV4i5zpKiJAwV5f_5uHASJ99Pj3GcaYrCeAnSIilLrseo2OyvAD_6L-DWK-gMrE2cgJUNBz10d7AjFiz-QhmcwRbQuTbLwvzp13LzAZOPkGA!/dl4/d5/L2dBISEvZ0FBIS9nQSEh/pw/Z7_BS88AB1A0GSM10A6E365201G25/act/id=0/p=ACTION_NAME_PARAM=SourceAction/p=idLicitacion=831162921/521811125091/-/\n",
      "\n",
      "https://contrataciondelestado.es/wps/portal/!ut/p/b1/jY_LDoIwEEW_xQ8wMy20lGV5tRh8JBW03RgWxmB4bIzfLxK2oLO7yTm5c8GB3RLEMPAEIQhXcH39bh71qxn6uv1mx2-REUJGRKIye4KSpx5nFIkydATsCDAv9qtddeImV4i5zpKiJAwV5f_5uHASJ99Pj3GcaYrCeAnSIilLrseo2OyvAD_6L-DWK-gMrE2cgJUNBz10d7AjFiz-QhmcwRbQuTbLwvzp13LzAZOPkGA!/dl4/d5/L2dBISEvZ0FBIS9nQSEh/pw/Z7_BS88AB1A0GSM10A6E365201G25/act/id=0/p=ACTION_NAME_PARAM=SourceAction/p=idLicitacion=738440073/521811125091/-/\n",
      "\n",
      "https://contrataciondelestado.es/wps/portal/!ut/p/b1/jY_LDoIwEEW_xQ8wMy20lGV5tRh8JBW03RgWxmB4bIzfLxK2oLO7yTm5c8GB3RLEMPAEIQhXcH39bh71qxn6uv1mx2-REUJGRKIye4KSpx5nFIkydATsCDAv9qtddeImV4i5zpKiJAwV5f_5uHASJ99Pj3GcaYrCeAnSIilLrseo2OyvAD_6L-DWK-gMrE2cgJUNBz10d7AjFiz-QhmcwRbQuTbLwvzp13LzAZOPkGA!/dl4/d5/L2dBISEvZ0FBIS9nQSEh/pw/Z7_BS88AB1A0GSM10A6E365201G25/act/id=0/p=ACTION_NAME_PARAM=SourceAction/p=idLicitacion=666457338/521811125092/-/\n",
      "\n",
      "https://contrataciondelestado.es/wps/portal/!ut/p/b1/jY_LDoIwEEW_xQ8wMy20lGV5tRh8JBW03RgWxmB4bIzfLxK2oLO7yTm5c8GB3RLEMPAEIQhXcH39bh71qxn6uv1mx2-REUJGRKIye4KSpx5nFIkydATsCDAv9qtddeImV4i5zpKiJAwV5f_5uHASJ99Pj3GcaYrCeAnSIilLrseo2OyvAD_6L-DWK-gMrE2cgJUNBz10d7AjFiz-QhmcwRbQuTbLwvzp13LzAZOPkGA!/dl4/d5/L2dBISEvZ0FBIS9nQSEh/pw/Z7_BS88AB1A0GSM10A6E365201G25/act/id=0/p=ACTION_NAME_PARAM=SourceAction/p=idLicitacion=659023630/521811125092/-/\n",
      "\n",
      "https://contrataciondelestado.es/wps/portal/!ut/p/b1/jY_LDoIwEEW_xQ8wMy20lGV5tRh8JBW03RgWxmB4bIzfLxK2oLO7yTm5c8GB3RLEMPAEIQhXcH39bh71qxn6uv1mx2-REUJGRKIye4KSpx5nFIkydATsCDAv9qtddeImV4i5zpKiJAwV5f_5uHASJ99Pj3GcaYrCeAnSIilLrseo2OyvAD_6L-DWK-gMrE2cgJUNBz10d7AjFiz-QhmcwRbQuTbLwvzp13LzAZOPkGA!/dl4/d5/L2dBISEvZ0FBIS9nQSEh/pw/Z7_BS88AB1A0GSM10A6E365201G25/act/id=0/p=ACTION_NAME_PARAM=SourceAction/p=idLicitacion=317564270/521811125092/-/\n",
      "\n",
      "https://contrataciondelestado.es/wps/portal/!ut/p/b1/jY_LDoIwEEW_xQ8wMy20lGV5tRh8JBW03RgWxmB4bIzfLxK2oLO7yTm5c8GB3RLEMPAEIQhXcH39bh71qxn6uv1mx2-REUJGRKIye4KSpx5nFIkydATsCDAv9qtddeImV4i5zpKiJAwV5f_5uHASJ99Pj3GcaYrCeAnSIilLrseo2OyvAD_6L-DWK-gMrE2cgJUNBz10d7AjFiz-QhmcwRbQuTbLwvzp13LzAZOPkGA!/dl4/d5/L2dBISEvZ0FBIS9nQSEh/pw/Z7_BS88AB1A0GSM10A6E365201G25/act/id=0/p=ACTION_NAME_PARAM=SourceAction/p=idLicitacion=328115976/521811125093/-/\n",
      "\n",
      "https://contrataciondelestado.es/wps/portal/!ut/p/b1/jY_LDoIwEEW_xQ8wMy20wLLyaDGgJhWUbkwXxmB4bIzfbyVsQWd3k3Ny54KBZksQo8ALCUG4ghnsu33YVzsOtvtmw287HYZiRwRKXRIUPPU4o0ikpg5oHMC82K_39YnrXCLmKkuKijCUlP_n48IJnHw_PcZxpiiG2kuQFklVceWiZLO_Avzov4BZr6AzsDZxAlY2HNTY36FxWLD4C2VwhqaE3nRZFuVP34rNB-Vun_0!/dl4/d5/L2dBISEvZ0FBIS9nQSEh/pw/Z7_BS88AB1A0GSM10A6E365201G25/act/id=0/p=ACTION_NAME_PARAM=SourceAction/p=idLicitacion=809858529/521811129343/-/\n",
      "\n",
      "https://contrataciondelestado.es/wps/portal/!ut/p/b1/jY_LDoIwEEW_xQ8wMy20wLLyaDGgJhWUbkwXxmB4bIzfbyVsQWd3k3Ny54KBZksQo8ALCUG4ghnsu33YVzsOtvtmw287HYZiRwRKXRIUPPU4o0ikpg5oHMC82K_39YnrXCLmKkuKijCUlP_n48IJnHw_PcZxpiiG2kuQFklVceWiZLO_Avzov4BZr6AzsDZxAlY2HNTY36FxWLD4C2VwhqaE3nRZFuVP34rNB-Vun_0!/dl4/d5/L2dBISEvZ0FBIS9nQSEh/pw/Z7_BS88AB1A0GSM10A6E365201G25/act/id=0/p=ACTION_NAME_PARAM=SourceAction/p=idLicitacion=831099054/521811129343/-/\n",
      "\n",
      "https://contrataciondelestado.es/wps/portal/!ut/p/b1/jY_LDoIwEEW_xQ8wMy20wLLyaDGgJhWUbkwXxmB4bIzfbyVsQWd3k3Ny54KBZksQo8ALCUG4ghnsu33YVzsOtvtmw287HYZiRwRKXRIUPPU4o0ikpg5oHMC82K_39YnrXCLmKkuKijCUlP_n48IJnHw_PcZxpiiG2kuQFklVceWiZLO_Avzov4BZr6AzsDZxAlY2HNTY36FxWLD4C2VwhqaE3nRZFuVP34rNB-Vun_0!/dl4/d5/L2dBISEvZ0FBIS9nQSEh/pw/Z7_BS88AB1A0GSM10A6E365201G25/act/id=0/p=ACTION_NAME_PARAM=SourceAction/p=idLicitacion=784038805/521811129343/-/\n",
      "\n",
      "https://contrataciondelestado.es/wps/portal/!ut/p/b1/jY_LDoIwEEW_xQ8wMy20wLLyaDGgJhWUbkwXxmB4bIzfbyVsQWd3k3Ny54KBZksQo8ALCUG4ghnsu33YVzsOtvtmw287HYZiRwRKXRIUPPU4o0ikpg5oHMC82K_39YnrXCLmKkuKijCUlP_n48IJnHw_PcZxpiiG2kuQFklVceWiZLO_Avzov4BZr6AzsDZxAlY2HNTY36FxWLD4C2VwhqaE3nRZFuVP34rNB-Vun_0!/dl4/d5/L2dBISEvZ0FBIS9nQSEh/pw/Z7_BS88AB1A0GSM10A6E365201G25/act/id=0/p=ACTION_NAME_PARAM=SourceAction/p=idLicitacion=650040634/521811129343/-/\n",
      "\n",
      "https://contrataciondelestado.es/wps/portal/!ut/p/b1/jY_LDoIwEEW_xQ8wMy20wLLyaDGgJhWUbkwXxmB4bIzfbyVsQWd3k3Ny54KBZksQo8ALCUG4ghnsu33YVzsOtvtmw287HYZiRwRKXRIUPPU4o0ikpg5oHMC82K_39YnrXCLmKkuKijCUlP_n48IJnHw_PcZxpiiG2kuQFklVceWiZLO_Avzov4BZr6AzsDZxAlY2HNTY36FxWLD4C2VwhqaE3nRZFuVP34rNB-Vun_0!/dl4/d5/L2dBISEvZ0FBIS9nQSEh/pw/Z7_BS88AB1A0GSM10A6E365201G25/act/id=0/p=ACTION_NAME_PARAM=SourceAction/p=idLicitacion=763640501/521811129343/-/\n",
      "\n",
      "https://contrataciondelestado.es/wps/portal/!ut/p/b1/jY_LDoIwEEW_xQ8wMy20wLLyaDGgJhWUbkwXxmB4bIzfbyVsQWd3k3Ny54KBZksQo8ALCUG4ghnsu33YVzsOtvtmw287HYZiRwRKXRIUPPU4o0ikpg5oHMC82K_39YnrXCLmKkuKijCUlP_n48IJnHw_PcZxpiiG2kuQFklVceWiZLO_Avzov4BZr6AzsDZxAlY2HNTY36FxWLD4C2VwhqaE3nRZFuVP34rNB-Vun_0!/dl4/d5/L2dBISEvZ0FBIS9nQSEh/pw/Z7_BS88AB1A0GSM10A6E365201G25/act/id=0/p=ACTION_NAME_PARAM=SourceAction/p=idLicitacion=773776707/521811129344/-/\n",
      "\n",
      "https://contrataciondelestado.es/wps/portal/!ut/p/b1/jY_LDoIwEEW_xQ8wMy20wLI82mIQTSoo3RgWxmB4bIzfbyVuQWd3k3Ny54KFZksQo8ALCUG4gB3bV3dvn900tv0nW36NTRiKmAhUZk9Q8MzjjCJRhjqgcQDzEr_e1UducoWYa5kWFWGoKP_Px4UTOPt-dkgSqSmGxkuRFmlVce2iYl9_BfjRfwa7XkG_wNrEGVjZUOppuEHjsGDxF8rgBE0Jg-2ljPKH34rNGz5L_oE!/dl4/d5/L2dBISEvZ0FBIS9nQSEh/pw/Z7_BS88AB1A0GSM10A6E365201G25/act/id=0/p=ACTION_NAME_PARAM=SourceAction/p=idLicitacion=824851565/521811131189/-/\n",
      "\n",
      "https://contrataciondelestado.es/wps/portal/!ut/p/b1/jY_LDoIwEEW_xQ8wMy20wLI82mIQTSoo3RgWxmB4bIzfbyVuQWd3k3Ny54KFZksQo8ALCUG4gB3bV3dvn900tv0nW36NTRiKmAhUZk9Q8MzjjCJRhjqgcQDzEr_e1UducoWYa5kWFWGoKP_Px4UTOPt-dkgSqSmGxkuRFmlVce2iYl9_BfjRfwa7XkG_wNrEGVjZUOppuEHjsGDxF8rgBE0Jg-2ljPKH34rNGz5L_oE!/dl4/d5/L2dBISEvZ0FBIS9nQSEh/pw/Z7_BS88AB1A0GSM10A6E365201G25/act/id=0/p=ACTION_NAME_PARAM=SourceAction/p=idLicitacion=785905510/521811131189/-/\n",
      "\n",
      "https://contrataciondelestado.es/wps/portal/!ut/p/b1/jY_LDoIwEEW_xQ8wMy20wLI82mIQTSoo3RgWxmB4bIzfbyVuQWd3k3Ny54KFZksQo8ALCUG4gB3bV3dvn900tv0nW36NTRiKmAhUZk9Q8MzjjCJRhjqgcQDzEr_e1UducoWYa5kWFWGoKP_Px4UTOPt-dkgSqSmGxkuRFmlVce2iYl9_BfjRfwa7XkG_wNrEGVjZUOppuEHjsGDxF8rgBE0Jg-2ljPKH34rNGz5L_oE!/dl4/d5/L2dBISEvZ0FBIS9nQSEh/pw/Z7_BS88AB1A0GSM10A6E365201G25/act/id=0/p=ACTION_NAME_PARAM=SourceAction/p=idLicitacion=827409019/521811131189/-/\n",
      "\n",
      "https://contrataciondelestado.es/wps/portal/!ut/p/b1/jY_LDoIwEEW_xQ8wMy20wLI82mIQTSoo3RgWxmB4bIzfbyVuQWd3k3Ny54KFZksQo8ALCUG4gB3bV3dvn900tv0nW36NTRiKmAhUZk9Q8MzjjCJRhjqgcQDzEr_e1UducoWYa5kWFWGoKP_Px4UTOPt-dkgSqSmGxkuRFmlVce2iYl9_BfjRfwa7XkG_wNrEGVjZUOppuEHjsGDxF8rgBE0Jg-2ljPKH34rNGz5L_oE!/dl4/d5/L2dBISEvZ0FBIS9nQSEh/pw/Z7_BS88AB1A0GSM10A6E365201G25/act/id=0/p=ACTION_NAME_PARAM=SourceAction/p=idLicitacion=831651657/521811131189/-/\n",
      "\n",
      "https://contrataciondelestado.es/wps/portal/!ut/p/b1/jY_LDoIwEEW_xQ8wMy20wLI82mIQTSoo3RgWxmB4bIzfbyVuQWd3k3Ny54KFZksQo8ALCUG4gB3bV3dvn900tv0nW36NTRiKmAhUZk9Q8MzjjCJRhjqgcQDzEr_e1UducoWYa5kWFWGoKP_Px4UTOPt-dkgSqSmGxkuRFmlVce2iYl9_BfjRfwa7XkG_wNrEGVjZUOppuEHjsGDxF8rgBE0Jg-2ljPKH34rNGz5L_oE!/dl4/d5/L2dBISEvZ0FBIS9nQSEh/pw/Z7_BS88AB1A0GSM10A6E365201G25/act/id=0/p=ACTION_NAME_PARAM=SourceAction/p=idLicitacion=723954635/521811131190/-/\n",
      "\n",
      "https://contrataciondelestado.es/wps/portal/!ut/p/b1/jY_LDoIwEEW_xQ8wMy20wLI82mIQTSoo3RgWxmB4bIzfbyVuQWd3k3Ny54KFZksQo8ALCUG4gB3bV3dvn900tv0nW36NTRiKmAhUZk9Q8MzjjCJRhjqgcQDzEr_e1UducoWYa5kWFWGoKP_Px4UTOPt-dkgSqSmGxkuRFmlVce2iYl9_BfjRfwa7XkG_wNrEGVjZUOppuEHjsGDxF8rgBE0Jg-2ljPKH34rNGz5L_oE!/dl4/d5/L2dBISEvZ0FBIS9nQSEh/pw/Z7_BS88AB1A0GSM10A6E365201G25/act/id=0/p=ACTION_NAME_PARAM=SourceAction/p=idLicitacion=779059182/521811131190/-/\n",
      "\n",
      "https://contrataciondelestado.es/wps/portal/!ut/p/b1/jY_LDoIwEEW_xQ8wMy20wLI82mJQTCoo3RgWxmB4bIzfbyVuQWd3k3Ny54KFZksQo8ALCUG4gB3bV3dvn900tv0nW36NTRiKmAhUZk9Q8MzjjCJRhjqgcQDzEr_e1UducoWYa5kWFWGoKP_Px4UTOPt-ViaJ1BRD46VIi7SquHZRsa-_AvzoP4Ndr6BfYG3iDKxsOOhpuEHjsGDxF8rgBE0Jg-2ljPKH34rNG0iq8Rw!/dl4/d5/L2dBISEvZ0FBIS9nQSEh/pw/Z7_BS88AB1A0GSM10A6E365201G25/act/id=0/p=ACTION_NAME_PARAM=SourceAction/p=idLicitacion=727926548/521811133468/-/\n",
      "\n",
      "https://contrataciondelestado.es/wps/portal/!ut/p/b1/jY_LDoIwEEW_xQ8wMy20wLI82mJQTCoo3RgWxmB4bIzfbyVuQWd3k3Ny54KFZksQo8ALCUG4gB3bV3dvn900tv0nW36NTRiKmAhUZk9Q8MzjjCJRhjqgcQDzEr_e1UducoWYa5kWFWGoKP_Px4UTOPt-ViaJ1BRD46VIi7SquHZRsa-_AvzoP4Ndr6BfYG3iDKxsOOhpuEHjsGDxF8rgBE0Jg-2ljPKH34rNG0iq8Rw!/dl4/d5/L2dBISEvZ0FBIS9nQSEh/pw/Z7_BS88AB1A0GSM10A6E365201G25/act/id=0/p=ACTION_NAME_PARAM=SourceAction/p=idLicitacion=782936977/521811133468/-/\n",
      "\n",
      "https://contrataciondelestado.es/wps/portal/!ut/p/b1/jY_LDoIwEEW_xQ8wMy20wLI82mJQTCoo3RgWxmB4bIzfbyVuQWd3k3Ny54KFZksQo8ALCUG4gB3bV3dvn900tv0nW36NTRiKmAhUZk9Q8MzjjCJRhjqgcQDzEr_e1UducoWYa5kWFWGoKP_Px4UTOPt-ViaJ1BRD46VIi7SquHZRsa-_AvzoP4Ndr6BfYG3iDKxsOOhpuEHjsGDxF8rgBE0Jg-2ljPKH34rNG0iq8Rw!/dl4/d5/L2dBISEvZ0FBIS9nQSEh/pw/Z7_BS88AB1A0GSM10A6E365201G25/act/id=0/p=ACTION_NAME_PARAM=SourceAction/p=idLicitacion=782952565/521811133468/-/\n",
      "\n",
      "https://contrataciondelestado.es/wps/portal/!ut/p/b1/jY_LDoIwEEW_xQ8wMy20wLI82mJQTCoo3RgWxmB4bIzfbyVuQWd3k3Ny54KFZksQo8ALCUG4gB3bV3dvn900tv0nW36NTRiKmAhUZk9Q8MzjjCJRhjqgcQDzEr_e1UducoWYa5kWFWGoKP_Px4UTOPt-ViaJ1BRD46VIi7SquHZRsa-_AvzoP4Ndr6BfYG3iDKxsOOhpuEHjsGDxF8rgBE0Jg-2ljPKH34rNG0iq8Rw!/dl4/d5/L2dBISEvZ0FBIS9nQSEh/pw/Z7_BS88AB1A0GSM10A6E365201G25/act/id=0/p=ACTION_NAME_PARAM=SourceAction/p=idLicitacion=774702429/521811133468/-/\n",
      "\n",
      "https://contrataciondelestado.es/wps/portal/!ut/p/b1/jY_LDoIwEEW_xQ8wMy20wLI82mJQTCoo3RgWxmB4bIzfbyVuQWd3k3Ny54KFZksQo8ALCUG4gB3bV3dvn900tv0nW36NTRiKmAhUZk9Q8MzjjCJRhjqgcQDzEr_e1UducoWYa5kWFWGoKP_Px4UTOPt-ViaJ1BRD46VIi7SquHZRsa-_AvzoP4Ndr6BfYG3iDKxsOOhpuEHjsGDxF8rgBE0Jg-2ljPKH34rNG0iq8Rw!/dl4/d5/L2dBISEvZ0FBIS9nQSEh/pw/Z7_BS88AB1A0GSM10A6E365201G25/act/id=0/p=ACTION_NAME_PARAM=SourceAction/p=idLicitacion=775205281/521811133468/-/\n",
      "\n",
      "https://contrataciondelestado.es/wps/portal/!ut/p/b1/jY_LDoIwEEW_xQ8wMy20wLI82mJQTCoo3RgWxmB4bIzfbyVuQWd3k3Ny54KFZksQo8ALCUG4gB3bV3dvn900tv0nW36NTRiKmAhUZk9Q8MzjjCJRhjqgcQDzEr_e1UducoWYa5kWFWGoKP_Px4UTOPt-ViaJ1BRD46VIi7SquHZRsa-_AvzoP4Ndr6BfYG3iDKxsOOhpuEHjsGDxF8rgBE0Jg-2ljPKH34rNG0iq8Rw!/dl4/d5/L2dBISEvZ0FBIS9nQSEh/pw/Z7_BS88AB1A0GSM10A6E365201G25/act/id=0/p=ACTION_NAME_PARAM=SourceAction/p=idLicitacion=749869990/521811133469/-/\n",
      "\n",
      "https://contrataciondelestado.es/wps/portal/!ut/p/b1/jY_LDoIwEEW_xQ8wMy20wLICbTGoJBWUbgwLYzA8NsbvtxK2oLO7yTm5c8FCvSWIUeCFhCBcwQ7Nu300r3Ycmu6bLb_tTBiKHRGozIGg4KnHGUWiDHVA7QDmxX61rwpuMoWYaZnkJWGoKP_Px4UTOPl-eopjqSmGxkuQ5klZcu2iYrO_Avzov4Bdr6AzsDZxAlY2HPXY36F2WLD4C2VwhrqA3nZSRtnTb8TmA9Ii1yw!/dl4/d5/L2dBISEvZ0FBIS9nQSEh/pw/Z7_BS88AB1A0GSM10A6E365201G25/act/id=0/p=ACTION_NAME_PARAM=SourceAction/p=idLicitacion=747641879/521811135280/-/\n",
      "\n",
      "https://contrataciondelestado.es/wps/portal/!ut/p/b1/jY_LDoIwEEW_xQ8wMy20wLICbTGoJBWUbgwLYzA8NsbvtxK2oLO7yTm5c8FCvSWIUeCFhCBcwQ7Nu300r3Ycmu6bLb_tTBiKHRGozIGg4KnHGUWiDHVA7QDmxX61rwpuMoWYaZnkJWGoKP_Px4UTOPl-eopjqSmGxkuQ5klZcu2iYrO_Avzov4Bdr6AzsDZxAlY2HPXY36F2WLD4C2VwhrqA3nZSRtnTb8TmA9Ii1yw!/dl4/d5/L2dBISEvZ0FBIS9nQSEh/pw/Z7_BS88AB1A0GSM10A6E365201G25/act/id=0/p=ACTION_NAME_PARAM=SourceAction/p=idLicitacion=785643587/521811135280/-/\n",
      "\n",
      "https://contrataciondelestado.es/wps/portal/!ut/p/b1/jY_LDoIwEEW_xQ8wMy20wLICbTGoJBWUbgwLYzA8NsbvtxK2oLO7yTm5c8FCvSWIUeCFhCBcwQ7Nu300r3Ycmu6bLb_tTBiKHRGozIGg4KnHGUWiDHVA7QDmxX61rwpuMoWYaZnkJWGoKP_Px4UTOPl-eopjqSmGxkuQ5klZcu2iYrO_Avzov4Bdr6AzsDZxAlY2HPXY36F2WLD4C2VwhrqA3nZSRtnTb8TmA9Ii1yw!/dl4/d5/L2dBISEvZ0FBIS9nQSEh/pw/Z7_BS88AB1A0GSM10A6E365201G25/act/id=0/p=ACTION_NAME_PARAM=SourceAction/p=idLicitacion=831201740/521811135280/-/\n",
      "\n",
      "https://contrataciondelestado.es/wps/portal/!ut/p/b1/jY_LDoIwEEW_xQ8wMy20wLICbTGoJBWUbgwLYzA8NsbvtxK2oLO7yTm5c8FCvSWIUeCFhCBcwQ7Nu300r3Ycmu6bLb_tTBiKHRGozIGg4KnHGUWiDHVA7QDmxX61rwpuMoWYaZnkJWGoKP_Px4UTOPl-eopjqSmGxkuQ5klZcu2iYrO_Avzov4Bdr6AzsDZxAlY2HPXY36F2WLD4C2VwhrqA3nZSRtnTb8TmA9Ii1yw!/dl4/d5/L2dBISEvZ0FBIS9nQSEh/pw/Z7_BS88AB1A0GSM10A6E365201G25/act/id=0/p=ACTION_NAME_PARAM=SourceAction/p=idLicitacion=719898321/521811135280/-/\n",
      "\n",
      "https://contrataciondelestado.es/wps/portal/!ut/p/b1/jY_LDoIwEEW_xQ8wMy20wLICbTGoJBWUbgwLYzA8NsbvtxK2oLO7yTm5c8FCvSWIUeCFhCBcwQ7Nu300r3Ycmu6bLb_tTBiKHRGozIGg4KnHGUWiDHVA7QDmxX61rwpuMoWYaZnkJWGoKP_Px4UTOPl-eopjqSmGxkuQ5klZcu2iYrO_Avzov4Bdr6AzsDZxAlY2HPXY36F2WLD4C2VwhrqA3nZSRtnTb8TmA9Ii1yw!/dl4/d5/L2dBISEvZ0FBIS9nQSEh/pw/Z7_BS88AB1A0GSM10A6E365201G25/act/id=0/p=ACTION_NAME_PARAM=SourceAction/p=idLicitacion=773098994/521811135281/-/\n",
      "\n",
      "https://contrataciondelestado.es/wps/portal/!ut/p/b1/jY_LDoIwEEW_xQ8wMy20wLICbTGoJBWUbgwLYzA8NsbvtxK2oLO7yTm5c8FCvSWIUeCFhCBcwQ7Nu300r3Ycmu6bLb_tTBiKHRGozIGg4KnHGUWiDHVA7QDmxX61rwpuMoWYaZnkJWGoKP_Px4UTOPl-eopjqSmGxkuQ5klZcu2iYrO_Avzov4Bdr6AzsDZxAlY2HPXY36F2WLD4C2VwhrqA3nZSRtnTb8TmA9Ii1yw!/dl4/d5/L2dBISEvZ0FBIS9nQSEh/pw/Z7_BS88AB1A0GSM10A6E365201G25/act/id=0/p=ACTION_NAME_PARAM=SourceAction/p=idLicitacion=768314441/521811135281/-/\n",
      "\n",
      "https://contrataciondelestado.es/wps/portal/!ut/p/b1/jY_LDoIwEEW_xQ8wMy20wLI82mLwkVRQujFdGIPhsTF-v0jYgs7uJufkzgUL9ZYgRoEXEoJwBdu7d_Nwr2boXfvNlt9iE4YiJgKV2RMUPPM4o0iUoSNQjwDzEr_aVSducoWYa5kWJWGoKP_Px4UTOPl-dkwSqSmGxkuRFmlZcj1GxWZ_BfjRfwG7XkFnYG3iBKxsOOihu0M9YsHiL5TBGWoRQ2dbKaP86Tux-QADToQr/dl4/d5/L2dBISEvZ0FBIS9nQSEh/pw/Z7_BS88AB1A0GSM10A6E365201G25/act/id=0/p=ACTION_NAME_PARAM=SourceAction/p=idLicitacion=777295125/521811137959/-/\n",
      "\n",
      "https://contrataciondelestado.es/wps/portal/!ut/p/b1/jY_LDoIwEEW_xQ8wMy20wLI82mLwkVRQujFdGIPhsTF-v0jYgs7uJufkzgUL9ZYgRoEXEoJwBdu7d_Nwr2boXfvNlt9iE4YiJgKV2RMUPPM4o0iUoSNQjwDzEr_aVSducoWYa5kWJWGoKP_Px4UTOPl-dkwSqSmGxkuRFmlZcj1GxWZ_BfjRfwG7XkFnYG3iBKxsOOihu0M9YsHiL5TBGWoRQ2dbKaP86Tux-QADToQr/dl4/d5/L2dBISEvZ0FBIS9nQSEh/pw/Z7_BS88AB1A0GSM10A6E365201G25/act/id=0/p=ACTION_NAME_PARAM=SourceAction/p=idLicitacion=826516821/521811137959/-/\n",
      "\n",
      "https://contrataciondelestado.es/wps/portal/!ut/p/b1/jY_LDoIwEEW_xQ8wMy20wLI82mLwkVRQujFdGIPhsTF-v0jYgs7uJufkzgUL9ZYgRoEXEoJwBdu7d_Nwr2boXfvNlt9iE4YiJgKV2RMUPPM4o0iUoSNQjwDzEr_aVSducoWYa5kWJWGoKP_Px4UTOPl-dkwSqSmGxkuRFmlZcj1GxWZ_BfjRfwG7XkFnYG3iBKxsOOihu0M9YsHiL5TBGWoRQ2dbKaP86Tux-QADToQr/dl4/d5/L2dBISEvZ0FBIS9nQSEh/pw/Z7_BS88AB1A0GSM10A6E365201G25/act/id=0/p=ACTION_NAME_PARAM=SourceAction/p=idLicitacion=825087359/521811137959/-/\n",
      "\n",
      "https://contrataciondelestado.es/wps/portal/!ut/p/b1/jY_LDoIwEEW_xQ8wMy20wLI82mLwkVRQujFdGIPhsTF-v0jYgs7uJufkzgUL9ZYgRoEXEoJwBdu7d_Nwr2boXfvNlt9iE4YiJgKV2RMUPPM4o0iUoSNQjwDzEr_aVSducoWYa5kWJWGoKP_Px4UTOPl-dkwSqSmGxkuRFmlZcj1GxWZ_BfjRfwG7XkFnYG3iBKxsOOihu0M9YsHiL5TBGWoRQ2dbKaP86Tux-QADToQr/dl4/d5/L2dBISEvZ0FBIS9nQSEh/pw/Z7_BS88AB1A0GSM10A6E365201G25/act/id=0/p=ACTION_NAME_PARAM=SourceAction/p=idLicitacion=831226713/521811137959/-/\n",
      "\n",
      "https://contrataciondelestado.es/wps/portal/!ut/p/b1/jY_LDoIwEEW_xQ8wMy20wLI82mLwkVRQujFdGIPhsTF-v0jYgs7uJufkzgUL9ZYgRoEXEoJwBdu7d_Nwr2boXfvNlt9iE4YiJgKV2RMUPPM4o0iUoSNQjwDzEr_aVSducoWYa5kWJWGoKP_Px4UTOPl-dkwSqSmGxkuRFmlZcj1GxWZ_BfjRfwG7XkFnYG3iBKxsOOihu0M9YsHiL5TBGWoRQ2dbKaP86Tux-QADToQr/dl4/d5/L2dBISEvZ0FBIS9nQSEh/pw/Z7_BS88AB1A0GSM10A6E365201G25/act/id=0/p=ACTION_NAME_PARAM=SourceAction/p=idLicitacion=831336690/521811137959/-/\n",
      "\n",
      "https://contrataciondelestado.es/wps/portal/!ut/p/b1/jY_LDoIwEEW_xQ8wMy20wLI82mLwkVRQujFdGIPhsTF-v0jYgs7uJufkzgUL9ZYgRoEXEoJwBdu7d_Nwr2boXfvNlt9iE4YiJgKV2RMUPPM4o0iUoSNQjwDzEr_aVSducoWYa5kWJWGoKP_Px4UTOPl-dkwSqSmGxkuRFmlZcj1GxWZ_BfjRfwG7XkFnYG3iBKxsOOihu0M9YsHiL5TBGWoRQ2dbKaP86Tux-QADToQr/dl4/d5/L2dBISEvZ0FBIS9nQSEh/pw/Z7_BS88AB1A0GSM10A6E365201G25/act/id=0/p=ACTION_NAME_PARAM=SourceAction/p=idLicitacion=831099453/521811137960/-/\n",
      "\n",
      "https://contrataciondelestado.es/wps/portal/!ut/p/b1/jY_LDoIwEEW_xQ8wM21pgWXLo2DwkVRQujFdGIPhsTF-v0jYgs7uJufkzgUL9ZYghj4LCEG4gu3du3m4VzP0rv1mK27KBIFURKI2e4JSJExwikQbOgL1CHAWedWuOgmTa8Q8S-OiJBw1Ff_5uHASJ99LjlGUZhQDw2KkRVyWIhuj5rO_Avzov4Bdr6AzsDZxAlY2HLKhu0M9Yv7iL5TDGWqloLNtmob503Ny8wF6JPk6/dl4/d5/L2dBISEvZ0FBIS9nQSEh/pw/Z7_BS88AB1A0GSM10A6E365201G25/act/id=0/p=ACTION_NAME_PARAM=SourceAction/p=idLicitacion=725285809/521811139689/-/\n",
      "\n",
      "https://contrataciondelestado.es/wps/portal/!ut/p/b1/jY_LDoIwEEW_xQ8wM21pgWXLo2DwkVRQujFdGIPhsTF-v0jYgs7uJufkzgUL9ZYghj4LCEG4gu3du3m4VzP0rv1mK27KBIFURKI2e4JSJExwikQbOgL1CHAWedWuOgmTa8Q8S-OiJBw1Ff_5uHASJ99LjlGUZhQDw2KkRVyWIhuj5rO_Avzov4Bdr6AzsDZxAlY2HLKhu0M9Yv7iL5TDGWqloLNtmob503Ny8wF6JPk6/dl4/d5/L2dBISEvZ0FBIS9nQSEh/pw/Z7_BS88AB1A0GSM10A6E365201G25/act/id=0/p=ACTION_NAME_PARAM=SourceAction/p=idLicitacion=720990759/521811139689/-/\n",
      "\n",
      "https://contrataciondelestado.es/wps/portal/!ut/p/b1/jY_LDoIwEEW_xQ8wM21pgWXLo2DwkVRQujFdGIPhsTF-v0jYgs7uJufkzgUL9ZYghj4LCEG4gu3du3m4VzP0rv1mK27KBIFURKI2e4JSJExwikQbOgL1CHAWedWuOgmTa8Q8S-OiJBw1Ff_5uHASJ99LjlGUZhQDw2KkRVyWIhuj5rO_Avzov4Bdr6AzsDZxAlY2HLKhu0M9Yv7iL5TDGWqloLNtmob503Ny8wF6JPk6/dl4/d5/L2dBISEvZ0FBIS9nQSEh/pw/Z7_BS88AB1A0GSM10A6E365201G25/act/id=0/p=ACTION_NAME_PARAM=SourceAction/p=idLicitacion=751706761/521811139689/-/\n",
      "\n",
      "https://contrataciondelestado.es/wps/portal/!ut/p/b1/jY_LDoIwEEW_xQ8wM21pgWXLo2DwkVRQujFdGIPhsTF-v0jYgs7uJufkzgUL9ZYghj4LCEG4gu3du3m4VzP0rv1mK27KBIFURKI2e4JSJExwikQbOgL1CHAWedWuOgmTa8Q8S-OiJBw1Ff_5uHASJ99LjlGUZhQDw2KkRVyWIhuj5rO_Avzov4Bdr6AzsDZxAlY2HLKhu0M9Yv7iL5TDGWqloLNtmob503Ny8wF6JPk6/dl4/d5/L2dBISEvZ0FBIS9nQSEh/pw/Z7_BS88AB1A0GSM10A6E365201G25/act/id=0/p=ACTION_NAME_PARAM=SourceAction/p=idLicitacion=699208851/521811139689/-/\n",
      "\n",
      "https://contrataciondelestado.es/wps/portal/!ut/p/b1/jY_LDoIwEEW_xQ8wM21pgWXLo2DwkVRQujFdGIPhsTF-v0jYgs7uJufkzgUL9ZYghj4LCEG4gu3du3m4VzP0rv1mK27KBIFURKI2e4JSJExwikQbOgL1CHAWedWuOgmTa8Q8S-OiJBw1Ff_5uHASJ99LjlGUZhQDw2KkRVyWIhuj5rO_Avzov4Bdr6AzsDZxAlY2HLKhu0M9Yv7iL5TDGWqloLNtmob503Ny8wF6JPk6/dl4/d5/L2dBISEvZ0FBIS9nQSEh/pw/Z7_BS88AB1A0GSM10A6E365201G25/act/id=0/p=ACTION_NAME_PARAM=SourceAction/p=idLicitacion=750060126/521811139690/-/\n",
      "\n",
      "https://contrataciondelestado.es/wps/portal/!ut/p/b1/jY_LDoIwEEW_xQ8wM21pgWXLo2DwkVRQujFdGIPhsTF-v0jYgs7uJufkzgUL9ZYghj4LCEG4gu3du3m4VzP0rv1mK27KBIFURKI2e4JSJExwikQbOgL1CHAWedWuOgmTa8Q8S-OiJBw1Ff_5uHASJ99LjlGUZhQDw2KkRVyWIhuj5rO_Avzov4Bdr6AzsDZxAlY2HLKhu0M9Yv7iL5TDGWqloLNtmob503Ny8wF6JPk6/dl4/d5/L2dBISEvZ0FBIS9nQSEh/pw/Z7_BS88AB1A0GSM10A6E365201G25/act/id=0/p=ACTION_NAME_PARAM=SourceAction/p=idLicitacion=740036715/521811139690/-/\n",
      "\n",
      "https://contrataciondelestado.es/wps/portal/!ut/p/b1/jY_LDoIwEEW_xQ8wMy20wLI82mLwkVRQujFdGIPhsTF-v0jYgs7uJufkzgUL9ZYgRoEXEoJwBdu7d_Nwr2boXfvNlt9iE4YiJgKV2RMUPPM4o0iUoSNQjwDzEr_aVSducoWYa5kWJWGoKP_Px4UTOPl-dkwSqSmGxkuRFmlZcj1GxWZ_BfjRfwG7XkFnYG3iBKxsOOihu0M9YsHiL5TBGeokhs62Ukb503di8wGS_wKD/dl4/d5/L2dBISEvZ0FBIS9nQSEh/pw/Z7_BS88AB1A0GSM10A6E365201G25/act/id=0/p=ACTION_NAME_PARAM=SourceAction/p=idLicitacion=792800575/521811141982/-/\n",
      "\n",
      "https://contrataciondelestado.es/wps/portal/!ut/p/b1/jY_LDoIwEEW_xQ8wMy20wLI82mLwkVRQujFdGIPhsTF-v0jYgs7uJufkzgUL9ZYgRoEXEoJwBdu7d_Nwr2boXfvNlt9iE4YiJgKV2RMUPPM4o0iUoSNQjwDzEr_aVSducoWYa5kWJWGoKP_Px4UTOPl-dkwSqSmGxkuRFmlZcj1GxWZ_BfjRfwG7XkFnYG3iBKxsOOihu0M9YsHiL5TBGeokhs62Ukb503di8wGS_wKD/dl4/d5/L2dBISEvZ0FBIS9nQSEh/pw/Z7_BS88AB1A0GSM10A6E365201G25/act/id=0/p=ACTION_NAME_PARAM=SourceAction/p=idLicitacion=819368319/521811141982/-/\n",
      "\n",
      "https://contrataciondelestado.es/wps/portal/!ut/p/b1/jY_LDoIwEEW_xQ8wMy20wLI82mLwkVRQujFdGIPhsTF-v0jYgs7uJufkzgUL9ZYgRoEXEoJwBdu7d_Nwr2boXfvNlt9iE4YiJgKV2RMUPPM4o0iUoSNQjwDzEr_aVSducoWYa5kWJWGoKP_Px4UTOPl-dkwSqSmGxkuRFmlZcj1GxWZ_BfjRfwG7XkFnYG3iBKxsOOihu0M9YsHiL5TBGeokhs62Ukb503di8wGS_wKD/dl4/d5/L2dBISEvZ0FBIS9nQSEh/pw/Z7_BS88AB1A0GSM10A6E365201G25/act/id=0/p=ACTION_NAME_PARAM=SourceAction/p=idLicitacion=629167173/521811141982/-/\n",
      "\n",
      "https://contrataciondelestado.es/wps/portal/!ut/p/b1/jY_LDoIwEEW_xQ8wMy20wLI82mLwkVRQujFdGIPhsTF-v0jYgs7uJufkzgUL9ZYgRoEXEoJwBdu7d_Nwr2boXfvNlt9iE4YiJgKV2RMUPPM4o0iUoSNQjwDzEr_aVSducoWYa5kWJWGoKP_Px4UTOPl-dkwSqSmGxkuRFmlZcj1GxWZ_BfjRfwG7XkFnYG3iBKxsOOihu0M9YsHiL5TBGeokhs62Ukb503di8wGS_wKD/dl4/d5/L2dBISEvZ0FBIS9nQSEh/pw/Z7_BS88AB1A0GSM10A6E365201G25/act/id=0/p=ACTION_NAME_PARAM=SourceAction/p=idLicitacion=783906894/521811141982/-/\n",
      "\n",
      "https://contrataciondelestado.es/wps/portal/!ut/p/b1/jY_LDoIwEEW_xQ8wMy20wLI82mLwkVRQujFdGIPhsTF-v0jYgs7uJufkzgUL9ZYgRoEXEoJwBdu7d_Nwr2boXfvNlt9iE4YiJgKV2RMUPPM4o0iUoSNQjwDzEr_aVSducoWYa5kWJWGoKP_Px4UTOPl-dkwSqSmGxkuRFmlZcj1GxWZ_BfjRfwG7XkFnYG3iBKxsOOihu0M9YsHiL5TBGeokhs62Ukb503di8wGS_wKD/dl4/d5/L2dBISEvZ0FBIS9nQSEh/pw/Z7_BS88AB1A0GSM10A6E365201G25/act/id=0/p=ACTION_NAME_PARAM=SourceAction/p=idLicitacion=783687129/521811141983/-/\n",
      "\n",
      "https://contrataciondelestado.es/wps/portal/!ut/p/b1/jY_LDoIwEEW_xQ8wMy20wLI82mLwkVRQujFdGIPhsTF-v0jYgs7uJufkzgUL9ZYgRoEXEoJwBdu7d_Nwr2boXfvNlt9iE4YiJgKV2RMUPPM4o0iUoSNQjwDzEr_aVSducoWYa5kWJWGoKP_Px4UTOPl-dkwSqSmGxkuRFmlZcj1GxWZ_BfjRfwG7XkFnYG3iBKxsOOihu0M9YsHiL5TBGeokhs62Ukb503di8wGS_wKD/dl4/d5/L2dBISEvZ0FBIS9nQSEh/pw/Z7_BS88AB1A0GSM10A6E365201G25/act/id=0/p=ACTION_NAME_PARAM=SourceAction/p=idLicitacion=783687130/521811141983/-/\n",
      "\n",
      "https://contrataciondelestado.es/wps/portal/!ut/p/b1/jY_LDoIwEEW_xQ8wMy20wLI8WjD4SCoo3ZgujMHw2Bi_30rYgs7uJufkzgUDzZYgRoEXEoJwBTPYd_uwr3YcbPfNht9iHYYiJgKV3hMUPPM4o0iUpg5oHMC8xK939YnrQiEWuUzLijBUlP_n48IJnHw_OyaJzCmG2kuRlmlV8dxFxWZ_BfjRfwGzXkFnYG3iBKxsOORjf4fGYcHiL5TBGZo0ht50UkbF07di8wGI8AMY/dl4/d5/L2dBISEvZ0FBIS9nQSEh/pw/Z7_BS88AB1A0GSM10A6E365201G25/act/id=0/p=ACTION_NAME_PARAM=SourceAction/p=idLicitacion=808682074/521811144577/-/\n",
      "\n",
      "https://contrataciondelestado.es/wps/portal/!ut/p/b1/jY_LDoIwEEW_xQ8wMy20wLI8WjD4SCoo3ZgujMHw2Bi_30rYgs7uJufkzgUDzZYgRoEXEoJwBTPYd_uwr3YcbPfNht9iHYYiJgKV3hMUPPM4o0iUpg5oHMC8xK939YnrQiEWuUzLijBUlP_n48IJnHw_OyaJzCmG2kuRlmlV8dxFxWZ_BfjRfwGzXkFnYG3iBKxsOORjf4fGYcHiL5TBGZo0ht50UkbF07di8wGI8AMY/dl4/d5/L2dBISEvZ0FBIS9nQSEh/pw/Z7_BS88AB1A0GSM10A6E365201G25/act/id=0/p=ACTION_NAME_PARAM=SourceAction/p=idLicitacion=828884020/521811144577/-/\n",
      "\n",
      "https://contrataciondelestado.es/wps/portal/!ut/p/b1/jY_LDoIwEEW_xQ8wMy20wLI8WjD4SCoo3ZgujMHw2Bi_30rYgs7uJufkzgUDzZYgRoEXEoJwBTPYd_uwr3YcbPfNht9iHYYiJgKV3hMUPPM4o0iUpg5oHMC8xK939YnrQiEWuUzLijBUlP_n48IJnHw_OyaJzCmG2kuRlmlV8dxFxWZ_BfjRfwGzXkFnYG3iBKxsOORjf4fGYcHiL5TBGZo0ht50UkbF07di8wGI8AMY/dl4/d5/L2dBISEvZ0FBIS9nQSEh/pw/Z7_BS88AB1A0GSM10A6E365201G25/act/id=0/p=ACTION_NAME_PARAM=SourceAction/p=idLicitacion=830234785/521811144577/-/\n",
      "\n",
      "https://contrataciondelestado.es/wps/portal/!ut/p/b1/jY_LDoIwEEW_xQ8wMy20wLI8WjD4SCoo3ZgujMHw2Bi_30rYgs7uJufkzgUDzZYgRoEXEoJwBTPYd_uwr3YcbPfNht9iHYYiJgKV3hMUPPM4o0iUpg5oHMC8xK939YnrQiEWuUzLijBUlP_n48IJnHw_OyaJzCmG2kuRlmlV8dxFxWZ_BfjRfwGzXkFnYG3iBKxsOORjf4fGYcHiL5TBGZo0ht50UkbF07di8wGI8AMY/dl4/d5/L2dBISEvZ0FBIS9nQSEh/pw/Z7_BS88AB1A0GSM10A6E365201G25/act/id=0/p=ACTION_NAME_PARAM=SourceAction/p=idLicitacion=679381513/521811144578/-/\n",
      "\n",
      "https://contrataciondelestado.es/wps/portal/!ut/p/b1/jY_LDoIwEEW_xQ8wMy20wLI8WjD4SCoo3ZgujMHw2Bi_30rYgs7uJufkzgUDzZYgRoEXEoJwBTPYd_uwr3YcbPfNht9iHYYiJgKV3hMUPPM4o0iUpg5oHMC8xK939YnrQiEWuUzLijBUlP_n48IJnHw_OyaJzCmG2kuRlmlV8dxFxWZ_BfjRfwGzXkFnYG3iBKxsOORjf4fGYcHiL5TBGZo0ht50UkbF07di8wGI8AMY/dl4/d5/L2dBISEvZ0FBIS9nQSEh/pw/Z7_BS88AB1A0GSM10A6E365201G25/act/id=0/p=ACTION_NAME_PARAM=SourceAction/p=idLicitacion=765671279/521811144578/-/\n",
      "\n",
      "https://contrataciondelestado.es/wps/portal/!ut/p/b1/jY_LDoIwEEW_xQ8wMy20wLI8WjD4SCoo3ZgujMHw2Bi_30rYgs7uJufkzgUDzZYgRoEXEoJwBTPYd_uwr3YcbPfNht9iHYYiJgKV3hMUPPM4o0iUpg5oHMC8xK939YnrQiEWuUzLijBUlP_n48IJnHw_OyaJzCmG2kuRlmlV8dxFxWZ_BfjRfwGzXkFnYG3iBKxsOORjf4fGYcHiL5TBGZo0ht50UkbF07di8wGI8AMY/dl4/d5/L2dBISEvZ0FBIS9nQSEh/pw/Z7_BS88AB1A0GSM10A6E365201G25/act/id=0/p=ACTION_NAME_PARAM=SourceAction/p=idLicitacion=826732688/521811144578/-/\n",
      "\n",
      "https://contrataciondelestado.es/wps/portal/!ut/p/b1/jY_LDoIwEEW_xQ8wMy20lGV5tGDwkVRQujFdGIPhsTF-v0jYgs7uJufkzgUL9ZYghoEnCEG4gu3du3m4VzP0rv1my2-REUJGRKI2e4KSpx5nFIk2dATqEWBe7Fe76sRNrhHzTCVFSRhqyv_zceEkTr6fHuNYZRSF8RKkRVKWPBujZrO_Avzov4Bdr6AzsDZxAlY2HLKhu0M9YsHiL5TBGeo0gs62SoX503dy8wFgK_ih/dl4/d5/L2dBISEvZ0FBIS9nQSEh/pw/Z7_BS88AB1A0GSM10A6E365201G25/act/id=0/p=ACTION_NAME_PARAM=SourceAction/p=idLicitacion=831256850/521811147373/-/\n",
      "\n",
      "https://contrataciondelestado.es/wps/portal/!ut/p/b1/jY_LDoIwEEW_xQ8wMy20lGV5tGDwkVRQujFdGIPhsTF-v0jYgs7uJufkzgUL9ZYghoEnCEG4gu3du3m4VzP0rv1my2-REUJGRKI2e4KSpx5nFIk2dATqEWBe7Fe76sRNrhHzTCVFSRhqyv_zceEkTr6fHuNYZRSF8RKkRVKWPBujZrO_Avzov4Bdr6AzsDZxAlY2HLKhu0M9YsHiL5TBGeo0gs62SoX503dy8wFgK_ih/dl4/d5/L2dBISEvZ0FBIS9nQSEh/pw/Z7_BS88AB1A0GSM10A6E365201G25/act/id=0/p=ACTION_NAME_PARAM=SourceAction/p=idLicitacion=827628838/521811147374/-/\n",
      "\n",
      "https://contrataciondelestado.es/wps/portal/!ut/p/b1/jY_LDoIwEEW_xQ8wMy20lGV5tGDwkVRQujFdGIPhsTF-v0jYgs7uJufkzgUL9ZYghoEnCEG4gu3du3m4VzP0rv1my2-REUJGRKI2e4KSpx5nFIk2dATqEWBe7Fe76sRNrhHzTCVFSRhqyv_zceEkTr6fHuNYZRSF8RKkRVKWPBujZrO_Avzov4Bdr6AzsDZxAlY2HLKhu0M9YsHiL5TBGeo0gs62SoX503dy8wFgK_ih/dl4/d5/L2dBISEvZ0FBIS9nQSEh/pw/Z7_BS88AB1A0GSM10A6E365201G25/act/id=0/p=ACTION_NAME_PARAM=SourceAction/p=idLicitacion=754824253/521811147374/-/\n",
      "\n",
      "https://contrataciondelestado.es/wps/portal/!ut/p/b1/jY_LDoIwEEW_xQ8wMy20lGV5tGDwkVRQujFdGIPhsTF-v0jYgs7uJufkzgUL9ZYghoEnCEG4gu3du3m4VzP0rv1my2-REUJGRKI2e4KSpx5nFIk2dATqEWBe7Fe76sRNrhHzTCVFSRhqyv_zceEkTr6fHuNYZRSF8RKkRVKWPBujZrO_Avzov4Bdr6AzsDZxAlY2HLKhu0M9YsHiL5TBGeo0gs62SoX503dy8wFgK_ih/dl4/d5/L2dBISEvZ0FBIS9nQSEh/pw/Z7_BS88AB1A0GSM10A6E365201G25/act/id=0/p=ACTION_NAME_PARAM=SourceAction/p=idLicitacion=698875746/521811147374/-/\n",
      "\n",
      "https://contrataciondelestado.es/wps/portal/!ut/p/b1/jY_LDoIwEEW_xQ8wMy20lGV5tGDwkVRQujFdGIPhsTF-v0jYgs7uJufkzgUL9ZYghoEnCEG4gu3du3m4VzP0rv1my2-REUJGRKI2e4KSpx5nFIk2dATqEWBe7Fe76sRNrhHzTCVFSRhqyv_zceEkTr6fHuNYZRSF8RKkRVKWPBujZrO_Avzov4Bdr6AzsDZxAlY2HLKhu0M9YsHiL5TBGeo0gs62SoX503dy8wFgK_ih/dl4/d5/L2dBISEvZ0FBIS9nQSEh/pw/Z7_BS88AB1A0GSM10A6E365201G25/act/id=0/p=ACTION_NAME_PARAM=SourceAction/p=idLicitacion=829623403/521811147374/-/\n",
      "\n",
      "https://contrataciondelestado.es/wps/portal/!ut/p/b1/jY_LDoIwEEW_xQ8wMy20lGV5tGDwkVRQujFdGIPhsTF-v0jYgs7uJufkzgUL9ZYghoEnCEG4gu3du3m4VzP0rv1my2-REUJGRKI2e4KSpx5nFIk2dATqEWBe7Fe76sRNrhHzTCVFSRhqyv_zceEkTr6fHuNYZRSF8RKkRVKWPBujZrO_Avzov4Bdr6AzsDZxAlY2HLKhu0M9YsHiL5TBGeo0gs62SoX503dy8wFgK_ih/dl4/d5/L2dBISEvZ0FBIS9nQSEh/pw/Z7_BS88AB1A0GSM10A6E365201G25/act/id=0/p=ACTION_NAME_PARAM=SourceAction/p=idLicitacion=825720418/521811147374/-/\n",
      "\n",
      "https://contrataciondelestado.es/wps/portal/!ut/p/b1/jY_LDoIwEEW_xQ8wMy20wLI82mLwkVRQujFdGIPhsTF-v0jYgs7uJufkzgUL9ZYgRoEXEoJwBdu7d_Nwr2boXfvNlt9iE4YiJgKV2RMUPPM4o0iUoSNQjwDzEr_aVSducoWYa5kWJWGoKP_Px4UTOPl-dkwSqSmGxkuRFmlZcj1GxWZ_BfjRfwG7XkFnYG3iBKxsOOihu0M9YsHiL5TBGWoZQ2dbKaP86Tux-QAZQYWw/dl4/d5/L2dBISEvZ0FBIS9nQSEh/pw/Z7_BS88AB1A0GSM10A6E365201G25/act/id=0/p=ACTION_NAME_PARAM=SourceAction/p=idLicitacion=767002925/521811148937/-/\n",
      "\n",
      "https://contrataciondelestado.es/wps/portal/!ut/p/b1/jY_LDoIwEEW_xQ8wMy20wLI82mLwkVRQujFdGIPhsTF-v0jYgs7uJufkzgUL9ZYgRoEXEoJwBdu7d_Nwr2boXfvNlt9iE4YiJgKV2RMUPPM4o0iUoSNQjwDzEr_aVSducoWYa5kWJWGoKP_Px4UTOPl-dkwSqSmGxkuRFmlZcj1GxWZ_BfjRfwG7XkFnYG3iBKxsOOihu0M9YsHiL5TBGWoZQ2dbKaP86Tux-QAZQYWw/dl4/d5/L2dBISEvZ0FBIS9nQSEh/pw/Z7_BS88AB1A0GSM10A6E365201G25/act/id=0/p=ACTION_NAME_PARAM=SourceAction/p=idLicitacion=831086669/521811148938/-/\n",
      "\n",
      "https://contrataciondelestado.es/wps/portal/!ut/p/b1/jY_LDoIwEEW_xQ8wMy20wLI82mLwkVRQujFdGIPhsTF-v0jYgs7uJufkzgUL9ZYgRoEXEoJwBdu7d_Nwr2boXfvNlt9iE4YiJgKV2RMUPPM4o0iUoSNQjwDzEr_aVSducoWYa5kWJWGoKP_Px4UTOPl-dkwSqSmGxkuRFmlZcj1GxWZ_BfjRfwG7XkFnYG3iBKxsOOihu0M9YsHiL5TBGWoZQ2dbKaP86Tux-QAZQYWw/dl4/d5/L2dBISEvZ0FBIS9nQSEh/pw/Z7_BS88AB1A0GSM10A6E365201G25/act/id=0/p=ACTION_NAME_PARAM=SourceAction/p=idLicitacion=830264175/521811148938/-/\n",
      "\n",
      "https://contrataciondelestado.es/wps/portal/!ut/p/b1/jY_LDoIwEEW_xQ8wMy20wLI82mLwkVRQujFdGIPhsTF-v0jYgs7uJufkzgUL9ZYgRoEXEoJwBdu7d_Nwr2boXfvNlt9iE4YiJgKV2RMUPPM4o0iUoSNQjwDzEr_aVSducoWYa5kWJWGoKP_Px4UTOPl-dkwSqSmGxkuRFmlZcj1GxWZ_BfjRfwG7XkFnYG3iBKxsOOihu0M9YsHiL5TBGWoZQ2dbKaP86Tux-QAZQYWw/dl4/d5/L2dBISEvZ0FBIS9nQSEh/pw/Z7_BS88AB1A0GSM10A6E365201G25/act/id=0/p=ACTION_NAME_PARAM=SourceAction/p=idLicitacion=691924892/521811148938/-/\n",
      "\n",
      "https://contrataciondelestado.es/wps/portal/!ut/p/b1/jY_LDoIwEEW_xQ8wMy20wLI82mLwkVRQujFdGIPhsTF-v0jYgs7uJufkzgUL9ZYgRoEXEoJwBdu7d_Nwr2boXfvNlt9iE4YiJgKV2RMUPPM4o0iUoSNQjwDzEr_aVSducoWYa5kWJWGoKP_Px4UTOPl-dkwSqSmGxkuRFmlZcj1GxWZ_BfjRfwG7XkFnYG3iBKxsOOihu0M9YsHiL5TBGWoZQ2dbKaP86Tux-QAZQYWw/dl4/d5/L2dBISEvZ0FBIS9nQSEh/pw/Z7_BS88AB1A0GSM10A6E365201G25/act/id=0/p=ACTION_NAME_PARAM=SourceAction/p=idLicitacion=765129647/521811148938/-/\n",
      "\n",
      "https://contrataciondelestado.es/wps/portal/!ut/p/b1/jY_LDoIwEEW_xQ8wMy20wLI82mLwkVRQujFdGIPhsTF-v0jYgs7uJufkzgUL9ZYgRoEXEoJwBdu7d_Nwr2boXfvNlt9iE4YiJgKV2RMUPPM4o0iUoSNQjwDzEr_aVSducoWYa5kWJWGoKP_Px4UTOPl-dkwSqSmGxkuRFmlZcj1GxWZ_BfjRfwG7XkFnYG3iBKxsOOihu0M9YsHiL5TBGWoZQ2dbKaP86Tux-QAZQYWw/dl4/d5/L2dBISEvZ0FBIS9nQSEh/pw/Z7_BS88AB1A0GSM10A6E365201G25/act/id=0/p=ACTION_NAME_PARAM=SourceAction/p=idLicitacion=816822178/521811148939/-/\n",
      "\n",
      "https://contrataciondelestado.es/wps/portal/!ut/p/b1/jY_LDoIwEEW_xQ8wMy20wLI82mLwkVRQujFdGIPhsTF-v0jYgs7uJufkzgUL9ZYgRoEXEoJwBdu7d_Nwr2boXfvNlt9iE4YiJgKV2RMUPPM4o0iUoSNQjwDzEr_aVSducoWYa5kWJWGoKP_Px4UTOPl-dkwSqSmGxkuRFmlZcj1GxWZ_BfjRfwG7XkFnYG3iBKxsOOihu0M9YsHiL5TBGWoVQ2dbKaP86Tux-QDxmn4J/dl4/d5/L2dBISEvZ0FBIS9nQSEh/pw/Z7_BS88AB1A0GSM10A6E365201G25/act/id=0/p=ACTION_NAME_PARAM=SourceAction/p=idLicitacion=742874805/521811151745/-/\n",
      "\n",
      "https://contrataciondelestado.es/wps/portal/!ut/p/b1/jY_LDoIwEEW_xQ8wMy20wLI82mLwkVRQujFdGIPhsTF-v0jYgs7uJufkzgUL9ZYgRoEXEoJwBdu7d_Nwr2boXfvNlt9iE4YiJgKV2RMUPPM4o0iUoSNQjwDzEr_aVSducoWYa5kWJWGoKP_Px4UTOPl-dkwSqSmGxkuRFmlZcj1GxWZ_BfjRfwG7XkFnYG3iBKxsOOihu0M9YsHiL5TBGWoVQ2dbKaP86Tux-QDxmn4J/dl4/d5/L2dBISEvZ0FBIS9nQSEh/pw/Z7_BS88AB1A0GSM10A6E365201G25/act/id=0/p=ACTION_NAME_PARAM=SourceAction/p=idLicitacion=769373080/521811151745/-/\n",
      "\n",
      "https://contrataciondelestado.es/wps/portal/!ut/p/b1/jY_LDoIwEEW_xQ8wMy20wLI82mLwkVRQujFdGIPhsTF-v0jYgs7uJufkzgUL9ZYgRoEXEoJwBdu7d_Nwr2boXfvNlt9iE4YiJgKV2RMUPPM4o0iUoSNQjwDzEr_aVSducoWYa5kWJWGoKP_Px4UTOPl-dkwSqSmGxkuRFmlZcj1GxWZ_BfjRfwG7XkFnYG3iBKxsOOihu0M9YsHiL5TBGWoVQ2dbKaP86Tux-QDxmn4J/dl4/d5/L2dBISEvZ0FBIS9nQSEh/pw/Z7_BS88AB1A0GSM10A6E365201G25/act/id=0/p=ACTION_NAME_PARAM=SourceAction/p=idLicitacion=746287685/521811151745/-/\n",
      "\n",
      "https://contrataciondelestado.es/wps/portal/!ut/p/b1/jY_LDoIwEEW_xQ8wMy20wLI82mLwkVRQujFdGIPhsTF-v0jYgs7uJufkzgUL9ZYgRoEXEoJwBdu7d_Nwr2boXfvNlt9iE4YiJgKV2RMUPPM4o0iUoSNQjwDzEr_aVSducoWYa5kWJWGoKP_Px4UTOPl-dkwSqSmGxkuRFmlZcj1GxWZ_BfjRfwG7XkFnYG3iBKxsOOihu0M9YsHiL5TBGWoVQ2dbKaP86Tux-QDxmn4J/dl4/d5/L2dBISEvZ0FBIS9nQSEh/pw/Z7_BS88AB1A0GSM10A6E365201G25/act/id=0/p=ACTION_NAME_PARAM=SourceAction/p=idLicitacion=791622656/521811151746/-/\n",
      "\n",
      "https://contrataciondelestado.es/wps/portal/!ut/p/b1/jY_LDoIwEEW_xQ8wMy20wLI82mLwkVRQujFdGIPhsTF-v0jYgs7uJufkzgUL9ZYgRoEXEoJwBdu7d_Nwr2boXfvNlt9iE4YiJgKV2RMUPPM4o0iUoSNQjwDzEr_aVSducoWYa5kWJWGoKP_Px4UTOPl-dkwSqSmGxkuRFmlZcj1GxWZ_BfjRfwG7XkFnYG3iBKxsOOihu0M9YsHiL5TBGWoVQ2dbKaP86Tux-QDxmn4J/dl4/d5/L2dBISEvZ0FBIS9nQSEh/pw/Z7_BS88AB1A0GSM10A6E365201G25/act/id=0/p=ACTION_NAME_PARAM=SourceAction/p=idLicitacion=787657539/521811151746/-/\n",
      "\n",
      "https://contrataciondelestado.es/wps/portal/!ut/p/b1/jY_LDoIwEEW_xQ8wMy20wLI82mLwkVRQujFdGIPhsTF-v0jYgs7uJufkzgUL9ZYgRoEXEoJwBdu7d_Nwr2boXfvNlt9iE4YiJgKV2RMUPPM4o0iUoSNQjwDzEr_aVSducoWYa5kWJWGoKP_Px4UTOPl-dkwSqSmGxkuRFmlZcj1GxWZ_BfjRfwG7XkFnYG3iBKxsOOihu0M9YsHiL5TBGWoVQ2dbKaP86Tux-QDxmn4J/dl4/d5/L2dBISEvZ0FBIS9nQSEh/pw/Z7_BS88AB1A0GSM10A6E365201G25/act/id=0/p=ACTION_NAME_PARAM=SourceAction/p=idLicitacion=789483421/521811151746/-/\n",
      "\n",
      "https://contrataciondelestado.es/wps/portal/!ut/p/b1/jY_LDoIwEEW_xQ8wMy20wLI82mLwkVRQujFdGIPhsTF-v0jYgs7uJufkzgUL9ZYgRoEXEoJwBdu7d_Nwr2boXfvNlt9iE4YiJgKV2RMUPPM4o0iUoSNQjwDzEr_aVSducoWYa5kWJWGoKP_Px4UTOPl-dkwSqSmGxkuRFmlZcj1GxWZ_BfjRfwG7XkFnYG3iBKxsOOihu0M9YsHiL5TBGWodQ2dbKaP86Tux-QBsWfZd/dl4/d5/L2dBISEvZ0FBIS9nQSEh/pw/Z7_BS88AB1A0GSM10A6E365201G25/act/id=0/p=ACTION_NAME_PARAM=SourceAction/p=idLicitacion=832359530/521811153153/-/\n",
      "\n",
      "https://contrataciondelestado.es/wps/portal/!ut/p/b1/jY_LDoIwEEW_xQ8wMy20wLI82mLwkVRQujFdGIPhsTF-v0jYgs7uJufkzgUL9ZYgRoEXEoJwBdu7d_Nwr2boXfvNlt9iE4YiJgKV2RMUPPM4o0iUoSNQjwDzEr_aVSducoWYa5kWJWGoKP_Px4UTOPl-dkwSqSmGxkuRFmlZcj1GxWZ_BfjRfwG7XkFnYG3iBKxsOOihu0M9YsHiL5TBGWodQ2dbKaP86Tux-QBsWfZd/dl4/d5/L2dBISEvZ0FBIS9nQSEh/pw/Z7_BS88AB1A0GSM10A6E365201G25/act/id=0/p=ACTION_NAME_PARAM=SourceAction/p=idLicitacion=832359529/521811153153/-/\n",
      "\n",
      "https://contrataciondelestado.es/wps/portal/!ut/p/b1/jY_LDoIwEEW_xQ8wMy20wLI82mLwkVRQujFdGIPhsTF-v0jYgs7uJufkzgUL9ZYgRoEXEoJwBdu7d_Nwr2boXfvNlt9iE4YiJgKV2RMUPPM4o0iUoSNQjwDzEr_aVSducoWYa5kWJWGoKP_Px4UTOPl-dkwSqSmGxkuRFmlZcj1GxWZ_BfjRfwG7XkFnYG3iBKxsOOihu0M9YsHiL5TBGWodQ2dbKaP86Tux-QBsWfZd/dl4/d5/L2dBISEvZ0FBIS9nQSEh/pw/Z7_BS88AB1A0GSM10A6E365201G25/act/id=0/p=ACTION_NAME_PARAM=SourceAction/p=idLicitacion=818427774/521811153153/-/\n",
      "\n",
      "https://contrataciondelestado.es/wps/portal/!ut/p/b1/jY_LDoIwEEW_xQ8wMy20wLI82mLwkVRQujFdGIPhsTF-v0jYgs7uJufkzgUL9ZYgRoEXEoJwBdu7d_Nwr2boXfvNlt9iE4YiJgKV2RMUPPM4o0iUoSNQjwDzEr_aVSducoWYa5kWJWGoKP_Px4UTOPl-dkwSqSmGxkuRFmlZcj1GxWZ_BfjRfwG7XkFnYG3iBKxsOOihu0M9YsHiL5TBGWodQ2dbKaP86Tux-QBsWfZd/dl4/d5/L2dBISEvZ0FBIS9nQSEh/pw/Z7_BS88AB1A0GSM10A6E365201G25/act/id=0/p=ACTION_NAME_PARAM=SourceAction/p=idLicitacion=822799637/521811153153/-/\n",
      "\n",
      "https://contrataciondelestado.es/wps/portal/!ut/p/b1/jY_LDoIwEEW_xQ8wMy20wLI82mLwkVRQujFdGIPhsTF-v0jYgs7uJufkzgUL9ZYgRoEXEoJwBdu7d_Nwr2boXfvNlt9iE4YiJgKV2RMUPPM4o0iUoSNQjwDzEr_aVSducoWYa5kWJWGoKP_Px4UTOPl-dkwSqSmGxkuRFmlZcj1GxWZ_BfjRfwG7XkFnYG3iBKxsOOihu0M9YsHiL5TBGWodQ2dbKaP86Tux-QBsWfZd/dl4/d5/L2dBISEvZ0FBIS9nQSEh/pw/Z7_BS88AB1A0GSM10A6E365201G25/act/id=0/p=ACTION_NAME_PARAM=SourceAction/p=idLicitacion=814688405/521811153154/-/\n",
      "\n",
      "https://contrataciondelestado.es/wps/portal/!ut/p/b1/jY_LDoIwEEW_xQ8wMy20wLI82mLwkVRQujFdGIPhsTF-v0jYgs7uJufkzgUL9ZYgRoEXEoJwBdu7d_Nwr2boXfvNlt9iE4YiJgKV2RMUPPM4o0iUoSNQjwDzEr_aVSducoWYa5kWJWGoKP_Px4UTOPl-dkwSqSmGxkuRFmlZcj1GxWZ_BfjRfwG7XkFnYG3iBKxsOOihu0M9YsHiL5TBGWodQ2dbKaP86Tux-QBsWfZd/dl4/d5/L2dBISEvZ0FBIS9nQSEh/pw/Z7_BS88AB1A0GSM10A6E365201G25/act/id=0/p=ACTION_NAME_PARAM=SourceAction/p=idLicitacion=803989179/521811153154/-/\n",
      "\n"
     ]
    }
   ],
   "source": [
    "for li in links :\n",
    "    print(li)\n",
    "    print()"
   ]
  },
  {
   "cell_type": "code",
   "execution_count": 8,
   "id": "644036bc",
   "metadata": {
    "ExecuteTime": {
     "end_time": "2022-08-15T10:33:09.126862Z",
     "start_time": "2022-08-15T10:32:34.355190Z"
    },
    "code_folding": [],
    "scrolled": true
   },
   "outputs": [
    {
     "name": "stdout",
     "output_type": "stream",
     "text": [
      "('29606/22', 'Presidencia de la Agencia Estatal Consejo Superior de Investigaciones Científicas, M.P.', 'Resuelta', 'Suministro e instalación de tres equipos cromatógrafos de líquidos de ultra alta resolución destinados al Instituto de Química Médica, Instituto de Investigaciones Químicas e Instituto de Química Avanzada de Cataluña.', '468,000.00   Euros', '468,000.00   Euros', 'Suministros', '38432200-Cromatógrafos.', 'España - España', 'Abierto')\n",
      "_____________________________________________________________________________________________________________________________\n",
      "('ST2022-0-09', 'Hospital Universitario Ramón y Cajal', 'Evaluación', 'Trabajos de renovación de fontanería, aparatos sanitarios, gases medicinales, climatización, ventilación, extracción e instalaciones especiales del Área de Psiquiatría de la 8 Centro del Hospital Universitario Ramón y Cajal.', '497,724.76   Euros', '497,724.76   Euros', 'Obras', '45330000 Trabajos de fontanería., 45331000 Trabajos de instalación de calefacción, ventilación y aire acondicionado.', 'España - Madrid', 'Abierto simplificado')\n",
      "_____________________________________________________________________________________________________________________________\n",
      "('2022/ETSAE0904/00000212E', 'Sección de Asuntos Económicos de la Jefatura Sistemas de Información, Telecomunicaciones y Asistencia Técnica', 'Resuelta', 'Asistencia técnica al RT22 en materia de PRL y Normativa de Calidad y Medio Ambiente', '49,586.78   Euros', '109,090.91   Euros', 'Servicios', '71356300-Servicios de apoyo técnico.', 'España - Madrid - Madrid', 'Abierto simplificado')\n",
      "_____________________________________________________________________________________________________________________________\n",
      "('2022/02115', 'Director Gerente', 'Evaluación', 'Suministro e instalación de equipos de producción de climatización de los CS de La Peña y Otxarkoaga, OSI Bilbao Basurto', '178,920.00   Euros', '178,920.00   Euros', 'Suministros', '42512300 Unidades de climatización.', 'España - Bizkaia', 'Abierto')\n",
      "_____________________________________________________________________________________________________________________________\n",
      "('CN-13/2022', \"Regidoria Delegada d'Hisenda, Contractació i Estadística l'Ajuntament d'Alcúdia\", 'Publicada', 'El objeto del contrato es la prestación del servicio de reparación de viales, aceras y elementos de redes de drenaje de aguas pluviales del término municipal de Alcudia que se devenguen durante la vigencia del contrato y de las posibles prórrogas que se prevén.', '653,740.69   Euros', '1,568,976.48   Euros', 'Servicios', '50230000-Servicios de reparación, mantenimiento y servicios asociados relacionados con carreteras y otros equipos., 45231300-Trabajos de construcción de tuberías para agua y aguas residuales., 45233200-Trabajos diversos de pavimentación.', 'España - Mallorca', 'Abierto')\n",
      "_____________________________________________________________________________________________________________________________\n",
      "('597/2022 interpretacion', 'Alcaldía del Concello de Muras', 'Publicada', 'Mellora da eficiencia enerxética no Centro de Interpretación Medioambiental', '46,487.65   Euros', '58,207.22   Euros', 'Obras', '45321000-Trabajos de aislamiento térmico., 45421100-Instalación de puertas, ventanas y elementos conexos.', 'España - Lugo', 'Abierto simplificado')\n",
      "_____________________________________________________________________________________________________________________________\n",
      "('CN-03/2022', \"Regidoria Delegada d'Hisenda, Contractació i Estadística l'Ajuntament d'Alcúdia\", 'Publicada', 'El contrato tiene por objeto la adquisición de un aplicativo informático para disponer de la plataforma de administración electrónica y gestión de expedientes, así como los servicios de mantenimiento, actualización y adaptación del mismo a las necesidades del Ayuntamiento de Alcudia y del Consorcio de la Ciudad Romana de Pol·lèntia.', '314,400.00   Euros', '314,400.00   Euros', 'Servicios', '72000000-Servicios TI: consultoría, desarrollo de software, Internet y apoyo., 48311100-Sistema de gestión de documentos., 72512000-Servicios de gestión de documentos.', 'España - Mallorca - Alcúdia', 'Abierto')\n",
      "_____________________________________________________________________________________________________________________________\n",
      "('ASIMPL-09-2022', 'Presidencia del Organismo Autónomo de la Excma. Diputación Provincial de Alicante Instituto Alicantino de Cultura Juan Gil-Albert', 'Publicada', 'Servicio de diseño, maquetación, impresión y encuadernación de los premios de ayuntamientos, de la revista Canelobre y catálogo de arte (EAC) del Instituto Alicantino de Cultura Juan Gil-Albert por lotes para la anualidad 2022', '47,640.00   Euros', '47,640.00   Euros', 'Servicios', '79810000-Servicios de impresión., 79520000-Servicios de reprografía., 79800000-Servicios de impresión y servicios conexos., 79811000-Servicios de impresión digital.', 'España - Alicante/Alacant - Alicante', 'Abierto simplificado')\n",
      "_____________________________________________________________________________________________________________________________\n",
      "('1291/2022', 'Junta de Gobierno Local del Ayuntamiento de Sotillo de la Adrada', 'Resuelta', 'Obras del Plan de Asfaltado 2022: Camino de Las Cerquillas, Calle Claudio Sánchez Albornoz, Calle Pasada y Parque de Sotillo de la Adrada (Ávila), por procedimiento abierto simplificado sumario o abreviado.', '78,512.39   Euros', '78,512.39   Euros', 'Obras', '45233222-Trabajos de pavimentación y asfaltado.', 'España - Ávila', 'Abierto simplificado')\n",
      "_____________________________________________________________________________________________________________________________\n",
      "('55/T/22/SU/GE/A/C01', 'Dirección Gerente del Hospital Universitario Nuestra Señora de Candelaria', 'Publicada', 'Suministro, instalación, integración y formación de 18 estaciones de anestesia para el Complejo Hospitalario Nuestra Señora de Candelaria', '620,376.00   Euros', '620,376.00   Euros', 'Suministros', '33172100-Aparatos para anestesia.', 'España - Canarias', 'Abierto')\n",
      "_____________________________________________________________________________________________________________________________\n"
     ]
    }
   ],
   "source": [
    "article_list = []\n",
    "\n",
    "for link in links[:10] :\n",
    "    driver.get(link)\n",
    "    \n",
    "    File = driver.find_element(By.XPATH,'''//*[@id=\"viewns_Z7_AVEQAI930OBRD02JPMTPG21006_:form1:text_Expediente\"]''').text.strip()\n",
    "\n",
    "    Contracting_Authority = driver.find_element(By.XPATH,'''//*[@id=\"fila2_columna2\"]''').text.strip()\n",
    "    Bid_Status = driver.find_element(By.XPATH,'''//*[@id=\"fila3_columna2\"]''').text.strip()\n",
    "    Object_of_the_contract = driver.find_element(By.XPATH,'''//*[@id=\"fila4_columna2\"]''').text.strip()\n",
    "    Bidding_base_budget_without_taxes = driver.find_element(By.XPATH,'''//*[@id=\"fila5_columna2\"]''').text.strip()\n",
    "    Estimated_value_of_the_contract = driver.find_element(By.XPATH,'''//*[@id=\"fila6_columna2\"]''').text.strip()\n",
    "    Type_of_contract = driver.find_element(By.XPATH,'''//*[@id=\"fila7_columna2\"]''').text.strip()\n",
    "    CPV_code = driver.find_element(By.XPATH,'''//*[@id=\"fila8_columna2\"]''').text.strip()\n",
    "    Place_of_execution = driver.find_element(By.XPATH,'''//*[@id=\"fila9_columna2\"]''').text.strip()\n",
    "    Hiring_procedure = driver.find_element(By.XPATH,'''//*[@id=\"fila10_columna2\"]''').text.strip()\n",
    "    \n",
    "    data = (File,Contracting_Authority,Bid_Status,Object_of_the_contract,Bidding_base_budget_without_taxes,\n",
    "            Estimated_value_of_the_contract,Type_of_contract,\n",
    "            CPV_code,Place_of_execution,Hiring_procedure)\n",
    "    \n",
    "    article_list.append(data)\n",
    "    print(data)\n",
    "    print(\"_\"*125)"
   ]
  },
  {
   "cell_type": "code",
   "execution_count": 9,
   "id": "b8edbaa1",
   "metadata": {
    "ExecuteTime": {
     "end_time": "2022-08-15T10:33:09.143176Z",
     "start_time": "2022-08-15T10:33:09.126862Z"
    }
   },
   "outputs": [],
   "source": [
    "columns_list = ['File','Contracting_Authority','Bid_Status','Object_of_the_contract','Bidding_base_budget_without_taxes',\n",
    "                'Estimated_value_of_the_contract','Type_of_contract','CPV_code','Place_of_execution','Hiring_procedure']"
   ]
  },
  {
   "cell_type": "code",
   "execution_count": 10,
   "id": "e7aa2ba5",
   "metadata": {
    "ExecuteTime": {
     "end_time": "2022-08-15T10:33:09.174732Z",
     "start_time": "2022-08-15T10:33:09.143176Z"
    },
    "scrolled": false
   },
   "outputs": [
    {
     "data": {
      "text/html": [
       "<div>\n",
       "<style scoped>\n",
       "    .dataframe tbody tr th:only-of-type {\n",
       "        vertical-align: middle;\n",
       "    }\n",
       "\n",
       "    .dataframe tbody tr th {\n",
       "        vertical-align: top;\n",
       "    }\n",
       "\n",
       "    .dataframe thead th {\n",
       "        text-align: right;\n",
       "    }\n",
       "</style>\n",
       "<table border=\"1\" class=\"dataframe\">\n",
       "  <thead>\n",
       "    <tr style=\"text-align: right;\">\n",
       "      <th></th>\n",
       "      <th>File</th>\n",
       "      <th>Contracting_Authority</th>\n",
       "      <th>Bid_Status</th>\n",
       "      <th>Object_of_the_contract</th>\n",
       "      <th>Bidding_base_budget_without_taxes</th>\n",
       "      <th>Estimated_value_of_the_contract</th>\n",
       "      <th>Type_of_contract</th>\n",
       "      <th>CPV_code</th>\n",
       "      <th>Place_of_execution</th>\n",
       "      <th>Hiring_procedure</th>\n",
       "      <th>F_last_updated_date</th>\n",
       "      <th>URL</th>\n",
       "    </tr>\n",
       "  </thead>\n",
       "  <tbody>\n",
       "    <tr>\n",
       "      <th>0</th>\n",
       "      <td>29606/22</td>\n",
       "      <td>Presidencia de la Agencia Estatal Consejo Supe...</td>\n",
       "      <td>Resuelta</td>\n",
       "      <td>Suministro e instalación de tres equipos croma...</td>\n",
       "      <td>468,000.00   Euros</td>\n",
       "      <td>468,000.00   Euros</td>\n",
       "      <td>Suministros</td>\n",
       "      <td>38432200-Cromatógrafos.</td>\n",
       "      <td>España - España</td>\n",
       "      <td>Abierto</td>\n",
       "      <td>15-08-2022 12:30</td>\n",
       "      <td>https://contrataciondelestado.es/wps/portal/!u...</td>\n",
       "    </tr>\n",
       "    <tr>\n",
       "      <th>1</th>\n",
       "      <td>ST2022-0-09</td>\n",
       "      <td>Hospital Universitario Ramón y Cajal</td>\n",
       "      <td>Evaluación</td>\n",
       "      <td>Trabajos de renovación de fontanería, aparatos...</td>\n",
       "      <td>497,724.76   Euros</td>\n",
       "      <td>497,724.76   Euros</td>\n",
       "      <td>Obras</td>\n",
       "      <td>45330000 Trabajos de fontanería., 45331000 Tra...</td>\n",
       "      <td>España - Madrid</td>\n",
       "      <td>Abierto simplificado</td>\n",
       "      <td>15-08-2022 11:40</td>\n",
       "      <td>https://contrataciondelestado.es/wps/portal/!u...</td>\n",
       "    </tr>\n",
       "    <tr>\n",
       "      <th>2</th>\n",
       "      <td>2022/ETSAE0904/00000212E</td>\n",
       "      <td>Sección de Asuntos Económicos de la Jefatura S...</td>\n",
       "      <td>Resuelta</td>\n",
       "      <td>Asistencia técnica al RT22 en materia de PRL y...</td>\n",
       "      <td>49,586.78   Euros</td>\n",
       "      <td>109,090.91   Euros</td>\n",
       "      <td>Servicios</td>\n",
       "      <td>71356300-Servicios de apoyo técnico.</td>\n",
       "      <td>España - Madrid - Madrid</td>\n",
       "      <td>Abierto simplificado</td>\n",
       "      <td>15-08-2022 11:27</td>\n",
       "      <td>https://contrataciondelestado.es/wps/portal/!u...</td>\n",
       "    </tr>\n",
       "    <tr>\n",
       "      <th>3</th>\n",
       "      <td>2022/02115</td>\n",
       "      <td>Director Gerente</td>\n",
       "      <td>Evaluación</td>\n",
       "      <td>Suministro e instalación de equipos de producc...</td>\n",
       "      <td>178,920.00   Euros</td>\n",
       "      <td>178,920.00   Euros</td>\n",
       "      <td>Suministros</td>\n",
       "      <td>42512300 Unidades de climatización.</td>\n",
       "      <td>España - Bizkaia</td>\n",
       "      <td>Abierto</td>\n",
       "      <td>15-08-2022 11:10</td>\n",
       "      <td>https://contrataciondelestado.es/wps/portal/!u...</td>\n",
       "    </tr>\n",
       "    <tr>\n",
       "      <th>4</th>\n",
       "      <td>CN-13/2022</td>\n",
       "      <td>Regidoria Delegada d'Hisenda, Contractació i E...</td>\n",
       "      <td>Publicada</td>\n",
       "      <td>El objeto del contrato es la prestación del se...</td>\n",
       "      <td>653,740.69   Euros</td>\n",
       "      <td>1,568,976.48   Euros</td>\n",
       "      <td>Servicios</td>\n",
       "      <td>50230000-Servicios de reparación, mantenimient...</td>\n",
       "      <td>España - Mallorca</td>\n",
       "      <td>Abierto</td>\n",
       "      <td>15-08-2022 11:09</td>\n",
       "      <td>https://contrataciondelestado.es/wps/portal/!u...</td>\n",
       "    </tr>\n",
       "  </tbody>\n",
       "</table>\n",
       "</div>"
      ],
      "text/plain": [
       "                       File  \\\n",
       "0                  29606/22   \n",
       "1               ST2022-0-09   \n",
       "2  2022/ETSAE0904/00000212E   \n",
       "3                2022/02115   \n",
       "4                CN-13/2022   \n",
       "\n",
       "                               Contracting_Authority  Bid_Status  \\\n",
       "0  Presidencia de la Agencia Estatal Consejo Supe...    Resuelta   \n",
       "1               Hospital Universitario Ramón y Cajal  Evaluación   \n",
       "2  Sección de Asuntos Económicos de la Jefatura S...    Resuelta   \n",
       "3                                   Director Gerente  Evaluación   \n",
       "4  Regidoria Delegada d'Hisenda, Contractació i E...   Publicada   \n",
       "\n",
       "                              Object_of_the_contract  \\\n",
       "0  Suministro e instalación de tres equipos croma...   \n",
       "1  Trabajos de renovación de fontanería, aparatos...   \n",
       "2  Asistencia técnica al RT22 en materia de PRL y...   \n",
       "3  Suministro e instalación de equipos de producc...   \n",
       "4  El objeto del contrato es la prestación del se...   \n",
       "\n",
       "  Bidding_base_budget_without_taxes Estimated_value_of_the_contract  \\\n",
       "0                468,000.00   Euros              468,000.00   Euros   \n",
       "1                497,724.76   Euros              497,724.76   Euros   \n",
       "2                 49,586.78   Euros              109,090.91   Euros   \n",
       "3                178,920.00   Euros              178,920.00   Euros   \n",
       "4                653,740.69   Euros            1,568,976.48   Euros   \n",
       "\n",
       "  Type_of_contract                                           CPV_code  \\\n",
       "0      Suministros                            38432200-Cromatógrafos.   \n",
       "1            Obras  45330000 Trabajos de fontanería., 45331000 Tra...   \n",
       "2        Servicios               71356300-Servicios de apoyo técnico.   \n",
       "3      Suministros                42512300 Unidades de climatización.   \n",
       "4        Servicios  50230000-Servicios de reparación, mantenimient...   \n",
       "\n",
       "         Place_of_execution      Hiring_procedure F_last_updated_date  \\\n",
       "0           España - España               Abierto    15-08-2022 12:30   \n",
       "1           España - Madrid  Abierto simplificado    15-08-2022 11:40   \n",
       "2  España - Madrid - Madrid  Abierto simplificado    15-08-2022 11:27   \n",
       "3          España - Bizkaia               Abierto    15-08-2022 11:10   \n",
       "4         España - Mallorca               Abierto    15-08-2022 11:09   \n",
       "\n",
       "                                                 URL  \n",
       "0  https://contrataciondelestado.es/wps/portal/!u...  \n",
       "1  https://contrataciondelestado.es/wps/portal/!u...  \n",
       "2  https://contrataciondelestado.es/wps/portal/!u...  \n",
       "3  https://contrataciondelestado.es/wps/portal/!u...  \n",
       "4  https://contrataciondelestado.es/wps/portal/!u...  "
      ]
     },
     "execution_count": 10,
     "metadata": {},
     "output_type": "execute_result"
    }
   ],
   "source": [
    "#temp df\n",
    "temp_df = pd.DataFrame(article_list,columns= columns_list)\n",
    "temp_df[\"F_last_updated_date\"] = F_last_updated_dates[:len(temp_df)]\n",
    "temp_df[\"URL\"] = SITE_LINK\n",
    "temp_df.head() "
   ]
  },
  {
   "cell_type": "code",
   "execution_count": 11,
   "id": "f6deae1d",
   "metadata": {
    "ExecuteTime": {
     "end_time": "2022-08-15T10:33:09.190344Z",
     "start_time": "2022-08-15T10:33:09.174732Z"
    }
   },
   "outputs": [],
   "source": [
    "#to csv\n",
    "temp_df.to_csv(f'{SITE_NAME} news.csv',index = False)\n",
    "\n",
    "#to json\n",
    "temp_df.to_json(f'{SITE_NAME} news.json')"
   ]
  },
  {
   "cell_type": "code",
   "execution_count": 12,
   "id": "b984437c",
   "metadata": {
    "ExecuteTime": {
     "end_time": "2022-08-15T10:33:09.947377Z",
     "start_time": "2022-08-15T10:33:09.190344Z"
    }
   },
   "outputs": [],
   "source": [
    "driver.quit()"
   ]
  }
 ],
 "metadata": {
  "kernelspec": {
   "display_name": "Python 3 (ipykernel)",
   "language": "python",
   "name": "python3"
  },
  "language_info": {
   "codemirror_mode": {
    "name": "ipython",
    "version": 3
   },
   "file_extension": ".py",
   "mimetype": "text/x-python",
   "name": "python",
   "nbconvert_exporter": "python",
   "pygments_lexer": "ipython3",
   "version": "3.8.13"
  }
 },
 "nbformat": 4,
 "nbformat_minor": 5
}
