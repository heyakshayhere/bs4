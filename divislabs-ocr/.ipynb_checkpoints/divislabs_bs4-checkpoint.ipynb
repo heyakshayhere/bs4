{
 "cells": [
  {
   "cell_type": "markdown",
   "id": "02b78cf4",
   "metadata": {},
   "source": [
    "**url**\n",
    "\n",
    "https://www.divislabs.com/investor-relations/press-release/#2021-22"
   ]
  },
  {
   "cell_type": "code",
   "execution_count": null,
   "id": "b0b39302",
   "metadata": {},
   "outputs": [],
   "source": []
  },
  {
   "cell_type": "code",
   "execution_count": 1,
   "id": "1d7bc374",
   "metadata": {
    "ExecuteTime": {
     "end_time": "2022-06-05T11:41:27.461296Z",
     "start_time": "2022-06-05T11:41:22.701123Z"
    }
   },
   "outputs": [
    {
     "name": "stderr",
     "output_type": "stream",
     "text": [
      "D:\\Anaconda\\envs\\gpu_16march2022\\lib\\site-packages\\tqdm\\auto.py:22: TqdmWarning: IProgress not found. Please update jupyter and ipywidgets. See https://ipywidgets.readthedocs.io/en/stable/user_install.html\n",
      "  from .autonotebook import tqdm as notebook_tqdm\n",
      "CUDA not available - defaulting to CPU. Note: This module is much faster with a GPU.\n"
     ]
    },
    {
     "data": {
      "application/javascript": [
       "IPython.notebook.set_autosave_interval(1000)"
      ]
     },
     "metadata": {},
     "output_type": "display_data"
    },
    {
     "name": "stdout",
     "output_type": "stream",
     "text": [
      "Autosaving every 1 seconds\n"
     ]
    }
   ],
   "source": [
    "import os \n",
    "os.environ['KMP_DUPLICATE_LIB_OK']='True'\n",
    "\n",
    "import pandas as pd,requests,bs4,re,time,io,pdftotext,easyocr,random\n",
    "from pdfminer.high_level import extract_text\n",
    "from pathlib import Path\n",
    "import pytesseract, PIL \n",
    "from pdf2image import convert_from_path\n",
    "from selenium.webdriver.common.by import By\n",
    "from goose3 import Goose\n",
    "from datetime import datetime\n",
    "from bs4 import BeautifulSoup\n",
    "from selenium import webdriver\n",
    "\n",
    "reader = easyocr.Reader(['en'])\n",
    "\n",
    "import warnings\n",
    "warnings.filterwarnings(\"ignore\")\n",
    "\n",
    "%autosave 1"
   ]
  },
  {
   "cell_type": "code",
   "execution_count": 2,
   "id": "50ec4e52",
   "metadata": {
    "ExecuteTime": {
     "end_time": "2022-06-05T11:41:27.477254Z",
     "start_time": "2022-06-05T11:41:27.463290Z"
    }
   },
   "outputs": [],
   "source": [
    "SITE_NAME='Divislabs'\n",
    "\n",
    "DOMAIN = \"https://www.divislabs.com\"\n",
    "\n",
    "SITE_LINK=\"https://www.divislabs.com/investor-relations/press-release/\""
   ]
  },
  {
   "cell_type": "code",
   "execution_count": 3,
   "id": "668fb91b",
   "metadata": {
    "ExecuteTime": {
     "end_time": "2022-06-05T11:41:27.507184Z",
     "start_time": "2022-06-05T11:41:27.480245Z"
    }
   },
   "outputs": [],
   "source": [
    "def parse_webpage_bs(search_url):\n",
    "    \n",
    "    headers = {\n",
    "        \"User-Agent\": \"Mozilla/5.0 (Windows NT 10.0; Win64; x64; rv:90.0) Gecko/20100101 Firefox/90.0\"}\n",
    "    try:\n",
    "        site_request = requests.get(search_url, headers=headers, timeout=10)\n",
    "    except requests.exceptions.RequestException as e:\n",
    "        print(e)\n",
    "        site_request = None\n",
    "    if site_request != None and site_request.status_code==200:\n",
    "        site_soup = bs4.BeautifulSoup(site_request.content, \"lxml\")\n",
    "    else:\n",
    "        site_soup = None\n",
    "    return site_soup\n",
    "\n",
    "def remove_esc_chars(text):\n",
    "    return text.replace(\"\\n\", \" \").replace(\"\\t\", \" \").replace(\"\\r\", \" \")\n",
    "\n",
    "def get_text(link):\n",
    "    g = Goose()\n",
    "    article_extract = g.extract(url=link)\n",
    "    article = remove_esc_chars(article_extract.cleaned_text)\n",
    "    meta_data = remove_esc_chars(article_extract.meta_description)\n",
    "    whole_data = meta_data+article\n",
    "    text = whole_data.strip()\n",
    "    \n",
    "    if len(text) < 10:\n",
    "        try:\n",
    "            response = requests.get(link)\n",
    "            text = remove_esc_chars(extract_text(io.BytesIO(response.content)))\n",
    "\n",
    "            if len(text) < 10:\n",
    "                texts = \"\"\n",
    "                r = requests.get(link)\n",
    "                filename = Path('temp.pdf')\n",
    "                filename.write_bytes(r.content)\n",
    "\n",
    "                pages = convert_from_path('temp.pdf', 500)\n",
    "                for x in pages:\n",
    "                    x.save(\"temp.jpg\")\n",
    "                    output = reader.readtext(\"temp.jpg\")\n",
    "                    for o in output:\n",
    "                        texts += o[1]\n",
    "\n",
    "                text = remove_esc_chars(texts)\n",
    "        except:\n",
    "            text = \"\"\n",
    "    \n",
    "    return text"
   ]
  },
  {
   "cell_type": "code",
   "execution_count": 4,
   "id": "160fb91a",
   "metadata": {
    "ExecuteTime": {
     "end_time": "2022-06-05T11:42:59.403098Z",
     "start_time": "2022-06-05T11:41:27.512161Z"
    },
    "scrolled": true
   },
   "outputs": [
    {
     "name": "stdout",
     "output_type": "stream",
     "text": [
      "01/01/2022 Press Release Qtr4 2021-22\n",
      "01/01/2022 Press Release Qtr3 2021-22\n",
      "01/01/2022 Press Release Qtr2 2021-22\n"
     ]
    }
   ],
   "source": [
    "article_list = []\n",
    "pagination = str(datetime.today().year-1) +\"-\" + str(datetime.today().year)\n",
    "url = f\"https://www.divislabs.com/investor-relations/press-release/#{pagination}\"\n",
    "soup = parse_webpage_bs(url)\n",
    "if soup != None:\n",
    "    published_date = \"01/01/2022\"\n",
    "    elements = soup.findAll('div',{'class' :'boc_list_item_text small'})\n",
    "    for element in elements[:3]:\n",
    "        title = element.text.strip()\n",
    "        link = DOMAIN + element.find('a')['href']\n",
    "        \n",
    "        try:\n",
    "            date = \"01/01/\"+ str(int(title[-7:-3])+1)\n",
    "            published_date = date\n",
    "        except:\n",
    "            pass\n",
    "            \n",
    "        #text\n",
    "        text = get_text(link)\n",
    "            \n",
    "        #thumbnail and author\n",
    "        thumbnail = \"https://www.divislabs.com/wp-content/uploads/2016/05/divis-logo.png\"\n",
    "        author = SITE_NAME\n",
    "        \n",
    "        article = (published_date,title,text,link,thumbnail,author)\n",
    "        article_list.append(article)\n",
    "        print(published_date,title)"
   ]
  },
  {
   "cell_type": "code",
   "execution_count": 5,
   "id": "c443343f",
   "metadata": {
    "ExecuteTime": {
     "end_time": "2022-06-05T11:42:59.540730Z",
     "start_time": "2022-06-05T11:42:59.406091Z"
    }
   },
   "outputs": [
    {
     "data": {
      "text/html": [
       "<div>\n",
       "<style scoped>\n",
       "    .dataframe tbody tr th:only-of-type {\n",
       "        vertical-align: middle;\n",
       "    }\n",
       "\n",
       "    .dataframe tbody tr th {\n",
       "        vertical-align: top;\n",
       "    }\n",
       "\n",
       "    .dataframe thead th {\n",
       "        text-align: right;\n",
       "    }\n",
       "</style>\n",
       "<table border=\"1\" class=\"dataframe\">\n",
       "  <thead>\n",
       "    <tr style=\"text-align: right;\">\n",
       "      <th></th>\n",
       "      <th>date</th>\n",
       "      <th>title</th>\n",
       "      <th>article</th>\n",
       "      <th>url</th>\n",
       "      <th>thumbnail</th>\n",
       "      <th>author</th>\n",
       "    </tr>\n",
       "  </thead>\n",
       "  <tbody>\n",
       "    <tr>\n",
       "      <th>0</th>\n",
       "      <td>01/01/2022</td>\n",
       "      <td>Press Release Qtr4 2021-22</td>\n",
       "      <td>@)   DIVl'S LABORATORIES LIMITED  1-72/23(P)/D...</td>\n",
       "      <td>https://www.divislabs.com/wp-content/uploads/2...</td>\n",
       "      <td>https://www.divislabs.com/wp-content/uploads/2...</td>\n",
       "      <td>Divislabs</td>\n",
       "    </tr>\n",
       "    <tr>\n",
       "      <th>1</th>\n",
       "      <td>01/01/2022</td>\n",
       "      <td>Press Release Qtr3 2021-22</td>\n",
       "      <td>DIVI'S LABORATORIES LIMITECIN No.L2411OTG199OP...</td>\n",
       "      <td>https://www.divislabs.com/wp-content/uploads/2...</td>\n",
       "      <td>https://www.divislabs.com/wp-content/uploads/2...</td>\n",
       "      <td>Divislabs</td>\n",
       "    </tr>\n",
       "    <tr>\n",
       "      <th>2</th>\n",
       "      <td>01/01/2022</td>\n",
       "      <td>Press Release Qtr2 2021-22</td>\n",
       "      <td>DIVIS LABQRATQRIES LIMITEDCIN No.L24110TG199OP...</td>\n",
       "      <td>https://www.divislabs.com/wp-content/uploads/2...</td>\n",
       "      <td>https://www.divislabs.com/wp-content/uploads/2...</td>\n",
       "      <td>Divislabs</td>\n",
       "    </tr>\n",
       "  </tbody>\n",
       "</table>\n",
       "</div>"
      ],
      "text/plain": [
       "         date                       title  \\\n",
       "0  01/01/2022  Press Release Qtr4 2021-22   \n",
       "1  01/01/2022  Press Release Qtr3 2021-22   \n",
       "2  01/01/2022  Press Release Qtr2 2021-22   \n",
       "\n",
       "                                             article  \\\n",
       "0  @)   DIVl'S LABORATORIES LIMITED  1-72/23(P)/D...   \n",
       "1  DIVI'S LABORATORIES LIMITECIN No.L2411OTG199OP...   \n",
       "2  DIVIS LABQRATQRIES LIMITEDCIN No.L24110TG199OP...   \n",
       "\n",
       "                                                 url  \\\n",
       "0  https://www.divislabs.com/wp-content/uploads/2...   \n",
       "1  https://www.divislabs.com/wp-content/uploads/2...   \n",
       "2  https://www.divislabs.com/wp-content/uploads/2...   \n",
       "\n",
       "                                           thumbnail     author  \n",
       "0  https://www.divislabs.com/wp-content/uploads/2...  Divislabs  \n",
       "1  https://www.divislabs.com/wp-content/uploads/2...  Divislabs  \n",
       "2  https://www.divislabs.com/wp-content/uploads/2...  Divislabs  "
      ]
     },
     "execution_count": 5,
     "metadata": {},
     "output_type": "execute_result"
    }
   ],
   "source": [
    "temp_df = pd.DataFrame(article_list,columns=['date','title','article','url','thumbnail','author'])\n",
    "temp_df"
   ]
  },
  {
   "cell_type": "code",
   "execution_count": 6,
   "id": "eb3b5ce2",
   "metadata": {
    "ExecuteTime": {
     "end_time": "2022-06-05T11:42:59.556688Z",
     "start_time": "2022-06-05T11:42:59.542725Z"
    }
   },
   "outputs": [
    {
     "name": "stdout",
     "output_type": "stream",
     "text": [
      "01/01/2022 Press Release Qtr3 2021-22\n",
      "\n",
      "Divislabs https://www.divislabs.com/wp-content/uploads/2022/02/Press-release-on-Q3FY22-results.pdf\n",
      "\n",
      "DIVI'S LABORATORIES LIMITECIN No.L2411OTG199OPLCO118541-72/23(P)[ DIVIS_303, Cyber Hills, GachibowliHyderabad500 032 Telangana, IndiaPhone: (91)-40-66966300 email: cs@divislabs comPRESS RELEASE dated February 1L 2022Divi's Labs earns a consolidated total income of < 2510 crores in Q3 of FY22Consolidated ResultsDivi ' s   Laboratories has   earneda consolidated total  income of ? 2510 crores for the thirdquarter of the current year as against a total income of < 1721 crores during the correspondingquarter of last year; reflecting a growth of 46%. Profit before Tax (PBT) for the quarter grewby 61% to ? 1034 crores, asa PBT of ? 642 croresduring the corresponding quarter oflast year:  Profit after Tax (PAT) for the current quarter grew by 92% to < 902 crores as againsta PAT of ? 471 crores for the corresponding quarter oflast yearFor the 9-month period ended December2021, the company earned a PAT of & 2066 croreson & total income of ? 6503 crores, asagainsta PAT of < 1482 crores on a total income of ?5224 crores during the corresponding previous period.Standalone Resultsin croresParticularsQuarter endedNine-months ended31.12.202131.12.202031.12.202131.12.2020Total Income2483167664465123PBT103763026111976PAT90746120661467Forex Gain/(loss)Forex gain/loss, on standalone basis, for the period is given below:{ in croresQuarter endedNine-months ended31.12.202131.12.202031.12.202131.12.2020Forex gain/(loss)(4)3(4The Company continues to have near normal operations during the quarter complying to allcovid-19 protocols.Lcerad '0,52\"Gachibolagainst31,(aBoronORIES ,\n",
      "\n",
      "https://www.divislabs.com/wp-content/uploads/2016/05/divis-logo.png\n"
     ]
    }
   ],
   "source": [
    "def see_data(iloc_no=random.randint(0,len(temp_df))):\n",
    "    print(temp_df.iloc[iloc_no]['date'],temp_df.iloc[iloc_no]['title'])\n",
    "    print(f\"\\n{temp_df.iloc[iloc_no]['author']} {temp_df.iloc[iloc_no]['url']}\")\n",
    "    print(f\"\\n{temp_df.iloc[iloc_no]['article']}\")\n",
    "    print(f\"\\n{temp_df.iloc[iloc_no]['thumbnail']}\")\n",
    "\n",
    "see_data()"
   ]
  },
  {
   "cell_type": "code",
   "execution_count": 7,
   "id": "1436bc16",
   "metadata": {
    "ExecuteTime": {
     "end_time": "2022-06-05T11:42:59.618538Z",
     "start_time": "2022-06-05T11:42:59.558683Z"
    }
   },
   "outputs": [],
   "source": [
    "#to csv\n",
    "temp_df.to_csv(f'{SITE_NAME} news.csv',index = False)\n",
    "\n",
    "#to json\n",
    "temp_df.to_json(f'{SITE_NAME} news.json')"
   ]
  },
  {
   "cell_type": "code",
   "execution_count": 8,
   "id": "65771436",
   "metadata": {
    "ExecuteTime": {
     "end_time": "2022-06-05T11:42:59.634483Z",
     "start_time": "2022-06-05T11:42:59.624508Z"
    }
   },
   "outputs": [
    {
     "name": "stdout",
     "output_type": "stream",
     "text": [
      "Trash removed successfully\n"
     ]
    }
   ],
   "source": [
    "#to get rid of unwanteed trash created by the model use \n",
    "def remove_trash():\n",
    "    try:\n",
    "        os.remove(\"temp.jpg\")\n",
    "        os.remove(\"temp.pdf\")\n",
    "        print(\"Trash removed successfully\")\n",
    "    except:\n",
    "        print(\"No trash found\")\n",
    "\n",
    "remove_trash()"
   ]
  }
 ],
 "metadata": {
  "kernelspec": {
   "display_name": "Python 3 (ipykernel)",
   "language": "python",
   "name": "python3"
  },
  "language_info": {
   "codemirror_mode": {
    "name": "ipython",
    "version": 3
   },
   "file_extension": ".py",
   "mimetype": "text/x-python",
   "name": "python",
   "nbconvert_exporter": "python",
   "pygments_lexer": "ipython3",
   "version": "3.9.7"
  },
  "toc": {
   "base_numbering": 1,
   "nav_menu": {},
   "number_sections": true,
   "sideBar": true,
   "skip_h1_title": false,
   "title_cell": "Table of Contents",
   "title_sidebar": "Contents",
   "toc_cell": false,
   "toc_position": {},
   "toc_section_display": true,
   "toc_window_display": false
  }
 },
 "nbformat": 4,
 "nbformat_minor": 5
}
