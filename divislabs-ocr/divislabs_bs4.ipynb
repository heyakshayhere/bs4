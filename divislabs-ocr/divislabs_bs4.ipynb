{
 "cells": [
  {
   "cell_type": "markdown",
   "id": "02b78cf4",
   "metadata": {},
   "source": [
    "**url**\n",
    "\n",
    "https://www.divislabs.com/investor-relations/press-release/#2021-22"
   ]
  },
  {
   "cell_type": "code",
   "execution_count": 1,
   "id": "1d7bc374",
   "metadata": {
    "ExecuteTime": {
     "end_time": "2022-06-03T19:37:09.339045Z",
     "start_time": "2022-06-03T19:37:04.282508Z"
    }
   },
   "outputs": [
    {
     "name": "stderr",
     "output_type": "stream",
     "text": [
      "D:\\Anaconda\\envs\\gpu_16march2022\\lib\\site-packages\\tqdm\\auto.py:22: TqdmWarning: IProgress not found. Please update jupyter and ipywidgets. See https://ipywidgets.readthedocs.io/en/stable/user_install.html\n",
      "  from .autonotebook import tqdm as notebook_tqdm\n",
      "CUDA not available - defaulting to CPU. Note: This module is much faster with a GPU.\n"
     ]
    },
    {
     "data": {
      "application/javascript": [
       "IPython.notebook.set_autosave_interval(1000)"
      ]
     },
     "metadata": {},
     "output_type": "display_data"
    },
    {
     "name": "stdout",
     "output_type": "stream",
     "text": [
      "Autosaving every 1 seconds\n"
     ]
    }
   ],
   "source": [
    "import os \n",
    "os.environ['KMP_DUPLICATE_LIB_OK']='True'\n",
    "\n",
    "import pandas as pd,requests,bs4,re,time,io,pdftotext,easyocr\n",
    "from pdfminer.high_level import extract_text\n",
    "from pathlib import Path\n",
    "import pytesseract, PIL \n",
    "from pdf2image import convert_from_path\n",
    "from selenium.webdriver.common.by import By\n",
    "from goose3 import Goose\n",
    "from datetime import datetime\n",
    "from bs4 import BeautifulSoup\n",
    "from selenium import webdriver\n",
    "\n",
    "reader = easyocr.Reader(['en'])\n",
    "\n",
    "import warnings\n",
    "warnings.filterwarnings(\"ignore\")\n",
    "\n",
    "%autosave 1"
   ]
  },
  {
   "cell_type": "code",
   "execution_count": 2,
   "id": "50ec4e52",
   "metadata": {
    "ExecuteTime": {
     "end_time": "2022-06-03T19:37:09.354010Z",
     "start_time": "2022-06-03T19:37:09.341040Z"
    }
   },
   "outputs": [],
   "source": [
    "SITE_NAME='Divislabs'\n",
    "\n",
    "DOMAIN = \"https://www.divislabs.com\"\n",
    "\n",
    "SITE_LINK=\"https://www.divislabs.com/investor-relations/press-release/\""
   ]
  },
  {
   "cell_type": "code",
   "execution_count": 3,
   "id": "668fb91b",
   "metadata": {
    "ExecuteTime": {
     "end_time": "2022-06-03T19:37:09.368966Z",
     "start_time": "2022-06-03T19:37:09.359991Z"
    }
   },
   "outputs": [],
   "source": [
    "def parse_webpage_bs(search_url):\n",
    "    \n",
    "    headers = {\n",
    "        \"User-Agent\": \"Mozilla/5.0 (Windows NT 10.0; Win64; x64; rv:90.0) Gecko/20100101 Firefox/90.0\"}\n",
    "    try:\n",
    "        site_request = requests.get(search_url, headers=headers, timeout=10)\n",
    "    except requests.exceptions.RequestException as e:\n",
    "        print(e)\n",
    "        site_request = None\n",
    "    if site_request != None and site_request.status_code==200:\n",
    "        site_soup = bs4.BeautifulSoup(site_request.content, \"lxml\")\n",
    "    else:\n",
    "        site_soup = None\n",
    "    return site_soup\n",
    "\n",
    "def remove_esc_chars(text):\n",
    "    return text.replace(\"\\n\", \" \").replace(\"\\t\", \" \").replace(\"\\r\", \" \")"
   ]
  },
  {
   "cell_type": "code",
   "execution_count": 4,
   "id": "160fb91a",
   "metadata": {
    "ExecuteTime": {
     "end_time": "2022-06-03T19:42:47.856539Z",
     "start_time": "2022-06-03T19:37:09.370962Z"
    },
    "scrolled": true
   },
   "outputs": [
    {
     "name": "stdout",
     "output_type": "stream",
     "text": [
      "01/01/2021 Press Release Qtr4 2021-22 \n",
      "https://www.divislabs.com/wp-content/uploads/2022/05/Pressrelease_Q4FY22_Divis.pdf\n",
      "@)   DIVl'S LABORATORIES LIMITED  1-72/23(P)/DIVIS/303. Divi Towers  Cyber Hills, Gachibowli,  Hyderabad 500 032  Phone:  91-40-23786300 email:  cs@divislabs.com   PRESS  RELEASE  dated  May 23,  2022   Divi's Labs earns a  Revenue off 9074 crores for FY22 on consolidated  basis.   Consolidated Results   Divi's  Laboratories  has  earned  a  consolidated  total  revenue  of  ~ 9074  crores   for  the  financial  year  2021-22  as  against  ~ 7032  crores  during  the  previous   year,  reflecting  a growth  of 29%.   PBT  for the  current  year grew  by  38%  to  ~ 3684  crores  as  against a  PBT  of ~   2666  crores  for  the  previous  year.  PAT  for  the  year  amounted  to  ~  2960   crores  as  against a  PAT  of~ 1984 crores  for the  last year,  reflecting  a  growth   of 49%.   Standalone Results   On  a standalone  basis,  the Company-'s  earnings are  as  given  below:   (~ in  crores)   Particulars   For the Quarter   For the year   31-03-22   31-03-21  Growth  31-03-22  31-03-21  Growth   Total  Revenue   PBT   Tax Expense   PAT   2546   1066   183   883   %   1741   46%   652   63%   164   488   81%   8991   3677   728   2949   6861   2628   673   1955   %   31%   40%   51%   Forex Gain/lloss} in  standalone results   Particulars of forex gain/(loss) for the  period  are  given  below:   (~ in crores)   Particulars   For the Quarter ended   For the  year ended   Forex Gain/(loss)   29   3   38   (1)   31-03-22   31-03-21   31-03-22   31-03-21   \f",
      "Dividend   The  Board  of Directors  of the  Company  has  recommended  a  dividend  of  ~30   per  share  of face  value  ~ 2  each  i.e.,  1500%  for  the  financial  year  2021-22,   subject to approval  of members at the ensuing Annual  General  Meeting.   Capex projects:   During  the  year 2021-22,  the  Company  has  capitalized  Assets  valuing  ~93456   lakhs.  Capital  WIP  as  at the year-end  amounted to  ~ 46993  lakhs.   \f",
      "\n",
      "-----------------------------------------------------------------------------------------------------------------------------\n",
      "01/01/2021 Press Release Qtr3 2021-22\n",
      "https://www.divislabs.com/wp-content/uploads/2022/02/Press-release-on-Q3FY22-results.pdf\n",
      "DIVI'S LABORATORIES LIMITECIN No.L2411OTG199OPLCO118541-72/23(P)[ DIVIS_303, Cyber Hills, GachibowliHyderabad500 032 Telangana, IndiaPhone: (91)-40-66966300 email: cs@divislabs comPRESS RELEASE dated February 1L 2022Divi's Labs earns a consolidated total income of < 2510 crores in Q3 of FY22Consolidated ResultsDivi ' s   Laboratories has   earneda consolidated total  income of ? 2510 crores for the thirdquarter of the current year as against a total income of < 1721 crores during the correspondingquarter of last year; reflecting a growth of 46%. Profit before Tax (PBT) for the quarter grewby 61% to ? 1034 crores, asa PBT of ? 642 croresduring the corresponding quarter oflast year:  Profit after Tax (PAT) for the current quarter grew by 92% to < 902 crores as againsta PAT of ? 471 crores for the corresponding quarter oflast yearFor the 9-month period ended December2021, the company earned a PAT of & 2066 croreson & total income of ? 6503 crores, asagainsta PAT of < 1482 crores on a total income of ?5224 crores during the corresponding previous period.Standalone Resultsin croresParticularsQuarter endedNine-months ended31.12.202131.12.202031.12.202131.12.2020Total Income2483167664465123PBT103763026111976PAT90746120661467Forex Gain/(loss)Forex gain/loss, on standalone basis, for the period is given below:{ in croresQuarter endedNine-months ended31.12.202131.12.202031.12.202131.12.2020Forex gain/(loss)(4)3(4The Company continues to have near normal operations during the quarter complying to allcovid-19 protocols.Lcerad '0,52\"Gachibolagainst31,(aBoronORIES ,\n",
      "-----------------------------------------------------------------------------------------------------------------------------\n",
      "01/01/2021 Press Release Qtr2 2021-22 \n",
      "https://www.divislabs.com/wp-content/uploads/2021/11/Press-Release-Q2FY22_Divis-Lab.pdf\n",
      "DIVIS LABQRATQRIES LIMITEDCIN No.L24110TG199OPLCO118541-72/23(P)/ DIVIS 303, Cyber Hills, GachibowliHyderabad\"500 032 Telangana, IndiaPhone: 91-40-23786300 email: cs@divislabs comPress Release dated 6th November 2021Divi'sLabsearnsaPATof}606croresforQ2ofFY22onConsolidated BasisConsolidated ResultsDivi'sLaboratorieshasearnedaconsolidatedtotalincomeOf32007crores for quarter ended 30th September 2021asagainst a consolidatedtotal income of < 1763 crores in the corresponding quarter of the previousyear;Profit  beforeTax (PBT)for the quarter amountedtor760croresasagainst aPBT of < 693crores for the corresponding quarter of the lastyear.Profit after Tax (PAT) for the quarter grew by17% tor606croresasagainst aPAT of?520crores for the corresponding quarter of the lastyear;For thecurrent quarter, we havea forex loss of <7crores as against aloss of ? 16 crores during the corresponding quarter of last year.For thehalf-year ended 30th September 2021, the companyearnedaconsolidated total income of ? 3996 crores as against a consolidated totalincome of < 3506 crores during the previous half-year: PAT for the currenthalf-year came to & 1164 crores as against & 1012 crores for the previoushalf-year. For the current half-year, we hada forex gain of < 13 crores asagainst a loss of < 11 crores during the corresponding period last year.SooRAOAMdcrmeal- J2CcHiBowStandalone ResultsOn a standalone basis, the company's earnings are as given below:< in croresParticularsFor the Quarter endedFor the half year ended30-09-2130-09-2030-09-2130-09-20Total Income1987172739663450PBT76068515741346PAT60651311581006Forex Gain L(loss)Particulars of forex gain/(loss) for the period are given below:in croresParticularsFor the Quarter endedFor the period ended30-09-2130-09-2030-09-2130-09-20Forex(7)(12)12(7)gain/(loss)Thecompanycontinuestohavenearnormaloperations   duringthequarter complying to all Covid-19 protocols:Yoriqa3Xdef PAd i9'GAcHigow,\n",
      "-----------------------------------------------------------------------------------------------------------------------------\n",
      "01/01/2021 Press Release Qtr1 2021-22 \n",
      "https://www.divislabs.com/wp-content/uploads/2021/08/Press-Release.pdf\n",
      "DIVI'S LABORATORIES LIMITED   CIN No. L24110TG1990PLC011854   1-72/23(P)/DIVIS  /303, Cyber Hills, Gachibowli  Hyderabad - 500 032 Telangana, India   Phone:040 23786300 email: cs@divislabs.com  Press Release dated 7th August, 2021   Divi's Labs earns a consolidated total revenue of Rs. 1997 crores for  Ql of FY22   Consolidated   Results   Divi's Laboratories  the year 2021-22 on a consolidated basis, as against an income of Rs. 1748 crores  for the corresponding   has earned a total income of Rs. 1997 crores for the ist quarter of   quarter of last year.   a PBT  before Tax (PBT) for the quarter amounted to Rs. 814 crores as against   Profit  of Rs. 661 crores for the corresponding  a Profit  Rs. 492 crores for the corresponding quarter   of the last year.   after Tax (PAT) of Rs. 557 crores for the current   quarter as against a PAT of   quarter of the last year. The Company earned   Forex gain for the current  5 crores during the corresponding   amounted to Rs. 20 crores as against a gain of Rs.  quarter   of the last year.   quarter   The Company continues  to all Covid-19 protocols.   to have near normal operations during the quarter complying   Standalone   Results   On a standalone   basis, the Company's   earnings   are given below:   Particulars For the Quarter ended   � in crores   Total Revenue  PBT  Tax Expense  PAT   30-06-202130-06-2020 1728  661  169  492   1986  814  262  552     \f",
      "\n",
      "-----------------------------------------------------------------------------------------------------------------------------\n",
      "01/01/2021 Press Release Qtr4 2020-21 \n",
      "https://www.divislabs.com/wp-content/uploads/2021/05/Press-Release29.05.21.pdf\n",
      "DIVI'S LABORATORIES LIMITED1-72/23(P)/ DIVIS/303. Divi TowersCyber Hills, Gachibowli, Hyderabad 500 032Phone: 91-40-23786300 email: cs@divislabs.comPRESS RELEASE dated 29th2021Divi's Labs earns a Revenue Of < 7032 crores for FY21 on consolidatedbasis.Consolidated for the_yearFor the year, Divi's Laboratories has earneda consolidated total revenue of <7032 crores for the financial year 2020-21 as against & 5584 crores during theprevious year, reflecting a growth of 26%.PBT for the current year grew by 47% to < 2666crores asagainst a PBT of <1819crores for the previous year:PAT for theyear amountedto81984crores asagainstaPAT of < 1377 crores for the last year, reflecting a growthof 44%.Standalone ResultsOn a standalone basis, the company's earnings are as given below:in croresParticularsFor the QuarterFor the year31-03-2131-03-20Growth31-03-2131-03-20Growth%f%Total Revenue1741145320%6861550025%PBT65247537%2628181345%Tax Expense16483673441PAT48839225%1955137342%Forex GainL(loss instandalone resultsParticulars of forex gain/(loss) for the period are given below:in croresParticularsFor the Quarter endedFor the year ended31-03-2131-03-2031-03-2131-03-20Forex Gain/(loss)357(1)82Kornoa01{derABAD-J3XMayQAcHiBow/DividendTheBoard of Directors of the company has proposed a dividend of < 20/- pershareoffacevalue<2each i.e.,1000%forthe financialyear 2020-21,subject to approval of members.Capex projects:During the financial year 2020-21, the Company has capitalised assets of118351 lakhs, andan amount of < 71062 lakhs is carried forwardas CapitalWork-in-Progress at the end of the year.ThenewbrownfieldDCandDCVSEZUnitsandthe   debottleneckingbackward integration programs taken up by the company during the last year,have become fully operational during the year. Modernization and upgradationofwastewatertreatment   plantsatthemanufacturingsiteshasbeenimplemented.During theyear,wehavealsotakenupanothercapexprogramwithanestimated  investment of?400crores forfast-trackingacustomssynthesisproject;A part of the project hasbeen completed andbecame operationalandtherestof thecapexwillbe completed during early part of thenextfinancialCSR:During the year, we have spent an amount of & 34 crores on CSR programs ofwhichanamountof?4croreswasspentonCOVID-19initiatives.Thecompany has supported the initiatives of Government by sanitizing the villagecommunitiesandspreadingawarenessofcovidappropriatebehaviour ,providing covid essential healthcare supplies, safety equipment for frontlinewarriors.C2E(rosnxaxo4)8/'Cachibor /year.(ABOR42'ORIES ,\n",
      "-----------------------------------------------------------------------------------------------------------------------------\n"
     ]
    },
    {
     "name": "stdout",
     "output_type": "stream",
     "text": [
      "01/01/2021 Press Release Qtr3 2020-21 \n",
      "https://www.divislabs.com/wp-content/uploads/2021/02/press-release06.02.21.pdf\n",
      "DIVI'S LABORATORIES LIMITEDCIN No.L2411OTG19OOPLCO118541-72/23(P)/DIVIS/303, Cyber Hills, GachibowliHyderabad500 032 Telangana, IndiaPhone: 91-40-66966300 email: cs@divislabs.comPRESS RELEASE dated 6th February_2021Divi s Labs earns a consolidated total income of < 1721 crores in Q3 of FY21Consolidated ResultsDivi' sLaboratories has eared a consolidated total  income of &1721crores for the thirdquarter of the current year as against a total income of <. 1438 crores during the correspondingquarter of last year: Profit after Tax (PAT) for the current quarter amounted to &. 471 crores a8against a PAT of €. 359 crores for the corresponding quarter of last year:For the 9-monthended 31st December; 2020, the company earned a PAT of & 1482crores on a total income of &. 5224 crores, as against a PAT of <. 988 crores on an income of €4118 crores during the corresponding previous period.Standalone Resultsin croresParticularsQuarter endedNine-months ended31-12-2031-12-1931-12-2031-12-19Total Income1676143151234048PBT63048919761338PAT4613611467981Forex Gain/(loss)Forex gain/loss for theis given below:in croresQuarter endedNine-months ended31.12.202031.12.201931.12.202031.12.2019Forex gain/(loss)31825The company has been able to have normalised operations during the quarter: Staff cost for thecurrent quarter includes an incentive of & 34 croresto employees in appreciation of theirrelentless work during the covid-19 pandemicHYDEFAGAD-S2QichiBow }periodperiodpaidSORATOR S\n",
      "-----------------------------------------------------------------------------------------------------------------------------\n",
      "01/01/2021 Press Release Qtr2 2020-21 \n",
      "https://www.divislabs.com/wp-content/uploads/2020/11/Press-Release07112020.pdf\n",
      "DIVIS LABORATORIES LIMITEDCIN No L24110TG1990PLCO118541-72/23(P)/ DIVIS/ 303, Cyber Hills, GachibowliHyderabad500 032 Telangana, IndiaPhone: 91-40-23786300 email: cs@divislabs.comPress Release dated Zth Novemberz2020Divi's Labs earns a PAT of <. 520 crores for Q2 of FY21 onConsolidated BasisConsolidated ResultsDivi'sLaboratorieshas earnedaconsolidatedtotalincomeof{.1763crores forquarter ended 30th September, 2020 as against a consolidatedtotalincomeof<,1493croresinthecorrespondingquarteroftheprevious year.Profit before Tax (PBT) for the quarter grew by 42% to Rs. 693 crores as againsta PBT of Rs.488 crores for the corresponding quarter of the last year.Profit after Tax (PAT) for the quarter grew by 46% to Rs: 520 crores as against aPAT of Rs.357 crores for the corresponding quarter of the last year,For the current quarter,we have a forex loss of Rs.16 crores asagainst aof <, 13 crores during the corresponding quarter of last year.For the half-year ended 30th September, 2020, the companyearnedaconsolidated total income of < 3506 crores as against a consolidated totalincomeof<.2680croresduring the previous half-year:PATforthecurrent half-year came to< 1012 crores as against < 629 crores for theprevious half-year.For the currenthalf-year, we hada forex loss Of €11crores asagainst a gain of <.7croresduring the corresponding period lastyear,0KaorioWYOERABAD 32'GACHiBOWgainStandalone ResultsOn a standalone basis, the company's earnings are asbelow:<in croresParticularsFor the Quarter endedFor the half year ended30-09-2030-09-1930-09-2030-09-19Total Income1727145134502617PBT6854831346849PAT5133531006620Forex GainL(loss)Particulars of forex gain/(loss) for the period are given below:<in croresParticularsFor the Quarter endedFor the period ended30-09-2030-09-1930-09-2030-09-19Forex gain/(loss)(12)13(7)7The company has been able to have near normal operations during the quarter:Thecompanyhasinplaceappropriatemeasuresinordertoensuremovement, health and safety of employees to protect against covid-19 pandemicandformovementofinwardandoutwardmaterials ,besides   helpingthecommunity at large and supporting the initiatives of Governments.Capex ProgramsWehave capitalizedassetsofRs.615croresduring the quarter andthetotalcapitalization done during the half-year amounted toRs.830crores.We expectto complete the ongoing capex programs by end of the financial year.Apart from the existing capex programs, the Company is taking up anew capexforanaggregateamountofRs.400croresformeetingnewbusinessopportunities in the custom synthesis projects; and neededto be completed onfast track:0KowoA3(HYDERAEAD.375Gachbow/givenput\n",
      "-----------------------------------------------------------------------------------------------------------------------------\n",
      "01/01/2021 Press Release Qtr1 2020-21 \n",
      "https://www.divislabs.com/wp-content/uploads/2020/08/Press-release-on-financial-results-Q1FY21-Divis-Labs.pdf\n",
      "DIVI'S LABORATORIES LIMITEDCIN No. L2411OTG199OPLCO118541-72/23(P)/ DIVIS/303, Cyber Hills, GachibowliHyderabad500 032 Telangana, IndiaPhone: 23786300 email: cs@divislabs comPress Release dated 8th Auqust_2020Divi's Labs earns a consolidated total revenue of Rs. 1748 crores forQ1 of FY21Consolidated ResultsDivi's Laboratories has earned a total income of Rs. 1748 crores for thequarter ofthe year 2020-21on a consolidated basis_ as against an income of Rs.1193 croresfor the corresponding quarter of last year, reflectingagrowth of 47%_Profit before Tax (PBT) for the quarter grew by 77% to Rs. 661crores asagainst aPBT of Rs.373 crores for the corresponding quarter of the last year.The company earned a Profit after Tax (PAT) of Rs. 492 crores for the current quarteras against aPAT of Rs.272 crores for the corresponding quarter of the last year.Forexfor the current quarter amounted to Rs.5 crores asagainst a loss of Rs.crore during the corresponding quarter of the last year,The company has been able to have near normal operations during the quarter andthere was minimal impact due to covid-19 pandemicThe company has put in placeseveralmeasures inorder toensure movement, healthand safetyof employees,supply of materials, production programs/schedules as also dispatches /shipment offinished   productstocustomers,besides helpingthecommunityat  largeandsupporting the initiatives of Governments:KoECGD Ja9XSchibow: 1stgainKABORAT82Standalone ResultsOn & standalone basis, the Company's earnings are given below:in croresParticularsFor the Quarter30-06-202030-06-2019Total Revenue17281172PBT661366Tax Expense16999PAT492267Capex projectsWhile a significant part of the ongoing capex programs has been completed duringthelast   financialyear,duetothecovid-19 pandemic,therehasbeen delayinimplementing the balance part of the capex programs taken up by the company dueto non-availability of workmen of some contractors implementing the projects. Wehaveseenimprovement   subsequentlyintermsofsomeof  thetechniciansofcontractors reporting for duty and materials arriving at site:We expect to completethe capex programs by second half of the financial year.PAfRATAD-52Sichibowcl(soRArOR A\n",
      "-----------------------------------------------------------------------------------------------------------------------------\n",
      "01/01/2021 Press Release Qtr4 2019-20 \n",
      "https://www.divislabs.com/wp-content/uploads/2021/05/Press-Release29.05.21.pdf\n",
      "DIVI'S LABORATORIES LIMITED1-72/23(P)/ DIVIS/303. Divi TowersCyber Hills, Gachibowli, Hyderabad 500 032Phone: 91-40-23786300 email: cs@divislabs.comPRESS RELEASE dated 29th2021Divi's Labs earns a Revenue Of < 7032 crores for FY21 on consolidatedbasis.Consolidated for the_yearFor the year, Divi's Laboratories has earneda consolidated total revenue of <7032 crores for the financial year 2020-21 as against & 5584 crores during theprevious year, reflecting a growth of 26%.PBT for the current year grew by 47% to < 2666crores asagainst a PBT of <1819crores for the previous year:PAT for theyear amountedto81984crores asagainstaPAT of < 1377 crores for the last year, reflecting a growthof 44%.Standalone ResultsOn a standalone basis, the company's earnings are as given below:in croresParticularsFor the QuarterFor the year31-03-2131-03-20Growth31-03-2131-03-20Growth%f%Total Revenue1741145320%6861550025%PBT65247537%2628181345%Tax Expense16483673441PAT48839225%1955137342%Forex GainL(loss instandalone resultsParticulars of forex gain/(loss) for the period are given below:in croresParticularsFor the Quarter endedFor the year ended31-03-2131-03-2031-03-2131-03-20Forex Gain/(loss)357(1)82Kornoa01{derABAD-J3XMayQAcHiBow/DividendTheBoard of Directors of the company has proposed a dividend of < 20/- pershareoffacevalue<2each i.e.,1000%forthe financialyear 2020-21,subject to approval of members.Capex projects:During the financial year 2020-21, the Company has capitalised assets of118351 lakhs, andan amount of < 71062 lakhs is carried forwardas CapitalWork-in-Progress at the end of the year.ThenewbrownfieldDCandDCVSEZUnitsandthe   debottleneckingbackward integration programs taken up by the company during the last year,have become fully operational during the year. Modernization and upgradationofwastewatertreatment   plantsatthemanufacturingsiteshasbeenimplemented.During theyear,wehavealsotakenupanothercapexprogramwithanestimated  investment of?400crores forfast-trackingacustomssynthesisproject;A part of the project hasbeen completed andbecame operationalandtherestof thecapexwillbe completed during early part of thenextfinancialCSR:During the year, we have spent an amount of & 34 crores on CSR programs ofwhichanamountof?4croreswasspentonCOVID-19initiatives.Thecompany has supported the initiatives of Government by sanitizing the villagecommunitiesandspreadingawarenessofcovidappropriatebehaviour ,providing covid essential healthcare supplies, safety equipment for frontlinewarriors.C2E(rosnxaxo4)8/'Cachibor /year.(ABOR42'ORIES ,\n",
      "-----------------------------------------------------------------------------------------------------------------------------\n"
     ]
    },
    {
     "name": "stdout",
     "output_type": "stream",
     "text": [
      "01/01/2021 Update from Divi’s Labs related to COVID-19: Operations, measures put in place, support to the nation \n",
      "https://www.divislabs.com/wp-content/uploads/2020/04/Press_Release_Divis_SE_01042020.pdf\n",
      "<@   Divi' s Laboratories   Limited   01 April, 2020   To  The Secretary  National Stock Exchange of India Limited  Exchange Plaza,  Bandra-Kurla Complex, Bandra (East)  MUMBAI – 400 051    To The Secretary  BSE Limited Phiroze Jeejeebhoy Towers,  Dalal Street MUMBAI – 400 001  Stock Code: DIVISLAB   Stock Code: 532488  Dear Sir/Madam,  Sub: Update from Divi’s Labs related to COVID-19: Operations, measures put in place,  support to the nation  Pursuant  to  Regulation  30  of  the  SEBI  (Listing  Obligation  and  Disclosure  Requirements)  Regulations,  2015,  please  find  enclosed  the  press  release  titled  “Update  from  Divi’s  Labs  related to COVID-19: Operations, measures put in place, support to the nation”.  This is for your information and records.   Thanking you, For Divi’s Laboratories Limited  M. Satish Choudhury Company Secretary & Compliance Officer  \"An ISO-9001,   ISO-14001   and OHSAS-18001   Regd. Off.   : Divi Towers,   1-72/23(P)/DIVIS/303,  Cyber Hills,  6300, Fax: 91-40-2378   Tel : 91-40-2378   certified   Triple  Gachibowli,   company\"  -500 032, Telangana,  6460, CIN : L24110TG1990PLC011854  Website: www.divislabs.com  Hyderabad   INDIA.   E-mail: mail@divislabs.com,                                               \f",
      "DIVI'S LABORATORIES LIMITED  CIN: L24110TG1990PLC011854  Registered office: 1-72/23(P)/DIVIS/303, Cyber Hills, Gachibowli, Hyderabad - 500 032  Telangana, India, Phone: 91-40-23786300 email: cs@divislabs.com   PRESS RELEASE dated 1st April, 2020   Update  from  Divi’s  Labs  related  to  COVID-19:  Operations,  measures  put  in  place,  support to the nation   Divi’s Laboratories Limited (Divi’s Labs / the company), is a globally recognized company  engaged in the manufacture of life-saving Active Pharmaceutical Ingredients (APIs), and  we  have an important role in ensuring the availability of supplies of APIs for pharmaceuticals in  India and around the world.   Update on Operations and the measures put in place   Divi’s  Labs,  in  the  wake  of  COVID-19  pandemic  and  21  days  nationwide  lockdown,  has  ensured essential staffing for business continuity while following social distancing guidelines  and adopted ‘Work from Home’ for other staff, wherever possible, whilst ensuring compliance  with  the  directives  issued  by  the  Central  Government,  State  Governments  and  local  administration.   We are currently experiencing some supply chain disruptions during this lockdown period. We  are working relentlessly to minimize disruptions in our production and supply schedules. Even  though the Company has put in place a business continuity plan, due to the restriction in the  movement  of  goods  and  employees,  we  anticipate  certain  delays  in  the  deliveries  of  our  products to our customers.   We remain committed to the health and safety of our employees and their families, as well as  business  continuity  to  safeguard  the  interests  of  all  stakeholders.  All  of  the  precautionary  measures that are taken by the Company will remain in effect until required.   Support to the nation   When our Prime Minister Shri Narendra Modi called for a 21-day nationwide lockdown to stop  the  social  transmission  of  the  novel  coronavirus,  Divi’s  as  a  responsible  corporate  entity  immediately stepped in to support the health officials and Government leaders as they continue  to work relentlessly to mitigate the spread of the virus.    1                               \f",
      "Divi’s along with the support of its employees, acted very quickly and have been able to support  the Government in various initiatives. Some of these activities include:     Supported the Government by donating Rs. 5 crores for the Andhra Pradesh CM Relief   Fund and Rs. 5 crores for the Telangana CM Relief Fund     Providing daily Provisions to 28,000 people to support during the lockdown period    Distribution  of  body  cover  suits  to  the  personnel  of  Fire  department,  who  are   disinfecting the localities     Distribution of disposable gloves, Nose masks and Sanitizers to Police, Sanitation staff   and Disaster management teams as required by the district administration     Providing Chemical and Alcohol based sanitizers to hospitals, quarantine centres and   village local bodies     Providing bleaching powder, PCB Bins and bags to 47 Gram panchayats.    Providing food every day to patients and hospital staff at certain Quarantine centres    Procured furniture for new Quarantine centres    Regular distribution of sanitizers, gloves, disposable masks, Head caps, shoe covers,   N95 masks, and PPE Kits to Quarantine centres.     Procured 500 mattresses for Quarantine isolation wards   Managing Director of Divi’s, Dr. Murali K. Divi said, “We remain committed in supporting  the Government to the best of our ability while remaining committed to the health and safety  of our employees and their families.” “At Divi’s, what is most important is the health and  well-being of our people and society. We are all together in this fight against COVID-19 and  together we will certainly come out as winners.”    Disclaimer: This press release may include statements of future expectations and other forward-looking  statements based on management's current expectations and beliefs concerning future developments  and  their  potential  effects  on  the  Company.  These  forward-looking  statements  involve  known  or  unknown  risks  and  uncertainties  that  could  cause  actual  results,  performance  or  events  to  differ  materially  from  those  expressed  or  implied  in  such  statements.  Neither  the  Company,  nor  our  Directors/Officers,  assume  any  obligation  to  update  any  particular  forward-looking  statement  contained in this release.   2                \f",
      "\n",
      "-----------------------------------------------------------------------------------------------------------------------------\n"
     ]
    }
   ],
   "source": [
    "article_list = []\n",
    "pagination = str(datetime.today().year-1) +\"-\" + str(datetime.today().year)\n",
    "url = f\"https://www.divislabs.com/investor-relations/press-release/#{pagination}\"\n",
    "soup = parse_webpage_bs(url)\n",
    "if soup != None:\n",
    "    published_date = \"01/01/2021\"\n",
    "    elements = soup.findAll('div',{'class' :'boc_list_item_text small'})\n",
    "    for element in elements[:10]:\n",
    "        title = element.text\n",
    "        link = DOMAIN + element.find('a')['href']\n",
    "        \n",
    "        try:\n",
    "            date = \"01/01/\"+ str(int(title[-7:-3]))\n",
    "            published_date = date\n",
    "        except:\n",
    "            pass\n",
    "            \n",
    "        #text\n",
    "        try:\n",
    "            response = requests.get(link)\n",
    "            text = remove_esc_chars(extract_text(io.BytesIO(response.content)))\n",
    "\n",
    "            if len(text) < 10:\n",
    "                texts = \"\"\n",
    "                r = requests.get(link)\n",
    "                filename = Path('temp.pdf')\n",
    "                filename.write_bytes(r.content)\n",
    "\n",
    "                pages = convert_from_path('temp.pdf', 500)\n",
    "                for x in pages:\n",
    "                    x.save(\"temp.jpg\")\n",
    "                    output = reader.readtext(\"temp.jpg\")\n",
    "                    for o in output:\n",
    "                        texts += o[1]\n",
    "\n",
    "                text = remove_esc_chars(texts)\n",
    "        except:\n",
    "            text = \"\"\n",
    "            \n",
    "        #thumbnail and author\n",
    "        thumbnail = \"https://www.divislabs.com/wp-content/uploads/2016/05/divis-logo.png\"\n",
    "        author = SITE_NAME\n",
    "        \n",
    "        article = (published_date,title,text,link,thumbnail,author)\n",
    "        article_list.append(article)\n",
    "        print(published_date,title)\n",
    "        print(link)\n",
    "        print(text)\n",
    "        print(\"-\"*125)"
   ]
  },
  {
   "cell_type": "code",
   "execution_count": 5,
   "id": "c443343f",
   "metadata": {
    "ExecuteTime": {
     "end_time": "2022-06-03T19:42:47.888411Z",
     "start_time": "2022-06-03T19:42:47.858492Z"
    }
   },
   "outputs": [
    {
     "data": {
      "text/html": [
       "<div>\n",
       "<style scoped>\n",
       "    .dataframe tbody tr th:only-of-type {\n",
       "        vertical-align: middle;\n",
       "    }\n",
       "\n",
       "    .dataframe tbody tr th {\n",
       "        vertical-align: top;\n",
       "    }\n",
       "\n",
       "    .dataframe thead th {\n",
       "        text-align: right;\n",
       "    }\n",
       "</style>\n",
       "<table border=\"1\" class=\"dataframe\">\n",
       "  <thead>\n",
       "    <tr style=\"text-align: right;\">\n",
       "      <th></th>\n",
       "      <th>date</th>\n",
       "      <th>title</th>\n",
       "      <th>article</th>\n",
       "      <th>url</th>\n",
       "      <th>thumbnail</th>\n",
       "      <th>author</th>\n",
       "    </tr>\n",
       "  </thead>\n",
       "  <tbody>\n",
       "    <tr>\n",
       "      <th>0</th>\n",
       "      <td>01/01/2021</td>\n",
       "      <td>Press Release Qtr4 2021-22</td>\n",
       "      <td>@)   DIVl'S LABORATORIES LIMITED  1-72/23(P)/D...</td>\n",
       "      <td>https://www.divislabs.com/wp-content/uploads/2...</td>\n",
       "      <td>https://www.divislabs.com/wp-content/uploads/2...</td>\n",
       "      <td>Divislabs</td>\n",
       "    </tr>\n",
       "    <tr>\n",
       "      <th>1</th>\n",
       "      <td>01/01/2021</td>\n",
       "      <td>Press Release Qtr3 2021-22</td>\n",
       "      <td>DIVI'S LABORATORIES LIMITECIN No.L2411OTG199OP...</td>\n",
       "      <td>https://www.divislabs.com/wp-content/uploads/2...</td>\n",
       "      <td>https://www.divislabs.com/wp-content/uploads/2...</td>\n",
       "      <td>Divislabs</td>\n",
       "    </tr>\n",
       "    <tr>\n",
       "      <th>2</th>\n",
       "      <td>01/01/2021</td>\n",
       "      <td>Press Release Qtr2 2021-22</td>\n",
       "      <td>DIVIS LABQRATQRIES LIMITEDCIN No.L24110TG199OP...</td>\n",
       "      <td>https://www.divislabs.com/wp-content/uploads/2...</td>\n",
       "      <td>https://www.divislabs.com/wp-content/uploads/2...</td>\n",
       "      <td>Divislabs</td>\n",
       "    </tr>\n",
       "    <tr>\n",
       "      <th>3</th>\n",
       "      <td>01/01/2021</td>\n",
       "      <td>Press Release Qtr1 2021-22</td>\n",
       "      <td>DIVI'S LABORATORIES LIMITED   CIN No. L24110TG...</td>\n",
       "      <td>https://www.divislabs.com/wp-content/uploads/2...</td>\n",
       "      <td>https://www.divislabs.com/wp-content/uploads/2...</td>\n",
       "      <td>Divislabs</td>\n",
       "    </tr>\n",
       "    <tr>\n",
       "      <th>4</th>\n",
       "      <td>01/01/2021</td>\n",
       "      <td>Press Release Qtr4 2020-21</td>\n",
       "      <td>DIVI'S LABORATORIES LIMITED1-72/23(P)/ DIVIS/3...</td>\n",
       "      <td>https://www.divislabs.com/wp-content/uploads/2...</td>\n",
       "      <td>https://www.divislabs.com/wp-content/uploads/2...</td>\n",
       "      <td>Divislabs</td>\n",
       "    </tr>\n",
       "    <tr>\n",
       "      <th>5</th>\n",
       "      <td>01/01/2021</td>\n",
       "      <td>Press Release Qtr3 2020-21</td>\n",
       "      <td>DIVI'S LABORATORIES LIMITEDCIN No.L2411OTG19OO...</td>\n",
       "      <td>https://www.divislabs.com/wp-content/uploads/2...</td>\n",
       "      <td>https://www.divislabs.com/wp-content/uploads/2...</td>\n",
       "      <td>Divislabs</td>\n",
       "    </tr>\n",
       "    <tr>\n",
       "      <th>6</th>\n",
       "      <td>01/01/2021</td>\n",
       "      <td>Press Release Qtr2 2020-21</td>\n",
       "      <td>DIVIS LABORATORIES LIMITEDCIN No L24110TG1990P...</td>\n",
       "      <td>https://www.divislabs.com/wp-content/uploads/2...</td>\n",
       "      <td>https://www.divislabs.com/wp-content/uploads/2...</td>\n",
       "      <td>Divislabs</td>\n",
       "    </tr>\n",
       "    <tr>\n",
       "      <th>7</th>\n",
       "      <td>01/01/2021</td>\n",
       "      <td>Press Release Qtr1 2020-21</td>\n",
       "      <td>DIVI'S LABORATORIES LIMITEDCIN No. L2411OTG199...</td>\n",
       "      <td>https://www.divislabs.com/wp-content/uploads/2...</td>\n",
       "      <td>https://www.divislabs.com/wp-content/uploads/2...</td>\n",
       "      <td>Divislabs</td>\n",
       "    </tr>\n",
       "    <tr>\n",
       "      <th>8</th>\n",
       "      <td>01/01/2021</td>\n",
       "      <td>Press Release Qtr4 2019-20</td>\n",
       "      <td>DIVI'S LABORATORIES LIMITED1-72/23(P)/ DIVIS/3...</td>\n",
       "      <td>https://www.divislabs.com/wp-content/uploads/2...</td>\n",
       "      <td>https://www.divislabs.com/wp-content/uploads/2...</td>\n",
       "      <td>Divislabs</td>\n",
       "    </tr>\n",
       "    <tr>\n",
       "      <th>9</th>\n",
       "      <td>01/01/2021</td>\n",
       "      <td>Update from Divi’s Labs related to COVID-19: O...</td>\n",
       "      <td>&lt;@   Divi' s Laboratories   Limited   01 April...</td>\n",
       "      <td>https://www.divislabs.com/wp-content/uploads/2...</td>\n",
       "      <td>https://www.divislabs.com/wp-content/uploads/2...</td>\n",
       "      <td>Divislabs</td>\n",
       "    </tr>\n",
       "  </tbody>\n",
       "</table>\n",
       "</div>"
      ],
      "text/plain": [
       "         date                                              title  \\\n",
       "0  01/01/2021                        Press Release Qtr4 2021-22    \n",
       "1  01/01/2021                         Press Release Qtr3 2021-22   \n",
       "2  01/01/2021                        Press Release Qtr2 2021-22    \n",
       "3  01/01/2021                        Press Release Qtr1 2021-22    \n",
       "4  01/01/2021                        Press Release Qtr4 2020-21    \n",
       "5  01/01/2021                        Press Release Qtr3 2020-21    \n",
       "6  01/01/2021                        Press Release Qtr2 2020-21    \n",
       "7  01/01/2021                        Press Release Qtr1 2020-21    \n",
       "8  01/01/2021                        Press Release Qtr4 2019-20    \n",
       "9  01/01/2021  Update from Divi’s Labs related to COVID-19: O...   \n",
       "\n",
       "                                             article  \\\n",
       "0  @)   DIVl'S LABORATORIES LIMITED  1-72/23(P)/D...   \n",
       "1  DIVI'S LABORATORIES LIMITECIN No.L2411OTG199OP...   \n",
       "2  DIVIS LABQRATQRIES LIMITEDCIN No.L24110TG199OP...   \n",
       "3  DIVI'S LABORATORIES LIMITED   CIN No. L24110TG...   \n",
       "4  DIVI'S LABORATORIES LIMITED1-72/23(P)/ DIVIS/3...   \n",
       "5  DIVI'S LABORATORIES LIMITEDCIN No.L2411OTG19OO...   \n",
       "6  DIVIS LABORATORIES LIMITEDCIN No L24110TG1990P...   \n",
       "7  DIVI'S LABORATORIES LIMITEDCIN No. L2411OTG199...   \n",
       "8  DIVI'S LABORATORIES LIMITED1-72/23(P)/ DIVIS/3...   \n",
       "9  <@   Divi' s Laboratories   Limited   01 April...   \n",
       "\n",
       "                                                 url  \\\n",
       "0  https://www.divislabs.com/wp-content/uploads/2...   \n",
       "1  https://www.divislabs.com/wp-content/uploads/2...   \n",
       "2  https://www.divislabs.com/wp-content/uploads/2...   \n",
       "3  https://www.divislabs.com/wp-content/uploads/2...   \n",
       "4  https://www.divislabs.com/wp-content/uploads/2...   \n",
       "5  https://www.divislabs.com/wp-content/uploads/2...   \n",
       "6  https://www.divislabs.com/wp-content/uploads/2...   \n",
       "7  https://www.divislabs.com/wp-content/uploads/2...   \n",
       "8  https://www.divislabs.com/wp-content/uploads/2...   \n",
       "9  https://www.divislabs.com/wp-content/uploads/2...   \n",
       "\n",
       "                                           thumbnail     author  \n",
       "0  https://www.divislabs.com/wp-content/uploads/2...  Divislabs  \n",
       "1  https://www.divislabs.com/wp-content/uploads/2...  Divislabs  \n",
       "2  https://www.divislabs.com/wp-content/uploads/2...  Divislabs  \n",
       "3  https://www.divislabs.com/wp-content/uploads/2...  Divislabs  \n",
       "4  https://www.divislabs.com/wp-content/uploads/2...  Divislabs  \n",
       "5  https://www.divislabs.com/wp-content/uploads/2...  Divislabs  \n",
       "6  https://www.divislabs.com/wp-content/uploads/2...  Divislabs  \n",
       "7  https://www.divislabs.com/wp-content/uploads/2...  Divislabs  \n",
       "8  https://www.divislabs.com/wp-content/uploads/2...  Divislabs  \n",
       "9  https://www.divislabs.com/wp-content/uploads/2...  Divislabs  "
      ]
     },
     "execution_count": 5,
     "metadata": {},
     "output_type": "execute_result"
    }
   ],
   "source": [
    "temp_df = pd.DataFrame(article_list,columns=['date','title','article','url','thumbnail','author'])\n",
    "temp_df"
   ]
  },
  {
   "cell_type": "code",
   "execution_count": 6,
   "id": "1436bc16",
   "metadata": {
    "ExecuteTime": {
     "end_time": "2022-06-03T19:42:47.933865Z",
     "start_time": "2022-06-03T19:42:47.889441Z"
    }
   },
   "outputs": [],
   "source": [
    "#to csv\n",
    "temp_df.to_csv(f'{SITE_NAME} news.csv',index = False)\n",
    "\n",
    "#to json\n",
    "temp_df.to_json(f'{SITE_NAME} news.json')"
   ]
  },
  {
   "cell_type": "code",
   "execution_count": 7,
   "id": "65771436",
   "metadata": {
    "ExecuteTime": {
     "end_time": "2022-06-03T19:42:47.949229Z",
     "start_time": "2022-06-03T19:42:47.935870Z"
    }
   },
   "outputs": [],
   "source": [
    "os.remove(\"temp.jpg\")\n",
    "os.remove(\"temp.pdf\")"
   ]
  }
 ],
 "metadata": {
  "kernelspec": {
   "display_name": "Python 3 (ipykernel)",
   "language": "python",
   "name": "python3"
  },
  "language_info": {
   "codemirror_mode": {
    "name": "ipython",
    "version": 3
   },
   "file_extension": ".py",
   "mimetype": "text/x-python",
   "name": "python",
   "nbconvert_exporter": "python",
   "pygments_lexer": "ipython3",
   "version": "3.9.7"
  },
  "toc": {
   "base_numbering": 1,
   "nav_menu": {},
   "number_sections": true,
   "sideBar": true,
   "skip_h1_title": false,
   "title_cell": "Table of Contents",
   "title_sidebar": "Contents",
   "toc_cell": false,
   "toc_position": {},
   "toc_section_display": true,
   "toc_window_display": false
  }
 },
 "nbformat": 4,
 "nbformat_minor": 5
}
