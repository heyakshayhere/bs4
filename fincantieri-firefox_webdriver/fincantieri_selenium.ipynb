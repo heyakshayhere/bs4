{
 "cells": [
  {
   "cell_type": "markdown",
   "id": "0005bedf",
   "metadata": {},
   "source": [
    "url :\n",
    "\n",
    "https://www.fincantieri.com/en/media/press-releases/"
   ]
  },
  {
   "cell_type": "code",
   "execution_count": 1,
   "id": "7d7dd5d8",
   "metadata": {
    "ExecuteTime": {
     "end_time": "2022-06-24T12:14:50.408298Z",
     "start_time": "2022-06-24T12:14:43.701616Z"
    },
    "code_folding": [
     0
    ]
   },
   "outputs": [
    {
     "data": {
      "application/javascript": [
       "IPython.notebook.set_autosave_interval(1000)"
      ]
     },
     "metadata": {},
     "output_type": "display_data"
    },
    {
     "name": "stdout",
     "output_type": "stream",
     "text": [
      "Autosaving every 1 seconds\n"
     ]
    }
   ],
   "source": [
    "#libraries\n",
    "import os \n",
    "os.environ['KMP_DUPLICATE_LIB_OK']='True'\n",
    "\n",
    "import pandas as pd,requests,bs4,re,time,io,pytesseract,easyocr,random,textstat,urllib.request\n",
    "from pdfminer.high_level import extract_text\n",
    "from PIL import Image\n",
    "from pathlib import Path\n",
    "from pdf2image import convert_from_path\n",
    "from selenium.webdriver.common.by import By\n",
    "from selenium.webdriver.common.keys import Keys\n",
    "from goose3 import Goose\n",
    "from datetime import datetime\n",
    "from bs4 import BeautifulSoup\n",
    "from selenium import webdriver\n",
    "from tqdm.auto import tqdm\n",
    "\n",
    "reader = easyocr.Reader(['en'])\n",
    "\n",
    "import warnings\n",
    "warnings.filterwarnings(\"ignore\")\n",
    "\n",
    "%autosave 1"
   ]
  },
  {
   "cell_type": "code",
   "execution_count": 2,
   "id": "cc5d9063",
   "metadata": {
    "ExecuteTime": {
     "end_time": "2022-06-24T12:14:57.143102Z",
     "start_time": "2022-06-24T12:14:50.411291Z"
    },
    "code_folding": [
     0
    ],
    "scrolled": true
   },
   "outputs": [
    {
     "name": "stderr",
     "output_type": "stream",
     "text": [
      "\n",
      "\n",
      "====== WebDriver manager ======\n",
      "Current firefox version is 101.0\n",
      "Get LATEST geckodriver version for 101.0 firefox\n",
      "Driver [C:\\Users\\AKSHAY SATPUTE\\.wdm\\drivers\\geckodriver\\win64\\v0.31.0\\geckodriver.exe] found in cache\n"
     ]
    }
   ],
   "source": [
    "#driver for operation\n",
    "from webdriver_manager.firefox import GeckoDriverManager\n",
    "driver = webdriver.Firefox(executable_path=GeckoDriverManager().install())"
   ]
  },
  {
   "cell_type": "code",
   "execution_count": 3,
   "id": "14864903",
   "metadata": {
    "ExecuteTime": {
     "end_time": "2022-06-24T12:14:57.158065Z",
     "start_time": "2022-06-24T12:14:57.148098Z"
    }
   },
   "outputs": [],
   "source": [
    "SITE_NAME='Fincantieri'\n",
    "\n",
    "DOMAIN = \"https://www.fincantieri.com\"\n",
    "\n",
    "SITE_LINK = \"https://www.fincantieri.com/en/media/press-releases/\""
   ]
  },
  {
   "cell_type": "code",
   "execution_count": 4,
   "id": "6703395d",
   "metadata": {
    "ExecuteTime": {
     "end_time": "2022-06-24T12:14:57.187982Z",
     "start_time": "2022-06-24T12:14:57.161056Z"
    },
    "code_folding": [
     0,
     1,
     16,
     22
    ]
   },
   "outputs": [],
   "source": [
    "#functions\n",
    "def parse_webpage_bs(search_url):\n",
    "    \n",
    "    headers = {\n",
    "        \"User-Agent\": \"Mozilla/5.0 (Windows NT 10.0; Win64; x64; rv:90.0) Gecko/20100101 Firefox/90.0\"}\n",
    "    try:\n",
    "        site_request = requests.get(search_url, headers=headers, timeout=10)\n",
    "    except requests.exceptions.RequestException as e:\n",
    "        print(e)\n",
    "        site_request = None\n",
    "    if site_request != None and site_request.status_code==200:\n",
    "        site_soup = bs4.BeautifulSoup(site_request.content, \"lxml\")\n",
    "    else:\n",
    "        site_soup = None\n",
    "    return site_soup\n",
    "\n",
    "def remove_esc_chars(string):\n",
    "    review = re.sub('''[^a-zA-Z0-9!\"#$%&'()*+,-./:;<=>?@[\\]^_`{|}~]''', ' ',string)\n",
    "    review = review.split()\n",
    "    review = ' '.join(review)\n",
    "    return review\n",
    "\n",
    "def get_text(link): \n",
    "    try:\n",
    "        driver.get(link)\n",
    "        ps = driver.find_element(By.XPATH,'''/html/body/div[2]/section[1]/div/div/div/div/div[2]/div''').text.strip()\n",
    "        text = remove_esc_chars(ps).strip()\n",
    "    except:\n",
    "        g = Goose()\n",
    "        article_extract = g.extract(url=link)\n",
    "        article = remove_esc_chars(article_extract.cleaned_text)\n",
    "        meta_data = remove_esc_chars(article_extract.meta_description)\n",
    "        whole_data = meta_data+article\n",
    "        text = whole_data.strip()\n",
    "\n",
    "        if textstat.lexicon_count(text, removepunct=True) < 5:\n",
    "            try:\n",
    "                response = requests.get(link)\n",
    "                text = remove_esc_chars(extract_text(io.BytesIO(response.content)))\n",
    "\n",
    "                if textstat.lexicon_count(text, removepunct=True) < 5:\n",
    "                    texts = \"\"\n",
    "                    r = requests.get(link)\n",
    "                    filename = Path('temp.pdf')\n",
    "                    filename.write_bytes(r.content)\n",
    "\n",
    "                    pages = convert_from_path('temp.pdf', 500)\n",
    "                    for x in pages:\n",
    "                        x.save(\"temp.jpg\")\n",
    "                        output = reader.readtext(\"temp.jpg\")\n",
    "                        for o in output:\n",
    "                            texts += o[1]\n",
    "\n",
    "                    text = remove_esc_chars(texts)\n",
    "\n",
    "                    if textstat.lexicon_count(text, removepunct=True) < 5:\n",
    "                        texts = \"\"\n",
    "                        soup = parse_webpage_bs(link)\n",
    "                        if soup!= None:\n",
    "                            ps = soup.findAll('p')\n",
    "                            for p in ps:\n",
    "                                texts+= p.text\n",
    "\n",
    "                        text = remove_esc_chars(texts)\n",
    "            except:\n",
    "                text = \"\"\n",
    "    \n",
    "    return text"
   ]
  },
  {
   "cell_type": "code",
   "execution_count": 5,
   "id": "0bcbce2b",
   "metadata": {
    "ExecuteTime": {
     "end_time": "2022-06-24T12:16:10.645286Z",
     "start_time": "2022-06-24T12:14:57.189979Z"
    },
    "code_folding": [
     0
    ],
    "scrolled": true
   },
   "outputs": [
    {
     "data": {
      "application/vnd.jupyter.widget-view+json": {
       "model_id": "",
       "version_major": 2,
       "version_minor": 0
      },
      "text/plain": [
       "Getting Headlines from page 1: 0it [00:00, ?it/s]"
      ]
     },
     "metadata": {},
     "output_type": "display_data"
    },
    {
     "data": {
      "application/vnd.jupyter.widget-view+json": {
       "model_id": "",
       "version_major": 2,
       "version_minor": 0
      },
      "text/plain": [
       "Getting Headlines from page 2: 0it [00:00, ?it/s]"
      ]
     },
     "metadata": {},
     "output_type": "display_data"
    },
    {
     "data": {
      "application/vnd.jupyter.widget-view+json": {
       "model_id": "",
       "version_major": 2,
       "version_minor": 0
      },
      "text/plain": [
       "Getting Headlines from page 3: 0it [00:00, ?it/s]"
      ]
     },
     "metadata": {},
     "output_type": "display_data"
    },
    {
     "data": {
      "application/vnd.jupyter.widget-view+json": {
       "model_id": "",
       "version_major": 2,
       "version_minor": 0
      },
      "text/plain": [
       "Getting Headlines from page 4: 0it [00:00, ?it/s]"
      ]
     },
     "metadata": {},
     "output_type": "display_data"
    },
    {
     "data": {
      "application/vnd.jupyter.widget-view+json": {
       "model_id": "",
       "version_major": 2,
       "version_minor": 0
      },
      "text/plain": [
       "Getting Headlines from page 5: 0it [00:00, ?it/s]"
      ]
     },
     "metadata": {},
     "output_type": "display_data"
    },
    {
     "data": {
      "application/vnd.jupyter.widget-view+json": {
       "model_id": "",
       "version_major": 2,
       "version_minor": 0
      },
      "text/plain": [
       "Getting Headlines from page 1: 0it [00:00, ?it/s]"
      ]
     },
     "metadata": {},
     "output_type": "display_data"
    },
    {
     "data": {
      "application/vnd.jupyter.widget-view+json": {
       "model_id": "",
       "version_major": 2,
       "version_minor": 0
      },
      "text/plain": [
       "Getting Headlines from page 2: 0it [00:00, ?it/s]"
      ]
     },
     "metadata": {},
     "output_type": "display_data"
    },
    {
     "data": {
      "application/vnd.jupyter.widget-view+json": {
       "model_id": "",
       "version_major": 2,
       "version_minor": 0
      },
      "text/plain": [
       "Getting Headlines from page 3: 0it [00:00, ?it/s]"
      ]
     },
     "metadata": {},
     "output_type": "display_data"
    },
    {
     "data": {
      "application/vnd.jupyter.widget-view+json": {
       "model_id": "",
       "version_major": 2,
       "version_minor": 0
      },
      "text/plain": [
       "Getting Headlines from page 4: 0it [00:00, ?it/s]"
      ]
     },
     "metadata": {},
     "output_type": "display_data"
    },
    {
     "data": {
      "application/vnd.jupyter.widget-view+json": {
       "model_id": "",
       "version_major": 2,
       "version_minor": 0
      },
      "text/plain": [
       "Getting Headlines from page 5: 0it [00:00, ?it/s]"
      ]
     },
     "metadata": {},
     "output_type": "display_data"
    },
    {
     "data": {
      "application/vnd.jupyter.widget-view+json": {
       "model_id": "",
       "version_major": 2,
       "version_minor": 0
      },
      "text/plain": [
       "Getting Headlines from page 6: 0it [00:00, ?it/s]"
      ]
     },
     "metadata": {},
     "output_type": "display_data"
    },
    {
     "data": {
      "application/vnd.jupyter.widget-view+json": {
       "model_id": "",
       "version_major": 2,
       "version_minor": 0
      },
      "text/plain": [
       "Getting Headlines from page 7: 0it [00:00, ?it/s]"
      ]
     },
     "metadata": {},
     "output_type": "display_data"
    },
    {
     "data": {
      "application/vnd.jupyter.widget-view+json": {
       "model_id": "",
       "version_major": 2,
       "version_minor": 0
      },
      "text/plain": [
       "Getting Headlines from page 8: 0it [00:00, ?it/s]"
      ]
     },
     "metadata": {},
     "output_type": "display_data"
    },
    {
     "data": {
      "application/vnd.jupyter.widget-view+json": {
       "model_id": "",
       "version_major": 2,
       "version_minor": 0
      },
      "text/plain": [
       "Getting Headlines from page 9: 0it [00:00, ?it/s]"
      ]
     },
     "metadata": {},
     "output_type": "display_data"
    },
    {
     "data": {
      "application/vnd.jupyter.widget-view+json": {
       "model_id": "0d4f7df764a04450bc52f6da69fb4ef0",
       "version_major": 2,
       "version_minor": 0
      },
      "text/plain": [
       "Getting data till year 2021:   0%|          | 0/40 [00:00<?, ?it/s]"
      ]
     },
     "metadata": {},
     "output_type": "display_data"
    },
    {
     "name": "stdout",
     "output_type": "stream",
     "text": [
      "23 JUNE 2022 FINCANTIERI: CONCLUSION OF THE SHARE BUYBACK PROGRAM\n",
      "23 JUNE 2022 “VIKING SATURN” FLOATED OUT IN ANCONA\n",
      "22 JUNE 2022 FINCANTIERI: CONSTRUCTION OF NEW CLASS OF ULTRA-ECO-FRIENDLY SHIPS FOR TUI CRUISES BEGINS\n",
      "16 MAY 2022 FINCANTIERI: PIERROBERTO FOLGIERO APPOINTED AS CHIEF EXECUTIVE OFFICER\n",
      "16 MAY 2022 FINCANTIERI: SHAREHOLDERS’ MEETING APPROVES 2021 FINANCIAL STATEMENTS AND APPOINTS NEW BOARD OF DIRECTORS\n",
      "12 MAY 2022 “VIKING MARS” DELIVERED IN ANCONA\n",
      "14 APRIL 2022 FINCANTIERI TO BUILD 2 ADDITIONAL SHIPS FOR THE OFFSHORE WIND FARMS MARKET\n",
      "05 APRIL 2022 NOTICE OF PUBLICATION OF DOCUMENTS – SHAREHOLDERS’ MEETING MAY 16, 2022, NOTICE OF PUBLICATION OF THE ANNUAL REPORT 2021 AND CONSOLIDATED NON-FINANCIAL STATEMENT 2021\n",
      "05 APRIL 2022 FINCANTIERI: INNOVATIVE STERN TRAWLER FOR DEUTSCHE FISCHFANG-UNION\n",
      "16 MARCH 2022 150 YEARS OF LR IN ITALY CELEBRATED WITH FINCANTIERI’S 75TH VESSEL BUILT TO LR CLASS\n",
      "10 MARCH 2022 CONSTRUCTION KICKS OFF OF THE NEW MSC MIAMI TERMINAL\n",
      "01 MARCH 2022 “VISTA” LAUNCHED IN SESTRI\n",
      "31 JANUARY 2022 FINCANTIERI CONFIRMS ITS PRODUCTION LEADERSHIP\n",
      "27 JANUARY 2022 INNOVATION: ENEA AND FINCANTIERI TEAM UP FOR ENERGY, ENVIRONMENT, AND CIRCULAR ECONOMY\n",
      "17 JANUARY 2022 FINCANTIERI: CORPORATE NURSERY PROGRAMME KICKS OFF\n",
      "23 DECEMBER 2021 INTESA SANPAOLO, CDP AND FINCANTIERI SIGN A 300 MILLION EURO “SUSTAINABILITY LINKED” LOAN FOR THE CONSTRUCTION OF A CRUISE SHIP\n",
      "23 DECEMBER 2021 FINCANTIERI: NINTH CRUISE SHIP IN 2021 “VIKING OCTANTIS” DELIVERED\n",
      "20 DECEMBER 2021 FINCANTIERI TO BUILD A SECOND LSS UNIT FOR THE ITALIAN NAVY\n",
      "15 NOVEMBER 2021 THE ITALIAN COAST GUARD IS TO EXPAND ITS FLEET\n",
      "12 NOVEMBER 2021 SILVERSEA CRUISES TAKES DELIVERY OF 10TH SHIP SILVER DAWN FROM FINCANTIERI IN ANCONA\n",
      "11 NOVEMBER 2021 THE BOD APPROVES 9M 2021 RESULTS\n",
      "04 OCTOBER 2021 VARD: NEW ORDERS IN THE OFFSHORE WIND FARMS MARKET\n",
      "30 SEPTEMBER 2021 FINCANTIERI LAUNCHES THE THIRD CORVETTE FOR QATAR\n",
      "03 SEPTEMBER 2021 FINCANTIERI: CONSTRUCTION OF NEW “SPHERE” CLASS SHIP FOR PRINCESS CRUISES BEGINS\n",
      "30 JULY 2021 FINCANTIERI: DELIVERED “ROTTERDAM” IN MARGHERA\n",
      "29 JULY 2021 THE BOD APPROVES 1H 2021 RESULTS\n",
      "26 JULY 2021 MSC TAKES DELIVERY FROM FINCANTIERI OF MSC SEASHORE\n",
      "24 JUNE 2021 AT COIN CEREMONY MSC CRUISES NAMES SECOND SEASIDE EVO SHIP\n",
      "11 JUNE 2021 FINCANTIERI AND MSC CELEBRATE THE START OF CONSTRUCTION OF “EXPLORA I”, THE FIRST OF FOUR SHIPS TO BE BUILT BY FINCANTIERI FOR “EXPLORA JOURNEYS”, THE NEW LUXURY BRAND OF THE CRUISES DIVISION OF MSC GROUP\n",
      "10 JUNE 2021 FINCANTIERI TO SUPPORT DAEWOO IN THE DESIGN OF THE NEW KOREAN AIRCRAFT CARRIERS\n",
      "13 MAY 2021 THE BOD APPROVES Q1 2021 RESULTS\n",
      "13 MAY 2021 FINCANTIERI AND AMAZON WEB SERVICES TEAM UP TO POWER THE DIGITIZATION AND COMPETITIVENESS OF ITALY WITH CLOUD COMPUTING\n",
      "07 MAY 2021 CONFERENCE CALL INVITATION FIRST QUARTER 2021 RESULTS\n",
      "24 MARCH 2021 ENEL X AND FINCANTIERI COMMIT TO THE ENERGY TRANSITION FOR MARITIME TRANSPORT IN ITALY\n",
      "18 MARCH 2021 FINCANTIERI: DISCOVERY PRINCESS FLOATS OUT IN MONFALCONE\n",
      "16 MARCH 2021 PUBLICATION OF THE ANNUAL REPORT 2020, CONSOLIDATED NON-FINANCIAL STATEMENT AND OTHER DOCUMENTS FOR THE SHAREHOLDERS’ MEETING ON APRIL 8, 2021\n",
      "18 FEBRUARY 2021 VARD CONFIRMS ITS LEADERSHIP IN THE SPECIALIZED VESSELS SEGMENT\n",
      "13 FEBRUARY 2021 FINCANTIERI LAUNCHES THE SECOND CORVETTE FOR QATAR\n",
      "11 FEBRUARY 2021 NAVIRIS AND NAVANTIA SIGN A MOU FOR THE EUROPEAN PATROL CORVETTE PROGRAM\n",
      "14 JANUARY 2021 NEW SHIP SILVER DAWN FLOATS OUT IN ANCONA: EXCITEMENT BUILDS FOR THE 10TH SHIP IN SILVERSEA’S FLEET\n"
     ]
    }
   ],
   "source": [
    "#get data\n",
    "article_list = []\n",
    "\n",
    "pagination = datetime.now().year\n",
    "last_year = 2004\n",
    "\n",
    "#creating empty lists to append data \n",
    "published_dates,titles,texts,links,thumbnails,authors = [],[],[],[],[],[]\n",
    "\n",
    "while True:\n",
    "    last_published_date_title = \"\"\n",
    "    \n",
    "    for page in range(1,100):\n",
    "        url = f\"https://www.fincantieri.com/en/media/press-releases/?variant=MonthType&year={pagination}&key=&month=&type=&page={page}\"\n",
    "        driver.get(url)\n",
    "        \n",
    "        try:\n",
    "            driver.find_element(By.XPATH,f'''/html/body/div[5]/div/a''').click()\n",
    "        except:\n",
    "            pass\n",
    "        \n",
    "        titles_dates = driver.find_elements(By.XPATH,f'''//div[@class=\"fileList__title\"]''')\n",
    "        \n",
    "        #published_date,title,link,thumbnail,author\n",
    "        if last_published_date_title != titles_dates[0].text.strip() :\n",
    "            last_published_date_title = titles_dates[0].text.strip()\n",
    "            for index,titles_date in tqdm(enumerate(titles_dates[:3]),desc=f\"Getting Headlines from page {page}\",leave=False):\n",
    "                titles_date_split = titles_date.text.split(\"\\n\")\n",
    "                published_date = titles_date_split[0].strip()\n",
    "                published_dates.append(published_date)\n",
    "                title = titles_date_split[1].strip()\n",
    "                titles.append(title)\n",
    "                link = driver.find_element(By.XPATH,f'''/html/body/div[2]/section/div/form/div[3]/div[1]/div/div/div/div[{index+1}]/div/div/a''').get_attribute(\"href\")            \n",
    "                links.append(link)\n",
    "                thumbnail = \"https://www.fincantieri.com/globalassets/common/header/logo_new.png\"\n",
    "                thumbnails.append(thumbnail)\n",
    "                author = SITE_NAME\n",
    "                authors.append(author)\n",
    "        else:\n",
    "            break\n",
    "    \n",
    "    if pagination <= last_year:\n",
    "        break\n",
    "        \n",
    "    #my condition to break the loop\n",
    "    if pagination <= 2021:\n",
    "        break\n",
    "        \n",
    "    pagination -= 1\n",
    "\n",
    "#text   \n",
    "for link in tqdm(links,desc=f\"Getting data till year {pagination}\"):\n",
    "        text = get_text(link)\n",
    "        texts.append(text)\n",
    "        \n",
    "#zippig all the data togather \n",
    "zipped = list(zip(published_dates,titles,texts,links,thumbnails,authors))\n",
    "\n",
    "#unwinding and appending to the main list\n",
    "for published_date,title,text,link,thumbnail,author in zipped:\n",
    "    article = (published_date.strip(),title.strip(),text.strip(),link.strip(),thumbnail.strip(),author.strip())\n",
    "    article_list.append(article)\n",
    "    print(published_date,title)"
   ]
  },
  {
   "cell_type": "code",
   "execution_count": 6,
   "id": "bff8c237",
   "metadata": {
    "ExecuteTime": {
     "end_time": "2022-06-24T12:16:10.676204Z",
     "start_time": "2022-06-24T12:16:10.651306Z"
    }
   },
   "outputs": [
    {
     "data": {
      "text/html": [
       "<div>\n",
       "<style scoped>\n",
       "    .dataframe tbody tr th:only-of-type {\n",
       "        vertical-align: middle;\n",
       "    }\n",
       "\n",
       "    .dataframe tbody tr th {\n",
       "        vertical-align: top;\n",
       "    }\n",
       "\n",
       "    .dataframe thead th {\n",
       "        text-align: right;\n",
       "    }\n",
       "</style>\n",
       "<table border=\"1\" class=\"dataframe\">\n",
       "  <thead>\n",
       "    <tr style=\"text-align: right;\">\n",
       "      <th></th>\n",
       "      <th>date</th>\n",
       "      <th>title</th>\n",
       "      <th>article</th>\n",
       "      <th>url</th>\n",
       "      <th>thumbnail</th>\n",
       "      <th>author</th>\n",
       "    </tr>\n",
       "  </thead>\n",
       "  <tbody>\n",
       "    <tr>\n",
       "      <th>0</th>\n",
       "      <td>23 JUNE 2022</td>\n",
       "      <td>FINCANTIERI: CONCLUSION OF THE SHARE BUYBACK P...</td>\n",
       "      <td>Trieste, 23 June 2022 FINCANTIERI S.p.A. ( Fin...</td>\n",
       "      <td>https://www.fincantieri.com/en/media/press-rel...</td>\n",
       "      <td>https://www.fincantieri.com/globalassets/commo...</td>\n",
       "      <td>Fincantieri</td>\n",
       "    </tr>\n",
       "    <tr>\n",
       "      <th>1</th>\n",
       "      <td>23 JUNE 2022</td>\n",
       "      <td>“VIKING SATURN” FLOATED OUT IN ANCONA</td>\n",
       "      <td>Trieste, June 23, 2022 Viking Saturn , the new...</td>\n",
       "      <td>https://www.fincantieri.com/en/media/press-rel...</td>\n",
       "      <td>https://www.fincantieri.com/globalassets/commo...</td>\n",
       "      <td>Fincantieri</td>\n",
       "    </tr>\n",
       "    <tr>\n",
       "      <th>2</th>\n",
       "      <td>22 JUNE 2022</td>\n",
       "      <td>FINCANTIERI: CONSTRUCTION OF NEW CLASS OF ULTR...</td>\n",
       "      <td>Trieste, June 22, 2022 The steel cutting of th...</td>\n",
       "      <td>https://www.fincantieri.com/en/media/press-rel...</td>\n",
       "      <td>https://www.fincantieri.com/globalassets/commo...</td>\n",
       "      <td>Fincantieri</td>\n",
       "    </tr>\n",
       "    <tr>\n",
       "      <th>3</th>\n",
       "      <td>16 MAY 2022</td>\n",
       "      <td>FINCANTIERI: PIERROBERTO FOLGIERO APPOINTED AS...</td>\n",
       "      <td>Rome, May 16, 2022 The new Board of Directors ...</td>\n",
       "      <td>https://www.fincantieri.com/en/media/press-rel...</td>\n",
       "      <td>https://www.fincantieri.com/globalassets/commo...</td>\n",
       "      <td>Fincantieri</td>\n",
       "    </tr>\n",
       "    <tr>\n",
       "      <th>4</th>\n",
       "      <td>16 MAY 2022</td>\n",
       "      <td>FINCANTIERI: SHAREHOLDERS’ MEETING APPROVES 20...</td>\n",
       "      <td>2021 Financial Statements approved and 2021 Co...</td>\n",
       "      <td>https://www.fincantieri.com/en/media/press-rel...</td>\n",
       "      <td>https://www.fincantieri.com/globalassets/commo...</td>\n",
       "      <td>Fincantieri</td>\n",
       "    </tr>\n",
       "    <tr>\n",
       "      <th>5</th>\n",
       "      <td>12 MAY 2022</td>\n",
       "      <td>“VIKING MARS” DELIVERED IN ANCONA</td>\n",
       "      <td>Trieste, May 12, 2022 Viking Mars , the newest...</td>\n",
       "      <td>https://www.fincantieri.com/en/media/press-rel...</td>\n",
       "      <td>https://www.fincantieri.com/globalassets/commo...</td>\n",
       "      <td>Fincantieri</td>\n",
       "    </tr>\n",
       "    <tr>\n",
       "      <th>6</th>\n",
       "      <td>14 APRIL 2022</td>\n",
       "      <td>FINCANTIERI TO BUILD 2 ADDITIONAL SHIPS FOR TH...</td>\n",
       "      <td>Trieste, April 14, 2022 Fincantieri, through i...</td>\n",
       "      <td>https://www.fincantieri.com/en/media/press-rel...</td>\n",
       "      <td>https://www.fincantieri.com/globalassets/commo...</td>\n",
       "      <td>Fincantieri</td>\n",
       "    </tr>\n",
       "    <tr>\n",
       "      <th>7</th>\n",
       "      <td>05 APRIL 2022</td>\n",
       "      <td>NOTICE OF PUBLICATION OF DOCUMENTS – SHAREHOLD...</td>\n",
       "      <td>Trieste, April 5, 2022 FINCANTIERI S.p.A. ( Fi...</td>\n",
       "      <td>https://www.fincantieri.com/en/media/press-rel...</td>\n",
       "      <td>https://www.fincantieri.com/globalassets/commo...</td>\n",
       "      <td>Fincantieri</td>\n",
       "    </tr>\n",
       "    <tr>\n",
       "      <th>8</th>\n",
       "      <td>05 APRIL 2022</td>\n",
       "      <td>FINCANTIERI: INNOVATIVE STERN TRAWLER FOR DEUT...</td>\n",
       "      <td>Trieste, April 5, 2022 Fincantieri, through it...</td>\n",
       "      <td>https://www.fincantieri.com/en/media/press-rel...</td>\n",
       "      <td>https://www.fincantieri.com/globalassets/commo...</td>\n",
       "      <td>Fincantieri</td>\n",
       "    </tr>\n",
       "    <tr>\n",
       "      <th>9</th>\n",
       "      <td>16 MARCH 2022</td>\n",
       "      <td>150 YEARS OF LR IN ITALY CELEBRATED WITH FINCA...</td>\n",
       "      <td>LR (Lloyd s Register), a leading provider of c...</td>\n",
       "      <td>https://www.fincantieri.com/en/media/press-rel...</td>\n",
       "      <td>https://www.fincantieri.com/globalassets/commo...</td>\n",
       "      <td>Fincantieri</td>\n",
       "    </tr>\n",
       "    <tr>\n",
       "      <th>10</th>\n",
       "      <td>10 MARCH 2022</td>\n",
       "      <td>CONSTRUCTION KICKS OFF OF THE NEW MSC MIAMI TE...</td>\n",
       "      <td>It will begin operations by the end of 2023 an...</td>\n",
       "      <td>https://www.fincantieri.com/en/media/press-rel...</td>\n",
       "      <td>https://www.fincantieri.com/globalassets/commo...</td>\n",
       "      <td>Fincantieri</td>\n",
       "    </tr>\n",
       "    <tr>\n",
       "      <th>11</th>\n",
       "      <td>01 MARCH 2022</td>\n",
       "      <td>“VISTA” LAUNCHED IN SESTRI</td>\n",
       "      <td>Trieste, March 1, 2022 Vista , the first of tw...</td>\n",
       "      <td>https://www.fincantieri.com/en/media/press-rel...</td>\n",
       "      <td>https://www.fincantieri.com/globalassets/commo...</td>\n",
       "      <td>Fincantieri</td>\n",
       "    </tr>\n",
       "    <tr>\n",
       "      <th>12</th>\n",
       "      <td>31 JANUARY 2022</td>\n",
       "      <td>FINCANTIERI CONFIRMS ITS PRODUCTION LEADERSHIP</td>\n",
       "      <td>Trieste, January 31, 2022 Fincantieri has deli...</td>\n",
       "      <td>https://www.fincantieri.com/en/media/press-rel...</td>\n",
       "      <td>https://www.fincantieri.com/globalassets/commo...</td>\n",
       "      <td>Fincantieri</td>\n",
       "    </tr>\n",
       "    <tr>\n",
       "      <th>13</th>\n",
       "      <td>27 JANUARY 2022</td>\n",
       "      <td>INNOVATION: ENEA AND FINCANTIERI TEAM UP FOR E...</td>\n",
       "      <td>Rome/Trieste, Jan. 27, 2022 Fincantieri and EN...</td>\n",
       "      <td>https://www.fincantieri.com/en/media/press-rel...</td>\n",
       "      <td>https://www.fincantieri.com/globalassets/commo...</td>\n",
       "      <td>Fincantieri</td>\n",
       "    </tr>\n",
       "    <tr>\n",
       "      <th>14</th>\n",
       "      <td>17 JANUARY 2022</td>\n",
       "      <td>FINCANTIERI: CORPORATE NURSERY PROGRAMME KICKS...</td>\n",
       "      <td>Trieste, January 17, 2022 Today, in the presen...</td>\n",
       "      <td>https://www.fincantieri.com/en/media/press-rel...</td>\n",
       "      <td>https://www.fincantieri.com/globalassets/commo...</td>\n",
       "      <td>Fincantieri</td>\n",
       "    </tr>\n",
       "    <tr>\n",
       "      <th>15</th>\n",
       "      <td>23 DECEMBER 2021</td>\n",
       "      <td>INTESA SANPAOLO, CDP AND FINCANTIERI SIGN A 30...</td>\n",
       "      <td>Trieste, December 23, 2021 Fincantieri has sig...</td>\n",
       "      <td>https://www.fincantieri.com/en/media/press-rel...</td>\n",
       "      <td>https://www.fincantieri.com/globalassets/commo...</td>\n",
       "      <td>Fincantieri</td>\n",
       "    </tr>\n",
       "    <tr>\n",
       "      <th>16</th>\n",
       "      <td>23 DECEMBER 2021</td>\n",
       "      <td>FINCANTIERI: NINTH CRUISE SHIP IN 2021 “VIKING...</td>\n",
       "      <td>Trieste, December 23, 2021 Fincantieri has del...</td>\n",
       "      <td>https://www.fincantieri.com/en/media/press-rel...</td>\n",
       "      <td>https://www.fincantieri.com/globalassets/commo...</td>\n",
       "      <td>Fincantieri</td>\n",
       "    </tr>\n",
       "    <tr>\n",
       "      <th>17</th>\n",
       "      <td>20 DECEMBER 2021</td>\n",
       "      <td>FINCANTIERI TO BUILD A SECOND LSS UNIT FOR THE...</td>\n",
       "      <td>Trieste, December 20, 2021 The consortium Ragg...</td>\n",
       "      <td>https://www.fincantieri.com/en/media/press-rel...</td>\n",
       "      <td>https://www.fincantieri.com/globalassets/commo...</td>\n",
       "      <td>Fincantieri</td>\n",
       "    </tr>\n",
       "    <tr>\n",
       "      <th>18</th>\n",
       "      <td>15 NOVEMBER 2021</td>\n",
       "      <td>THE ITALIAN COAST GUARD IS TO EXPAND ITS FLEET</td>\n",
       "      <td>Rome, November 15, 2021 Today, the contract fo...</td>\n",
       "      <td>https://www.fincantieri.com/en/media/press-rel...</td>\n",
       "      <td>https://www.fincantieri.com/globalassets/commo...</td>\n",
       "      <td>Fincantieri</td>\n",
       "    </tr>\n",
       "    <tr>\n",
       "      <th>19</th>\n",
       "      <td>12 NOVEMBER 2021</td>\n",
       "      <td>SILVERSEA CRUISES TAKES DELIVERY OF 10TH SHIP ...</td>\n",
       "      <td>Monaco/Ancona -- November 12, 2021 - Leading u...</td>\n",
       "      <td>https://www.fincantieri.com/en/media/press-rel...</td>\n",
       "      <td>https://www.fincantieri.com/globalassets/commo...</td>\n",
       "      <td>Fincantieri</td>\n",
       "    </tr>\n",
       "    <tr>\n",
       "      <th>20</th>\n",
       "      <td>11 NOVEMBER 2021</td>\n",
       "      <td>THE BOD APPROVES 9M 2021 RESULTS</td>\n",
       "      <td>REVENUES UP BY OVER 28% AND EBITDA +65%, TOTAL...</td>\n",
       "      <td>https://www.fincantieri.com/en/media/press-rel...</td>\n",
       "      <td>https://www.fincantieri.com/globalassets/commo...</td>\n",
       "      <td>Fincantieri</td>\n",
       "    </tr>\n",
       "    <tr>\n",
       "      <th>21</th>\n",
       "      <td>04 OCTOBER 2021</td>\n",
       "      <td>VARD: NEW ORDERS IN THE OFFSHORE WIND FARMS MA...</td>\n",
       "      <td>Trieste, October 4, 2021 Fincantieri s subsidi...</td>\n",
       "      <td>https://www.fincantieri.com/en/media/press-rel...</td>\n",
       "      <td>https://www.fincantieri.com/globalassets/commo...</td>\n",
       "      <td>Fincantieri</td>\n",
       "    </tr>\n",
       "    <tr>\n",
       "      <th>22</th>\n",
       "      <td>30 SEPTEMBER 2021</td>\n",
       "      <td>FINCANTIERI LAUNCHES THE THIRD CORVETTE FOR QATAR</td>\n",
       "      <td>Trieste, September 30, 2021 The technical laun...</td>\n",
       "      <td>https://www.fincantieri.com/en/media/press-rel...</td>\n",
       "      <td>https://www.fincantieri.com/globalassets/commo...</td>\n",
       "      <td>Fincantieri</td>\n",
       "    </tr>\n",
       "    <tr>\n",
       "      <th>23</th>\n",
       "      <td>03 SEPTEMBER 2021</td>\n",
       "      <td>FINCANTIERI: CONSTRUCTION OF NEW “SPHERE” CLAS...</td>\n",
       "      <td>Trieste, September 3, 2021 The steel of the fi...</td>\n",
       "      <td>https://www.fincantieri.com/en/media/press-rel...</td>\n",
       "      <td>https://www.fincantieri.com/globalassets/commo...</td>\n",
       "      <td>Fincantieri</td>\n",
       "    </tr>\n",
       "    <tr>\n",
       "      <th>24</th>\n",
       "      <td>30 JULY 2021</td>\n",
       "      <td>FINCANTIERI: DELIVERED “ROTTERDAM” IN MARGHERA</td>\n",
       "      <td>Trieste, July 30, 2021 Rotterdam , the new cru...</td>\n",
       "      <td>https://www.fincantieri.com/en/media/press-rel...</td>\n",
       "      <td>https://www.fincantieri.com/globalassets/commo...</td>\n",
       "      <td>Fincantieri</td>\n",
       "    </tr>\n",
       "    <tr>\n",
       "      <th>25</th>\n",
       "      <td>29 JULY 2021</td>\n",
       "      <td>THE BOD APPROVES 1H 2021 RESULTS</td>\n",
       "      <td>Consolidated 1H 2021 results 2021 guidance con...</td>\n",
       "      <td>https://www.fincantieri.com/en/media/press-rel...</td>\n",
       "      <td>https://www.fincantieri.com/globalassets/commo...</td>\n",
       "      <td>Fincantieri</td>\n",
       "    </tr>\n",
       "    <tr>\n",
       "      <th>26</th>\n",
       "      <td>26 JULY 2021</td>\n",
       "      <td>MSC TAKES DELIVERY FROM FINCANTIERI OF MSC SEA...</td>\n",
       "      <td>New MSC Cruises flagship to feature some of th...</td>\n",
       "      <td>https://www.fincantieri.com/en/media/press-rel...</td>\n",
       "      <td>https://www.fincantieri.com/globalassets/commo...</td>\n",
       "      <td>Fincantieri</td>\n",
       "    </tr>\n",
       "    <tr>\n",
       "      <th>27</th>\n",
       "      <td>24 JUNE 2021</td>\n",
       "      <td>AT COIN CEREMONY MSC CRUISES NAMES SECOND SEAS...</td>\n",
       "      <td>MSC Seascape named to pay homage to the stunni...</td>\n",
       "      <td>https://www.fincantieri.com/en/media/press-rel...</td>\n",
       "      <td>https://www.fincantieri.com/globalassets/commo...</td>\n",
       "      <td>Fincantieri</td>\n",
       "    </tr>\n",
       "    <tr>\n",
       "      <th>28</th>\n",
       "      <td>11 JUNE 2021</td>\n",
       "      <td>FINCANTIERI AND MSC CELEBRATE THE START OF CON...</td>\n",
       "      <td>Trieste, Italy/Geneva, Switzerland, June 11, 2...</td>\n",
       "      <td>https://www.fincantieri.com/en/media/press-rel...</td>\n",
       "      <td>https://www.fincantieri.com/globalassets/commo...</td>\n",
       "      <td>Fincantieri</td>\n",
       "    </tr>\n",
       "    <tr>\n",
       "      <th>29</th>\n",
       "      <td>10 JUNE 2021</td>\n",
       "      <td>FINCANTIERI TO SUPPORT DAEWOO IN THE DESIGN OF...</td>\n",
       "      <td>Trieste, June 10, 2021 During MADEX (Internati...</td>\n",
       "      <td>https://www.fincantieri.com/en/media/press-rel...</td>\n",
       "      <td>https://www.fincantieri.com/globalassets/commo...</td>\n",
       "      <td>Fincantieri</td>\n",
       "    </tr>\n",
       "    <tr>\n",
       "      <th>30</th>\n",
       "      <td>13 MAY 2021</td>\n",
       "      <td>THE BOD APPROVES Q1 2021 RESULTS</td>\n",
       "      <td>Consolidated Q1 2021 results[2] 2021 guidancec...</td>\n",
       "      <td>https://www.fincantieri.com/en/media/press-rel...</td>\n",
       "      <td>https://www.fincantieri.com/globalassets/commo...</td>\n",
       "      <td>Fincantieri</td>\n",
       "    </tr>\n",
       "    <tr>\n",
       "      <th>31</th>\n",
       "      <td>13 MAY 2021</td>\n",
       "      <td>FINCANTIERI AND AMAZON WEB SERVICES TEAM UP TO...</td>\n",
       "      <td>Trieste, May 13, 2021 Fincantieri and Amazon W...</td>\n",
       "      <td>https://www.fincantieri.com/en/media/press-rel...</td>\n",
       "      <td>https://www.fincantieri.com/globalassets/commo...</td>\n",
       "      <td>Fincantieri</td>\n",
       "    </tr>\n",
       "    <tr>\n",
       "      <th>32</th>\n",
       "      <td>07 MAY 2021</td>\n",
       "      <td>CONFERENCE CALL INVITATION FIRST QUARTER 2021 ...</td>\n",
       "      <td>FINCANTIERI S.p.A. is pleased to invite the fi...</td>\n",
       "      <td>https://www.fincantieri.com/en/media/press-rel...</td>\n",
       "      <td>https://www.fincantieri.com/globalassets/commo...</td>\n",
       "      <td>Fincantieri</td>\n",
       "    </tr>\n",
       "    <tr>\n",
       "      <th>33</th>\n",
       "      <td>24 MARCH 2021</td>\n",
       "      <td>ENEL X AND FINCANTIERI COMMIT TO THE ENERGY TR...</td>\n",
       "      <td>Rome, March 24th, 2021 Enel X and Fincantieri ...</td>\n",
       "      <td>https://www.fincantieri.com/en/media/press-rel...</td>\n",
       "      <td>https://www.fincantieri.com/globalassets/commo...</td>\n",
       "      <td>Fincantieri</td>\n",
       "    </tr>\n",
       "    <tr>\n",
       "      <th>34</th>\n",
       "      <td>18 MARCH 2021</td>\n",
       "      <td>FINCANTIERI: DISCOVERY PRINCESS FLOATS OUT IN ...</td>\n",
       "      <td>Trieste, March 18, 2021 Discovery Princess, th...</td>\n",
       "      <td>https://www.fincantieri.com/en/media/press-rel...</td>\n",
       "      <td>https://www.fincantieri.com/globalassets/commo...</td>\n",
       "      <td>Fincantieri</td>\n",
       "    </tr>\n",
       "    <tr>\n",
       "      <th>35</th>\n",
       "      <td>16 MARCH 2021</td>\n",
       "      <td>PUBLICATION OF THE ANNUAL REPORT 2020, CONSOLI...</td>\n",
       "      <td>Trieste, March 16, 2021 FINCANTIERI S.p.A. ( F...</td>\n",
       "      <td>https://www.fincantieri.com/en/media/press-rel...</td>\n",
       "      <td>https://www.fincantieri.com/globalassets/commo...</td>\n",
       "      <td>Fincantieri</td>\n",
       "    </tr>\n",
       "    <tr>\n",
       "      <th>36</th>\n",
       "      <td>18 FEBRUARY 2021</td>\n",
       "      <td>VARD CONFIRMS ITS LEADERSHIP IN THE SPECIALIZE...</td>\n",
       "      <td>Trieste, February 18, 2021 Vard, one of the ma...</td>\n",
       "      <td>https://www.fincantieri.com/en/media/press-rel...</td>\n",
       "      <td>https://www.fincantieri.com/globalassets/commo...</td>\n",
       "      <td>Fincantieri</td>\n",
       "    </tr>\n",
       "    <tr>\n",
       "      <th>37</th>\n",
       "      <td>13 FEBRUARY 2021</td>\n",
       "      <td>FINCANTIERI LAUNCHES THE SECOND CORVETTE FOR Q...</td>\n",
       "      <td>Trieste, February 13, 2021 The technical launc...</td>\n",
       "      <td>https://www.fincantieri.com/en/media/press-rel...</td>\n",
       "      <td>https://www.fincantieri.com/globalassets/commo...</td>\n",
       "      <td>Fincantieri</td>\n",
       "    </tr>\n",
       "    <tr>\n",
       "      <th>38</th>\n",
       "      <td>11 FEBRUARY 2021</td>\n",
       "      <td>NAVIRIS AND NAVANTIA SIGN A MOU FOR THE EUROPE...</td>\n",
       "      <td>Genoa/Madrid, February 11, 2021 NAVIRIS, the 5...</td>\n",
       "      <td>https://www.fincantieri.com/en/media/press-rel...</td>\n",
       "      <td>https://www.fincantieri.com/globalassets/commo...</td>\n",
       "      <td>Fincantieri</td>\n",
       "    </tr>\n",
       "    <tr>\n",
       "      <th>39</th>\n",
       "      <td>14 JANUARY 2021</td>\n",
       "      <td>NEW SHIP SILVER DAWN FLOATS OUT IN ANCONA: EXC...</td>\n",
       "      <td>(Monaco/Trieste -- January 14, 2021) Silversea...</td>\n",
       "      <td>https://www.fincantieri.com/en/media/press-rel...</td>\n",
       "      <td>https://www.fincantieri.com/globalassets/commo...</td>\n",
       "      <td>Fincantieri</td>\n",
       "    </tr>\n",
       "  </tbody>\n",
       "</table>\n",
       "</div>"
      ],
      "text/plain": [
       "                 date                                              title  \\\n",
       "0        23 JUNE 2022  FINCANTIERI: CONCLUSION OF THE SHARE BUYBACK P...   \n",
       "1        23 JUNE 2022              “VIKING SATURN” FLOATED OUT IN ANCONA   \n",
       "2        22 JUNE 2022  FINCANTIERI: CONSTRUCTION OF NEW CLASS OF ULTR...   \n",
       "3         16 MAY 2022  FINCANTIERI: PIERROBERTO FOLGIERO APPOINTED AS...   \n",
       "4         16 MAY 2022  FINCANTIERI: SHAREHOLDERS’ MEETING APPROVES 20...   \n",
       "5         12 MAY 2022                  “VIKING MARS” DELIVERED IN ANCONA   \n",
       "6       14 APRIL 2022  FINCANTIERI TO BUILD 2 ADDITIONAL SHIPS FOR TH...   \n",
       "7       05 APRIL 2022  NOTICE OF PUBLICATION OF DOCUMENTS – SHAREHOLD...   \n",
       "8       05 APRIL 2022  FINCANTIERI: INNOVATIVE STERN TRAWLER FOR DEUT...   \n",
       "9       16 MARCH 2022  150 YEARS OF LR IN ITALY CELEBRATED WITH FINCA...   \n",
       "10      10 MARCH 2022  CONSTRUCTION KICKS OFF OF THE NEW MSC MIAMI TE...   \n",
       "11      01 MARCH 2022                         “VISTA” LAUNCHED IN SESTRI   \n",
       "12    31 JANUARY 2022     FINCANTIERI CONFIRMS ITS PRODUCTION LEADERSHIP   \n",
       "13    27 JANUARY 2022  INNOVATION: ENEA AND FINCANTIERI TEAM UP FOR E...   \n",
       "14    17 JANUARY 2022  FINCANTIERI: CORPORATE NURSERY PROGRAMME KICKS...   \n",
       "15   23 DECEMBER 2021  INTESA SANPAOLO, CDP AND FINCANTIERI SIGN A 30...   \n",
       "16   23 DECEMBER 2021  FINCANTIERI: NINTH CRUISE SHIP IN 2021 “VIKING...   \n",
       "17   20 DECEMBER 2021  FINCANTIERI TO BUILD A SECOND LSS UNIT FOR THE...   \n",
       "18   15 NOVEMBER 2021     THE ITALIAN COAST GUARD IS TO EXPAND ITS FLEET   \n",
       "19   12 NOVEMBER 2021  SILVERSEA CRUISES TAKES DELIVERY OF 10TH SHIP ...   \n",
       "20   11 NOVEMBER 2021                   THE BOD APPROVES 9M 2021 RESULTS   \n",
       "21    04 OCTOBER 2021  VARD: NEW ORDERS IN THE OFFSHORE WIND FARMS MA...   \n",
       "22  30 SEPTEMBER 2021  FINCANTIERI LAUNCHES THE THIRD CORVETTE FOR QATAR   \n",
       "23  03 SEPTEMBER 2021  FINCANTIERI: CONSTRUCTION OF NEW “SPHERE” CLAS...   \n",
       "24       30 JULY 2021     FINCANTIERI: DELIVERED “ROTTERDAM” IN MARGHERA   \n",
       "25       29 JULY 2021                   THE BOD APPROVES 1H 2021 RESULTS   \n",
       "26       26 JULY 2021  MSC TAKES DELIVERY FROM FINCANTIERI OF MSC SEA...   \n",
       "27       24 JUNE 2021  AT COIN CEREMONY MSC CRUISES NAMES SECOND SEAS...   \n",
       "28       11 JUNE 2021  FINCANTIERI AND MSC CELEBRATE THE START OF CON...   \n",
       "29       10 JUNE 2021  FINCANTIERI TO SUPPORT DAEWOO IN THE DESIGN OF...   \n",
       "30        13 MAY 2021                   THE BOD APPROVES Q1 2021 RESULTS   \n",
       "31        13 MAY 2021  FINCANTIERI AND AMAZON WEB SERVICES TEAM UP TO...   \n",
       "32        07 MAY 2021  CONFERENCE CALL INVITATION FIRST QUARTER 2021 ...   \n",
       "33      24 MARCH 2021  ENEL X AND FINCANTIERI COMMIT TO THE ENERGY TR...   \n",
       "34      18 MARCH 2021  FINCANTIERI: DISCOVERY PRINCESS FLOATS OUT IN ...   \n",
       "35      16 MARCH 2021  PUBLICATION OF THE ANNUAL REPORT 2020, CONSOLI...   \n",
       "36   18 FEBRUARY 2021  VARD CONFIRMS ITS LEADERSHIP IN THE SPECIALIZE...   \n",
       "37   13 FEBRUARY 2021  FINCANTIERI LAUNCHES THE SECOND CORVETTE FOR Q...   \n",
       "38   11 FEBRUARY 2021  NAVIRIS AND NAVANTIA SIGN A MOU FOR THE EUROPE...   \n",
       "39    14 JANUARY 2021  NEW SHIP SILVER DAWN FLOATS OUT IN ANCONA: EXC...   \n",
       "\n",
       "                                              article  \\\n",
       "0   Trieste, 23 June 2022 FINCANTIERI S.p.A. ( Fin...   \n",
       "1   Trieste, June 23, 2022 Viking Saturn , the new...   \n",
       "2   Trieste, June 22, 2022 The steel cutting of th...   \n",
       "3   Rome, May 16, 2022 The new Board of Directors ...   \n",
       "4   2021 Financial Statements approved and 2021 Co...   \n",
       "5   Trieste, May 12, 2022 Viking Mars , the newest...   \n",
       "6   Trieste, April 14, 2022 Fincantieri, through i...   \n",
       "7   Trieste, April 5, 2022 FINCANTIERI S.p.A. ( Fi...   \n",
       "8   Trieste, April 5, 2022 Fincantieri, through it...   \n",
       "9   LR (Lloyd s Register), a leading provider of c...   \n",
       "10  It will begin operations by the end of 2023 an...   \n",
       "11  Trieste, March 1, 2022 Vista , the first of tw...   \n",
       "12  Trieste, January 31, 2022 Fincantieri has deli...   \n",
       "13  Rome/Trieste, Jan. 27, 2022 Fincantieri and EN...   \n",
       "14  Trieste, January 17, 2022 Today, in the presen...   \n",
       "15  Trieste, December 23, 2021 Fincantieri has sig...   \n",
       "16  Trieste, December 23, 2021 Fincantieri has del...   \n",
       "17  Trieste, December 20, 2021 The consortium Ragg...   \n",
       "18  Rome, November 15, 2021 Today, the contract fo...   \n",
       "19  Monaco/Ancona -- November 12, 2021 - Leading u...   \n",
       "20  REVENUES UP BY OVER 28% AND EBITDA +65%, TOTAL...   \n",
       "21  Trieste, October 4, 2021 Fincantieri s subsidi...   \n",
       "22  Trieste, September 30, 2021 The technical laun...   \n",
       "23  Trieste, September 3, 2021 The steel of the fi...   \n",
       "24  Trieste, July 30, 2021 Rotterdam , the new cru...   \n",
       "25  Consolidated 1H 2021 results 2021 guidance con...   \n",
       "26  New MSC Cruises flagship to feature some of th...   \n",
       "27  MSC Seascape named to pay homage to the stunni...   \n",
       "28  Trieste, Italy/Geneva, Switzerland, June 11, 2...   \n",
       "29  Trieste, June 10, 2021 During MADEX (Internati...   \n",
       "30  Consolidated Q1 2021 results[2] 2021 guidancec...   \n",
       "31  Trieste, May 13, 2021 Fincantieri and Amazon W...   \n",
       "32  FINCANTIERI S.p.A. is pleased to invite the fi...   \n",
       "33  Rome, March 24th, 2021 Enel X and Fincantieri ...   \n",
       "34  Trieste, March 18, 2021 Discovery Princess, th...   \n",
       "35  Trieste, March 16, 2021 FINCANTIERI S.p.A. ( F...   \n",
       "36  Trieste, February 18, 2021 Vard, one of the ma...   \n",
       "37  Trieste, February 13, 2021 The technical launc...   \n",
       "38  Genoa/Madrid, February 11, 2021 NAVIRIS, the 5...   \n",
       "39  (Monaco/Trieste -- January 14, 2021) Silversea...   \n",
       "\n",
       "                                                  url  \\\n",
       "0   https://www.fincantieri.com/en/media/press-rel...   \n",
       "1   https://www.fincantieri.com/en/media/press-rel...   \n",
       "2   https://www.fincantieri.com/en/media/press-rel...   \n",
       "3   https://www.fincantieri.com/en/media/press-rel...   \n",
       "4   https://www.fincantieri.com/en/media/press-rel...   \n",
       "5   https://www.fincantieri.com/en/media/press-rel...   \n",
       "6   https://www.fincantieri.com/en/media/press-rel...   \n",
       "7   https://www.fincantieri.com/en/media/press-rel...   \n",
       "8   https://www.fincantieri.com/en/media/press-rel...   \n",
       "9   https://www.fincantieri.com/en/media/press-rel...   \n",
       "10  https://www.fincantieri.com/en/media/press-rel...   \n",
       "11  https://www.fincantieri.com/en/media/press-rel...   \n",
       "12  https://www.fincantieri.com/en/media/press-rel...   \n",
       "13  https://www.fincantieri.com/en/media/press-rel...   \n",
       "14  https://www.fincantieri.com/en/media/press-rel...   \n",
       "15  https://www.fincantieri.com/en/media/press-rel...   \n",
       "16  https://www.fincantieri.com/en/media/press-rel...   \n",
       "17  https://www.fincantieri.com/en/media/press-rel...   \n",
       "18  https://www.fincantieri.com/en/media/press-rel...   \n",
       "19  https://www.fincantieri.com/en/media/press-rel...   \n",
       "20  https://www.fincantieri.com/en/media/press-rel...   \n",
       "21  https://www.fincantieri.com/en/media/press-rel...   \n",
       "22  https://www.fincantieri.com/en/media/press-rel...   \n",
       "23  https://www.fincantieri.com/en/media/press-rel...   \n",
       "24  https://www.fincantieri.com/en/media/press-rel...   \n",
       "25  https://www.fincantieri.com/en/media/press-rel...   \n",
       "26  https://www.fincantieri.com/en/media/press-rel...   \n",
       "27  https://www.fincantieri.com/en/media/press-rel...   \n",
       "28  https://www.fincantieri.com/en/media/press-rel...   \n",
       "29  https://www.fincantieri.com/en/media/press-rel...   \n",
       "30  https://www.fincantieri.com/en/media/press-rel...   \n",
       "31  https://www.fincantieri.com/en/media/press-rel...   \n",
       "32  https://www.fincantieri.com/en/media/press-rel...   \n",
       "33  https://www.fincantieri.com/en/media/press-rel...   \n",
       "34  https://www.fincantieri.com/en/media/press-rel...   \n",
       "35  https://www.fincantieri.com/en/media/press-rel...   \n",
       "36  https://www.fincantieri.com/en/media/press-rel...   \n",
       "37  https://www.fincantieri.com/en/media/press-rel...   \n",
       "38  https://www.fincantieri.com/en/media/press-rel...   \n",
       "39  https://www.fincantieri.com/en/media/press-rel...   \n",
       "\n",
       "                                            thumbnail       author  \n",
       "0   https://www.fincantieri.com/globalassets/commo...  Fincantieri  \n",
       "1   https://www.fincantieri.com/globalassets/commo...  Fincantieri  \n",
       "2   https://www.fincantieri.com/globalassets/commo...  Fincantieri  \n",
       "3   https://www.fincantieri.com/globalassets/commo...  Fincantieri  \n",
       "4   https://www.fincantieri.com/globalassets/commo...  Fincantieri  \n",
       "5   https://www.fincantieri.com/globalassets/commo...  Fincantieri  \n",
       "6   https://www.fincantieri.com/globalassets/commo...  Fincantieri  \n",
       "7   https://www.fincantieri.com/globalassets/commo...  Fincantieri  \n",
       "8   https://www.fincantieri.com/globalassets/commo...  Fincantieri  \n",
       "9   https://www.fincantieri.com/globalassets/commo...  Fincantieri  \n",
       "10  https://www.fincantieri.com/globalassets/commo...  Fincantieri  \n",
       "11  https://www.fincantieri.com/globalassets/commo...  Fincantieri  \n",
       "12  https://www.fincantieri.com/globalassets/commo...  Fincantieri  \n",
       "13  https://www.fincantieri.com/globalassets/commo...  Fincantieri  \n",
       "14  https://www.fincantieri.com/globalassets/commo...  Fincantieri  \n",
       "15  https://www.fincantieri.com/globalassets/commo...  Fincantieri  \n",
       "16  https://www.fincantieri.com/globalassets/commo...  Fincantieri  \n",
       "17  https://www.fincantieri.com/globalassets/commo...  Fincantieri  \n",
       "18  https://www.fincantieri.com/globalassets/commo...  Fincantieri  \n",
       "19  https://www.fincantieri.com/globalassets/commo...  Fincantieri  \n",
       "20  https://www.fincantieri.com/globalassets/commo...  Fincantieri  \n",
       "21  https://www.fincantieri.com/globalassets/commo...  Fincantieri  \n",
       "22  https://www.fincantieri.com/globalassets/commo...  Fincantieri  \n",
       "23  https://www.fincantieri.com/globalassets/commo...  Fincantieri  \n",
       "24  https://www.fincantieri.com/globalassets/commo...  Fincantieri  \n",
       "25  https://www.fincantieri.com/globalassets/commo...  Fincantieri  \n",
       "26  https://www.fincantieri.com/globalassets/commo...  Fincantieri  \n",
       "27  https://www.fincantieri.com/globalassets/commo...  Fincantieri  \n",
       "28  https://www.fincantieri.com/globalassets/commo...  Fincantieri  \n",
       "29  https://www.fincantieri.com/globalassets/commo...  Fincantieri  \n",
       "30  https://www.fincantieri.com/globalassets/commo...  Fincantieri  \n",
       "31  https://www.fincantieri.com/globalassets/commo...  Fincantieri  \n",
       "32  https://www.fincantieri.com/globalassets/commo...  Fincantieri  \n",
       "33  https://www.fincantieri.com/globalassets/commo...  Fincantieri  \n",
       "34  https://www.fincantieri.com/globalassets/commo...  Fincantieri  \n",
       "35  https://www.fincantieri.com/globalassets/commo...  Fincantieri  \n",
       "36  https://www.fincantieri.com/globalassets/commo...  Fincantieri  \n",
       "37  https://www.fincantieri.com/globalassets/commo...  Fincantieri  \n",
       "38  https://www.fincantieri.com/globalassets/commo...  Fincantieri  \n",
       "39  https://www.fincantieri.com/globalassets/commo...  Fincantieri  "
      ]
     },
     "execution_count": 6,
     "metadata": {},
     "output_type": "execute_result"
    }
   ],
   "source": [
    "temp_df = pd.DataFrame(article_list,columns=['date','title','article','url','thumbnail','author'])\n",
    "temp_df"
   ]
  },
  {
   "cell_type": "code",
   "execution_count": 7,
   "id": "db695397",
   "metadata": {
    "ExecuteTime": {
     "end_time": "2022-06-24T12:16:10.691162Z",
     "start_time": "2022-06-24T12:16:10.679197Z"
    },
    "code_folding": [
     0
    ],
    "scrolled": false
   },
   "outputs": [
    {
     "name": "stdout",
     "output_type": "stream",
     "text": [
      "18 FEBRUARY 2021 VARD CONFIRMS ITS LEADERSHIP IN THE SPECIALIZED VESSELS SEGMENT\n",
      "\n",
      "Fincantieri https://www.fincantieri.com/en/media/press-releases/2021/vard-confirms-its-leadership-in-the-specialized-vessels-segment/\n",
      "\n",
      "Trieste, February 18, 2021 Vard, one of the major global shipbuilders of specialized vessels, will design a cable repair vessel for the French company Orange Marine, leader in undersea telecommunications, which has selected the Fincantieri subsidiary project. The vessel will be built at the Colombo Dockyard, Sri Lanka's largest shipbuildng group, based on the Vard 9 03 design. The references provided by the two companies were key to the acquisition of the order. Thus, the Vard Brattvaag shipyard has already delivered in 2014 the offshore support vessel Pierre de Fermat to Orange Marine, based on the 9 01 design, a state-of-the-art unit in terms of environmental sustainability and equipment. On the other hand, in 2019 Colombo has built the cable-laying vessel KDDI Cable Infinity for the Japanese company Kokusai Cable Ship, also based on the same Vard platform. The 9 03 design for Orange Marine has been specially designed for the maintenance of submarine cables, both fibre-optic telecommunication cables and power cables used in offshore windfarms. Vard has developed the vessel design according to the clients operating requirements with special attention to the vessel hull design in terms of good sea-keeping capabilities, maneuverability, and low fuel consumption. Vard is continuously expanding its portfolio for power and telecom cable laying and repair vessels, developing in-house competence and experience within this segment, working with significant companies in the industry, and positioning itself as one of the most experienced ship designers of such kind of vessels. Currently, the company has two cable laying vessels under construction, the 9 04 project for Prysmian, and the one related to the recently signed contract for Van Oord.\n"
     ]
    }
   ],
   "source": [
    "def see_data(iloc_no=random.randint(0,len(temp_df))-1):\n",
    "    print(temp_df.iloc[iloc_no]['date'],temp_df.iloc[iloc_no]['title'])\n",
    "    print(f\"\\n{temp_df.iloc[iloc_no]['author']} {temp_df.iloc[iloc_no]['url']}\")\n",
    "#     urllib.request.urlretrieve(temp_df.iloc[iloc_no]['thumbnail'], \"temp.jpg\")\n",
    "#     display(Image.open(\"temp.jpg\"))\n",
    "    print(f\"\\n{temp_df.iloc[iloc_no]['article']}\")\n",
    "\n",
    "see_data()"
   ]
  },
  {
   "cell_type": "code",
   "execution_count": 8,
   "id": "6faaba96",
   "metadata": {
    "ExecuteTime": {
     "end_time": "2022-06-24T12:16:10.751999Z",
     "start_time": "2022-06-24T12:16:10.695193Z"
    },
    "code_folding": [
     0
    ]
   },
   "outputs": [],
   "source": [
    "#to csv\n",
    "temp_df.to_csv(f'{SITE_NAME} news.csv',index = False)\n",
    "\n",
    "#to json\n",
    "temp_df.to_json(f'{SITE_NAME} news.json')"
   ]
  },
  {
   "cell_type": "code",
   "execution_count": 9,
   "id": "b5c8e2e8",
   "metadata": {
    "ExecuteTime": {
     "end_time": "2022-06-24T12:16:10.766959Z",
     "start_time": "2022-06-24T12:16:10.754992Z"
    },
    "code_folding": [
     0
    ]
   },
   "outputs": [
    {
     "name": "stdout",
     "output_type": "stream",
     "text": [
      "No trash found\n"
     ]
    }
   ],
   "source": [
    "#to get rid of unwanteed trash created by the model use \n",
    "def remove_trash():\n",
    "    try:\n",
    "        try:\n",
    "            os.remove(\"temp.pdf\")\n",
    "        except:\n",
    "            pass\n",
    "        os.remove(\"temp.jpg\")\n",
    "        print(\"Trash removed successfully\")\n",
    "    except:\n",
    "        print(\"No trash found\")\n",
    "\n",
    "remove_trash()"
   ]
  },
  {
   "cell_type": "code",
   "execution_count": 10,
   "id": "401f3f16",
   "metadata": {
    "ExecuteTime": {
     "end_time": "2022-06-24T12:16:11.698382Z",
     "start_time": "2022-06-24T12:16:10.769959Z"
    }
   },
   "outputs": [],
   "source": [
    "driver.quit()"
   ]
  }
 ],
 "metadata": {
  "kernelspec": {
   "display_name": "Python 3 (ipykernel)",
   "language": "python",
   "name": "python3"
  },
  "language_info": {
   "codemirror_mode": {
    "name": "ipython",
    "version": 3
   },
   "file_extension": ".py",
   "mimetype": "text/x-python",
   "name": "python",
   "nbconvert_exporter": "python",
   "pygments_lexer": "ipython3",
   "version": "3.9.7"
  },
  "toc": {
   "base_numbering": 1,
   "nav_menu": {},
   "number_sections": true,
   "sideBar": true,
   "skip_h1_title": false,
   "title_cell": "Table of Contents",
   "title_sidebar": "Contents",
   "toc_cell": false,
   "toc_position": {},
   "toc_section_display": true,
   "toc_window_display": false
  }
 },
 "nbformat": 4,
 "nbformat_minor": 5
}
