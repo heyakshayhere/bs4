{
 "cells": [
  {
   "cell_type": "markdown",
   "id": "0005bedf",
   "metadata": {},
   "source": [
    "url :\n",
    "\n",
    "https://www.naval-group.com/en/documents"
   ]
  },
  {
   "cell_type": "code",
   "execution_count": 1,
   "id": "7d7dd5d8",
   "metadata": {
    "ExecuteTime": {
     "end_time": "2022-06-12T07:06:16.474575Z",
     "start_time": "2022-06-12T07:06:08.920818Z"
    }
   },
   "outputs": [
    {
     "data": {
      "application/javascript": [
       "IPython.notebook.set_autosave_interval(1000)"
      ]
     },
     "metadata": {},
     "output_type": "display_data"
    },
    {
     "name": "stdout",
     "output_type": "stream",
     "text": [
      "Autosaving every 1 seconds\n"
     ]
    }
   ],
   "source": [
    "import os \n",
    "os.environ['KMP_DUPLICATE_LIB_OK']='True'\n",
    "\n",
    "import pandas as pd,requests,bs4,re,time,io,pytesseract,easyocr,random,textstat,urllib.request\n",
    "from pdfminer.high_level import extract_text\n",
    "from PIL import Image\n",
    "from pathlib import Path\n",
    "from pdf2image import convert_from_path\n",
    "from selenium.webdriver.common.by import By\n",
    "from goose3 import Goose\n",
    "from datetime import datetime\n",
    "from bs4 import BeautifulSoup\n",
    "from selenium import webdriver\n",
    "\n",
    "reader = easyocr.Reader(['en'])\n",
    "\n",
    "import warnings\n",
    "warnings.filterwarnings(\"ignore\")\n",
    "\n",
    "%autosave 1"
   ]
  },
  {
   "cell_type": "code",
   "execution_count": 2,
   "id": "ad685129",
   "metadata": {
    "ExecuteTime": {
     "end_time": "2022-06-12T07:06:19.514694Z",
     "start_time": "2022-06-12T07:06:16.476572Z"
    }
   },
   "outputs": [
    {
     "name": "stderr",
     "output_type": "stream",
     "text": [
      "\n",
      "\n",
      "====== WebDriver manager ======\n",
      "Current google-chrome version is 102.0.5005\n",
      "Get LATEST chromedriver version for 102.0.5005 google-chrome\n",
      "Driver [C:\\Users\\AKSHAY SATPUTE\\.wdm\\drivers\\chromedriver\\win32\\102.0.5005.61\\chromedriver.exe] found in cache\n"
     ]
    }
   ],
   "source": [
    "#driver for operation\n",
    "from webdriver_manager.chrome import ChromeDriverManager\n",
    "option = webdriver.ChromeOptions()\n",
    "option.add_argument('headless')\n",
    "driver = webdriver.Chrome(ChromeDriverManager().install(),options=option)"
   ]
  },
  {
   "cell_type": "code",
   "execution_count": 3,
   "id": "14864903",
   "metadata": {
    "ExecuteTime": {
     "end_time": "2022-06-12T07:06:19.529648Z",
     "start_time": "2022-06-12T07:06:19.516691Z"
    }
   },
   "outputs": [],
   "source": [
    "SITE_NAME='naval-group'\n",
    "\n",
    "DOMAIN = \"https://www.naval-group.com\"\n",
    "\n",
    "SITE_LINK=\"https://www.naval-group.com/en/documents\""
   ]
  },
  {
   "cell_type": "code",
   "execution_count": 4,
   "id": "6703395d",
   "metadata": {
    "ExecuteTime": {
     "end_time": "2022-06-12T07:06:19.544493Z",
     "start_time": "2022-06-12T07:06:19.531643Z"
    }
   },
   "outputs": [],
   "source": [
    "def parse_webpage_bs(search_url):\n",
    "    \n",
    "    headers = {\n",
    "        \"User-Agent\": \"Mozilla/5.0 (Windows NT 10.0; Win64; x64; rv:90.0) Gecko/20100101 Firefox/90.0\"}\n",
    "    try:\n",
    "        site_request = requests.get(search_url, headers=headers, timeout=10)\n",
    "    except requests.exceptions.RequestException as e:\n",
    "        print(e)\n",
    "        site_request = None\n",
    "    if site_request != None and site_request.status_code==200:\n",
    "        site_soup = bs4.BeautifulSoup(site_request.content, \"lxml\")\n",
    "    else:\n",
    "        site_soup = None\n",
    "    return site_soup\n",
    "\n",
    "def remove_esc_chars(text):\n",
    "    return text.replace(\"\\n\", \" \").replace(\"\\t\", \" \").replace(\"\\r\", \" \")\n",
    "\n",
    "def get_text(link): \n",
    "    g = Goose()\n",
    "    article_extract = g.extract(url=link)\n",
    "    article = remove_esc_chars(article_extract.cleaned_text)\n",
    "    meta_data = remove_esc_chars(article_extract.meta_description)\n",
    "    whole_data = meta_data+article\n",
    "    text = whole_data.strip()\n",
    "\n",
    "    if textstat.lexicon_count(text, removepunct=True) < 5:\n",
    "        try:\n",
    "            response = requests.get(link)\n",
    "            text = remove_esc_chars(extract_text(io.BytesIO(response.content)))\n",
    "\n",
    "            if textstat.lexicon_count(text, removepunct=True) < 5:\n",
    "                texts = \"\"\n",
    "                r = requests.get(link)\n",
    "                filename = Path('temp.pdf')\n",
    "                filename.write_bytes(r.content)\n",
    "\n",
    "                pages = convert_from_path('temp.pdf', 500)\n",
    "                for x in pages:\n",
    "                    x.save(\"temp.jpg\")\n",
    "                    output = reader.readtext(\"temp.jpg\")\n",
    "                    for o in output:\n",
    "                        texts += o[1]\n",
    "\n",
    "                text = remove_esc_chars(texts)\n",
    "\n",
    "                if textstat.lexicon_count(text, removepunct=True) < 5:\n",
    "                    texts = \"\"\n",
    "                    soup = parse_webpage_bs(link)\n",
    "                    if soup!= None:\n",
    "                        ps = soup.findAll('p')\n",
    "                        for p in ps:\n",
    "                            texts+= p.text\n",
    "\n",
    "                    text = remove_esc_chars(texts)\n",
    "        except:\n",
    "            text = \"\"\n",
    "    \n",
    "    return text"
   ]
  },
  {
   "cell_type": "code",
   "execution_count": 5,
   "id": "544875bf",
   "metadata": {
    "ExecuteTime": {
     "end_time": "2022-06-12T07:08:15.158945Z",
     "start_time": "2022-06-12T07:06:19.546423Z"
    },
    "scrolled": true
   },
   "outputs": [
    {
     "name": "stdout",
     "output_type": "stream",
     "text": [
      "09 JUNE 2022 Corporate social responsibility report 2021\n",
      "20 MAY 2022 Suppliers - purchasing - quality requirements and forms\n",
      "17 MAY 2022 Yearbook 2021\n",
      "01 SEPTEMBER 2020 Compliance code of conduct (spanish)\n",
      "01 SEPTEMBER 2020 Compliance code of conduct (arabic)\n",
      "01 SEPTEMBER 2020 Compliance programme key procedures\n"
     ]
    }
   ],
   "source": [
    "article_list = []\n",
    "\n",
    "pagination = 0\n",
    "last_page = 0\n",
    "\n",
    "while pagination <= last_page:\n",
    "    url = f\"https://www.naval-group.com/en/documents?page={pagination}\"\n",
    "    driver.get(url)\n",
    "    #accepting cookies\n",
    "    try:\n",
    "        driver.find_element(By.XPATH,'''//*[@id=\"orejime\"]/div[1]/div/div/div/ul/li[1]/button''').click()\n",
    "    except:\n",
    "        pass\n",
    "\n",
    "    #getting last page count\n",
    "    if last_page <= 1:\n",
    "        lp = driver.find_element(By.XPATH,'''//*[@id=\"block-mainpagecontent\"]/div[2]/div/nav/ul/li[2]''').text.split(\"\\n\")[1]\n",
    "        last_page_count = int(lp.strip())\n",
    "        last_page = last_page_count - 1\n",
    "\n",
    "    elements = driver.find_elements(By.XPATH,'''//li[@role=\"article\"]''')\n",
    "    \n",
    "    #creating empty lists to append data \n",
    "    published_dates,titles,texts,links,thumbnails,authors = [],[],[],[],[],[]\n",
    "    \n",
    "    #links,thumbnails,authors\n",
    "    for e in range(1,len(elements)):\n",
    "        thumbnail = \"https://upload.wikimedia.org/wikipedia/commons/8/8a/Naval_Group_Logo.png\"\n",
    "        thumbnails.append(thumbnail)\n",
    "        link = driver.find_element(By.XPATH,f'''/html/body/div[2]/div/main/div[2]/div[2]/div[2]/div/ul/li[{e}]/div/div[2]/a''').get_attribute(\"href\")\n",
    "        links.append(link)\n",
    "        authors.append(SITE_NAME)\n",
    "\n",
    "    #published_dates,titles,texts\n",
    "    for link in links[:3]:\n",
    "        driver.get(link)\n",
    "        published_date =  driver.find_element(By.XPATH,f'''//*[@id=\"block-headerblock\"]/div/div[3]/p/span[1]''').text.strip()\n",
    "        published_dates.append(published_date)\n",
    "        title = driver.find_element(By.XPATH,f'''//*[@id=\"block-headerblock\"]/div/div[1]/h1''').text.strip()\n",
    "        titles.append(title)\n",
    "        doc_link = driver.find_element(By.XPATH,f'''//*[@id=\"block-socialsharedocumentblock\"]/div/div[2]/p/a''').get_attribute(\"href\")\n",
    "        text = get_text(doc_link)\n",
    "        if textstat.lexicon_count(text, removepunct=True) < 5: \n",
    "            soup = parse_webpage_bs(link)\n",
    "            ps = soup.find('div',{'id' :'block-mainpagecontent'}).text.strip()\n",
    "            text = remove_esc_chars(ps).strip()\n",
    "        texts.append(text)\n",
    "        print(published_date,title)\n",
    "        \n",
    "    #zippig all the data togather \n",
    "    zipped = list(zip(published_dates,titles,texts,links,thumbnails,authors))\n",
    "\n",
    "    #unwinding and appending to the main list\n",
    "    for published_date,title,text,link,thumbnail,author in zipped:\n",
    "        article = (published_date.strip(),title.strip(),text.strip(),link.strip(),thumbnail.strip(),author.strip())\n",
    "        article_list.append(article)\n",
    "        \n",
    "    pagination +=1"
   ]
  },
  {
   "cell_type": "code",
   "execution_count": 6,
   "id": "e2729b35",
   "metadata": {
    "ExecuteTime": {
     "end_time": "2022-06-12T07:08:15.190801Z",
     "start_time": "2022-06-12T07:08:15.160882Z"
    }
   },
   "outputs": [
    {
     "data": {
      "text/html": [
       "<div>\n",
       "<style scoped>\n",
       "    .dataframe tbody tr th:only-of-type {\n",
       "        vertical-align: middle;\n",
       "    }\n",
       "\n",
       "    .dataframe tbody tr th {\n",
       "        vertical-align: top;\n",
       "    }\n",
       "\n",
       "    .dataframe thead th {\n",
       "        text-align: right;\n",
       "    }\n",
       "</style>\n",
       "<table border=\"1\" class=\"dataframe\">\n",
       "  <thead>\n",
       "    <tr style=\"text-align: right;\">\n",
       "      <th></th>\n",
       "      <th>date</th>\n",
       "      <th>title</th>\n",
       "      <th>article</th>\n",
       "      <th>url</th>\n",
       "      <th>thumbnail</th>\n",
       "      <th>author</th>\n",
       "    </tr>\n",
       "  </thead>\n",
       "  <tbody>\n",
       "    <tr>\n",
       "      <th>0</th>\n",
       "      <td>09 JUNE 2022</td>\n",
       "      <td>Corporate social responsibility report 2021</td>\n",
       "      <td>CORPORATE   SOCIAL   RESPONSIBILITY  REPORT   ...</td>\n",
       "      <td>https://www.naval-group.com/en/corporate-socia...</td>\n",
       "      <td>https://upload.wikimedia.org/wikipedia/commons...</td>\n",
       "      <td>naval-group</td>\n",
       "    </tr>\n",
       "    <tr>\n",
       "      <th>1</th>\n",
       "      <td>20 MAY 2022</td>\n",
       "      <td>Suppliers - purchasing - quality requirements ...</td>\n",
       "      <td>File containing general purchasing conditions,...</td>\n",
       "      <td>https://www.naval-group.com/en/suppliers-purch...</td>\n",
       "      <td>https://upload.wikimedia.org/wikipedia/commons...</td>\n",
       "      <td>naval-group</td>\n",
       "    </tr>\n",
       "    <tr>\n",
       "      <th>2</th>\n",
       "      <td>17 MAY 2022</td>\n",
       "      <td>Yearbook 2021</td>\n",
       "      <td>3  NAVAL  YEAR  BOOK  2021  GROUP  \f",
       "CONTENTS  ...</td>\n",
       "      <td>https://www.naval-group.com/en/yearbook-2021</td>\n",
       "      <td>https://upload.wikimedia.org/wikipedia/commons...</td>\n",
       "      <td>naval-group</td>\n",
       "    </tr>\n",
       "    <tr>\n",
       "      <th>3</th>\n",
       "      <td>01 SEPTEMBER 2020</td>\n",
       "      <td>Compliance code of conduct (spanish)</td>\n",
       "      <td>CÓDIGO DE CONDUTA  COMPLIANCE   DIREÇÃO ÉTICA,...</td>\n",
       "      <td>https://www.naval-group.com/en/compliance-code...</td>\n",
       "      <td>https://upload.wikimedia.org/wikipedia/commons...</td>\n",
       "      <td>naval-group</td>\n",
       "    </tr>\n",
       "    <tr>\n",
       "      <th>4</th>\n",
       "      <td>01 SEPTEMBER 2020</td>\n",
       "      <td>Compliance code of conduct (arabic)</td>\n",
       "      <td>يقلاخلأا كولسلا   طباوض  قاثيم  ةديشرلا  ةرادل...</td>\n",
       "      <td>https://www.naval-group.com/en/compliance-code...</td>\n",
       "      <td>https://upload.wikimedia.org/wikipedia/commons...</td>\n",
       "      <td>naval-group</td>\n",
       "    </tr>\n",
       "  </tbody>\n",
       "</table>\n",
       "</div>"
      ],
      "text/plain": [
       "                date                                              title  \\\n",
       "0       09 JUNE 2022        Corporate social responsibility report 2021   \n",
       "1        20 MAY 2022  Suppliers - purchasing - quality requirements ...   \n",
       "2        17 MAY 2022                                      Yearbook 2021   \n",
       "3  01 SEPTEMBER 2020               Compliance code of conduct (spanish)   \n",
       "4  01 SEPTEMBER 2020                Compliance code of conduct (arabic)   \n",
       "\n",
       "                                             article  \\\n",
       "0  CORPORATE   SOCIAL   RESPONSIBILITY  REPORT   ...   \n",
       "1  File containing general purchasing conditions,...   \n",
       "2  3  NAVAL  YEAR  BOOK  2021  GROUP  \n",
       "CONTENTS  ...   \n",
       "3  CÓDIGO DE CONDUTA  COMPLIANCE   DIREÇÃO ÉTICA,...   \n",
       "4  يقلاخلأا كولسلا   طباوض  قاثيم  ةديشرلا  ةرادل...   \n",
       "\n",
       "                                                 url  \\\n",
       "0  https://www.naval-group.com/en/corporate-socia...   \n",
       "1  https://www.naval-group.com/en/suppliers-purch...   \n",
       "2       https://www.naval-group.com/en/yearbook-2021   \n",
       "3  https://www.naval-group.com/en/compliance-code...   \n",
       "4  https://www.naval-group.com/en/compliance-code...   \n",
       "\n",
       "                                           thumbnail       author  \n",
       "0  https://upload.wikimedia.org/wikipedia/commons...  naval-group  \n",
       "1  https://upload.wikimedia.org/wikipedia/commons...  naval-group  \n",
       "2  https://upload.wikimedia.org/wikipedia/commons...  naval-group  \n",
       "3  https://upload.wikimedia.org/wikipedia/commons...  naval-group  \n",
       "4  https://upload.wikimedia.org/wikipedia/commons...  naval-group  "
      ]
     },
     "execution_count": 6,
     "metadata": {},
     "output_type": "execute_result"
    }
   ],
   "source": [
    "temp_df = pd.DataFrame(article_list,columns=['date','title','article','url','thumbnail','author'])\n",
    "temp_df.head()"
   ]
  },
  {
   "cell_type": "code",
   "execution_count": 7,
   "id": "ecc88925",
   "metadata": {
    "ExecuteTime": {
     "end_time": "2022-06-12T07:08:15.424981Z",
     "start_time": "2022-06-12T07:08:15.193794Z"
    }
   },
   "outputs": [
    {
     "name": "stdout",
     "output_type": "stream",
     "text": [
      "20 MAY 2022 Suppliers - purchasing - quality requirements and forms\n",
      "\n",
      "naval-group https://www.naval-group.com/en/suppliers-purchasing-quality-requirements-and-forms\n"
     ]
    },
    {
     "data": {
      "image/png": "[encoded data removed]",
      "text/plain": [
       "<PIL.PngImagePlugin.PngImageFile image mode=RGBA size=196x56 at 0x220A3C41250>"
      ]
     },
     "metadata": {},
     "output_type": "display_data"
    },
    {
     "name": "stdout",
     "output_type": "stream",
     "text": [
      "\n",
      "File containing general purchasing conditions, quality requirements applicable to suppliers and forms to be used by suppliers.\n"
     ]
    }
   ],
   "source": [
    "def see_data(iloc_no=random.randint(0,len(temp_df))-1):\n",
    "    print(temp_df.iloc[iloc_no]['date'],temp_df.iloc[iloc_no]['title'])\n",
    "    print(f\"\\n{temp_df.iloc[iloc_no]['author']} {temp_df.iloc[iloc_no]['url']}\")\n",
    "    urllib.request.urlretrieve(temp_df.iloc[iloc_no]['thumbnail'], \"temp.jpg\")\n",
    "    display(Image.open(\"temp.jpg\"))\n",
    "    print(f\"\\n{temp_df.iloc[iloc_no]['article']}\")\n",
    "\n",
    "see_data()"
   ]
  },
  {
   "cell_type": "code",
   "execution_count": 8,
   "id": "2551f935",
   "metadata": {
    "ExecuteTime": {
     "end_time": "2022-06-12T07:08:15.518079Z",
     "start_time": "2022-06-12T07:08:15.425944Z"
    }
   },
   "outputs": [],
   "source": [
    "#to csv\n",
    "temp_df.to_csv(f'{SITE_NAME} news.csv',index = False)\n",
    "\n",
    "#to json\n",
    "temp_df.to_json(f'{SITE_NAME} news.json')"
   ]
  },
  {
   "cell_type": "code",
   "execution_count": 9,
   "id": "a1a27b81",
   "metadata": {
    "ExecuteTime": {
     "end_time": "2022-06-12T07:08:15.533603Z",
     "start_time": "2022-06-12T07:08:15.520606Z"
    }
   },
   "outputs": [
    {
     "name": "stdout",
     "output_type": "stream",
     "text": [
      "Trash removed successfully\n"
     ]
    }
   ],
   "source": [
    "#to get rid of unwanteed trash created by the model use \n",
    "def remove_trash():\n",
    "    try:\n",
    "        try:\n",
    "            os.remove(\"temp.pdf\")\n",
    "        except:\n",
    "            pass\n",
    "        os.remove(\"temp.jpg\")\n",
    "        print(\"Trash removed successfully\")\n",
    "    except:\n",
    "        print(\"No trash found\")\n",
    "\n",
    "remove_trash()"
   ]
  }
 ],
 "metadata": {
  "kernelspec": {
   "display_name": "Python 3 (ipykernel)",
   "language": "python",
   "name": "python3"
  },
  "language_info": {
   "codemirror_mode": {
    "name": "ipython",
    "version": 3
   },
   "file_extension": ".py",
   "mimetype": "text/x-python",
   "name": "python",
   "nbconvert_exporter": "python",
   "pygments_lexer": "ipython3",
   "version": "3.9.7"
  },
  "toc": {
   "base_numbering": 1,
   "nav_menu": {},
   "number_sections": true,
   "sideBar": true,
   "skip_h1_title": false,
   "title_cell": "Table of Contents",
   "title_sidebar": "Contents",
   "toc_cell": false,
   "toc_position": {},
   "toc_section_display": true,
   "toc_window_display": false
  }
 },
 "nbformat": 4,
 "nbformat_minor": 5
}
