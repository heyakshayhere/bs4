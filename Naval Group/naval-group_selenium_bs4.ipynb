{
 "cells": [
  {
   "cell_type": "markdown",
   "id": "0005bedf",
   "metadata": {},
   "source": [
    "url :\n",
    "\n",
    "https://www.naval-group.com/en/documents"
   ]
  },
  {
   "cell_type": "code",
   "execution_count": 1,
   "id": "7d7dd5d8",
   "metadata": {
    "ExecuteTime": {
     "end_time": "2022-06-12T13:48:26.328903Z",
     "start_time": "2022-06-12T13:46:54.687565Z"
    }
   },
   "outputs": [
    {
     "data": {
      "application/javascript": [
       "IPython.notebook.set_autosave_interval(1000)"
      ]
     },
     "metadata": {},
     "output_type": "display_data"
    },
    {
     "name": "stdout",
     "output_type": "stream",
     "text": [
      "Autosaving every 1 seconds\n"
     ]
    }
   ],
   "source": [
    "import os \n",
    "os.environ['KMP_DUPLICATE_LIB_OK']='True'\n",
    "\n",
    "import pandas as pd,requests,bs4,re,time,io,pytesseract,easyocr,random,textstat,urllib.request\n",
    "from pdfminer.high_level import extract_text\n",
    "from PIL import Image\n",
    "from pathlib import Path\n",
    "from pdf2image import convert_from_path\n",
    "from selenium.webdriver.common.by import By\n",
    "from goose3 import Goose\n",
    "from datetime import datetime\n",
    "from bs4 import BeautifulSoup\n",
    "from selenium import webdriver\n",
    "\n",
    "reader = easyocr.Reader(['en'])\n",
    "\n",
    "import warnings\n",
    "warnings.filterwarnings(\"ignore\")\n",
    "\n",
    "%autosave 1"
   ]
  },
  {
   "cell_type": "code",
   "execution_count": 2,
   "id": "ad685129",
   "metadata": {
    "ExecuteTime": {
     "end_time": "2022-06-12T13:48:31.571906Z",
     "start_time": "2022-06-12T13:48:26.330873Z"
    }
   },
   "outputs": [
    {
     "name": "stderr",
     "output_type": "stream",
     "text": [
      "\n",
      "\n",
      "====== WebDriver manager ======\n",
      "Current google-chrome version is 102.0.5005\n",
      "Get LATEST chromedriver version for 102.0.5005 google-chrome\n",
      "Driver [C:\\Users\\AKSHAY SATPUTE\\.wdm\\drivers\\chromedriver\\win32\\102.0.5005.61\\chromedriver.exe] found in cache\n"
     ]
    }
   ],
   "source": [
    "#driver for operation\n",
    "from webdriver_manager.chrome import ChromeDriverManager\n",
    "option = webdriver.ChromeOptions()\n",
    "option.add_argument('headless')\n",
    "driver = webdriver.Chrome(ChromeDriverManager().install(),options=option)"
   ]
  },
  {
   "cell_type": "code",
   "execution_count": 3,
   "id": "14864903",
   "metadata": {
    "ExecuteTime": {
     "end_time": "2022-06-12T13:48:31.587839Z",
     "start_time": "2022-06-12T13:48:31.573865Z"
    }
   },
   "outputs": [],
   "source": [
    "SITE_NAME='Naval-group'\n",
    "\n",
    "DOMAIN = \"https://www.naval-group.com\"\n",
    "\n",
    "SITE_LINK=\"https://www.naval-group.com/en/documents\""
   ]
  },
  {
   "cell_type": "code",
   "execution_count": 4,
   "id": "6703395d",
   "metadata": {
    "ExecuteTime": {
     "end_time": "2022-06-12T13:48:31.619115Z",
     "start_time": "2022-06-12T13:48:31.589823Z"
    }
   },
   "outputs": [],
   "source": [
    "def parse_webpage_bs(search_url):\n",
    "    \n",
    "    headers = {\n",
    "        \"User-Agent\": \"Mozilla/5.0 (Windows NT 10.0; Win64; x64; rv:90.0) Gecko/20100101 Firefox/90.0\"}\n",
    "    try:\n",
    "        site_request = requests.get(search_url, headers=headers, timeout=10)\n",
    "    except requests.exceptions.RequestException as e:\n",
    "        print(e)\n",
    "        site_request = None\n",
    "    if site_request != None and site_request.status_code==200:\n",
    "        site_soup = bs4.BeautifulSoup(site_request.content, \"lxml\")\n",
    "    else:\n",
    "        site_soup = None\n",
    "    return site_soup\n",
    "\n",
    "def remove_esc_chars(text):\n",
    "    return text.replace(\"\\n\", \" \").replace(\"\\t\", \" \").replace(\"\\r\", \" \")\n",
    "\n",
    "def get_text(link): \n",
    "    g = Goose()\n",
    "    article_extract = g.extract(url=link)\n",
    "    article = remove_esc_chars(article_extract.cleaned_text)\n",
    "    meta_data = remove_esc_chars(article_extract.meta_description)\n",
    "    whole_data = meta_data+article\n",
    "    text = whole_data.strip()\n",
    "\n",
    "    if textstat.lexicon_count(text, removepunct=True) < 5:\n",
    "        try:\n",
    "            response = requests.get(link)\n",
    "            text = remove_esc_chars(extract_text(io.BytesIO(response.content)))\n",
    "\n",
    "            if textstat.lexicon_count(text, removepunct=True) < 5:\n",
    "                texts = \"\"\n",
    "                r = requests.get(link)\n",
    "                filename = Path('temp.pdf')\n",
    "                filename.write_bytes(r.content)\n",
    "\n",
    "                pages = convert_from_path('temp.pdf', 500)\n",
    "                for x in pages:\n",
    "                    x.save(\"temp.jpg\")\n",
    "                    output = reader.readtext(\"temp.jpg\")\n",
    "                    for o in output:\n",
    "                        texts += o[1]\n",
    "\n",
    "                text = remove_esc_chars(texts)\n",
    "\n",
    "                if textstat.lexicon_count(text, removepunct=True) < 5:\n",
    "                    texts = \"\"\n",
    "                    soup = parse_webpage_bs(link)\n",
    "                    if soup!= None:\n",
    "                        ps = soup.findAll('p')\n",
    "                        for p in ps:\n",
    "                            texts+= p.text\n",
    "\n",
    "                    text = remove_esc_chars(texts)\n",
    "        except:\n",
    "            text = \"\"\n",
    "    \n",
    "    return text"
   ]
  },
  {
   "cell_type": "code",
   "execution_count": 5,
   "id": "544875bf",
   "metadata": {
    "ExecuteTime": {
     "end_time": "2022-06-12T13:50:51.201901Z",
     "start_time": "2022-06-12T13:48:31.622078Z"
    },
    "scrolled": true
   },
   "outputs": [
    {
     "name": "stdout",
     "output_type": "stream",
     "text": [
      "09 JUNE 2022 Corporate social responsibility report 2021\n",
      "20 MAY 2022 Suppliers - purchasing - quality requirements and forms\n",
      "17 MAY 2022 Yearbook 2021\n",
      "01 SEPTEMBER 2020 Compliance code of conduct (spanish)\n",
      "01 SEPTEMBER 2020 Compliance code of conduct (arabic)\n",
      "01 SEPTEMBER 2020 Compliance programme key procedures\n"
     ]
    }
   ],
   "source": [
    "article_list = []\n",
    "\n",
    "pagination = 0\n",
    "last_page = 0\n",
    "\n",
    "while pagination <= last_page:\n",
    "    url = f\"https://www.naval-group.com/en/documents?page={pagination}\"\n",
    "    driver.get(url)\n",
    "    \n",
    "    #accepting cookies\n",
    "    try:\n",
    "        driver.find_element(By.XPATH,'''//*[@id=\"orejime\"]/div[1]/div/div/div/ul/li[1]/button''').click()\n",
    "    except:\n",
    "        pass\n",
    "\n",
    "    #getting last page count\n",
    "    if last_page <= 1:\n",
    "        lp = driver.find_element(By.XPATH,'''//*[@id=\"block-mainpagecontent\"]/div[2]/div/nav/ul/li[2]''').text.split(\"\\n\")[1]\n",
    "        last_page_count = int(lp.strip())\n",
    "        last_page = last_page_count - 1\n",
    "\n",
    "    elements = driver.find_elements(By.XPATH,'''//li[@role=\"article\"]''')\n",
    "    \n",
    "    #creating empty lists to append data \n",
    "    published_dates,titles,texts,links,thumbnails,authors = [],[],[],[],[],[]\n",
    "    \n",
    "    #links,thumbnails,authors\n",
    "    for e in range(1,len(elements)):\n",
    "        thumbnail = \"https://upload.wikimedia.org/wikipedia/commons/8/8a/Naval_Group_Logo.png\"\n",
    "        thumbnails.append(thumbnail)\n",
    "        link = driver.find_element(By.XPATH,f'''/html/body/div[2]/div/main/div[2]/div[2]/div[2]/div/ul/li[{e}]/div/div[2]/a''').get_attribute(\"href\")\n",
    "        links.append(link)\n",
    "        authors.append(SITE_NAME)\n",
    "\n",
    "    #published_dates,titles,texts\n",
    "    for link in links[:3]:\n",
    "        driver.get(link)\n",
    "        published_date =  driver.find_element(By.XPATH,'''//*[@id=\"block-headerblock\"]/div/div[3]/p/span[1]''').text.strip()\n",
    "        published_dates.append(published_date)\n",
    "        title = driver.find_element(By.XPATH,'''//*[@id=\"block-headerblock\"]/div/div[1]/h1''').text.strip()\n",
    "        titles.append(title)\n",
    "        doc_link = driver.find_element(By.XPATH,'''//*[@id=\"block-socialsharedocumentblock\"]/div/div[2]/p/a''').get_attribute(\"href\")\n",
    "        text = get_text(doc_link)\n",
    "        if textstat.lexicon_count(text, removepunct=True) < 5: \n",
    "            soup = parse_webpage_bs(link)\n",
    "            ps = soup.find('div',{'id' :'block-mainpagecontent'}).text.strip()\n",
    "            text = remove_esc_chars(ps).strip()\n",
    "        texts.append(text)\n",
    "        print(published_date,title)\n",
    "        \n",
    "    #zippig all the data togather \n",
    "    zipped = list(zip(published_dates,titles,texts,links,thumbnails,authors))\n",
    "\n",
    "    #unwinding and appending to the main list\n",
    "    for published_date,title,text,link,thumbnail,author in zipped:\n",
    "        article = (published_date.strip(),title.strip(),text.strip(),link.strip(),thumbnail.strip(),author.strip())\n",
    "        article_list.append(article)\n",
    "        \n",
    "    pagination +=1"
   ]
  },
  {
   "cell_type": "code",
   "execution_count": 6,
   "id": "e2729b35",
   "metadata": {
    "ExecuteTime": {
     "end_time": "2022-06-12T13:50:51.495551Z",
     "start_time": "2022-06-12T13:50:51.203939Z"
    }
   },
   "outputs": [
    {
     "data": {
      "text/html": [
       "<div>\n",
       "<style scoped>\n",
       "    .dataframe tbody tr th:only-of-type {\n",
       "        vertical-align: middle;\n",
       "    }\n",
       "\n",
       "    .dataframe tbody tr th {\n",
       "        vertical-align: top;\n",
       "    }\n",
       "\n",
       "    .dataframe thead th {\n",
       "        text-align: right;\n",
       "    }\n",
       "</style>\n",
       "<table border=\"1\" class=\"dataframe\">\n",
       "  <thead>\n",
       "    <tr style=\"text-align: right;\">\n",
       "      <th></th>\n",
       "      <th>date</th>\n",
       "      <th>title</th>\n",
       "      <th>article</th>\n",
       "      <th>url</th>\n",
       "      <th>thumbnail</th>\n",
       "      <th>author</th>\n",
       "    </tr>\n",
       "  </thead>\n",
       "  <tbody>\n",
       "    <tr>\n",
       "      <th>0</th>\n",
       "      <td>09 JUNE 2022</td>\n",
       "      <td>Corporate social responsibility report 2021</td>\n",
       "      <td>CORPORATE   SOCIAL   RESPONSIBILITY  REPORT   ...</td>\n",
       "      <td>https://www.naval-group.com/en/corporate-socia...</td>\n",
       "      <td>https://upload.wikimedia.org/wikipedia/commons...</td>\n",
       "      <td>Naval-group</td>\n",
       "    </tr>\n",
       "    <tr>\n",
       "      <th>1</th>\n",
       "      <td>20 MAY 2022</td>\n",
       "      <td>Suppliers - purchasing - quality requirements ...</td>\n",
       "      <td>File containing general purchasing conditions,...</td>\n",
       "      <td>https://www.naval-group.com/en/suppliers-purch...</td>\n",
       "      <td>https://upload.wikimedia.org/wikipedia/commons...</td>\n",
       "      <td>Naval-group</td>\n",
       "    </tr>\n",
       "    <tr>\n",
       "      <th>2</th>\n",
       "      <td>17 MAY 2022</td>\n",
       "      <td>Yearbook 2021</td>\n",
       "      <td>3  NAVAL  YEAR  BOOK  2021  GROUP  \f",
       "CONTENTS  ...</td>\n",
       "      <td>https://www.naval-group.com/en/yearbook-2021</td>\n",
       "      <td>https://upload.wikimedia.org/wikipedia/commons...</td>\n",
       "      <td>Naval-group</td>\n",
       "    </tr>\n",
       "    <tr>\n",
       "      <th>3</th>\n",
       "      <td>01 SEPTEMBER 2020</td>\n",
       "      <td>Compliance code of conduct (spanish)</td>\n",
       "      <td>CÓDIGO DE CONDUTA  COMPLIANCE   DIREÇÃO ÉTICA,...</td>\n",
       "      <td>https://www.naval-group.com/en/compliance-code...</td>\n",
       "      <td>https://upload.wikimedia.org/wikipedia/commons...</td>\n",
       "      <td>Naval-group</td>\n",
       "    </tr>\n",
       "    <tr>\n",
       "      <th>4</th>\n",
       "      <td>01 SEPTEMBER 2020</td>\n",
       "      <td>Compliance code of conduct (arabic)</td>\n",
       "      <td>يقلاخلأا كولسلا   طباوض  قاثيم  ةديشرلا  ةرادل...</td>\n",
       "      <td>https://www.naval-group.com/en/compliance-code...</td>\n",
       "      <td>https://upload.wikimedia.org/wikipedia/commons...</td>\n",
       "      <td>Naval-group</td>\n",
       "    </tr>\n",
       "  </tbody>\n",
       "</table>\n",
       "</div>"
      ],
      "text/plain": [
       "                date                                              title  \\\n",
       "0       09 JUNE 2022        Corporate social responsibility report 2021   \n",
       "1        20 MAY 2022  Suppliers - purchasing - quality requirements ...   \n",
       "2        17 MAY 2022                                      Yearbook 2021   \n",
       "3  01 SEPTEMBER 2020               Compliance code of conduct (spanish)   \n",
       "4  01 SEPTEMBER 2020                Compliance code of conduct (arabic)   \n",
       "\n",
       "                                             article  \\\n",
       "0  CORPORATE   SOCIAL   RESPONSIBILITY  REPORT   ...   \n",
       "1  File containing general purchasing conditions,...   \n",
       "2  3  NAVAL  YEAR  BOOK  2021  GROUP  \n",
       "CONTENTS  ...   \n",
       "3  CÓDIGO DE CONDUTA  COMPLIANCE   DIREÇÃO ÉTICA,...   \n",
       "4  يقلاخلأا كولسلا   طباوض  قاثيم  ةديشرلا  ةرادل...   \n",
       "\n",
       "                                                 url  \\\n",
       "0  https://www.naval-group.com/en/corporate-socia...   \n",
       "1  https://www.naval-group.com/en/suppliers-purch...   \n",
       "2       https://www.naval-group.com/en/yearbook-2021   \n",
       "3  https://www.naval-group.com/en/compliance-code...   \n",
       "4  https://www.naval-group.com/en/compliance-code...   \n",
       "\n",
       "                                           thumbnail       author  \n",
       "0  https://upload.wikimedia.org/wikipedia/commons...  Naval-group  \n",
       "1  https://upload.wikimedia.org/wikipedia/commons...  Naval-group  \n",
       "2  https://upload.wikimedia.org/wikipedia/commons...  Naval-group  \n",
       "3  https://upload.wikimedia.org/wikipedia/commons...  Naval-group  \n",
       "4  https://upload.wikimedia.org/wikipedia/commons...  Naval-group  "
      ]
     },
     "execution_count": 6,
     "metadata": {},
     "output_type": "execute_result"
    }
   ],
   "source": [
    "temp_df = pd.DataFrame(article_list,columns=['date','title','article','url','thumbnail','author'])\n",
    "temp_df.head()"
   ]
  },
  {
   "cell_type": "code",
   "execution_count": 7,
   "id": "ecc88925",
   "metadata": {
    "ExecuteTime": {
     "end_time": "2022-06-12T13:50:51.963386Z",
     "start_time": "2022-06-12T13:50:51.496511Z"
    }
   },
   "outputs": [
    {
     "name": "stdout",
     "output_type": "stream",
     "text": [
      "01 SEPTEMBER 2020 Compliance programme key procedures\n",
      "\n",
      "Naval-group https://www.naval-group.com/en/compliance-programme-key-procedures\n"
     ]
    },
    {
     "data": {
      "image/png": "[encoded data removed]",
      "text/plain": [
       "<PIL.PngImagePlugin.PngImageFile image mode=RGBA size=196x56 at 0x11E172A26D0>"
      ]
     },
     "metadata": {},
     "output_type": "display_data"
    },
    {
     "name": "stdout",
     "output_type": "stream",
     "text": [
      "\n",
      "NON-SENSITIVE   COMPLIANCE PROGRAM   -KEY PROCEDURES-   © Property of Naval Group SA 2019 - all rights reserved.   This document/software, in both form and content, is the property of Naval Group and/or third parties. Any use, reproduction, modification, translation,  communication or representation, in whole or in part, of this document/software without the prior written consent of Naval Group is strictly prohibited. Any such  unauthorized use, reproduction, modification, translation, communication or representation, in whole or in part, by any means whatsoever, would constitute an  infringement under civil and criminal law and, more generally, an infringement of Naval Group's rights.                         \f",
      "NON-SENSITIVE   Introduction    As  part  of  its  compliance  program  designed  to  combat  corruption  and  influence  peddling, Naval Group has developed a document repository consisting of a set of  policies, codes and procedures. This repository is applicable to any employee of  Naval  Group  SA  or  any  of  its  controlled  companies,  regardless  of  their  hierarchical level, or any person (sub-contractor, consultant etc.) working at any  of Naval Group's sites in France or abroad. It includes in particular:    -  The  Compliance  code  of  conduct,  which  is  annexed  to  the  internal  regulations of each  Group entity in France. The purpose of this  Code is to  set  out  what  is  expected  of  all  employees  in  order  to  combat  corruption  and influence peddling and, more generally, any form of fraud or unethical  behaviour.   - The Suppliers code of conduct sets out the commitments expected for all  suppliers  and  sub-contractors  regarding,  ethics,  CSR  and  anticorruption  matters.     The  repository  is  applied  operationally  in  the  company's  activities  through  procedures aimed at:   1.  Carrying  out  compliance  due  diligence  in  the  framework  of  contracts  and   agreements concluded between Naval Group and third parties;   2.  Ensuring  that  gifts,  meals  and  other  hospitalities  given  and  received  by  from  or  to  external  stakeholders  are   Naval  Group’s  employees  transparent and abide by the rules defined by the Group;    3.  Defining  a  whistleblowing  hotline  aimed  at  collecting  and  processing  reports relating to behaviours contrary to the ethics and CSR repository;    4.  Defining internal measures and controls regarding the prevention of risks   of conflict of interests;   5.  Defining  the  conditions  of  application  of  a  compliance  program   in   companies in which Naval Group holds participations.   For  foreign  controlled  companies,  these  procedures  are  adapted  to  the  local  context  and  to  the  specific  risks  they  face.  Controls  intended  to  verify  the  correct  application  of  those  procedures  are  operated  by  the  three  lines  of  control  of  the  Group.  Their  results  are  archived  by  the  functions  concerned  in  order to provide feedback intended for updating the group's risk mapping.   © Property of Naval Group SA 2019 – All rights reserved   Head office: 40-42, rue du Docteur Finlay - 75015 Paris  Tel: +33 (0)1 40 59 50 00 – www.naval-group.com  Naval Group - Limited company with a capital of 563,000,000 euros  RCS Paris 441 133 808 - SIRET 441 133 808 00135 - APE 3011 Z   Compliance program-Key procedures | February 2020 |    2                   \f",
      "NON-SENSITIVE   1.  Compliance  due  diligence  regarding  contracts  or  agreements with third parties.    Naval  Group  carries  out  compliance  due  diligence  adapted  to  the  potential  corruption risks related to a business opportunity or an existing relationship  with a third party.  A compliance due diligence is updated a minima every 36  months.    The most stringent level of compliance due diligence is for example applied  to  contracts  or  agreements  with  business  advisors,  offset  partners,  M&A,  industrial  partner,  lobbyists  and  joint  ventures  projects.  Naval  Group  has  experienced  management  teams,  specialised  in  managing  relations  with  these stakeholders.   Compliance  due  diligence  for  these  projects  includes  specific  investigations  (identification  of  natural  persons  ultimate  owners,  managers,  judicial  background  etc.)  in  order  to  identify  and  treat  potential  red  flags.;  If  the  risks  identified  cannot  be  mitigated  properly,  Naval  Group  may  decide  to  stop  the  contractualisation  process  or  the  existing  business  relation  with  the third party. The Group also adds business ethics clauses in its contracts  mentioning  a  right  of  audit  and  a  termination  clause  in  order  to  ensure  compliance  with  anti-corruption  regulations  and  the  application  of  the  best  CSR standards.   Compliance due diligence is embedded in the Group procedures and decision  process, notably:   -  Assessing  and  managing  the  risk  of  corruption  and  influence  peddling  in  the  frame  of  agreements  or  contracts  concluded  between  Naval  Group  and third parties: Naval Group defines different levels of compliance due  diligence and a specific methodology in order to assess the exposure of a  business  project  to  the  risk  of  corruption  and  if  necessary,  to  prevent  them with a mitigation plan.     -  Managing  partnership,  merger  &  acquisition  and  joint  venture  projects:  Enhanced  compliance  due  diligences  are  performed  for  all  operations  relating  to  this  area.  Potential  red  flags  and  alerts  are  reported  at  the  partnership  and  M&A  committee  composed  by  members  of  the  general  management.    -  Qualifying,  managing,  evaluating  and  developing  suppliers:  For  new  suppliers,  compliance  due  diligence  is  embedded  in  the  qualification  and  prequalification  process  managed  by  procurement  organisation.  At  risk  suppliers  are  monitored  via  specific  software.  Potential  alerts  are  managed by the supplier’s risks committee.   -  Selecting and managing business advisors and industrial partners. Naval  Group  performs  enhanced  due  diligence  in  its  selection  process  for   © Property of Naval Group SA 2019 – All rights reserved   Head office: 40-42, rue du Docteur Finlay - 75015 Paris  Tel: +33 (0)1 40 59 50 00 – www.naval-group.com  Naval Group - Limited company with a capital of 563,000,000 euros  RCS Paris 441 133 808 - SIRET 441 133 808 00135 - APE 3011 Z   Compliance program-Key procedures | February 2020 |    3               \f",
      "NON-SENSITIVE   their  business  advisors  and  remuneration.  Periodic  renewal  of  compliance  due  diligence  is  also  required  every  36  months,  through  to  the  end  of  the  business  relationship.     industrial  partners,  and  oversees   -  Supervising  commercial  activities  related  to  obtaining  contracts:  Naval  Group  develops  competitive  commercial  proposals,  in  line  with  the  constraints imposed by customers and in compliance with the applicable  national  and  international  regulations.  In  particular,  it  incorporates  the  regulatory  requirements  of  the  French  Commercial  Code,  the  French  Defence  Code  and  the  “Sapin  II”  law  on  transparency,  the  fight  against  corruption and the modernisation of economic life.    -  Procedure relating to participation in associative and political life, and in  charitable,  philanthropic,  patronage  or  sponsorship  activities:  Naval  Group  requires  compliance  due  diligence  to  be  conducted  for  each  application  for  membership  of  an  association  and  for  each  charity,  philanthropy, patronage and sponsorship project carried out on behalf of  Naval  Group.  It  also  reaffirms  the  principle  of  the  Group’s  political  and  religious  neutrality  in  the  conduct  of  its  activities  and  formally  prohibits  any action that would run counter to this principle.    Procedure  relating  to  gifts,  meals,  and  other  forms  of   2.  hospitality.   This  procedure  is  intended  for  all  Group  employees  when  they  offer  or  receive a gift, meal or hospitality to or from a third party. Naval Group has  set thresholds above which it is required to declare and ask for an internal  validation to give or accept a gift, a meal or an hospitality.    Tools  such  as  the  “compliance  software”  (accessible  to  all  Naval  Group  SA  employees),  or  the  compliance  register  (for  each  of  the  Group's  controlled  companies),  are  available  in  order  to  assist  employees  in  their  mandatory  formalities.    © Property of Naval Group SA 2019 – All rights reserved   Head office: 40-42, rue du Docteur Finlay - 75015 Paris  Tel: +33 (0)1 40 59 50 00 – www.naval-group.com  Naval Group - Limited company with a capital of 563,000,000 euros  RCS Paris 441 133 808 - SIRET 441 133 808 00135 - APE 3011 Z   Compliance program-Key procedures | February 2020 |    4               \f",
      "NON-SENSITIVE   3.  Collection  and  processing  of  reports  relating  to  behaviours contrary to the Ethical and CSR standards.   In  accordance  with  the  specific  procedure  developed  by  Naval  Group,  dedicated contact persons and a whistleblowing hotline are available for any  employees  and  stakeholders  who  are  victims  of  or  witnesses  to  inappropriate behaviour, and a secure and confidential internal alert e-mail  (ethics@naval-group.com)  enabling  them  to  file  a  report  and  express  their  concerns  in  complete  confidence.  Dedicated  staffs,  properly  trained  and  qualified are tasked to conduct investigations.   Naval  Group  guarantees  that  no  employee  or  stakeholder  who  has  filed  a  report in good faith and in accordance with the procedures provided for by  the Group shall be subject to reprisals or any form of disciplinary action.   Whistleblowing line process   Report emitted by a stakeholder   Acknowledgment of recept of the  report by the CERSE   If admissible and necessary,  appointment of specific  investigators    Confidential investigation   Investigation report is sent to the  CERSE   Decision from the CERSE on the possible  actions to take   the whistleblower is informed   If required, the file is transfered to  the legal department and or the  HRD.    © Property of Naval Group SA 2019 – All rights reserved   Head office: 40-42, rue du Docteur Finlay - 75015 Paris  Tel: +33 (0)1 40 59 50 00 – www.naval-group.com  Naval Group - Limited company with a capital of 563,000,000 euros  RCS Paris 441 133 808 - SIRET 441 133 808 00135 - APE 3011 Z   Compliance program-Key procedures | February 2020 |    5                 \f",
      "NON-SENSITIVE   4.  Defining  internal  measures  and  controls  regarding  the  prevention of risks of conflict of interests.    Naval  Group  prevent  and  addresses  the  risks  of  conflicts  of  interest  (real  or  potential)  and  includes  those  that  may  result  from  relations  with  public  authorities, including Politically Exposed Persons. Among the planned measures:    - The integration of the risk of conflict of interest in the group's corruption  risk mapping. This mapping notably establishes a list of positions identified  as most at risk, updated at least every year.   - The integration into the hiring process of a position identified as at risk of  a due diligence procedure on the candidate verifying the compatibility of his  situation with the responsibilities and the position envisaged.  In the frame  of  this  procedure,  the  candidate  signs  of  a  sworn  statement,  confirming  the absence of any form of real or potential conflict of interest related to  his  new  position,  or  to  commitments  that  he  has  subscribed  to.  He  also  undertakes to inform his manager without delay in the event that he finds  himself  in  a  conflict  of  interest  situation.  These  declarations  are  archived  by the human resources department and can be consulted as necessary by  authorized persons.   If a problematic conflict of interests was identified in the framework of this  due diligence, the hiring process with the candidate may come to an end.   Specific measures are planned for the Naval Group Board of Directors, which has  its own internal regulations dealing, among other things, with  questions relating  to  the  identification  and  treatment  of  the  risks  of  conflicts  of  interest  of  its  members.   5.  Defining  the  conditions  of  application  of  a  compliance  program  in  which  Naval  Group  holds  participations.   in  companies   Naval  Group  defines  the  procedures  for  implementing  a  compliance  program  in  any  company  in  France  and  abroad  in  which  it  holds  participations.  In  this  regards,  procedures  regarding  the  compliance  program  can  be  adapted  to  the  specific local context of the country where it operates.    © Property of Naval Group SA 2019 – All rights reserved   Head office: 40-42, rue du Docteur Finlay - 75015 Paris  Tel: +33 (0)1 40 59 50 00 – www.naval-group.com  Naval Group - Limited company with a capital of 563,000,000 euros  RCS Paris 441 133 808 - SIRET 441 133 808 00135 - APE 3011 Z   Compliance program-Key procedures | February 2020 |    6\n"
     ]
    }
   ],
   "source": [
    "def see_data(iloc_no=random.randint(0,len(temp_df))-1):\n",
    "    print(temp_df.iloc[iloc_no]['date'],temp_df.iloc[iloc_no]['title'])\n",
    "    print(f\"\\n{temp_df.iloc[iloc_no]['author']} {temp_df.iloc[iloc_no]['url']}\")\n",
    "    urllib.request.urlretrieve(temp_df.iloc[iloc_no]['thumbnail'], \"temp.jpg\")\n",
    "    display(Image.open(\"temp.jpg\"))\n",
    "    print(f\"\\n{temp_df.iloc[iloc_no]['article']}\")\n",
    "\n",
    "see_data()"
   ]
  },
  {
   "cell_type": "code",
   "execution_count": 8,
   "id": "2551f935",
   "metadata": {
    "ExecuteTime": {
     "end_time": "2022-06-12T13:50:52.041898Z",
     "start_time": "2022-06-12T13:50:51.964383Z"
    }
   },
   "outputs": [],
   "source": [
    "#to csv\n",
    "temp_df.to_csv(f'{SITE_NAME} news.csv',index = False)\n",
    "\n",
    "#to json\n",
    "temp_df.to_json(f'{SITE_NAME} news.json')"
   ]
  },
  {
   "cell_type": "code",
   "execution_count": 9,
   "id": "a1a27b81",
   "metadata": {
    "ExecuteTime": {
     "end_time": "2022-06-12T13:50:52.057950Z",
     "start_time": "2022-06-12T13:50:52.043685Z"
    }
   },
   "outputs": [
    {
     "name": "stdout",
     "output_type": "stream",
     "text": [
      "Trash removed successfully\n"
     ]
    }
   ],
   "source": [
    "#to get rid of unwanteed trash created by the model use \n",
    "def remove_trash():\n",
    "    try:\n",
    "        try:\n",
    "            os.remove(\"temp.pdf\")\n",
    "        except:\n",
    "            pass\n",
    "        os.remove(\"temp.jpg\")\n",
    "        print(\"Trash removed successfully\")\n",
    "    except:\n",
    "        print(\"No trash found\")\n",
    "\n",
    "remove_trash()"
   ]
  }
 ],
 "metadata": {
  "kernelspec": {
   "display_name": "Python 3 (ipykernel)",
   "language": "python",
   "name": "python3"
  },
  "language_info": {
   "codemirror_mode": {
    "name": "ipython",
    "version": 3
   },
   "file_extension": ".py",
   "mimetype": "text/x-python",
   "name": "python",
   "nbconvert_exporter": "python",
   "pygments_lexer": "ipython3",
   "version": "3.9.7"
  },
  "toc": {
   "base_numbering": 1,
   "nav_menu": {},
   "number_sections": true,
   "sideBar": true,
   "skip_h1_title": false,
   "title_cell": "Table of Contents",
   "title_sidebar": "Contents",
   "toc_cell": false,
   "toc_position": {},
   "toc_section_display": true,
   "toc_window_display": false
  }
 },
 "nbformat": 4,
 "nbformat_minor": 5
}
