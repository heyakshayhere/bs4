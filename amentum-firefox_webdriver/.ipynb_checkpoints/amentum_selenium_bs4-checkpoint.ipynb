{
 "cells": [
  {
   "cell_type": "markdown",
   "id": "0005bedf",
   "metadata": {},
   "source": [
    "url :\n",
    "\n",
    "https://www.amentum.com/press-releases/"
   ]
  },
  {
   "cell_type": "code",
   "execution_count": 1,
   "id": "7d7dd5d8",
   "metadata": {
    "ExecuteTime": {
     "end_time": "2022-06-20T13:09:44.870858Z",
     "start_time": "2022-06-20T13:09:38.526929Z"
    },
    "code_folding": [
     0
    ]
   },
   "outputs": [
    {
     "data": {
      "application/javascript": [
       "IPython.notebook.set_autosave_interval(1000)"
      ]
     },
     "metadata": {},
     "output_type": "display_data"
    },
    {
     "name": "stdout",
     "output_type": "stream",
     "text": [
      "Autosaving every 1 seconds\n"
     ]
    }
   ],
   "source": [
    "#libraries\n",
    "import os \n",
    "os.environ['KMP_DUPLICATE_LIB_OK']='True'\n",
    "\n",
    "import pandas as pd,requests,bs4,re,time,io,pytesseract,easyocr,random,textstat,urllib.request\n",
    "from pdfminer.high_level import extract_text\n",
    "from PIL import Image\n",
    "from pathlib import Path\n",
    "from pdf2image import convert_from_path\n",
    "from selenium.webdriver.common.by import By\n",
    "from selenium.webdriver.common.keys import Keys\n",
    "from goose3 import Goose\n",
    "from datetime import datetime\n",
    "from bs4 import BeautifulSoup\n",
    "from selenium import webdriver\n",
    "from tqdm.auto import tqdm\n",
    "\n",
    "reader = easyocr.Reader(['en'])\n",
    "\n",
    "import warnings\n",
    "warnings.filterwarnings(\"ignore\")\n",
    "\n",
    "%autosave 1"
   ]
  },
  {
   "cell_type": "code",
   "execution_count": 2,
   "id": "cc5d9063",
   "metadata": {
    "ExecuteTime": {
     "end_time": "2022-06-20T13:09:51.319084Z",
     "start_time": "2022-06-20T13:09:44.872853Z"
    },
    "code_folding": [
     0
    ],
    "scrolled": true
   },
   "outputs": [
    {
     "name": "stderr",
     "output_type": "stream",
     "text": [
      "\n",
      "\n",
      "====== WebDriver manager ======\n",
      "Current firefox version is 101.0\n",
      "Get LATEST geckodriver version for 101.0 firefox\n",
      "Driver [C:\\Users\\AKSHAY SATPUTE\\.wdm\\drivers\\geckodriver\\win64\\v0.31.0\\geckodriver.exe] found in cache\n"
     ]
    }
   ],
   "source": [
    "#driver for operation\n",
    "from webdriver_manager.firefox import GeckoDriverManager\n",
    "driver = webdriver.Firefox(executable_path=GeckoDriverManager().install())"
   ]
  },
  {
   "cell_type": "code",
   "execution_count": 3,
   "id": "14864903",
   "metadata": {
    "ExecuteTime": {
     "end_time": "2022-06-20T13:09:51.334101Z",
     "start_time": "2022-06-20T13:09:51.322076Z"
    }
   },
   "outputs": [],
   "source": [
    "SITE_NAME='amentum'\n",
    "\n",
    "DOMAIN = \"https://www.amentum.com\"\n",
    "\n",
    "SITE_LINK = \"https://www.amentum.com/press-releases/\""
   ]
  },
  {
   "cell_type": "code",
   "execution_count": 4,
   "id": "6703395d",
   "metadata": {
    "ExecuteTime": {
     "end_time": "2022-06-20T13:09:51.364022Z",
     "start_time": "2022-06-20T13:09:51.339090Z"
    },
    "code_folding": [
     0,
     1,
     16,
     22
    ]
   },
   "outputs": [],
   "source": [
    "#functions\n",
    "def parse_webpage_bs(search_url):\n",
    "    \n",
    "    headers = {\n",
    "        \"User-Agent\": \"Mozilla/5.0 (Windows NT 10.0; Win64; x64; rv:90.0) Gecko/20100101 Firefox/90.0\"}\n",
    "    try:\n",
    "        site_request = requests.get(search_url, headers=headers, timeout=10)\n",
    "    except requests.exceptions.RequestException as e:\n",
    "        print(e)\n",
    "        site_request = None\n",
    "    if site_request != None and site_request.status_code==200:\n",
    "        site_soup = bs4.BeautifulSoup(site_request.content, \"lxml\")\n",
    "    else:\n",
    "        site_soup = None\n",
    "    return site_soup\n",
    "\n",
    "def remove_esc_chars(string):\n",
    "    review = re.sub('''[^a-zA-Z0-9!\"#$%&'()*+,-./:;<=>?@[\\]^_`{|}~]''', ' ',string)\n",
    "    review = review.split()\n",
    "    review = ' '.join(review)\n",
    "    return review\n",
    "\n",
    "def get_text_thumb(link): \n",
    "    try:\n",
    "        driver.get(link)\n",
    "        #most of the thumbnails we get after x path are invalid\n",
    "        thumb = \"https://www.amentum.com/wp-content/uploads/cropped-Amentum_RGB_large-2-e1615819496613-305x69-1.png\"\n",
    "        ps = driver.find_element(By.XPATH,f'''//*[@id=\"main\"]/div/div/section[2]/div/div/div[1]/div/div/div[3]/div''').text.strip()\n",
    "        text = remove_esc_chars(ps).strip()\n",
    "    except:\n",
    "        thumb = \"https://www.amentum.com/wp-content/uploads/cropped-Amentum_RGB_large-2-e1615819496613-305x69-1.png\"\n",
    "        g = Goose()\n",
    "        article_extract = g.extract(url=link)\n",
    "        article = remove_esc_chars(article_extract.cleaned_text)\n",
    "        meta_data = remove_esc_chars(article_extract.meta_description)\n",
    "        whole_data = meta_data+article\n",
    "        text = whole_data.strip()\n",
    "\n",
    "        if textstat.lexicon_count(text, removepunct=True) < 5:\n",
    "            try:\n",
    "                response = requests.get(link)\n",
    "                text = remove_esc_chars(extract_text(io.BytesIO(response.content)))\n",
    "\n",
    "                if textstat.lexicon_count(text, removepunct=True) < 5:\n",
    "                    texts = \"\"\n",
    "                    r = requests.get(link)\n",
    "                    filename = Path('temp.pdf')\n",
    "                    filename.write_bytes(r.content)\n",
    "\n",
    "                    pages = convert_from_path('temp.pdf', 500)\n",
    "                    for x in pages:\n",
    "                        x.save(\"temp.jpg\")\n",
    "                        output = reader.readtext(\"temp.jpg\")\n",
    "                        for o in output:\n",
    "                            texts += o[1]\n",
    "\n",
    "                    text = remove_esc_chars(texts)\n",
    "\n",
    "                    if textstat.lexicon_count(text, removepunct=True) < 5:\n",
    "                        texts = \"\"\n",
    "                        soup = parse_webpage_bs(link)\n",
    "                        if soup!= None:\n",
    "                            ps = soup.findAll('p')\n",
    "                            for p in ps:\n",
    "                                texts+= p.text\n",
    "\n",
    "                        text = remove_esc_chars(texts)\n",
    "            except:\n",
    "                text = \"\"\n",
    "    \n",
    "    return text , thumb"
   ]
  },
  {
   "cell_type": "code",
   "execution_count": 5,
   "id": "0bcbce2b",
   "metadata": {
    "ExecuteTime": {
     "end_time": "2022-06-20T13:10:44.764141Z",
     "start_time": "2022-06-20T13:09:51.367016Z"
    },
    "code_folding": [
     0,
     8,
     31,
     40
    ],
    "scrolled": true
   },
   "outputs": [
    {
     "data": {
      "application/vnd.jupyter.widget-view+json": {
       "model_id": "0f2e83e232be46f9982e88133fbd3b24",
       "version_major": 2,
       "version_minor": 0
      },
      "text/plain": [
       "Getting urls:   0%|          | 0/6 [00:00<?, ?it/s]"
      ]
     },
     "metadata": {},
     "output_type": "display_data"
    },
    {
     "data": {
      "application/vnd.jupyter.widget-view+json": {
       "model_id": "ca978f0312e64470bee2e97e4d77166b",
       "version_major": 2,
       "version_minor": 0
      },
      "text/plain": [
       "Getting urls:   0%|          | 0/6 [00:00<?, ?it/s]"
      ]
     },
     "metadata": {},
     "output_type": "display_data"
    },
    {
     "data": {
      "application/vnd.jupyter.widget-view+json": {
       "model_id": "f404059fe7704369b2b29bc1054236dc",
       "version_major": 2,
       "version_minor": 0
      },
      "text/plain": [
       "Getting urls:   0%|          | 0/6 [00:00<?, ?it/s]"
      ]
     },
     "metadata": {},
     "output_type": "display_data"
    },
    {
     "data": {
      "application/vnd.jupyter.widget-view+json": {
       "model_id": "6f8f69d750a94482b6a7d46d48485bd7",
       "version_major": 2,
       "version_minor": 0
      },
      "text/plain": [
       "Getting urls:   0%|          | 0/6 [00:00<?, ?it/s]"
      ]
     },
     "metadata": {},
     "output_type": "display_data"
    },
    {
     "data": {
      "application/vnd.jupyter.widget-view+json": {
       "model_id": "6aa3c8e0b5364b2bae79b108ef4fb62c",
       "version_major": 2,
       "version_minor": 0
      },
      "text/plain": [
       "Getting urls:   0%|          | 0/6 [00:00<?, ?it/s]"
      ]
     },
     "metadata": {},
     "output_type": "display_data"
    },
    {
     "data": {
      "application/vnd.jupyter.widget-view+json": {
       "model_id": "00635b9083914e79a526707217ed4b73",
       "version_major": 2,
       "version_minor": 0
      },
      "text/plain": [
       "Getting urls:   0%|          | 0/6 [00:00<?, ?it/s]"
      ]
     },
     "metadata": {},
     "output_type": "display_data"
    },
    {
     "data": {
      "application/vnd.jupyter.widget-view+json": {
       "model_id": "7356ace012644f0ca6ed0aa246821ded",
       "version_major": 2,
       "version_minor": 0
      },
      "text/plain": [
       "Getting urls:   0%|          | 0/6 [00:00<?, ?it/s]"
      ]
     },
     "metadata": {},
     "output_type": "display_data"
    },
    {
     "data": {
      "application/vnd.jupyter.widget-view+json": {
       "model_id": "21f7e74680704d3aa60b463dd64f254a",
       "version_major": 2,
       "version_minor": 0
      },
      "text/plain": [
       "Getting urls:   0%|          | 0/6 [00:00<?, ?it/s]"
      ]
     },
     "metadata": {},
     "output_type": "display_data"
    },
    {
     "data": {
      "application/vnd.jupyter.widget-view+json": {
       "model_id": "d4aa7cfcbb3949e0a284d12d727273bf",
       "version_major": 2,
       "version_minor": 0
      },
      "text/plain": [
       "Getting urls:   0%|          | 0/6 [00:00<?, ?it/s]"
      ]
     },
     "metadata": {},
     "output_type": "display_data"
    },
    {
     "data": {
      "application/vnd.jupyter.widget-view+json": {
       "model_id": "87bf8414267c403997f9faa8107a7011",
       "version_major": 2,
       "version_minor": 0
      },
      "text/plain": [
       "Getting urls:   0%|          | 0/6 [00:00<?, ?it/s]"
      ]
     },
     "metadata": {},
     "output_type": "display_data"
    },
    {
     "data": {
      "application/vnd.jupyter.widget-view+json": {
       "model_id": "78f1ee2cb89641beb6cccf7aad69fe69",
       "version_major": 2,
       "version_minor": 0
      },
      "text/plain": [
       "Getting urls:   0%|          | 0/6 [00:00<?, ?it/s]"
      ]
     },
     "metadata": {},
     "output_type": "display_data"
    },
    {
     "data": {
      "application/vnd.jupyter.widget-view+json": {
       "model_id": "ce1e2a4f652f4973ad2ff6b0d821f9dc",
       "version_major": 2,
       "version_minor": 0
      },
      "text/plain": [
       "Getting urls:   0%|          | 0/6 [00:00<?, ?it/s]"
      ]
     },
     "metadata": {},
     "output_type": "display_data"
    },
    {
     "data": {
      "application/vnd.jupyter.widget-view+json": {
       "model_id": "5073bac9d32b41c6ae82c48199532dba",
       "version_major": 2,
       "version_minor": 0
      },
      "text/plain": [
       "Getting urls:   0%|          | 0/6 [00:00<?, ?it/s]"
      ]
     },
     "metadata": {},
     "output_type": "display_data"
    },
    {
     "data": {
      "application/vnd.jupyter.widget-view+json": {
       "model_id": "fee804aed67c4b51b7757a288fd6de10",
       "version_major": 2,
       "version_minor": 0
      },
      "text/plain": [
       "Getting urls:   0%|          | 0/6 [00:00<?, ?it/s]"
      ]
     },
     "metadata": {},
     "output_type": "display_data"
    },
    {
     "data": {
      "application/vnd.jupyter.widget-view+json": {
       "model_id": "cc6201b31f3d404285f6592505011302",
       "version_major": 2,
       "version_minor": 0
      },
      "text/plain": [
       "Getting urls:   0%|          | 0/6 [00:00<?, ?it/s]"
      ]
     },
     "metadata": {},
     "output_type": "display_data"
    },
    {
     "data": {
      "application/vnd.jupyter.widget-view+json": {
       "model_id": "f3d63dd4ae164c3c9e7f149f714c5fea",
       "version_major": 2,
       "version_minor": 0
      },
      "text/plain": [
       "Getting urls:   0%|          | 0/6 [00:00<?, ?it/s]"
      ]
     },
     "metadata": {},
     "output_type": "display_data"
    },
    {
     "data": {
      "application/vnd.jupyter.widget-view+json": {
       "model_id": "be08b499c17143d4ad735fc27042fc71",
       "version_major": 2,
       "version_minor": 0
      },
      "text/plain": [
       "Getting urls:   0%|          | 0/4 [00:00<?, ?it/s]"
      ]
     },
     "metadata": {},
     "output_type": "display_data"
    },
    {
     "data": {
      "application/vnd.jupyter.widget-view+json": {
       "model_id": "fdd6fca3c79d442e93eefcb09da58b8c",
       "version_major": 2,
       "version_minor": 0
      },
      "text/plain": [
       "Getting articles:   0%|          | 0/25 [00:00<?, ?it/s]"
      ]
     },
     "metadata": {},
     "output_type": "display_data"
    },
    {
     "name": "stdout",
     "output_type": "stream",
     "text": [
      "June 7, 2022 Amentum Joint Venture Koa Lani Awarded Position on Remotely Piloted Aircraft IDIQ\n",
      "May 24, 2022 Amentum’s United Cleanup Oak Ridge LLC Begins Critical Work at Oak Ridge Reservation\n",
      "May 19, 2022 Amentum Awarded $48M Naval Test Wing Atlantic Extension\n",
      "May 17, 2022 Amentum Awarded $99M Navy IDIQ to Support Air Crew Training in Nevada\n",
      "May 10, 2022 Amentum Awarded $39M Army Contract for Research and Development\n",
      "April 25, 2022 PAE JV PAE Korea Limited Wins War Reserve Materiel, Five-Year Contract Worth $45M\n",
      "April 21, 2022 Amentum Achieves Certification for Occupational Health and Safety Management System by Developing Integrated Management System\n",
      "April 12, 2022 Amentum Awarded $260M DHS Contract to Help Counter Unmanned System Threats\n",
      "March 29, 2022 Amentum Announces New Leadership Team\n",
      "March 21, 2022 Amentum Announces Hanford Leadership Changes\n",
      "February 24, 2022 Amentum Announces John Heller as CEO\n",
      "February 15, 2022 Amentum Completes Acquisition of PAE\n",
      "February 8, 2022 Amentum Awarded $147M Air Force Maintenance and Sustainment Services Contract\n",
      "February 3, 2022 Amentum Awarded $210M Chemical Management Services Contract\n",
      "January 25, 2022 Amentum Awarded $301M Task Order on ACES IDIQ\n",
      "January 19, 2022 Amentum begins critical work at Hawthorne Army Depot\n",
      "January 11, 2022 Amentum Wins Range Services Contract Supporting the Navy’s Atlantic Undersea Test and Evaluation Center\n",
      "January 5, 2022 Amentum Appoints Charles A. Mathis as Chief Financial Officer\n",
      "December 8, 2021 PAE Achieves Certifications for Occupational Health and Safety Management Systems, Environmental Management Systems | PAE\n",
      "December 2, 2021 Bravour, a PAE Company, Awarded €95M On Base IDIQ by NATO for Vehicle Services in Europe | PAE\n",
      "November 30, 2021 Amentum Appoints Dr. Rob Smith to Lead Diversity, Equity and Inclusion\n",
      "November 30, 2021 Amentum Team Awarded $28 Billion Y-12 National Security Complex and Pantex Plant Management Contract\n",
      "November 15, 2021 Amentum Awarded 2022 Military Friendly ® Employer Designation\n",
      "November 11, 2021 PAE Awarded USPS Contract Valued at $63.5M Supporting Los Angeles Mail Transport Equipment Service Center | PAE\n",
      "November 4, 2021 Bill Condon Becomes New leader of Nuclear Operations and Cleanup Sector\n"
     ]
    }
   ],
   "source": [
    "#get data\n",
    "article_list = []\n",
    "\n",
    "pagination = 1\n",
    "\n",
    "#creating empty lists to append data \n",
    "published_dates,titles,texts,links,thumbnails,authors = [],[],[],[],[],[]\n",
    "\n",
    "while True:\n",
    "    url = f\"https://www.amentum.com/press-releases/page/{pagination}\"\n",
    "    driver.get(url)\n",
    "    \n",
    "    elements = driver.find_elements(By.XPATH,'''//h3[@class=\"uael-post__title\"]''')\n",
    "    \n",
    "    #breaking if there are no elements\n",
    "    if len(elements) ==0:\n",
    "        break\n",
    "        \n",
    "    #published_dates,titles,links,authors\n",
    "    for e in tqdm(range(1,len(elements[:])+1),desc =\"Getting urls\"):\n",
    "        pubished_date = driver.find_element(By.XPATH,f'''//*[@id=\"post-2318\"]/div/div/div/div/section[2]/div/div/div[1]/div/div/div/div/div[2]/div/div/div[{e}]/div/div/div/div/span''').text.strip()\n",
    "        published_dates.append(pubished_date)\n",
    "        title = driver.find_element(By.XPATH,f'''//*[@id=\"post-2318\"]/div/div/div/div/section[2]/div/div/div[1]/div/div/div/div/div[2]/div/div/div[{e}]/div/div/div/h3/a''').text.strip()\n",
    "        titles.append(title)\n",
    "        link = driver.find_element(By.XPATH,f'''//*[@id=\"post-2318\"]/div/div/div/div/section[2]/div/div/div[1]/div/div/div/div/div[2]/div/div/div[{e}]/div/div/div/h3/a''').get_attribute('href')\n",
    "        links.append(link)\n",
    "        authors.append(SITE_NAME)\n",
    "    \n",
    "    pagination +=1 \n",
    "    \n",
    "#texts,thumbnails\n",
    "for link in tqdm((links[:25]),desc =\"Getting articles\"):\n",
    "    text , thumbnail = get_text_thumb(link)\n",
    "    texts.append(text)\n",
    "    thumbnails.append(thumbnail)\n",
    "\n",
    "#zippig all the data togather \n",
    "zipped = list(zip(published_dates,titles,texts,links,thumbnails,authors))\n",
    "\n",
    "#unwinding and appending to the main list\n",
    "for published_date,title,text,link,thumbnail,author in zipped:\n",
    "    article = (published_date.strip(),title.strip(),text.strip(),link.strip(),thumbnail.strip(),author.strip())\n",
    "    article_list.append(article)\n",
    "    print(published_date,title)"
   ]
  },
  {
   "cell_type": "code",
   "execution_count": 6,
   "id": "bff8c237",
   "metadata": {
    "ExecuteTime": {
     "end_time": "2022-06-20T13:10:44.794994Z",
     "start_time": "2022-06-20T13:10:44.766108Z"
    }
   },
   "outputs": [
    {
     "data": {
      "text/html": [
       "<div>\n",
       "<style scoped>\n",
       "    .dataframe tbody tr th:only-of-type {\n",
       "        vertical-align: middle;\n",
       "    }\n",
       "\n",
       "    .dataframe tbody tr th {\n",
       "        vertical-align: top;\n",
       "    }\n",
       "\n",
       "    .dataframe thead th {\n",
       "        text-align: right;\n",
       "    }\n",
       "</style>\n",
       "<table border=\"1\" class=\"dataframe\">\n",
       "  <thead>\n",
       "    <tr style=\"text-align: right;\">\n",
       "      <th></th>\n",
       "      <th>date</th>\n",
       "      <th>title</th>\n",
       "      <th>article</th>\n",
       "      <th>url</th>\n",
       "      <th>thumbnail</th>\n",
       "      <th>author</th>\n",
       "    </tr>\n",
       "  </thead>\n",
       "  <tbody>\n",
       "    <tr>\n",
       "      <th>0</th>\n",
       "      <td>June 7, 2022</td>\n",
       "      <td>Amentum Joint Venture Koa Lani Awarded Positio...</td>\n",
       "      <td>GERMANTOWN, Md.; June 7, 2022 Koa Lani, an Ame...</td>\n",
       "      <td>https://www.amentum.com/amentum-joint-venture-...</td>\n",
       "      <td>https://www.amentum.com/wp-content/uploads/cro...</td>\n",
       "      <td>amentum</td>\n",
       "    </tr>\n",
       "    <tr>\n",
       "      <th>1</th>\n",
       "      <td>May 24, 2022</td>\n",
       "      <td>Amentum’s United Cleanup Oak Ridge LLC Begins ...</td>\n",
       "      <td>New UCOR Begins Operating Under New Contract G...</td>\n",
       "      <td>https://www.amentum.com/amentums-united-cleanu...</td>\n",
       "      <td>https://www.amentum.com/wp-content/uploads/cro...</td>\n",
       "      <td>amentum</td>\n",
       "    </tr>\n",
       "    <tr>\n",
       "      <th>2</th>\n",
       "      <td>May 19, 2022</td>\n",
       "      <td>Amentum Awarded $48M Naval Test Wing Atlantic ...</td>\n",
       "      <td>GERMANTOWN, Md.; May 19, 2022 The U.S. Navy aw...</td>\n",
       "      <td>https://www.amentum.com/amentum-awarded-48m-na...</td>\n",
       "      <td>https://www.amentum.com/wp-content/uploads/cro...</td>\n",
       "      <td>amentum</td>\n",
       "    </tr>\n",
       "    <tr>\n",
       "      <th>3</th>\n",
       "      <td>May 17, 2022</td>\n",
       "      <td>Amentum Awarded $99M Navy IDIQ to Support Air ...</td>\n",
       "      <td>GERMANTOWN, Md.; May 17, 2022 The Naval Air Wa...</td>\n",
       "      <td>https://www.amentum.com/amentum-awarded-99m-na...</td>\n",
       "      <td>https://www.amentum.com/wp-content/uploads/cro...</td>\n",
       "      <td>amentum</td>\n",
       "    </tr>\n",
       "    <tr>\n",
       "      <th>4</th>\n",
       "      <td>May 10, 2022</td>\n",
       "      <td>Amentum Awarded $39M Army Contract for Researc...</td>\n",
       "      <td>GERMANTOWN, Md.; May 10, 2022 Amentum has been...</td>\n",
       "      <td>https://www.amentum.com/amentum-awarded-39m-ar...</td>\n",
       "      <td>https://www.amentum.com/wp-content/uploads/cro...</td>\n",
       "      <td>amentum</td>\n",
       "    </tr>\n",
       "    <tr>\n",
       "      <th>5</th>\n",
       "      <td>April 25, 2022</td>\n",
       "      <td>PAE JV PAE Korea Limited Wins War Reserve Mate...</td>\n",
       "      <td>GERMANTOWN, Md., April 25, 2022 The 607 Materi...</td>\n",
       "      <td>https://www.amentum.com/pae-jv-partner-pae-kor...</td>\n",
       "      <td>https://www.amentum.com/wp-content/uploads/cro...</td>\n",
       "      <td>amentum</td>\n",
       "    </tr>\n",
       "    <tr>\n",
       "      <th>6</th>\n",
       "      <td>April 21, 2022</td>\n",
       "      <td>Amentum Achieves Certification for Occupationa...</td>\n",
       "      <td>GERMANTOWN, Md.; April 21, 2022 Amentum, a lea...</td>\n",
       "      <td>https://www.amentum.com/amentum-achieves-certi...</td>\n",
       "      <td>https://www.amentum.com/wp-content/uploads/cro...</td>\n",
       "      <td>amentum</td>\n",
       "    </tr>\n",
       "    <tr>\n",
       "      <th>7</th>\n",
       "      <td>April 12, 2022</td>\n",
       "      <td>Amentum Awarded $260M DHS Contract to Help Cou...</td>\n",
       "      <td>GERMANTOWN, Md.; April 12, 2022 Amentum has be...</td>\n",
       "      <td>https://www.amentum.com/amentum-awarded-260m-d...</td>\n",
       "      <td>https://www.amentum.com/wp-content/uploads/cro...</td>\n",
       "      <td>amentum</td>\n",
       "    </tr>\n",
       "    <tr>\n",
       "      <th>8</th>\n",
       "      <td>March 29, 2022</td>\n",
       "      <td>Amentum Announces New Leadership Team</td>\n",
       "      <td>GERMANTOWN, Md., March 29, 2022 Amentum, a lea...</td>\n",
       "      <td>https://www.amentum.com/amentum-announces-new-...</td>\n",
       "      <td>https://www.amentum.com/wp-content/uploads/cro...</td>\n",
       "      <td>amentum</td>\n",
       "    </tr>\n",
       "    <tr>\n",
       "      <th>9</th>\n",
       "      <td>March 21, 2022</td>\n",
       "      <td>Amentum Announces Hanford Leadership Changes</td>\n",
       "      <td>GERMANTOWN, Md., March 21, 2022 Scott Sax, pre...</td>\n",
       "      <td>https://www.amentum.com/amentum-announces-hanf...</td>\n",
       "      <td>https://www.amentum.com/wp-content/uploads/cro...</td>\n",
       "      <td>amentum</td>\n",
       "    </tr>\n",
       "    <tr>\n",
       "      <th>10</th>\n",
       "      <td>February 24, 2022</td>\n",
       "      <td>Amentum Announces John Heller as CEO</td>\n",
       "      <td>GERMANTOWN, Md., Feb. 24, 2022 Amentum announc...</td>\n",
       "      <td>https://www.amentum.com/amentum-announces-john...</td>\n",
       "      <td>https://www.amentum.com/wp-content/uploads/cro...</td>\n",
       "      <td>amentum</td>\n",
       "    </tr>\n",
       "    <tr>\n",
       "      <th>11</th>\n",
       "      <td>February 15, 2022</td>\n",
       "      <td>Amentum Completes Acquisition of PAE</td>\n",
       "      <td>GERMANTOWN, Md., Feb. 15, 2022 Amentum, a lead...</td>\n",
       "      <td>https://www.amentum.com/amentum-completes-acqu...</td>\n",
       "      <td>https://www.amentum.com/wp-content/uploads/cro...</td>\n",
       "      <td>amentum</td>\n",
       "    </tr>\n",
       "    <tr>\n",
       "      <th>12</th>\n",
       "      <td>February 8, 2022</td>\n",
       "      <td>Amentum Awarded $147M Air Force Maintenance an...</td>\n",
       "      <td>GERMANTOWN, Md.; February 8, 2022 The U.S. Air...</td>\n",
       "      <td>https://www.amentum.com/amentum-awarded-147m-a...</td>\n",
       "      <td>https://www.amentum.com/wp-content/uploads/cro...</td>\n",
       "      <td>amentum</td>\n",
       "    </tr>\n",
       "    <tr>\n",
       "      <th>13</th>\n",
       "      <td>February 3, 2022</td>\n",
       "      <td>Amentum Awarded $210M Chemical Management Serv...</td>\n",
       "      <td>GERMANTOWN, Md.; February 3, 2022 The Defense ...</td>\n",
       "      <td>https://www.amentum.com/amentum-awarded-210m-c...</td>\n",
       "      <td>https://www.amentum.com/wp-content/uploads/cro...</td>\n",
       "      <td>amentum</td>\n",
       "    </tr>\n",
       "    <tr>\n",
       "      <th>14</th>\n",
       "      <td>January 25, 2022</td>\n",
       "      <td>Amentum Awarded $301M Task Order on ACES IDIQ</td>\n",
       "      <td>GERMANTOWN, Md.; January 25, 2022 The U.S. Air...</td>\n",
       "      <td>https://www.amentum.com/amentum-awarded-301m-t...</td>\n",
       "      <td>https://www.amentum.com/wp-content/uploads/cro...</td>\n",
       "      <td>amentum</td>\n",
       "    </tr>\n",
       "    <tr>\n",
       "      <th>15</th>\n",
       "      <td>January 19, 2022</td>\n",
       "      <td>Amentum begins critical work at Hawthorne Army...</td>\n",
       "      <td>GERMANTOWN, Md.; Jan. 19, 2022 Amentum, a lead...</td>\n",
       "      <td>https://www.amentum.com/amentum-begins-critica...</td>\n",
       "      <td>https://www.amentum.com/wp-content/uploads/cro...</td>\n",
       "      <td>amentum</td>\n",
       "    </tr>\n",
       "    <tr>\n",
       "      <th>16</th>\n",
       "      <td>January 11, 2022</td>\n",
       "      <td>Amentum Wins Range Services Contract Supportin...</td>\n",
       "      <td>GERMANTOWN, Md.; January 11, 2022 The Naval Un...</td>\n",
       "      <td>https://www.amentum.com/amentum-wins-range-ser...</td>\n",
       "      <td>https://www.amentum.com/wp-content/uploads/cro...</td>\n",
       "      <td>amentum</td>\n",
       "    </tr>\n",
       "    <tr>\n",
       "      <th>17</th>\n",
       "      <td>January 5, 2022</td>\n",
       "      <td>Amentum Appoints Charles A. Mathis as Chief Fi...</td>\n",
       "      <td>GERMANTOWN, Md.; Jan. 5, 2022 Amentum, a leadi...</td>\n",
       "      <td>https://www.amentum.com/amentum-appoints-charl...</td>\n",
       "      <td>https://www.amentum.com/wp-content/uploads/cro...</td>\n",
       "      <td>amentum</td>\n",
       "    </tr>\n",
       "    <tr>\n",
       "      <th>18</th>\n",
       "      <td>December 8, 2021</td>\n",
       "      <td>PAE Achieves Certifications for Occupational H...</td>\n",
       "      <td>THIS PRESS RELEASE WAS ORIGINALLY ISSUED BY PA...</td>\n",
       "      <td>https://www.amentum.com/pae-achieves-certifica...</td>\n",
       "      <td>https://www.amentum.com/wp-content/uploads/cro...</td>\n",
       "      <td>amentum</td>\n",
       "    </tr>\n",
       "    <tr>\n",
       "      <th>19</th>\n",
       "      <td>December 2, 2021</td>\n",
       "      <td>Bravour, a PAE Company, Awarded €95M On Base I...</td>\n",
       "      <td>THIS PRESS RELEASE WAS ORIGINALLY ISSUED BY PA...</td>\n",
       "      <td>https://www.amentum.com/bravour-a-pae-company-...</td>\n",
       "      <td>https://www.amentum.com/wp-content/uploads/cro...</td>\n",
       "      <td>amentum</td>\n",
       "    </tr>\n",
       "    <tr>\n",
       "      <th>20</th>\n",
       "      <td>November 30, 2021</td>\n",
       "      <td>Amentum Appoints Dr. Rob Smith to Lead Diversi...</td>\n",
       "      <td>GERMANTOWN, Md.; Nov. 30, 2021 Amentum, a lead...</td>\n",
       "      <td>https://www.amentum.com/amentum-appoints-dr-ro...</td>\n",
       "      <td>https://www.amentum.com/wp-content/uploads/cro...</td>\n",
       "      <td>amentum</td>\n",
       "    </tr>\n",
       "    <tr>\n",
       "      <th>21</th>\n",
       "      <td>November 30, 2021</td>\n",
       "      <td>Amentum Team Awarded $28 Billion Y-12 National...</td>\n",
       "      <td>GERMANTOWN, Md., (Nov. 30, 2021)- Amentum, a l...</td>\n",
       "      <td>https://www.amentum.com/amentum-team-awarded-2...</td>\n",
       "      <td>https://www.amentum.com/wp-content/uploads/cro...</td>\n",
       "      <td>amentum</td>\n",
       "    </tr>\n",
       "    <tr>\n",
       "      <th>22</th>\n",
       "      <td>November 15, 2021</td>\n",
       "      <td>Amentum Awarded 2022 Military Friendly ® Emplo...</td>\n",
       "      <td>GERMANTOWN, Md.; Nov. 15, 2021 Amentum, a lead...</td>\n",
       "      <td>https://www.amentum.com/amentum-awarded-2022-m...</td>\n",
       "      <td>https://www.amentum.com/wp-content/uploads/cro...</td>\n",
       "      <td>amentum</td>\n",
       "    </tr>\n",
       "    <tr>\n",
       "      <th>23</th>\n",
       "      <td>November 11, 2021</td>\n",
       "      <td>PAE Awarded USPS Contract Valued at $63.5M Sup...</td>\n",
       "      <td>THIS PRESS RELEASE WAS ORIGINALLY ISSUED BY PA...</td>\n",
       "      <td>https://www.amentum.com/pae-awarded-usps-contr...</td>\n",
       "      <td>https://www.amentum.com/wp-content/uploads/cro...</td>\n",
       "      <td>amentum</td>\n",
       "    </tr>\n",
       "    <tr>\n",
       "      <th>24</th>\n",
       "      <td>November 4, 2021</td>\n",
       "      <td>Bill Condon Becomes New leader of Nuclear Oper...</td>\n",
       "      <td>Condon assumes nuclear operations role GERMANT...</td>\n",
       "      <td>https://www.amentum.com/bill-condon-becomes-ne...</td>\n",
       "      <td>https://www.amentum.com/wp-content/uploads/cro...</td>\n",
       "      <td>amentum</td>\n",
       "    </tr>\n",
       "  </tbody>\n",
       "</table>\n",
       "</div>"
      ],
      "text/plain": [
       "                 date                                              title  \\\n",
       "0        June 7, 2022  Amentum Joint Venture Koa Lani Awarded Positio...   \n",
       "1        May 24, 2022  Amentum’s United Cleanup Oak Ridge LLC Begins ...   \n",
       "2        May 19, 2022  Amentum Awarded $48M Naval Test Wing Atlantic ...   \n",
       "3        May 17, 2022  Amentum Awarded $99M Navy IDIQ to Support Air ...   \n",
       "4        May 10, 2022  Amentum Awarded $39M Army Contract for Researc...   \n",
       "5      April 25, 2022  PAE JV PAE Korea Limited Wins War Reserve Mate...   \n",
       "6      April 21, 2022  Amentum Achieves Certification for Occupationa...   \n",
       "7      April 12, 2022  Amentum Awarded $260M DHS Contract to Help Cou...   \n",
       "8      March 29, 2022              Amentum Announces New Leadership Team   \n",
       "9      March 21, 2022       Amentum Announces Hanford Leadership Changes   \n",
       "10  February 24, 2022               Amentum Announces John Heller as CEO   \n",
       "11  February 15, 2022               Amentum Completes Acquisition of PAE   \n",
       "12   February 8, 2022  Amentum Awarded $147M Air Force Maintenance an...   \n",
       "13   February 3, 2022  Amentum Awarded $210M Chemical Management Serv...   \n",
       "14   January 25, 2022      Amentum Awarded $301M Task Order on ACES IDIQ   \n",
       "15   January 19, 2022  Amentum begins critical work at Hawthorne Army...   \n",
       "16   January 11, 2022  Amentum Wins Range Services Contract Supportin...   \n",
       "17    January 5, 2022  Amentum Appoints Charles A. Mathis as Chief Fi...   \n",
       "18   December 8, 2021  PAE Achieves Certifications for Occupational H...   \n",
       "19   December 2, 2021  Bravour, a PAE Company, Awarded €95M On Base I...   \n",
       "20  November 30, 2021  Amentum Appoints Dr. Rob Smith to Lead Diversi...   \n",
       "21  November 30, 2021  Amentum Team Awarded $28 Billion Y-12 National...   \n",
       "22  November 15, 2021  Amentum Awarded 2022 Military Friendly ® Emplo...   \n",
       "23  November 11, 2021  PAE Awarded USPS Contract Valued at $63.5M Sup...   \n",
       "24   November 4, 2021  Bill Condon Becomes New leader of Nuclear Oper...   \n",
       "\n",
       "                                              article  \\\n",
       "0   GERMANTOWN, Md.; June 7, 2022 Koa Lani, an Ame...   \n",
       "1   New UCOR Begins Operating Under New Contract G...   \n",
       "2   GERMANTOWN, Md.; May 19, 2022 The U.S. Navy aw...   \n",
       "3   GERMANTOWN, Md.; May 17, 2022 The Naval Air Wa...   \n",
       "4   GERMANTOWN, Md.; May 10, 2022 Amentum has been...   \n",
       "5   GERMANTOWN, Md., April 25, 2022 The 607 Materi...   \n",
       "6   GERMANTOWN, Md.; April 21, 2022 Amentum, a lea...   \n",
       "7   GERMANTOWN, Md.; April 12, 2022 Amentum has be...   \n",
       "8   GERMANTOWN, Md., March 29, 2022 Amentum, a lea...   \n",
       "9   GERMANTOWN, Md., March 21, 2022 Scott Sax, pre...   \n",
       "10  GERMANTOWN, Md., Feb. 24, 2022 Amentum announc...   \n",
       "11  GERMANTOWN, Md., Feb. 15, 2022 Amentum, a lead...   \n",
       "12  GERMANTOWN, Md.; February 8, 2022 The U.S. Air...   \n",
       "13  GERMANTOWN, Md.; February 3, 2022 The Defense ...   \n",
       "14  GERMANTOWN, Md.; January 25, 2022 The U.S. Air...   \n",
       "15  GERMANTOWN, Md.; Jan. 19, 2022 Amentum, a lead...   \n",
       "16  GERMANTOWN, Md.; January 11, 2022 The Naval Un...   \n",
       "17  GERMANTOWN, Md.; Jan. 5, 2022 Amentum, a leadi...   \n",
       "18  THIS PRESS RELEASE WAS ORIGINALLY ISSUED BY PA...   \n",
       "19  THIS PRESS RELEASE WAS ORIGINALLY ISSUED BY PA...   \n",
       "20  GERMANTOWN, Md.; Nov. 30, 2021 Amentum, a lead...   \n",
       "21  GERMANTOWN, Md., (Nov. 30, 2021)- Amentum, a l...   \n",
       "22  GERMANTOWN, Md.; Nov. 15, 2021 Amentum, a lead...   \n",
       "23  THIS PRESS RELEASE WAS ORIGINALLY ISSUED BY PA...   \n",
       "24  Condon assumes nuclear operations role GERMANT...   \n",
       "\n",
       "                                                  url  \\\n",
       "0   https://www.amentum.com/amentum-joint-venture-...   \n",
       "1   https://www.amentum.com/amentums-united-cleanu...   \n",
       "2   https://www.amentum.com/amentum-awarded-48m-na...   \n",
       "3   https://www.amentum.com/amentum-awarded-99m-na...   \n",
       "4   https://www.amentum.com/amentum-awarded-39m-ar...   \n",
       "5   https://www.amentum.com/pae-jv-partner-pae-kor...   \n",
       "6   https://www.amentum.com/amentum-achieves-certi...   \n",
       "7   https://www.amentum.com/amentum-awarded-260m-d...   \n",
       "8   https://www.amentum.com/amentum-announces-new-...   \n",
       "9   https://www.amentum.com/amentum-announces-hanf...   \n",
       "10  https://www.amentum.com/amentum-announces-john...   \n",
       "11  https://www.amentum.com/amentum-completes-acqu...   \n",
       "12  https://www.amentum.com/amentum-awarded-147m-a...   \n",
       "13  https://www.amentum.com/amentum-awarded-210m-c...   \n",
       "14  https://www.amentum.com/amentum-awarded-301m-t...   \n",
       "15  https://www.amentum.com/amentum-begins-critica...   \n",
       "16  https://www.amentum.com/amentum-wins-range-ser...   \n",
       "17  https://www.amentum.com/amentum-appoints-charl...   \n",
       "18  https://www.amentum.com/pae-achieves-certifica...   \n",
       "19  https://www.amentum.com/bravour-a-pae-company-...   \n",
       "20  https://www.amentum.com/amentum-appoints-dr-ro...   \n",
       "21  https://www.amentum.com/amentum-team-awarded-2...   \n",
       "22  https://www.amentum.com/amentum-awarded-2022-m...   \n",
       "23  https://www.amentum.com/pae-awarded-usps-contr...   \n",
       "24  https://www.amentum.com/bill-condon-becomes-ne...   \n",
       "\n",
       "                                            thumbnail   author  \n",
       "0   https://www.amentum.com/wp-content/uploads/cro...  amentum  \n",
       "1   https://www.amentum.com/wp-content/uploads/cro...  amentum  \n",
       "2   https://www.amentum.com/wp-content/uploads/cro...  amentum  \n",
       "3   https://www.amentum.com/wp-content/uploads/cro...  amentum  \n",
       "4   https://www.amentum.com/wp-content/uploads/cro...  amentum  \n",
       "5   https://www.amentum.com/wp-content/uploads/cro...  amentum  \n",
       "6   https://www.amentum.com/wp-content/uploads/cro...  amentum  \n",
       "7   https://www.amentum.com/wp-content/uploads/cro...  amentum  \n",
       "8   https://www.amentum.com/wp-content/uploads/cro...  amentum  \n",
       "9   https://www.amentum.com/wp-content/uploads/cro...  amentum  \n",
       "10  https://www.amentum.com/wp-content/uploads/cro...  amentum  \n",
       "11  https://www.amentum.com/wp-content/uploads/cro...  amentum  \n",
       "12  https://www.amentum.com/wp-content/uploads/cro...  amentum  \n",
       "13  https://www.amentum.com/wp-content/uploads/cro...  amentum  \n",
       "14  https://www.amentum.com/wp-content/uploads/cro...  amentum  \n",
       "15  https://www.amentum.com/wp-content/uploads/cro...  amentum  \n",
       "16  https://www.amentum.com/wp-content/uploads/cro...  amentum  \n",
       "17  https://www.amentum.com/wp-content/uploads/cro...  amentum  \n",
       "18  https://www.amentum.com/wp-content/uploads/cro...  amentum  \n",
       "19  https://www.amentum.com/wp-content/uploads/cro...  amentum  \n",
       "20  https://www.amentum.com/wp-content/uploads/cro...  amentum  \n",
       "21  https://www.amentum.com/wp-content/uploads/cro...  amentum  \n",
       "22  https://www.amentum.com/wp-content/uploads/cro...  amentum  \n",
       "23  https://www.amentum.com/wp-content/uploads/cro...  amentum  \n",
       "24  https://www.amentum.com/wp-content/uploads/cro...  amentum  "
      ]
     },
     "execution_count": 6,
     "metadata": {},
     "output_type": "execute_result"
    }
   ],
   "source": [
    "temp_df = pd.DataFrame(article_list,columns=['date','title','article','url','thumbnail','author'])\n",
    "temp_df"
   ]
  },
  {
   "cell_type": "code",
   "execution_count": 8,
   "id": "db695397",
   "metadata": {
    "ExecuteTime": {
     "end_time": "2022-06-20T13:11:03.017293Z",
     "start_time": "2022-06-20T13:11:03.010319Z"
    },
    "code_folding": [
     0
    ],
    "scrolled": false
   },
   "outputs": [
    {
     "name": "stdout",
     "output_type": "stream",
     "text": [
      "November 30, 2021 Amentum Appoints Dr. Rob Smith to Lead Diversity, Equity and Inclusion\n",
      "\n",
      "amentum https://www.amentum.com/amentum-appoints-dr-rob-smith-to-lead-diversity-equity-and-inclusion/\n",
      "\n",
      "GERMANTOWN, Md.; Nov. 30, 2021 Amentum, a leading contractor to U.S. federal and allied governments, announced today that it has appointed Dr. Robert L. Smith as Vice President of Diversity, Equity & Inclusion. In this role, he will be responsible for leading Amentum s diversity, equity and inclusion vision and strategy by developing and implementing programs and initiatives that advance the company s business objectives and reinforces its culture. Rob brings with him deep expertise in developing and executing strategies that will help us live our values valuing each person in our organization, enabling them to reach their full potential and ultimately drive the success of our business, said John Vollmer, Amentum CEO. His leadership will be critical as we continue our journey to become the employer of choice in our industry. Dr. Smith is a dedicated career military officer and public servant with more than 30 years of government and private sector leadership experience. He previously led the Diversity & Inclusion and Talent Acquisition functions for BAE Systems Intelligence and Security Sector in McLean, Va. Prior to BAE, Dr. Smith served as the Director of National Recruitment for Customs and Border Protection where he led the planning and direction of the agency s strategic human capital recruitment programs and related initiatives. Dr. Smith previously served for 28 years on active duty in the U.S. Coast Guard and retired at the rank of captain. Dr. Smith earned a Ph.D. in Psychology and a Master of Science in Industrial/Organizational Psychology from Capela University, a Master of Science in Instruction & Performance Technology from Boise State University, and a Bachelor of Science in Mass Communications from West Virginia State University. Additionally, he is a 2013 Boys and Girls Club of America Alumni Hall of Fame Inductee and a 2014 West Virginia State University Army R.O.T.C. Hall of Fame Inductee. About Amentum Amentum is a premier global technical and engineering services partner supporting critical programs of national significance across defense, security, intelligence, energy and environment. We draw from a century-old heritage of operational excellence, mission focus, and successful execution underpinned by a strong culture of safety and ethics. Headquartered in Germantown, Md., we employ more than 34,000 people in all 50 states and perform work in 105 foreign countries and territories. Visit us at amentum.com to explore how we deliver excellence for our customers most vital missions. Contacts: For Amentum: Christine Fuentes +1 (540) 935-9597 christine.fuentes@amentum.com Follow @Amentum_corp on Twitter\n"
     ]
    }
   ],
   "source": [
    "def see_data(iloc_no=random.randint(0,len(temp_df))-1):\n",
    "    print(temp_df.iloc[iloc_no]['date'],temp_df.iloc[iloc_no]['title'])\n",
    "    print(f\"\\n{temp_df.iloc[iloc_no]['author']} {temp_df.iloc[iloc_no]['url']}\")\n",
    "#     urllib.request.urlretrieve(temp_df.iloc[iloc_no]['thumbnail'], \"temp.jpg\")\n",
    "#     display(Image.open(\"temp.jpg\"))\n",
    "    print(f\"\\n{temp_df.iloc[iloc_no]['article']}\")\n",
    "\n",
    "see_data()"
   ]
  },
  {
   "cell_type": "code",
   "execution_count": 9,
   "id": "6faaba96",
   "metadata": {
    "ExecuteTime": {
     "end_time": "2022-06-20T13:11:09.512062Z",
     "start_time": "2022-06-20T13:11:09.464803Z"
    },
    "code_folding": [
     0
    ]
   },
   "outputs": [],
   "source": [
    "#to csv\n",
    "temp_df.to_csv(f'{SITE_NAME} news.csv',index = False)\n",
    "\n",
    "#to json\n",
    "temp_df.to_json(f'{SITE_NAME} news.json')"
   ]
  },
  {
   "cell_type": "code",
   "execution_count": 10,
   "id": "b5c8e2e8",
   "metadata": {
    "ExecuteTime": {
     "end_time": "2022-06-20T13:11:10.683280Z",
     "start_time": "2022-06-20T13:11:10.666290Z"
    },
    "code_folding": [
     0
    ]
   },
   "outputs": [
    {
     "name": "stdout",
     "output_type": "stream",
     "text": [
      "No trash found\n"
     ]
    }
   ],
   "source": [
    "#to get rid of unwanteed trash created by the model use \n",
    "def remove_trash():\n",
    "    try:\n",
    "        try:\n",
    "            os.remove(\"temp.pdf\")\n",
    "        except:\n",
    "            pass\n",
    "        os.remove(\"temp.jpg\")\n",
    "        print(\"Trash removed successfully\")\n",
    "    except:\n",
    "        print(\"No trash found\")\n",
    "\n",
    "remove_trash()"
   ]
  },
  {
   "cell_type": "code",
   "execution_count": 11,
   "id": "401f3f16",
   "metadata": {
    "ExecuteTime": {
     "end_time": "2022-06-20T13:11:20.172001Z",
     "start_time": "2022-06-20T13:11:19.305965Z"
    }
   },
   "outputs": [],
   "source": [
    "driver.quit()"
   ]
  }
 ],
 "metadata": {
  "kernelspec": {
   "display_name": "Python 3 (ipykernel)",
   "language": "python",
   "name": "python3"
  },
  "language_info": {
   "codemirror_mode": {
    "name": "ipython",
    "version": 3
   },
   "file_extension": ".py",
   "mimetype": "text/x-python",
   "name": "python",
   "nbconvert_exporter": "python",
   "pygments_lexer": "ipython3",
   "version": "3.9.7"
  },
  "toc": {
   "base_numbering": 1,
   "nav_menu": {},
   "number_sections": true,
   "sideBar": true,
   "skip_h1_title": false,
   "title_cell": "Table of Contents",
   "title_sidebar": "Contents",
   "toc_cell": false,
   "toc_position": {},
   "toc_section_display": true,
   "toc_window_display": false
  }
 },
 "nbformat": 4,
 "nbformat_minor": 5
}
