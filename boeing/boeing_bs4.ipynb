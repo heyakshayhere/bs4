{
 "cells": [
  {
   "cell_type": "markdown",
   "id": "b9b889f0",
   "metadata": {},
   "source": [
    "**Url**\n",
    "\n",
    "https://boeing.mediaroom.com/news-releases-statements?l=100&o=200"
   ]
  },
  {
   "cell_type": "code",
   "execution_count": 1,
   "id": "0a05150c",
   "metadata": {
    "ExecuteTime": {
     "end_time": "2022-06-05T12:45:49.078977Z",
     "start_time": "2022-06-05T12:45:43.904646Z"
    }
   },
   "outputs": [
    {
     "name": "stderr",
     "output_type": "stream",
     "text": [
      "D:\\Anaconda\\envs\\gpu_16march2022\\lib\\site-packages\\tqdm\\auto.py:22: TqdmWarning: IProgress not found. Please update jupyter and ipywidgets. See https://ipywidgets.readthedocs.io/en/stable/user_install.html\n",
      "  from .autonotebook import tqdm as notebook_tqdm\n",
      "CUDA not available - defaulting to CPU. Note: This module is much faster with a GPU.\n"
     ]
    },
    {
     "data": {
      "application/javascript": [
       "IPython.notebook.set_autosave_interval(1000)"
      ]
     },
     "metadata": {},
     "output_type": "display_data"
    },
    {
     "name": "stdout",
     "output_type": "stream",
     "text": [
      "Autosaving every 1 seconds\n"
     ]
    }
   ],
   "source": [
    "import os \n",
    "os.environ['KMP_DUPLICATE_LIB_OK']='True'\n",
    "\n",
    "import pandas as pd,requests,bs4,re,time,io,pytesseract,easyocr,random\n",
    "from pdfminer.high_level import extract_text\n",
    "from pathlib import Path\n",
    "from pdf2image import convert_from_path\n",
    "from selenium.webdriver.common.by import By\n",
    "from goose3 import Goose\n",
    "from datetime import datetime\n",
    "from bs4 import BeautifulSoup\n",
    "from selenium import webdriver\n",
    "\n",
    "reader = easyocr.Reader(['en'])\n",
    "\n",
    "import warnings\n",
    "warnings.filterwarnings(\"ignore\")\n",
    "\n",
    "%autosave 1"
   ]
  },
  {
   "cell_type": "code",
   "execution_count": 2,
   "id": "8adbfa7f",
   "metadata": {
    "ExecuteTime": {
     "end_time": "2022-06-05T12:45:49.093949Z",
     "start_time": "2022-06-05T12:45:49.079947Z"
    }
   },
   "outputs": [],
   "source": [
    "SITE_NAME='Boeing'\n",
    "\n",
    "DOMAIN = \"https://boeing.mediaroom.com\"\n",
    "\n",
    "SITE_LINK=\"https://boeing.mediaroom.com/news-releases-statements?l=100&o=0\""
   ]
  },
  {
   "cell_type": "code",
   "execution_count": 3,
   "id": "18807c45",
   "metadata": {
    "ExecuteTime": {
     "end_time": "2022-06-05T12:45:49.108869Z",
     "start_time": "2022-06-05T12:45:49.096903Z"
    }
   },
   "outputs": [],
   "source": [
    "def parse_webpage_bs(search_url):\n",
    "    \n",
    "    headers = {\n",
    "        \"User-Agent\": \"Mozilla/5.0 (Windows NT 10.0; Win64; x64; rv:90.0) Gecko/20100101 Firefox/90.0\"}\n",
    "    try:\n",
    "        site_request = requests.get(search_url, headers=headers, timeout=10)\n",
    "    except requests.exceptions.RequestException as e:\n",
    "        print(e)\n",
    "        site_request = None\n",
    "    if site_request != None and site_request.status_code==200:\n",
    "        site_soup = bs4.BeautifulSoup(site_request.content, \"lxml\")\n",
    "    else:\n",
    "        site_soup = None\n",
    "    return site_soup\n",
    "\n",
    "def remove_esc_chars(text):\n",
    "    return text.replace(\"\\n\", \" \").replace(\"\\t\", \" \").replace(\"\\r\", \" \")"
   ]
  },
  {
   "cell_type": "code",
   "execution_count": 4,
   "id": "4eaf2d9d",
   "metadata": {
    "ExecuteTime": {
     "end_time": "2022-06-05T12:45:49.124827Z",
     "start_time": "2022-06-05T12:45:49.110865Z"
    }
   },
   "outputs": [],
   "source": [
    "def get_text(link):\n",
    "    g = Goose()\n",
    "    article_extract = g.extract(url=link)\n",
    "    article = remove_esc_chars(article_extract.cleaned_text)\n",
    "    meta_data = remove_esc_chars(article_extract.meta_description)\n",
    "    whole_data = meta_data+article\n",
    "    text = whole_data.strip()\n",
    "    \n",
    "    if len(text) < 10:\n",
    "        try:\n",
    "            response = requests.get(link)\n",
    "            text = remove_esc_chars(extract_text(io.BytesIO(response.content)))\n",
    "\n",
    "            if len(text) < 10:\n",
    "                texts = \"\"\n",
    "                r = requests.get(link)\n",
    "                filename = Path('temp.pdf')\n",
    "                filename.write_bytes(r.content)\n",
    "\n",
    "                pages = convert_from_path('temp.pdf', 500)\n",
    "                for x in pages:\n",
    "                    x.save(\"temp.jpg\")\n",
    "                    output = reader.readtext(\"temp.jpg\")\n",
    "                    for o in output:\n",
    "                        texts += o[1]\n",
    "\n",
    "                text = remove_esc_chars(texts)\n",
    "        except:\n",
    "            text = \"\"\n",
    "    \n",
    "    return text"
   ]
  },
  {
   "cell_type": "code",
   "execution_count": 5,
   "id": "aa0ac663",
   "metadata": {
    "ExecuteTime": {
     "end_time": "2022-06-05T12:46:42.533122Z",
     "start_time": "2022-06-05T12:45:49.128822Z"
    },
    "scrolled": true
   },
   "outputs": [
    {
     "name": "stdout",
     "output_type": "stream",
     "text": [
      "Jun 1, 2022 Boeing Teams with Canadian Industry to Offer P-8A Poseidon\n",
      "Jun 1, 2022 Boeing Statement on Germany’s STH Heavy-Lift Helicopter Program\n",
      "May 25, 2022 Boeing, NASA Complete First Starliner Space Station Flight Test\n",
      "May 25, 2022 Boeing Starts New A-10 Wing Deliveries to U.S. Air Force\n",
      "May 25, 2022 Boeing and Ethiopian Airlines Announce Order for Five 777 Freighters\n",
      "May 23, 2022 Boeing President and CEO to Speak at Bernstein Strategic Decisions Conference June 3\n",
      "May 20, 2022 Boeing’s Starliner Spacecraft Completes Successful Docking to Space Station\n",
      "May 20, 2022 Boeing Business Jets Names Pearson to Lead VIP Jet Sales\n",
      "May 19, 2022 Boeing Starliner En Route to International Space Station\n",
      "May 19, 2022 International Airlines Group Finalizes Agreement for Up to 150 737 Jets\n",
      "Oct 28, 2021 Boeing Delivers First KC-46A Tanker to Japan\n",
      "Oct 28, 2021 Boeing Breaks Ground for New Maintenance, Repair & Overhaul Facility in Jacksonville\n",
      "Oct 27, 2021 Boeing CEO Updates Employees on Third-Quarter Results\n",
      "Oct 27, 2021 Boeing Reports Third-Quarter Results\n",
      "Oct 27, 2021 Boeing Projects Demand for 1,540 New Airplanes in the Russia, Ukraine and CIS Aviation Market Through 2040\n",
      "Oct 26, 2021 Aviation Industry Chief Technology Officers Issue Joint Call to Action to Deliver Sustainable Aviation Plans\n",
      "Oct 21, 2021 Boeing Forecasts Africa’s 20-year Commercial Aviation Market Opportunity Valued at Nearly $400 Billion\n",
      "Oct 20, 2021 Boeing Forecasts 20-year Middle East Commercial Jet and Services Market Valued at more than $1.4 Trillion\n",
      "Oct 18, 2021 Boeing Global Services CEO Ted Colbert Named Black Engineer of the Year\n",
      "Oct 18, 2021 Indian Navy Expands Maritime Reconnaissance Capabilities with Delivery of 11th P-8I\n"
     ]
    }
   ],
   "source": [
    "article_list = []\n",
    "pagination = 0\n",
    "last_page = 11000\n",
    "\n",
    "last_page = 200\n",
    "\n",
    "while pagination < last_page:\n",
    "    url = f\"https://boeing.mediaroom.com/news-releases-statements?l=100&o={pagination}\"\n",
    "    soup = parse_webpage_bs(url)\n",
    "    if soup != None:\n",
    "        elements = soup.findAll('li',{'class' :'wd_item'})\n",
    "        for element in elements[:10]:\n",
    "            \n",
    "            #title,published_date,link,thumbnail,author\n",
    "            title = element.find('div',{'class' :'wd_title'}).text.strip()\n",
    "            published_date = element.find('div',{'class' :'wd_date'}).text.strip()\n",
    "            link = element.find('div',{'class' :'wd_tooltip-trigger'}).find('a')['href']\n",
    "            author = SITE_NAME\n",
    "            \n",
    "            try:\n",
    "                thumbnail = DOMAIN + element.find('div',{'class' :'wd_thumbnail'}).find('img')['src']\n",
    "            except:\n",
    "                thumbnail = \"https://upload.wikimedia.org/wikipedia/commons/thumb/4/4f/Boeing_full_logo.svg/1920px-Boeing_full_logo.svg.png\"\n",
    "            \n",
    "            #text \n",
    "            text = get_text(link)\n",
    "            \n",
    "            article = (published_date.strip(),title.strip(),text.strip(),link.strip(),thumbnail.strip(),author.strip())\n",
    "            article_list.append(article)\n",
    "            print(published_date,title)\n",
    "            \n",
    "    pagination +=100"
   ]
  },
  {
   "cell_type": "code",
   "execution_count": 6,
   "id": "e79e4915",
   "metadata": {
    "ExecuteTime": {
     "end_time": "2022-06-05T12:46:42.565031Z",
     "start_time": "2022-06-05T12:46:42.535084Z"
    }
   },
   "outputs": [
    {
     "data": {
      "text/html": [
       "<div>\n",
       "<style scoped>\n",
       "    .dataframe tbody tr th:only-of-type {\n",
       "        vertical-align: middle;\n",
       "    }\n",
       "\n",
       "    .dataframe tbody tr th {\n",
       "        vertical-align: top;\n",
       "    }\n",
       "\n",
       "    .dataframe thead th {\n",
       "        text-align: right;\n",
       "    }\n",
       "</style>\n",
       "<table border=\"1\" class=\"dataframe\">\n",
       "  <thead>\n",
       "    <tr style=\"text-align: right;\">\n",
       "      <th></th>\n",
       "      <th>date</th>\n",
       "      <th>title</th>\n",
       "      <th>article</th>\n",
       "      <th>url</th>\n",
       "      <th>thumbnail</th>\n",
       "      <th>author</th>\n",
       "    </tr>\n",
       "  </thead>\n",
       "  <tbody>\n",
       "    <tr>\n",
       "      <th>0</th>\n",
       "      <td>Jun 1, 2022</td>\n",
       "      <td>Boeing Teams with Canadian Industry to Offer P...</td>\n",
       "      <td>OTTAWA, Ontario, June 1, 2022 – Boeing [NYSE: ...</td>\n",
       "      <td>https://boeing.mediaroom.com/news-releases-sta...</td>\n",
       "      <td>https://boeing.mediaroom.com/file.php/99173/32...</td>\n",
       "      <td>Boeing</td>\n",
       "    </tr>\n",
       "    <tr>\n",
       "      <th>1</th>\n",
       "      <td>Jun 1, 2022</td>\n",
       "      <td>Boeing Statement on Germany’s STH Heavy-Lift H...</td>\n",
       "      <td>BERLIN, June 1, 2022 — The German Government t...</td>\n",
       "      <td>https://boeing.mediaroom.com/news-releases-sta...</td>\n",
       "      <td>https://boeing.mediaroom.com/file.php/99170/32...</td>\n",
       "      <td>Boeing</td>\n",
       "    </tr>\n",
       "    <tr>\n",
       "      <th>2</th>\n",
       "      <td>May 25, 2022</td>\n",
       "      <td>Boeing, NASA Complete First Starliner Space St...</td>\n",
       "      <td>WHITE SANDS, NEW MEXICO, May 25, 2022 — Boeing...</td>\n",
       "      <td>https://boeing.mediaroom.com/news-releases-sta...</td>\n",
       "      <td>https://boeing.mediaroom.com/file.php/99100/St...</td>\n",
       "      <td>Boeing</td>\n",
       "    </tr>\n",
       "    <tr>\n",
       "      <th>3</th>\n",
       "      <td>May 25, 2022</td>\n",
       "      <td>Boeing Starts New A-10 Wing Deliveries to U.S....</td>\n",
       "      <td>OGDEN, Utah, May 25, 2022 — Boeing [NYSE: BA],...</td>\n",
       "      <td>https://boeing.mediaroom.com/news-releases-sta...</td>\n",
       "      <td>https://upload.wikimedia.org/wikipedia/commons...</td>\n",
       "      <td>Boeing</td>\n",
       "    </tr>\n",
       "    <tr>\n",
       "      <th>4</th>\n",
       "      <td>May 25, 2022</td>\n",
       "      <td>Boeing and Ethiopian Airlines Announce Order f...</td>\n",
       "      <td>, /PRNewswire/ -- Boeing [NYSE:BA] and Ethiopi...</td>\n",
       "      <td>https://boeing.mediaroom.com/2022-05-25-Boeing...</td>\n",
       "      <td>https://boeing.mediaroom.comhttps://mma.prnews...</td>\n",
       "      <td>Boeing</td>\n",
       "    </tr>\n",
       "  </tbody>\n",
       "</table>\n",
       "</div>"
      ],
      "text/plain": [
       "           date                                              title  \\\n",
       "0   Jun 1, 2022  Boeing Teams with Canadian Industry to Offer P...   \n",
       "1   Jun 1, 2022  Boeing Statement on Germany’s STH Heavy-Lift H...   \n",
       "2  May 25, 2022  Boeing, NASA Complete First Starliner Space St...   \n",
       "3  May 25, 2022  Boeing Starts New A-10 Wing Deliveries to U.S....   \n",
       "4  May 25, 2022  Boeing and Ethiopian Airlines Announce Order f...   \n",
       "\n",
       "                                             article  \\\n",
       "0  OTTAWA, Ontario, June 1, 2022 – Boeing [NYSE: ...   \n",
       "1  BERLIN, June 1, 2022 — The German Government t...   \n",
       "2  WHITE SANDS, NEW MEXICO, May 25, 2022 — Boeing...   \n",
       "3  OGDEN, Utah, May 25, 2022 — Boeing [NYSE: BA],...   \n",
       "4  , /PRNewswire/ -- Boeing [NYSE:BA] and Ethiopi...   \n",
       "\n",
       "                                                 url  \\\n",
       "0  https://boeing.mediaroom.com/news-releases-sta...   \n",
       "1  https://boeing.mediaroom.com/news-releases-sta...   \n",
       "2  https://boeing.mediaroom.com/news-releases-sta...   \n",
       "3  https://boeing.mediaroom.com/news-releases-sta...   \n",
       "4  https://boeing.mediaroom.com/2022-05-25-Boeing...   \n",
       "\n",
       "                                           thumbnail  author  \n",
       "0  https://boeing.mediaroom.com/file.php/99173/32...  Boeing  \n",
       "1  https://boeing.mediaroom.com/file.php/99170/32...  Boeing  \n",
       "2  https://boeing.mediaroom.com/file.php/99100/St...  Boeing  \n",
       "3  https://upload.wikimedia.org/wikipedia/commons...  Boeing  \n",
       "4  https://boeing.mediaroom.comhttps://mma.prnews...  Boeing  "
      ]
     },
     "execution_count": 6,
     "metadata": {},
     "output_type": "execute_result"
    }
   ],
   "source": [
    "temp_df = pd.DataFrame(article_list,columns=['date','title','article','url','thumbnail','author'])\n",
    "temp_df.head()"
   ]
  },
  {
   "cell_type": "code",
   "execution_count": 7,
   "id": "829f7133",
   "metadata": {
    "ExecuteTime": {
     "end_time": "2022-06-05T12:46:42.580961Z",
     "start_time": "2022-06-05T12:46:42.566002Z"
    }
   },
   "outputs": [
    {
     "name": "stdout",
     "output_type": "stream",
     "text": [
      "May 25, 2022 Boeing and Ethiopian Airlines Announce Order for Five 777 Freighters\n",
      "\n",
      "Boeing https://boeing.mediaroom.com/2022-05-25-Boeing-and-Ethiopian-Airlines-Announce-Order-for-Five-777-Freighters\n",
      "\n",
      ", /PRNewswire/ -- Boeing [NYSE:BA] and Ethiopian Airlines today announced the carrier is further expanding its all-Boeing freighter fleet with an order for five 777 Freighters. The order is currently unidentified on Boeing's orders and deliveries website.  \"The addition of these five 777 Freighters into our cargo fleet will enable us to meet the growing demand in our cargo operation. While cementing our partnership with Boeing with new orders, the growth of our freighter fleet takes the capacity and efficiency of our shipment service to the next level,\" said Ethiopian Airlines Group CEO Mr. . \"We always strive to serve our customers with the latest technology aircraft the aviation industry could offer. Our cargo terminal is largest, coupled with fuel-efficient freighters and well-trained cargo handling professionals will enable our customers get the best quality shipment service. Customers can rely on Ethiopian for wide-ranging cargo services across five continents.\"  Boeing's market-leading 777 Freighter is the world's largest, longest-range and most capable twin-engine freighter flying with 17% lower fuel use and emissions to prior airplanes. Ethiopian Airlines operates a fleet of nine 777 Freighters, utilizing the model's range of 4,970 nautical miles (9,200 km) and maximum structural payload of 107 tonnes (235,900 lb) to connect with 66 dedicated cargo centers throughout , , the and the Americas.  \"Ethiopian Airlines' all-Boeing freighter fleet provides them with unrivalled capability and flexibility as largest cargo operator,\" said , Boeing's senior vice president of Commercial Sales and Marketing. \"These additional 777 Freighters will enable Ethiopian to capitalize on near-term cargo demand, while positioning the airline for further expansion in the future.\"  In early , Boeing and Ethiopian Airlines also announced the signing of a Memorandum of Understanding for the carrier's intent to purchase five 777-8 Freighters, the industry's newest, most capable and most fuel-efficient twin-engine freighter. Ethiopian Airlines also operates three 737-800 converted freighters, as well as a combined passenger fleet of more than 80 Boeing jets, including 737s, 767s, 777s and 787s.  As a leading global aerospace company, Boeing develops, manufactures and services commercial airplanes, defense products and space systems for customers in more than 150 countries. As a top U.S. exporter, the company leverages the talents of a global supplier base to advance economic opportunity, sustainability and community impact. Boeing's diverse team is committed to innovating for the future, leading with sustainability, and cultivating a culture based on the company's core values of safety, quality and integrity. Join our team and find your purpose at boeing.com/careers.  Learn more about Ethiopian Airlines at www.ethiopianairlines.com\n",
      "\n",
      "https://boeing.mediaroom.comhttps://mma.prnewswire.com/media/1825499/325285_ETH_777F_SLD17_Away_MR_0222.jpg?p=thumbnail\n"
     ]
    }
   ],
   "source": [
    "def see_data(iloc_no=random.randint(0,len(temp_df))-1):\n",
    "    print(temp_df.iloc[iloc_no]['date'],temp_df.iloc[iloc_no]['title'])\n",
    "    print(f\"\\n{temp_df.iloc[iloc_no]['author']} {temp_df.iloc[iloc_no]['url']}\")\n",
    "    print(f\"\\n{temp_df.iloc[iloc_no]['article']}\")\n",
    "    print(f\"\\n{temp_df.iloc[iloc_no]['thumbnail']}\")\n",
    "\n",
    "see_data()"
   ]
  },
  {
   "cell_type": "code",
   "execution_count": 8,
   "id": "c42bf478",
   "metadata": {
    "ExecuteTime": {
     "end_time": "2022-06-05T12:46:42.642822Z",
     "start_time": "2022-06-05T12:46:42.583955Z"
    }
   },
   "outputs": [],
   "source": [
    "#to csv\n",
    "temp_df.to_csv(f'{SITE_NAME} news.csv',index = False)\n",
    "\n",
    "#to json\n",
    "temp_df.to_json(f'{SITE_NAME} news.json')"
   ]
  },
  {
   "cell_type": "code",
   "execution_count": 9,
   "id": "121fe961",
   "metadata": {
    "ExecuteTime": {
     "end_time": "2022-06-05T12:46:42.657794Z",
     "start_time": "2022-06-05T12:46:42.645790Z"
    }
   },
   "outputs": [
    {
     "name": "stdout",
     "output_type": "stream",
     "text": [
      "No trash found\n"
     ]
    }
   ],
   "source": [
    "#to get rid of unwanteed trash created by the model use \n",
    "def remove_trash():\n",
    "    try:\n",
    "        os.remove(\"temp.jpg\")\n",
    "        os.remove(\"temp.pdf\")\n",
    "        print(\"Trash removed successfully\")\n",
    "    except:\n",
    "        print(\"No trash found\")\n",
    "\n",
    "remove_trash()"
   ]
  }
 ],
 "metadata": {
  "kernelspec": {
   "display_name": "Python 3 (ipykernel)",
   "language": "python",
   "name": "python3"
  },
  "language_info": {
   "codemirror_mode": {
    "name": "ipython",
    "version": 3
   },
   "file_extension": ".py",
   "mimetype": "text/x-python",
   "name": "python",
   "nbconvert_exporter": "python",
   "pygments_lexer": "ipython3",
   "version": "3.9.7"
  },
  "toc": {
   "base_numbering": 1,
   "nav_menu": {},
   "number_sections": true,
   "sideBar": true,
   "skip_h1_title": false,
   "title_cell": "Table of Contents",
   "title_sidebar": "Contents",
   "toc_cell": false,
   "toc_position": {},
   "toc_section_display": true,
   "toc_window_display": false
  }
 },
 "nbformat": 4,
 "nbformat_minor": 5
}
