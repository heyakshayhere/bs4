{
 "cells": [
  {
   "cell_type": "markdown",
   "id": "14be1afd",
   "metadata": {},
   "source": [
    "https://news.adobe.com/news/default.aspx"
   ]
  },
  {
   "cell_type": "code",
   "execution_count": 1,
   "id": "486539c3",
   "metadata": {
    "ExecuteTime": {
     "end_time": "2022-05-10T11:40:18.180522Z",
     "start_time": "2022-05-10T11:40:17.499584Z"
    }
   },
   "outputs": [
    {
     "data": {
      "application/javascript": [
       "IPython.notebook.set_autosave_interval(1000)"
      ]
     },
     "metadata": {},
     "output_type": "display_data"
    },
    {
     "name": "stdout",
     "output_type": "stream",
     "text": [
      "Autosaving every 1 seconds\n"
     ]
    }
   ],
   "source": [
    "import pandas as pd,requests,bs4\n",
    "from bs4 import BeautifulSoup\n",
    "import warnings\n",
    "warnings.filterwarnings(\"ignore\")\n",
    "\n",
    "%autosave 1"
   ]
  },
  {
   "cell_type": "code",
   "execution_count": 2,
   "id": "02b3ab9f",
   "metadata": {
    "ExecuteTime": {
     "end_time": "2022-05-10T11:40:19.780394Z",
     "start_time": "2022-05-10T11:40:18.182490Z"
    },
    "scrolled": true
   },
   "outputs": [
    {
     "name": "stdout",
     "output_type": "stream",
     "text": [
      "0 pages remaining..\r"
     ]
    }
   ],
   "source": [
    "titles,thumbnails,hrefs = [],[],[]\n",
    "\n",
    "range_count = 2023\n",
    "\n",
    "for x in range(2021,range_count):\n",
    "    try:\n",
    "        api = f\"https://news.adobe.com/feed/PressRelease.svc/GetPressReleaseList?apiKey=BF185719B0464B3CB809D23926182246&LanguageId=1&bodyType=0&pressReleaseDateFilter=3&categoryId=1cb807d2-208f-4bc3-9133-6a9ad45ac3b0&pageSize=-1&pageNumber=0&tagList=&includeTags=true&year={x}&excludeSelection=1\"\n",
    "        req = requests.get(api)\n",
    "        json = req.json()\n",
    "        try:\n",
    "            for i in range(100):\n",
    "                data = json['GetPressReleaseListResult'][i]\n",
    "                title = data[\"Headline\"]\n",
    "                titles.append(title)\n",
    "                href = \"https://news.adobe.com/\" + data[\"LinkToDetailPage\"]\n",
    "                hrefs.append(href)\n",
    "                thumbnail = data[\"ThumbnailPath\"]\n",
    "                thumbnails.append(thumbnail)\n",
    "        except:\n",
    "            pass\n",
    "    except:\n",
    "        pass\n",
    "    print(str(range_count-(x+1)) + \" pages remaining..\",end=\"\\r\")"
   ]
  },
  {
   "cell_type": "code",
   "execution_count": 3,
   "id": "79b1a68a",
   "metadata": {
    "ExecuteTime": {
     "end_time": "2022-05-10T11:40:19.796352Z",
     "start_time": "2022-05-10T11:40:19.782371Z"
    }
   },
   "outputs": [],
   "source": [
    "def parse_webpage_bs(search_url):\n",
    "    \n",
    "    headers = {\n",
    "        \"User-Agent\": \"Mozilla/5.0 (Windows NT 10.0; Win64; x64; rv:90.0) Gecko/20100101 Firefox/90.0\"}\n",
    "    try:\n",
    "        site_request = requests.get(search_url, headers=headers, timeout=10)\n",
    "    except requests.exceptions.RequestException as e:\n",
    "        print(e)\n",
    "        site_request = None\n",
    "    if site_request != None and site_request.status_code==200:\n",
    "        site_soup = bs4.BeautifulSoup(site_request.content, \"lxml\")\n",
    "    else:\n",
    "        site_soup = None\n",
    "    return site_soup"
   ]
  },
  {
   "cell_type": "code",
   "execution_count": 4,
   "id": "d85433ad",
   "metadata": {
    "ExecuteTime": {
     "end_time": "2022-05-10T11:40:53.919152Z",
     "start_time": "2022-05-10T11:40:19.799308Z"
    },
    "scrolled": true
   },
   "outputs": [
    {
     "name": "stdout",
     "output_type": "stream",
     "text": [
      "0 url remaining...\r"
     ]
    }
   ],
   "source": [
    "dates,articles = [],[]\n",
    "range_count = len(href)\n",
    "\n",
    "for number,link in enumerate(hrefs[:range_count]):\n",
    "    soup = parse_webpage_bs(link)\n",
    "\n",
    "    date_containers = soup.findAll('div',{'class' :'module_date-time'})\n",
    "\n",
    "    for d in date_containers:\n",
    "        date = (d.text).replace(\"\\n\",\"\")\n",
    "        dates.append(date)\n",
    "    \n",
    "    art_containers = soup.findAll('div',{'class' :'module_body'})\n",
    "\n",
    "    for art in art_containers:\n",
    "        article = art.text\n",
    "        articles.append(article)\n",
    "\n",
    "    print(str(len(hrefs)-(number+1)) + \" url remaining..\",end=\"\\r\")"
   ]
  },
  {
   "cell_type": "code",
   "execution_count": 5,
   "id": "2ffd0561",
   "metadata": {
    "ExecuteTime": {
     "end_time": "2022-05-10T11:40:53.951027Z",
     "start_time": "2022-05-10T11:40:53.921038Z"
    },
    "scrolled": false
   },
   "outputs": [
    {
     "data": {
      "text/html": [
       "<div>\n",
       "<style scoped>\n",
       "    .dataframe tbody tr th:only-of-type {\n",
       "        vertical-align: middle;\n",
       "    }\n",
       "\n",
       "    .dataframe tbody tr th {\n",
       "        vertical-align: top;\n",
       "    }\n",
       "\n",
       "    .dataframe thead th {\n",
       "        text-align: right;\n",
       "    }\n",
       "</style>\n",
       "<table border=\"1\" class=\"dataframe\">\n",
       "  <thead>\n",
       "    <tr style=\"text-align: right;\">\n",
       "      <th></th>\n",
       "      <th>date</th>\n",
       "      <th>title</th>\n",
       "      <th>article</th>\n",
       "      <th>url</th>\n",
       "      <th>thumbnail</th>\n",
       "    </tr>\n",
       "  </thead>\n",
       "  <tbody>\n",
       "    <tr>\n",
       "      <th>0</th>\n",
       "      <td>Thursday, December 16, 2021 08:05 AM</td>\n",
       "      <td>Adobe Reports Record Q4 and Fiscal 2021 Revenu...</td>\n",
       "      <td>\\n\\nCompany reports first $3 billion Digital M...</td>\n",
       "      <td>https://news.adobe.com//news/news-details/2021...</td>\n",
       "      <td>https://s23.q4cdn.com/979560357/files/Newsroom...</td>\n",
       "    </tr>\n",
       "    <tr>\n",
       "      <th>1</th>\n",
       "      <td>Thursday, December 16, 2021 08:05 AM</td>\n",
       "      <td>Adobe Announces Changes to Executive Leadershi...</td>\n",
       "      <td>\\nSAN JOSE, Calif.--(BUSINESS WIRE)-- \\r\\nAdob...</td>\n",
       "      <td>https://news.adobe.com//news/news-details/2021...</td>\n",
       "      <td></td>\n",
       "    </tr>\n",
       "    <tr>\n",
       "      <th>2</th>\n",
       "      <td>Wednesday, December 15, 2021 04:45 PM</td>\n",
       "      <td>Adobe Named a Leader in World’s First Major Ev...</td>\n",
       "      <td>\\nIDC MarketScape: Worldwide Customer Data Pla...</td>\n",
       "      <td>https://news.adobe.com//news/news-details/2021...</td>\n",
       "      <td>https://s23.q4cdn.com/979560357/files/NR-Heade...</td>\n",
       "    </tr>\n",
       "    <tr>\n",
       "      <th>3</th>\n",
       "      <td>Monday, December 13, 2021 11:00 AM</td>\n",
       "      <td>Adobe Introduces Creative Cloud Express</td>\n",
       "      <td>\\n\\n\\nNew unified web and mobile product empow...</td>\n",
       "      <td>https://news.adobe.com//news/news-details/2021...</td>\n",
       "      <td>https://s23.q4cdn.com/979560357/files/AdobeNew...</td>\n",
       "    </tr>\n",
       "    <tr>\n",
       "      <th>4</th>\n",
       "      <td>Thursday, December 09, 2021 08:00 AM</td>\n",
       "      <td>Adobe Digital Price Index: Online Inflation Hi...</td>\n",
       "      <td>\\n\\n\\nOnline prices increased 3.5% year-over-y...</td>\n",
       "      <td>https://news.adobe.com//news/news-details/2021...</td>\n",
       "      <td>https://s23.q4cdn.com/979560357/files/NR-Heade...</td>\n",
       "    </tr>\n",
       "  </tbody>\n",
       "</table>\n",
       "</div>"
      ],
      "text/plain": [
       "                                    date  \\\n",
       "0   Thursday, December 16, 2021 08:05 AM   \n",
       "1   Thursday, December 16, 2021 08:05 AM   \n",
       "2  Wednesday, December 15, 2021 04:45 PM   \n",
       "3     Monday, December 13, 2021 11:00 AM   \n",
       "4   Thursday, December 09, 2021 08:00 AM   \n",
       "\n",
       "                                               title  \\\n",
       "0  Adobe Reports Record Q4 and Fiscal 2021 Revenu...   \n",
       "1  Adobe Announces Changes to Executive Leadershi...   \n",
       "2  Adobe Named a Leader in World’s First Major Ev...   \n",
       "3            Adobe Introduces Creative Cloud Express   \n",
       "4  Adobe Digital Price Index: Online Inflation Hi...   \n",
       "\n",
       "                                             article  \\\n",
       "0  \\n\\nCompany reports first $3 billion Digital M...   \n",
       "1  \\nSAN JOSE, Calif.--(BUSINESS WIRE)-- \\r\\nAdob...   \n",
       "2  \\nIDC MarketScape: Worldwide Customer Data Pla...   \n",
       "3  \\n\\n\\nNew unified web and mobile product empow...   \n",
       "4  \\n\\n\\nOnline prices increased 3.5% year-over-y...   \n",
       "\n",
       "                                                 url  \\\n",
       "0  https://news.adobe.com//news/news-details/2021...   \n",
       "1  https://news.adobe.com//news/news-details/2021...   \n",
       "2  https://news.adobe.com//news/news-details/2021...   \n",
       "3  https://news.adobe.com//news/news-details/2021...   \n",
       "4  https://news.adobe.com//news/news-details/2021...   \n",
       "\n",
       "                                           thumbnail  \n",
       "0  https://s23.q4cdn.com/979560357/files/Newsroom...  \n",
       "1                                                     \n",
       "2  https://s23.q4cdn.com/979560357/files/NR-Heade...  \n",
       "3  https://s23.q4cdn.com/979560357/files/AdobeNew...  \n",
       "4  https://s23.q4cdn.com/979560357/files/NR-Heade...  "
      ]
     },
     "execution_count": 5,
     "metadata": {},
     "output_type": "execute_result"
    }
   ],
   "source": [
    "#zippling the list so that it'll form the tuple\n",
    "zipped = list(zip(dates,titles,articles,hrefs,thumbnails))\n",
    "#creating dataframe \n",
    "temp_df = pd.DataFrame(zipped,columns=['date','title','article','url','thumbnail'])\n",
    "temp_df.head()"
   ]
  },
  {
   "cell_type": "code",
   "execution_count": 6,
   "id": "aa58c9e6",
   "metadata": {
    "ExecuteTime": {
     "end_time": "2022-05-10T11:40:54.028660Z",
     "start_time": "2022-05-10T11:40:53.953949Z"
    }
   },
   "outputs": [],
   "source": [
    "#to csv\n",
    "temp_df.to_csv('adobe news.csv')\n",
    "\n",
    "#to json\n",
    "temp_df.to_json('adobe news.json')"
   ]
  }
 ],
 "metadata": {
  "kernelspec": {
   "display_name": "Python 3 (ipykernel)",
   "language": "python",
   "name": "python3"
  },
  "language_info": {
   "codemirror_mode": {
    "name": "ipython",
    "version": 3
   },
   "file_extension": ".py",
   "mimetype": "text/x-python",
   "name": "python",
   "nbconvert_exporter": "python",
   "pygments_lexer": "ipython3",
   "version": "3.9.7"
  },
  "toc": {
   "base_numbering": 1,
   "nav_menu": {},
   "number_sections": true,
   "sideBar": true,
   "skip_h1_title": false,
   "title_cell": "Table of Contents",
   "title_sidebar": "Contents",
   "toc_cell": false,
   "toc_position": {},
   "toc_section_display": true,
   "toc_window_display": false
  }
 },
 "nbformat": 4,
 "nbformat_minor": 5
}
